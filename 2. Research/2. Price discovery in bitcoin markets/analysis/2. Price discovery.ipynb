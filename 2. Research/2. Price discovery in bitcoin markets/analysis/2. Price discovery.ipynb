{
 "cells": [
  {
   "cell_type": "code",
   "execution_count": 2,
   "metadata": {
    "collapsed": false
   },
   "outputs": [],
   "source": [
    "%matplotlib inline\n",
    "import pandas as pd\n",
    "import numpy as np\n",
    "from datetime import datetime as dt\n",
    "import glob\n",
    "import os\n",
    "import datetime as dt\n",
    "import matplotlib.pyplot as plt\n",
    "import pylab\n",
    "import scipy.optimize as optimize"
   ]
  },
  {
   "cell_type": "code",
   "execution_count": 3,
   "metadata": {
    "collapsed": false
   },
   "outputs": [],
   "source": [
    "data = pd.read_csv('C:/Users/Rocku/Downloads/btcnCNY.csv')\n"
   ]
  },
  {
   "cell_type": "code",
   "execution_count": 7,
   "metadata": {
    "collapsed": false
   },
   "outputs": [
    {
     "data": {
      "text/html": [
       "<div>\n",
       "<table border=\"1\" class=\"dataframe\">\n",
       "  <thead>\n",
       "    <tr style=\"text-align: right;\">\n",
       "      <th></th>\n",
       "      <th>1307942004</th>\n",
       "      <th>150.000000000000</th>\n",
       "      <th>1.000000000000</th>\n",
       "    </tr>\n",
       "  </thead>\n",
       "  <tbody>\n",
       "    <tr>\n",
       "      <th>count</th>\n",
       "      <td>6.634816e+06</td>\n",
       "      <td>6.634816e+06</td>\n",
       "      <td>6.634816e+06</td>\n",
       "    </tr>\n",
       "    <tr>\n",
       "      <th>mean</th>\n",
       "      <td>1.389225e+09</td>\n",
       "      <td>4.150735e+03</td>\n",
       "      <td>1.007247e+00</td>\n",
       "    </tr>\n",
       "    <tr>\n",
       "      <th>std</th>\n",
       "      <td>9.956811e+06</td>\n",
       "      <td>1.704927e+03</td>\n",
       "      <td>3.550520e+00</td>\n",
       "    </tr>\n",
       "    <tr>\n",
       "      <th>min</th>\n",
       "      <td>1.307943e+09</td>\n",
       "      <td>1.000000e+01</td>\n",
       "      <td>0.000000e+00</td>\n",
       "    </tr>\n",
       "    <tr>\n",
       "      <th>25%</th>\n",
       "      <td>1.385488e+09</td>\n",
       "      <td>3.189097e+03</td>\n",
       "      <td>2.000000e-02</td>\n",
       "    </tr>\n",
       "    <tr>\n",
       "      <th>50%</th>\n",
       "      <td>1.386793e+09</td>\n",
       "      <td>4.051020e+03</td>\n",
       "      <td>1.500000e-01</td>\n",
       "    </tr>\n",
       "    <tr>\n",
       "      <th>75%</th>\n",
       "      <td>1.395455e+09</td>\n",
       "      <td>5.386000e+03</td>\n",
       "      <td>8.000000e-01</td>\n",
       "    </tr>\n",
       "    <tr>\n",
       "      <th>max</th>\n",
       "      <td>1.407414e+09</td>\n",
       "      <td>7.588880e+03</td>\n",
       "      <td>7.580000e+02</td>\n",
       "    </tr>\n",
       "  </tbody>\n",
       "</table>\n",
       "</div>"
      ],
      "text/plain": [
       "         1307942004  150.000000000000  1.000000000000\n",
       "count  6.634816e+06      6.634816e+06    6.634816e+06\n",
       "mean   1.389225e+09      4.150735e+03    1.007247e+00\n",
       "std    9.956811e+06      1.704927e+03    3.550520e+00\n",
       "min    1.307943e+09      1.000000e+01    0.000000e+00\n",
       "25%    1.385488e+09      3.189097e+03    2.000000e-02\n",
       "50%    1.386793e+09      4.051020e+03    1.500000e-01\n",
       "75%    1.395455e+09      5.386000e+03    8.000000e-01\n",
       "max    1.407414e+09      7.588880e+03    7.580000e+02"
      ]
     },
     "execution_count": 7,
     "metadata": {},
     "output_type": "execute_result"
    }
   ],
   "source": [
    "data.describe()"
   ]
  },
  {
   "cell_type": "code",
   "execution_count": 4,
   "metadata": {
    "collapsed": false,
    "scrolled": false
   },
   "outputs": [
    {
     "ename": "OSError",
     "evalue": "File b'C:/Users/Rocku/Downloads/btcnCNY.csv' does not exist",
     "output_type": "error",
     "traceback": [
      "\u001b[0;31m---------------------------------------------------------------------------\u001b[0m",
      "\u001b[0;31mOSError\u001b[0m                                   Traceback (most recent call last)",
      "\u001b[0;32m<ipython-input-4-7ac657a943c4>\u001b[0m in \u001b[0;36m<module>\u001b[0;34m()\u001b[0m\n\u001b[0;32m----> 1\u001b[0;31m \u001b[0mdata\u001b[0m \u001b[1;33m=\u001b[0m \u001b[0mpd\u001b[0m\u001b[1;33m.\u001b[0m\u001b[0mread_csv\u001b[0m\u001b[1;33m(\u001b[0m\u001b[1;34m'C:/Users/Rocku/Downloads/btcnCNY.csv'\u001b[0m\u001b[1;33m)\u001b[0m\u001b[1;33m\u001b[0m\u001b[0m\n\u001b[0m\u001b[1;32m      2\u001b[0m \u001b[0mdata\u001b[0m\u001b[1;33m[\u001b[0m\u001b[1;34m'date'\u001b[0m\u001b[1;33m]\u001b[0m \u001b[1;33m=\u001b[0m \u001b[0mpd\u001b[0m\u001b[1;33m.\u001b[0m\u001b[0mto_datetime\u001b[0m\u001b[1;33m(\u001b[0m\u001b[0mdata\u001b[0m\u001b[1;33m[\u001b[0m\u001b[1;34m'date'\u001b[0m\u001b[1;33m]\u001b[0m\u001b[1;33m)\u001b[0m\u001b[1;33m\u001b[0m\u001b[0m\n\u001b[1;32m      3\u001b[0m \u001b[1;33m\u001b[0m\u001b[0m\n\u001b[1;32m      4\u001b[0m \u001b[0mdata_within\u001b[0m \u001b[1;33m=\u001b[0m \u001b[0mdata\u001b[0m\u001b[1;33m[\u001b[0m\u001b[1;33m(\u001b[0m\u001b[0mdata\u001b[0m\u001b[1;33m[\u001b[0m\u001b[1;34m'date'\u001b[0m\u001b[1;33m]\u001b[0m \u001b[1;33m>=\u001b[0m \u001b[0mdt\u001b[0m\u001b[1;33m.\u001b[0m\u001b[0mdatetime\u001b[0m\u001b[1;33m(\u001b[0m\u001b[1;36m2013\u001b[0m\u001b[1;33m,\u001b[0m\u001b[1;36m4\u001b[0m\u001b[1;33m,\u001b[0m\u001b[1;36m1\u001b[0m\u001b[1;33m)\u001b[0m\u001b[1;33m)\u001b[0m \u001b[1;33m&\u001b[0m \u001b[1;33m(\u001b[0m\u001b[0mdata\u001b[0m\u001b[1;33m[\u001b[0m\u001b[1;34m'date'\u001b[0m\u001b[1;33m]\u001b[0m \u001b[1;33m<=\u001b[0m \u001b[0mdt\u001b[0m\u001b[1;33m.\u001b[0m\u001b[0mdatetime\u001b[0m\u001b[1;33m(\u001b[0m\u001b[1;36m2015\u001b[0m\u001b[1;33m,\u001b[0m\u001b[1;36m2\u001b[0m\u001b[1;33m,\u001b[0m\u001b[1;36m25\u001b[0m\u001b[1;33m)\u001b[0m\u001b[1;33m)\u001b[0m\u001b[1;33m]\u001b[0m\u001b[1;33m\u001b[0m\u001b[0m\n\u001b[1;32m      5\u001b[0m \u001b[0mdata_within\u001b[0m\u001b[1;33m.\u001b[0m\u001b[0mindex\u001b[0m \u001b[1;33m=\u001b[0m \u001b[0mdata_within\u001b[0m\u001b[1;33m[\u001b[0m\u001b[1;34m'date'\u001b[0m\u001b[1;33m]\u001b[0m\u001b[1;33m\u001b[0m\u001b[0m\n",
      "\u001b[0;32mC:\\Users\\Rocku\\Anaconda64\\lib\\site-packages\\pandas\\io\\parsers.py\u001b[0m in \u001b[0;36mparser_f\u001b[0;34m(filepath_or_buffer, sep, delimiter, header, names, index_col, usecols, squeeze, prefix, mangle_dupe_cols, dtype, engine, converters, true_values, false_values, skipinitialspace, skiprows, skipfooter, nrows, na_values, keep_default_na, na_filter, verbose, skip_blank_lines, parse_dates, infer_datetime_format, keep_date_col, date_parser, dayfirst, iterator, chunksize, compression, thousands, decimal, lineterminator, quotechar, quoting, escapechar, comment, encoding, dialect, tupleize_cols, error_bad_lines, warn_bad_lines, skip_footer, doublequote, delim_whitespace, as_recarray, compact_ints, use_unsigned, low_memory, buffer_lines, memory_map, float_precision)\u001b[0m\n\u001b[1;32m    560\u001b[0m                     skip_blank_lines=skip_blank_lines)\n\u001b[1;32m    561\u001b[0m \u001b[1;33m\u001b[0m\u001b[0m\n\u001b[0;32m--> 562\u001b[0;31m         \u001b[1;32mreturn\u001b[0m \u001b[0m_read\u001b[0m\u001b[1;33m(\u001b[0m\u001b[0mfilepath_or_buffer\u001b[0m\u001b[1;33m,\u001b[0m \u001b[0mkwds\u001b[0m\u001b[1;33m)\u001b[0m\u001b[1;33m\u001b[0m\u001b[0m\n\u001b[0m\u001b[1;32m    563\u001b[0m \u001b[1;33m\u001b[0m\u001b[0m\n\u001b[1;32m    564\u001b[0m     \u001b[0mparser_f\u001b[0m\u001b[1;33m.\u001b[0m\u001b[0m__name__\u001b[0m \u001b[1;33m=\u001b[0m \u001b[0mname\u001b[0m\u001b[1;33m\u001b[0m\u001b[0m\n",
      "\u001b[0;32mC:\\Users\\Rocku\\Anaconda64\\lib\\site-packages\\pandas\\io\\parsers.py\u001b[0m in \u001b[0;36m_read\u001b[0;34m(filepath_or_buffer, kwds)\u001b[0m\n\u001b[1;32m    313\u001b[0m \u001b[1;33m\u001b[0m\u001b[0m\n\u001b[1;32m    314\u001b[0m     \u001b[1;31m# Create the parser.\u001b[0m\u001b[1;33m\u001b[0m\u001b[1;33m\u001b[0m\u001b[0m\n\u001b[0;32m--> 315\u001b[0;31m     \u001b[0mparser\u001b[0m \u001b[1;33m=\u001b[0m \u001b[0mTextFileReader\u001b[0m\u001b[1;33m(\u001b[0m\u001b[0mfilepath_or_buffer\u001b[0m\u001b[1;33m,\u001b[0m \u001b[1;33m**\u001b[0m\u001b[0mkwds\u001b[0m\u001b[1;33m)\u001b[0m\u001b[1;33m\u001b[0m\u001b[0m\n\u001b[0m\u001b[1;32m    316\u001b[0m \u001b[1;33m\u001b[0m\u001b[0m\n\u001b[1;32m    317\u001b[0m     \u001b[1;32mif\u001b[0m \u001b[1;33m(\u001b[0m\u001b[0mnrows\u001b[0m \u001b[1;32mis\u001b[0m \u001b[1;32mnot\u001b[0m \u001b[1;32mNone\u001b[0m\u001b[1;33m)\u001b[0m \u001b[1;32mand\u001b[0m \u001b[1;33m(\u001b[0m\u001b[0mchunksize\u001b[0m \u001b[1;32mis\u001b[0m \u001b[1;32mnot\u001b[0m \u001b[1;32mNone\u001b[0m\u001b[1;33m)\u001b[0m\u001b[1;33m:\u001b[0m\u001b[1;33m\u001b[0m\u001b[0m\n",
      "\u001b[0;32mC:\\Users\\Rocku\\Anaconda64\\lib\\site-packages\\pandas\\io\\parsers.py\u001b[0m in \u001b[0;36m__init__\u001b[0;34m(self, f, engine, **kwds)\u001b[0m\n\u001b[1;32m    643\u001b[0m             \u001b[0mself\u001b[0m\u001b[1;33m.\u001b[0m\u001b[0moptions\u001b[0m\u001b[1;33m[\u001b[0m\u001b[1;34m'has_index_names'\u001b[0m\u001b[1;33m]\u001b[0m \u001b[1;33m=\u001b[0m \u001b[0mkwds\u001b[0m\u001b[1;33m[\u001b[0m\u001b[1;34m'has_index_names'\u001b[0m\u001b[1;33m]\u001b[0m\u001b[1;33m\u001b[0m\u001b[0m\n\u001b[1;32m    644\u001b[0m \u001b[1;33m\u001b[0m\u001b[0m\n\u001b[0;32m--> 645\u001b[0;31m         \u001b[0mself\u001b[0m\u001b[1;33m.\u001b[0m\u001b[0m_make_engine\u001b[0m\u001b[1;33m(\u001b[0m\u001b[0mself\u001b[0m\u001b[1;33m.\u001b[0m\u001b[0mengine\u001b[0m\u001b[1;33m)\u001b[0m\u001b[1;33m\u001b[0m\u001b[0m\n\u001b[0m\u001b[1;32m    646\u001b[0m \u001b[1;33m\u001b[0m\u001b[0m\n\u001b[1;32m    647\u001b[0m     \u001b[1;32mdef\u001b[0m \u001b[0mclose\u001b[0m\u001b[1;33m(\u001b[0m\u001b[0mself\u001b[0m\u001b[1;33m)\u001b[0m\u001b[1;33m:\u001b[0m\u001b[1;33m\u001b[0m\u001b[0m\n",
      "\u001b[0;32mC:\\Users\\Rocku\\Anaconda64\\lib\\site-packages\\pandas\\io\\parsers.py\u001b[0m in \u001b[0;36m_make_engine\u001b[0;34m(self, engine)\u001b[0m\n\u001b[1;32m    797\u001b[0m     \u001b[1;32mdef\u001b[0m \u001b[0m_make_engine\u001b[0m\u001b[1;33m(\u001b[0m\u001b[0mself\u001b[0m\u001b[1;33m,\u001b[0m \u001b[0mengine\u001b[0m\u001b[1;33m=\u001b[0m\u001b[1;34m'c'\u001b[0m\u001b[1;33m)\u001b[0m\u001b[1;33m:\u001b[0m\u001b[1;33m\u001b[0m\u001b[0m\n\u001b[1;32m    798\u001b[0m         \u001b[1;32mif\u001b[0m \u001b[0mengine\u001b[0m \u001b[1;33m==\u001b[0m \u001b[1;34m'c'\u001b[0m\u001b[1;33m:\u001b[0m\u001b[1;33m\u001b[0m\u001b[0m\n\u001b[0;32m--> 799\u001b[0;31m             \u001b[0mself\u001b[0m\u001b[1;33m.\u001b[0m\u001b[0m_engine\u001b[0m \u001b[1;33m=\u001b[0m \u001b[0mCParserWrapper\u001b[0m\u001b[1;33m(\u001b[0m\u001b[0mself\u001b[0m\u001b[1;33m.\u001b[0m\u001b[0mf\u001b[0m\u001b[1;33m,\u001b[0m \u001b[1;33m**\u001b[0m\u001b[0mself\u001b[0m\u001b[1;33m.\u001b[0m\u001b[0moptions\u001b[0m\u001b[1;33m)\u001b[0m\u001b[1;33m\u001b[0m\u001b[0m\n\u001b[0m\u001b[1;32m    800\u001b[0m         \u001b[1;32melse\u001b[0m\u001b[1;33m:\u001b[0m\u001b[1;33m\u001b[0m\u001b[0m\n\u001b[1;32m    801\u001b[0m             \u001b[1;32mif\u001b[0m \u001b[0mengine\u001b[0m \u001b[1;33m==\u001b[0m \u001b[1;34m'python'\u001b[0m\u001b[1;33m:\u001b[0m\u001b[1;33m\u001b[0m\u001b[0m\n",
      "\u001b[0;32mC:\\Users\\Rocku\\Anaconda64\\lib\\site-packages\\pandas\\io\\parsers.py\u001b[0m in \u001b[0;36m__init__\u001b[0;34m(self, src, **kwds)\u001b[0m\n\u001b[1;32m   1211\u001b[0m         \u001b[0mkwds\u001b[0m\u001b[1;33m[\u001b[0m\u001b[1;34m'allow_leading_cols'\u001b[0m\u001b[1;33m]\u001b[0m \u001b[1;33m=\u001b[0m \u001b[0mself\u001b[0m\u001b[1;33m.\u001b[0m\u001b[0mindex_col\u001b[0m \u001b[1;32mis\u001b[0m \u001b[1;32mnot\u001b[0m \u001b[1;32mFalse\u001b[0m\u001b[1;33m\u001b[0m\u001b[0m\n\u001b[1;32m   1212\u001b[0m \u001b[1;33m\u001b[0m\u001b[0m\n\u001b[0;32m-> 1213\u001b[0;31m         \u001b[0mself\u001b[0m\u001b[1;33m.\u001b[0m\u001b[0m_reader\u001b[0m \u001b[1;33m=\u001b[0m \u001b[0m_parser\u001b[0m\u001b[1;33m.\u001b[0m\u001b[0mTextReader\u001b[0m\u001b[1;33m(\u001b[0m\u001b[0msrc\u001b[0m\u001b[1;33m,\u001b[0m \u001b[1;33m**\u001b[0m\u001b[0mkwds\u001b[0m\u001b[1;33m)\u001b[0m\u001b[1;33m\u001b[0m\u001b[0m\n\u001b[0m\u001b[1;32m   1214\u001b[0m \u001b[1;33m\u001b[0m\u001b[0m\n\u001b[1;32m   1215\u001b[0m         \u001b[1;31m# XXX\u001b[0m\u001b[1;33m\u001b[0m\u001b[1;33m\u001b[0m\u001b[0m\n",
      "\u001b[0;32mpandas\\parser.pyx\u001b[0m in \u001b[0;36mpandas.parser.TextReader.__cinit__ (pandas\\parser.c:3427)\u001b[0;34m()\u001b[0m\n",
      "\u001b[0;32mpandas\\parser.pyx\u001b[0m in \u001b[0;36mpandas.parser.TextReader._setup_parser_source (pandas\\parser.c:6861)\u001b[0;34m()\u001b[0m\n",
      "\u001b[0;31mOSError\u001b[0m: File b'C:/Users/Rocku/Downloads/btcnCNY.csv' does not exist"
     ]
    }
   ],
   "source": [
    "data = pd.read_csv('C:/Users/Rocku/Downloads/btcnCNY.csv')\n",
    "data['date'] = pd.to_datetime(data['date'])\n",
    "\n",
    "data_within = data[(data['date'] >= dt.datetime(2013,4,1)) & (data['date'] <= dt.datetime(2015,2,25))]\n",
    "data_within.index = data_within['date']\n",
    "data_within.set_index('date',inplace=True, drop=True)\n",
    "data_within = data_within.groupby(pd.TimeGrouper('5Min')).last()\n",
    "data_within.head()"
   ]
  },
  {
   "cell_type": "code",
   "execution_count": null,
   "metadata": {
    "collapsed": true
   },
   "outputs": [],
   "source": [
    "data = pd.read_csv('usd/btcnCNY.csv', date_parser=['date'])"
   ]
  },
  {
   "cell_type": "markdown",
   "metadata": {},
   "source": [
    "# Extract 5min interval price and volume (April 1st 2013–February 25th 2014)"
   ]
  },
  {
   "cell_type": "code",
   "execution_count": 8,
   "metadata": {
    "collapsed": false
   },
   "outputs": [],
   "source": [
    "files = ['usd/mtgoxUSD.csv',\n",
    "         'usd/btceUSD.csv',\n",
    "         'usd/bitstampUSD.csv',\n",
    "         'usd/bitfinexUSD.csv',\n",
    "        ]"
   ]
  },
  {
   "cell_type": "code",
   "execution_count": 9,
   "metadata": {
    "collapsed": false,
    "scrolled": true
   },
   "outputs": [
    {
     "name": "stdout",
     "output_type": "stream",
     "text": [
      "usd/mtgoxUSD.csv\n"
     ]
    },
    {
     "name": "stderr",
     "output_type": "stream",
     "text": [
      "C:\\Users\\Rocku\\Anaconda64\\lib\\site-packages\\ipykernel\\__main__.py:12: SettingWithCopyWarning: \n",
      "A value is trying to be set on a copy of a slice from a DataFrame\n",
      "\n",
      "See the caveats in the documentation: http://pandas.pydata.org/pandas-docs/stable/indexing.html#indexing-view-versus-copy\n"
     ]
    },
    {
     "name": "stdout",
     "output_type": "stream",
     "text": [
      "usd/btceUSD.csv\n",
      "usd/bitstampUSD.csv\n",
      "usd/bitfinexUSD.csv\n",
      "end\n"
     ]
    }
   ],
   "source": [
    "success = 0\n",
    "failed = 0\n",
    "failed_name = []\n",
    "\n",
    "for i, file in enumerate(files):\n",
    "    print(file)\n",
    "    try:\n",
    "        data = pd.read_csv(file, date_parser=['date'])\n",
    "        data['date'] = pd.to_datetime(data['date'])\n",
    "        \n",
    "        data_within = data[(data['date'] >= dt.datetime(2013,4,1,0,5,0)) & (data['date'] <= dt.datetime(2014,2,25))]\n",
    "        data_within.sort_values(by='date', inplace=True, ascending=False)\n",
    "\n",
    "        data_within.set_index('date',inplace=True, drop=True)\n",
    "        data_within = data_within.groupby(pd.TimeGrouper('5Min')).last()\n",
    "        data_within.to_csv('dated/'+ file.split('/')[-1], header='column_names', encoding='utf-8')\n",
    "        \n",
    "        del data, data_within\n",
    "    except:\n",
    "        failed += 1\n",
    "        failed_name.append(file)\n",
    "        print('failed : ', file)\n",
    "        \n",
    "print('end')\n",
    "#     data.rename(columns={0:'date', 1:'price', 2:'volume'}, inplace=True)\n",
    "#     data['date'] = pd.to_datetime(data['date'],unit='s')"
   ]
  },
  {
   "cell_type": "markdown",
   "metadata": {
    "collapsed": true
   },
   "source": [
    "## concat three exchanges data"
   ]
  },
  {
   "cell_type": "code",
   "execution_count": 13,
   "metadata": {
    "collapsed": true
   },
   "outputs": [],
   "source": [
    "files = ['dated/mtgoxUSD.csv',\n",
    "         'dated/btceUSD.csv',\n",
    "         'dated/bitstampUSD.csv',\n",
    "         'dated/bitfinexUSD.csv']"
   ]
  },
  {
   "cell_type": "code",
   "execution_count": 14,
   "metadata": {
    "collapsed": false
   },
   "outputs": [
    {
     "name": "stdout",
     "output_type": "stream",
     "text": [
      "0 dated/mtgoxUSD.csv\n",
      "1 dated/btceUSD.csv\n",
      "2 dated/bitstampUSD.csv\n",
      "3 dated/bitfinexUSD.csv\n",
      "end\n"
     ]
    }
   ],
   "source": [
    "df_full = pd.DataFrame()\n",
    "\n",
    "for i, file in enumerate(files):\n",
    "    print(i,file)\n",
    "    data = pd.read_csv(file, date_parser=['date'], index_col=None)\n",
    "    data['date'] = pd.to_datetime(data['date'])\n",
    "    data.sort_values(by='date', inplace=True, ascending=False)\n",
    "    data['price'].fillna(method='ffill', inplace=True)\n",
    "    data['volume'].fillna(value=0, inplace=True)\n",
    "\n",
    "    data.rename(columns={\n",
    "            'price': 'p_'+file.split('/')[-1].split('.')[0],\n",
    "            'volume': 'v_'+file.split('/')[-1].split('.')[0]}, inplace= True)\n",
    "    if i == 0:\n",
    "        df_full = data\n",
    "    else:\n",
    "        df_full = pd.merge(left=df_full, right=data, on='date', how='outer')\n",
    "#     del data\n",
    "\n",
    "print('end')\n",
    "#     data.rename(columns={0:'date', 1:'price', 2:'volume'}, inplace=True)\n",
    "#     data['date'] = pd.to_datetime(data['date'],unit='s')"
   ]
  },
  {
   "cell_type": "code",
   "execution_count": 15,
   "metadata": {
    "collapsed": false
   },
   "outputs": [],
   "source": [
    "df_full.to_csv('dated/four_exc.csv', header='column_names', encoding='utf-8', index=False)"
   ]
  },
  {
   "cell_type": "markdown",
   "metadata": {},
   "source": [
    "# Load three exchanges data"
   ]
  },
  {
   "cell_type": "code",
   "execution_count": 53,
   "metadata": {
    "collapsed": false,
    "scrolled": false
   },
   "outputs": [],
   "source": [
    "file = 'dated/four_exc.csv'\n",
    "\n",
    "data = pd.read_csv(file, date_parser=['date'])\n",
    "data['date'] = pd.to_datetime(data['date'])\n",
    "data.sort_values(by='date', inplace=True, ascending=False)\n",
    "\n",
    "\n",
    "### p1 : mtgox\n",
    "### p2 : btce\n",
    "### p3 : bitstamp\n",
    "### p4 : bitfinex\n",
    "\n",
    "new_column={'p_mtgoxUSD': 'p1',\n",
    "            'p_btceUSD':'p2', \n",
    "            'p_bitstampUSD':'p3',\n",
    "            'p_bitfinexUSD':'p4',\n",
    "            'v_mtgoxUSD': 'v1', \n",
    "            'v_btceUSD':'v2', \n",
    "            'v_bitstampUSD':'v3',\n",
    "            'v_bitfinexUSD':'v4' }\n",
    "\n",
    "data.rename(columns=new_column, inplace= True)\n",
    "\n",
    "data['p1'] = np.log(data['p1'])\n",
    "data['p2'] = np.log(data['p2'])\n",
    "data['p3'] = np.log(data['p3'])\n",
    "data['p4'] = np.log(data['p4'])\n"
   ]
  },
  {
   "cell_type": "code",
   "execution_count": 55,
   "metadata": {
    "collapsed": false,
    "scrolled": true
   },
   "outputs": [
    {
     "data": {
      "text/plain": [
       "<matplotlib.legend.Legend at 0x8d61990>"
      ]
     },
     "execution_count": 55,
     "metadata": {},
     "output_type": "execute_result"
    },
    {
     "data": {
      "image/png": "[encoded data removed]",
      "text/plain": [
       "<matplotlib.figure.Figure at 0xcdd9110>"
      ]
     },
     "metadata": {},
     "output_type": "display_data"
    }
   ],
   "source": [
    "plt.figure(figsize=(10,6))\n",
    "plt.plot(data['date'],data['p1'])\n",
    "plt.hold()\n",
    "plt.plot(data['date'],data['p2'])\n",
    "plt.plot(data['date'],data['p3'])\n",
    "plt.plot(data['date'],data['p4'])\n",
    "\n",
    "\n",
    "\n",
    "plt.legend(['Mt.gox', 'btce','bitstamp','bitfinex'],loc=0)"
   ]
  },
  {
   "cell_type": "code",
   "execution_count": 57,
   "metadata": {
    "collapsed": false
   },
   "outputs": [
    {
     "data": {
      "text/plain": [
       "(0, 500)"
      ]
     },
     "execution_count": 57,
     "metadata": {},
     "output_type": "execute_result"
    },
    {
     "data": {
      "image/png": "[encoded data removed]",
      "text/plain": [
       "<matplotlib.figure.Figure at 0xeee3fb0>"
      ]
     },
     "metadata": {},
     "output_type": "display_data"
    }
   ],
   "source": [
    "plt.figure(figsize=(10,6))\n",
    "plt.plot(data['date'],data['v1'])\n",
    "plt.hold()\n",
    "plt.plot(data['date'],data['v2'])\n",
    "plt.plot(data['date'],data['v3'])\n",
    "plt.plot(data['date'],data['v4'])\n",
    "\n",
    "\n",
    "plt.legend(['Mt.gox', 'btce','bitstamp','bitfinex'],loc=0)\n",
    "plt.ylim(0,500)"
   ]
  },
  {
   "cell_type": "code",
   "execution_count": 34,
   "metadata": {
    "collapsed": false
   },
   "outputs": [],
   "source": [
    "\n",
    "\n",
    "price_data = data.loc[:,['date', 'p1', 'p2', 'p3','p4']]\n",
    "price_data['m_for_p1'] = (price_data['p2'] + price_data['p3'] + price_data['p4']) / 3\n",
    "price_data['m_for_p2'] = (price_data['p1'] + price_data['p3'] + price_data['p4']) / 3\n",
    "price_data['m_for_p3'] = (price_data['p1'] + price_data['p2'] + price_data['p4']) / 3\n",
    "price_data['m_for_p4'] = (price_data['p1'] + price_data['p2'] + price_data['p3']) / 3\n",
    "\n",
    "for i in range(1,5):\n",
    "    price_data['p'+str(i)] = np.log(price_data['p'+str(i)]) \n",
    "    price_data['diff_p'+str(i)] = price_data['p'+str(i)] - price_data['p'+str(i)].shift(-1)\n",
    "    price_data['diff_lag1_p'+str(i)] = price_data['diff_p'+str(i)].shift(-1)\n",
    "    price_data['diff_lag2_p'+str(i)] = price_data['diff_lag1_p'+str(i)].shift(-1)\n",
    "    \n",
    "    price_data['m_for_p'+str(i)] = np.log(price_data['m_for_p'+str(i)]) \n",
    "    price_data['diff_m_for_p'+str(i)] = price_data['m_for_p'+str(i)] - price_data['m_for_p'+str(i)].shift(-1)\n",
    "    price_data['diff_lag1_m_for_p'+str(i)] = price_data['diff_m_for_p'+str(i)].shift(-1)\n",
    "    price_data['diff_lag2_m_for_p'+str(i)] = price_data['diff_lag1_m_for_p'+str(i)].shift(-1)"
   ]
  },
  {
   "cell_type": "code",
   "execution_count": 35,
   "metadata": {
    "collapsed": false,
    "scrolled": false
   },
   "outputs": [
    {
     "data": {
      "text/plain": [
       "Index(['date', 'p1', 'p2', 'p3', 'p4', 'm_for_p1', 'm_for_p2', 'm_for_p3',\n",
       "       'm_for_p4', 'diff_p1', 'diff_lag1_p1', 'diff_lag2_p1', 'diff_m_for_p1',\n",
       "       'diff_lag1_m_for_p1', 'diff_lag2_m_for_p1', 'diff_p2', 'diff_lag1_p2',\n",
       "       'diff_lag2_p2', 'diff_m_for_p2', 'diff_lag1_m_for_p2',\n",
       "       'diff_lag2_m_for_p2', 'diff_p3', 'diff_lag1_p3', 'diff_lag2_p3',\n",
       "       'diff_m_for_p3', 'diff_lag1_m_for_p3', 'diff_lag2_m_for_p3', 'diff_p4',\n",
       "       'diff_lag1_p4', 'diff_lag2_p4', 'diff_m_for_p4', 'diff_lag1_m_for_p4',\n",
       "       'diff_lag2_m_for_p4'],\n",
       "      dtype='object')"
      ]
     },
     "execution_count": 35,
     "metadata": {},
     "output_type": "execute_result"
    }
   ],
   "source": [
    "price_data.fillna(method='ffill',inplace=True)\n",
    "# price_data.fillna(method='bfill',inplace=True)\n",
    "\n",
    "price_data.columns"
   ]
  },
  {
   "cell_type": "code",
   "execution_count": 29,
   "metadata": {
    "collapsed": false,
    "scrolled": false
   },
   "outputs": [],
   "source": [
    "price_data.to_csv('price_data.csv', encoding='utf-8', index=False)"
   ]
  },
  {
   "cell_type": "markdown",
   "metadata": {},
   "source": [
    "### $E[y_{jt}y_{it}]$\n"
   ]
  },
  {
   "cell_type": "code",
   "execution_count": 30,
   "metadata": {
    "collapsed": false
   },
   "outputs": [
    {
     "data": {
      "text/plain": [
       "array([  1.53093875e-05,   1.60701860e-05,   1.42163539e-05,\n",
       "         8.35601905e-07])"
      ]
     },
     "execution_count": 30,
     "metadata": {},
     "output_type": "execute_result"
    }
   ],
   "source": [
    "E_yj_yi = []\n",
    "for i in range(1,5):\n",
    "    diff = price_data[['diff_m_for_p'+str(i),'diff_p'+str(i)]]\n",
    "    E_yj_yi.append(np.cov(diff.T)[0,1])\n",
    "\n",
    "E_yj_yi = np.array(E_yj_yi)\n",
    "E_yj_yi"
   ]
  },
  {
   "cell_type": "markdown",
   "metadata": {},
   "source": [
    "### $E[y_{jt}y_{i,t-1}]$"
   ]
  },
  {
   "cell_type": "code",
   "execution_count": 31,
   "metadata": {
    "collapsed": false,
    "scrolled": true
   },
   "outputs": [
    {
     "data": {
      "text/plain": [
       "array([  4.17612354e-06,   3.84447219e-06,   2.44353779e-06,\n",
       "         2.66636321e-07])"
      ]
     },
     "execution_count": 31,
     "metadata": {},
     "output_type": "execute_result"
    }
   ],
   "source": [
    "E_yj_yi_lag1_t = []\n",
    "for i in range(1,5):\n",
    "    diff = price_data[['diff_m_for_p'+str(i),'diff_lag1_p'+str(i)]]\n",
    "    E_yj_yi_lag1_t.append(np.cov(diff.T)[0,1])\n",
    "\n",
    "E_yj_yi_lag1_t = np.array(E_yj_yi_lag1_t)\n",
    "E_yj_yi_lag1_t"
   ]
  },
  {
   "cell_type": "markdown",
   "metadata": {},
   "source": [
    "### $E[y_{jt}y_{i,t-2}]$\n",
    "\n",
    "### $E[y_{it}y_{j,t-2}]$"
   ]
  },
  {
   "cell_type": "code",
   "execution_count": 32,
   "metadata": {
    "collapsed": false,
    "scrolled": true
   },
   "outputs": [
    {
     "data": {
      "text/plain": [
       "(array([  1.52045462e-06,  -2.95261337e-07,   2.34809720e-06,\n",
       "          8.76615058e-07]),\n",
       " array([ -3.21137864e-05,  -3.25751763e-05,  -3.31682796e-05,\n",
       "         -3.61330594e-05]))"
      ]
     },
     "execution_count": 32,
     "metadata": {},
     "output_type": "execute_result"
    }
   ],
   "source": [
    "E_yj_yi_lag2_t = []\n",
    "E_yi_yj_lag2_t = []\n",
    "\n",
    "for i in range(1,5):\n",
    "    diff = price_data[['diff_m_for_p'+str(i),'diff_lag2_p'+str(i)]]\n",
    "    E_yj_yi_lag2_t.append(np.cov(diff.T)[0,1])\n",
    "    \n",
    "    diff = price_data[['diff_p'+str(i), 'diff_lag2_m_for_p'+str(i)]]\n",
    "    E_yi_yj_lag2_t.append(np.cov(diff.T)[1,1])\n",
    "\n",
    "gamma_j = -np.array(E_yj_yi_lag2_t)\n",
    "gamma_i = -np.array(E_yi_yj_lag2_t)\n",
    "# -gamma_j\n",
    "gamma_j, gamma_i"
   ]
  },
  {
   "cell_type": "code",
   "execution_count": 38,
   "metadata": {
    "collapsed": false
   },
   "outputs": [
    {
     "data": {
      "text/plain": [
       "array([-0.14916385, -0.10626294, -0.05744454, -0.43624364])"
      ]
     },
     "execution_count": 38,
     "metadata": {},
     "output_type": "execute_result"
    }
   ],
   "source": [
    "rho = []\n",
    "for i in range(1,5):\n",
    "    rho.append(price_data['diff_p'+str(i)].autocorr(-1))\n",
    "rho = np.array(rho)\n",
    "rho"
   ]
  },
  {
   "cell_type": "code",
   "execution_count": 58,
   "metadata": {
    "collapsed": false
   },
   "outputs": [
    {
     "name": "stdout",
     "output_type": "stream",
     "text": [
      "v1    188017.502110\n",
      "v2     57725.589269\n",
      "v3    174617.622909\n",
      "v4    228976.284982\n",
      "dtype: float64\n",
      "v1    0.289553\n",
      "v2    0.088899\n",
      "v3    0.268917\n",
      "v4    0.352631\n",
      "dtype: float64\n"
     ]
    }
   ],
   "source": [
    "trading_volume = data[['date','v1','v2','v3','v4']]\n",
    "\n",
    "v_sum = trading_volume.sum(axis=0)\n",
    "print(v_sum)\n",
    "# total_v_sum = v_sum.sum\n",
    "pi = v_sum / v_sum.sum(axis=0)\n",
    "print(pi)"
   ]
  },
  {
   "cell_type": "code",
   "execution_count": 167,
   "metadata": {
    "collapsed": false
   },
   "outputs": [
    {
     "data": {
      "text/html": [
       "<div>\n",
       "<table border=\"1\" class=\"dataframe\">\n",
       "  <thead>\n",
       "    <tr style=\"text-align: right;\">\n",
       "      <th></th>\n",
       "      <th>E[yj_t,i_t-1]</th>\n",
       "      <th>rho_ii</th>\n",
       "      <th>E[yj_t,i_t]</th>\n",
       "      <th>sigma</th>\n",
       "      <th>gamma_i</th>\n",
       "      <th>gamma_j</th>\n",
       "      <th>pi</th>\n",
       "    </tr>\n",
       "  </thead>\n",
       "  <tbody>\n",
       "    <tr>\n",
       "      <th>0</th>\n",
       "      <td>4.176124e-06</td>\n",
       "      <td>-0.154301</td>\n",
       "      <td>1.530939e-05</td>\n",
       "      <td>0.000028</td>\n",
       "      <td>-0.000032</td>\n",
       "      <td>1.520455e-06</td>\n",
       "      <td>0.384279</td>\n",
       "    </tr>\n",
       "    <tr>\n",
       "      <th>1</th>\n",
       "      <td>3.844472e-06</td>\n",
       "      <td>-0.105662</td>\n",
       "      <td>1.607019e-05</td>\n",
       "      <td>0.000028</td>\n",
       "      <td>-0.000033</td>\n",
       "      <td>-2.952613e-07</td>\n",
       "      <td>0.262009</td>\n",
       "    </tr>\n",
       "    <tr>\n",
       "      <th>2</th>\n",
       "      <td>2.443538e-06</td>\n",
       "      <td>-0.062312</td>\n",
       "      <td>1.421635e-05</td>\n",
       "      <td>0.000028</td>\n",
       "      <td>-0.000033</td>\n",
       "      <td>2.348097e-06</td>\n",
       "      <td>0.234716</td>\n",
       "    </tr>\n",
       "    <tr>\n",
       "      <th>3</th>\n",
       "      <td>2.666363e-07</td>\n",
       "      <td>-0.399637</td>\n",
       "      <td>8.356019e-07</td>\n",
       "      <td>0.000028</td>\n",
       "      <td>-0.000036</td>\n",
       "      <td>8.766151e-07</td>\n",
       "      <td>0.118996</td>\n",
       "    </tr>\n",
       "  </tbody>\n",
       "</table>\n",
       "</div>"
      ],
      "text/plain": [
       "   E[yj_t,i_t-1]    rho_ii   E[yj_t,i_t]     sigma   gamma_i       gamma_j  \\\n",
       "0   4.176124e-06 -0.154301  1.530939e-05  0.000028 -0.000032  1.520455e-06   \n",
       "1   3.844472e-06 -0.105662  1.607019e-05  0.000028 -0.000033 -2.952613e-07   \n",
       "2   2.443538e-06 -0.062312  1.421635e-05  0.000028 -0.000033  2.348097e-06   \n",
       "3   2.666363e-07 -0.399637  8.356019e-07  0.000028 -0.000036  8.766151e-07   \n",
       "\n",
       "         pi  \n",
       "0  0.384279  \n",
       "1  0.262009  \n",
       "2  0.234716  \n",
       "3  0.118996  "
      ]
     },
     "execution_count": 167,
     "metadata": {},
     "output_type": "execute_result"
    }
   ],
   "source": [
    "column = {\n",
    "    'E[yj_t,i_t]',\n",
    "    'E[yj_t,i_t-1]',\n",
    "    'rho_ii'\n",
    "}\n",
    "df = pd.DataFrame(columns=column)\n",
    "\n",
    "df['E[yj_t,i_t]'] = E_yj_yi\n",
    "df['E[yj_t,i_t-1]'] = E_yj_yi_lag1_t\n",
    "df['rho_ii'] = rho\n",
    "df['sigma'] = price_data[['diff_m_for_p1','diff_m_for_p2','diff_m_for_p3','diff_m_for_p4']].mean(axis=1).var(axis=0)\n",
    "# df['sigma'] =price_data[['p1','p2','p3','p4']].mean().var()\n",
    "df['gamma_i'] = gamma_i\n",
    "df['gamma_j'] = gamma_j\n",
    "\n",
    "#### from paper ####\n",
    "    ### p1 : mtgox\n",
    "    ### p2 : btce\n",
    "    ### p3 : bitstamp\n",
    "    ### p4 : bitfinex\n",
    "pi_paper = np.array([0.352,0.240,0.215,0.109])\n",
    "df['pi'] = pi_paper/pi_paper.sum()\n",
    "# df['pi'] = pi.values\n",
    "df"
   ]
  },
  {
   "cell_type": "markdown",
   "metadata": {},
   "source": [
    "$$ x_0 = {\\psi_i}  $$\n",
    "$$ x_1 = {\\psi_j}  $$\n",
    "$$ x_2 = {\\omega_{ij}}  $$\n",
    "$$ x_3 = {\\omega_{i}^e}  $$"
   ]
  },
  {
   "cell_type": "code",
   "execution_count": 181,
   "metadata": {
    "collapsed": false,
    "scrolled": true
   },
   "outputs": [
    {
     "name": "stdout",
     "output_type": "stream",
     "text": [
      "Warning: Desired error not necessarily achieved due to precision loss.\n",
      "         Current function value: 0.000000\n",
      "         Iterations: 15\n",
      "         Function evaluations: 1217\n",
      "         Gradient evaluations: 67\n",
      "[[  3.20276556e-10   7.04687536e-05   1.26164433e-05   4.64731101e-05]\n",
      " [ -3.95302331e-08   7.78889390e-05   7.78476980e-05   5.59608429e-05]\n",
      " [  6.53175646e-08   2.27438048e-05   7.22454295e-05   3.06422760e-05]\n",
      " [ -9.22229766e-08   1.29255190e-05   2.99042538e-05   2.80558616e-06]]\n",
      "objective -5.877234e-09\n"
     ]
    },
    {
     "name": "stderr",
     "output_type": "stream",
     "text": [
      "C:\\Users\\Rocku\\Anaconda64\\lib\\site-packages\\scipy\\optimize\\_minimize.py:394: RuntimeWarning: Method BFGS cannot handle constraints nor bounds.\n",
      "  RuntimeWarning)\n"
     ]
    }
   ],
   "source": [
    "def toVector(x_mat):\n",
    "    return x_mat.reshape(16,1)\n",
    "\n",
    "# def objective(x):\n",
    "#     sum_value = 0\n",
    "#     for i in range(0,4):\n",
    "#         sum_value += abs(x[4*i]*df['pi'][i])\n",
    "#     return sum_value\n",
    "\n",
    "def constraint0(x):\n",
    "    sum_value1 = 0\n",
    "    for i in range(0,4):\n",
    "        sum_value1 += (1 + (x[4*i]/df['sigma'][i])) * df['pi'][i] \n",
    "    return sum_value1 - 1\n",
    "\n",
    "def objective(x):\n",
    "    sum_value = 0\n",
    "    for i in range(0,4):\n",
    "        sum_value += abs(x[4*i]*df['pi'][i])\n",
    "    return sum_value\n",
    "\n",
    "def constraint1(x):\n",
    "    sum_up1 = 0\n",
    "    for i in range(0,4):\n",
    "        sum_up1 += abs(2*x[4*i+2] + x[4*i+1] + x[4*i] + df['sigma'][i] - df['E[yj_t,i_t]'][i])\n",
    "    return sum_up1\n",
    "\n",
    "def constraint2(x):\n",
    "    sum_up2 = 0\n",
    "    for i in range(0,4):\n",
    "        sum_up2 += abs(x[4*i+1] + x[4*i+2] + df['E[yj_t,i_t-1]'][i]  - df['gamma_j'][i])\n",
    "    return sum_up2\n",
    "\n",
    "def constraint3(x):\n",
    "    sum_up3 = 0\n",
    "    for i in range(0,4):\n",
    "        sum_up3 += abs(((x[4*i+3] + x[4*i+0] - df['gamma_i'][i])/(df['sigma'][i] + 2*(x[4*i+3]+x[4*i+0]))) + df['rho_ii'][i])\n",
    "    return sum_up3\n",
    "\n",
    "def constraint4(x):   \n",
    "    return x[3]\n",
    "\n",
    "def constraint5(x):   \n",
    "    return x[7]\n",
    "\n",
    "def constraint6(x):   \n",
    "    return x[11]\n",
    "\n",
    "def constraint7(x):   \n",
    "    return x[15]\n",
    "\n",
    "\n",
    "#initialization\n",
    "x0 = np.zeros([4,4])\n",
    "for i in range(4):\n",
    "    for j in range(4):\n",
    "        x0[i,j] = np.random.rand()*(10**-4)        \n",
    "\n",
    "con0 = {'type': 'eq', 'fun': constraint0} \n",
    "con1 = {'type': 'eq', 'fun': constraint1} \n",
    "con2 = {'type': 'eq', 'fun': constraint2}\n",
    "con3 = {'type': 'eq', 'fun': constraint3} \n",
    "\n",
    "con4 = {'type': 'ineq', 'fun': constraint4}\n",
    "con5 = {'type': 'ineq', 'fun': constraint5}\n",
    "con6 = {'type': 'ineq', 'fun': constraint6}\n",
    "con7 = {'type': 'ineq', 'fun': constraint7}\n",
    "\n",
    "cons = ([con0, con1, con2, con3, con4, con5, con6, con7])\n",
    "\n",
    "solution = optimize.minimize(fun=objective, x0=toVector(x0), options={'disp': True}, constraints=cons, method='BFGS', tol=1e-9)\n",
    "sol = solution.x.reshape(4,4)\n",
    "\n",
    "print(sol)\n",
    "\n",
    "print(\"objective\", round(np.dot(sol[:,0], df['pi']),15))"
   ]
  },
  {
   "cell_type": "code",
   "execution_count": 182,
   "metadata": {
    "collapsed": false,
    "scrolled": false
   },
   "outputs": [
    {
     "data": {
      "text/html": [
       "<div>\n",
       "<table border=\"1\" class=\"dataframe\">\n",
       "  <thead>\n",
       "    <tr style=\"text-align: right;\">\n",
       "      <th></th>\n",
       "      <th>E[yj_t,i_t-1]</th>\n",
       "      <th>rho_ii</th>\n",
       "      <th>E[yj_t,i_t]</th>\n",
       "      <th>sigma</th>\n",
       "      <th>gamma_i</th>\n",
       "      <th>gamma_j</th>\n",
       "      <th>pi</th>\n",
       "      <th>psi_i</th>\n",
       "      <th>psi_j</th>\n",
       "      <th>omega_i_j</th>\n",
       "      <th>omega_e_j</th>\n",
       "      <th>IS</th>\n",
       "      <th>IS/AS</th>\n",
       "    </tr>\n",
       "  </thead>\n",
       "  <tbody>\n",
       "    <tr>\n",
       "      <th>0</th>\n",
       "      <td>4.176124e-06</td>\n",
       "      <td>-0.154301</td>\n",
       "      <td>1.530939e-05</td>\n",
       "      <td>0.000028</td>\n",
       "      <td>-0.000032</td>\n",
       "      <td>1.520455e-06</td>\n",
       "      <td>0.384279</td>\n",
       "      <td>3.202766e-10</td>\n",
       "      <td>0.000070</td>\n",
       "      <td>0.000013</td>\n",
       "      <td>0.000046</td>\n",
       "      <td>0.384284</td>\n",
       "      <td>1.000011</td>\n",
       "    </tr>\n",
       "    <tr>\n",
       "      <th>1</th>\n",
       "      <td>3.844472e-06</td>\n",
       "      <td>-0.105662</td>\n",
       "      <td>1.607019e-05</td>\n",
       "      <td>0.000028</td>\n",
       "      <td>-0.000033</td>\n",
       "      <td>-2.952613e-07</td>\n",
       "      <td>0.262009</td>\n",
       "      <td>-3.953023e-08</td>\n",
       "      <td>0.000078</td>\n",
       "      <td>0.000078</td>\n",
       "      <td>0.000056</td>\n",
       "      <td>0.261638</td>\n",
       "      <td>0.998587</td>\n",
       "    </tr>\n",
       "    <tr>\n",
       "      <th>2</th>\n",
       "      <td>2.443538e-06</td>\n",
       "      <td>-0.062312</td>\n",
       "      <td>1.421635e-05</td>\n",
       "      <td>0.000028</td>\n",
       "      <td>-0.000033</td>\n",
       "      <td>2.348097e-06</td>\n",
       "      <td>0.234716</td>\n",
       "      <td>6.531756e-08</td>\n",
       "      <td>0.000023</td>\n",
       "      <td>0.000072</td>\n",
       "      <td>0.000031</td>\n",
       "      <td>0.235264</td>\n",
       "      <td>1.002336</td>\n",
       "    </tr>\n",
       "    <tr>\n",
       "      <th>3</th>\n",
       "      <td>2.666363e-07</td>\n",
       "      <td>-0.399637</td>\n",
       "      <td>8.356019e-07</td>\n",
       "      <td>0.000028</td>\n",
       "      <td>-0.000036</td>\n",
       "      <td>8.766151e-07</td>\n",
       "      <td>0.118996</td>\n",
       "      <td>-9.222298e-08</td>\n",
       "      <td>0.000013</td>\n",
       "      <td>0.000030</td>\n",
       "      <td>0.000003</td>\n",
       "      <td>0.118603</td>\n",
       "      <td>0.996702</td>\n",
       "    </tr>\n",
       "  </tbody>\n",
       "</table>\n",
       "</div>"
      ],
      "text/plain": [
       "   E[yj_t,i_t-1]    rho_ii   E[yj_t,i_t]     sigma   gamma_i       gamma_j  \\\n",
       "0   4.176124e-06 -0.154301  1.530939e-05  0.000028 -0.000032  1.520455e-06   \n",
       "1   3.844472e-06 -0.105662  1.607019e-05  0.000028 -0.000033 -2.952613e-07   \n",
       "2   2.443538e-06 -0.062312  1.421635e-05  0.000028 -0.000033  2.348097e-06   \n",
       "3   2.666363e-07 -0.399637  8.356019e-07  0.000028 -0.000036  8.766151e-07   \n",
       "\n",
       "         pi         psi_i     psi_j  omega_i_j  omega_e_j        IS     IS/AS  \n",
       "0  0.384279  3.202766e-10  0.000070   0.000013   0.000046  0.384284  1.000011  \n",
       "1  0.262009 -3.953023e-08  0.000078   0.000078   0.000056  0.261638  0.998587  \n",
       "2  0.234716  6.531756e-08  0.000023   0.000072   0.000031  0.235264  1.002336  \n",
       "3  0.118996 -9.222298e-08  0.000013   0.000030   0.000003  0.118603  0.996702  "
      ]
     },
     "execution_count": 182,
     "metadata": {},
     "output_type": "execute_result"
    }
   ],
   "source": [
    "df['psi_i'] = sol[:,0]\n",
    "df['psi_j'] = sol[:,1]\n",
    "df['omega_i_j'] = sol[:,2]\n",
    "df['omega_e_j'] = sol[:,3]\n",
    "\n",
    "df['IS'] = (1 + df['psi_i']/df['sigma']) * df['pi']\n",
    "df['IS/AS'] = df['IS']/df['pi']\n",
    "df"
   ]
  },
  {
   "cell_type": "code",
   "execution_count": 170,
   "metadata": {
    "collapsed": false,
    "scrolled": true
   },
   "outputs": [
    {
     "name": "stdout",
     "output_type": "stream",
     "text": [
      "0.9997325015866054\n",
      "-7.48119184187e-09\n"
     ]
    }
   ],
   "source": [
    "print(df['IS'].sum())\n",
    "print(np.dot(df['psi_i'],df['pi']))"
   ]
  },
  {
   "cell_type": "markdown",
   "metadata": {},
   "source": [
    "# MAIN"
   ]
  },
  {
   "cell_type": "code",
   "execution_count": 13,
   "metadata": {
    "collapsed": false
   },
   "outputs": [
    {
     "name": "stderr",
     "output_type": "stream",
     "text": [
      "C:\\Anaconda3\\lib\\site-packages\\ipykernel\\__main__.py:63: SettingWithCopyWarning: \n",
      "A value is trying to be set on a copy of a slice from a DataFrame.\n",
      "Try using .loc[row_indexer,col_indexer] = value instead\n",
      "\n",
      "See the caveats in the documentation: http://pandas.pydata.org/pandas-docs/stable/indexing.html#indexing-view-versus-copy\n",
      "C:\\Anaconda3\\lib\\site-packages\\ipykernel\\__main__.py:64: SettingWithCopyWarning: \n",
      "A value is trying to be set on a copy of a slice from a DataFrame.\n",
      "Try using .loc[row_indexer,col_indexer] = value instead\n",
      "\n",
      "See the caveats in the documentation: http://pandas.pydata.org/pandas-docs/stable/indexing.html#indexing-view-versus-copy\n",
      "C:\\Anaconda3\\lib\\site-packages\\ipykernel\\__main__.py:65: SettingWithCopyWarning: \n",
      "A value is trying to be set on a copy of a slice from a DataFrame.\n",
      "Try using .loc[row_indexer,col_indexer] = value instead\n",
      "\n",
      "See the caveats in the documentation: http://pandas.pydata.org/pandas-docs/stable/indexing.html#indexing-view-versus-copy\n",
      "C:\\Anaconda3\\lib\\site-packages\\ipykernel\\__main__.py:66: SettingWithCopyWarning: \n",
      "A value is trying to be set on a copy of a slice from a DataFrame.\n",
      "Try using .loc[row_indexer,col_indexer] = value instead\n",
      "\n",
      "See the caveats in the documentation: http://pandas.pydata.org/pandas-docs/stable/indexing.html#indexing-view-versus-copy\n",
      "C:\\Anaconda3\\lib\\site-packages\\ipykernel\\__main__.py:68: SettingWithCopyWarning: \n",
      "A value is trying to be set on a copy of a slice from a DataFrame.\n",
      "Try using .loc[row_indexer,col_indexer] = value instead\n",
      "\n",
      "See the caveats in the documentation: http://pandas.pydata.org/pandas-docs/stable/indexing.html#indexing-view-versus-copy\n",
      "C:\\Anaconda3\\lib\\site-packages\\ipykernel\\__main__.py:69: SettingWithCopyWarning: \n",
      "A value is trying to be set on a copy of a slice from a DataFrame.\n",
      "Try using .loc[row_indexer,col_indexer] = value instead\n",
      "\n",
      "See the caveats in the documentation: http://pandas.pydata.org/pandas-docs/stable/indexing.html#indexing-view-versus-copy\n",
      "C:\\Anaconda3\\lib\\site-packages\\ipykernel\\__main__.py:70: SettingWithCopyWarning: \n",
      "A value is trying to be set on a copy of a slice from a DataFrame.\n",
      "Try using .loc[row_indexer,col_indexer] = value instead\n",
      "\n",
      "See the caveats in the documentation: http://pandas.pydata.org/pandas-docs/stable/indexing.html#indexing-view-versus-copy\n",
      "C:\\Anaconda3\\lib\\site-packages\\ipykernel\\__main__.py:71: SettingWithCopyWarning: \n",
      "A value is trying to be set on a copy of a slice from a DataFrame.\n",
      "Try using .loc[row_indexer,col_indexer] = value instead\n",
      "\n",
      "See the caveats in the documentation: http://pandas.pydata.org/pandas-docs/stable/indexing.html#indexing-view-versus-copy\n",
      "C:\\Anaconda3\\lib\\site-packages\\pandas\\core\\frame.py:2762: SettingWithCopyWarning: \n",
      "A value is trying to be set on a copy of a slice from a DataFrame\n",
      "\n",
      "See the caveats in the documentation: http://pandas.pydata.org/pandas-docs/stable/indexing.html#indexing-view-versus-copy\n",
      "  downcast=downcast, **kwargs)\n",
      "C:\\Anaconda3\\lib\\site-packages\\scipy\\optimize\\_minimize.py:394: RuntimeWarning: Method BFGS cannot handle constraints nor bounds.\n",
      "  RuntimeWarning)\n",
      "C:\\Anaconda3\\lib\\site-packages\\ipykernel\\__main__.py:63: SettingWithCopyWarning: \n",
      "A value is trying to be set on a copy of a slice from a DataFrame.\n",
      "Try using .loc[row_indexer,col_indexer] = value instead\n",
      "\n",
      "See the caveats in the documentation: http://pandas.pydata.org/pandas-docs/stable/indexing.html#indexing-view-versus-copy\n",
      "C:\\Anaconda3\\lib\\site-packages\\ipykernel\\__main__.py:64: SettingWithCopyWarning: \n",
      "A value is trying to be set on a copy of a slice from a DataFrame.\n",
      "Try using .loc[row_indexer,col_indexer] = value instead\n",
      "\n",
      "See the caveats in the documentation: http://pandas.pydata.org/pandas-docs/stable/indexing.html#indexing-view-versus-copy\n",
      "C:\\Anaconda3\\lib\\site-packages\\ipykernel\\__main__.py:65: SettingWithCopyWarning: \n",
      "A value is trying to be set on a copy of a slice from a DataFrame.\n",
      "Try using .loc[row_indexer,col_indexer] = value instead\n",
      "\n",
      "See the caveats in the documentation: http://pandas.pydata.org/pandas-docs/stable/indexing.html#indexing-view-versus-copy\n"
     ]
    },
    {
     "name": "stdout",
     "output_type": "stream",
     "text": [
      "Warning: Desired error not necessarily achieved due to precision loss.\n",
      "         Current function value: 0.000000\n",
      "         Iterations: 8\n",
      "         Function evaluations: 786\n",
      "         Gradient evaluations: 43\n"
     ]
    },
    {
     "name": "stderr",
     "output_type": "stream",
     "text": [
      "C:\\Anaconda3\\lib\\site-packages\\ipykernel\\__main__.py:66: SettingWithCopyWarning: \n",
      "A value is trying to be set on a copy of a slice from a DataFrame.\n",
      "Try using .loc[row_indexer,col_indexer] = value instead\n",
      "\n",
      "See the caveats in the documentation: http://pandas.pydata.org/pandas-docs/stable/indexing.html#indexing-view-versus-copy\n",
      "C:\\Anaconda3\\lib\\site-packages\\ipykernel\\__main__.py:68: SettingWithCopyWarning: \n",
      "A value is trying to be set on a copy of a slice from a DataFrame.\n",
      "Try using .loc[row_indexer,col_indexer] = value instead\n",
      "\n",
      "See the caveats in the documentation: http://pandas.pydata.org/pandas-docs/stable/indexing.html#indexing-view-versus-copy\n",
      "C:\\Anaconda3\\lib\\site-packages\\ipykernel\\__main__.py:69: SettingWithCopyWarning: \n",
      "A value is trying to be set on a copy of a slice from a DataFrame.\n",
      "Try using .loc[row_indexer,col_indexer] = value instead\n",
      "\n",
      "See the caveats in the documentation: http://pandas.pydata.org/pandas-docs/stable/indexing.html#indexing-view-versus-copy\n",
      "C:\\Anaconda3\\lib\\site-packages\\ipykernel\\__main__.py:70: SettingWithCopyWarning: \n",
      "A value is trying to be set on a copy of a slice from a DataFrame.\n",
      "Try using .loc[row_indexer,col_indexer] = value instead\n",
      "\n",
      "See the caveats in the documentation: http://pandas.pydata.org/pandas-docs/stable/indexing.html#indexing-view-versus-copy\n",
      "C:\\Anaconda3\\lib\\site-packages\\ipykernel\\__main__.py:71: SettingWithCopyWarning: \n",
      "A value is trying to be set on a copy of a slice from a DataFrame.\n",
      "Try using .loc[row_indexer,col_indexer] = value instead\n",
      "\n",
      "See the caveats in the documentation: http://pandas.pydata.org/pandas-docs/stable/indexing.html#indexing-view-versus-copy\n",
      "C:\\Anaconda3\\lib\\site-packages\\pandas\\core\\frame.py:2762: SettingWithCopyWarning: \n",
      "A value is trying to be set on a copy of a slice from a DataFrame\n",
      "\n",
      "See the caveats in the documentation: http://pandas.pydata.org/pandas-docs/stable/indexing.html#indexing-view-versus-copy\n",
      "  downcast=downcast, **kwargs)\n",
      "C:\\Anaconda3\\lib\\site-packages\\scipy\\optimize\\_minimize.py:394: RuntimeWarning: Method BFGS cannot handle constraints nor bounds.\n",
      "  RuntimeWarning)\n",
      "C:\\Anaconda3\\lib\\site-packages\\ipykernel\\__main__.py:63: SettingWithCopyWarning: \n",
      "A value is trying to be set on a copy of a slice from a DataFrame.\n",
      "Try using .loc[row_indexer,col_indexer] = value instead\n",
      "\n",
      "See the caveats in the documentation: http://pandas.pydata.org/pandas-docs/stable/indexing.html#indexing-view-versus-copy\n",
      "C:\\Anaconda3\\lib\\site-packages\\ipykernel\\__main__.py:64: SettingWithCopyWarning: \n",
      "A value is trying to be set on a copy of a slice from a DataFrame.\n",
      "Try using .loc[row_indexer,col_indexer] = value instead\n",
      "\n",
      "See the caveats in the documentation: http://pandas.pydata.org/pandas-docs/stable/indexing.html#indexing-view-versus-copy\n"
     ]
    },
    {
     "name": "stdout",
     "output_type": "stream",
     "text": [
      "Warning: Desired error not necessarily achieved due to precision loss.\n",
      "         Current function value: 0.000000\n",
      "         Iterations: 15\n",
      "         Function evaluations: 912\n",
      "         Gradient evaluations: 50\n"
     ]
    },
    {
     "name": "stderr",
     "output_type": "stream",
     "text": [
      "C:\\Anaconda3\\lib\\site-packages\\ipykernel\\__main__.py:65: SettingWithCopyWarning: \n",
      "A value is trying to be set on a copy of a slice from a DataFrame.\n",
      "Try using .loc[row_indexer,col_indexer] = value instead\n",
      "\n",
      "See the caveats in the documentation: http://pandas.pydata.org/pandas-docs/stable/indexing.html#indexing-view-versus-copy\n",
      "C:\\Anaconda3\\lib\\site-packages\\ipykernel\\__main__.py:66: SettingWithCopyWarning: \n",
      "A value is trying to be set on a copy of a slice from a DataFrame.\n",
      "Try using .loc[row_indexer,col_indexer] = value instead\n",
      "\n",
      "See the caveats in the documentation: http://pandas.pydata.org/pandas-docs/stable/indexing.html#indexing-view-versus-copy\n",
      "C:\\Anaconda3\\lib\\site-packages\\ipykernel\\__main__.py:68: SettingWithCopyWarning: \n",
      "A value is trying to be set on a copy of a slice from a DataFrame.\n",
      "Try using .loc[row_indexer,col_indexer] = value instead\n",
      "\n",
      "See the caveats in the documentation: http://pandas.pydata.org/pandas-docs/stable/indexing.html#indexing-view-versus-copy\n",
      "C:\\Anaconda3\\lib\\site-packages\\ipykernel\\__main__.py:69: SettingWithCopyWarning: \n",
      "A value is trying to be set on a copy of a slice from a DataFrame.\n",
      "Try using .loc[row_indexer,col_indexer] = value instead\n",
      "\n",
      "See the caveats in the documentation: http://pandas.pydata.org/pandas-docs/stable/indexing.html#indexing-view-versus-copy\n",
      "C:\\Anaconda3\\lib\\site-packages\\ipykernel\\__main__.py:70: SettingWithCopyWarning: \n",
      "A value is trying to be set on a copy of a slice from a DataFrame.\n",
      "Try using .loc[row_indexer,col_indexer] = value instead\n",
      "\n",
      "See the caveats in the documentation: http://pandas.pydata.org/pandas-docs/stable/indexing.html#indexing-view-versus-copy\n",
      "C:\\Anaconda3\\lib\\site-packages\\ipykernel\\__main__.py:71: SettingWithCopyWarning: \n",
      "A value is trying to be set on a copy of a slice from a DataFrame.\n",
      "Try using .loc[row_indexer,col_indexer] = value instead\n",
      "\n",
      "See the caveats in the documentation: http://pandas.pydata.org/pandas-docs/stable/indexing.html#indexing-view-versus-copy\n",
      "C:\\Anaconda3\\lib\\site-packages\\pandas\\core\\frame.py:2762: SettingWithCopyWarning: \n",
      "A value is trying to be set on a copy of a slice from a DataFrame\n",
      "\n",
      "See the caveats in the documentation: http://pandas.pydata.org/pandas-docs/stable/indexing.html#indexing-view-versus-copy\n",
      "  downcast=downcast, **kwargs)\n",
      "C:\\Anaconda3\\lib\\site-packages\\scipy\\optimize\\_minimize.py:394: RuntimeWarning: Method BFGS cannot handle constraints nor bounds.\n",
      "  RuntimeWarning)\n",
      "C:\\Anaconda3\\lib\\site-packages\\ipykernel\\__main__.py:63: SettingWithCopyWarning: \n",
      "A value is trying to be set on a copy of a slice from a DataFrame.\n",
      "Try using .loc[row_indexer,col_indexer] = value instead\n",
      "\n",
      "See the caveats in the documentation: http://pandas.pydata.org/pandas-docs/stable/indexing.html#indexing-view-versus-copy\n",
      "C:\\Anaconda3\\lib\\site-packages\\ipykernel\\__main__.py:64: SettingWithCopyWarning: \n",
      "A value is trying to be set on a copy of a slice from a DataFrame.\n",
      "Try using .loc[row_indexer,col_indexer] = value instead\n",
      "\n",
      "See the caveats in the documentation: http://pandas.pydata.org/pandas-docs/stable/indexing.html#indexing-view-versus-copy\n",
      "C:\\Anaconda3\\lib\\site-packages\\ipykernel\\__main__.py:65: SettingWithCopyWarning: \n",
      "A value is trying to be set on a copy of a slice from a DataFrame.\n",
      "Try using .loc[row_indexer,col_indexer] = value instead\n",
      "\n",
      "See the caveats in the documentation: http://pandas.pydata.org/pandas-docs/stable/indexing.html#indexing-view-versus-copy\n"
     ]
    },
    {
     "name": "stdout",
     "output_type": "stream",
     "text": [
      "Warning: Desired error not necessarily achieved due to precision loss.\n",
      "         Current function value: 0.000001\n",
      "         Iterations: 2\n",
      "         Function evaluations: 354\n",
      "         Gradient evaluations: 19\n"
     ]
    },
    {
     "name": "stderr",
     "output_type": "stream",
     "text": [
      "C:\\Anaconda3\\lib\\site-packages\\ipykernel\\__main__.py:66: SettingWithCopyWarning: \n",
      "A value is trying to be set on a copy of a slice from a DataFrame.\n",
      "Try using .loc[row_indexer,col_indexer] = value instead\n",
      "\n",
      "See the caveats in the documentation: http://pandas.pydata.org/pandas-docs/stable/indexing.html#indexing-view-versus-copy\n",
      "C:\\Anaconda3\\lib\\site-packages\\ipykernel\\__main__.py:68: SettingWithCopyWarning: \n",
      "A value is trying to be set on a copy of a slice from a DataFrame.\n",
      "Try using .loc[row_indexer,col_indexer] = value instead\n",
      "\n",
      "See the caveats in the documentation: http://pandas.pydata.org/pandas-docs/stable/indexing.html#indexing-view-versus-copy\n",
      "C:\\Anaconda3\\lib\\site-packages\\ipykernel\\__main__.py:69: SettingWithCopyWarning: \n",
      "A value is trying to be set on a copy of a slice from a DataFrame.\n",
      "Try using .loc[row_indexer,col_indexer] = value instead\n",
      "\n",
      "See the caveats in the documentation: http://pandas.pydata.org/pandas-docs/stable/indexing.html#indexing-view-versus-copy\n",
      "C:\\Anaconda3\\lib\\site-packages\\ipykernel\\__main__.py:70: SettingWithCopyWarning: \n",
      "A value is trying to be set on a copy of a slice from a DataFrame.\n",
      "Try using .loc[row_indexer,col_indexer] = value instead\n",
      "\n",
      "See the caveats in the documentation: http://pandas.pydata.org/pandas-docs/stable/indexing.html#indexing-view-versus-copy\n",
      "C:\\Anaconda3\\lib\\site-packages\\ipykernel\\__main__.py:71: SettingWithCopyWarning: \n",
      "A value is trying to be set on a copy of a slice from a DataFrame.\n",
      "Try using .loc[row_indexer,col_indexer] = value instead\n",
      "\n",
      "See the caveats in the documentation: http://pandas.pydata.org/pandas-docs/stable/indexing.html#indexing-view-versus-copy\n",
      "C:\\Anaconda3\\lib\\site-packages\\pandas\\core\\frame.py:2762: SettingWithCopyWarning: \n",
      "A value is trying to be set on a copy of a slice from a DataFrame\n",
      "\n",
      "See the caveats in the documentation: http://pandas.pydata.org/pandas-docs/stable/indexing.html#indexing-view-versus-copy\n",
      "  downcast=downcast, **kwargs)\n",
      "C:\\Anaconda3\\lib\\site-packages\\scipy\\optimize\\_minimize.py:394: RuntimeWarning: Method BFGS cannot handle constraints nor bounds.\n",
      "  RuntimeWarning)\n",
      "C:\\Anaconda3\\lib\\site-packages\\ipykernel\\__main__.py:63: SettingWithCopyWarning: \n",
      "A value is trying to be set on a copy of a slice from a DataFrame.\n",
      "Try using .loc[row_indexer,col_indexer] = value instead\n",
      "\n",
      "See the caveats in the documentation: http://pandas.pydata.org/pandas-docs/stable/indexing.html#indexing-view-versus-copy\n",
      "C:\\Anaconda3\\lib\\site-packages\\ipykernel\\__main__.py:64: SettingWithCopyWarning: \n",
      "A value is trying to be set on a copy of a slice from a DataFrame.\n",
      "Try using .loc[row_indexer,col_indexer] = value instead\n",
      "\n",
      "See the caveats in the documentation: http://pandas.pydata.org/pandas-docs/stable/indexing.html#indexing-view-versus-copy\n"
     ]
    },
    {
     "name": "stdout",
     "output_type": "stream",
     "text": [
      "Warning: Desired error not necessarily achieved due to precision loss.\n",
      "         Current function value: 0.000000\n",
      "         Iterations: 15\n",
      "         Function evaluations: 948\n",
      "         Gradient evaluations: 52\n"
     ]
    },
    {
     "name": "stderr",
     "output_type": "stream",
     "text": [
      "C:\\Anaconda3\\lib\\site-packages\\ipykernel\\__main__.py:65: SettingWithCopyWarning: \n",
      "A value is trying to be set on a copy of a slice from a DataFrame.\n",
      "Try using .loc[row_indexer,col_indexer] = value instead\n",
      "\n",
      "See the caveats in the documentation: http://pandas.pydata.org/pandas-docs/stable/indexing.html#indexing-view-versus-copy\n",
      "C:\\Anaconda3\\lib\\site-packages\\ipykernel\\__main__.py:66: SettingWithCopyWarning: \n",
      "A value is trying to be set on a copy of a slice from a DataFrame.\n",
      "Try using .loc[row_indexer,col_indexer] = value instead\n",
      "\n",
      "See the caveats in the documentation: http://pandas.pydata.org/pandas-docs/stable/indexing.html#indexing-view-versus-copy\n",
      "C:\\Anaconda3\\lib\\site-packages\\ipykernel\\__main__.py:68: SettingWithCopyWarning: \n",
      "A value is trying to be set on a copy of a slice from a DataFrame.\n",
      "Try using .loc[row_indexer,col_indexer] = value instead\n",
      "\n",
      "See the caveats in the documentation: http://pandas.pydata.org/pandas-docs/stable/indexing.html#indexing-view-versus-copy\n",
      "C:\\Anaconda3\\lib\\site-packages\\ipykernel\\__main__.py:69: SettingWithCopyWarning: \n",
      "A value is trying to be set on a copy of a slice from a DataFrame.\n",
      "Try using .loc[row_indexer,col_indexer] = value instead\n",
      "\n",
      "See the caveats in the documentation: http://pandas.pydata.org/pandas-docs/stable/indexing.html#indexing-view-versus-copy\n",
      "C:\\Anaconda3\\lib\\site-packages\\ipykernel\\__main__.py:70: SettingWithCopyWarning: \n",
      "A value is trying to be set on a copy of a slice from a DataFrame.\n",
      "Try using .loc[row_indexer,col_indexer] = value instead\n",
      "\n",
      "See the caveats in the documentation: http://pandas.pydata.org/pandas-docs/stable/indexing.html#indexing-view-versus-copy\n",
      "C:\\Anaconda3\\lib\\site-packages\\ipykernel\\__main__.py:71: SettingWithCopyWarning: \n",
      "A value is trying to be set on a copy of a slice from a DataFrame.\n",
      "Try using .loc[row_indexer,col_indexer] = value instead\n",
      "\n",
      "See the caveats in the documentation: http://pandas.pydata.org/pandas-docs/stable/indexing.html#indexing-view-versus-copy\n",
      "C:\\Anaconda3\\lib\\site-packages\\pandas\\core\\frame.py:2762: SettingWithCopyWarning: \n",
      "A value is trying to be set on a copy of a slice from a DataFrame\n",
      "\n",
      "See the caveats in the documentation: http://pandas.pydata.org/pandas-docs/stable/indexing.html#indexing-view-versus-copy\n",
      "  downcast=downcast, **kwargs)\n",
      "C:\\Anaconda3\\lib\\site-packages\\scipy\\optimize\\_minimize.py:394: RuntimeWarning: Method BFGS cannot handle constraints nor bounds.\n",
      "  RuntimeWarning)\n",
      "C:\\Anaconda3\\lib\\site-packages\\ipykernel\\__main__.py:63: SettingWithCopyWarning: \n",
      "A value is trying to be set on a copy of a slice from a DataFrame.\n",
      "Try using .loc[row_indexer,col_indexer] = value instead\n",
      "\n",
      "See the caveats in the documentation: http://pandas.pydata.org/pandas-docs/stable/indexing.html#indexing-view-versus-copy\n",
      "C:\\Anaconda3\\lib\\site-packages\\ipykernel\\__main__.py:64: SettingWithCopyWarning: \n",
      "A value is trying to be set on a copy of a slice from a DataFrame.\n",
      "Try using .loc[row_indexer,col_indexer] = value instead\n",
      "\n",
      "See the caveats in the documentation: http://pandas.pydata.org/pandas-docs/stable/indexing.html#indexing-view-versus-copy\n"
     ]
    },
    {
     "name": "stdout",
     "output_type": "stream",
     "text": [
      "Warning: Desired error not necessarily achieved due to precision loss.\n",
      "         Current function value: 0.000000\n",
      "         Iterations: 13\n",
      "         Function evaluations: 1179\n",
      "         Gradient evaluations: 65\n"
     ]
    },
    {
     "name": "stderr",
     "output_type": "stream",
     "text": [
      "C:\\Anaconda3\\lib\\site-packages\\ipykernel\\__main__.py:65: SettingWithCopyWarning: \n",
      "A value is trying to be set on a copy of a slice from a DataFrame.\n",
      "Try using .loc[row_indexer,col_indexer] = value instead\n",
      "\n",
      "See the caveats in the documentation: http://pandas.pydata.org/pandas-docs/stable/indexing.html#indexing-view-versus-copy\n",
      "C:\\Anaconda3\\lib\\site-packages\\ipykernel\\__main__.py:66: SettingWithCopyWarning: \n",
      "A value is trying to be set on a copy of a slice from a DataFrame.\n",
      "Try using .loc[row_indexer,col_indexer] = value instead\n",
      "\n",
      "See the caveats in the documentation: http://pandas.pydata.org/pandas-docs/stable/indexing.html#indexing-view-versus-copy\n",
      "C:\\Anaconda3\\lib\\site-packages\\ipykernel\\__main__.py:68: SettingWithCopyWarning: \n",
      "A value is trying to be set on a copy of a slice from a DataFrame.\n",
      "Try using .loc[row_indexer,col_indexer] = value instead\n",
      "\n",
      "See the caveats in the documentation: http://pandas.pydata.org/pandas-docs/stable/indexing.html#indexing-view-versus-copy\n",
      "C:\\Anaconda3\\lib\\site-packages\\ipykernel\\__main__.py:69: SettingWithCopyWarning: \n",
      "A value is trying to be set on a copy of a slice from a DataFrame.\n",
      "Try using .loc[row_indexer,col_indexer] = value instead\n",
      "\n",
      "See the caveats in the documentation: http://pandas.pydata.org/pandas-docs/stable/indexing.html#indexing-view-versus-copy\n",
      "C:\\Anaconda3\\lib\\site-packages\\ipykernel\\__main__.py:70: SettingWithCopyWarning: \n",
      "A value is trying to be set on a copy of a slice from a DataFrame.\n",
      "Try using .loc[row_indexer,col_indexer] = value instead\n",
      "\n",
      "See the caveats in the documentation: http://pandas.pydata.org/pandas-docs/stable/indexing.html#indexing-view-versus-copy\n",
      "C:\\Anaconda3\\lib\\site-packages\\ipykernel\\__main__.py:71: SettingWithCopyWarning: \n",
      "A value is trying to be set on a copy of a slice from a DataFrame.\n",
      "Try using .loc[row_indexer,col_indexer] = value instead\n",
      "\n",
      "See the caveats in the documentation: http://pandas.pydata.org/pandas-docs/stable/indexing.html#indexing-view-versus-copy\n",
      "C:\\Anaconda3\\lib\\site-packages\\pandas\\core\\frame.py:2762: SettingWithCopyWarning: \n",
      "A value is trying to be set on a copy of a slice from a DataFrame\n",
      "\n",
      "See the caveats in the documentation: http://pandas.pydata.org/pandas-docs/stable/indexing.html#indexing-view-versus-copy\n",
      "  downcast=downcast, **kwargs)\n",
      "C:\\Anaconda3\\lib\\site-packages\\scipy\\optimize\\_minimize.py:394: RuntimeWarning: Method BFGS cannot handle constraints nor bounds.\n",
      "  RuntimeWarning)\n",
      "C:\\Anaconda3\\lib\\site-packages\\ipykernel\\__main__.py:63: SettingWithCopyWarning: \n",
      "A value is trying to be set on a copy of a slice from a DataFrame.\n",
      "Try using .loc[row_indexer,col_indexer] = value instead\n",
      "\n",
      "See the caveats in the documentation: http://pandas.pydata.org/pandas-docs/stable/indexing.html#indexing-view-versus-copy\n",
      "C:\\Anaconda3\\lib\\site-packages\\ipykernel\\__main__.py:64: SettingWithCopyWarning: \n",
      "A value is trying to be set on a copy of a slice from a DataFrame.\n",
      "Try using .loc[row_indexer,col_indexer] = value instead\n",
      "\n",
      "See the caveats in the documentation: http://pandas.pydata.org/pandas-docs/stable/indexing.html#indexing-view-versus-copy\n"
     ]
    },
    {
     "name": "stdout",
     "output_type": "stream",
     "text": [
      "Warning: Desired error not necessarily achieved due to precision loss.\n",
      "         Current function value: 0.000000\n",
      "         Iterations: 10\n",
      "         Function evaluations: 840\n",
      "         Gradient evaluations: 46\n"
     ]
    },
    {
     "name": "stderr",
     "output_type": "stream",
     "text": [
      "C:\\Anaconda3\\lib\\site-packages\\ipykernel\\__main__.py:65: SettingWithCopyWarning: \n",
      "A value is trying to be set on a copy of a slice from a DataFrame.\n",
      "Try using .loc[row_indexer,col_indexer] = value instead\n",
      "\n",
      "See the caveats in the documentation: http://pandas.pydata.org/pandas-docs/stable/indexing.html#indexing-view-versus-copy\n",
      "C:\\Anaconda3\\lib\\site-packages\\ipykernel\\__main__.py:66: SettingWithCopyWarning: \n",
      "A value is trying to be set on a copy of a slice from a DataFrame.\n",
      "Try using .loc[row_indexer,col_indexer] = value instead\n",
      "\n",
      "See the caveats in the documentation: http://pandas.pydata.org/pandas-docs/stable/indexing.html#indexing-view-versus-copy\n",
      "C:\\Anaconda3\\lib\\site-packages\\ipykernel\\__main__.py:68: SettingWithCopyWarning: \n",
      "A value is trying to be set on a copy of a slice from a DataFrame.\n",
      "Try using .loc[row_indexer,col_indexer] = value instead\n",
      "\n",
      "See the caveats in the documentation: http://pandas.pydata.org/pandas-docs/stable/indexing.html#indexing-view-versus-copy\n",
      "C:\\Anaconda3\\lib\\site-packages\\ipykernel\\__main__.py:69: SettingWithCopyWarning: \n",
      "A value is trying to be set on a copy of a slice from a DataFrame.\n",
      "Try using .loc[row_indexer,col_indexer] = value instead\n",
      "\n",
      "See the caveats in the documentation: http://pandas.pydata.org/pandas-docs/stable/indexing.html#indexing-view-versus-copy\n",
      "C:\\Anaconda3\\lib\\site-packages\\ipykernel\\__main__.py:70: SettingWithCopyWarning: \n",
      "A value is trying to be set on a copy of a slice from a DataFrame.\n",
      "Try using .loc[row_indexer,col_indexer] = value instead\n",
      "\n",
      "See the caveats in the documentation: http://pandas.pydata.org/pandas-docs/stable/indexing.html#indexing-view-versus-copy\n",
      "C:\\Anaconda3\\lib\\site-packages\\ipykernel\\__main__.py:71: SettingWithCopyWarning: \n",
      "A value is trying to be set on a copy of a slice from a DataFrame.\n",
      "Try using .loc[row_indexer,col_indexer] = value instead\n",
      "\n",
      "See the caveats in the documentation: http://pandas.pydata.org/pandas-docs/stable/indexing.html#indexing-view-versus-copy\n",
      "C:\\Anaconda3\\lib\\site-packages\\pandas\\core\\frame.py:2762: SettingWithCopyWarning: \n",
      "A value is trying to be set on a copy of a slice from a DataFrame\n",
      "\n",
      "See the caveats in the documentation: http://pandas.pydata.org/pandas-docs/stable/indexing.html#indexing-view-versus-copy\n",
      "  downcast=downcast, **kwargs)\n",
      "C:\\Anaconda3\\lib\\site-packages\\scipy\\optimize\\_minimize.py:394: RuntimeWarning: Method BFGS cannot handle constraints nor bounds.\n",
      "  RuntimeWarning)\n",
      "C:\\Anaconda3\\lib\\site-packages\\ipykernel\\__main__.py:63: SettingWithCopyWarning: \n",
      "A value is trying to be set on a copy of a slice from a DataFrame.\n",
      "Try using .loc[row_indexer,col_indexer] = value instead\n",
      "\n",
      "See the caveats in the documentation: http://pandas.pydata.org/pandas-docs/stable/indexing.html#indexing-view-versus-copy\n"
     ]
    },
    {
     "name": "stdout",
     "output_type": "stream",
     "text": [
      "Warning: Desired error not necessarily achieved due to precision loss.\n",
      "         Current function value: 0.000000\n",
      "         Iterations: 15\n",
      "         Function evaluations: 1526\n",
      "         Gradient evaluations: 84\n"
     ]
    },
    {
     "name": "stderr",
     "output_type": "stream",
     "text": [
      "C:\\Anaconda3\\lib\\site-packages\\ipykernel\\__main__.py:64: SettingWithCopyWarning: \n",
      "A value is trying to be set on a copy of a slice from a DataFrame.\n",
      "Try using .loc[row_indexer,col_indexer] = value instead\n",
      "\n",
      "See the caveats in the documentation: http://pandas.pydata.org/pandas-docs/stable/indexing.html#indexing-view-versus-copy\n",
      "C:\\Anaconda3\\lib\\site-packages\\ipykernel\\__main__.py:65: SettingWithCopyWarning: \n",
      "A value is trying to be set on a copy of a slice from a DataFrame.\n",
      "Try using .loc[row_indexer,col_indexer] = value instead\n",
      "\n",
      "See the caveats in the documentation: http://pandas.pydata.org/pandas-docs/stable/indexing.html#indexing-view-versus-copy\n",
      "C:\\Anaconda3\\lib\\site-packages\\ipykernel\\__main__.py:66: SettingWithCopyWarning: \n",
      "A value is trying to be set on a copy of a slice from a DataFrame.\n",
      "Try using .loc[row_indexer,col_indexer] = value instead\n",
      "\n",
      "See the caveats in the documentation: http://pandas.pydata.org/pandas-docs/stable/indexing.html#indexing-view-versus-copy\n",
      "C:\\Anaconda3\\lib\\site-packages\\ipykernel\\__main__.py:68: SettingWithCopyWarning: \n",
      "A value is trying to be set on a copy of a slice from a DataFrame.\n",
      "Try using .loc[row_indexer,col_indexer] = value instead\n",
      "\n",
      "See the caveats in the documentation: http://pandas.pydata.org/pandas-docs/stable/indexing.html#indexing-view-versus-copy\n",
      "C:\\Anaconda3\\lib\\site-packages\\ipykernel\\__main__.py:69: SettingWithCopyWarning: \n",
      "A value is trying to be set on a copy of a slice from a DataFrame.\n",
      "Try using .loc[row_indexer,col_indexer] = value instead\n",
      "\n",
      "See the caveats in the documentation: http://pandas.pydata.org/pandas-docs/stable/indexing.html#indexing-view-versus-copy\n",
      "C:\\Anaconda3\\lib\\site-packages\\ipykernel\\__main__.py:70: SettingWithCopyWarning: \n",
      "A value is trying to be set on a copy of a slice from a DataFrame.\n",
      "Try using .loc[row_indexer,col_indexer] = value instead\n",
      "\n",
      "See the caveats in the documentation: http://pandas.pydata.org/pandas-docs/stable/indexing.html#indexing-view-versus-copy\n",
      "C:\\Anaconda3\\lib\\site-packages\\ipykernel\\__main__.py:71: SettingWithCopyWarning: \n",
      "A value is trying to be set on a copy of a slice from a DataFrame.\n",
      "Try using .loc[row_indexer,col_indexer] = value instead\n",
      "\n",
      "See the caveats in the documentation: http://pandas.pydata.org/pandas-docs/stable/indexing.html#indexing-view-versus-copy\n",
      "C:\\Anaconda3\\lib\\site-packages\\pandas\\core\\frame.py:2762: SettingWithCopyWarning: \n",
      "A value is trying to be set on a copy of a slice from a DataFrame\n",
      "\n",
      "See the caveats in the documentation: http://pandas.pydata.org/pandas-docs/stable/indexing.html#indexing-view-versus-copy\n",
      "  downcast=downcast, **kwargs)\n",
      "C:\\Anaconda3\\lib\\site-packages\\scipy\\optimize\\_minimize.py:394: RuntimeWarning: Method BFGS cannot handle constraints nor bounds.\n",
      "  RuntimeWarning)\n",
      "C:\\Anaconda3\\lib\\site-packages\\ipykernel\\__main__.py:63: SettingWithCopyWarning: \n",
      "A value is trying to be set on a copy of a slice from a DataFrame.\n",
      "Try using .loc[row_indexer,col_indexer] = value instead\n",
      "\n",
      "See the caveats in the documentation: http://pandas.pydata.org/pandas-docs/stable/indexing.html#indexing-view-versus-copy\n",
      "C:\\Anaconda3\\lib\\site-packages\\ipykernel\\__main__.py:64: SettingWithCopyWarning: \n",
      "A value is trying to be set on a copy of a slice from a DataFrame.\n",
      "Try using .loc[row_indexer,col_indexer] = value instead\n",
      "\n",
      "See the caveats in the documentation: http://pandas.pydata.org/pandas-docs/stable/indexing.html#indexing-view-versus-copy\n"
     ]
    },
    {
     "name": "stdout",
     "output_type": "stream",
     "text": [
      "Warning: Desired error not necessarily achieved due to precision loss.\n",
      "         Current function value: 0.000000\n",
      "         Iterations: 7\n",
      "         Function evaluations: 786\n",
      "         Gradient evaluations: 43\n"
     ]
    },
    {
     "name": "stderr",
     "output_type": "stream",
     "text": [
      "C:\\Anaconda3\\lib\\site-packages\\ipykernel\\__main__.py:65: SettingWithCopyWarning: \n",
      "A value is trying to be set on a copy of a slice from a DataFrame.\n",
      "Try using .loc[row_indexer,col_indexer] = value instead\n",
      "\n",
      "See the caveats in the documentation: http://pandas.pydata.org/pandas-docs/stable/indexing.html#indexing-view-versus-copy\n",
      "C:\\Anaconda3\\lib\\site-packages\\ipykernel\\__main__.py:66: SettingWithCopyWarning: \n",
      "A value is trying to be set on a copy of a slice from a DataFrame.\n",
      "Try using .loc[row_indexer,col_indexer] = value instead\n",
      "\n",
      "See the caveats in the documentation: http://pandas.pydata.org/pandas-docs/stable/indexing.html#indexing-view-versus-copy\n",
      "C:\\Anaconda3\\lib\\site-packages\\ipykernel\\__main__.py:68: SettingWithCopyWarning: \n",
      "A value is trying to be set on a copy of a slice from a DataFrame.\n",
      "Try using .loc[row_indexer,col_indexer] = value instead\n",
      "\n",
      "See the caveats in the documentation: http://pandas.pydata.org/pandas-docs/stable/indexing.html#indexing-view-versus-copy\n",
      "C:\\Anaconda3\\lib\\site-packages\\ipykernel\\__main__.py:69: SettingWithCopyWarning: \n",
      "A value is trying to be set on a copy of a slice from a DataFrame.\n",
      "Try using .loc[row_indexer,col_indexer] = value instead\n",
      "\n",
      "See the caveats in the documentation: http://pandas.pydata.org/pandas-docs/stable/indexing.html#indexing-view-versus-copy\n",
      "C:\\Anaconda3\\lib\\site-packages\\ipykernel\\__main__.py:70: SettingWithCopyWarning: \n",
      "A value is trying to be set on a copy of a slice from a DataFrame.\n",
      "Try using .loc[row_indexer,col_indexer] = value instead\n",
      "\n",
      "See the caveats in the documentation: http://pandas.pydata.org/pandas-docs/stable/indexing.html#indexing-view-versus-copy\n",
      "C:\\Anaconda3\\lib\\site-packages\\ipykernel\\__main__.py:71: SettingWithCopyWarning: \n",
      "A value is trying to be set on a copy of a slice from a DataFrame.\n",
      "Try using .loc[row_indexer,col_indexer] = value instead\n",
      "\n",
      "See the caveats in the documentation: http://pandas.pydata.org/pandas-docs/stable/indexing.html#indexing-view-versus-copy\n",
      "C:\\Anaconda3\\lib\\site-packages\\pandas\\core\\frame.py:2762: SettingWithCopyWarning: \n",
      "A value is trying to be set on a copy of a slice from a DataFrame\n",
      "\n",
      "See the caveats in the documentation: http://pandas.pydata.org/pandas-docs/stable/indexing.html#indexing-view-versus-copy\n",
      "  downcast=downcast, **kwargs)\n",
      "C:\\Anaconda3\\lib\\site-packages\\scipy\\optimize\\_minimize.py:394: RuntimeWarning: Method BFGS cannot handle constraints nor bounds.\n",
      "  RuntimeWarning)\n",
      "C:\\Anaconda3\\lib\\site-packages\\ipykernel\\__main__.py:63: SettingWithCopyWarning: \n",
      "A value is trying to be set on a copy of a slice from a DataFrame.\n",
      "Try using .loc[row_indexer,col_indexer] = value instead\n",
      "\n",
      "See the caveats in the documentation: http://pandas.pydata.org/pandas-docs/stable/indexing.html#indexing-view-versus-copy\n",
      "C:\\Anaconda3\\lib\\site-packages\\ipykernel\\__main__.py:64: SettingWithCopyWarning: \n",
      "A value is trying to be set on a copy of a slice from a DataFrame.\n",
      "Try using .loc[row_indexer,col_indexer] = value instead\n",
      "\n",
      "See the caveats in the documentation: http://pandas.pydata.org/pandas-docs/stable/indexing.html#indexing-view-versus-copy\n",
      "C:\\Anaconda3\\lib\\site-packages\\ipykernel\\__main__.py:65: SettingWithCopyWarning: \n",
      "A value is trying to be set on a copy of a slice from a DataFrame.\n",
      "Try using .loc[row_indexer,col_indexer] = value instead\n",
      "\n",
      "See the caveats in the documentation: http://pandas.pydata.org/pandas-docs/stable/indexing.html#indexing-view-versus-copy\n"
     ]
    },
    {
     "name": "stdout",
     "output_type": "stream",
     "text": [
      "Warning: Desired error not necessarily achieved due to precision loss.\n",
      "         Current function value: 0.000000\n",
      "         Iterations: 15\n",
      "         Function evaluations: 876\n",
      "         Gradient evaluations: 48\n"
     ]
    },
    {
     "name": "stderr",
     "output_type": "stream",
     "text": [
      "C:\\Anaconda3\\lib\\site-packages\\ipykernel\\__main__.py:66: SettingWithCopyWarning: \n",
      "A value is trying to be set on a copy of a slice from a DataFrame.\n",
      "Try using .loc[row_indexer,col_indexer] = value instead\n",
      "\n",
      "See the caveats in the documentation: http://pandas.pydata.org/pandas-docs/stable/indexing.html#indexing-view-versus-copy\n",
      "C:\\Anaconda3\\lib\\site-packages\\ipykernel\\__main__.py:68: SettingWithCopyWarning: \n",
      "A value is trying to be set on a copy of a slice from a DataFrame.\n",
      "Try using .loc[row_indexer,col_indexer] = value instead\n",
      "\n",
      "See the caveats in the documentation: http://pandas.pydata.org/pandas-docs/stable/indexing.html#indexing-view-versus-copy\n",
      "C:\\Anaconda3\\lib\\site-packages\\ipykernel\\__main__.py:69: SettingWithCopyWarning: \n",
      "A value is trying to be set on a copy of a slice from a DataFrame.\n",
      "Try using .loc[row_indexer,col_indexer] = value instead\n",
      "\n",
      "See the caveats in the documentation: http://pandas.pydata.org/pandas-docs/stable/indexing.html#indexing-view-versus-copy\n",
      "C:\\Anaconda3\\lib\\site-packages\\ipykernel\\__main__.py:70: SettingWithCopyWarning: \n",
      "A value is trying to be set on a copy of a slice from a DataFrame.\n",
      "Try using .loc[row_indexer,col_indexer] = value instead\n",
      "\n",
      "See the caveats in the documentation: http://pandas.pydata.org/pandas-docs/stable/indexing.html#indexing-view-versus-copy\n",
      "C:\\Anaconda3\\lib\\site-packages\\ipykernel\\__main__.py:71: SettingWithCopyWarning: \n",
      "A value is trying to be set on a copy of a slice from a DataFrame.\n",
      "Try using .loc[row_indexer,col_indexer] = value instead\n",
      "\n",
      "See the caveats in the documentation: http://pandas.pydata.org/pandas-docs/stable/indexing.html#indexing-view-versus-copy\n",
      "C:\\Anaconda3\\lib\\site-packages\\pandas\\core\\frame.py:2762: SettingWithCopyWarning: \n",
      "A value is trying to be set on a copy of a slice from a DataFrame\n",
      "\n",
      "See the caveats in the documentation: http://pandas.pydata.org/pandas-docs/stable/indexing.html#indexing-view-versus-copy\n",
      "  downcast=downcast, **kwargs)\n",
      "C:\\Anaconda3\\lib\\site-packages\\scipy\\optimize\\_minimize.py:394: RuntimeWarning: Method BFGS cannot handle constraints nor bounds.\n",
      "  RuntimeWarning)\n"
     ]
    },
    {
     "name": "stdout",
     "output_type": "stream",
     "text": [
      "Warning: Desired error not necessarily achieved due to precision loss.\n",
      "         Current function value: 0.000000\n",
      "         Iterations: 15\n",
      "         Function evaluations: 858\n",
      "         Gradient evaluations: 47\n"
     ]
    },
    {
     "name": "stderr",
     "output_type": "stream",
     "text": [
      "C:\\Anaconda3\\lib\\site-packages\\ipykernel\\__main__.py:63: SettingWithCopyWarning: \n",
      "A value is trying to be set on a copy of a slice from a DataFrame.\n",
      "Try using .loc[row_indexer,col_indexer] = value instead\n",
      "\n",
      "See the caveats in the documentation: http://pandas.pydata.org/pandas-docs/stable/indexing.html#indexing-view-versus-copy\n",
      "C:\\Anaconda3\\lib\\site-packages\\ipykernel\\__main__.py:64: SettingWithCopyWarning: \n",
      "A value is trying to be set on a copy of a slice from a DataFrame.\n",
      "Try using .loc[row_indexer,col_indexer] = value instead\n",
      "\n",
      "See the caveats in the documentation: http://pandas.pydata.org/pandas-docs/stable/indexing.html#indexing-view-versus-copy\n",
      "C:\\Anaconda3\\lib\\site-packages\\ipykernel\\__main__.py:65: SettingWithCopyWarning: \n",
      "A value is trying to be set on a copy of a slice from a DataFrame.\n",
      "Try using .loc[row_indexer,col_indexer] = value instead\n",
      "\n",
      "See the caveats in the documentation: http://pandas.pydata.org/pandas-docs/stable/indexing.html#indexing-view-versus-copy\n",
      "C:\\Anaconda3\\lib\\site-packages\\ipykernel\\__main__.py:66: SettingWithCopyWarning: \n",
      "A value is trying to be set on a copy of a slice from a DataFrame.\n",
      "Try using .loc[row_indexer,col_indexer] = value instead\n",
      "\n",
      "See the caveats in the documentation: http://pandas.pydata.org/pandas-docs/stable/indexing.html#indexing-view-versus-copy\n",
      "C:\\Anaconda3\\lib\\site-packages\\ipykernel\\__main__.py:68: SettingWithCopyWarning: \n",
      "A value is trying to be set on a copy of a slice from a DataFrame.\n",
      "Try using .loc[row_indexer,col_indexer] = value instead\n",
      "\n",
      "See the caveats in the documentation: http://pandas.pydata.org/pandas-docs/stable/indexing.html#indexing-view-versus-copy\n",
      "C:\\Anaconda3\\lib\\site-packages\\ipykernel\\__main__.py:69: SettingWithCopyWarning: \n",
      "A value is trying to be set on a copy of a slice from a DataFrame.\n",
      "Try using .loc[row_indexer,col_indexer] = value instead\n",
      "\n",
      "See the caveats in the documentation: http://pandas.pydata.org/pandas-docs/stable/indexing.html#indexing-view-versus-copy\n",
      "C:\\Anaconda3\\lib\\site-packages\\ipykernel\\__main__.py:70: SettingWithCopyWarning: \n",
      "A value is trying to be set on a copy of a slice from a DataFrame.\n",
      "Try using .loc[row_indexer,col_indexer] = value instead\n",
      "\n",
      "See the caveats in the documentation: http://pandas.pydata.org/pandas-docs/stable/indexing.html#indexing-view-versus-copy\n",
      "C:\\Anaconda3\\lib\\site-packages\\ipykernel\\__main__.py:71: SettingWithCopyWarning: \n",
      "A value is trying to be set on a copy of a slice from a DataFrame.\n",
      "Try using .loc[row_indexer,col_indexer] = value instead\n",
      "\n",
      "See the caveats in the documentation: http://pandas.pydata.org/pandas-docs/stable/indexing.html#indexing-view-versus-copy\n",
      "C:\\Anaconda3\\lib\\site-packages\\pandas\\core\\frame.py:2762: SettingWithCopyWarning: \n",
      "A value is trying to be set on a copy of a slice from a DataFrame\n",
      "\n",
      "See the caveats in the documentation: http://pandas.pydata.org/pandas-docs/stable/indexing.html#indexing-view-versus-copy\n",
      "  downcast=downcast, **kwargs)\n",
      "C:\\Anaconda3\\lib\\site-packages\\scipy\\optimize\\_minimize.py:394: RuntimeWarning: Method BFGS cannot handle constraints nor bounds.\n",
      "  RuntimeWarning)\n"
     ]
    },
    {
     "name": "stdout",
     "output_type": "stream",
     "text": [
      "Warning: Desired error not necessarily achieved due to precision loss.\n",
      "         Current function value: 0.000000\n",
      "         Iterations: 11\n",
      "         Function evaluations: 1109\n",
      "         Gradient evaluations: 61\n"
     ]
    },
    {
     "data": {
      "text/plain": [
       "exchange\n",
       "bitfinex    Axes(0.125,0.125;0.775x0.775)\n",
       "bitstamp    Axes(0.125,0.125;0.775x0.775)\n",
       "btce        Axes(0.125,0.125;0.775x0.775)\n",
       "mtgox       Axes(0.125,0.125;0.775x0.775)\n",
       "dtype: object"
      ]
     },
     "execution_count": 13,
     "metadata": {},
     "output_type": "execute_result"
    },
    {
     "data": {
      "image/png": "[encoded data removed]",
      "text/plain": [
       "<matplotlib.figure.Figure at 0x98d1770>"
      ]
     },
     "metadata": {},
     "output_type": "display_data"
    },
    {
     "data": {
      "image/png": "[encoded data removed]",
      "text/plain": [
       "<matplotlib.figure.Figure at 0x9b7a650>"
      ]
     },
     "metadata": {},
     "output_type": "display_data"
    },
    {
     "data": {
      "image/png": "[encoded data removed]",
      "text/plain": [
       "<matplotlib.figure.Figure at 0x9898cd0>"
      ]
     },
     "metadata": {},
     "output_type": "display_data"
    },
    {
     "data": {
      "image/png": "[encoded data removed]",
      "text/plain": [
       "<matplotlib.figure.Figure at 0x99c8a70>"
      ]
     },
     "metadata": {},
     "output_type": "display_data"
    }
   ],
   "source": [
    "# -*- coding: utf-8 -*-\n",
    "\"\"\"\n",
    "For Calculating information share on \n",
    "This is a temporary infoscript file.\n",
    "\"\"\"\n",
    "\n",
    "import pandas as pd\n",
    "import numpy as np\n",
    "from datetime import datetime as dt\n",
    "import glob\n",
    "import os\n",
    "import datetime as dt\n",
    "import matplotlib.pyplot as plt\n",
    "import scipy.optimize as optimize\n",
    "\n",
    "\n",
    "#%% import data\n",
    "file = 'dated/four_exc.csv'\n",
    "\n",
    "data = pd.read_csv(file, date_parser=['date'])\n",
    "data['date'] = pd.to_datetime(data['date'])\n",
    "data.sort_values(by='date', inplace=True, ascending=False)\n",
    "\n",
    "### p1 : mtgox\n",
    "### p2 : btce\n",
    "### p3 : bitstamp\n",
    "### p4 : bitfinex\n",
    "new_column={'p_mtgoxUSD': 'p1', 'p_btceUSD':'p2', 'p_bitstampUSD':'p3', 'p_bitfinexUSD':'p4',\n",
    "            'v_mtgoxUSD': 'v1', 'v_btceUSD':'v2', 'v_bitstampUSD':'v3', 'v_bitfinexUSD':'v4' }\n",
    "data.rename(columns=new_column, inplace= True)\n",
    "\n",
    "\n",
    "#%% Market price formation\n",
    "price_data = data\n",
    "price_data['m_for_p1'] = (price_data['p2'] + price_data['p3'] + price_data['p4']) / 3\n",
    "price_data['m_for_p2'] = (price_data['p1'] + price_data['p3'] + price_data['p4']) / 3\n",
    "price_data['m_for_p3'] = (price_data['p1'] + price_data['p2'] + price_data['p4']) / 3\n",
    "price_data['m_for_p4'] = (price_data['p1'] + price_data['p2'] + price_data['p3']) / 3\n",
    "price_data.set_index('date', inplace=True, drop=True)\n",
    "\n",
    "\n",
    "#%% Initialze full dataframe for the monthly information share\n",
    "col = ['date', 'rho_ii','pi','sigma',\n",
    "       'E[yj_t,i_t-1]', 'E[yj_t,i_t]',\n",
    "        'gamma_i', 'gamma_j',\n",
    "        'psi_i', 'psi_j',\n",
    "        'omega_i_j', 'omega^e_i',\n",
    "        'IS', 'IS/AS']\n",
    "\n",
    "df_full = pd.DataFrame(columns=col)\n",
    "\n",
    "\n",
    "#%% Calculate IS\n",
    "data_monthly = price_data.groupby(pd.TimeGrouper('1M'))\n",
    "\n",
    "for name, price_data in data_monthly:\n",
    "#    print(name)\n",
    "#    price_data.reset_index(inplace=True, drop=True)\n",
    "#    price_data.sort_values(by='date', inplace=True, ascending=False)\n",
    "    \n",
    "    # Calculate lag variables of price difference\n",
    "    for i in range(1,5):\n",
    "        price_data['p'+str(i)] = np.log(price_data['p'+str(i)])\n",
    "        price_data['diff_p'+str(i)] = price_data['p'+str(i)] - price_data['p'+str(i)].shift(-1)\n",
    "        price_data['diff_lag1_p'+str(i)] = price_data['diff_p'+str(i)].shift(-1)\n",
    "        price_data['diff_lag2_p'+str(i)] = price_data['diff_lag1_p'+str(i)].shift(-1)\n",
    "\n",
    "        price_data['m_for_p'+str(i)] = np.log(price_data['m_for_p'+str(i)]) \n",
    "        price_data['diff_m_for_p'+str(i)] = price_data['m_for_p'+str(i)] - price_data['m_for_p'+str(i)].shift(-1)\n",
    "        price_data['diff_lag1_m_for_p'+str(i)] = price_data['diff_m_for_p'+str(i)].shift(-1)\n",
    "        price_data['diff_lag2_m_for_p'+str(i)] = price_data['diff_lag1_m_for_p'+str(i)].shift(-1)\n",
    "\n",
    "    price_data.fillna(method='ffill',inplace=True)\n",
    "\n",
    "    E_yj_yi = []\n",
    "    E_yj_yi_lag1_t = []\n",
    "    E_yj_yi_lag2_t = []\n",
    "    E_yi_yj_lag2_t = []\n",
    "    rho = []\n",
    "    \n",
    "    # calculate E[yj_t,i_t], E[yj_t,i_t-1], rho_ii\n",
    "    for i in range(1,5):\n",
    "        diff = price_data[['diff_m_for_p'+str(i),'diff_p'+str(i)]]\n",
    "        E_yj_yi.append(np.cov(diff.T)[0,1])\n",
    "\n",
    "        diff = price_data[['diff_m_for_p'+str(i),'diff_lag1_p'+str(i)]]\n",
    "        E_yj_yi_lag1_t.append(np.cov(diff.T)[0,1])\n",
    "\n",
    "        diff = price_data[['diff_m_for_p'+str(i),'diff_lag2_p'+str(i)]]\n",
    "        E_yj_yi_lag2_t.append(np.cov(diff.T)[0,1])\n",
    "\n",
    "        diff = price_data[['diff_p'+str(i), 'diff_lag2_m_for_p'+str(i)]]\n",
    "        E_yi_yj_lag2_t.append(np.cov(diff.T)[1,1])\n",
    "\n",
    "        rho.append(price_data['diff_p'+str(i)].autocorr(-1))\n",
    "\n",
    "    E_yj_yi = np.array(E_yj_yi)\n",
    "    E_yj_yi_lag1_t = np.array(E_yj_yi_lag1_t)\n",
    "    gamma_j = -np.array(E_yj_yi_lag2_t)\n",
    "    gamma_i = -np.array(E_yi_yj_lag2_t)\n",
    "    rho = np.array(rho)\n",
    "\n",
    "    # Calculate pi\n",
    "    trading_volume = price_data.loc[:,['v1','v2','v3','v4']]\n",
    "    v_sum = trading_volume.mean(axis=0)\n",
    "    pi = v_sum / v_sum.sum(axis=0)\n",
    "    pi = np.array(pi)\n",
    "    \n",
    "#    column = {'E[yj_t,i_t]', 'E[yj_t,i_t-1]','rho_ii'}\n",
    "    df = pd.DataFrame()\n",
    "    df['E[yj_t,i_t]'] = E_yj_yi\n",
    "    df['E[yj_t,i_t-1]'] = E_yj_yi_lag1_t\n",
    "    df['rho_ii'] = rho\n",
    "    df['sigma'] = price_data[['diff_p1','diff_p2','diff_p3','diff_p4']].var().mean()\n",
    "    df['gamma_i'] = gamma_i\n",
    "    df['gamma_j'] = gamma_j\n",
    "    df['pi'] = pi\n",
    "\n",
    "    #### from paper ####\n",
    "#     pi_paper = np.array([0.352,0.240,0.215,0.109])\n",
    "#     df['pi'] = pi_paper/pi_paper.sum()\n",
    "\n",
    "    \n",
    "    # Define opmization constraints and objective function\n",
    "    def toVector(x_mat):\n",
    "        return x_mat.reshape(16,1)\n",
    "    \n",
    "    def constraint0(x):\n",
    "        sum_value1 = 0\n",
    "        for i in range(0,4):\n",
    "            sum_value1 += (1 + (x[4*i]/df['sigma'][i])) * df['pi'][i] \n",
    "        return sum_value1 - 1\n",
    "    \n",
    "    def objective(x):\n",
    "        sum_value = 0\n",
    "        for i in range(0,4):\n",
    "            sum_value += abs(x[4*i]*df['pi'][i])\n",
    "        return sum_value\n",
    "    \n",
    "    def constraint1(x):\n",
    "        sum_up1 = 0\n",
    "        for i in range(0,4):\n",
    "            sum_up1 += abs(2*x[4*i+2] + x[4*i+1] + x[4*i] + df['sigma'][i] - df['E[yj_t,i_t]'][i])\n",
    "        return sum_up1\n",
    "    \n",
    "    def constraint2(x):\n",
    "        sum_up2 = 0\n",
    "        for i in range(0,4):\n",
    "            sum_up2 += abs(x[4*i+1] + x[4*i+2] + df['E[yj_t,i_t-1]'][i]  - df['gamma_j'][i])\n",
    "        return sum_up2\n",
    "    \n",
    "    def constraint3(x):\n",
    "        sum_up3 = 0\n",
    "        for i in range(0,4):\n",
    "            sum_up3 += abs(((x[4*i+3] + x[4*i+0] - df['gamma_i'][i])/(df['sigma'][i] + 2*(x[4*i+3]+x[4*i+0]))) + df['rho_ii'][i])\n",
    "        return sum_up3\n",
    "    \n",
    "    def constraint4(x):   \n",
    "        return x[3]\n",
    "    \n",
    "    def constraint5(x):   \n",
    "        return x[7]\n",
    "    \n",
    "    def constraint6(x):   \n",
    "        return x[11]\n",
    "    \n",
    "    def constraint7(x):   \n",
    "        return x[15]\n",
    "\n",
    "    #### initialization unknown variables\n",
    "    # x0, x4, x8, x12  => psi_i\n",
    "    # x1, x5, x9, x13  => psi_j\n",
    "    # x2, x6, x10, x14 => omega_ij\n",
    "    # x3, x7, x11, x15 => omega^e_i\n",
    "    x0 = np.zeros([4,4])\n",
    "    for i in range(4):\n",
    "        for j in range(4):\n",
    "            x0[i,j] = np.random.rand()*(10**-5)        \n",
    "\n",
    "    con0 = {'type': 'eq', 'fun': constraint0} \n",
    "    con1 = {'type': 'eq', 'fun': constraint1} \n",
    "    con2 = {'type': 'eq', 'fun': constraint2}\n",
    "    con3 = {'type': 'eq', 'fun': constraint3} \n",
    "\n",
    "    con4 = {'type': 'ineq', 'fun': constraint4}\n",
    "    con5 = {'type': 'ineq', 'fun': constraint5}\n",
    "    con6 = {'type': 'ineq', 'fun': constraint6}\n",
    "    con7 = {'type': 'ineq', 'fun': constraint7}\n",
    "\n",
    "    cons = ([con0, con1, con2, con3, con4, con5, con6, con7])\n",
    "\n",
    "    solution = optimize.minimize(fun=objective, x0=toVector(x0), options={'disp': True}, constraints=cons, method='BFGS', tol=1e-9)\n",
    "    sol = solution.x.reshape(4,4)\n",
    "\n",
    "    df['psi_i'] = sol[:,0]\n",
    "    df['psi_j'] = sol[:,1]\n",
    "    df['omega_i_j'] = sol[:,2]\n",
    "    df['omega^e_i'] = sol[:,3]\n",
    "\n",
    "    df['IS'] = (1 + df['psi_i']/df['sigma']) * df['pi']\n",
    "    df['IS/AS'] = df['IS']/df['pi']\n",
    "    df['date'] = name\n",
    "    df['exchange'] = np.array(['mtgox', 'btce' , 'bitstamp', 'bitfinex'])\n",
    "            \n",
    "    df_full = df_full.append(df, ignore_index=False)\n",
    "    \n",
    "    del df, diff, price_data, E_yj_yi, E_yj_yi_lag1_t, E_yj_yi_lag2_t, E_yi_yj_lag2_t, rho, pi, trading_volume, gamma_i, gamma_j, sol, solution, v_sum, x0 \n",
    "    \n",
    "    \n",
    "#%% Plot price difference\n",
    "\n",
    "df_full.groupby(by='exchange').plot(x='date', y='IS',kind='line')"
   ]
  },
  {
   "cell_type": "code",
   "execution_count": 22,
   "metadata": {
    "collapsed": false
   },
   "outputs": [
    {
     "data": {
      "text/plain": [
       "<matplotlib.legend.Legend at 0x9e138b0>"
      ]
     },
     "execution_count": 22,
     "metadata": {},
     "output_type": "execute_result"
    },
    {
     "data": {
      "image/png": "[encoded data removed]",
      "text/plain": [
       "<matplotlib.figure.Figure at 0x9910130>"
      ]
     },
     "metadata": {},
     "output_type": "display_data"
    }
   ],
   "source": [
    "%matplotlib inline\n",
    "plt.subplots(figsize=(10,6))\n",
    "for index, group in df_full.groupby(by='exchange'):\n",
    "    plt.hold\n",
    "    plt.plot(group['date'],group['IS'], '.-')\n",
    "plt.legend(['bitfinex','bitstamp','btce','mtgox'])"
   ]
  },
  {
   "cell_type": "code",
   "execution_count": null,
   "metadata": {
    "collapsed": true
   },
   "outputs": [],
   "source": []
  }
 ],
 "metadata": {
  "anaconda-cloud": {},
  "kernelspec": {
   "display_name": "Python [default]",
   "language": "python",
   "name": "python3"
  },
  "language_info": {
   "codemirror_mode": {
    "name": "ipython",
    "version": 3
   },
   "file_extension": ".py",
   "mimetype": "text/x-python",
   "name": "python",
   "nbconvert_exporter": "python",
   "pygments_lexer": "ipython3",
   "version": "3.5.2"
  }
 },
 "nbformat": 4,
 "nbformat_minor": 0
}
