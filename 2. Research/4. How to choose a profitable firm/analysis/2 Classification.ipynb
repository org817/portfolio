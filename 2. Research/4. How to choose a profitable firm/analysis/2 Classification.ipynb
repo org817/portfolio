{
 "cells": [
  {
   "cell_type": "markdown",
   "metadata": {},
   "source": [
    "# Original Data"
   ]
  },
  {
   "cell_type": "code",
   "execution_count": 15,
   "metadata": {},
   "outputs": [],
   "source": [
    "%matplotlib inline\n",
    "\n",
    "import matplotlib.pyplot as plt\n",
    "import numpy as np\n",
    "import pandas as pd\n",
    "\n",
    "from sklearn.linear_model import LogisticRegression\n",
    "from sklearn.cross_validation import cross_val_score\n",
    "from sklearn import metrics\n",
    "\n",
    "from sklearn.cross_validation import train_test_split\n",
    "from sklearn.naive_bayes import GaussianNB\n",
    "from sklearn.preprocessing import LabelEncoder\n",
    "from sklearn.discriminant_analysis import LinearDiscriminantAnalysis, QuadraticDiscriminantAnalysis\n",
    "from sklearn.feature_selection import SelectKBest, f_regression, f_classif, RFE\n",
    "\n",
    "from sklearn import svm\n",
    "from sklearn.multiclass import OneVsRestClassifier\n"
   ]
  },
  {
   "cell_type": "code",
   "execution_count": 7,
   "metadata": {},
   "outputs": [],
   "source": [
    "data = pd.read_csv('roe_class.csv', thousands=',', encoding = \"EUC-KR\")\n",
    "data = data[~data.isin([np.nan, np.inf, -np.inf, '#NAME?','NaN']).any(1)]"
   ]
  },
  {
   "cell_type": "code",
   "execution_count": 8,
   "metadata": {},
   "outputs": [
    {
     "name": "stderr",
     "output_type": "stream",
     "text": [
      "c:\\users\\rocku\\anaconda64\\lib\\site-packages\\numpy\\lib\\function_base.py:3834: RuntimeWarning: Invalid value encountered in percentile\n",
      "  RuntimeWarning)\n"
     ]
    },
    {
     "data": {
      "text/html": [
       "<div>\n",
       "<table border=\"1\" class=\"dataframe\">\n",
       "  <thead>\n",
       "    <tr style=\"text-align: right;\">\n",
       "      <th></th>\n",
       "      <th>year</th>\n",
       "      <th>sales</th>\n",
       "      <th>roe</th>\n",
       "      <th>current_liabilities_to_assets</th>\n",
       "      <th>non_current_liabilities_to_assets</th>\n",
       "      <th>cost_of_goods_sold_to_sales</th>\n",
       "      <th>gross_profit_to_sales</th>\n",
       "      <th>selling_and_administrative_expenses_to_sales</th>\n",
       "      <th>labor_costs_to_sales</th>\n",
       "      <th>rnd_costs_to_sales</th>\n",
       "      <th>advertisement_cost_to_sales</th>\n",
       "      <th>selling_costs_to_sales</th>\n",
       "      <th>administrative_costs_to_sales</th>\n",
       "      <th>rent_to_sales</th>\n",
       "      <th>operating_income_to_sales</th>\n",
       "      <th>net_income_to_sales</th>\n",
       "      <th>sales_growth</th>\n",
       "      <th>cost_of_goods_sold_growth</th>\n",
       "      <th>sna_expenses_growth</th>\n",
       "      <th>future_roe</th>\n",
       "    </tr>\n",
       "  </thead>\n",
       "  <tbody>\n",
       "    <tr>\n",
       "      <th>count</th>\n",
       "      <td>27396.000000</td>\n",
       "      <td>27358.000000</td>\n",
       "      <td>27396.000000</td>\n",
       "      <td>26446.000000</td>\n",
       "      <td>26446.000000</td>\n",
       "      <td>26928.000000</td>\n",
       "      <td>27373.000000</td>\n",
       "      <td>27373.000000</td>\n",
       "      <td>27373.000000</td>\n",
       "      <td>27373.000000</td>\n",
       "      <td>27373.000000</td>\n",
       "      <td>26436.000000</td>\n",
       "      <td>26436.000000</td>\n",
       "      <td>27373.000000</td>\n",
       "      <td>27373.000000</td>\n",
       "      <td>27373.000000</td>\n",
       "      <td>27313.000000</td>\n",
       "      <td>26147.000000</td>\n",
       "      <td>27387.000000</td>\n",
       "      <td>27396.000000</td>\n",
       "    </tr>\n",
       "    <tr>\n",
       "      <th>mean</th>\n",
       "      <td>2008.763469</td>\n",
       "      <td>8.006041</td>\n",
       "      <td>0.051723</td>\n",
       "      <td>0.326517</td>\n",
       "      <td>0.124569</td>\n",
       "      <td>0.750506</td>\n",
       "      <td>0.261669</td>\n",
       "      <td>0.276435</td>\n",
       "      <td>0.109005</td>\n",
       "      <td>0.024978</td>\n",
       "      <td>0.010838</td>\n",
       "      <td>0.032396</td>\n",
       "      <td>0.070706</td>\n",
       "      <td>0.006857</td>\n",
       "      <td>0.037379</td>\n",
       "      <td>0.088244</td>\n",
       "      <td>0.109663</td>\n",
       "      <td>0.111829</td>\n",
       "      <td>0.120044</td>\n",
       "      <td>0.043001</td>\n",
       "    </tr>\n",
       "    <tr>\n",
       "      <th>std</th>\n",
       "      <td>4.775528</td>\n",
       "      <td>0.734475</td>\n",
       "      <td>2.279687</td>\n",
       "      <td>0.194307</td>\n",
       "      <td>0.201387</td>\n",
       "      <td>0.281754</td>\n",
       "      <td>0.295096</td>\n",
       "      <td>5.288560</td>\n",
       "      <td>3.452931</td>\n",
       "      <td>0.347428</td>\n",
       "      <td>0.226871</td>\n",
       "      <td>0.073079</td>\n",
       "      <td>1.301683</td>\n",
       "      <td>0.044099</td>\n",
       "      <td>7.169359</td>\n",
       "      <td>14.298708</td>\n",
       "      <td>0.445100</td>\n",
       "      <td>0.475919</td>\n",
       "      <td>0.403889</td>\n",
       "      <td>2.244590</td>\n",
       "    </tr>\n",
       "    <tr>\n",
       "      <th>min</th>\n",
       "      <td>2000.000000</td>\n",
       "      <td>3.480438</td>\n",
       "      <td>-137.910987</td>\n",
       "      <td>0.000000</td>\n",
       "      <td>0.000000</td>\n",
       "      <td>-0.025984</td>\n",
       "      <td>-12.321316</td>\n",
       "      <td>-24.586099</td>\n",
       "      <td>-13.417507</td>\n",
       "      <td>-0.001408</td>\n",
       "      <td>-1.154212</td>\n",
       "      <td>-2.094313</td>\n",
       "      <td>-0.008789</td>\n",
       "      <td>-1.610671</td>\n",
       "      <td>-863.096262</td>\n",
       "      <td>-344.957143</td>\n",
       "      <td>-7.242915</td>\n",
       "      <td>-7.746389</td>\n",
       "      <td>-7.557424</td>\n",
       "      <td>-137.910987</td>\n",
       "    </tr>\n",
       "    <tr>\n",
       "      <th>25%</th>\n",
       "      <td>2005.000000</td>\n",
       "      <td>NaN</td>\n",
       "      <td>0.009957</td>\n",
       "      <td>NaN</td>\n",
       "      <td>NaN</td>\n",
       "      <td>NaN</td>\n",
       "      <td>NaN</td>\n",
       "      <td>NaN</td>\n",
       "      <td>NaN</td>\n",
       "      <td>NaN</td>\n",
       "      <td>NaN</td>\n",
       "      <td>NaN</td>\n",
       "      <td>NaN</td>\n",
       "      <td>NaN</td>\n",
       "      <td>NaN</td>\n",
       "      <td>NaN</td>\n",
       "      <td>NaN</td>\n",
       "      <td>NaN</td>\n",
       "      <td>NaN</td>\n",
       "      <td>0.006770</td>\n",
       "    </tr>\n",
       "    <tr>\n",
       "      <th>50%</th>\n",
       "      <td>2009.000000</td>\n",
       "      <td>NaN</td>\n",
       "      <td>0.073370</td>\n",
       "      <td>NaN</td>\n",
       "      <td>NaN</td>\n",
       "      <td>NaN</td>\n",
       "      <td>NaN</td>\n",
       "      <td>NaN</td>\n",
       "      <td>NaN</td>\n",
       "      <td>NaN</td>\n",
       "      <td>NaN</td>\n",
       "      <td>NaN</td>\n",
       "      <td>NaN</td>\n",
       "      <td>NaN</td>\n",
       "      <td>NaN</td>\n",
       "      <td>NaN</td>\n",
       "      <td>NaN</td>\n",
       "      <td>NaN</td>\n",
       "      <td>NaN</td>\n",
       "      <td>0.068568</td>\n",
       "    </tr>\n",
       "    <tr>\n",
       "      <th>75%</th>\n",
       "      <td>2013.000000</td>\n",
       "      <td>NaN</td>\n",
       "      <td>0.152979</td>\n",
       "      <td>NaN</td>\n",
       "      <td>NaN</td>\n",
       "      <td>NaN</td>\n",
       "      <td>NaN</td>\n",
       "      <td>NaN</td>\n",
       "      <td>NaN</td>\n",
       "      <td>NaN</td>\n",
       "      <td>NaN</td>\n",
       "      <td>NaN</td>\n",
       "      <td>NaN</td>\n",
       "      <td>NaN</td>\n",
       "      <td>NaN</td>\n",
       "      <td>NaN</td>\n",
       "      <td>NaN</td>\n",
       "      <td>NaN</td>\n",
       "      <td>NaN</td>\n",
       "      <td>0.143497</td>\n",
       "    </tr>\n",
       "    <tr>\n",
       "      <th>max</th>\n",
       "      <td>2016.000000</td>\n",
       "      <td>11.359252</td>\n",
       "      <td>268.047564</td>\n",
       "      <td>8.779681</td>\n",
       "      <td>19.495058</td>\n",
       "      <td>13.321316</td>\n",
       "      <td>1.025984</td>\n",
       "      <td>864.095931</td>\n",
       "      <td>568.624876</td>\n",
       "      <td>30.458631</td>\n",
       "      <td>37.251737</td>\n",
       "      <td>4.553302</td>\n",
       "      <td>208.334105</td>\n",
       "      <td>4.809461</td>\n",
       "      <td>713.959946</td>\n",
       "      <td>2165.518028</td>\n",
       "      <td>7.172682</td>\n",
       "      <td>11.937225</td>\n",
       "      <td>11.158938</td>\n",
       "      <td>268.047564</td>\n",
       "    </tr>\n",
       "  </tbody>\n",
       "</table>\n",
       "</div>"
      ],
      "text/plain": [
       "               year         sales           roe  \\\n",
       "count  27396.000000  27358.000000  27396.000000   \n",
       "mean    2008.763469      8.006041      0.051723   \n",
       "std        4.775528      0.734475      2.279687   \n",
       "min     2000.000000      3.480438   -137.910987   \n",
       "25%     2005.000000           NaN      0.009957   \n",
       "50%     2009.000000           NaN      0.073370   \n",
       "75%     2013.000000           NaN      0.152979   \n",
       "max     2016.000000     11.359252    268.047564   \n",
       "\n",
       "       current_liabilities_to_assets  non_current_liabilities_to_assets  \\\n",
       "count                   26446.000000                       26446.000000   \n",
       "mean                        0.326517                           0.124569   \n",
       "std                         0.194307                           0.201387   \n",
       "min                         0.000000                           0.000000   \n",
       "25%                              NaN                                NaN   \n",
       "50%                              NaN                                NaN   \n",
       "75%                              NaN                                NaN   \n",
       "max                         8.779681                          19.495058   \n",
       "\n",
       "       cost_of_goods_sold_to_sales  gross_profit_to_sales  \\\n",
       "count                 26928.000000           27373.000000   \n",
       "mean                      0.750506               0.261669   \n",
       "std                       0.281754               0.295096   \n",
       "min                      -0.025984             -12.321316   \n",
       "25%                            NaN                    NaN   \n",
       "50%                            NaN                    NaN   \n",
       "75%                            NaN                    NaN   \n",
       "max                      13.321316               1.025984   \n",
       "\n",
       "       selling_and_administrative_expenses_to_sales  labor_costs_to_sales  \\\n",
       "count                                  27373.000000          27373.000000   \n",
       "mean                                       0.276435              0.109005   \n",
       "std                                        5.288560              3.452931   \n",
       "min                                      -24.586099            -13.417507   \n",
       "25%                                             NaN                   NaN   \n",
       "50%                                             NaN                   NaN   \n",
       "75%                                             NaN                   NaN   \n",
       "max                                      864.095931            568.624876   \n",
       "\n",
       "       rnd_costs_to_sales  advertisement_cost_to_sales  \\\n",
       "count        27373.000000                 27373.000000   \n",
       "mean             0.024978                     0.010838   \n",
       "std              0.347428                     0.226871   \n",
       "min             -0.001408                    -1.154212   \n",
       "25%                   NaN                          NaN   \n",
       "50%                   NaN                          NaN   \n",
       "75%                   NaN                          NaN   \n",
       "max             30.458631                    37.251737   \n",
       "\n",
       "       selling_costs_to_sales  administrative_costs_to_sales  rent_to_sales  \\\n",
       "count            26436.000000                   26436.000000   27373.000000   \n",
       "mean                 0.032396                       0.070706       0.006857   \n",
       "std                  0.073079                       1.301683       0.044099   \n",
       "min                 -2.094313                      -0.008789      -1.610671   \n",
       "25%                       NaN                            NaN            NaN   \n",
       "50%                       NaN                            NaN            NaN   \n",
       "75%                       NaN                            NaN            NaN   \n",
       "max                  4.553302                     208.334105       4.809461   \n",
       "\n",
       "       operating_income_to_sales  net_income_to_sales  sales_growth  \\\n",
       "count               27373.000000         27373.000000  27313.000000   \n",
       "mean                    0.037379             0.088244      0.109663   \n",
       "std                     7.169359            14.298708      0.445100   \n",
       "min                  -863.096262          -344.957143     -7.242915   \n",
       "25%                          NaN                  NaN           NaN   \n",
       "50%                          NaN                  NaN           NaN   \n",
       "75%                          NaN                  NaN           NaN   \n",
       "max                   713.959946          2165.518028      7.172682   \n",
       "\n",
       "       cost_of_goods_sold_growth  sna_expenses_growth    future_roe  \n",
       "count               26147.000000         27387.000000  27396.000000  \n",
       "mean                    0.111829             0.120044      0.043001  \n",
       "std                     0.475919             0.403889      2.244590  \n",
       "min                    -7.746389            -7.557424   -137.910987  \n",
       "25%                          NaN                  NaN      0.006770  \n",
       "50%                          NaN                  NaN      0.068568  \n",
       "75%                          NaN                  NaN      0.143497  \n",
       "max                    11.937225            11.158938    268.047564  "
      ]
     },
     "execution_count": 8,
     "metadata": {},
     "output_type": "execute_result"
    }
   ],
   "source": [
    "data.describe()"
   ]
  },
  {
   "cell_type": "code",
   "execution_count": 72,
   "metadata": {},
   "outputs": [],
   "source": [
    "# data.set_index(['code','year'], inplace=True)\n",
    "# data_dummy = pd.get_dummies(data['sector'])\n",
    "# data_merged = pd.merge(data.reset_index(),data_dummy.reset_index(), how='inner', on=['code','year'])\n",
    "# data_merged.reset_index(inplace=True, drop=True)\n",
    "data_merged = data"
   ]
  },
  {
   "cell_type": "code",
   "execution_count": 73,
   "metadata": {
    "scrolled": true
   },
   "outputs": [
    {
     "data": {
      "text/plain": [
       "array(['dn', 'up'], dtype=object)"
      ]
     },
     "execution_count": 73,
     "metadata": {},
     "output_type": "execute_result"
    }
   ],
   "source": [
    "pd.unique(data_merged['roe_class'])\n"
   ]
  },
  {
   "cell_type": "code",
   "execution_count": 70,
   "metadata": {},
   "outputs": [],
   "source": [
    "data_merged['roe_class_PN'] = np.where(data_merged['roe_class'].isin(['PU','NP','NU']),'UP','DOWN')"
   ]
  },
  {
   "cell_type": "code",
   "execution_count": 5,
   "metadata": {},
   "outputs": [],
   "source": [
    "# data_merged['updown'] = np.where(data_merged['future_roe'] > data_merged['roe'], 1,0)"
   ]
  },
  {
   "cell_type": "code",
   "execution_count": 74,
   "metadata": {},
   "outputs": [],
   "source": [
    "# class_label = pd.unique(data_merged['roe_class_PN'])\n",
    "# le = LabelEncoder().fit(class_label)\n",
    "# y = le.transform(data_merged['roe_class_PN'])\n",
    "y = data_merged['roe_class']\n",
    "\n",
    "X = data_merged.reset_index(drop=True).drop(['code','year','sector','roe_class'], axis=1)"
   ]
  },
  {
   "cell_type": "markdown",
   "metadata": {},
   "source": [
    "# Feature Selection"
   ]
  },
  {
   "cell_type": "code",
   "execution_count": 7,
   "metadata": {},
   "outputs": [
    {
     "name": "stderr",
     "output_type": "stream",
     "text": [
      "c:\\program files\\anaconda3\\lib\\site-packages\\sklearn\\utils\\__init__.py:93: FutureWarning: Conversion of the second argument of issubdtype from `int` to `np.signedinteger` is deprecated. In future, it will be treated as `np.int32 == np.dtype(int).type`.\n",
      "  if np.issubdtype(mask.dtype, np.int):\n"
     ]
    },
    {
     "ename": "NameError",
     "evalue": "name 'rfe' is not defined",
     "output_type": "error",
     "traceback": [
      "\u001b[0;31m---------------------------------------------------------------------------\u001b[0m",
      "\u001b[0;31mNameError\u001b[0m                                 Traceback (most recent call last)",
      "\u001b[0;32m<ipython-input-7-238699faad35>\u001b[0m in \u001b[0;36m<module>\u001b[0;34m()\u001b[0m\n\u001b[1;32m      4\u001b[0m \u001b[0mselection_model\u001b[0m \u001b[1;33m=\u001b[0m \u001b[0mRFE\u001b[0m\u001b[1;33m(\u001b[0m\u001b[0mmodel\u001b[0m\u001b[1;33m,\u001b[0m \u001b[1;36m10\u001b[0m\u001b[1;33m)\u001b[0m\u001b[1;33m\u001b[0m\u001b[0m\n\u001b[1;32m      5\u001b[0m \u001b[0mX_new\u001b[0m \u001b[1;33m=\u001b[0m \u001b[0mselection_model\u001b[0m\u001b[1;33m.\u001b[0m\u001b[0mfit_transform\u001b[0m\u001b[1;33m(\u001b[0m\u001b[0mX\u001b[0m\u001b[1;33m,\u001b[0m \u001b[0my\u001b[0m\u001b[1;33m)\u001b[0m\u001b[1;33m\u001b[0m\u001b[0m\n\u001b[0;32m----> 6\u001b[0;31m \u001b[0mX\u001b[0m\u001b[1;33m.\u001b[0m\u001b[0mcolumns\u001b[0m\u001b[1;33m[\u001b[0m\u001b[0mrfe\u001b[0m\u001b[1;33m.\u001b[0m\u001b[0mget_support\u001b[0m\u001b[1;33m(\u001b[0m\u001b[1;33m)\u001b[0m\u001b[1;33m]\u001b[0m\u001b[1;33m\u001b[0m\u001b[0m\n\u001b[0m",
      "\u001b[0;31mNameError\u001b[0m: name 'rfe' is not defined"
     ]
    }
   ],
   "source": [
    "model = LogisticRegression(multi_class='ovr')\n",
    "selection_model = RFE(model, 10)\n",
    "X_new = selection_model.fit_transform(X, y)\n",
    "X.columns[selection_model.get_support()]"
   ]
  },
  {
   "cell_type": "code",
   "execution_count": 75,
   "metadata": {
    "scrolled": false
   },
   "outputs": [
    {
     "ename": "ValueError",
     "evalue": "Input contains NaN, infinity or a value too large for dtype('float64').",
     "output_type": "error",
     "traceback": [
      "\u001b[0;31m---------------------------------------------------------------------------\u001b[0m",
      "\u001b[0;31mValueError\u001b[0m                                Traceback (most recent call last)",
      "\u001b[0;32m<ipython-input-75-3f4f68bd5984>\u001b[0m in \u001b[0;36m<module>\u001b[0;34m()\u001b[0m\n\u001b[1;32m      1\u001b[0m \u001b[0mselection_model\u001b[0m \u001b[1;33m=\u001b[0m \u001b[0mSelectKBest\u001b[0m\u001b[1;33m(\u001b[0m\u001b[0mf_classif\u001b[0m\u001b[1;33m,\u001b[0m \u001b[0mk\u001b[0m\u001b[1;33m=\u001b[0m\u001b[1;36m5\u001b[0m\u001b[1;33m)\u001b[0m\u001b[1;33m\u001b[0m\u001b[0m\n\u001b[0;32m----> 2\u001b[0;31m \u001b[0mX_new\u001b[0m \u001b[1;33m=\u001b[0m \u001b[0mselection_model\u001b[0m\u001b[1;33m.\u001b[0m\u001b[0mfit_transform\u001b[0m\u001b[1;33m(\u001b[0m\u001b[0mX\u001b[0m\u001b[1;33m,\u001b[0m \u001b[0my\u001b[0m\u001b[1;33m)\u001b[0m\u001b[1;33m\u001b[0m\u001b[0m\n\u001b[0m\u001b[1;32m      3\u001b[0m \u001b[0mX\u001b[0m\u001b[1;33m.\u001b[0m\u001b[0mcolumns\u001b[0m\u001b[1;33m[\u001b[0m\u001b[0mselection_model\u001b[0m\u001b[1;33m.\u001b[0m\u001b[0mget_support\u001b[0m\u001b[1;33m(\u001b[0m\u001b[1;33m)\u001b[0m\u001b[1;33m]\u001b[0m\u001b[1;33m\u001b[0m\u001b[0m\n",
      "\u001b[0;32mc:\\users\\rocku\\anaconda64\\lib\\site-packages\\sklearn\\base.py\u001b[0m in \u001b[0;36mfit_transform\u001b[0;34m(self, X, y, **fit_params)\u001b[0m\n\u001b[1;32m    519\u001b[0m         \u001b[1;32melse\u001b[0m\u001b[1;33m:\u001b[0m\u001b[1;33m\u001b[0m\u001b[0m\n\u001b[1;32m    520\u001b[0m             \u001b[1;31m# fit method of arity 2 (supervised transformation)\u001b[0m\u001b[1;33m\u001b[0m\u001b[1;33m\u001b[0m\u001b[0m\n\u001b[0;32m--> 521\u001b[0;31m             \u001b[1;32mreturn\u001b[0m \u001b[0mself\u001b[0m\u001b[1;33m.\u001b[0m\u001b[0mfit\u001b[0m\u001b[1;33m(\u001b[0m\u001b[0mX\u001b[0m\u001b[1;33m,\u001b[0m \u001b[0my\u001b[0m\u001b[1;33m,\u001b[0m \u001b[1;33m**\u001b[0m\u001b[0mfit_params\u001b[0m\u001b[1;33m)\u001b[0m\u001b[1;33m.\u001b[0m\u001b[0mtransform\u001b[0m\u001b[1;33m(\u001b[0m\u001b[0mX\u001b[0m\u001b[1;33m)\u001b[0m\u001b[1;33m\u001b[0m\u001b[0m\n\u001b[0m\u001b[1;32m    522\u001b[0m \u001b[1;33m\u001b[0m\u001b[0m\n\u001b[1;32m    523\u001b[0m \u001b[1;33m\u001b[0m\u001b[0m\n",
      "\u001b[0;32mc:\\users\\rocku\\anaconda64\\lib\\site-packages\\sklearn\\feature_selection\\univariate_selection.py\u001b[0m in \u001b[0;36mfit\u001b[0;34m(self, X, y)\u001b[0m\n\u001b[1;32m    339\u001b[0m             \u001b[0mReturns\u001b[0m \u001b[0mself\u001b[0m\u001b[1;33m.\u001b[0m\u001b[1;33m\u001b[0m\u001b[0m\n\u001b[1;32m    340\u001b[0m         \"\"\"\n\u001b[0;32m--> 341\u001b[0;31m         \u001b[0mX\u001b[0m\u001b[1;33m,\u001b[0m \u001b[0my\u001b[0m \u001b[1;33m=\u001b[0m \u001b[0mcheck_X_y\u001b[0m\u001b[1;33m(\u001b[0m\u001b[0mX\u001b[0m\u001b[1;33m,\u001b[0m \u001b[0my\u001b[0m\u001b[1;33m,\u001b[0m \u001b[1;33m[\u001b[0m\u001b[1;34m'csr'\u001b[0m\u001b[1;33m,\u001b[0m \u001b[1;34m'csc'\u001b[0m\u001b[1;33m]\u001b[0m\u001b[1;33m,\u001b[0m \u001b[0mmulti_output\u001b[0m\u001b[1;33m=\u001b[0m\u001b[1;32mTrue\u001b[0m\u001b[1;33m)\u001b[0m\u001b[1;33m\u001b[0m\u001b[0m\n\u001b[0m\u001b[1;32m    342\u001b[0m \u001b[1;33m\u001b[0m\u001b[0m\n\u001b[1;32m    343\u001b[0m         \u001b[1;32mif\u001b[0m \u001b[1;32mnot\u001b[0m \u001b[0mcallable\u001b[0m\u001b[1;33m(\u001b[0m\u001b[0mself\u001b[0m\u001b[1;33m.\u001b[0m\u001b[0mscore_func\u001b[0m\u001b[1;33m)\u001b[0m\u001b[1;33m:\u001b[0m\u001b[1;33m\u001b[0m\u001b[0m\n",
      "\u001b[0;32mc:\\users\\rocku\\anaconda64\\lib\\site-packages\\sklearn\\utils\\validation.py\u001b[0m in \u001b[0;36mcheck_X_y\u001b[0;34m(X, y, accept_sparse, dtype, order, copy, force_all_finite, ensure_2d, allow_nd, multi_output, ensure_min_samples, ensure_min_features, y_numeric, warn_on_dtype, estimator)\u001b[0m\n\u001b[1;32m    540\u001b[0m     X = check_array(X, accept_sparse, dtype, order, copy, force_all_finite,\n\u001b[1;32m    541\u001b[0m                     \u001b[0mensure_2d\u001b[0m\u001b[1;33m,\u001b[0m \u001b[0mallow_nd\u001b[0m\u001b[1;33m,\u001b[0m \u001b[0mensure_min_samples\u001b[0m\u001b[1;33m,\u001b[0m\u001b[1;33m\u001b[0m\u001b[0m\n\u001b[0;32m--> 542\u001b[0;31m                     ensure_min_features, warn_on_dtype, estimator)\n\u001b[0m\u001b[1;32m    543\u001b[0m     \u001b[1;32mif\u001b[0m \u001b[0mmulti_output\u001b[0m\u001b[1;33m:\u001b[0m\u001b[1;33m\u001b[0m\u001b[0m\n\u001b[1;32m    544\u001b[0m         y = check_array(y, 'csr', force_all_finite=True, ensure_2d=False,\n",
      "\u001b[0;32mc:\\users\\rocku\\anaconda64\\lib\\site-packages\\sklearn\\utils\\validation.py\u001b[0m in \u001b[0;36mcheck_array\u001b[0;34m(array, accept_sparse, dtype, order, copy, force_all_finite, ensure_2d, allow_nd, ensure_min_samples, ensure_min_features, warn_on_dtype, estimator)\u001b[0m\n\u001b[1;32m    420\u001b[0m                              % (array.ndim, estimator_name))\n\u001b[1;32m    421\u001b[0m         \u001b[1;32mif\u001b[0m \u001b[0mforce_all_finite\u001b[0m\u001b[1;33m:\u001b[0m\u001b[1;33m\u001b[0m\u001b[0m\n\u001b[0;32m--> 422\u001b[0;31m             \u001b[0m_assert_all_finite\u001b[0m\u001b[1;33m(\u001b[0m\u001b[0marray\u001b[0m\u001b[1;33m)\u001b[0m\u001b[1;33m\u001b[0m\u001b[0m\n\u001b[0m\u001b[1;32m    423\u001b[0m \u001b[1;33m\u001b[0m\u001b[0m\n\u001b[1;32m    424\u001b[0m     \u001b[0mshape_repr\u001b[0m \u001b[1;33m=\u001b[0m \u001b[0m_shape_repr\u001b[0m\u001b[1;33m(\u001b[0m\u001b[0marray\u001b[0m\u001b[1;33m.\u001b[0m\u001b[0mshape\u001b[0m\u001b[1;33m)\u001b[0m\u001b[1;33m\u001b[0m\u001b[0m\n",
      "\u001b[0;32mc:\\users\\rocku\\anaconda64\\lib\\site-packages\\sklearn\\utils\\validation.py\u001b[0m in \u001b[0;36m_assert_all_finite\u001b[0;34m(X)\u001b[0m\n\u001b[1;32m     41\u001b[0m             and not np.isfinite(X).all()):\n\u001b[1;32m     42\u001b[0m         raise ValueError(\"Input contains NaN, infinity\"\n\u001b[0;32m---> 43\u001b[0;31m                          \" or a value too large for %r.\" % X.dtype)\n\u001b[0m\u001b[1;32m     44\u001b[0m \u001b[1;33m\u001b[0m\u001b[0m\n\u001b[1;32m     45\u001b[0m \u001b[1;33m\u001b[0m\u001b[0m\n",
      "\u001b[0;31mValueError\u001b[0m: Input contains NaN, infinity or a value too large for dtype('float64')."
     ]
    }
   ],
   "source": [
    "selection_model = SelectKBest(f_classif, k=5)\n",
    "X_new = selection_model.fit_transform(X, y)\n",
    "X.columns[selection_model.get_support()]"
   ]
  },
  {
   "cell_type": "code",
   "execution_count": 61,
   "metadata": {},
   "outputs": [
    {
     "data": {
      "text/html": [
       "<div>\n",
       "<table border=\"1\" class=\"dataframe\">\n",
       "  <thead>\n",
       "    <tr style=\"text-align: right;\">\n",
       "      <th></th>\n",
       "      <th>roe</th>\n",
       "      <th>dividends_to_assets</th>\n",
       "      <th>short_term_borrowings_to_assets</th>\n",
       "      <th>cost_of_goods_sold_to_sales</th>\n",
       "      <th>non_operating_expenses_to_sales</th>\n",
       "      <th>taxes_from_continuing_operation_to_sales</th>\n",
       "      <th>operating_cash_flow_to_sales</th>\n",
       "      <th>average_total_equity_growth</th>\n",
       "      <th>cost_of_goods_sold_growth</th>\n",
       "      <th>non_operating_revenue_growth</th>\n",
       "    </tr>\n",
       "  </thead>\n",
       "  <tbody>\n",
       "    <tr>\n",
       "      <th>count</th>\n",
       "      <td>20413.000000</td>\n",
       "      <td>20413.000000</td>\n",
       "      <td>20413.000000</td>\n",
       "      <td>20413.000000</td>\n",
       "      <td>20413.000000</td>\n",
       "      <td>20413.000000</td>\n",
       "      <td>20413.000000</td>\n",
       "      <td>20413.000000</td>\n",
       "      <td>20413.000000</td>\n",
       "      <td>20413.000000</td>\n",
       "    </tr>\n",
       "    <tr>\n",
       "      <th>mean</th>\n",
       "      <td>0.059617</td>\n",
       "      <td>0.007518</td>\n",
       "      <td>0.117100</td>\n",
       "      <td>0.772704</td>\n",
       "      <td>0.062710</td>\n",
       "      <td>0.013074</td>\n",
       "      <td>0.061929</td>\n",
       "      <td>0.148603</td>\n",
       "      <td>0.123439</td>\n",
       "      <td>0.211275</td>\n",
       "    </tr>\n",
       "    <tr>\n",
       "      <th>std</th>\n",
       "      <td>0.240575</td>\n",
       "      <td>0.010975</td>\n",
       "      <td>0.119888</td>\n",
       "      <td>0.167264</td>\n",
       "      <td>0.099840</td>\n",
       "      <td>0.025174</td>\n",
       "      <td>0.136612</td>\n",
       "      <td>0.258743</td>\n",
       "      <td>0.365712</td>\n",
       "      <td>0.664096</td>\n",
       "    </tr>\n",
       "    <tr>\n",
       "      <th>min</th>\n",
       "      <td>-4.364547</td>\n",
       "      <td>0.000000</td>\n",
       "      <td>0.000000</td>\n",
       "      <td>0.000491</td>\n",
       "      <td>0.000161</td>\n",
       "      <td>-0.373153</td>\n",
       "      <td>-2.310375</td>\n",
       "      <td>-0.992862</td>\n",
       "      <td>-0.986064</td>\n",
       "      <td>-0.998892</td>\n",
       "    </tr>\n",
       "    <tr>\n",
       "      <th>25%</th>\n",
       "      <td>0.016743</td>\n",
       "      <td>0.000000</td>\n",
       "      <td>0.009737</td>\n",
       "      <td>0.705288</td>\n",
       "      <td>0.019142</td>\n",
       "      <td>0.000710</td>\n",
       "      <td>0.007306</td>\n",
       "      <td>0.026524</td>\n",
       "      <td>-0.028507</td>\n",
       "      <td>-0.208175</td>\n",
       "    </tr>\n",
       "    <tr>\n",
       "      <th>50%</th>\n",
       "      <td>0.076274</td>\n",
       "      <td>0.003573</td>\n",
       "      <td>0.085639</td>\n",
       "      <td>0.817108</td>\n",
       "      <td>0.035861</td>\n",
       "      <td>0.009805</td>\n",
       "      <td>0.059684</td>\n",
       "      <td>0.099894</td>\n",
       "      <td>0.081607</td>\n",
       "      <td>0.107325</td>\n",
       "    </tr>\n",
       "    <tr>\n",
       "      <th>75%</th>\n",
       "      <td>0.149932</td>\n",
       "      <td>0.011124</td>\n",
       "      <td>0.187016</td>\n",
       "      <td>0.883314</td>\n",
       "      <td>0.066203</td>\n",
       "      <td>0.022228</td>\n",
       "      <td>0.120237</td>\n",
       "      <td>0.223167</td>\n",
       "      <td>0.215812</td>\n",
       "      <td>0.510184</td>\n",
       "    </tr>\n",
       "    <tr>\n",
       "      <th>max</th>\n",
       "      <td>1.876161</td>\n",
       "      <td>0.098483</td>\n",
       "      <td>0.765049</td>\n",
       "      <td>1.491469</td>\n",
       "      <td>1.476710</td>\n",
       "      <td>0.336095</td>\n",
       "      <td>2.076602</td>\n",
       "      <td>4.370252</td>\n",
       "      <td>11.937225</td>\n",
       "      <td>5.961739</td>\n",
       "    </tr>\n",
       "  </tbody>\n",
       "</table>\n",
       "</div>"
      ],
      "text/plain": [
       "                roe  dividends_to_assets  short_term_borrowings_to_assets  \\\n",
       "count  20413.000000         20413.000000                     20413.000000   \n",
       "mean       0.059617             0.007518                         0.117100   \n",
       "std        0.240575             0.010975                         0.119888   \n",
       "min       -4.364547             0.000000                         0.000000   \n",
       "25%        0.016743             0.000000                         0.009737   \n",
       "50%        0.076274             0.003573                         0.085639   \n",
       "75%        0.149932             0.011124                         0.187016   \n",
       "max        1.876161             0.098483                         0.765049   \n",
       "\n",
       "       cost_of_goods_sold_to_sales  non_operating_expenses_to_sales  \\\n",
       "count                 20413.000000                     20413.000000   \n",
       "mean                      0.772704                         0.062710   \n",
       "std                       0.167264                         0.099840   \n",
       "min                       0.000491                         0.000161   \n",
       "25%                       0.705288                         0.019142   \n",
       "50%                       0.817108                         0.035861   \n",
       "75%                       0.883314                         0.066203   \n",
       "max                       1.491469                         1.476710   \n",
       "\n",
       "       taxes_from_continuing_operation_to_sales  operating_cash_flow_to_sales  \\\n",
       "count                              20413.000000                  20413.000000   \n",
       "mean                                   0.013074                      0.061929   \n",
       "std                                    0.025174                      0.136612   \n",
       "min                                   -0.373153                     -2.310375   \n",
       "25%                                    0.000710                      0.007306   \n",
       "50%                                    0.009805                      0.059684   \n",
       "75%                                    0.022228                      0.120237   \n",
       "max                                    0.336095                      2.076602   \n",
       "\n",
       "       average_total_equity_growth  cost_of_goods_sold_growth  \\\n",
       "count                 20413.000000               20413.000000   \n",
       "mean                      0.148603                   0.123439   \n",
       "std                       0.258743                   0.365712   \n",
       "min                      -0.992862                  -0.986064   \n",
       "25%                       0.026524                  -0.028507   \n",
       "50%                       0.099894                   0.081607   \n",
       "75%                       0.223167                   0.215812   \n",
       "max                       4.370252                  11.937225   \n",
       "\n",
       "       non_operating_revenue_growth  \n",
       "count                  20413.000000  \n",
       "mean                       0.211275  \n",
       "std                        0.664096  \n",
       "min                       -0.998892  \n",
       "25%                       -0.208175  \n",
       "50%                        0.107325  \n",
       "75%                        0.510184  \n",
       "max                        5.961739  "
      ]
     },
     "execution_count": 61,
     "metadata": {},
     "output_type": "execute_result"
    }
   ],
   "source": [
    "X_selected.describe()"
   ]
  },
  {
   "cell_type": "markdown",
   "metadata": {},
   "source": [
    "# Classification Method"
   ]
  },
  {
   "cell_type": "code",
   "execution_count": 53,
   "metadata": {
    "scrolled": true
   },
   "outputs": [],
   "source": [
    "X_selected = X[X.columns[selection_model.get_support()]]\n",
    "\n",
    "lr = LogisticRegression(penalty='l1',multi_class='ovr')\n",
    "lda = LinearDiscriminantAnalysis(solver='lsqr',shrinkage=True)\n",
    "gnb = GaussianNB()\n",
    "qda = QuadraticDiscriminantAnalysis(reg_param=0.1)\n",
    "\n",
    "models = [lr, lda, qda, gnb]\n",
    "models_index = ['LR','LDA','QDA','GNB']\n",
    "scoring = ['accuracy','precision_macro','recall_macro','f1_macro']\n",
    "result = pd.DataFrame(columns=['variables','n_vars','method','accuracy','precision_macro','recall_macro','f1_macro'])\n",
    "\n",
    "cols=[]\n",
    "for i in X_selected.columns:\n",
    "    cols.append(i)\n",
    "    \n",
    "    X_new = X_selected[cols]\n",
    "    for count, model in enumerate(models):\n",
    "        score_dict ={}\n",
    "        score_dict['method'] = models_index[count]\n",
    "        score_dict['variables'] = ','.join(cols)\n",
    "        score_dict['n_vars'] = len(cols)\n",
    "        \n",
    "        for score in scoring:\n",
    "            scores = cross_val_score(model, X_new, y, cv=10, scoring=score)\n",
    "            score_dict[score] = np.mean(scores)\n",
    "        result = result.append(score_dict,ignore_index=True)"
   ]
  },
  {
   "cell_type": "code",
   "execution_count": 59,
   "metadata": {},
   "outputs": [],
   "source": [
    "result.to_csv('result.csv')"
   ]
  },
  {
   "cell_type": "code",
   "execution_count": 55,
   "metadata": {
    "scrolled": true
   },
   "outputs": [
    {
     "data": {
      "text/html": [
       "<div>\n",
       "<table border=\"1\" class=\"dataframe\">\n",
       "  <thead>\n",
       "    <tr style=\"text-align: right;\">\n",
       "      <th></th>\n",
       "      <th>variables</th>\n",
       "      <th>n_vars</th>\n",
       "      <th>method</th>\n",
       "      <th>accuracy</th>\n",
       "      <th>precision_macro</th>\n",
       "      <th>recall_macro</th>\n",
       "      <th>f1_macro</th>\n",
       "    </tr>\n",
       "  </thead>\n",
       "  <tbody>\n",
       "    <tr>\n",
       "      <th>5</th>\n",
       "      <td>roe,dividends_to_assets</td>\n",
       "      <td>2.0</td>\n",
       "      <td>LDA</td>\n",
       "      <td>0.656595</td>\n",
       "      <td>0.69391</td>\n",
       "      <td>0.629624</td>\n",
       "      <td>0.610025</td>\n",
       "    </tr>\n",
       "  </tbody>\n",
       "</table>\n",
       "</div>"
      ],
      "text/plain": [
       "                 variables  n_vars method  accuracy  precision_macro  \\\n",
       "5  roe,dividends_to_assets     2.0    LDA  0.656595          0.69391   \n",
       "\n",
       "   recall_macro  f1_macro  \n",
       "5      0.629624  0.610025  "
      ]
     },
     "execution_count": 55,
     "metadata": {},
     "output_type": "execute_result"
    }
   ],
   "source": [
    "result[result['accuracy'] == max(result['accuracy'])]"
   ]
  },
  {
   "cell_type": "code",
   "execution_count": 56,
   "metadata": {
    "scrolled": false
   },
   "outputs": [
    {
     "data": {
      "text/html": [
       "<div>\n",
       "<table border=\"1\" class=\"dataframe\">\n",
       "  <thead>\n",
       "    <tr style=\"text-align: right;\">\n",
       "      <th></th>\n",
       "      <th>variables</th>\n",
       "      <th>n_vars</th>\n",
       "      <th>method</th>\n",
       "      <th>accuracy</th>\n",
       "      <th>precision_macro</th>\n",
       "      <th>recall_macro</th>\n",
       "      <th>f1_macro</th>\n",
       "    </tr>\n",
       "  </thead>\n",
       "  <tbody>\n",
       "    <tr>\n",
       "      <th>29</th>\n",
       "      <td>roe,dividends_to_assets,short_term_borrowings_...</td>\n",
       "      <td>8.0</td>\n",
       "      <td>LDA</td>\n",
       "      <td>0.640182</td>\n",
       "      <td>0.639109</td>\n",
       "      <td>0.63429</td>\n",
       "      <td>0.63205</td>\n",
       "    </tr>\n",
       "  </tbody>\n",
       "</table>\n",
       "</div>"
      ],
      "text/plain": [
       "                                            variables  n_vars method  \\\n",
       "29  roe,dividends_to_assets,short_term_borrowings_...     8.0    LDA   \n",
       "\n",
       "    accuracy  precision_macro  recall_macro  f1_macro  \n",
       "29  0.640182         0.639109       0.63429   0.63205  "
      ]
     },
     "execution_count": 56,
     "metadata": {},
     "output_type": "execute_result"
    }
   ],
   "source": [
    "result[result['f1_macro'] == max(result['f1_macro'])]"
   ]
  },
  {
   "cell_type": "code",
   "execution_count": 57,
   "metadata": {},
   "outputs": [
    {
     "data": {
      "text/plain": [
       "<matplotlib.axes._subplots.AxesSubplot at 0x26a7b965278>"
      ]
     },
     "execution_count": 57,
     "metadata": {},
     "output_type": "execute_result"
    },
    {
     "data": {
      "image/png": "[encoded data removed]",
      "text/plain": [
       "<matplotlib.figure.Figure at 0x26a7ba47b38>"
      ]
     },
     "metadata": {},
     "output_type": "display_data"
    }
   ],
   "source": [
    "result.plot.bar(x=['method','n_vars'],y=['accuracy','precision_macro','recall_macro'],figsize=(12, 3))"
   ]
  },
  {
   "cell_type": "code",
   "execution_count": 41,
   "metadata": {},
   "outputs": [
    {
     "data": {
      "text/plain": [
       "0.5493068142850145"
      ]
     },
     "execution_count": 41,
     "metadata": {},
     "output_type": "execute_result"
    }
   ],
   "source": [
    "len(y[y=='DOWN'])/len(y)"
   ]
  },
  {
   "cell_type": "markdown",
   "metadata": {},
   "source": [
    "# Feature Selection"
   ]
  },
  {
   "cell_type": "markdown",
   "metadata": {},
   "source": [
    "# Naive Bayesian"
   ]
  },
  {
   "cell_type": "code",
   "execution_count": 167,
   "metadata": {},
   "outputs": [
    {
     "name": "stdout",
     "output_type": "stream",
     "text": [
      "[[297   8   1 111  37   0 114  63   0   5]\n",
      " [199  22   1 278  73   0  61 124   5  69]\n",
      " [  3   0   0   5   1   0   0   0   0   2]\n",
      " [208   4   0 274  59   0 197  14   0  14]\n",
      " [175   3   0 241 130   0  57  27   0  29]\n",
      " [ 15   2   0  24   8   0  18   1   0   1]\n",
      " [  5   0   0   4   1   0  46   0   0   0]\n",
      " [ 71   4   0  20   5   0   7 198   1  31]\n",
      " [  0   0   0   0   0   0   5   3   4   0]\n",
      " [ 53   5   0  90  26   0  11  71   0  50]]\n"
     ]
    },
    {
     "name": "stderr",
     "output_type": "stream",
     "text": [
      "c:\\users\\rocku\\anaconda64\\lib\\site-packages\\sklearn\\metrics\\classification.py:1135: UndefinedMetricWarning: Precision is ill-defined and being set to 0.0 in labels with no predicted samples.\n",
      "  'precision', 'predicted', average, warn_for)\n",
      "c:\\users\\rocku\\anaconda64\\lib\\site-packages\\sklearn\\metrics\\classification.py:1135: UndefinedMetricWarning: Precision is ill-defined and being set to 0.0 in labels with no predicted samples.\n",
      "  'precision', 'predicted', average, warn_for)\n",
      "c:\\users\\rocku\\anaconda64\\lib\\site-packages\\sklearn\\metrics\\classification.py:1135: UndefinedMetricWarning: Precision is ill-defined and being set to 0.0 in labels with no predicted samples.\n",
      "  'precision', 'predicted', average, warn_for)\n",
      "c:\\users\\rocku\\anaconda64\\lib\\site-packages\\sklearn\\metrics\\classification.py:1135: UndefinedMetricWarning: Precision is ill-defined and being set to 0.0 in labels with no predicted samples.\n",
      "  'precision', 'predicted', average, warn_for)\n",
      "c:\\users\\rocku\\anaconda64\\lib\\site-packages\\sklearn\\metrics\\classification.py:1135: UndefinedMetricWarning: Precision is ill-defined and being set to 0.0 in labels with no predicted samples.\n",
      "  'precision', 'predicted', average, warn_for)\n",
      "c:\\users\\rocku\\anaconda64\\lib\\site-packages\\sklearn\\metrics\\classification.py:1135: UndefinedMetricWarning: Precision is ill-defined and being set to 0.0 in labels with no predicted samples.\n",
      "  'precision', 'predicted', average, warn_for)\n",
      "c:\\users\\rocku\\anaconda64\\lib\\site-packages\\sklearn\\metrics\\classification.py:1135: UndefinedMetricWarning: Precision is ill-defined and being set to 0.0 in labels with no predicted samples.\n",
      "  'precision', 'predicted', average, warn_for)\n"
     ]
    },
    {
     "name": "stdout",
     "output_type": "stream",
     "text": [
      "{'accuracy': 0.13487828643968708, 'precision_weighted': 0.28903418282356924, 'recall_weighted': 0.13487828643968708}\n"
     ]
    }
   ],
   "source": [
    "X_train, X_test, y_train, y_test = train_test_split(X_new, y,test_size=0.33, random_state = 0)\n",
    "\n",
    "gnb = GaussianNB().fit(X_train, y_train)\n",
    "gnb_predictions = gnb.predict(X_test)\n",
    "\n",
    "# creating a confusion matrix\n",
    "cm = metrics.confusion_matrix(y_test, gnb_predictions)\n",
    "print(cm)\n",
    "\n",
    "dict_score = {}\n",
    "scoring = ['accuracy','precision_weighted','recall_weighted']\n",
    "for score in scoring:\n",
    "    scores = cross_val_score(gnb, X, y, cv=10, scoring=score)\n",
    "    dict_score[score] = np.mean(scores)\n",
    "    \n",
    "print(dict_score)"
   ]
  },
  {
   "cell_type": "code",
   "execution_count": 27,
   "metadata": {},
   "outputs": [
    {
     "name": "stdout",
     "output_type": "stream",
     "text": [
      "0.7844614784981161\n",
      "[[5607  226]\n",
      " [1433  431]]\n",
      "{'accuracy': 0.7792752350702677, 'recall_weighted': 0.7792752350702677, 'precision_weighted': 0.7583755131525948}\n"
     ]
    }
   ],
   "source": [
    "X_train, X_test, y_train, y_test = train_test_split(X, y2,test_size=0.33, random_state = 0)\n",
    "\n",
    "gnb = GaussianNB().fit(X_train, y_train)\n",
    "gnb_predictions = gnb.predict(X_test)\n",
    " \n",
    "accuracy = gnb.score(X_test, y_test)\n",
    "print(accuracy)\n",
    " \n",
    "# creating a confusion matrix\n",
    "cm = metrics.confusion_matrix(y_test, gnb_predictions)\n",
    "print(cm)\n",
    "\n",
    "dict_score = {}\n",
    "scoring = ['accuracy','precision_weighted','recall_weighted']\n",
    "for score in scoring:\n",
    "    scores = cross_val_score(gnb, X, y2, cv=10, scoring=score)\n",
    "    dict_score[score] = np.mean(scores)\n",
    "    \n",
    "print(dict_score)"
   ]
  },
  {
   "cell_type": "markdown",
   "metadata": {},
   "source": [
    "# Multinomial Logistic regression"
   ]
  },
  {
   "cell_type": "code",
   "execution_count": 168,
   "metadata": {},
   "outputs": [
    {
     "name": "stdout",
     "output_type": "stream",
     "text": [
      "0.327282579247\n",
      "[[189 133   0 183 109   0   0  22   0   0]\n",
      " [ 77 299   0 247 137   0   0  72   0   0]\n",
      " [  2   4   0   5   0   0   0   0   0   0]\n",
      " [104 157   0 395 111   0   0   3   0   0]\n",
      " [ 43 123   0 257 239   0   0   0   0   0]\n",
      " [  6  10   0  43  10   0   0   0   0   0]\n",
      " [  1   0   0  49   6   0   0   0   0   0]\n",
      " [ 35 186   0  16  15   0   0  85   0   0]\n",
      " [  0   0   0   5   0   0   0   7   0   0]\n",
      " [ 23 168   0  53  36   0   0  25   0   1]]\n"
     ]
    },
    {
     "ename": "KeyboardInterrupt",
     "evalue": "",
     "output_type": "error",
     "traceback": [
      "\u001b[0;31m---------------------------------------------------------------------------\u001b[0m",
      "\u001b[0;31mKeyboardInterrupt\u001b[0m                         Traceback (most recent call last)",
      "\u001b[0;32m<ipython-input-168-886024c91b9d>\u001b[0m in \u001b[0;36m<module>\u001b[0;34m()\u001b[0m\n\u001b[1;32m     13\u001b[0m \u001b[0mscoring\u001b[0m \u001b[1;33m=\u001b[0m \u001b[1;33m[\u001b[0m\u001b[1;34m'accuracy'\u001b[0m\u001b[1;33m,\u001b[0m\u001b[1;34m'precision_macro'\u001b[0m\u001b[1;33m,\u001b[0m\u001b[1;34m'recall_macro'\u001b[0m\u001b[1;33m]\u001b[0m\u001b[1;33m\u001b[0m\u001b[0m\n\u001b[1;32m     14\u001b[0m \u001b[1;32mfor\u001b[0m \u001b[0mscore\u001b[0m \u001b[1;32min\u001b[0m \u001b[0mscoring\u001b[0m\u001b[1;33m:\u001b[0m\u001b[1;33m\u001b[0m\u001b[0m\n\u001b[0;32m---> 15\u001b[0;31m     \u001b[0mscores\u001b[0m \u001b[1;33m=\u001b[0m \u001b[0mcross_val_score\u001b[0m\u001b[1;33m(\u001b[0m\u001b[0mmul_lr\u001b[0m\u001b[1;33m,\u001b[0m \u001b[0mX\u001b[0m\u001b[1;33m,\u001b[0m \u001b[0my\u001b[0m\u001b[1;33m,\u001b[0m \u001b[0mcv\u001b[0m\u001b[1;33m=\u001b[0m\u001b[1;36m10\u001b[0m\u001b[1;33m,\u001b[0m \u001b[0mscoring\u001b[0m\u001b[1;33m=\u001b[0m\u001b[0mscore\u001b[0m\u001b[1;33m)\u001b[0m\u001b[1;33m\u001b[0m\u001b[0m\n\u001b[0m\u001b[1;32m     16\u001b[0m     \u001b[0mdict_score\u001b[0m\u001b[1;33m[\u001b[0m\u001b[0mscore\u001b[0m\u001b[1;33m]\u001b[0m \u001b[1;33m=\u001b[0m \u001b[0mnp\u001b[0m\u001b[1;33m.\u001b[0m\u001b[0mmean\u001b[0m\u001b[1;33m(\u001b[0m\u001b[0mscores\u001b[0m\u001b[1;33m)\u001b[0m\u001b[1;33m\u001b[0m\u001b[0m\n\u001b[1;32m     17\u001b[0m \u001b[1;33m\u001b[0m\u001b[0m\n",
      "\u001b[0;32mc:\\users\\rocku\\anaconda64\\lib\\site-packages\\sklearn\\cross_validation.py\u001b[0m in \u001b[0;36mcross_val_score\u001b[0;34m(estimator, X, y, scoring, cv, n_jobs, verbose, fit_params, pre_dispatch)\u001b[0m\n\u001b[1;32m   1579\u001b[0m                                               \u001b[0mtrain\u001b[0m\u001b[1;33m,\u001b[0m \u001b[0mtest\u001b[0m\u001b[1;33m,\u001b[0m \u001b[0mverbose\u001b[0m\u001b[1;33m,\u001b[0m \u001b[1;32mNone\u001b[0m\u001b[1;33m,\u001b[0m\u001b[1;33m\u001b[0m\u001b[0m\n\u001b[1;32m   1580\u001b[0m                                               fit_params)\n\u001b[0;32m-> 1581\u001b[0;31m                       for train, test in cv)\n\u001b[0m\u001b[1;32m   1582\u001b[0m     \u001b[1;32mreturn\u001b[0m \u001b[0mnp\u001b[0m\u001b[1;33m.\u001b[0m\u001b[0marray\u001b[0m\u001b[1;33m(\u001b[0m\u001b[0mscores\u001b[0m\u001b[1;33m)\u001b[0m\u001b[1;33m[\u001b[0m\u001b[1;33m:\u001b[0m\u001b[1;33m,\u001b[0m \u001b[1;36m0\u001b[0m\u001b[1;33m]\u001b[0m\u001b[1;33m\u001b[0m\u001b[0m\n\u001b[1;32m   1583\u001b[0m \u001b[1;33m\u001b[0m\u001b[0m\n",
      "\u001b[0;32mc:\\users\\rocku\\anaconda64\\lib\\site-packages\\sklearn\\externals\\joblib\\parallel.py\u001b[0m in \u001b[0;36m__call__\u001b[0;34m(self, iterable)\u001b[0m\n\u001b[1;32m    777\u001b[0m             \u001b[1;31m# was dispatched. In particular this covers the edge\u001b[0m\u001b[1;33m\u001b[0m\u001b[1;33m\u001b[0m\u001b[0m\n\u001b[1;32m    778\u001b[0m             \u001b[1;31m# case of Parallel used with an exhausted iterator.\u001b[0m\u001b[1;33m\u001b[0m\u001b[1;33m\u001b[0m\u001b[0m\n\u001b[0;32m--> 779\u001b[0;31m             \u001b[1;32mwhile\u001b[0m \u001b[0mself\u001b[0m\u001b[1;33m.\u001b[0m\u001b[0mdispatch_one_batch\u001b[0m\u001b[1;33m(\u001b[0m\u001b[0miterator\u001b[0m\u001b[1;33m)\u001b[0m\u001b[1;33m:\u001b[0m\u001b[1;33m\u001b[0m\u001b[0m\n\u001b[0m\u001b[1;32m    780\u001b[0m                 \u001b[0mself\u001b[0m\u001b[1;33m.\u001b[0m\u001b[0m_iterating\u001b[0m \u001b[1;33m=\u001b[0m \u001b[1;32mTrue\u001b[0m\u001b[1;33m\u001b[0m\u001b[0m\n\u001b[1;32m    781\u001b[0m             \u001b[1;32melse\u001b[0m\u001b[1;33m:\u001b[0m\u001b[1;33m\u001b[0m\u001b[0m\n",
      "\u001b[0;32mc:\\users\\rocku\\anaconda64\\lib\\site-packages\\sklearn\\externals\\joblib\\parallel.py\u001b[0m in \u001b[0;36mdispatch_one_batch\u001b[0;34m(self, iterator)\u001b[0m\n\u001b[1;32m    623\u001b[0m                 \u001b[1;32mreturn\u001b[0m \u001b[1;32mFalse\u001b[0m\u001b[1;33m\u001b[0m\u001b[0m\n\u001b[1;32m    624\u001b[0m             \u001b[1;32melse\u001b[0m\u001b[1;33m:\u001b[0m\u001b[1;33m\u001b[0m\u001b[0m\n\u001b[0;32m--> 625\u001b[0;31m                 \u001b[0mself\u001b[0m\u001b[1;33m.\u001b[0m\u001b[0m_dispatch\u001b[0m\u001b[1;33m(\u001b[0m\u001b[0mtasks\u001b[0m\u001b[1;33m)\u001b[0m\u001b[1;33m\u001b[0m\u001b[0m\n\u001b[0m\u001b[1;32m    626\u001b[0m                 \u001b[1;32mreturn\u001b[0m \u001b[1;32mTrue\u001b[0m\u001b[1;33m\u001b[0m\u001b[0m\n\u001b[1;32m    627\u001b[0m \u001b[1;33m\u001b[0m\u001b[0m\n",
      "\u001b[0;32mc:\\users\\rocku\\anaconda64\\lib\\site-packages\\sklearn\\externals\\joblib\\parallel.py\u001b[0m in \u001b[0;36m_dispatch\u001b[0;34m(self, batch)\u001b[0m\n\u001b[1;32m    586\u001b[0m         \u001b[0mdispatch_timestamp\u001b[0m \u001b[1;33m=\u001b[0m \u001b[0mtime\u001b[0m\u001b[1;33m.\u001b[0m\u001b[0mtime\u001b[0m\u001b[1;33m(\u001b[0m\u001b[1;33m)\u001b[0m\u001b[1;33m\u001b[0m\u001b[0m\n\u001b[1;32m    587\u001b[0m         \u001b[0mcb\u001b[0m \u001b[1;33m=\u001b[0m \u001b[0mBatchCompletionCallBack\u001b[0m\u001b[1;33m(\u001b[0m\u001b[0mdispatch_timestamp\u001b[0m\u001b[1;33m,\u001b[0m \u001b[0mlen\u001b[0m\u001b[1;33m(\u001b[0m\u001b[0mbatch\u001b[0m\u001b[1;33m)\u001b[0m\u001b[1;33m,\u001b[0m \u001b[0mself\u001b[0m\u001b[1;33m)\u001b[0m\u001b[1;33m\u001b[0m\u001b[0m\n\u001b[0;32m--> 588\u001b[0;31m         \u001b[0mjob\u001b[0m \u001b[1;33m=\u001b[0m \u001b[0mself\u001b[0m\u001b[1;33m.\u001b[0m\u001b[0m_backend\u001b[0m\u001b[1;33m.\u001b[0m\u001b[0mapply_async\u001b[0m\u001b[1;33m(\u001b[0m\u001b[0mbatch\u001b[0m\u001b[1;33m,\u001b[0m \u001b[0mcallback\u001b[0m\u001b[1;33m=\u001b[0m\u001b[0mcb\u001b[0m\u001b[1;33m)\u001b[0m\u001b[1;33m\u001b[0m\u001b[0m\n\u001b[0m\u001b[1;32m    589\u001b[0m         \u001b[0mself\u001b[0m\u001b[1;33m.\u001b[0m\u001b[0m_jobs\u001b[0m\u001b[1;33m.\u001b[0m\u001b[0mappend\u001b[0m\u001b[1;33m(\u001b[0m\u001b[0mjob\u001b[0m\u001b[1;33m)\u001b[0m\u001b[1;33m\u001b[0m\u001b[0m\n\u001b[1;32m    590\u001b[0m \u001b[1;33m\u001b[0m\u001b[0m\n",
      "\u001b[0;32mc:\\users\\rocku\\anaconda64\\lib\\site-packages\\sklearn\\externals\\joblib\\_parallel_backends.py\u001b[0m in \u001b[0;36mapply_async\u001b[0;34m(self, func, callback)\u001b[0m\n\u001b[1;32m    109\u001b[0m     \u001b[1;32mdef\u001b[0m \u001b[0mapply_async\u001b[0m\u001b[1;33m(\u001b[0m\u001b[0mself\u001b[0m\u001b[1;33m,\u001b[0m \u001b[0mfunc\u001b[0m\u001b[1;33m,\u001b[0m \u001b[0mcallback\u001b[0m\u001b[1;33m=\u001b[0m\u001b[1;32mNone\u001b[0m\u001b[1;33m)\u001b[0m\u001b[1;33m:\u001b[0m\u001b[1;33m\u001b[0m\u001b[0m\n\u001b[1;32m    110\u001b[0m         \u001b[1;34m\"\"\"Schedule a func to be run\"\"\"\u001b[0m\u001b[1;33m\u001b[0m\u001b[0m\n\u001b[0;32m--> 111\u001b[0;31m         \u001b[0mresult\u001b[0m \u001b[1;33m=\u001b[0m \u001b[0mImmediateResult\u001b[0m\u001b[1;33m(\u001b[0m\u001b[0mfunc\u001b[0m\u001b[1;33m)\u001b[0m\u001b[1;33m\u001b[0m\u001b[0m\n\u001b[0m\u001b[1;32m    112\u001b[0m         \u001b[1;32mif\u001b[0m \u001b[0mcallback\u001b[0m\u001b[1;33m:\u001b[0m\u001b[1;33m\u001b[0m\u001b[0m\n\u001b[1;32m    113\u001b[0m             \u001b[0mcallback\u001b[0m\u001b[1;33m(\u001b[0m\u001b[0mresult\u001b[0m\u001b[1;33m)\u001b[0m\u001b[1;33m\u001b[0m\u001b[0m\n",
      "\u001b[0;32mc:\\users\\rocku\\anaconda64\\lib\\site-packages\\sklearn\\externals\\joblib\\_parallel_backends.py\u001b[0m in \u001b[0;36m__init__\u001b[0;34m(self, batch)\u001b[0m\n\u001b[1;32m    330\u001b[0m         \u001b[1;31m# Don't delay the application, to avoid keeping the input\u001b[0m\u001b[1;33m\u001b[0m\u001b[1;33m\u001b[0m\u001b[0m\n\u001b[1;32m    331\u001b[0m         \u001b[1;31m# arguments in memory\u001b[0m\u001b[1;33m\u001b[0m\u001b[1;33m\u001b[0m\u001b[0m\n\u001b[0;32m--> 332\u001b[0;31m         \u001b[0mself\u001b[0m\u001b[1;33m.\u001b[0m\u001b[0mresults\u001b[0m \u001b[1;33m=\u001b[0m \u001b[0mbatch\u001b[0m\u001b[1;33m(\u001b[0m\u001b[1;33m)\u001b[0m\u001b[1;33m\u001b[0m\u001b[0m\n\u001b[0m\u001b[1;32m    333\u001b[0m \u001b[1;33m\u001b[0m\u001b[0m\n\u001b[1;32m    334\u001b[0m     \u001b[1;32mdef\u001b[0m \u001b[0mget\u001b[0m\u001b[1;33m(\u001b[0m\u001b[0mself\u001b[0m\u001b[1;33m)\u001b[0m\u001b[1;33m:\u001b[0m\u001b[1;33m\u001b[0m\u001b[0m\n",
      "\u001b[0;32mc:\\users\\rocku\\anaconda64\\lib\\site-packages\\sklearn\\externals\\joblib\\parallel.py\u001b[0m in \u001b[0;36m__call__\u001b[0;34m(self)\u001b[0m\n\u001b[1;32m    129\u001b[0m \u001b[1;33m\u001b[0m\u001b[0m\n\u001b[1;32m    130\u001b[0m     \u001b[1;32mdef\u001b[0m \u001b[0m__call__\u001b[0m\u001b[1;33m(\u001b[0m\u001b[0mself\u001b[0m\u001b[1;33m)\u001b[0m\u001b[1;33m:\u001b[0m\u001b[1;33m\u001b[0m\u001b[0m\n\u001b[0;32m--> 131\u001b[0;31m         \u001b[1;32mreturn\u001b[0m \u001b[1;33m[\u001b[0m\u001b[0mfunc\u001b[0m\u001b[1;33m(\u001b[0m\u001b[1;33m*\u001b[0m\u001b[0margs\u001b[0m\u001b[1;33m,\u001b[0m \u001b[1;33m**\u001b[0m\u001b[0mkwargs\u001b[0m\u001b[1;33m)\u001b[0m \u001b[1;32mfor\u001b[0m \u001b[0mfunc\u001b[0m\u001b[1;33m,\u001b[0m \u001b[0margs\u001b[0m\u001b[1;33m,\u001b[0m \u001b[0mkwargs\u001b[0m \u001b[1;32min\u001b[0m \u001b[0mself\u001b[0m\u001b[1;33m.\u001b[0m\u001b[0mitems\u001b[0m\u001b[1;33m]\u001b[0m\u001b[1;33m\u001b[0m\u001b[0m\n\u001b[0m\u001b[1;32m    132\u001b[0m \u001b[1;33m\u001b[0m\u001b[0m\n\u001b[1;32m    133\u001b[0m     \u001b[1;32mdef\u001b[0m \u001b[0m__len__\u001b[0m\u001b[1;33m(\u001b[0m\u001b[0mself\u001b[0m\u001b[1;33m)\u001b[0m\u001b[1;33m:\u001b[0m\u001b[1;33m\u001b[0m\u001b[0m\n",
      "\u001b[0;32mc:\\users\\rocku\\anaconda64\\lib\\site-packages\\sklearn\\externals\\joblib\\parallel.py\u001b[0m in \u001b[0;36m<listcomp>\u001b[0;34m(.0)\u001b[0m\n\u001b[1;32m    129\u001b[0m \u001b[1;33m\u001b[0m\u001b[0m\n\u001b[1;32m    130\u001b[0m     \u001b[1;32mdef\u001b[0m \u001b[0m__call__\u001b[0m\u001b[1;33m(\u001b[0m\u001b[0mself\u001b[0m\u001b[1;33m)\u001b[0m\u001b[1;33m:\u001b[0m\u001b[1;33m\u001b[0m\u001b[0m\n\u001b[0;32m--> 131\u001b[0;31m         \u001b[1;32mreturn\u001b[0m \u001b[1;33m[\u001b[0m\u001b[0mfunc\u001b[0m\u001b[1;33m(\u001b[0m\u001b[1;33m*\u001b[0m\u001b[0margs\u001b[0m\u001b[1;33m,\u001b[0m \u001b[1;33m**\u001b[0m\u001b[0mkwargs\u001b[0m\u001b[1;33m)\u001b[0m \u001b[1;32mfor\u001b[0m \u001b[0mfunc\u001b[0m\u001b[1;33m,\u001b[0m \u001b[0margs\u001b[0m\u001b[1;33m,\u001b[0m \u001b[0mkwargs\u001b[0m \u001b[1;32min\u001b[0m \u001b[0mself\u001b[0m\u001b[1;33m.\u001b[0m\u001b[0mitems\u001b[0m\u001b[1;33m]\u001b[0m\u001b[1;33m\u001b[0m\u001b[0m\n\u001b[0m\u001b[1;32m    132\u001b[0m \u001b[1;33m\u001b[0m\u001b[0m\n\u001b[1;32m    133\u001b[0m     \u001b[1;32mdef\u001b[0m \u001b[0m__len__\u001b[0m\u001b[1;33m(\u001b[0m\u001b[0mself\u001b[0m\u001b[1;33m)\u001b[0m\u001b[1;33m:\u001b[0m\u001b[1;33m\u001b[0m\u001b[0m\n",
      "\u001b[0;32mc:\\users\\rocku\\anaconda64\\lib\\site-packages\\sklearn\\cross_validation.py\u001b[0m in \u001b[0;36m_fit_and_score\u001b[0;34m(estimator, X, y, scorer, train, test, verbose, parameters, fit_params, return_train_score, return_parameters, error_score)\u001b[0m\n\u001b[1;32m   1673\u001b[0m             \u001b[0mestimator\u001b[0m\u001b[1;33m.\u001b[0m\u001b[0mfit\u001b[0m\u001b[1;33m(\u001b[0m\u001b[0mX_train\u001b[0m\u001b[1;33m,\u001b[0m \u001b[1;33m**\u001b[0m\u001b[0mfit_params\u001b[0m\u001b[1;33m)\u001b[0m\u001b[1;33m\u001b[0m\u001b[0m\n\u001b[1;32m   1674\u001b[0m         \u001b[1;32melse\u001b[0m\u001b[1;33m:\u001b[0m\u001b[1;33m\u001b[0m\u001b[0m\n\u001b[0;32m-> 1675\u001b[0;31m             \u001b[0mestimator\u001b[0m\u001b[1;33m.\u001b[0m\u001b[0mfit\u001b[0m\u001b[1;33m(\u001b[0m\u001b[0mX_train\u001b[0m\u001b[1;33m,\u001b[0m \u001b[0my_train\u001b[0m\u001b[1;33m,\u001b[0m \u001b[1;33m**\u001b[0m\u001b[0mfit_params\u001b[0m\u001b[1;33m)\u001b[0m\u001b[1;33m\u001b[0m\u001b[0m\n\u001b[0m\u001b[1;32m   1676\u001b[0m \u001b[1;33m\u001b[0m\u001b[0m\n\u001b[1;32m   1677\u001b[0m     \u001b[1;32mexcept\u001b[0m \u001b[0mException\u001b[0m \u001b[1;32mas\u001b[0m \u001b[0me\u001b[0m\u001b[1;33m:\u001b[0m\u001b[1;33m\u001b[0m\u001b[0m\n",
      "\u001b[0;32mc:\\users\\rocku\\anaconda64\\lib\\site-packages\\sklearn\\linear_model\\logistic.py\u001b[0m in \u001b[0;36mfit\u001b[0;34m(self, X, y, sample_weight)\u001b[0m\n\u001b[1;32m   1231\u001b[0m                 \u001b[0mself\u001b[0m\u001b[1;33m.\u001b[0m\u001b[0mclass_weight\u001b[0m\u001b[1;33m,\u001b[0m \u001b[0mself\u001b[0m\u001b[1;33m.\u001b[0m\u001b[0mpenalty\u001b[0m\u001b[1;33m,\u001b[0m \u001b[0mself\u001b[0m\u001b[1;33m.\u001b[0m\u001b[0mdual\u001b[0m\u001b[1;33m,\u001b[0m \u001b[0mself\u001b[0m\u001b[1;33m.\u001b[0m\u001b[0mverbose\u001b[0m\u001b[1;33m,\u001b[0m\u001b[1;33m\u001b[0m\u001b[0m\n\u001b[1;32m   1232\u001b[0m                 \u001b[0mself\u001b[0m\u001b[1;33m.\u001b[0m\u001b[0mmax_iter\u001b[0m\u001b[1;33m,\u001b[0m \u001b[0mself\u001b[0m\u001b[1;33m.\u001b[0m\u001b[0mtol\u001b[0m\u001b[1;33m,\u001b[0m \u001b[0mself\u001b[0m\u001b[1;33m.\u001b[0m\u001b[0mrandom_state\u001b[0m\u001b[1;33m,\u001b[0m\u001b[1;33m\u001b[0m\u001b[0m\n\u001b[0;32m-> 1233\u001b[0;31m                 sample_weight=sample_weight)\n\u001b[0m\u001b[1;32m   1234\u001b[0m             \u001b[0mself\u001b[0m\u001b[1;33m.\u001b[0m\u001b[0mn_iter_\u001b[0m \u001b[1;33m=\u001b[0m \u001b[0mnp\u001b[0m\u001b[1;33m.\u001b[0m\u001b[0marray\u001b[0m\u001b[1;33m(\u001b[0m\u001b[1;33m[\u001b[0m\u001b[0mn_iter_\u001b[0m\u001b[1;33m]\u001b[0m\u001b[1;33m)\u001b[0m\u001b[1;33m\u001b[0m\u001b[0m\n\u001b[1;32m   1235\u001b[0m             \u001b[1;32mreturn\u001b[0m \u001b[0mself\u001b[0m\u001b[1;33m\u001b[0m\u001b[0m\n",
      "\u001b[0;32mc:\\users\\rocku\\anaconda64\\lib\\site-packages\\sklearn\\svm\\base.py\u001b[0m in \u001b[0;36m_fit_liblinear\u001b[0;34m(X, y, C, fit_intercept, intercept_scaling, class_weight, penalty, dual, verbose, max_iter, tol, random_state, multi_class, loss, epsilon, sample_weight)\u001b[0m\n\u001b[1;32m    888\u001b[0m         \u001b[0mX\u001b[0m\u001b[1;33m,\u001b[0m \u001b[0my_ind\u001b[0m\u001b[1;33m,\u001b[0m \u001b[0msp\u001b[0m\u001b[1;33m.\u001b[0m\u001b[0misspmatrix\u001b[0m\u001b[1;33m(\u001b[0m\u001b[0mX\u001b[0m\u001b[1;33m)\u001b[0m\u001b[1;33m,\u001b[0m \u001b[0msolver_type\u001b[0m\u001b[1;33m,\u001b[0m \u001b[0mtol\u001b[0m\u001b[1;33m,\u001b[0m \u001b[0mbias\u001b[0m\u001b[1;33m,\u001b[0m \u001b[0mC\u001b[0m\u001b[1;33m,\u001b[0m\u001b[1;33m\u001b[0m\u001b[0m\n\u001b[1;32m    889\u001b[0m         \u001b[0mclass_weight_\u001b[0m\u001b[1;33m,\u001b[0m \u001b[0mmax_iter\u001b[0m\u001b[1;33m,\u001b[0m \u001b[0mrnd\u001b[0m\u001b[1;33m.\u001b[0m\u001b[0mrandint\u001b[0m\u001b[1;33m(\u001b[0m\u001b[0mnp\u001b[0m\u001b[1;33m.\u001b[0m\u001b[0miinfo\u001b[0m\u001b[1;33m(\u001b[0m\u001b[1;34m'i'\u001b[0m\u001b[1;33m)\u001b[0m\u001b[1;33m.\u001b[0m\u001b[0mmax\u001b[0m\u001b[1;33m)\u001b[0m\u001b[1;33m,\u001b[0m\u001b[1;33m\u001b[0m\u001b[0m\n\u001b[0;32m--> 890\u001b[0;31m         epsilon, sample_weight)\n\u001b[0m\u001b[1;32m    891\u001b[0m     \u001b[1;31m# Regarding rnd.randint(..) in the above signature:\u001b[0m\u001b[1;33m\u001b[0m\u001b[1;33m\u001b[0m\u001b[0m\n\u001b[1;32m    892\u001b[0m     \u001b[1;31m# seed for srand in range [0..INT_MAX); due to limitations in Numpy\u001b[0m\u001b[1;33m\u001b[0m\u001b[1;33m\u001b[0m\u001b[0m\n",
      "\u001b[0;31mKeyboardInterrupt\u001b[0m: "
     ]
    }
   ],
   "source": [
    "X_train, X_test, y_train, y_test = train_test_split(X_new, y,test_size=0.33, random_state = 0)\n",
    "\n",
    "mul_lr = LogisticRegression(multi_class='ovr')\n",
    "mul_lr.fit(X_train, y_train)\n",
    "\n",
    "mul_lr_predictions = mul_lr.predict(X_test)\n",
    "accuracy = mul_lr.score(X_test, y_test)\n",
    "print(accuracy)\n",
    "cm = metrics.confusion_matrix(y_test, mul_lr_predictions)\n",
    "print(cm)\n",
    "\n",
    "dict_score = {}\n",
    "scoring = ['accuracy','precision_macro','recall_macro']\n",
    "for score in scoring:\n",
    "    scores = cross_val_score(mul_lr, X, y, cv=10, scoring=score)\n",
    "    dict_score[score] = np.mean(scores)\n",
    "    \n",
    "print(dict_score)"
   ]
  },
  {
   "cell_type": "code",
   "execution_count": 111,
   "metadata": {},
   "outputs": [
    {
     "ename": "NameError",
     "evalue": "name 'y2' is not defined",
     "output_type": "error",
     "traceback": [
      "\u001b[0;31m---------------------------------------------------------------------------\u001b[0m",
      "\u001b[0;31mNameError\u001b[0m                                 Traceback (most recent call last)",
      "\u001b[0;32m<ipython-input-111-96dbf89997a9>\u001b[0m in \u001b[0;36m<module>\u001b[0;34m()\u001b[0m\n\u001b[0;32m----> 1\u001b[0;31m \u001b[0mX_train\u001b[0m\u001b[1;33m,\u001b[0m \u001b[0mX_test\u001b[0m\u001b[1;33m,\u001b[0m \u001b[0my_train\u001b[0m\u001b[1;33m,\u001b[0m \u001b[0my_test\u001b[0m \u001b[1;33m=\u001b[0m \u001b[0mtrain_test_split\u001b[0m\u001b[1;33m(\u001b[0m\u001b[0mX\u001b[0m\u001b[1;33m,\u001b[0m \u001b[0my2\u001b[0m\u001b[1;33m,\u001b[0m\u001b[0mtest_size\u001b[0m\u001b[1;33m=\u001b[0m\u001b[1;36m0.33\u001b[0m\u001b[1;33m,\u001b[0m \u001b[0mrandom_state\u001b[0m \u001b[1;33m=\u001b[0m \u001b[1;36m0\u001b[0m\u001b[1;33m)\u001b[0m\u001b[1;33m\u001b[0m\u001b[0m\n\u001b[0m\u001b[1;32m      2\u001b[0m \u001b[1;33m\u001b[0m\u001b[0m\n\u001b[1;32m      3\u001b[0m \u001b[0mmul_lr\u001b[0m \u001b[1;33m=\u001b[0m \u001b[0mLogisticRegression\u001b[0m\u001b[1;33m(\u001b[0m\u001b[0mmulti_class\u001b[0m\u001b[1;33m=\u001b[0m\u001b[1;34m'ovr'\u001b[0m\u001b[1;33m)\u001b[0m\u001b[1;33m\u001b[0m\u001b[0m\n\u001b[1;32m      4\u001b[0m \u001b[0mmul_lr\u001b[0m\u001b[1;33m.\u001b[0m\u001b[0mfit\u001b[0m\u001b[1;33m(\u001b[0m\u001b[0mX_train\u001b[0m\u001b[1;33m,\u001b[0m \u001b[0my_train\u001b[0m\u001b[1;33m)\u001b[0m\u001b[1;33m\u001b[0m\u001b[0m\n\u001b[1;32m      5\u001b[0m \u001b[1;33m\u001b[0m\u001b[0m\n",
      "\u001b[0;31mNameError\u001b[0m: name 'y2' is not defined"
     ]
    }
   ],
   "source": [
    "X_train, X_test, y_train, y_test = train_test_split(X, y2,test_size=0.33, random_state = 0)\n",
    "\n",
    "mul_lr = LogisticRegression(multi_class='ovr')\n",
    "mul_lr.fit(X_train, y_train)\n",
    "\n",
    "mul_lr_predictions = mul_lr.predict(X_test)\n",
    "accuracy = mul_lr.score(X_test, y_test)\n",
    "print(accuracy)\n",
    "cm = metrics.confusion_matrix(y_test, mul_lr_predictions)\n",
    "print(cm)\n",
    "\n",
    "dict_score = {}\n",
    "scoring = ['accuracy','precision','recall']\n",
    "for score in scoring:\n",
    "    scores = cross_val_score(mul_lr, X, y2, cv=10, scoring=score)\n",
    "    dict_score[score] = np.mean(scores)\n",
    "    \n",
    "print(dict_score)"
   ]
  },
  {
   "cell_type": "markdown",
   "metadata": {},
   "source": [
    "# LDA"
   ]
  },
  {
   "cell_type": "code",
   "execution_count": 171,
   "metadata": {},
   "outputs": [
    {
     "name": "stdout",
     "output_type": "stream",
     "text": [
      "0.387157951775\n",
      "[[253  64   2 174  98   0   8  35   1   1]\n",
      " [100 202   3 268 141   0  21  40   5  52]\n",
      " [  7   4   0   0   0   0   0   0   0   0]\n",
      " [172  72   1 383  91   3  38   4   2   4]\n",
      " [ 67  56   2 256 266   0  13   2   0   0]\n",
      " [  9   1   0  35  11   0  11   2   0   0]\n",
      " [  1   5   0  23   5   0  22   0   0   0]\n",
      " [ 65  24   1  18   3   0   0 220   0   6]\n",
      " [  0   0   0   5   0   0   0   0   7   0]\n",
      " [ 49  74   1  57  32   0   2  14   1  76]]\n"
     ]
    },
    {
     "name": "stderr",
     "output_type": "stream",
     "text": [
      "c:\\users\\rocku\\anaconda64\\lib\\site-packages\\sklearn\\discriminant_analysis.py:442: UserWarning: The priors do not sum to 1. Renormalizing\n",
      "  UserWarning)\n",
      "c:\\users\\rocku\\anaconda64\\lib\\site-packages\\sklearn\\discriminant_analysis.py:442: UserWarning: The priors do not sum to 1. Renormalizing\n",
      "  UserWarning)\n",
      "c:\\users\\rocku\\anaconda64\\lib\\site-packages\\sklearn\\metrics\\classification.py:1135: UndefinedMetricWarning: Precision is ill-defined and being set to 0.0 in labels with no predicted samples.\n",
      "  'precision', 'predicted', average, warn_for)\n",
      "c:\\users\\rocku\\anaconda64\\lib\\site-packages\\sklearn\\metrics\\classification.py:1135: UndefinedMetricWarning: Precision is ill-defined and being set to 0.0 in labels with no predicted samples.\n",
      "  'precision', 'predicted', average, warn_for)\n",
      "c:\\users\\rocku\\anaconda64\\lib\\site-packages\\sklearn\\metrics\\classification.py:1135: UndefinedMetricWarning: Precision is ill-defined and being set to 0.0 in labels with no predicted samples.\n",
      "  'precision', 'predicted', average, warn_for)\n",
      "c:\\users\\rocku\\anaconda64\\lib\\site-packages\\sklearn\\metrics\\classification.py:1135: UndefinedMetricWarning: Precision is ill-defined and being set to 0.0 in labels with no predicted samples.\n",
      "  'precision', 'predicted', average, warn_for)\n",
      "c:\\users\\rocku\\anaconda64\\lib\\site-packages\\sklearn\\metrics\\classification.py:1135: UndefinedMetricWarning: Precision is ill-defined and being set to 0.0 in labels with no predicted samples.\n",
      "  'precision', 'predicted', average, warn_for)\n",
      "c:\\users\\rocku\\anaconda64\\lib\\site-packages\\sklearn\\metrics\\classification.py:1135: UndefinedMetricWarning: Precision is ill-defined and being set to 0.0 in labels with no predicted samples.\n",
      "  'precision', 'predicted', average, warn_for)\n",
      "c:\\users\\rocku\\anaconda64\\lib\\site-packages\\sklearn\\metrics\\classification.py:1135: UndefinedMetricWarning: Precision is ill-defined and being set to 0.0 in labels with no predicted samples.\n",
      "  'precision', 'predicted', average, warn_for)\n",
      "c:\\users\\rocku\\anaconda64\\lib\\site-packages\\sklearn\\discriminant_analysis.py:442: UserWarning: The priors do not sum to 1. Renormalizing\n",
      "  UserWarning)\n"
     ]
    },
    {
     "name": "stdout",
     "output_type": "stream",
     "text": [
      "{'accuracy': 0.36322228864431899, 'recall_macro': 0.3126563480639995, 'precision_macro': 0.30809044873484642}\n"
     ]
    }
   ],
   "source": [
    "X_train, X_test, y_train, y_test = train_test_split(X, y,test_size=0.33, random_state = 0)\n",
    "\n",
    "lda_model = LinearDiscriminantAnalysis(solver='lsqr').fit(X_train, y_train)\n",
    "LDA_predictions = lda_model.predict(X_test)\n",
    "\n",
    "accuracy = lda_model.score(X_test, y_test)\n",
    "print(accuracy)\n",
    "cm = metrics.confusion_matrix(y_test, LDA_predictions)\n",
    "print(cm)\n",
    "\n",
    "dict_score = {}\n",
    "scoring = ['accuracy','precision_macro','recall_macro']\n",
    "for score in scoring:\n",
    "    scores = cross_val_score(lda_model, X, y, cv=10, scoring=score)\n",
    "    dict_score[score] = np.mean(scores)\n",
    "    \n",
    "print(dict_score)"
   ]
  },
  {
   "cell_type": "code",
   "execution_count": 113,
   "metadata": {},
   "outputs": [
    {
     "ename": "NameError",
     "evalue": "name 'y2' is not defined",
     "output_type": "error",
     "traceback": [
      "\u001b[0;31m---------------------------------------------------------------------------\u001b[0m",
      "\u001b[0;31mNameError\u001b[0m                                 Traceback (most recent call last)",
      "\u001b[0;32m<ipython-input-113-0344c7a9ddbf>\u001b[0m in \u001b[0;36m<module>\u001b[0;34m()\u001b[0m\n\u001b[0;32m----> 1\u001b[0;31m \u001b[0mX_train\u001b[0m\u001b[1;33m,\u001b[0m \u001b[0mX_test\u001b[0m\u001b[1;33m,\u001b[0m \u001b[0my_train\u001b[0m\u001b[1;33m,\u001b[0m \u001b[0my_test\u001b[0m \u001b[1;33m=\u001b[0m \u001b[0mtrain_test_split\u001b[0m\u001b[1;33m(\u001b[0m\u001b[0mX\u001b[0m\u001b[1;33m,\u001b[0m \u001b[0my2\u001b[0m\u001b[1;33m,\u001b[0m\u001b[0mtest_size\u001b[0m\u001b[1;33m=\u001b[0m\u001b[1;36m0.33\u001b[0m\u001b[1;33m,\u001b[0m \u001b[0mrandom_state\u001b[0m \u001b[1;33m=\u001b[0m \u001b[1;36m0\u001b[0m\u001b[1;33m)\u001b[0m\u001b[1;33m\u001b[0m\u001b[0m\n\u001b[0m\u001b[1;32m      2\u001b[0m \u001b[1;33m\u001b[0m\u001b[0m\n\u001b[1;32m      3\u001b[0m \u001b[0mlda_model\u001b[0m \u001b[1;33m=\u001b[0m \u001b[0mLinearDiscriminantAnalysis\u001b[0m\u001b[1;33m(\u001b[0m\u001b[0msolver\u001b[0m\u001b[1;33m=\u001b[0m\u001b[1;34m'lsqr'\u001b[0m\u001b[1;33m)\u001b[0m\u001b[1;33m.\u001b[0m\u001b[0mfit\u001b[0m\u001b[1;33m(\u001b[0m\u001b[0mX_train\u001b[0m\u001b[1;33m,\u001b[0m \u001b[0my_train\u001b[0m\u001b[1;33m)\u001b[0m\u001b[1;33m\u001b[0m\u001b[0m\n\u001b[1;32m      4\u001b[0m \u001b[0mLDA_predictions\u001b[0m \u001b[1;33m=\u001b[0m \u001b[0mlda_model\u001b[0m\u001b[1;33m.\u001b[0m\u001b[0mpredict\u001b[0m\u001b[1;33m(\u001b[0m\u001b[0mX_test\u001b[0m\u001b[1;33m)\u001b[0m\u001b[1;33m\u001b[0m\u001b[0m\n\u001b[1;32m      5\u001b[0m \u001b[1;33m\u001b[0m\u001b[0m\n",
      "\u001b[0;31mNameError\u001b[0m: name 'y2' is not defined"
     ]
    }
   ],
   "source": [
    "X_train, X_test, y_train, y_test = train_test_split(X, y2,test_size=0.33, random_state = 0)\n",
    "\n",
    "lda_model = LinearDiscriminantAnalysis(solver='lsqr').fit(X_train, y_train)\n",
    "LDA_predictions = lda_model.predict(X_test)\n",
    "\n",
    "accuracy = lda_model.score(X_test, y_test)\n",
    "print(accuracy)\n",
    "cm = metrics.confusion_matrix(y_test, LDA_predictions)\n",
    "print(cm)\n",
    "\n",
    "dict_score = {}\n",
    "scoring = ['accuracy','precision','recall']\n",
    "for score in scoring:\n",
    "    scores = cross_val_score(lda_model, X, y2, cv=10, scoring=score)\n",
    "    dict_score[score] = np.mean(scores)\n",
    "    \n",
    "print(dict_score)"
   ]
  },
  {
   "cell_type": "markdown",
   "metadata": {},
   "source": [
    "# QDA"
   ]
  },
  {
   "cell_type": "code",
   "execution_count": 170,
   "metadata": {},
   "outputs": [
    {
     "name": "stderr",
     "output_type": "stream",
     "text": [
      "c:\\users\\rocku\\anaconda64\\lib\\site-packages\\sklearn\\discriminant_analysis.py:664: DeprecationWarning: 'store_covariances' was renamed to store_covariance in version 0.19 and will be removed in 0.21.\n",
      "  DeprecationWarning)\n",
      "c:\\users\\rocku\\anaconda64\\lib\\site-packages\\sklearn\\discriminant_analysis.py:682: UserWarning: Variables are collinear\n",
      "  warnings.warn(\"Variables are collinear\")\n",
      "c:\\users\\rocku\\anaconda64\\lib\\site-packages\\sklearn\\discriminant_analysis.py:664: DeprecationWarning: 'store_covariances' was renamed to store_covariance in version 0.19 and will be removed in 0.21.\n",
      "  DeprecationWarning)\n",
      "c:\\users\\rocku\\anaconda64\\lib\\site-packages\\sklearn\\discriminant_analysis.py:682: UserWarning: Variables are collinear\n",
      "  warnings.warn(\"Variables are collinear\")\n",
      "c:\\users\\rocku\\anaconda64\\lib\\site-packages\\sklearn\\discriminant_analysis.py:664: DeprecationWarning: 'store_covariances' was renamed to store_covariance in version 0.19 and will be removed in 0.21.\n",
      "  DeprecationWarning)\n",
      "c:\\users\\rocku\\anaconda64\\lib\\site-packages\\sklearn\\discriminant_analysis.py:682: UserWarning: Variables are collinear\n",
      "  warnings.warn(\"Variables are collinear\")\n"
     ]
    },
    {
     "name": "stdout",
     "output_type": "stream",
     "text": [
      "0.993768626389\n",
      "[[636   0   0   0   0   0   0   0   0   0]\n",
      " [  0 832   0   0   0   0   0   0   0   0]\n",
      " [  0   0   0   0  11   0   0   0   0   0]\n",
      " [  0   0   0 770   0   0   0   0   0   0]\n",
      " [  0   0   0   0 662   0   0   0   0   0]\n",
      " [  0   0   0   0   0  69   0   0   0   0]\n",
      " [  0   0   0   0   0   0  56   0   0   0]\n",
      " [  0   0   0   0   0   0   0 337   0   0]\n",
      " [  0   0   0   0  12   0   0   0   0   0]\n",
      " [  0   0   0   0   0   0   0   0   0 306]]\n"
     ]
    },
    {
     "name": "stderr",
     "output_type": "stream",
     "text": [
      "c:\\users\\rocku\\anaconda64\\lib\\site-packages\\sklearn\\discriminant_analysis.py:664: DeprecationWarning: 'store_covariances' was renamed to store_covariance in version 0.19 and will be removed in 0.21.\n",
      "  DeprecationWarning)\n",
      "c:\\users\\rocku\\anaconda64\\lib\\site-packages\\sklearn\\discriminant_analysis.py:682: UserWarning: Variables are collinear\n",
      "  warnings.warn(\"Variables are collinear\")\n",
      "c:\\users\\rocku\\anaconda64\\lib\\site-packages\\sklearn\\discriminant_analysis.py:664: DeprecationWarning: 'store_covariances' was renamed to store_covariance in version 0.19 and will be removed in 0.21.\n",
      "  DeprecationWarning)\n",
      "c:\\users\\rocku\\anaconda64\\lib\\site-packages\\sklearn\\discriminant_analysis.py:682: UserWarning: Variables are collinear\n",
      "  warnings.warn(\"Variables are collinear\")\n",
      "c:\\users\\rocku\\anaconda64\\lib\\site-packages\\sklearn\\discriminant_analysis.py:664: DeprecationWarning: 'store_covariances' was renamed to store_covariance in version 0.19 and will be removed in 0.21.\n",
      "  DeprecationWarning)\n",
      "c:\\users\\rocku\\anaconda64\\lib\\site-packages\\sklearn\\discriminant_analysis.py:682: UserWarning: Variables are collinear\n",
      "  warnings.warn(\"Variables are collinear\")\n",
      "c:\\users\\rocku\\anaconda64\\lib\\site-packages\\sklearn\\discriminant_analysis.py:664: DeprecationWarning: 'store_covariances' was renamed to store_covariance in version 0.19 and will be removed in 0.21.\n",
      "  DeprecationWarning)\n",
      "c:\\users\\rocku\\anaconda64\\lib\\site-packages\\sklearn\\discriminant_analysis.py:682: UserWarning: Variables are collinear\n",
      "  warnings.warn(\"Variables are collinear\")\n",
      "c:\\users\\rocku\\anaconda64\\lib\\site-packages\\sklearn\\discriminant_analysis.py:664: DeprecationWarning: 'store_covariances' was renamed to store_covariance in version 0.19 and will be removed in 0.21.\n",
      "  DeprecationWarning)\n",
      "c:\\users\\rocku\\anaconda64\\lib\\site-packages\\sklearn\\discriminant_analysis.py:682: UserWarning: Variables are collinear\n",
      "  warnings.warn(\"Variables are collinear\")\n",
      "c:\\users\\rocku\\anaconda64\\lib\\site-packages\\sklearn\\discriminant_analysis.py:664: DeprecationWarning: 'store_covariances' was renamed to store_covariance in version 0.19 and will be removed in 0.21.\n",
      "  DeprecationWarning)\n",
      "c:\\users\\rocku\\anaconda64\\lib\\site-packages\\sklearn\\discriminant_analysis.py:682: UserWarning: Variables are collinear\n",
      "  warnings.warn(\"Variables are collinear\")\n",
      "c:\\users\\rocku\\anaconda64\\lib\\site-packages\\sklearn\\discriminant_analysis.py:664: DeprecationWarning: 'store_covariances' was renamed to store_covariance in version 0.19 and will be removed in 0.21.\n",
      "  DeprecationWarning)\n",
      "c:\\users\\rocku\\anaconda64\\lib\\site-packages\\sklearn\\discriminant_analysis.py:682: UserWarning: Variables are collinear\n",
      "  warnings.warn(\"Variables are collinear\")\n",
      "c:\\users\\rocku\\anaconda64\\lib\\site-packages\\sklearn\\discriminant_analysis.py:664: DeprecationWarning: 'store_covariances' was renamed to store_covariance in version 0.19 and will be removed in 0.21.\n",
      "  DeprecationWarning)\n",
      "c:\\users\\rocku\\anaconda64\\lib\\site-packages\\sklearn\\discriminant_analysis.py:682: UserWarning: Variables are collinear\n",
      "  warnings.warn(\"Variables are collinear\")\n",
      "c:\\users\\rocku\\anaconda64\\lib\\site-packages\\sklearn\\discriminant_analysis.py:664: DeprecationWarning: 'store_covariances' was renamed to store_covariance in version 0.19 and will be removed in 0.21.\n",
      "  DeprecationWarning)\n",
      "c:\\users\\rocku\\anaconda64\\lib\\site-packages\\sklearn\\discriminant_analysis.py:682: UserWarning: Variables are collinear\n",
      "  warnings.warn(\"Variables are collinear\")\n",
      "c:\\users\\rocku\\anaconda64\\lib\\site-packages\\sklearn\\metrics\\classification.py:1135: UndefinedMetricWarning: Precision is ill-defined and being set to 0.0 in labels with no predicted samples.\n",
      "  'precision', 'predicted', average, warn_for)\n",
      "c:\\users\\rocku\\anaconda64\\lib\\site-packages\\sklearn\\discriminant_analysis.py:664: DeprecationWarning: 'store_covariances' was renamed to store_covariance in version 0.19 and will be removed in 0.21.\n",
      "  DeprecationWarning)\n",
      "c:\\users\\rocku\\anaconda64\\lib\\site-packages\\sklearn\\discriminant_analysis.py:682: UserWarning: Variables are collinear\n",
      "  warnings.warn(\"Variables are collinear\")\n",
      "c:\\users\\rocku\\anaconda64\\lib\\site-packages\\sklearn\\metrics\\classification.py:1135: UndefinedMetricWarning: Precision is ill-defined and being set to 0.0 in labels with no predicted samples.\n",
      "  'precision', 'predicted', average, warn_for)\n",
      "c:\\users\\rocku\\anaconda64\\lib\\site-packages\\sklearn\\discriminant_analysis.py:664: DeprecationWarning: 'store_covariances' was renamed to store_covariance in version 0.19 and will be removed in 0.21.\n",
      "  DeprecationWarning)\n",
      "c:\\users\\rocku\\anaconda64\\lib\\site-packages\\sklearn\\discriminant_analysis.py:682: UserWarning: Variables are collinear\n",
      "  warnings.warn(\"Variables are collinear\")\n",
      "c:\\users\\rocku\\anaconda64\\lib\\site-packages\\sklearn\\metrics\\classification.py:1135: UndefinedMetricWarning: Precision is ill-defined and being set to 0.0 in labels with no predicted samples.\n",
      "  'precision', 'predicted', average, warn_for)\n",
      "c:\\users\\rocku\\anaconda64\\lib\\site-packages\\sklearn\\discriminant_analysis.py:664: DeprecationWarning: 'store_covariances' was renamed to store_covariance in version 0.19 and will be removed in 0.21.\n",
      "  DeprecationWarning)\n",
      "c:\\users\\rocku\\anaconda64\\lib\\site-packages\\sklearn\\discriminant_analysis.py:682: UserWarning: Variables are collinear\n",
      "  warnings.warn(\"Variables are collinear\")\n",
      "c:\\users\\rocku\\anaconda64\\lib\\site-packages\\sklearn\\metrics\\classification.py:1135: UndefinedMetricWarning: Precision is ill-defined and being set to 0.0 in labels with no predicted samples.\n",
      "  'precision', 'predicted', average, warn_for)\n",
      "c:\\users\\rocku\\anaconda64\\lib\\site-packages\\sklearn\\discriminant_analysis.py:664: DeprecationWarning: 'store_covariances' was renamed to store_covariance in version 0.19 and will be removed in 0.21.\n",
      "  DeprecationWarning)\n",
      "c:\\users\\rocku\\anaconda64\\lib\\site-packages\\sklearn\\discriminant_analysis.py:682: UserWarning: Variables are collinear\n",
      "  warnings.warn(\"Variables are collinear\")\n",
      "c:\\users\\rocku\\anaconda64\\lib\\site-packages\\sklearn\\metrics\\classification.py:1135: UndefinedMetricWarning: Precision is ill-defined and being set to 0.0 in labels with no predicted samples.\n",
      "  'precision', 'predicted', average, warn_for)\n",
      "c:\\users\\rocku\\anaconda64\\lib\\site-packages\\sklearn\\discriminant_analysis.py:664: DeprecationWarning: 'store_covariances' was renamed to store_covariance in version 0.19 and will be removed in 0.21.\n",
      "  DeprecationWarning)\n",
      "c:\\users\\rocku\\anaconda64\\lib\\site-packages\\sklearn\\discriminant_analysis.py:682: UserWarning: Variables are collinear\n",
      "  warnings.warn(\"Variables are collinear\")\n",
      "c:\\users\\rocku\\anaconda64\\lib\\site-packages\\sklearn\\metrics\\classification.py:1135: UndefinedMetricWarning: Precision is ill-defined and being set to 0.0 in labels with no predicted samples.\n",
      "  'precision', 'predicted', average, warn_for)\n",
      "c:\\users\\rocku\\anaconda64\\lib\\site-packages\\sklearn\\discriminant_analysis.py:664: DeprecationWarning: 'store_covariances' was renamed to store_covariance in version 0.19 and will be removed in 0.21.\n",
      "  DeprecationWarning)\n",
      "c:\\users\\rocku\\anaconda64\\lib\\site-packages\\sklearn\\discriminant_analysis.py:682: UserWarning: Variables are collinear\n",
      "  warnings.warn(\"Variables are collinear\")\n",
      "c:\\users\\rocku\\anaconda64\\lib\\site-packages\\sklearn\\metrics\\classification.py:1135: UndefinedMetricWarning: Precision is ill-defined and being set to 0.0 in labels with no predicted samples.\n",
      "  'precision', 'predicted', average, warn_for)\n",
      "c:\\users\\rocku\\anaconda64\\lib\\site-packages\\sklearn\\discriminant_analysis.py:664: DeprecationWarning: 'store_covariances' was renamed to store_covariance in version 0.19 and will be removed in 0.21.\n",
      "  DeprecationWarning)\n",
      "c:\\users\\rocku\\anaconda64\\lib\\site-packages\\sklearn\\discriminant_analysis.py:682: UserWarning: Variables are collinear\n",
      "  warnings.warn(\"Variables are collinear\")\n",
      "c:\\users\\rocku\\anaconda64\\lib\\site-packages\\sklearn\\metrics\\classification.py:1135: UndefinedMetricWarning: Precision is ill-defined and being set to 0.0 in labels with no predicted samples.\n",
      "  'precision', 'predicted', average, warn_for)\n",
      "c:\\users\\rocku\\anaconda64\\lib\\site-packages\\sklearn\\discriminant_analysis.py:664: DeprecationWarning: 'store_covariances' was renamed to store_covariance in version 0.19 and will be removed in 0.21.\n",
      "  DeprecationWarning)\n",
      "c:\\users\\rocku\\anaconda64\\lib\\site-packages\\sklearn\\discriminant_analysis.py:682: UserWarning: Variables are collinear\n",
      "  warnings.warn(\"Variables are collinear\")\n",
      "c:\\users\\rocku\\anaconda64\\lib\\site-packages\\sklearn\\metrics\\classification.py:1135: UndefinedMetricWarning: Precision is ill-defined and being set to 0.0 in labels with no predicted samples.\n",
      "  'precision', 'predicted', average, warn_for)\n",
      "c:\\users\\rocku\\anaconda64\\lib\\site-packages\\sklearn\\discriminant_analysis.py:664: DeprecationWarning: 'store_covariances' was renamed to store_covariance in version 0.19 and will be removed in 0.21.\n",
      "  DeprecationWarning)\n",
      "c:\\users\\rocku\\anaconda64\\lib\\site-packages\\sklearn\\discriminant_analysis.py:682: UserWarning: Variables are collinear\n",
      "  warnings.warn(\"Variables are collinear\")\n",
      "c:\\users\\rocku\\anaconda64\\lib\\site-packages\\sklearn\\metrics\\classification.py:1135: UndefinedMetricWarning: Precision is ill-defined and being set to 0.0 in labels with no predicted samples.\n",
      "  'precision', 'predicted', average, warn_for)\n",
      "c:\\users\\rocku\\anaconda64\\lib\\site-packages\\sklearn\\discriminant_analysis.py:664: DeprecationWarning: 'store_covariances' was renamed to store_covariance in version 0.19 and will be removed in 0.21.\n",
      "  DeprecationWarning)\n",
      "c:\\users\\rocku\\anaconda64\\lib\\site-packages\\sklearn\\discriminant_analysis.py:682: UserWarning: Variables are collinear\n",
      "  warnings.warn(\"Variables are collinear\")\n",
      "c:\\users\\rocku\\anaconda64\\lib\\site-packages\\sklearn\\discriminant_analysis.py:664: DeprecationWarning: 'store_covariances' was renamed to store_covariance in version 0.19 and will be removed in 0.21.\n",
      "  DeprecationWarning)\n",
      "c:\\users\\rocku\\anaconda64\\lib\\site-packages\\sklearn\\discriminant_analysis.py:682: UserWarning: Variables are collinear\n",
      "  warnings.warn(\"Variables are collinear\")\n",
      "c:\\users\\rocku\\anaconda64\\lib\\site-packages\\sklearn\\discriminant_analysis.py:664: DeprecationWarning: 'store_covariances' was renamed to store_covariance in version 0.19 and will be removed in 0.21.\n",
      "  DeprecationWarning)\n",
      "c:\\users\\rocku\\anaconda64\\lib\\site-packages\\sklearn\\discriminant_analysis.py:682: UserWarning: Variables are collinear\n",
      "  warnings.warn(\"Variables are collinear\")\n",
      "c:\\users\\rocku\\anaconda64\\lib\\site-packages\\sklearn\\discriminant_analysis.py:664: DeprecationWarning: 'store_covariances' was renamed to store_covariance in version 0.19 and will be removed in 0.21.\n",
      "  DeprecationWarning)\n",
      "c:\\users\\rocku\\anaconda64\\lib\\site-packages\\sklearn\\discriminant_analysis.py:682: UserWarning: Variables are collinear\n",
      "  warnings.warn(\"Variables are collinear\")\n",
      "c:\\users\\rocku\\anaconda64\\lib\\site-packages\\sklearn\\discriminant_analysis.py:664: DeprecationWarning: 'store_covariances' was renamed to store_covariance in version 0.19 and will be removed in 0.21.\n",
      "  DeprecationWarning)\n",
      "c:\\users\\rocku\\anaconda64\\lib\\site-packages\\sklearn\\discriminant_analysis.py:682: UserWarning: Variables are collinear\n",
      "  warnings.warn(\"Variables are collinear\")\n",
      "c:\\users\\rocku\\anaconda64\\lib\\site-packages\\sklearn\\discriminant_analysis.py:664: DeprecationWarning: 'store_covariances' was renamed to store_covariance in version 0.19 and will be removed in 0.21.\n",
      "  DeprecationWarning)\n",
      "c:\\users\\rocku\\anaconda64\\lib\\site-packages\\sklearn\\discriminant_analysis.py:682: UserWarning: Variables are collinear\n",
      "  warnings.warn(\"Variables are collinear\")\n",
      "c:\\users\\rocku\\anaconda64\\lib\\site-packages\\sklearn\\discriminant_analysis.py:664: DeprecationWarning: 'store_covariances' was renamed to store_covariance in version 0.19 and will be removed in 0.21.\n",
      "  DeprecationWarning)\n",
      "c:\\users\\rocku\\anaconda64\\lib\\site-packages\\sklearn\\discriminant_analysis.py:682: UserWarning: Variables are collinear\n",
      "  warnings.warn(\"Variables are collinear\")\n",
      "c:\\users\\rocku\\anaconda64\\lib\\site-packages\\sklearn\\discriminant_analysis.py:664: DeprecationWarning: 'store_covariances' was renamed to store_covariance in version 0.19 and will be removed in 0.21.\n",
      "  DeprecationWarning)\n",
      "c:\\users\\rocku\\anaconda64\\lib\\site-packages\\sklearn\\discriminant_analysis.py:682: UserWarning: Variables are collinear\n",
      "  warnings.warn(\"Variables are collinear\")\n",
      "c:\\users\\rocku\\anaconda64\\lib\\site-packages\\sklearn\\discriminant_analysis.py:664: DeprecationWarning: 'store_covariances' was renamed to store_covariance in version 0.19 and will be removed in 0.21.\n",
      "  DeprecationWarning)\n",
      "c:\\users\\rocku\\anaconda64\\lib\\site-packages\\sklearn\\discriminant_analysis.py:682: UserWarning: Variables are collinear\n",
      "  warnings.warn(\"Variables are collinear\")\n",
      "c:\\users\\rocku\\anaconda64\\lib\\site-packages\\sklearn\\discriminant_analysis.py:664: DeprecationWarning: 'store_covariances' was renamed to store_covariance in version 0.19 and will be removed in 0.21.\n",
      "  DeprecationWarning)\n",
      "c:\\users\\rocku\\anaconda64\\lib\\site-packages\\sklearn\\discriminant_analysis.py:682: UserWarning: Variables are collinear\n",
      "  warnings.warn(\"Variables are collinear\")\n"
     ]
    },
    {
     "name": "stdout",
     "output_type": "stream",
     "text": [
      "{'accuracy': 0.0023243133250216929, 'recall_macro': 0.10000000000000001, 'precision_macro': 0.00023243133250216936}\n"
     ]
    }
   ],
   "source": [
    "X_train, X_test, y_train, y_test = train_test_split(X, y,test_size=0.33, random_state = 0)\n",
    "\n",
    "qda_model = QuadraticDiscriminantAnalysis(store_covariances=True).fit(X_train, y_train)\n",
    "QDA_predictions = qda_model.predict(X_test)\n",
    "\n",
    "accuracy = qda_model.score(X_test, y_test)\n",
    "print(accuracy)\n",
    "cm = metrics.confusion_matrix(y_test, QDA_predictions)\n",
    "print(cm)\n",
    "\n",
    "dict_score = {}\n",
    "scoring = ['accuracy','precision_macro','recall_macro']\n",
    "for score in scoring:\n",
    "    scores = cross_val_score(qda_model, X, y, cv=10, scoring=score)\n",
    "    dict_score[score] = np.mean(scores)\n",
    "    \n",
    "print(dict_score)"
   ]
  },
  {
   "cell_type": "code",
   "execution_count": 115,
   "metadata": {},
   "outputs": [
    {
     "ename": "NameError",
     "evalue": "name 'y2' is not defined",
     "output_type": "error",
     "traceback": [
      "\u001b[0;31m---------------------------------------------------------------------------\u001b[0m",
      "\u001b[0;31mNameError\u001b[0m                                 Traceback (most recent call last)",
      "\u001b[0;32m<ipython-input-115-09f98595aa97>\u001b[0m in \u001b[0;36m<module>\u001b[0;34m()\u001b[0m\n\u001b[0;32m----> 1\u001b[0;31m \u001b[0mX_train\u001b[0m\u001b[1;33m,\u001b[0m \u001b[0mX_test\u001b[0m\u001b[1;33m,\u001b[0m \u001b[0my_train\u001b[0m\u001b[1;33m,\u001b[0m \u001b[0my_test\u001b[0m \u001b[1;33m=\u001b[0m \u001b[0mtrain_test_split\u001b[0m\u001b[1;33m(\u001b[0m\u001b[0mX\u001b[0m\u001b[1;33m,\u001b[0m \u001b[0my2\u001b[0m\u001b[1;33m,\u001b[0m\u001b[0mtest_size\u001b[0m\u001b[1;33m=\u001b[0m\u001b[1;36m0.33\u001b[0m\u001b[1;33m,\u001b[0m \u001b[0mrandom_state\u001b[0m \u001b[1;33m=\u001b[0m \u001b[1;36m0\u001b[0m\u001b[1;33m)\u001b[0m\u001b[1;33m\u001b[0m\u001b[0m\n\u001b[0m\u001b[1;32m      2\u001b[0m \u001b[1;33m\u001b[0m\u001b[0m\n\u001b[1;32m      3\u001b[0m \u001b[0mqda_model\u001b[0m \u001b[1;33m=\u001b[0m \u001b[0mQuadraticDiscriminantAnalysis\u001b[0m\u001b[1;33m(\u001b[0m\u001b[0mstore_covariances\u001b[0m\u001b[1;33m=\u001b[0m\u001b[1;32mTrue\u001b[0m\u001b[1;33m)\u001b[0m\u001b[1;33m.\u001b[0m\u001b[0mfit\u001b[0m\u001b[1;33m(\u001b[0m\u001b[0mX_train\u001b[0m\u001b[1;33m,\u001b[0m \u001b[0my_train\u001b[0m\u001b[1;33m)\u001b[0m\u001b[1;33m\u001b[0m\u001b[0m\n\u001b[1;32m      4\u001b[0m \u001b[0mQDA_predictions\u001b[0m \u001b[1;33m=\u001b[0m \u001b[0mqda_model\u001b[0m\u001b[1;33m.\u001b[0m\u001b[0mpredict\u001b[0m\u001b[1;33m(\u001b[0m\u001b[0mX_test\u001b[0m\u001b[1;33m)\u001b[0m\u001b[1;33m\u001b[0m\u001b[0m\n\u001b[1;32m      5\u001b[0m \u001b[1;33m\u001b[0m\u001b[0m\n",
      "\u001b[0;31mNameError\u001b[0m: name 'y2' is not defined"
     ]
    }
   ],
   "source": [
    "X_train, X_test, y_train, y_test = train_test_split(X, y2,test_size=0.33, random_state = 0)\n",
    "\n",
    "qda_model = QuadraticDiscriminantAnalysis(store_covariances=True).fit(X_train, y_train)\n",
    "QDA_predictions = qda_model.predict(X_test)\n",
    "\n",
    "accuracy = qda_model.score(X_test, y_test)\n",
    "print(accuracy)\n",
    "cm = metrics.confusion_matrix(y_test, QDA_predictions)\n",
    "print(cm)\n",
    "\n",
    "dict_score = {}\n",
    "scoring = ['accuracy','precision','recall']\n",
    "for score in scoring:\n",
    "    scores = cross_val_score(qda_model, X, y2, cv=10, scoring=score)\n",
    "    dict_score[score] = np.mean(scores)\n",
    "    \n",
    "print(dict_score)"
   ]
  },
  {
   "cell_type": "markdown",
   "metadata": {},
   "source": [
    "# Original Data"
   ]
  },
  {
   "cell_type": "code",
   "execution_count": 3,
   "metadata": {},
   "outputs": [
    {
     "name": "stderr",
     "output_type": "stream",
     "text": [
      "c:\\users\\rocku\\anaconda64\\lib\\site-packages\\ipykernel\\__main__.py:4: FutureWarning: using '-' to provide set differences with Indexes is deprecated, use .difference()\n"
     ]
    }
   ],
   "source": [
    "data1 = pd.read_csv('stat_data.csv', thousands=',',encoding = \"EUC-KR\")\n",
    "data2 = pd.read_csv('final!!!.csv', thousands=',', encoding = \"EUC-KR\")\n",
    "\n",
    "cols_to_use = data1.columns - data2.columns\n",
    "data_merged = pd.merge(data2, data1[cols_to_use],how='inner',left_on=['code','year'], right_on=['Symbol','Year'])\n",
    "data_merged = data_merged.drop(['code','year'],axis=1)"
   ]
  },
  {
   "cell_type": "code",
   "execution_count": 4,
   "metadata": {},
   "outputs": [],
   "source": [
    "data_merged.set_index(['Symbol','Year'],inplace=True)\n",
    "data_merged['next_roe'] = data_merged.groupby(level=0)['roe'].shift(-1)\n",
    "data_merged['updown'] = np.where(data_merged['roe'] < data_merged['next_roe'], 1,0)\n",
    "data_merged = data_merged[~data_merged.isin([np.nan, np.inf, -np.inf]).any(1)]"
   ]
  },
  {
   "cell_type": "code",
   "execution_count": 5,
   "metadata": {},
   "outputs": [],
   "source": [
    "data_merged = data_merged.dropna(axis=0, how='any')\n",
    "data_merged = data_merged[~ pd.isnull(data_merged)]"
   ]
  },
  {
   "cell_type": "code",
   "execution_count": 7,
   "metadata": {},
   "outputs": [
    {
     "data": {
      "text/html": [
       "<div>\n",
       "<table border=\"1\" class=\"dataframe\">\n",
       "  <thead>\n",
       "    <tr style=\"text-align: right;\">\n",
       "      <th></th>\n",
       "      <th></th>\n",
       "      <th>total_assets</th>\n",
       "      <th>total_liability</th>\n",
       "      <th>shorterm_debt</th>\n",
       "      <th>longterm_debt</th>\n",
       "      <th>total_equity</th>\n",
       "      <th>sales</th>\n",
       "      <th>cost_of_goods_sold</th>\n",
       "      <th>labor_cost</th>\n",
       "      <th>advertisement_cost</th>\n",
       "      <th>selling_cost</th>\n",
       "      <th>...</th>\n",
       "      <th>related_investment_assets</th>\n",
       "      <th>retained_earnings</th>\n",
       "      <th>retirement_pay</th>\n",
       "      <th>rnd_cost</th>\n",
       "      <th>self_equity</th>\n",
       "      <th>st_fin_assets</th>\n",
       "      <th>st_fin_liab</th>\n",
       "      <th>uncurrent_assets</th>\n",
       "      <th>next_roe</th>\n",
       "      <th>updown</th>\n",
       "    </tr>\n",
       "    <tr>\n",
       "      <th>Symbol</th>\n",
       "      <th>Year</th>\n",
       "      <th></th>\n",
       "      <th></th>\n",
       "      <th></th>\n",
       "      <th></th>\n",
       "      <th></th>\n",
       "      <th></th>\n",
       "      <th></th>\n",
       "      <th></th>\n",
       "      <th></th>\n",
       "      <th></th>\n",
       "      <th></th>\n",
       "      <th></th>\n",
       "      <th></th>\n",
       "      <th></th>\n",
       "      <th></th>\n",
       "      <th></th>\n",
       "      <th></th>\n",
       "      <th></th>\n",
       "      <th></th>\n",
       "      <th></th>\n",
       "      <th></th>\n",
       "    </tr>\n",
       "  </thead>\n",
       "  <tbody>\n",
       "    <tr>\n",
       "      <th rowspan=\"10\" valign=\"top\">A005930</th>\n",
       "      <th>2000</th>\n",
       "      <td>2.689505e+10</td>\n",
       "      <td>1.104022e+10</td>\n",
       "      <td>8.608449e+09</td>\n",
       "      <td>2.093751e+09</td>\n",
       "      <td>1.619285e+10</td>\n",
       "      <td>3.428375e+10</td>\n",
       "      <td>2.199338e+10</td>\n",
       "      <td>5.181662e+08</td>\n",
       "      <td>6.511878e+08</td>\n",
       "      <td>9.383357e+08</td>\n",
       "      <td>...</td>\n",
       "      <td>0.000000e+00</td>\n",
       "      <td>1.075443e+10</td>\n",
       "      <td>35441860.0</td>\n",
       "      <td>1.335400e+09</td>\n",
       "      <td>-9.622479e+08</td>\n",
       "      <td>2.093151e+09</td>\n",
       "      <td>2.369431e+09</td>\n",
       "      <td>1.913861e+10</td>\n",
       "      <td>0.151329</td>\n",
       "      <td>0</td>\n",
       "    </tr>\n",
       "    <tr>\n",
       "      <th>2001</th>\n",
       "      <td>2.791941e+10</td>\n",
       "      <td>9.573928e+09</td>\n",
       "      <td>6.314242e+09</td>\n",
       "      <td>2.131415e+09</td>\n",
       "      <td>1.947375e+10</td>\n",
       "      <td>3.238037e+10</td>\n",
       "      <td>2.451473e+10</td>\n",
       "      <td>5.800693e+08</td>\n",
       "      <td>7.155440e+08</td>\n",
       "      <td>1.411229e+09</td>\n",
       "      <td>...</td>\n",
       "      <td>0.000000e+00</td>\n",
       "      <td>1.335299e+10</td>\n",
       "      <td>49054259.0</td>\n",
       "      <td>1.552989e+09</td>\n",
       "      <td>-9.622479e+08</td>\n",
       "      <td>1.837655e+09</td>\n",
       "      <td>9.709419e+08</td>\n",
       "      <td>2.116380e+10</td>\n",
       "      <td>0.280511</td>\n",
       "      <td>1</td>\n",
       "    </tr>\n",
       "    <tr>\n",
       "      <th>2002</th>\n",
       "      <td>3.443960e+10</td>\n",
       "      <td>8.873158e+09</td>\n",
       "      <td>7.590014e+09</td>\n",
       "      <td>1.710645e+09</td>\n",
       "      <td>2.513894e+10</td>\n",
       "      <td>3.981311e+10</td>\n",
       "      <td>2.630056e+10</td>\n",
       "      <td>7.463130e+08</td>\n",
       "      <td>9.671370e+08</td>\n",
       "      <td>9.573790e+08</td>\n",
       "      <td>...</td>\n",
       "      <td>6.548942e+09</td>\n",
       "      <td>2.032072e+10</td>\n",
       "      <td>77776000.0</td>\n",
       "      <td>1.759791e+09</td>\n",
       "      <td>-2.462091e+09</td>\n",
       "      <td>6.019915e+09</td>\n",
       "      <td>4.389860e+08</td>\n",
       "      <td>2.237102e+10</td>\n",
       "      <td>0.202587</td>\n",
       "      <td>0</td>\n",
       "    </tr>\n",
       "    <tr>\n",
       "      <th>2003</th>\n",
       "      <td>3.920338e+10</td>\n",
       "      <td>9.544782e+09</td>\n",
       "      <td>9.191898e+09</td>\n",
       "      <td>5.970080e+08</td>\n",
       "      <td>2.941448e+10</td>\n",
       "      <td>4.358202e+10</td>\n",
       "      <td>2.951875e+10</td>\n",
       "      <td>7.356010e+08</td>\n",
       "      <td>9.813460e+08</td>\n",
       "      <td>1.192303e+09</td>\n",
       "      <td>...</td>\n",
       "      <td>6.610632e+09</td>\n",
       "      <td>2.440971e+10</td>\n",
       "      <td>51003000.0</td>\n",
       "      <td>2.017298e+09</td>\n",
       "      <td>-3.457834e+09</td>\n",
       "      <td>6.773397e+09</td>\n",
       "      <td>1.045211e+09</td>\n",
       "      <td>2.572097e+10</td>\n",
       "      <td>0.313200</td>\n",
       "      <td>1</td>\n",
       "    </tr>\n",
       "    <tr>\n",
       "      <th>2004</th>\n",
       "      <td>4.381654e+10</td>\n",
       "      <td>9.582520e+09</td>\n",
       "      <td>8.720903e+09</td>\n",
       "      <td>6.552310e+08</td>\n",
       "      <td>3.444041e+10</td>\n",
       "      <td>5.763236e+10</td>\n",
       "      <td>3.727969e+10</td>\n",
       "      <td>9.576620e+08</td>\n",
       "      <td>6.550300e+08</td>\n",
       "      <td>1.656797e+09</td>\n",
       "      <td>...</td>\n",
       "      <td>8.353211e+09</td>\n",
       "      <td>3.057504e+10</td>\n",
       "      <td>61690000.0</td>\n",
       "      <td>2.687418e+09</td>\n",
       "      <td>-4.159639e+09</td>\n",
       "      <td>6.539900e+09</td>\n",
       "      <td>0.000000e+00</td>\n",
       "      <td>2.985805e+10</td>\n",
       "      <td>0.192659</td>\n",
       "      <td>0</td>\n",
       "    </tr>\n",
       "    <tr>\n",
       "      <th>2005</th>\n",
       "      <td>5.053877e+10</td>\n",
       "      <td>1.012915e+10</td>\n",
       "      <td>8.345275e+09</td>\n",
       "      <td>2.536885e+09</td>\n",
       "      <td>3.965661e+10</td>\n",
       "      <td>5.745767e+10</td>\n",
       "      <td>4.015815e+10</td>\n",
       "      <td>8.980760e+08</td>\n",
       "      <td>1.069387e+09</td>\n",
       "      <td>1.710866e+09</td>\n",
       "      <td>...</td>\n",
       "      <td>8.891880e+09</td>\n",
       "      <td>3.736589e+10</td>\n",
       "      <td>81736000.0</td>\n",
       "      <td>3.133216e+09</td>\n",
       "      <td>-5.970778e+09</td>\n",
       "      <td>5.882984e+09</td>\n",
       "      <td>0.000000e+00</td>\n",
       "      <td>3.722314e+10</td>\n",
       "      <td>0.175153</td>\n",
       "      <td>0</td>\n",
       "    </tr>\n",
       "    <tr>\n",
       "      <th>2006</th>\n",
       "      <td>5.780913e+10</td>\n",
       "      <td>1.174685e+10</td>\n",
       "      <td>9.635015e+09</td>\n",
       "      <td>2.976529e+09</td>\n",
       "      <td>4.519758e+10</td>\n",
       "      <td>5.897276e+10</td>\n",
       "      <td>4.235975e+10</td>\n",
       "      <td>8.413400e+08</td>\n",
       "      <td>1.515037e+09</td>\n",
       "      <td>1.532289e+09</td>\n",
       "      <td>...</td>\n",
       "      <td>1.126508e+10</td>\n",
       "      <td>4.435677e+10</td>\n",
       "      <td>86522000.0</td>\n",
       "      <td>3.302337e+09</td>\n",
       "      <td>-7.520023e+09</td>\n",
       "      <td>5.498185e+09</td>\n",
       "      <td>0.000000e+00</td>\n",
       "      <td>4.425038e+10</td>\n",
       "      <td>0.144006</td>\n",
       "      <td>0</td>\n",
       "    </tr>\n",
       "    <tr>\n",
       "      <th>2007</th>\n",
       "      <td>6.522525e+10</td>\n",
       "      <td>1.313809e+10</td>\n",
       "      <td>1.080235e+10</td>\n",
       "      <td>2.862282e+09</td>\n",
       "      <td>5.156062e+10</td>\n",
       "      <td>6.317597e+10</td>\n",
       "      <td>4.684655e+10</td>\n",
       "      <td>9.187020e+08</td>\n",
       "      <td>1.446819e+09</td>\n",
       "      <td>1.763682e+09</td>\n",
       "      <td>...</td>\n",
       "      <td>1.500846e+10</td>\n",
       "      <td>5.096268e+10</td>\n",
       "      <td>103584000.0</td>\n",
       "      <td>3.411585e+09</td>\n",
       "      <td>-9.157492e+09</td>\n",
       "      <td>5.952842e+09</td>\n",
       "      <td>4.470000e+06</td>\n",
       "      <td>4.984581e+10</td>\n",
       "      <td>0.095088</td>\n",
       "      <td>0</td>\n",
       "    </tr>\n",
       "    <tr>\n",
       "      <th>2008</th>\n",
       "      <td>7.251922e+10</td>\n",
       "      <td>1.403518e+10</td>\n",
       "      <td>1.172136e+10</td>\n",
       "      <td>2.684368e+09</td>\n",
       "      <td>5.811349e+10</td>\n",
       "      <td>7.295299e+10</td>\n",
       "      <td>5.538060e+10</td>\n",
       "      <td>9.551810e+08</td>\n",
       "      <td>2.574215e+09</td>\n",
       "      <td>2.788310e+09</td>\n",
       "      <td>...</td>\n",
       "      <td>2.039019e+10</td>\n",
       "      <td>5.541605e+10</td>\n",
       "      <td>88954000.0</td>\n",
       "      <td>3.783958e+09</td>\n",
       "      <td>-8.910135e+09</td>\n",
       "      <td>4.407242e+09</td>\n",
       "      <td>6.009000e+06</td>\n",
       "      <td>5.609533e+10</td>\n",
       "      <td>0.133623</td>\n",
       "      <td>1</td>\n",
       "    </tr>\n",
       "    <tr>\n",
       "      <th>2009</th>\n",
       "      <td>1.121798e+11</td>\n",
       "      <td>4.075564e+10</td>\n",
       "      <td>3.420442e+10</td>\n",
       "      <td>4.930163e+09</td>\n",
       "      <td>7.304520e+10</td>\n",
       "      <td>1.363237e+11</td>\n",
       "      <td>9.459486e+10</td>\n",
       "      <td>2.732159e+09</td>\n",
       "      <td>3.173900e+09</td>\n",
       "      <td>9.191900e+09</td>\n",
       "      <td>...</td>\n",
       "      <td>7.334705e+09</td>\n",
       "      <td>7.106525e+10</td>\n",
       "      <td>113936000.0</td>\n",
       "      <td>7.386712e+09</td>\n",
       "      <td>-8.404791e+09</td>\n",
       "      <td>1.073353e+10</td>\n",
       "      <td>8.014334e+09</td>\n",
       "      <td>5.796849e+10</td>\n",
       "      <td>0.180713</td>\n",
       "      <td>1</td>\n",
       "    </tr>\n",
       "  </tbody>\n",
       "</table>\n",
       "<p>10 rows × 65 columns</p>\n",
       "</div>"
      ],
      "text/plain": [
       "              total_assets  total_liability  shorterm_debt  longterm_debt  \\\n",
       "Symbol  Year                                                                \n",
       "A005930 2000  2.689505e+10     1.104022e+10   8.608449e+09   2.093751e+09   \n",
       "        2001  2.791941e+10     9.573928e+09   6.314242e+09   2.131415e+09   \n",
       "        2002  3.443960e+10     8.873158e+09   7.590014e+09   1.710645e+09   \n",
       "        2003  3.920338e+10     9.544782e+09   9.191898e+09   5.970080e+08   \n",
       "        2004  4.381654e+10     9.582520e+09   8.720903e+09   6.552310e+08   \n",
       "        2005  5.053877e+10     1.012915e+10   8.345275e+09   2.536885e+09   \n",
       "        2006  5.780913e+10     1.174685e+10   9.635015e+09   2.976529e+09   \n",
       "        2007  6.522525e+10     1.313809e+10   1.080235e+10   2.862282e+09   \n",
       "        2008  7.251922e+10     1.403518e+10   1.172136e+10   2.684368e+09   \n",
       "        2009  1.121798e+11     4.075564e+10   3.420442e+10   4.930163e+09   \n",
       "\n",
       "              total_equity         sales  cost_of_goods_sold    labor_cost  \\\n",
       "Symbol  Year                                                                 \n",
       "A005930 2000  1.619285e+10  3.428375e+10        2.199338e+10  5.181662e+08   \n",
       "        2001  1.947375e+10  3.238037e+10        2.451473e+10  5.800693e+08   \n",
       "        2002  2.513894e+10  3.981311e+10        2.630056e+10  7.463130e+08   \n",
       "        2003  2.941448e+10  4.358202e+10        2.951875e+10  7.356010e+08   \n",
       "        2004  3.444041e+10  5.763236e+10        3.727969e+10  9.576620e+08   \n",
       "        2005  3.965661e+10  5.745767e+10        4.015815e+10  8.980760e+08   \n",
       "        2006  4.519758e+10  5.897276e+10        4.235975e+10  8.413400e+08   \n",
       "        2007  5.156062e+10  6.317597e+10        4.684655e+10  9.187020e+08   \n",
       "        2008  5.811349e+10  7.295299e+10        5.538060e+10  9.551810e+08   \n",
       "        2009  7.304520e+10  1.363237e+11        9.459486e+10  2.732159e+09   \n",
       "\n",
       "              advertisement_cost  selling_cost   ...    \\\n",
       "Symbol  Year                                     ...     \n",
       "A005930 2000        6.511878e+08  9.383357e+08   ...     \n",
       "        2001        7.155440e+08  1.411229e+09   ...     \n",
       "        2002        9.671370e+08  9.573790e+08   ...     \n",
       "        2003        9.813460e+08  1.192303e+09   ...     \n",
       "        2004        6.550300e+08  1.656797e+09   ...     \n",
       "        2005        1.069387e+09  1.710866e+09   ...     \n",
       "        2006        1.515037e+09  1.532289e+09   ...     \n",
       "        2007        1.446819e+09  1.763682e+09   ...     \n",
       "        2008        2.574215e+09  2.788310e+09   ...     \n",
       "        2009        3.173900e+09  9.191900e+09   ...     \n",
       "\n",
       "              related_investment_assets  retained_earnings  retirement_pay  \\\n",
       "Symbol  Year                                                                 \n",
       "A005930 2000               0.000000e+00       1.075443e+10      35441860.0   \n",
       "        2001               0.000000e+00       1.335299e+10      49054259.0   \n",
       "        2002               6.548942e+09       2.032072e+10      77776000.0   \n",
       "        2003               6.610632e+09       2.440971e+10      51003000.0   \n",
       "        2004               8.353211e+09       3.057504e+10      61690000.0   \n",
       "        2005               8.891880e+09       3.736589e+10      81736000.0   \n",
       "        2006               1.126508e+10       4.435677e+10      86522000.0   \n",
       "        2007               1.500846e+10       5.096268e+10     103584000.0   \n",
       "        2008               2.039019e+10       5.541605e+10      88954000.0   \n",
       "        2009               7.334705e+09       7.106525e+10     113936000.0   \n",
       "\n",
       "                  rnd_cost   self_equity  st_fin_assets   st_fin_liab  \\\n",
       "Symbol  Year                                                            \n",
       "A005930 2000  1.335400e+09 -9.622479e+08   2.093151e+09  2.369431e+09   \n",
       "        2001  1.552989e+09 -9.622479e+08   1.837655e+09  9.709419e+08   \n",
       "        2002  1.759791e+09 -2.462091e+09   6.019915e+09  4.389860e+08   \n",
       "        2003  2.017298e+09 -3.457834e+09   6.773397e+09  1.045211e+09   \n",
       "        2004  2.687418e+09 -4.159639e+09   6.539900e+09  0.000000e+00   \n",
       "        2005  3.133216e+09 -5.970778e+09   5.882984e+09  0.000000e+00   \n",
       "        2006  3.302337e+09 -7.520023e+09   5.498185e+09  0.000000e+00   \n",
       "        2007  3.411585e+09 -9.157492e+09   5.952842e+09  4.470000e+06   \n",
       "        2008  3.783958e+09 -8.910135e+09   4.407242e+09  6.009000e+06   \n",
       "        2009  7.386712e+09 -8.404791e+09   1.073353e+10  8.014334e+09   \n",
       "\n",
       "              uncurrent_assets  next_roe  updown  \n",
       "Symbol  Year                                      \n",
       "A005930 2000      1.913861e+10  0.151329       0  \n",
       "        2001      2.116380e+10  0.280511       1  \n",
       "        2002      2.237102e+10  0.202587       0  \n",
       "        2003      2.572097e+10  0.313200       1  \n",
       "        2004      2.985805e+10  0.192659       0  \n",
       "        2005      3.722314e+10  0.175153       0  \n",
       "        2006      4.425038e+10  0.144006       0  \n",
       "        2007      4.984581e+10  0.095088       0  \n",
       "        2008      5.609533e+10  0.133623       1  \n",
       "        2009      5.796849e+10  0.180713       1  \n",
       "\n",
       "[10 rows x 65 columns]"
      ]
     },
     "execution_count": 7,
     "metadata": {},
     "output_type": "execute_result"
    }
   ],
   "source": [
    "data_merged.head(10)"
   ]
  },
  {
   "cell_type": "code",
   "execution_count": 17,
   "metadata": {},
   "outputs": [
    {
     "data": {
      "text/plain": [
       "Index(['average_total_assets', 'average_total_equity', 'sales', 'roe',\n",
       "       'dividends_to_assets', 'cash_and_cash_equivalents_to_assets',\n",
       "       'short_term_financial_assets_to_assets',\n",
       "       'accounts_and_other_receivables_to_assets', 'inventories_to_assets',\n",
       "       'non_current_assets_as_held_for_sale_to_assets',\n",
       "       'long_term_financial_assets_to_assets', 'tangible_assets_to_assets',\n",
       "       'land_to_assets', 'facility_assets_to_assets',\n",
       "       'other_tangible_assets_to_assets',\n",
       "       'assets_under_construction_to_assets', 'intangible_assets_to_assets',\n",
       "       'goodwill_to_assets', 'long_term_sales_and_other_receivables_to_assets',\n",
       "       'accounts_and_other_payables_to_assets',\n",
       "       'short_term_borrowings_to_assets',\n",
       "       'current_portion_of_long_term_debts_to_assets',\n",
       "       'short_term_provisions_to_assets', 'general_bonds_to_assets',\n",
       "       'convertible_bonds_to_assets', 'bonds_with_warrents_to_assets',\n",
       "       'long_term_borrowings_to_assets',\n",
       "       'financial_lease_liabilities_to_assets',\n",
       "       'longterm_accounts_and_other_payables_to_assets',\n",
       "       'controlling_equity_to_assets', 'common_stock_capital_to_assets',\n",
       "       'preferred_stock_capital_to_assets',\n",
       "       'paid_in_capital_in_excess_of_par_value_to_assets',\n",
       "       'other_capital_surplus_to_assets', 'treasury_stock_to_assets',\n",
       "       'retained_earnings_to_assets', 'cost_of_goods_sold_to_sales',\n",
       "       'labor_costs_to_sales', 'tangible_depreciation_costs_to_sales',\n",
       "       'intangible_depreciation_costs_to_sales', 'rnd_costs_to_sales',\n",
       "       'advertisement_cost_to_sales', 'rent_to_sales',\n",
       "       'taxes and dues_to_sales', 'non_operating_revenue_to_sales',\n",
       "       'non_operating_expenses_to_sales',\n",
       "       'continuing_income_before_taxes_to_sales',\n",
       "       'taxes_from_continuing_operation_to_sales',\n",
       "       'discontinued_income_to_sales', 'operating_cash_flow_to_cashflow',\n",
       "       'investing_cash_flow_to_cashflow', 'financing_cash_flow_to_cashflow',\n",
       "       'average_total_equity_growth', 'sales_growth',\n",
       "       'cost_of_goods_sold_growth', 'sna_expenses_growth',\n",
       "       'non_operating_revenue_growth', 'non_operating_expenses_growth',\n",
       "       'sector', 'future_roe', 'roe_class', 'next_roe', 'updown'],\n",
       "      dtype='object')"
      ]
     },
     "execution_count": 17,
     "metadata": {},
     "output_type": "execute_result"
    }
   ],
   "source": [
    "data_merged.columns"
   ]
  },
  {
   "cell_type": "code",
   "execution_count": 6,
   "metadata": {},
   "outputs": [],
   "source": [
    "# from sklearn import preprocessing\n",
    "# min_max_scaler = preprocessing.MinMaxScaler()\n",
    "# data_norm = data_merged[['total_assets', 'total_liability', 'shorterm_debt', 'longterm_debt',\n",
    "#                         'total_equity', 'sales', 'cost_of_goods_sold', 'labor_cost',\n",
    "#                         'advertisement_cost', 'selling_cost', 'administrative cost',\n",
    "#                         'dividends', 'net_income', 'sales_growth', 'roe',\n",
    "#                         'cost_of_goods_sold_growth', 'labor_cost_growth',\n",
    "#                         'advertisement_cost_growth', 'selling_cost_growth',\n",
    "#                         'administrative cost_growth', 'dividends_growth', 'stdebt_ratio',\n",
    "#                         'ltdebt_ratio', 'debt_ratio', 'shorterm_debt_growth',\n",
    "#                         'longterm_debt_growth', 'cost_of_goods_sold_ratio', 'labor_cost_ratio',\n",
    "#                         'advertisement_cost_ratio', 'selling_cost_ratio',\n",
    "#                         'administrative cost_ratio', 'acc_liab', 'acc_receivble',\n",
    "#                         'ad_cost', 'admin_cost', 'afs_fin_assets', 'borrowing_cost', 'cash_eq',\n",
    "#                         'cash_flow', 'cogs', 'cont_equity', 'cont_net_income', 'dividends.1',\n",
    "#                         'facility', 'ing_assets', 'interest_expense', 'interest_revenue',\n",
    "#                         'inventory', 'land', 'lt_acc_receivable', 'lt_fin_assets',\n",
    "#                         'lt_fin_liab', 'other_employee_benefits?', 'payward',\n",
    "#                         'related_investment_assets', 'retained_earnings', 'retirement_pay',\n",
    "#                         'rnd_cost', 'self_equity', 'st_fin_assets', 'st_fin_liab',\n",
    "#                         'uncurrent_assets']]\n",
    "# np_scaled = min_max_scaler.fit_transform(data_norm)\n",
    "# X = pd.DataFrame(np_scaled)"
   ]
  },
  {
   "cell_type": "code",
   "execution_count": 24,
   "metadata": {},
   "outputs": [],
   "source": [
    "dataf = data_merged[data_merged['net_income'] < 0]\n",
    "\n",
    "data_dummy = pd.get_dummies(dataf['sector'])\n",
    "data_merged2 = pd.merge(dataf.reset_index(),data_dummy.reset_index(), how='inner', on=['Symbol','Year'])\n",
    "data = data_merged2"
   ]
  },
  {
   "cell_type": "code",
   "execution_count": 25,
   "metadata": {},
   "outputs": [
    {
     "data": {
      "text/plain": [
       "0.76211782252050708"
      ]
     },
     "execution_count": 25,
     "metadata": {},
     "output_type": "execute_result"
    }
   ],
   "source": [
    "X = data.reset_index().drop(['Symbol','Year','sector','updown','next_roe'], axis=1)\n",
    "y = data['updown'].astype(np.float64)\n",
    "\n",
    "clf_l1_LR = LogisticRegression(C=0.1, penalty='l1', tol=0.01)\n",
    "clf_l1_LR.fit(np.array(X), np.array(y))\n",
    "clf_l1_LR.score(np.array(X), np.array(y))"
   ]
  },
  {
   "cell_type": "code",
   "execution_count": 10,
   "metadata": {},
   "outputs": [
    {
     "name": "stdout",
     "output_type": "stream",
     "text": [
      "STEP 0\n",
      "STEP 12\n",
      "STEP 24\n"
     ]
    },
    {
     "ename": "KeyboardInterrupt",
     "evalue": "",
     "output_type": "error",
     "traceback": [
      "\u001b[0;31m---------------------------------------------------------------------------\u001b[0m",
      "\u001b[0;31mKeyboardInterrupt\u001b[0m                         Traceback (most recent call last)",
      "\u001b[0;32m<ipython-input-10-29018d52184e>\u001b[0m in \u001b[0;36m<module>\u001b[0;34m()\u001b[0m\n\u001b[1;32m      7\u001b[0m \u001b[1;33m\u001b[0m\u001b[0m\n\u001b[1;32m      8\u001b[0m     \u001b[0mclf_l1_LR\u001b[0m \u001b[1;33m=\u001b[0m \u001b[0mLogisticRegression\u001b[0m\u001b[1;33m(\u001b[0m\u001b[0mC\u001b[0m\u001b[1;33m=\u001b[0m\u001b[1;36m0.1\u001b[0m\u001b[1;33m,\u001b[0m \u001b[0mpenalty\u001b[0m\u001b[1;33m=\u001b[0m\u001b[1;34m'l1'\u001b[0m\u001b[1;33m,\u001b[0m \u001b[0mtol\u001b[0m\u001b[1;33m=\u001b[0m\u001b[1;36m0.01\u001b[0m\u001b[1;33m)\u001b[0m\u001b[1;33m\u001b[0m\u001b[0m\n\u001b[0;32m----> 9\u001b[0;31m     \u001b[0mclf_l1_LR\u001b[0m\u001b[1;33m.\u001b[0m\u001b[0mfit\u001b[0m\u001b[1;33m(\u001b[0m\u001b[0mnp\u001b[0m\u001b[1;33m.\u001b[0m\u001b[0marray\u001b[0m\u001b[1;33m(\u001b[0m\u001b[0mX\u001b[0m\u001b[1;33m)\u001b[0m\u001b[1;33m,\u001b[0m \u001b[0mnp\u001b[0m\u001b[1;33m.\u001b[0m\u001b[0marray\u001b[0m\u001b[1;33m(\u001b[0m\u001b[0my\u001b[0m\u001b[1;33m)\u001b[0m\u001b[1;33m)\u001b[0m\u001b[1;33m\u001b[0m\u001b[0m\n\u001b[0m\u001b[1;32m     10\u001b[0m     \u001b[0mscore\u001b[0m\u001b[1;33m.\u001b[0m\u001b[0mappend\u001b[0m\u001b[1;33m(\u001b[0m\u001b[0mclf_l1_LR\u001b[0m\u001b[1;33m.\u001b[0m\u001b[0mscore\u001b[0m\u001b[1;33m(\u001b[0m\u001b[0mnp\u001b[0m\u001b[1;33m.\u001b[0m\u001b[0marray\u001b[0m\u001b[1;33m(\u001b[0m\u001b[0mX\u001b[0m\u001b[1;33m)\u001b[0m\u001b[1;33m,\u001b[0m \u001b[0mnp\u001b[0m\u001b[1;33m.\u001b[0m\u001b[0marray\u001b[0m\u001b[1;33m(\u001b[0m\u001b[0my\u001b[0m\u001b[1;33m)\u001b[0m\u001b[1;33m)\u001b[0m\u001b[1;33m)\u001b[0m\u001b[1;33m\u001b[0m\u001b[0m\n\u001b[1;32m     11\u001b[0m \u001b[1;33m\u001b[0m\u001b[0m\n",
      "\u001b[0;32mc:\\users\\rocku\\anaconda64\\lib\\site-packages\\sklearn\\linear_model\\logistic.py\u001b[0m in \u001b[0;36mfit\u001b[0;34m(self, X, y, sample_weight)\u001b[0m\n\u001b[1;32m   1152\u001b[0m                 \u001b[0mX\u001b[0m\u001b[1;33m,\u001b[0m \u001b[0my\u001b[0m\u001b[1;33m,\u001b[0m \u001b[0mself\u001b[0m\u001b[1;33m.\u001b[0m\u001b[0mC\u001b[0m\u001b[1;33m,\u001b[0m \u001b[0mself\u001b[0m\u001b[1;33m.\u001b[0m\u001b[0mfit_intercept\u001b[0m\u001b[1;33m,\u001b[0m \u001b[0mself\u001b[0m\u001b[1;33m.\u001b[0m\u001b[0mintercept_scaling\u001b[0m\u001b[1;33m,\u001b[0m\u001b[1;33m\u001b[0m\u001b[0m\n\u001b[1;32m   1153\u001b[0m                 \u001b[0mself\u001b[0m\u001b[1;33m.\u001b[0m\u001b[0mclass_weight\u001b[0m\u001b[1;33m,\u001b[0m \u001b[0mself\u001b[0m\u001b[1;33m.\u001b[0m\u001b[0mpenalty\u001b[0m\u001b[1;33m,\u001b[0m \u001b[0mself\u001b[0m\u001b[1;33m.\u001b[0m\u001b[0mdual\u001b[0m\u001b[1;33m,\u001b[0m \u001b[0mself\u001b[0m\u001b[1;33m.\u001b[0m\u001b[0mverbose\u001b[0m\u001b[1;33m,\u001b[0m\u001b[1;33m\u001b[0m\u001b[0m\n\u001b[0;32m-> 1154\u001b[0;31m                 self.max_iter, self.tol, self.random_state)\n\u001b[0m\u001b[1;32m   1155\u001b[0m             \u001b[0mself\u001b[0m\u001b[1;33m.\u001b[0m\u001b[0mn_iter_\u001b[0m \u001b[1;33m=\u001b[0m \u001b[0mnp\u001b[0m\u001b[1;33m.\u001b[0m\u001b[0marray\u001b[0m\u001b[1;33m(\u001b[0m\u001b[1;33m[\u001b[0m\u001b[0mn_iter_\u001b[0m\u001b[1;33m]\u001b[0m\u001b[1;33m)\u001b[0m\u001b[1;33m\u001b[0m\u001b[0m\n\u001b[1;32m   1156\u001b[0m             \u001b[1;32mreturn\u001b[0m \u001b[0mself\u001b[0m\u001b[1;33m\u001b[0m\u001b[0m\n",
      "\u001b[0;32mc:\\users\\rocku\\anaconda64\\lib\\site-packages\\sklearn\\svm\\base.py\u001b[0m in \u001b[0;36m_fit_liblinear\u001b[0;34m(X, y, C, fit_intercept, intercept_scaling, class_weight, penalty, dual, verbose, max_iter, tol, random_state, multi_class, loss, epsilon)\u001b[0m\n\u001b[1;32m    914\u001b[0m         \u001b[0mX\u001b[0m\u001b[1;33m,\u001b[0m \u001b[0my_ind\u001b[0m\u001b[1;33m,\u001b[0m \u001b[0msp\u001b[0m\u001b[1;33m.\u001b[0m\u001b[0misspmatrix\u001b[0m\u001b[1;33m(\u001b[0m\u001b[0mX\u001b[0m\u001b[1;33m)\u001b[0m\u001b[1;33m,\u001b[0m \u001b[0msolver_type\u001b[0m\u001b[1;33m,\u001b[0m \u001b[0mtol\u001b[0m\u001b[1;33m,\u001b[0m \u001b[0mbias\u001b[0m\u001b[1;33m,\u001b[0m \u001b[0mC\u001b[0m\u001b[1;33m,\u001b[0m\u001b[1;33m\u001b[0m\u001b[0m\n\u001b[1;32m    915\u001b[0m         \u001b[0mclass_weight_\u001b[0m\u001b[1;33m,\u001b[0m \u001b[0mmax_iter\u001b[0m\u001b[1;33m,\u001b[0m \u001b[0mrnd\u001b[0m\u001b[1;33m.\u001b[0m\u001b[0mrandint\u001b[0m\u001b[1;33m(\u001b[0m\u001b[0mnp\u001b[0m\u001b[1;33m.\u001b[0m\u001b[0miinfo\u001b[0m\u001b[1;33m(\u001b[0m\u001b[1;34m'i'\u001b[0m\u001b[1;33m)\u001b[0m\u001b[1;33m.\u001b[0m\u001b[0mmax\u001b[0m\u001b[1;33m)\u001b[0m\u001b[1;33m,\u001b[0m\u001b[1;33m\u001b[0m\u001b[0m\n\u001b[0;32m--> 916\u001b[0;31m         epsilon)\n\u001b[0m\u001b[1;32m    917\u001b[0m     \u001b[1;31m# Regarding rnd.randint(..) in the above signature:\u001b[0m\u001b[1;33m\u001b[0m\u001b[1;33m\u001b[0m\u001b[0m\n\u001b[1;32m    918\u001b[0m     \u001b[1;31m# seed for srand in range [0..INT_MAX); due to limitations in Numpy\u001b[0m\u001b[1;33m\u001b[0m\u001b[1;33m\u001b[0m\u001b[0m\n",
      "\u001b[0;31mKeyboardInterrupt\u001b[0m: "
     ]
    }
   ],
   "source": [
    "data_origin = data.reset_index().drop(['Symbol','Year','sector','updown'], axis=1)\n",
    "score = []\n",
    "for i in range(5):\n",
    "    print('STEP', str(i*12))\n",
    "    X = data_origin.iloc[:,:i*12+1]\n",
    "    y = data_merged['updown'].astype(np.float64)\n",
    "\n",
    "    clf_l1_LR = LogisticRegression(C=0.1, penalty='l1', tol=0.01)\n",
    "    clf_l1_LR.fit(np.array(X), np.array(y))\n",
    "    score.append(clf_l1_LR.score(np.array(X), np.array(y)))\n",
    "    \n",
    "print(score)"
   ]
  },
  {
   "cell_type": "code",
   "execution_count": 107,
   "metadata": {},
   "outputs": [
    {
     "name": "stdout",
     "output_type": "stream",
     "text": [
      "4906 6252\n"
     ]
    }
   ],
   "source": [
    "print(len(data[data['updown'] == 1]), len(data[data['updown'] == 0]))"
   ]
  },
  {
   "cell_type": "code",
   "execution_count": 108,
   "metadata": {},
   "outputs": [
    {
     "ename": "KeyboardInterrupt",
     "evalue": "",
     "output_type": "error",
     "traceback": [
      "\u001b[0;31m---------------------------------------------------------------------------\u001b[0m",
      "\u001b[0;31mKeyboardInterrupt\u001b[0m                         Traceback (most recent call last)",
      "\u001b[0;32m<ipython-input-108-52a0105da7cb>\u001b[0m in \u001b[0;36m<module>\u001b[0;34m()\u001b[0m\n\u001b[0;32m----> 1\u001b[0;31m \u001b[0mscores\u001b[0m \u001b[1;33m=\u001b[0m \u001b[0mcross_val_score\u001b[0m\u001b[1;33m(\u001b[0m\u001b[0mclf_l1_LR\u001b[0m\u001b[1;33m,\u001b[0m \u001b[0mX\u001b[0m\u001b[1;33m,\u001b[0m \u001b[0my\u001b[0m\u001b[1;33m,\u001b[0m \u001b[0mcv\u001b[0m\u001b[1;33m=\u001b[0m\u001b[1;36m10\u001b[0m\u001b[1;33m,\u001b[0m \u001b[0mscoring\u001b[0m\u001b[1;33m=\u001b[0m\u001b[1;34m'f1_macro'\u001b[0m\u001b[1;33m)\u001b[0m\u001b[1;33m\u001b[0m\u001b[0m\n\u001b[0m\u001b[1;32m      2\u001b[0m \u001b[0mprint\u001b[0m\u001b[1;33m(\u001b[0m\u001b[0mscores\u001b[0m\u001b[1;33m)\u001b[0m\u001b[1;33m\u001b[0m\u001b[0m\n\u001b[1;32m      3\u001b[0m \u001b[0mnp\u001b[0m\u001b[1;33m.\u001b[0m\u001b[0mmean\u001b[0m\u001b[1;33m(\u001b[0m\u001b[0mscores\u001b[0m\u001b[1;33m)\u001b[0m\u001b[1;33m\u001b[0m\u001b[0m\n",
      "\u001b[0;32mc:\\users\\rocku\\anaconda64\\lib\\site-packages\\sklearn\\cross_validation.py\u001b[0m in \u001b[0;36mcross_val_score\u001b[0;34m(estimator, X, y, scoring, cv, n_jobs, verbose, fit_params, pre_dispatch)\u001b[0m\n\u001b[1;32m   1431\u001b[0m                                               \u001b[0mtrain\u001b[0m\u001b[1;33m,\u001b[0m \u001b[0mtest\u001b[0m\u001b[1;33m,\u001b[0m \u001b[0mverbose\u001b[0m\u001b[1;33m,\u001b[0m \u001b[1;32mNone\u001b[0m\u001b[1;33m,\u001b[0m\u001b[1;33m\u001b[0m\u001b[0m\n\u001b[1;32m   1432\u001b[0m                                               fit_params)\n\u001b[0;32m-> 1433\u001b[0;31m                       for train, test in cv)\n\u001b[0m\u001b[1;32m   1434\u001b[0m     \u001b[1;32mreturn\u001b[0m \u001b[0mnp\u001b[0m\u001b[1;33m.\u001b[0m\u001b[0marray\u001b[0m\u001b[1;33m(\u001b[0m\u001b[0mscores\u001b[0m\u001b[1;33m)\u001b[0m\u001b[1;33m[\u001b[0m\u001b[1;33m:\u001b[0m\u001b[1;33m,\u001b[0m \u001b[1;36m0\u001b[0m\u001b[1;33m]\u001b[0m\u001b[1;33m\u001b[0m\u001b[0m\n\u001b[1;32m   1435\u001b[0m \u001b[1;33m\u001b[0m\u001b[0m\n",
      "\u001b[0;32mc:\\users\\rocku\\anaconda64\\lib\\site-packages\\sklearn\\externals\\joblib\\parallel.py\u001b[0m in \u001b[0;36m__call__\u001b[0;34m(self, iterable)\u001b[0m\n\u001b[1;32m    798\u001b[0m             \u001b[1;31m# was dispatched. In particular this covers the edge\u001b[0m\u001b[1;33m\u001b[0m\u001b[1;33m\u001b[0m\u001b[0m\n\u001b[1;32m    799\u001b[0m             \u001b[1;31m# case of Parallel used with an exhausted iterator.\u001b[0m\u001b[1;33m\u001b[0m\u001b[1;33m\u001b[0m\u001b[0m\n\u001b[0;32m--> 800\u001b[0;31m             \u001b[1;32mwhile\u001b[0m \u001b[0mself\u001b[0m\u001b[1;33m.\u001b[0m\u001b[0mdispatch_one_batch\u001b[0m\u001b[1;33m(\u001b[0m\u001b[0miterator\u001b[0m\u001b[1;33m)\u001b[0m\u001b[1;33m:\u001b[0m\u001b[1;33m\u001b[0m\u001b[0m\n\u001b[0m\u001b[1;32m    801\u001b[0m                 \u001b[0mself\u001b[0m\u001b[1;33m.\u001b[0m\u001b[0m_iterating\u001b[0m \u001b[1;33m=\u001b[0m \u001b[1;32mTrue\u001b[0m\u001b[1;33m\u001b[0m\u001b[0m\n\u001b[1;32m    802\u001b[0m             \u001b[1;32melse\u001b[0m\u001b[1;33m:\u001b[0m\u001b[1;33m\u001b[0m\u001b[0m\n",
      "\u001b[0;32mc:\\users\\rocku\\anaconda64\\lib\\site-packages\\sklearn\\externals\\joblib\\parallel.py\u001b[0m in \u001b[0;36mdispatch_one_batch\u001b[0;34m(self, iterator)\u001b[0m\n\u001b[1;32m    656\u001b[0m                 \u001b[1;32mreturn\u001b[0m \u001b[1;32mFalse\u001b[0m\u001b[1;33m\u001b[0m\u001b[0m\n\u001b[1;32m    657\u001b[0m             \u001b[1;32melse\u001b[0m\u001b[1;33m:\u001b[0m\u001b[1;33m\u001b[0m\u001b[0m\n\u001b[0;32m--> 658\u001b[0;31m                 \u001b[0mself\u001b[0m\u001b[1;33m.\u001b[0m\u001b[0m_dispatch\u001b[0m\u001b[1;33m(\u001b[0m\u001b[0mtasks\u001b[0m\u001b[1;33m)\u001b[0m\u001b[1;33m\u001b[0m\u001b[0m\n\u001b[0m\u001b[1;32m    659\u001b[0m                 \u001b[1;32mreturn\u001b[0m \u001b[1;32mTrue\u001b[0m\u001b[1;33m\u001b[0m\u001b[0m\n\u001b[1;32m    660\u001b[0m \u001b[1;33m\u001b[0m\u001b[0m\n",
      "\u001b[0;32mc:\\users\\rocku\\anaconda64\\lib\\site-packages\\sklearn\\externals\\joblib\\parallel.py\u001b[0m in \u001b[0;36m_dispatch\u001b[0;34m(self, batch)\u001b[0m\n\u001b[1;32m    564\u001b[0m \u001b[1;33m\u001b[0m\u001b[0m\n\u001b[1;32m    565\u001b[0m         \u001b[1;32mif\u001b[0m \u001b[0mself\u001b[0m\u001b[1;33m.\u001b[0m\u001b[0m_pool\u001b[0m \u001b[1;32mis\u001b[0m \u001b[1;32mNone\u001b[0m\u001b[1;33m:\u001b[0m\u001b[1;33m\u001b[0m\u001b[0m\n\u001b[0;32m--> 566\u001b[0;31m             \u001b[0mjob\u001b[0m \u001b[1;33m=\u001b[0m \u001b[0mImmediateComputeBatch\u001b[0m\u001b[1;33m(\u001b[0m\u001b[0mbatch\u001b[0m\u001b[1;33m)\u001b[0m\u001b[1;33m\u001b[0m\u001b[0m\n\u001b[0m\u001b[1;32m    567\u001b[0m             \u001b[0mself\u001b[0m\u001b[1;33m.\u001b[0m\u001b[0m_jobs\u001b[0m\u001b[1;33m.\u001b[0m\u001b[0mappend\u001b[0m\u001b[1;33m(\u001b[0m\u001b[0mjob\u001b[0m\u001b[1;33m)\u001b[0m\u001b[1;33m\u001b[0m\u001b[0m\n\u001b[1;32m    568\u001b[0m             \u001b[0mself\u001b[0m\u001b[1;33m.\u001b[0m\u001b[0mn_dispatched_batches\u001b[0m \u001b[1;33m+=\u001b[0m \u001b[1;36m1\u001b[0m\u001b[1;33m\u001b[0m\u001b[0m\n",
      "\u001b[0;32mc:\\users\\rocku\\anaconda64\\lib\\site-packages\\sklearn\\externals\\joblib\\parallel.py\u001b[0m in \u001b[0;36m__init__\u001b[0;34m(self, batch)\u001b[0m\n\u001b[1;32m    178\u001b[0m         \u001b[1;31m# Don't delay the application, to avoid keeping the input\u001b[0m\u001b[1;33m\u001b[0m\u001b[1;33m\u001b[0m\u001b[0m\n\u001b[1;32m    179\u001b[0m         \u001b[1;31m# arguments in memory\u001b[0m\u001b[1;33m\u001b[0m\u001b[1;33m\u001b[0m\u001b[0m\n\u001b[0;32m--> 180\u001b[0;31m         \u001b[0mself\u001b[0m\u001b[1;33m.\u001b[0m\u001b[0mresults\u001b[0m \u001b[1;33m=\u001b[0m \u001b[0mbatch\u001b[0m\u001b[1;33m(\u001b[0m\u001b[1;33m)\u001b[0m\u001b[1;33m\u001b[0m\u001b[0m\n\u001b[0m\u001b[1;32m    181\u001b[0m \u001b[1;33m\u001b[0m\u001b[0m\n\u001b[1;32m    182\u001b[0m     \u001b[1;32mdef\u001b[0m \u001b[0mget\u001b[0m\u001b[1;33m(\u001b[0m\u001b[0mself\u001b[0m\u001b[1;33m)\u001b[0m\u001b[1;33m:\u001b[0m\u001b[1;33m\u001b[0m\u001b[0m\n",
      "\u001b[0;32mc:\\users\\rocku\\anaconda64\\lib\\site-packages\\sklearn\\externals\\joblib\\parallel.py\u001b[0m in \u001b[0;36m__call__\u001b[0;34m(self)\u001b[0m\n\u001b[1;32m     70\u001b[0m \u001b[1;33m\u001b[0m\u001b[0m\n\u001b[1;32m     71\u001b[0m     \u001b[1;32mdef\u001b[0m \u001b[0m__call__\u001b[0m\u001b[1;33m(\u001b[0m\u001b[0mself\u001b[0m\u001b[1;33m)\u001b[0m\u001b[1;33m:\u001b[0m\u001b[1;33m\u001b[0m\u001b[0m\n\u001b[0;32m---> 72\u001b[0;31m         \u001b[1;32mreturn\u001b[0m \u001b[1;33m[\u001b[0m\u001b[0mfunc\u001b[0m\u001b[1;33m(\u001b[0m\u001b[1;33m*\u001b[0m\u001b[0margs\u001b[0m\u001b[1;33m,\u001b[0m \u001b[1;33m**\u001b[0m\u001b[0mkwargs\u001b[0m\u001b[1;33m)\u001b[0m \u001b[1;32mfor\u001b[0m \u001b[0mfunc\u001b[0m\u001b[1;33m,\u001b[0m \u001b[0margs\u001b[0m\u001b[1;33m,\u001b[0m \u001b[0mkwargs\u001b[0m \u001b[1;32min\u001b[0m \u001b[0mself\u001b[0m\u001b[1;33m.\u001b[0m\u001b[0mitems\u001b[0m\u001b[1;33m]\u001b[0m\u001b[1;33m\u001b[0m\u001b[0m\n\u001b[0m\u001b[1;32m     73\u001b[0m \u001b[1;33m\u001b[0m\u001b[0m\n\u001b[1;32m     74\u001b[0m     \u001b[1;32mdef\u001b[0m \u001b[0m__len__\u001b[0m\u001b[1;33m(\u001b[0m\u001b[0mself\u001b[0m\u001b[1;33m)\u001b[0m\u001b[1;33m:\u001b[0m\u001b[1;33m\u001b[0m\u001b[0m\n",
      "\u001b[0;32mc:\\users\\rocku\\anaconda64\\lib\\site-packages\\sklearn\\externals\\joblib\\parallel.py\u001b[0m in \u001b[0;36m<listcomp>\u001b[0;34m(.0)\u001b[0m\n\u001b[1;32m     70\u001b[0m \u001b[1;33m\u001b[0m\u001b[0m\n\u001b[1;32m     71\u001b[0m     \u001b[1;32mdef\u001b[0m \u001b[0m__call__\u001b[0m\u001b[1;33m(\u001b[0m\u001b[0mself\u001b[0m\u001b[1;33m)\u001b[0m\u001b[1;33m:\u001b[0m\u001b[1;33m\u001b[0m\u001b[0m\n\u001b[0;32m---> 72\u001b[0;31m         \u001b[1;32mreturn\u001b[0m \u001b[1;33m[\u001b[0m\u001b[0mfunc\u001b[0m\u001b[1;33m(\u001b[0m\u001b[1;33m*\u001b[0m\u001b[0margs\u001b[0m\u001b[1;33m,\u001b[0m \u001b[1;33m**\u001b[0m\u001b[0mkwargs\u001b[0m\u001b[1;33m)\u001b[0m \u001b[1;32mfor\u001b[0m \u001b[0mfunc\u001b[0m\u001b[1;33m,\u001b[0m \u001b[0margs\u001b[0m\u001b[1;33m,\u001b[0m \u001b[0mkwargs\u001b[0m \u001b[1;32min\u001b[0m \u001b[0mself\u001b[0m\u001b[1;33m.\u001b[0m\u001b[0mitems\u001b[0m\u001b[1;33m]\u001b[0m\u001b[1;33m\u001b[0m\u001b[0m\n\u001b[0m\u001b[1;32m     73\u001b[0m \u001b[1;33m\u001b[0m\u001b[0m\n\u001b[1;32m     74\u001b[0m     \u001b[1;32mdef\u001b[0m \u001b[0m__len__\u001b[0m\u001b[1;33m(\u001b[0m\u001b[0mself\u001b[0m\u001b[1;33m)\u001b[0m\u001b[1;33m:\u001b[0m\u001b[1;33m\u001b[0m\u001b[0m\n",
      "\u001b[0;32mc:\\users\\rocku\\anaconda64\\lib\\site-packages\\sklearn\\cross_validation.py\u001b[0m in \u001b[0;36m_fit_and_score\u001b[0;34m(estimator, X, y, scorer, train, test, verbose, parameters, fit_params, return_train_score, return_parameters, error_score)\u001b[0m\n\u001b[1;32m   1529\u001b[0m             \u001b[0mestimator\u001b[0m\u001b[1;33m.\u001b[0m\u001b[0mfit\u001b[0m\u001b[1;33m(\u001b[0m\u001b[0mX_train\u001b[0m\u001b[1;33m,\u001b[0m \u001b[1;33m**\u001b[0m\u001b[0mfit_params\u001b[0m\u001b[1;33m)\u001b[0m\u001b[1;33m\u001b[0m\u001b[0m\n\u001b[1;32m   1530\u001b[0m         \u001b[1;32melse\u001b[0m\u001b[1;33m:\u001b[0m\u001b[1;33m\u001b[0m\u001b[0m\n\u001b[0;32m-> 1531\u001b[0;31m             \u001b[0mestimator\u001b[0m\u001b[1;33m.\u001b[0m\u001b[0mfit\u001b[0m\u001b[1;33m(\u001b[0m\u001b[0mX_train\u001b[0m\u001b[1;33m,\u001b[0m \u001b[0my_train\u001b[0m\u001b[1;33m,\u001b[0m \u001b[1;33m**\u001b[0m\u001b[0mfit_params\u001b[0m\u001b[1;33m)\u001b[0m\u001b[1;33m\u001b[0m\u001b[0m\n\u001b[0m\u001b[1;32m   1532\u001b[0m \u001b[1;33m\u001b[0m\u001b[0m\n\u001b[1;32m   1533\u001b[0m     \u001b[1;32mexcept\u001b[0m \u001b[0mException\u001b[0m \u001b[1;32mas\u001b[0m \u001b[0me\u001b[0m\u001b[1;33m:\u001b[0m\u001b[1;33m\u001b[0m\u001b[0m\n",
      "\u001b[0;32mc:\\users\\rocku\\anaconda64\\lib\\site-packages\\sklearn\\linear_model\\logistic.py\u001b[0m in \u001b[0;36mfit\u001b[0;34m(self, X, y, sample_weight)\u001b[0m\n\u001b[1;32m   1152\u001b[0m                 \u001b[0mX\u001b[0m\u001b[1;33m,\u001b[0m \u001b[0my\u001b[0m\u001b[1;33m,\u001b[0m \u001b[0mself\u001b[0m\u001b[1;33m.\u001b[0m\u001b[0mC\u001b[0m\u001b[1;33m,\u001b[0m \u001b[0mself\u001b[0m\u001b[1;33m.\u001b[0m\u001b[0mfit_intercept\u001b[0m\u001b[1;33m,\u001b[0m \u001b[0mself\u001b[0m\u001b[1;33m.\u001b[0m\u001b[0mintercept_scaling\u001b[0m\u001b[1;33m,\u001b[0m\u001b[1;33m\u001b[0m\u001b[0m\n\u001b[1;32m   1153\u001b[0m                 \u001b[0mself\u001b[0m\u001b[1;33m.\u001b[0m\u001b[0mclass_weight\u001b[0m\u001b[1;33m,\u001b[0m \u001b[0mself\u001b[0m\u001b[1;33m.\u001b[0m\u001b[0mpenalty\u001b[0m\u001b[1;33m,\u001b[0m \u001b[0mself\u001b[0m\u001b[1;33m.\u001b[0m\u001b[0mdual\u001b[0m\u001b[1;33m,\u001b[0m \u001b[0mself\u001b[0m\u001b[1;33m.\u001b[0m\u001b[0mverbose\u001b[0m\u001b[1;33m,\u001b[0m\u001b[1;33m\u001b[0m\u001b[0m\n\u001b[0;32m-> 1154\u001b[0;31m                 self.max_iter, self.tol, self.random_state)\n\u001b[0m\u001b[1;32m   1155\u001b[0m             \u001b[0mself\u001b[0m\u001b[1;33m.\u001b[0m\u001b[0mn_iter_\u001b[0m \u001b[1;33m=\u001b[0m \u001b[0mnp\u001b[0m\u001b[1;33m.\u001b[0m\u001b[0marray\u001b[0m\u001b[1;33m(\u001b[0m\u001b[1;33m[\u001b[0m\u001b[0mn_iter_\u001b[0m\u001b[1;33m]\u001b[0m\u001b[1;33m)\u001b[0m\u001b[1;33m\u001b[0m\u001b[0m\n\u001b[1;32m   1156\u001b[0m             \u001b[1;32mreturn\u001b[0m \u001b[0mself\u001b[0m\u001b[1;33m\u001b[0m\u001b[0m\n",
      "\u001b[0;32mc:\\users\\rocku\\anaconda64\\lib\\site-packages\\sklearn\\svm\\base.py\u001b[0m in \u001b[0;36m_fit_liblinear\u001b[0;34m(X, y, C, fit_intercept, intercept_scaling, class_weight, penalty, dual, verbose, max_iter, tol, random_state, multi_class, loss, epsilon)\u001b[0m\n\u001b[1;32m    914\u001b[0m         \u001b[0mX\u001b[0m\u001b[1;33m,\u001b[0m \u001b[0my_ind\u001b[0m\u001b[1;33m,\u001b[0m \u001b[0msp\u001b[0m\u001b[1;33m.\u001b[0m\u001b[0misspmatrix\u001b[0m\u001b[1;33m(\u001b[0m\u001b[0mX\u001b[0m\u001b[1;33m)\u001b[0m\u001b[1;33m,\u001b[0m \u001b[0msolver_type\u001b[0m\u001b[1;33m,\u001b[0m \u001b[0mtol\u001b[0m\u001b[1;33m,\u001b[0m \u001b[0mbias\u001b[0m\u001b[1;33m,\u001b[0m \u001b[0mC\u001b[0m\u001b[1;33m,\u001b[0m\u001b[1;33m\u001b[0m\u001b[0m\n\u001b[1;32m    915\u001b[0m         \u001b[0mclass_weight_\u001b[0m\u001b[1;33m,\u001b[0m \u001b[0mmax_iter\u001b[0m\u001b[1;33m,\u001b[0m \u001b[0mrnd\u001b[0m\u001b[1;33m.\u001b[0m\u001b[0mrandint\u001b[0m\u001b[1;33m(\u001b[0m\u001b[0mnp\u001b[0m\u001b[1;33m.\u001b[0m\u001b[0miinfo\u001b[0m\u001b[1;33m(\u001b[0m\u001b[1;34m'i'\u001b[0m\u001b[1;33m)\u001b[0m\u001b[1;33m.\u001b[0m\u001b[0mmax\u001b[0m\u001b[1;33m)\u001b[0m\u001b[1;33m,\u001b[0m\u001b[1;33m\u001b[0m\u001b[0m\n\u001b[0;32m--> 916\u001b[0;31m         epsilon)\n\u001b[0m\u001b[1;32m    917\u001b[0m     \u001b[1;31m# Regarding rnd.randint(..) in the above signature:\u001b[0m\u001b[1;33m\u001b[0m\u001b[1;33m\u001b[0m\u001b[0m\n\u001b[1;32m    918\u001b[0m     \u001b[1;31m# seed for srand in range [0..INT_MAX); due to limitations in Numpy\u001b[0m\u001b[1;33m\u001b[0m\u001b[1;33m\u001b[0m\u001b[0m\n",
      "\u001b[0;31mKeyboardInterrupt\u001b[0m: "
     ]
    }
   ],
   "source": [
    "scores = cross_val_score(clf_l1_LR, X, y, cv=10, scoring='f1_macro')\n",
    "print(scores)\n",
    "np.mean(scores)"
   ]
  },
  {
   "cell_type": "code",
   "execution_count": 328,
   "metadata": {},
   "outputs": [],
   "source": [
    "data['predicted'] = clf_l1_LR.predict(np.array(X))\n",
    "data.to_csv('predicted2.csv')"
   ]
  },
  {
   "cell_type": "markdown",
   "metadata": {},
   "source": [
    "# SVM"
   ]
  },
  {
   "cell_type": "code",
   "execution_count": null,
   "metadata": {},
   "outputs": [],
   "source": [
    "from sklearn import svm\n",
    "\n",
    "clf_l1_SVM = svm.SVC(C=0.84, tol=0.001, verbose=False, kernel='rbf')\n",
    "clf_l1_SVM.fit(np.array(X), np.array(y))\n",
    "clf_l1_SVM.score(np.array(X), np.array(y))"
   ]
  },
  {
   "cell_type": "code",
   "execution_count": null,
   "metadata": {},
   "outputs": [],
   "source": [
    "scores = cross_val_score(clf_l1_SVM, X, y, cv=10)"
   ]
  },
  {
   "cell_type": "markdown",
   "metadata": {},
   "source": [
    "# NNet"
   ]
  },
  {
   "cell_type": "code",
   "execution_count": 337,
   "metadata": {},
   "outputs": [
    {
     "ename": "SyntaxError",
     "evalue": "invalid syntax (<ipython-input-337-b8883e3d40e4>, line 5)",
     "output_type": "error",
     "traceback": [
      "\u001b[0;36m  File \u001b[0;32m\"<ipython-input-337-b8883e3d40e4>\"\u001b[0;36m, line \u001b[0;32m5\u001b[0m\n\u001b[0;31m    from keras.regularizers\u001b[0m\n\u001b[0m                           ^\u001b[0m\n\u001b[0;31mSyntaxError\u001b[0m\u001b[0;31m:\u001b[0m invalid syntax\n"
     ]
    }
   ],
   "source": [
    "from keras.layers import Input, Dense\n",
    "from keras.models import Model\n",
    "from keras import regularizers\n",
    "from keras import optimizers\n",
    "from keras.regularizers"
   ]
  },
  {
   "cell_type": "code",
   "execution_count": 338,
   "metadata": {},
   "outputs": [
    {
     "data": {
      "text/plain": [
       "(9817, 64)"
      ]
     },
     "execution_count": 338,
     "metadata": {},
     "output_type": "execute_result"
    }
   ],
   "source": [
    "X.shape"
   ]
  },
  {
   "cell_type": "code",
   "execution_count": 378,
   "metadata": {},
   "outputs": [
    {
     "name": "stdout",
     "output_type": "stream",
     "text": [
      "Train on 7853 samples, validate on 1964 samples\n",
      "Epoch 1/10\n",
      "7853/7853 [==============================] - 1s 147us/step - loss: 5093603.4193 - acc: 0.9124 - val_loss: 2036674.1589 - val_acc: 0.8569\n",
      "Epoch 2/10\n",
      "7853/7853 [==============================] - 0s 24us/step - loss: 5093603.3411 - acc: 0.9124 - val_loss: 2036674.1589 - val_acc: 0.8569\n",
      "Epoch 3/10\n",
      "7853/7853 [==============================] - 0s 25us/step - loss: 5093603.4654 - acc: 0.9124 - val_loss: 2036674.1589 - val_acc: 0.8569\n",
      "Epoch 4/10\n",
      "7853/7853 [==============================] - 0s 24us/step - loss: 5093603.3893 - acc: 0.9124 - val_loss: 2036674.1589 - val_acc: 0.8569\n",
      "Epoch 5/10\n",
      "7853/7853 [==============================] - 0s 25us/step - loss: 5093603.2630 - acc: 0.9124 - val_loss: 2036674.1589 - val_acc: 0.8569\n",
      "Epoch 6/10\n",
      "7853/7853 [==============================] - 0s 28us/step - loss: 5093603.3623 - acc: 0.9124 - val_loss: 2036674.1589 - val_acc: 0.8569\n",
      "Epoch 7/10\n",
      "7853/7853 [==============================] - 0s 27us/step - loss: 5093603.4750 - acc: 0.9124 - val_loss: 2036674.1589 - val_acc: 0.8569\n",
      "Epoch 8/10\n",
      "7853/7853 [==============================] - 0s 25us/step - loss: 5093603.5141 - acc: 0.9124 - val_loss: 2036674.1589 - val_acc: 0.8569\n",
      "Epoch 9/10\n",
      "7853/7853 [==============================] - 0s 24us/step - loss: 5093603.3098 - acc: 0.9124 - val_loss: 2036674.1589 - val_acc: 0.8569\n",
      "Epoch 10/10\n",
      "7853/7853 [==============================] - 0s 25us/step - loss: 5093603.4932 - acc: 0.9124 - val_loss: 2036674.1589 - val_acc: 0.8569\n"
     ]
    },
    {
     "data": {
      "text/plain": [
       "<keras.callbacks.History at 0x1f5eef5a7b8>"
      ]
     },
     "execution_count": 378,
     "metadata": {},
     "output_type": "execute_result"
    }
   ],
   "source": [
    "input_length = 64\n",
    "\n",
    "input_words = Input(shape=(input_length,))\n",
    "l1 = Dense(200, activation='relu')(input_words)\n",
    "l2 = Dense(100, activation='relu')(l1)\n",
    "l3 = Dense(50, activation='relu')(l2)\n",
    "l4 = Dense(10, activation='relu')(l3)\n",
    "ouput = Dense(1, activation='sigmoid')(l4)\n",
    "\n",
    "nn_model = Model(input_words, ouput)\n",
    "nn_model.compile(loss='mape', optimizer='adam', metrics=['accuracy'])\n",
    "\n",
    "total_samples = X.shape[0]\n",
    "train_samples = int(round(7*total_samples/10,0))\n",
    "x_train = X.values[:train_samples]\n",
    "y_train = y.values[:train_samples]\n",
    "x_test = X.values[train_samples+1:]\n",
    "y_test = y.values[train_samples+1:]\n",
    "\n",
    "nn_model.fit(X.values, y.values,\n",
    "                epochs=10,\n",
    "                batch_size=256,\n",
    "                shuffle=True,\n",
    "                validation_split=0.2)"
   ]
  },
  {
   "cell_type": "code",
   "execution_count": 379,
   "metadata": {},
   "outputs": [
    {
     "name": "stdout",
     "output_type": "stream",
     "text": [
      "9817/9817 [==============================] - 0s 44us/step\n"
     ]
    },
    {
     "data": {
      "text/plain": [
       "[4482030.487929103, 0.90129367426892359]"
      ]
     },
     "execution_count": 379,
     "metadata": {},
     "output_type": "execute_result"
    }
   ],
   "source": [
    "nn_model.evaluate(x=X.values,y=y)"
   ]
  },
  {
   "cell_type": "code",
   "execution_count": null,
   "metadata": {},
   "outputs": [],
   "source": []
  }
 ],
 "metadata": {
  "anaconda-cloud": {},
  "kernelspec": {
   "display_name": "Python [default]",
   "language": "python",
   "name": "python3"
  },
  "language_info": {
   "codemirror_mode": {
    "name": "ipython",
    "version": 3
   },
   "file_extension": ".py",
   "mimetype": "text/x-python",
   "name": "python",
   "nbconvert_exporter": "python",
   "pygments_lexer": "ipython3",
   "version": "3.5.2"
  }
 },
 "nbformat": 4,
 "nbformat_minor": 2
}
