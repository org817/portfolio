{
 "cells": [
  {
   "cell_type": "markdown",
   "metadata": {
    "collapsed": true
   },
   "source": [
    "# Week 10. Database \n",
    "\n",
    "# Sqlite3\n",
    "-------------------------\n",
    "파이썬은 데이터베이스와 상호작용할 수 있음.\n",
    "\n",
    "기본적으로 sqlite3 데이터베이스를 제공하고있음.\n",
    "\n",
    "SQLite는 \n",
    "- 오픈소스이자 모든 기능을 갖춘 독립형\n",
    "- 서버리스\n",
    "- 제로 설정\n",
    "- SQL 기반 경량 데이터베이스 관리 시스템\n",
    "\n",
    "으로서 하나의 데이터 파일을 사용해 데이터를 저장함"
   ]
  },
  {
   "cell_type": "markdown",
   "metadata": {},
   "source": [
    "MySQL, MSSQL, HeidiSQL"
   ]
  },
  {
   "cell_type": "code",
   "execution_count": 2,
   "metadata": {
    "collapsed": true
   },
   "outputs": [],
   "source": [
    "import sqlite3"
   ]
  },
  {
   "cell_type": "code",
   "execution_count": 3,
   "metadata": {
    "collapsed": true
   },
   "outputs": [],
   "source": [
    "conn = sqlite3.connect('data/example.db')\n",
    "\n",
    "# Autocommit 사용시:\n",
    "# conn = sqlite3.connect('data/example.db', isolation_level=None)"
   ]
  },
  {
   "cell_type": "code",
   "execution_count": 4,
   "metadata": {
    "collapsed": true
   },
   "outputs": [],
   "source": [
    "cur = conn.cursor()"
   ]
  },
  {
   "cell_type": "code",
   "execution_count": 5,
   "metadata": {
    "collapsed": false,
    "scrolled": false
   },
   "outputs": [
    {
     "data": {
      "text/plain": [
       "<sqlite3.Cursor at 0x4e720e0>"
      ]
     },
     "execution_count": 5,
     "metadata": {},
     "output_type": "execute_result"
    }
   ],
   "source": [
    "cur.execute(\"CREATE TABLE test1(Date text, Name text, Age int)\")"
   ]
  },
  {
   "cell_type": "code",
   "execution_count": 6,
   "metadata": {
    "collapsed": false,
    "scrolled": true
   },
   "outputs": [
    {
     "data": {
      "text/plain": [
       "<sqlite3.Cursor at 0x4e720e0>"
      ]
     },
     "execution_count": 6,
     "metadata": {},
     "output_type": "execute_result"
    }
   ],
   "source": [
    "cur.execute(\"INSERT INTO test1(Date, Name, Age) VALUES('2017/07/15', 'Rocku Oh', 28)\")"
   ]
  },
  {
   "cell_type": "markdown",
   "metadata": {},
   "source": [
    "## 여러 데이터를 한번에 넣기"
   ]
  },
  {
   "cell_type": "code",
   "execution_count": 7,
   "metadata": {
    "collapsed": false,
    "scrolled": true
   },
   "outputs": [
    {
     "data": {
      "text/plain": [
       "<sqlite3.Cursor at 0x4e720e0>"
      ]
     },
     "execution_count": 7,
     "metadata": {},
     "output_type": "execute_result"
    }
   ],
   "source": [
    "values = [('2017/07/14', 'Rocku', 25), ('2017/07/15', 'Brook', 30), ('2017/07/16', 'Kim', 20)]\n",
    "\n",
    "sql_query = \"INSERT INTO test1 VALUES(?,?,?)\"\n",
    "\n",
    "cur.executemany(sql_query, values)"
   ]
  },
  {
   "cell_type": "markdown",
   "metadata": {},
   "source": [
    "실제 업무에서 대부분의 SQL 문장에는 동적으로 컬럼 데이타값을 집어 넣어야 함\n",
    "이때 `Parameterized Query`를 사용함.\n",
    "\n",
    "- SQLite에서는 두 가지 방식으로 Parameterized Query를 만들 수 있다. \n",
    "    - `?` : (물음표)를 Placeholder로 사용하는 방식\n",
    "    - `:Id` : 파라미터 이름을 명시하는 Named Placeholder 방식이 있다. "
   ]
  },
  {
   "cell_type": "markdown",
   "metadata": {},
   "source": [
    "```python\n",
    "sql = \"select * from customer where id = :Id\"\n",
    "cur.execute(sql, {\"Id\": 1})\n",
    "```"
   ]
  },
  {
   "cell_type": "code",
   "execution_count": 8,
   "metadata": {
    "collapsed": true
   },
   "outputs": [],
   "source": [
    "conn.commit()\n",
    "conn.close()"
   ]
  },
  {
   "cell_type": "markdown",
   "metadata": {},
   "source": [
    "> 데이터를 실제 DB에 반영하고 싶지 않은 경우는 conn.rollback() 함수를 통하여 취소 할 수 있음"
   ]
  },
  {
   "cell_type": "markdown",
   "metadata": {},
   "source": [
    "<br><br><br>\n",
    "# 데이터 읽기\n",
    "-------------------------"
   ]
  },
  {
   "cell_type": "code",
   "execution_count": 9,
   "metadata": {
    "collapsed": true
   },
   "outputs": [],
   "source": [
    "conn = sqlite3.connect('data/example.db')\n",
    "cur = conn.cursor()"
   ]
  },
  {
   "cell_type": "code",
   "execution_count": 10,
   "metadata": {
    "collapsed": false
   },
   "outputs": [
    {
     "data": {
      "text/plain": [
       "[('2017/07/15', 'Rocku Oh', 28),\n",
       " ('2017/07/14', 'Rocku', 25),\n",
       " ('2017/07/15', 'Brook', 30),\n",
       " ('2017/07/16', 'Kim', 20)]"
      ]
     },
     "execution_count": 10,
     "metadata": {},
     "output_type": "execute_result"
    }
   ],
   "source": [
    "cur.execute(\"SELECT * FROM test1\")\n",
    "data = cur.fetchall()\n",
    "data"
   ]
  },
  {
   "cell_type": "code",
   "execution_count": 11,
   "metadata": {
    "collapsed": true
   },
   "outputs": [],
   "source": [
    "conn.close()"
   ]
  },
  {
   "cell_type": "markdown",
   "metadata": {},
   "source": [
    "### 물론 자동으로 close()를 위하여 with 문 사용도 좋음"
   ]
  },
  {
   "cell_type": "code",
   "execution_count": 12,
   "metadata": {
    "collapsed": false
   },
   "outputs": [
    {
     "name": "stdout",
     "output_type": "stream",
     "text": [
      "('2017/07/15', 'Rocku Oh', 28)\n",
      "('2017/07/14', 'Rocku', 25)\n",
      "('2017/07/15', 'Brook', 30)\n",
      "('2017/07/16', 'Kim', 20)\n"
     ]
    }
   ],
   "source": [
    "conn = sqlite3.connect('data/example.db')\n",
    "\n",
    "with conn:\n",
    "    cur = conn.cursor()\n",
    "    cur.execute(\"select * from test1\")\n",
    "    rows = cur.fetchall()\n",
    " \n",
    "    for row in rows:\n",
    "        print(row)"
   ]
  }
 ],
 "metadata": {
  "anaconda-cloud": {},
  "kernelspec": {
   "display_name": "Python [default]",
   "language": "python",
   "name": "python3"
  },
  "language_info": {
   "codemirror_mode": {
    "name": "ipython",
    "version": 3
   },
   "file_extension": ".py",
   "mimetype": "text/x-python",
   "name": "python",
   "nbconvert_exporter": "python",
   "pygments_lexer": "ipython3",
   "version": "3.5.2"
  }
 },
 "nbformat": 4,
 "nbformat_minor": 1
}
