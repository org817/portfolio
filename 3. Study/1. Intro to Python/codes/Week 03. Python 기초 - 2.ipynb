{
 "cells": [
  {
   "cell_type": "markdown",
   "metadata": {},
   "source": [
    "# 여러 개의 자료를 한 변수에 담기\n",
    "--------------------\n",
    "\n",
    "지금까지는 하나의 변수에 하나의 자료를 저장했다. 그러나 파이썬에서는 하나의 변수에 여러 개의 자료를 한꺼번에 저장하고 필요한 때에 꺼내 쓸 수도 있다.\n",
    "\n",
    "- 리스트\n",
    "- 딕셔너리\n",
    "- 튜플\n",
    "- 세트\n",
    "\n",
    "\n",
    "- 리스트 내포, 사전 내포, 세트 내포\n",
    "<br><br><br>\n",
    "\n",
    "# List\n",
    "--------------------\n",
    "여러개의 순서를 가지는 자료형\n",
    "\n",
    "```python\n",
    "리스트변수 = [자료1, 자료2, 자료3]\n",
    "```"
   ]
  },
  {
   "cell_type": "code",
   "execution_count": 1,
   "metadata": {
    "collapsed": false,
    "scrolled": false
   },
   "outputs": [
    {
     "name": "stdout",
     "output_type": "stream",
     "text": [
      "[2, 3, 7, 'string', [1, 2, 3]]\n",
      "length: 5\n"
     ]
    }
   ],
   "source": [
    "a_list = [2, 3, 7, 'string', [1,2,3]]\n",
    "\n",
    "print(a_list)\n",
    "print('length:',len(a_list))"
   ]
  },
  {
   "cell_type": "markdown",
   "metadata": {},
   "source": [
    "## 인덱싱(Indexing)\n",
    "- 리스트 자료형 변수에서 특정한 자료를 꺼내려면 인덱싱(indexing)이라는 연산을 사용\n",
    "\n",
    "```python\n",
    "리스트변수[index]\n",
    "```\n",
    "\n",
    "> 가장 첫번째 자료를 가리키는 인덱스는 1이 아니라 **0 이다**"
   ]
  },
  {
   "cell_type": "code",
   "execution_count": 4,
   "metadata": {
    "collapsed": false
   },
   "outputs": [
    {
     "name": "stdout",
     "output_type": "stream",
     "text": [
      "first component: 2\n",
      "(a_list[0] + a_list[1]) / 2 =  2.5\n",
      "where is 7: 2\n",
      "[2, 3, 'change', 7, 'string']\n",
      "['string', 7, 'change', 3, 2]\n"
     ]
    }
   ],
   "source": [
    "a_list = [2, 3, 7, 7, 'string']\n",
    "print('first component:', a_list[0])\n",
    "print('(a_list[0] + a_list[1]) / 2 = ', (a_list[0] + a_list[1]) / 2)\n",
    "\n",
    "######## find index ###########\n",
    "print('where is 7:', a_list.index(7))\n",
    "\n",
    "####### change component ##########\n",
    "a_list[2] = 'change'\n",
    "print(a_list)\n",
    "\n",
    "###### reverse ######\n",
    "a_list.reverse()\n",
    "print(a_list)"
   ]
  },
  {
   "cell_type": "code",
   "execution_count": 9,
   "metadata": {
    "collapsed": false,
    "scrolled": true
   },
   "outputs": [
    {
     "name": "stdout",
     "output_type": "stream",
     "text": [
      "['s', 't', 'r', 'i', 'n', 'g']\n",
      "string\n"
     ]
    }
   ],
   "source": [
    "a_string = 'string'\n",
    "string_list = list(a_string)\n",
    "\n",
    "print(string_list)\n",
    "\n",
    "a_string_b = ''.join(string_list)\n",
    "\n",
    "print(a_string_b)"
   ]
  },
  {
   "cell_type": "markdown",
   "metadata": {},
   "source": [
    "## 리스트에 원소 추가 삭제 이어붙이기"
   ]
  },
  {
   "cell_type": "code",
   "execution_count": 16,
   "metadata": {
    "collapsed": false
   },
   "outputs": [
    {
     "name": "stdout",
     "output_type": "stream",
     "text": [
      "append: ['foo', 'bar', 'dwarf']\n",
      "insert: ['foo', 'red', 'bar', 'dwarf']\n",
      "pop: ['foo', 'bar', 'dwarf'] red\n",
      "remove: ['bar', 'dwarf']\n",
      "extend: [4, None, 'foo', 7, 8, (2, 3)]\n"
     ]
    }
   ],
   "source": [
    "b_list = ['foo','bar']\n",
    "b_list.append('dwarf')\n",
    "print('append:',b_list)\n",
    "\n",
    "######## insert #########\n",
    "b_list.insert(1,'red')\n",
    "print('insert:', b_list)\n",
    "\n",
    "######### pop ##########\n",
    "c = b_list.pop(1)\n",
    "print('pop:', b_list, c)\n",
    "\n",
    "######### remove #########\n",
    "b_list.remove('foo')\n",
    "print('remove:', b_list)\n",
    "\n",
    "######### extend ##########\n",
    "#[4, None, 'foo'] + [7, 8, (2, 3)]\n",
    "c_list = [4, None, 'foo']\n",
    "c_list.extend([7, 8, (2, 3)])\n",
    "print('extend:', c_list)"
   ]
  },
  {
   "cell_type": "markdown",
   "metadata": {},
   "source": [
    "## 정렬(sort)"
   ]
  },
  {
   "cell_type": "code",
   "execution_count": 23,
   "metadata": {
    "collapsed": false,
    "scrolled": true
   },
   "outputs": [
    {
     "name": "stdout",
     "output_type": "stream",
     "text": [
      "[1, 2, 3, 5, 7]\n",
      "[1, 2, 3, 5, 7]\n",
      "['He', 'saw', 'six', 'small', 'foxes']\n"
     ]
    }
   ],
   "source": [
    "a = [7, 2, 5, 1, 3]\n",
    "sorted_a = sorted(a)\n",
    "print(sorted_a)\n",
    "a.sort() # reverse=False\n",
    "print(a)\n",
    "\n",
    "b = ['saw', 'small', 'He', 'foxes', 'six']\n",
    "# b.sort()\n",
    "b.sort(key=len)\n",
    "print(b)"
   ]
  },
  {
   "cell_type": "code",
   "execution_count": 24,
   "metadata": {
    "collapsed": false,
    "scrolled": false
   },
   "outputs": [
    {
     "name": "stdout",
     "output_type": "stream",
     "text": [
      "where 2 go: 4\n",
      "where 5 go: 6\n",
      "[1, 2, 2, 2, 3, 4, 6, 7]\n"
     ]
    }
   ],
   "source": [
    "# bisect 메서드는 값이 추가될 때 리스트가 정렬된 상태를\n",
    "# 유지 할 수 있는 위치를 반환한다.\n",
    "\n",
    "from bisect import bisect, insort\n",
    "\n",
    "c = [1, 2, 2, 2, 3, 4, 7]\n",
    "print('where 2 go:', bisect(c, 2))\n",
    "print('where 5 go:', bisect(c, 5))\n",
    "\n",
    "# insort 메서드는 실제로 정렬된 상태를 유지한 채 값을 추가한다.\n",
    "insort(c, 6)\n",
    "print(c)"
   ]
  },
  {
   "cell_type": "markdown",
   "metadata": {},
   "source": [
    "## 슬라이싱(Slicing)"
   ]
  },
  {
   "cell_type": "code",
   "execution_count": 26,
   "metadata": {
    "collapsed": false,
    "scrolled": true
   },
   "outputs": [
    {
     "name": "stdout",
     "output_type": "stream",
     "text": [
      "[2, 3, 7, 5]\n",
      "[7, 2, 3, 7, 5]\n",
      "[7, 5, 6, 0, 1]\n",
      "[1, 0, 6, 5, 7, 3, 2, 7]\n"
     ]
    }
   ],
   "source": [
    "seq = [7, 2, 3, 7, 5, 6, 0, 1]\n",
    "print(seq[1:5])\n",
    "\n",
    "print(seq[:5])\n",
    "print(seq[3:])\n",
    "print(seq[::-1]) # 역순"
   ]
  },
  {
   "cell_type": "code",
   "execution_count": 8,
   "metadata": {
    "collapsed": false
   },
   "outputs": [
    {
     "name": "stdout",
     "output_type": "stream",
     "text": [
      "[1, 10]\n",
      "[2, 20]\n",
      "1\n",
      "20\n"
     ]
    }
   ],
   "source": [
    "# 리스트로 matrix 표현하기\n",
    "matrix =[[1, 10], \n",
    "         [2, 20]]\n",
    "print(matrix[0])\n",
    "print(matrix[1])\n",
    "print(matrix[0][0])\n",
    "print(matrix[1][1])"
   ]
  },
  {
   "cell_type": "code",
   "execution_count": 32,
   "metadata": {
    "collapsed": false,
    "scrolled": true
   },
   "outputs": [
    {
     "data": {
      "text/plain": [
       "3"
      ]
     },
     "execution_count": 32,
     "metadata": {},
     "output_type": "execute_result"
    }
   ],
   "source": [
    "# count\n",
    "a = [1,2,3,1,1]\n",
    "a.count(1)"
   ]
  },
  {
   "cell_type": "markdown",
   "metadata": {},
   "source": [
    "> ## 문제!!! \n",
    "- start_list 의 값을 제곱하여 값이 작은 순서대로 정렬한 새로운 리스트를 만들어보세요.\n",
    "- start_list = [-5, 3, 1, -2, 4]"
   ]
  },
  {
   "cell_type": "code",
   "execution_count": 48,
   "metadata": {
    "collapsed": false
   },
   "outputs": [
    {
     "name": "stdout",
     "output_type": "stream",
     "text": [
      "[1, 4, 9, 16, 25] [1, 4, 9, 16, 25] [1, 4, 9, 16, 25]\n"
     ]
    }
   ],
   "source": [
    "start_list = [-5, 3, 1, -2, 4]\n",
    "\n",
    "square_list = []\n",
    "for num in start_list:\n",
    "    square_list.append(num ** 2)\n",
    "\n",
    "square_list2 = []\n",
    "for i in range(len(start_list)):\n",
    "    square_list2.append(start_list[i]**2)\n",
    "\n",
    "square_list3 = []\n",
    "for i, num in enumerate(start_list):\n",
    "    square_list3.append(num**2)\n",
    "\n",
    "    \n",
    "square_list.sort()\n",
    "square_list2.sort()\n",
    "square_list3.sort()\n",
    "print (square_list, square_list2, square_list3)"
   ]
  },
  {
   "cell_type": "markdown",
   "metadata": {},
   "source": [
    "> ## 문제!!!\n",
    "\n",
    "> - 10과목 평균 성적 구하기\n",
    "    - 90, 85, 95, 80, 90, 100, 85, 75, 85, 80\n",
    "\n",
    "\n",
    "> - 평균 평점(GPA) 구하기\n",
    "    - value = 4,3,2,3,4\n",
    "    - credit = 3,3,1,1,2"
   ]
  },
  {
   "cell_type": "code",
   "execution_count": 11,
   "metadata": {
    "collapsed": false,
    "scrolled": true
   },
   "outputs": [
    {
     "name": "stdout",
     "output_type": "stream",
     "text": [
      "average: 86.5\n"
     ]
    }
   ],
   "source": [
    "## 1. 평균 성적 \n",
    "Soo = [90, 85, 95, 80, 90, 100, 85, 75, 85, 80]\n",
    "\n",
    "# soln 1\n",
    "sum_1 = 0\n",
    "for i in range(len(Soo)):\n",
    "    sum_1 += Soo[i]\n",
    "\n",
    "# soln 2\n",
    "sum_2 = 0\n",
    "for num in Soo:\n",
    "    sum_2 += num\n",
    "\n",
    "# soln 3\n",
    "sum_3 = sum(Soo)\n",
    "\n",
    "average = sum_1 / len(Soo)    \n",
    "print('average:', average)\n"
   ]
  },
  {
   "cell_type": "code",
   "execution_count": 12,
   "metadata": {
    "collapsed": false
   },
   "outputs": [
    {
     "name": "stdout",
     "output_type": "stream",
     "text": [
      "GPA: 3.4\n"
     ]
    }
   ],
   "source": [
    "## 2. GPA 구하기\n",
    "value = [4,3,2,3,4]\n",
    "credit = [3,3,1,1,2]\n",
    "\n",
    "sum_4 = 0\n",
    "overall_credit = 0\n",
    "\n",
    "for i in range(len(value)):\n",
    "    sum_4 += value[i]*credit[i]\n",
    "    overall_credit += credit[i]\n",
    "    \n",
    "GPA = sum_4 / overall_credit\n",
    "print('GPA:', GPA)"
   ]
  },
  {
   "cell_type": "markdown",
   "metadata": {},
   "source": [
    "## 리스트 안에 for문 포함하기\n",
    "리스트 안에 for문을 포함하는 것을 리스트 내포(List comprehension)라고\n",
    "함.\n",
    "\n",
    "```python\n",
    "[표현식 for 항목 in 반복가능객체 if 조건]\n",
    "```\n",
    "\n",
    "```python\n",
    "start_list = [-5, 3, 1, -2, 4]\n",
    "square_list = []\n",
    "\n",
    "for num in start_list:\n",
    "    square_list.append(num ** 2)\n",
    "start_list.sort()\n",
    "\n",
    ">>> print(square_list)\n",
    "```\n",
    "\n",
    "를 리스트 내포 기능을 써서 줄이면"
   ]
  },
  {
   "cell_type": "code",
   "execution_count": 13,
   "metadata": {
    "collapsed": false,
    "scrolled": false
   },
   "outputs": [
    {
     "name": "stdout",
     "output_type": "stream",
     "text": [
      "[1, 4, 9, 16, 25]\n"
     ]
    }
   ],
   "source": [
    "start_list = [-5, 3, 1, -2, 4]\n",
    "result = [num ** 2 for num in start_list]\n",
    "result.sort()\n",
    "\n",
    "print(result)"
   ]
  },
  {
   "cell_type": "markdown",
   "metadata": {},
   "source": [
    "> 만약 a리스트에서 짝수에만 10을 곱하여 담고 싶다면 다음과 같이 \"if 조건\"을 사용할 수 있다."
   ]
  },
  {
   "cell_type": "code",
   "execution_count": 51,
   "metadata": {
    "collapsed": false
   },
   "outputs": [
    {
     "name": "stdout",
     "output_type": "stream",
     "text": [
      "[1, 9, 16]\n"
     ]
    }
   ],
   "source": [
    "start_list = [-5, 3, 1, -2, 4]\n",
    "\n",
    "result = [num ** 2 for num in start_list if num > 0]\n",
    "\n",
    "# for num in start_list:\n",
    "#     if num > 0:\n",
    "#         result.append(num**2)\n",
    "\n",
    "result.sort()\n",
    "print(result)"
   ]
  },
  {
   "cell_type": "markdown",
   "metadata": {},
   "source": [
    "## List method 정리\n",
    "\n",
    "<img src ='pic/week3-5.png' width= 650 />"
   ]
  },
  {
   "cell_type": "markdown",
   "metadata": {},
   "source": [
    "<br><br><br>\n",
    "\n",
    "# Dictionary\n",
    "--------------------\n",
    "- `dict`(사전)은 유연한 크기를 가지는 키-밸류 쌍이다.\n",
    "- 일반적으로 해시맵 또는 연관 배열이라고 알려져 있다.\n",
    "- 중괄호 `{}`를 사용해, 콜론 :로 구분되는 키와 값을 둘러싸서 생성한다.\n",
    "- 순서가 없다. 출력을 할 때 마다 내부 데이터들의 순서가 달라짐\n",
    "\n",
    "```python\n",
    "딕셔너리변수 = {key1:value1, key2:value2, ...}\n",
    "```"
   ]
  },
  {
   "cell_type": "markdown",
   "metadata": {},
   "source": [
    "## 선언, 참조"
   ]
  },
  {
   "cell_type": "code",
   "execution_count": 18,
   "metadata": {
    "collapsed": false,
    "scrolled": true
   },
   "outputs": [
    {
     "name": "stdout",
     "output_type": "stream",
     "text": [
      "{'a': 'some value', 'c': 'wow', 'b': [1, 2, 3, 4]}\n",
      "------------------------------------\n",
      "{'a': 'some value', 'c': 'wow', 'b': 'an integer'}\n",
      "------------------------------------\n",
      "'b' 안에는 어떤 값이 있나요?: an integer\n",
      "'b' 안에는 어떤 값이 있나요?: an integer\n",
      "'e' 안에는 어떤 값이 있나요?: None\n",
      "'e' 안에는 어떤 값이 있나요?: NO KEY\n",
      "'b'라는 키가 d1딕셔너리에 있나요?: True\n"
     ]
    }
   ],
   "source": [
    "###### 빈 딕셔너리 생성 #######\n",
    "empty_dict = {}\n",
    "\n",
    "d1 = {'a':'some value'}\n",
    "\n",
    "d1['b'] = [1,2,3,4]\n",
    "d1['c']='wow'\n",
    "print(d1)\n",
    "print('------------------------------------')\n",
    "\n",
    "######### 참조 ##########\n",
    "a_list = [1,2,3,4,5]\n",
    "\n",
    "d1['b'] = 'an integer'  # 'b'이란 키가 없으면 생성해서 넣는다.\n",
    "print(d1)\n",
    "print('------------------------------------')\n",
    "\n",
    "######### 참조 ##########\n",
    "print(\"'b' 안에는 어떤 값이 있나요?:\", d1['b'])\n",
    "print(\"'b' 안에는 어떤 값이 있나요?:\", d1.get('b'))\n",
    "\n",
    "print(\"'e' 안에는 어떤 값이 있나요?:\", d1.get('e'))\n",
    "print(\"'e' 안에는 어떤 값이 있나요?:\",d1.get('e', 'NO KEY'))\n",
    "\n",
    "print(\"'b'라는 키가 d1딕셔너리에 있나요?:\",'b' in d1)"
   ]
  },
  {
   "cell_type": "markdown",
   "metadata": {},
   "source": [
    "## Update, del"
   ]
  },
  {
   "cell_type": "code",
   "execution_count": 19,
   "metadata": {
    "collapsed": false,
    "scrolled": false
   },
   "outputs": [
    {
     "name": "stdout",
     "output_type": "stream",
     "text": [
      "original: {'a': 'some value', 'c': 'wow', 'b': 'an integer'}\n",
      "updated: {'a': 'foo', 'd': 12, 'c': 'wow', 'b': 'an integer'}\n",
      "----------------\n",
      "del: {'a': 'foo', 'd': 12, 'b': 'an integer'}\n"
     ]
    }
   ],
   "source": [
    "print('original:',d1)\n",
    "d1.update({'a' : 'foo', 'd': 12})\n",
    "print('updated:',d1)\n",
    "print('----------------')\n",
    "\n",
    "del d1['c']\n",
    "\n",
    "print('del:', d1)"
   ]
  },
  {
   "cell_type": "code",
   "execution_count": 20,
   "metadata": {
    "collapsed": false,
    "scrolled": false
   },
   "outputs": [
    {
     "name": "stdout",
     "output_type": "stream",
     "text": [
      "popped: an integer\n",
      "{'a': 'foo', 'd': 12}\n",
      "{}\n"
     ]
    }
   ],
   "source": [
    "popped = d1.pop('b')\n",
    "print('popped:',popped)\n",
    "print(d1)\n",
    "\n",
    "d1.clear()\n",
    "print(d1)"
   ]
  },
  {
   "cell_type": "markdown",
   "metadata": {},
   "source": [
    "## keys, values, items"
   ]
  },
  {
   "cell_type": "code",
   "execution_count": 71,
   "metadata": {
    "collapsed": false,
    "scrolled": true
   },
   "outputs": [
    {
     "name": "stdout",
     "output_type": "stream",
     "text": [
      "d1.keys(): dict_keys(['a', 'c', 'b'])\n",
      "d1.values(): dict_values(['some value', [1, 2, 3], 55])\n",
      "list of d1 key: ['a', 'c', 'b']\n",
      "dict_items([('a', 'some value'), ('c', [1, 2, 3]), ('b', 55)])\n"
     ]
    }
   ],
   "source": [
    "d1 = {'a':'some value', 'b':55, 'c':[1,2,3]}\n",
    "######### KEY, VALUE ##########\n",
    "print('d1.keys():', d1.keys())\n",
    "print('d1.values():', d1.values())\n",
    "print('list of d1 key:', list(d1.keys()))\n",
    "\n",
    "print(d1.items())"
   ]
  },
  {
   "cell_type": "code",
   "execution_count": 75,
   "metadata": {
    "collapsed": false
   },
   "outputs": [
    {
     "name": "stdout",
     "output_type": "stream",
     "text": [
      "SK Hynix: Buy 30\n",
      "Samsung: Buy 50\n",
      "Naver: Buy 10\n"
     ]
    }
   ],
   "source": [
    "# Dictionary를 for문에서 key와 value 표현\n",
    "# .items() 붙는거 참고\n",
    "\n",
    "interest_stocks = {\"Naver\":10, \"Samsung\":50, \"SK Hynix\":30}\n",
    "\n",
    "for company, stock_num in interest_stocks.items():\n",
    "    print(\"%s: Buy %s\" %(company, stock_num))"
   ]
  },
  {
   "cell_type": "markdown",
   "metadata": {},
   "source": [
    "## Coding convention of Dictionary\n",
    "\n",
    "- 일반적 로직\n",
    "\n",
    "```python\n",
    "if(for) key in some_dict :     \n",
    "    value = some_dict[key]\n",
    "else :\n",
    "    value = default_value\n",
    "```    \n",
    "\n",
    "> - 만약 `some_dict`에 `key` 가 있으면 그 `key`를 가지는 `value`를 사용함\n",
    "> - 그 `key`가 `some_dict`에 존재하지 않는다면 `default_value`"
   ]
  },
  {
   "cell_type": "code",
   "execution_count": 20,
   "metadata": {
    "collapsed": false,
    "scrolled": true
   },
   "outputs": [
    {
     "name": "stdout",
     "output_type": "stream",
     "text": [
      "SK Hynix 30\n",
      "Samsung 50\n",
      "Naver 10\n"
     ]
    }
   ],
   "source": [
    "interest_stocks = {\"Naver\":10, \"Samsung\":50, \"SK Hynix\":30}\n",
    "\n",
    "for key in interest_stocks:\n",
    "    print (key, interest_stocks[key])"
   ]
  },
  {
   "cell_type": "markdown",
   "metadata": {},
   "source": [
    "> ## 문제!!! \n",
    "- 네이버를 2주, 삼성을 3주 구매했을 때, interest_stocks을 참고해서 내가 구매한 주식 가격의 총합을 구해보세요."
   ]
  },
  {
   "cell_type": "code",
   "execution_count": 76,
   "metadata": {
    "collapsed": false
   },
   "outputs": [
    {
     "name": "stdout",
     "output_type": "stream",
     "text": [
      "170\n"
     ]
    }
   ],
   "source": [
    "buying_stocks = {'Naver':2, 'Samsung':3}\n",
    "\n",
    "purchasing_cost = 0\n",
    "\n",
    "for key in buying_stocks:\n",
    "    purchasing_cost += interest_stocks[key]*buying_stocks[key]\n",
    "    \n",
    "print(purchasing_cost)"
   ]
  },
  {
   "cell_type": "markdown",
   "metadata": {},
   "source": [
    "보통 사전의 `값(value)`으로 `list` 같은 다른 컬렉션 값을 많이 이용한다."
   ]
  },
  {
   "cell_type": "code",
   "execution_count": 22,
   "metadata": {
    "collapsed": false
   },
   "outputs": [
    {
     "name": "stdout",
     "output_type": "stream",
     "text": [
      "{'b': ['bat', 'bar', 'book'], 'a': ['apple', 'atom']}\n"
     ]
    }
   ],
   "source": [
    "words = ['apple', 'bat', 'bar', 'atom', 'book']\n",
    "by_letter = {}\n",
    "\n",
    "for word in words :\n",
    "    letter = word[0]\n",
    "    if letter not in by_letter :\n",
    "        by_letter[letter] = [word]\n",
    "    else :\n",
    "        by_letter[letter].append(word)\n",
    "        \n",
    "print(by_letter)"
   ]
  },
  {
   "cell_type": "markdown",
   "metadata": {},
   "source": [
    "`setdefault` 메서드를 사용하면 `value`의 기본자료형을 설정하므로, 위의 코드를 더 줄일 수 있다."
   ]
  },
  {
   "cell_type": "code",
   "execution_count": 23,
   "metadata": {
    "collapsed": false,
    "scrolled": true
   },
   "outputs": [
    {
     "data": {
      "text/plain": [
       "{'a': ['apple', 'atom'], 'b': ['bat', 'bar', 'book']}"
      ]
     },
     "execution_count": 23,
     "metadata": {},
     "output_type": "execute_result"
    }
   ],
   "source": [
    "words = ['apple', 'bat', 'bar', 'atom', 'book']\n",
    "by_letter = {}\n",
    "\n",
    "for word in words :\n",
    "    letter = word[0]\n",
    "    by_letter.setdefault(letter, []).append(word)\n",
    "        \n",
    "by_letter"
   ]
  },
  {
   "cell_type": "markdown",
   "metadata": {},
   "source": [
    "내장 collections 모듈의 `defaultdict` 클래스를 사용하면 더 쉽다."
   ]
  },
  {
   "cell_type": "code",
   "execution_count": 24,
   "metadata": {
    "collapsed": false
   },
   "outputs": [
    {
     "data": {
      "text/plain": [
       "defaultdict(list, {'a': ['apple', 'atom'], 'b': ['bat', 'bar', 'book']})"
      ]
     },
     "execution_count": 24,
     "metadata": {},
     "output_type": "execute_result"
    }
   ],
   "source": [
    "from collections import defaultdict\n",
    "\n",
    "words = ['apple', 'bat', 'bar', 'atom', 'book']\n",
    "by_letter = defaultdict(list)\n",
    "for word in words :\n",
    "    by_letter[word[0]].append(word)\n",
    "    \n",
    "by_letter"
   ]
  },
  {
   "cell_type": "markdown",
   "metadata": {},
   "source": [
    "## Dictionary method 정리 \n",
    "\n",
    "<img src ='pic/week3-7.png' width= 650 />"
   ]
  },
  {
   "cell_type": "markdown",
   "metadata": {},
   "source": [
    "<br><br><br>\n",
    "\n",
    "\n",
    "# Tuple\n",
    "--------------------\n",
    "- 1차원, 고정된 크기를 가지는 변경 불가능한 순차 자료형\n",
    "- `,`로 구분되는 개별 원소의 열 혹은 괄호 ()나 `tuple` 함수로 생성.\n",
    "\n",
    "```python\n",
    "튜플변수 = (value1, value2, value3, ...)\n",
    "```"
   ]
  },
  {
   "cell_type": "markdown",
   "metadata": {},
   "source": [
    "## 선언, 참조"
   ]
  },
  {
   "cell_type": "code",
   "execution_count": 59,
   "metadata": {
    "collapsed": false
   },
   "outputs": [
    {
     "name": "stdout",
     "output_type": "stream",
     "text": [
      "(4, 5, 6)\n",
      "('s', 't', 'r')\n",
      "s\n",
      "s t\n"
     ]
    },
    {
     "data": {
      "text/plain": [
       "4"
      ]
     },
     "execution_count": 59,
     "metadata": {},
     "output_type": "execute_result"
    }
   ],
   "source": [
    "tup = (4, 5, 6)  # 혹은 tup = 4, 5, 6\n",
    "print(tup)\n",
    "\n",
    "tup = tuple('str')\n",
    "print(tup)\n",
    "print(tup[0])\n",
    "a, b, c = tup\n",
    "print(a,b)\n",
    "\n",
    "# count 메서트\n",
    "a = (1, 2, 2, 2, 3, 4, 2)\n",
    "a.count(2)"
   ]
  },
  {
   "cell_type": "markdown",
   "metadata": {},
   "source": [
    "<br><br><br>\n",
    "\n",
    "# Set\n",
    "--------------------\n",
    " - `세트(집합)`는 유일한 원소만 담는`(중복을 허용하지 않는다)` 정렬되지 않은`(순서가 없다)` 자료형이다. `set` 함수나 중괄호 `{}`를 사용해 생성한다.\n",
    " \n",
    "- 필터 역할로 종종 사용되기도 한다\n"
   ]
  },
  {
   "cell_type": "code",
   "execution_count": 26,
   "metadata": {
    "collapsed": false,
    "scrolled": true
   },
   "outputs": [
    {
     "name": "stdout",
     "output_type": "stream",
     "text": [
      "{1, 2, 3}\n",
      "{1, 2, 3, 4}\n",
      "{1, 2, 3, 4, 5}\n",
      "{1, 2, 4, 5}\n",
      "['boy', 'am', 'a', 'you', 'are', 'I']\n"
     ]
    }
   ],
   "source": [
    "s1 = set([1, 2, 3]) # s1 = {1,2,3}\n",
    "print(s1)\n",
    "\n",
    "s1.add(4)\n",
    "print(s1)\n",
    "\n",
    "s1.update([3, 4, 5])\n",
    "print(s1)\n",
    "\n",
    "s1.remove(3)\n",
    "print(s1)\n",
    "\n",
    "string = 'I am a boy you are a boy'\n",
    "lists = list(set(string.split()))\n",
    "print(lists)"
   ]
  },
  {
   "cell_type": "code",
   "execution_count": 27,
   "metadata": {
    "collapsed": false
   },
   "outputs": [
    {
     "name": "stdout",
     "output_type": "stream",
     "text": [
      "a: {1, 2, 3, 4, 5}\n",
      "b: {3, 4, 5, 6, 7, 8}\n",
      "합집합: {1, 2, 3, 4, 5, 6, 7, 8}\n",
      "교집합: {3, 4, 5}\n",
      "차집합: {1, 2}\n",
      "True\n"
     ]
    }
   ],
   "source": [
    "a = {1, 2, 2, 3, 4, 5}\n",
    "b = {3, 4, 5, 6, 6, 6, 7, 8}\n",
    "\n",
    "print('a:',a)\n",
    "print('b:',b)\n",
    "\n",
    "## 합집합 \n",
    "print ('합집합:', a | b) \n",
    "\n",
    "##교집합 \n",
    "print ('교집합:',a & b)\n",
    "\n",
    "##차집합 \n",
    "print ('차집합:',a - b)\n",
    "\n",
    "## 여집합\n",
    "\n",
    "## 부분집합 검사\n",
    "print({1, 2, 3}.issubset(a))"
   ]
  },
  {
   "cell_type": "markdown",
   "metadata": {},
   "source": [
    "## Set method 정리 \n",
    "\n",
    "<img src ='pic/week3-6.png' width= 650 />"
   ]
  }
 ],
 "metadata": {
  "anaconda-cloud": {},
  "kernelspec": {
   "display_name": "Python 3",
   "language": "python",
   "name": "python3"
  },
  "language_info": {
   "codemirror_mode": {
    "name": "ipython",
    "version": 3
   },
   "file_extension": ".py",
   "mimetype": "text/x-python",
   "name": "python",
   "nbconvert_exporter": "python",
   "pygments_lexer": "ipython3",
   "version": "3.5.1"
  }
 },
 "nbformat": 4,
 "nbformat_minor": 0
}
