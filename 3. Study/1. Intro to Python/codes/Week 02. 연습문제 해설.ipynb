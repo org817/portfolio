{
 "cells": [
  {
   "cell_type": "markdown",
   "metadata": {},
   "source": [
    "# Week 02. 연습문제 이자 숙제 이자 괴롭힘"
   ]
  },
  {
   "cell_type": "markdown",
   "metadata": {},
   "source": [
    "<br><br><br>\n",
    "# 제어문 If, for, while\n",
    "-----------------------"
   ]
  },
  {
   "cell_type": "markdown",
   "metadata": {},
   "source": [
    "1) 아래와 같은 패턴의 별(*)을 출력하는 프로그램을 작성해 보세요. 참고로 `print('*', end='')`와 같이 print 함수를 사용하면 줄바꿈 없이 화면에 출력할 수 있습니다.\n",
    "\n",
    "```\n",
    "*****\n",
    "```"
   ]
  },
  {
   "cell_type": "code",
   "execution_count": 1,
   "metadata": {
    "collapsed": false
   },
   "outputs": [
    {
     "name": "stdout",
     "output_type": "stream",
     "text": [
      "*****"
     ]
    }
   ],
   "source": [
    "for i in range(5):\n",
    "    print('*', end='')"
   ]
  },
  {
   "cell_type": "markdown",
   "metadata": {},
   "source": [
    "2) 아래와 같은 패턴의 별(*)을 출력하는 프로그램을 작성해보세요. (힌트: 이중 루프 사용)\n",
    "```\n",
    "*****\n",
    "*****\n",
    "*****\n",
    "*****\n",
    "```"
   ]
  },
  {
   "cell_type": "code",
   "execution_count": 3,
   "metadata": {
    "collapsed": false
   },
   "outputs": [
    {
     "name": "stdout",
     "output_type": "stream",
     "text": [
      "*****\n",
      "*****\n",
      "*****\n",
      "*****\n"
     ]
    }
   ],
   "source": [
    "for j in range(4):\n",
    "    print('*'*5)"
   ]
  },
  {
   "cell_type": "markdown",
   "metadata": {},
   "source": [
    "3) 아래와 같은 패턴의 별(*)을 출력하는 프로그램을 작성해보세요.\n",
    "```\n",
    "*\n",
    "**\n",
    "***\n",
    "****\n",
    "*****\n",
    "```"
   ]
  },
  {
   "cell_type": "code",
   "execution_count": 3,
   "metadata": {
    "collapsed": false
   },
   "outputs": [
    {
     "name": "stdout",
     "output_type": "stream",
     "text": [
      "*\n",
      "**\n",
      "***\n",
      "****\n",
      "*****\n"
     ]
    }
   ],
   "source": [
    "for j in range(5):\n",
    "    print('*'*(j+1))"
   ]
  },
  {
   "cell_type": "markdown",
   "metadata": {},
   "source": [
    "4) 아래와 같은 패턴의 별(*)을 출력하는 프로그램을 작성해 보세요.\n",
    "```\n",
    "*****\n",
    "****\n",
    "***\n",
    "**\n",
    "*\n",
    "```"
   ]
  },
  {
   "cell_type": "code",
   "execution_count": 4,
   "metadata": {
    "collapsed": false
   },
   "outputs": [
    {
     "name": "stdout",
     "output_type": "stream",
     "text": [
      "*****\n",
      "****\n",
      "***\n",
      "**\n",
      "*\n"
     ]
    }
   ],
   "source": [
    "for j in range(5):\n",
    "    print('*'*(5-j))"
   ]
  },
  {
   "cell_type": "markdown",
   "metadata": {},
   "source": [
    "5) 아래와 같은 패턴의 별(*)을 출력하는 프로그램을 작성해 보세요.\n",
    "```\n",
    "  *\n",
    " ***\n",
    "*****\n",
    " ***\n",
    "  *\n",
    "```"
   ]
  },
  {
   "cell_type": "code",
   "execution_count": 5,
   "metadata": {
    "collapsed": false
   },
   "outputs": [
    {
     "name": "stdout",
     "output_type": "stream",
     "text": [
      "  *\n",
      " ***\n",
      "*****\n",
      " ***\n",
      "  *\n"
     ]
    }
   ],
   "source": [
    "for j in range(5):\n",
    "    print(' '*abs(2-j) + '*'*(5-2*abs(2-1*j)))"
   ]
  },
  {
   "cell_type": "markdown",
   "metadata": {},
   "source": [
    "<br><br><br>\n",
    "# 함수\n",
    "-----------------------"
   ]
  },
  {
   "cell_type": "markdown",
   "metadata": {},
   "source": [
    "1) 두 개의 정수 값을 받아 두 값의 평균을 구하는 함수를 작성하세요.\n",
    "\n",
    "```python\n",
    "def myaverage(a, b):\n",
    "    # 함수 구현\n",
    "```"
   ]
  },
  {
   "cell_type": "code",
   "execution_count": 3,
   "metadata": {
    "collapsed": false
   },
   "outputs": [
    {
     "name": "stdout",
     "output_type": "stream",
     "text": [
      "3.5\n"
     ]
    }
   ],
   "source": [
    "def myaverage(a,b):\n",
    "    return ((a+b)/2) \n",
    "\n",
    "print(myaverage(3,4))"
   ]
  },
  {
   "cell_type": "markdown",
   "metadata": {},
   "source": [
    "2) 함수의 입력인자로 [1,2,3,4,5] (데이터 꾸러미)를 받은 후 모든 정수 값에 대한 최댓값과 최솟값을 반환하는 함수를 작성하세요.\n",
    "\n",
    "```python\n",
    "def get_max_min(data_list):\n",
    "    # 함수 구현\n",
    "```"
   ]
  },
  {
   "cell_type": "code",
   "execution_count": 4,
   "metadata": {
    "collapsed": false
   },
   "outputs": [
    {
     "name": "stdout",
     "output_type": "stream",
     "text": [
      "5 1\n"
     ]
    }
   ],
   "source": [
    "def get_max_min(data_list):\n",
    "    max_val = max(data_list)\n",
    "    min_val = min(data_list)\n",
    "    return max_val, min_val\n",
    "\n",
    "ma, mi = get_max_min([1, 2, 3, 4, 5])\n",
    "print(ma, mi)"
   ]
  },
  {
   "cell_type": "markdown",
   "metadata": {},
   "source": [
    "3) 체질량 지수(Body Mass Index, BMI)는 인간의 비만도를 나타내는 지수로서 체중과 키의 관계로 아래의 수식을 통해 계산됩니다. 여기서 중요한 점은 체중의 단위는 킬로그램(kg)이고 신장의 단위는 미터(m)라는 점입니다.\n",
    "\n",
    "$$\n",
    "BMI=\\frac{체중(kg)}{신장(m)^2}\n",
    "$$ \n",
    "\n",
    "일반적으로 BMI 값에 따라 다음과 같이 체형을 분류하고 있습니다.\n",
    "\n",
    "- BMI <18.5, 마른체형\n",
    "- 18.5 <= BMI < 25.0, 표준\n",
    "- 25.0 <= BMI < 30.0, 비만\n",
    "- BMI >= 30.0, 고도 비만\n",
    "\n",
    "함수의 인자로 체중(kg)과 신장(cm)을 받은 후 BMI 값에 따라 '마른체형', '표준', '비만', '고도 비만' 중 하나를 출력하는 함수를 작성하세요."
   ]
  },
  {
   "cell_type": "code",
   "execution_count": 2,
   "metadata": {
    "collapsed": false
   },
   "outputs": [
    {
     "name": "stdout",
     "output_type": "stream",
     "text": [
      "비만\n",
      "마른체형\n"
     ]
    }
   ],
   "source": [
    "def bmi(weight, height):\n",
    "    height = height * 0.01\n",
    "    bmi = weight / (height * height)\n",
    "    \n",
    "    if bmi < 18.5:\n",
    "        print(\"마른체형\")\n",
    "    elif 18.5 <= bmi < 25.0:\n",
    "        print(\"표준\")\n",
    "    elif 25.0 <= bmi < 30.0:\n",
    "        print(\"비만\")\n",
    "    else:\n",
    "        print(\"고도비만\")\n",
    "\n",
    "bmi(67, 150)\n",
    "bmi(60, 187)"
   ]
  },
  {
   "cell_type": "markdown",
   "metadata": {},
   "source": [
    "4) 삼각형의 밑변과 높이를 입력받은 후 삼각형의 면적을 계산하는 함수를 작성하세요.\n",
    "```python\n",
    "def get_triangle_area(width, height):\n",
    "    # 함수 구현\n",
    "```"
   ]
  },
  {
   "cell_type": "code",
   "execution_count": null,
   "metadata": {
    "collapsed": false
   },
   "outputs": [],
   "source": [
    "def get_triangle_area(width, height):\n",
    "    return width * height / 2\n",
    "\n",
    "get_triangle_area(10, 3)"
   ]
  },
  {
   "cell_type": "markdown",
   "metadata": {},
   "source": [
    "5) 함수의 인자로 시작과 끝 숫자를 받아 시작부터 끝까지의 모든 정수값의 합을 반환하는 함수를 작성하세요(시작값과 끝값을 포함).\n",
    "\n",
    "```python\n",
    "def add_start_to_end(start, end):\n",
    "    # 함수 구현\n",
    "```"
   ]
  },
  {
   "cell_type": "code",
   "execution_count": 5,
   "metadata": {
    "collapsed": false
   },
   "outputs": [
    {
     "data": {
      "text/plain": [
       "55"
      ]
     },
     "execution_count": 5,
     "metadata": {},
     "output_type": "execute_result"
    }
   ],
   "source": [
    "def add_start_to_end(start, end):\n",
    "    return sum(range(start, end+1))\n",
    "\n",
    "add_start_to_end(1,10)"
   ]
  },
  {
   "cell_type": "markdown",
   "metadata": {},
   "source": [
    "6) 함수의 인자로 문자열 입력될 때 각 문자열의 첫 세 글자로만 구성된 문자열을 반환하는 함수를 작성하세요. 예를 들어, \n",
    "\n",
    "함수의 입력으로 'Seoul', 'Daegu', 'Kwangju', 'Jeju' 등이 입력될 때 \n",
    "\n",
    "함수의 반환값은 'Seo', 'Dae', 'Kwa', 'Jej'입니다."
   ]
  },
  {
   "cell_type": "code",
   "execution_count": 7,
   "metadata": {
    "collapsed": false
   },
   "outputs": [
    {
     "data": {
      "text/plain": [
       "'Seo'"
      ]
     },
     "execution_count": 7,
     "metadata": {},
     "output_type": "execute_result"
    }
   ],
   "source": [
    "def get_three_letters(data):         \n",
    "    a = data[:3]\n",
    "    return a\n",
    "\n",
    "get_three_letters('Seoul')"
   ]
  },
  {
   "cell_type": "code",
   "execution_count": 8,
   "metadata": {
    "collapsed": false
   },
   "outputs": [
    {
     "data": {
      "text/plain": [
       "['Seo', 'Dae', 'Kwa', 'Jej']"
      ]
     },
     "execution_count": 8,
     "metadata": {},
     "output_type": "execute_result"
    }
   ],
   "source": [
    "# 여러 데이터를 한번에 입력할 때\n",
    "def get_three_letters(data):         \n",
    "    dummy = []\n",
    "    for j in data:\n",
    "        dummy.append(j[:3])\n",
    "        \n",
    "    return dummy\n",
    "\n",
    "# 또는 한줄 (list comprehension) 을 사용하여\n",
    "#   return [j[:3] for j in data]\n",
    "    \n",
    "\n",
    "get_three_letters(['Seoul', 'Daegu', 'Kwangju', 'Jeju'])"
   ]
  }
 ],
 "metadata": {
  "anaconda-cloud": {},
  "kernelspec": {
   "display_name": "Python 3",
   "language": "python",
   "name": "python3"
  },
  "language_info": {
   "codemirror_mode": {
    "name": "ipython",
    "version": 3
   },
   "file_extension": ".py",
   "mimetype": "text/x-python",
   "name": "python",
   "nbconvert_exporter": "python",
   "pygments_lexer": "ipython3",
   "version": "3.5.1"
  }
 },
 "nbformat": 4,
 "nbformat_minor": 0
}
