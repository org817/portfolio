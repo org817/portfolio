{
 "cells": [
  {
   "cell_type": "code",
   "execution_count": null,
   "metadata": {
    "collapsed": false
   },
   "outputs": [],
   "source": [
    "from bs4 import BeautifulSoup\n",
    "import requests\n",
    "import random\n",
    "import pandas as pd"
   ]
  },
  {
   "cell_type": "code",
   "execution_count": null,
   "metadata": {
    "collapsed": false
   },
   "outputs": [],
   "source": [
    "proxy_list = pd.read_table('proxy2.txt',sep='\\t', header=-1)\n",
    "header_list = pd.read_table('header.txt',sep='\\t', header=-1)\n",
    "\n",
    "base_url = 'https://seekingalpha.com/earnings/earnings-call-transcripts/'"
   ]
  },
  {
   "cell_type": "code",
   "execution_count": null,
   "metadata": {
    "collapsed": true
   },
   "outputs": [],
   "source": [
    "def reset_proxy():\n",
    "    rand_sample = random.sample(range(len(proxy_list)), 1)\n",
    "\n",
    "    rand_ip = proxy_list.ix[rand_sample][0].values\n",
    "    rand_port = proxy_list.ix[rand_sample][1].values\n",
    "\n",
    "    proxy_target = (str(*rand_ip) +':'+  str(*rand_port))\n",
    "#     print(proxy_target)\n",
    "    \n",
    "    return proxy_target"
   ]
  },
  {
   "cell_type": "code",
   "execution_count": null,
   "metadata": {
    "collapsed": true
   },
   "outputs": [],
   "source": [
    "def reset_header():\n",
    "    rand_sample = random.sample(range(len(header_list)), 1)\n",
    "\n",
    "    rand_header = header_list.ix[rand_sample][0].values\n",
    "\n",
    "    header_target = (str(*rand_header))\n",
    "#     print(header_target)\n",
    "    \n",
    "    return header_target"
   ]
  },
  {
   "cell_type": "code",
   "execution_count": null,
   "metadata": {
    "collapsed": true
   },
   "outputs": [],
   "source": [
    "def save_call_urls(filename, sitemap):\n",
    "    path = 'D:/Crawl/call_urls.txt'\n",
    "    log_path = 'D:/Crawl/call_logs.txt'\n",
    "    \n",
    "    with open(path, 'a') as f:\n",
    "        f.write('\\n')\n",
    "        f.write('\\n'.join(sitemap))\n",
    "        \n",
    "    with open(log_path, 'a') as f:\n",
    "        f.write(filename + ' : ' + str(len(sitemap)) + '\\n')"
   ]
  },
  {
   "cell_type": "code",
   "execution_count": null,
   "metadata": {
    "collapsed": true
   },
   "outputs": [],
   "source": [
    "def save_error_urls(filename):\n",
    "    path = 'D:/Crawl/error_call_urls.txt'\n",
    "        \n",
    "    with open(path, 'a') as f:\n",
    "        f.write('\\n')\n",
    "        f.write(filename + ' error ' + '\\n')"
   ]
  },
  {
   "cell_type": "code",
   "execution_count": null,
   "metadata": {
    "collapsed": true
   },
   "outputs": [],
   "source": [
    "def get_earning_pages(url):\n",
    "\n",
    "    headers = {'User-Agent': reset_header()}\n",
    "    proxy_dict = {'http': reset_proxy()}\n",
    "    \n",
    "    response = requests.get(url, headers=headers, proxies=proxy_dict)\n",
    "    \n",
    "    if (response.status_code == 200):\n",
    "#         print(url, \": \", response.status_code)\n",
    "\n",
    "        soup = BeautifulSoup(response.content, 'html.parser')\n",
    "        sitemap = []\n",
    "        \n",
    "        for loc in soup.find_all('li', class_='article'):\n",
    "            if loc.get('data-id') not in sitemap:\n",
    "                sitemap.append(loc.get('data-id'))\n",
    "    #         print(len(sitemap))\n",
    "    #         print(sitemap[:5])\n",
    "        \n",
    "        return sitemap\n",
    "    else:\n",
    "        print(response.status_code)\n",
    "        save_error_urls(url)\n",
    "        return None"
   ]
  },
  {
   "cell_type": "code",
   "execution_count": null,
   "metadata": {
    "collapsed": false
   },
   "outputs": [],
   "source": [
    "import time\n",
    "import random"
   ]
  },
  {
   "cell_type": "code",
   "execution_count": null,
   "metadata": {
    "collapsed": false
   },
   "outputs": [],
   "source": [
    "print('----------start-------------')\n",
    "\n",
    "for i in range(4421):\n",
    "    print(i, end=' ')\n",
    "    url = base_url + str(i+1)\n",
    "    sitemap = get_earning_pages(url)\n",
    "    \n",
    "    if (sitemap is not None):\n",
    "        save_call_urls('earning-call-transcripts / ' + str(i), sitemap)\n",
    "    else:\n",
    "        pass\n",
    "    \n",
    "    randtime = 1 + 1*round(random.random(),2)\n",
    "    time.sleep(randtime)\n",
    "\n",
    "print('\\n----------end-------------')"
   ]
  },
  {
   "cell_type": "code",
   "execution_count": null,
   "metadata": {
    "collapsed": false
   },
   "outputs": [],
   "source": [
    "missed = []\n",
    "\n",
    "with open('D:/Crawl/data/error_call_urls.txt', 'r') as f:\n",
    "    missing = f.readlines()\n",
    "    for lines in missing:\n",
    "        if lines.startswith('http'):\n",
    "            missed.append(int(lines.replace('\\n','').split('/')[-1].split(' ')[0]))\n",
    "        \n",
    "print(missed)\n",
    "\n",
    "print('----------start-------------')\n",
    "\n",
    "for i in missed:\n",
    "    print(i, end=' ')\n",
    "    url = base_url + str(i)\n",
    "    sitemap = get_earning_pages(url)\n",
    "    \n",
    "    if (sitemap is not None):\n",
    "        save_call_urls('earning-call-transcripts / ' + str(i), sitemap)\n",
    "    else:\n",
    "        pass\n",
    "    \n",
    "    randtime = 1 + 1*round(random.random(),2)\n",
    "    time.sleep(randtime)\n",
    "\n",
    "print('\\n----------end-------------')"
   ]
  }
 ],
 "metadata": {
  "anaconda-cloud": {},
  "kernelspec": {
   "display_name": "Python [default]",
   "language": "python",
   "name": "python3"
  },
  "language_info": {
   "codemirror_mode": {
    "name": "ipython",
    "version": 3
   },
   "file_extension": ".py",
   "mimetype": "text/x-python",
   "name": "python",
   "nbconvert_exporter": "python",
   "pygments_lexer": "ipython3",
   "version": "3.5.2"
  }
 },
 "nbformat": 4,
 "nbformat_minor": 1
}
