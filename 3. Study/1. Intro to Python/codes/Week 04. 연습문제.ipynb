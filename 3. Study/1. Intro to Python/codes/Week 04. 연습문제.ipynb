{
 "cells": [
  {
   "cell_type": "markdown",
   "metadata": {},
   "source": [
    "# Week 4.연습문제 이자 숙제 이자 괴롭힘\n",
    "-----------------------"
   ]
  },
  {
   "cell_type": "markdown",
   "metadata": {},
   "source": [
    "<br><br><br>\n",
    "# 어려운 문제\n",
    "-----------------------"
   ]
  },
  {
   "cell_type": "markdown",
   "metadata": {},
   "source": [
    "1) range와 유사한 frange 함수를 만들어라. frange는 실수 리스트를 리턴한다. frange의 기본 시작 값은 0.0이고 기본 단계 값은 0.25이다. frange(5.0), frange(10.0, 3.0, 0.1) 등이 동작하도록 하라"
   ]
  },
  {
   "cell_type": "code",
   "execution_count": 6,
   "metadata": {
    "collapsed": false
   },
   "outputs": [],
   "source": [
    "# input your code"
   ]
  },
  {
   "cell_type": "markdown",
   "metadata": {},
   "source": [
    "2) 함수 sum을 정의하라. 이 함수는 임의의 개수의 인수를 받아서 그 합을 계산한다. 예를 들면 sum()은 0을, sum(1,2)은 3을, sum(1,5,7,2,3)은 18을 리턴한다."
   ]
  },
  {
   "cell_type": "code",
   "execution_count": null,
   "metadata": {
    "collapsed": true
   },
   "outputs": [],
   "source": [
    "# input your code"
   ]
  },
  {
   "cell_type": "markdown",
   "metadata": {},
   "source": [
    "3) 다음 보기의 일반 함수로 사용해서 실행된 g 함수를, `lambda` 함수를 사용해서 실행하라.\n",
    "```python\n",
    "def f1(x) :\n",
    "    return x*x + 3*x - 10\n",
    "\n",
    "def g(func) :\n",
    "    return [func(x) for x in range(-10, 10)]\n",
    "```"
   ]
  },
  {
   "cell_type": "code",
   "execution_count": null,
   "metadata": {
    "collapsed": true
   },
   "outputs": [],
   "source": [
    "# input your code"
   ]
  },
  {
   "cell_type": "markdown",
   "metadata": {},
   "source": [
    "4) 다음 예제(for를 통해 구현)를, map을 이용해서 구현하라.\n",
    "```python\n",
    "def f(x) :\n",
    "    return x*x\n",
    "X = [1, 2, 3, 4, 5]\n",
    "Y = []\n",
    "for x in X :\n",
    "    y = f(x)\n",
    "    Y.append(y)\n",
    "    \n",
    "print(X)    \n",
    "print(Y)\n",
    "\n",
    ">>> [1, 2, 3, 4, 5]\n",
    ">>> [1, 4, 9, 16, 25]\n",
    "```"
   ]
  },
  {
   "cell_type": "code",
   "execution_count": null,
   "metadata": {
    "collapsed": true
   },
   "outputs": [],
   "source": [
    "# input your code"
   ]
  },
  {
   "cell_type": "markdown",
   "metadata": {},
   "source": [
    "5) 다음 예제(for를 통해 구현)를, filter를 이용해서 구현하라.\n",
    "```python\n",
    "X = [1, 2, 3, 4, 5, 6]\n",
    "Y = []\n",
    "for x in X :\n",
    "    if x % 2 :\n",
    "        Y.append(x)\n",
    "\n",
    "print(X)\n",
    "print(Y)\n",
    ">>> [1, 2, 3, 4, 5, 6]\n",
    ">>> [1, 3, 5]\n",
    "```"
   ]
  },
  {
   "cell_type": "code",
   "execution_count": null,
   "metadata": {
    "collapsed": true
   },
   "outputs": [],
   "source": [
    "# input your code"
   ]
  },
  {
   "cell_type": "markdown",
   "metadata": {},
   "source": [
    "6) 다음 예제(for를 통해 구현)를, map을 이용해서 구현하라.\n",
    "\n",
    "```python\n",
    "x = 0\n",
    "Y = range(1,11)\n",
    "\n",
    "# 1부터 10까지 각 값의 제곱의 합.\n",
    "for y in Y :\n",
    "    x = x + y * y\n",
    "    \n",
    "print(Y)\n",
    "print(x)\n",
    ">>> [1, 2, 3, 4, 5, 6, 7, 8, 9, 10]\n",
    ">>> 385\n",
    "```"
   ]
  },
  {
   "cell_type": "code",
   "execution_count": null,
   "metadata": {
    "collapsed": true
   },
   "outputs": [],
   "source": [
    "# input your code"
   ]
  },
  {
   "cell_type": "markdown",
   "metadata": {},
   "source": [
    "7) 주어진 문자열(예 : 'as soon as possible')에서 각 단어의 첫 글자를 취해서 하나의 단어를 만들어라 (split, map, join 을 활용\n",
    "\n",
    "- input : 'as soon as possible'\n",
    "- output : 'asap'"
   ]
  },
  {
   "cell_type": "code",
   "execution_count": null,
   "metadata": {
    "collapsed": true
   },
   "outputs": [],
   "source": [
    "# input your code"
   ]
  }
 ],
 "metadata": {
  "anaconda-cloud": {},
  "kernelspec": {
   "display_name": "Python 3",
   "language": "python",
   "name": "python3"
  },
  "language_info": {
   "codemirror_mode": {
    "name": "ipython",
    "version": 3
   },
   "file_extension": ".py",
   "mimetype": "text/x-python",
   "name": "python",
   "nbconvert_exporter": "python",
   "pygments_lexer": "ipython3",
   "version": "3.5.1"
  }
 },
 "nbformat": 4,
 "nbformat_minor": 0
}
