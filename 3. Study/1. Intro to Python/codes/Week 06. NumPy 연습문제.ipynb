{
 "cells": [
  {
   "cell_type": "markdown",
   "metadata": {},
   "source": [
    "# numpy 기초\n",
    "-----------------\n",
    "- (numpy 기본) 문제 1. ndarray 다루기 (1)\n",
    "- (numpy 선형대수) 문제 3. 선형방정식 풀기(해 구하기)"
   ]
  },
  {
   "cell_type": "markdown",
   "metadata": {},
   "source": [
    "# 다음 데이터를 사용하시오\n",
    "> 2, 3, 5, 6, 7, 10"
   ]
  },
  {
   "cell_type": "markdown",
   "metadata": {},
   "source": [
    "<br><br><br>\n",
    "\n",
    "# ndarray 다루기\n",
    "-------------------------"
   ]
  },
  {
   "cell_type": "code",
   "execution_count": 1,
   "metadata": {
    "collapsed": true
   },
   "outputs": [],
   "source": [
    "import numpy as np"
   ]
  },
  {
   "cell_type": "markdown",
   "metadata": {},
   "source": [
    "### 1) 데이터 벡터 x를 만드시오"
   ]
  },
  {
   "cell_type": "code",
   "execution_count": 2,
   "metadata": {
    "collapsed": false
   },
   "outputs": [
    {
     "name": "stdout",
     "output_type": "stream",
     "text": [
      "[ 2  3  5  6  7 10]\n"
     ]
    }
   ],
   "source": [
    "data_x = np.array([2,3,5,6,7,10])\n",
    "print(data_x)"
   ]
  },
  {
   "cell_type": "markdown",
   "metadata": {},
   "source": [
    "### 2) 각 데이터의 제곱으로 구성된 벡터 x2를 만드시오"
   ]
  },
  {
   "cell_type": "code",
   "execution_count": 3,
   "metadata": {
    "collapsed": false
   },
   "outputs": [
    {
     "name": "stdout",
     "output_type": "stream",
     "text": [
      "[ 4  6 10 12 14 20]\n"
     ]
    }
   ],
   "source": [
    "x_squared = data_x*2\n",
    "print(x_squared)"
   ]
  },
  {
   "cell_type": "markdown",
   "metadata": {},
   "source": [
    "###  3) 각 데이터의 제곱의 합을 구하시오"
   ]
  },
  {
   "cell_type": "code",
   "execution_count": 4,
   "metadata": {
    "collapsed": false
   },
   "outputs": [
    {
     "name": "stdout",
     "output_type": "stream",
     "text": [
      "66\n"
     ]
    }
   ],
   "source": [
    "sum_squared = x_squared.sum()\n",
    "print(sum_squared)"
   ]
  },
  {
   "cell_type": "markdown",
   "metadata": {},
   "source": [
    "### 4) 각 데이터에서 2를 뺀 값을 구하시오"
   ]
  },
  {
   "cell_type": "code",
   "execution_count": 5,
   "metadata": {
    "collapsed": false
   },
   "outputs": [
    {
     "name": "stdout",
     "output_type": "stream",
     "text": [
      "[0 1 3 4 5 8]\n"
     ]
    }
   ],
   "source": [
    "minus_2 = data_x - 2\n",
    "print(minus_2)"
   ]
  },
  {
   "cell_type": "markdown",
   "metadata": {},
   "source": [
    "### 5) 최대값과 최소값을 구하시오"
   ]
  },
  {
   "cell_type": "code",
   "execution_count": 6,
   "metadata": {
    "collapsed": false
   },
   "outputs": [
    {
     "name": "stdout",
     "output_type": "stream",
     "text": [
      "10\n"
     ]
    }
   ],
   "source": [
    "x_max = max(data_x)\n",
    "print(x_max)"
   ]
  },
  {
   "cell_type": "markdown",
   "metadata": {},
   "source": [
    "### 6) 5보다 큰 값들로만 구성된 데이터 벡터 x_up을 만드시오"
   ]
  },
  {
   "cell_type": "code",
   "execution_count": 7,
   "metadata": {
    "collapsed": false
   },
   "outputs": [
    {
     "name": "stdout",
     "output_type": "stream",
     "text": [
      "[ 6  7 10]\n"
     ]
    }
   ],
   "source": [
    "x_up = data_x[data_x > 5]\n",
    "print(x_up)"
   ]
  },
  {
   "cell_type": "markdown",
   "metadata": {},
   "source": [
    "### 7) 벡터 x의 길이를 구하시오"
   ]
  },
  {
   "cell_type": "code",
   "execution_count": 8,
   "metadata": {
    "collapsed": false
   },
   "outputs": [
    {
     "name": "stdout",
     "output_type": "stream",
     "text": [
      "(6,)\n"
     ]
    }
   ],
   "source": [
    "print(data_x.shape)"
   ]
  },
  {
   "cell_type": "markdown",
   "metadata": {},
   "source": [
    "### 8) x'x를 구하시오 (x'는 x의 전치)"
   ]
  },
  {
   "cell_type": "code",
   "execution_count": 9,
   "metadata": {
    "collapsed": false
   },
   "outputs": [
    {
     "name": "stdout",
     "output_type": "stream",
     "text": [
      "[[223]]\n"
     ]
    }
   ],
   "source": [
    "new_x = data_x[:, np.newaxis]\n",
    "\n",
    "dot_p = np.dot(new_x.T, new_x)\n",
    "print(dot_p)"
   ]
  },
  {
   "cell_type": "markdown",
   "metadata": {},
   "source": [
    "### 9) xx'를 구하시오"
   ]
  },
  {
   "cell_type": "code",
   "execution_count": 10,
   "metadata": {
    "collapsed": false
   },
   "outputs": [
    {
     "name": "stdout",
     "output_type": "stream",
     "text": [
      "[[  4   6  10  12  14  20]\n",
      " [  6   9  15  18  21  30]\n",
      " [ 10  15  25  30  35  50]\n",
      " [ 12  18  30  36  42  60]\n",
      " [ 14  21  35  42  49  70]\n",
      " [ 20  30  50  60  70 100]]\n"
     ]
    }
   ],
   "source": [
    "dot_p_prime = np.dot(new_x, new_x.T)\n",
    "print(dot_p_prime)"
   ]
  },
  {
   "cell_type": "markdown",
   "metadata": {},
   "source": [
    "### 10) 벡터 x와 x2를 열결합(column bind)하여 xc에 저장하시오"
   ]
  },
  {
   "cell_type": "code",
   "execution_count": 11,
   "metadata": {
    "collapsed": true
   },
   "outputs": [],
   "source": [
    "x = np.array([1,2,3])\n",
    "x2 = np.array([4,5,6])"
   ]
  },
  {
   "cell_type": "code",
   "execution_count": 12,
   "metadata": {
    "collapsed": false
   },
   "outputs": [
    {
     "name": "stdout",
     "output_type": "stream",
     "text": [
      "[[1 2 3]\n",
      " [4 5 6]]\n"
     ]
    }
   ],
   "source": [
    "xc = np.vstack([x,x2])\n",
    "print(xc)"
   ]
  },
  {
   "cell_type": "markdown",
   "metadata": {},
   "source": [
    "### 11) 벡터 x와 x2를 행결합(row bind)하여 xr에 저장하시오"
   ]
  },
  {
   "cell_type": "code",
   "execution_count": 13,
   "metadata": {
    "collapsed": false
   },
   "outputs": [
    {
     "name": "stdout",
     "output_type": "stream",
     "text": [
      "[1 2 3 4 5 6]\n"
     ]
    }
   ],
   "source": [
    "xr = np.hstack([x,x2])\n",
    "print(xr)"
   ]
  },
  {
   "cell_type": "markdown",
   "metadata": {},
   "source": [
    "### 13) 표준정규분포를 따르는 난수 100개를 가진 배열 x를 만드시오"
   ]
  },
  {
   "cell_type": "code",
   "execution_count": 14,
   "metadata": {
    "collapsed": false
   },
   "outputs": [
    {
     "name": "stdout",
     "output_type": "stream",
     "text": [
      "[[ 0.71326504  0.55817042 -0.63353538 -1.35001787  1.5350557 ]\n",
      " [ 0.96018057 -0.01842479 -1.79121989  1.36010807  0.08736905]\n",
      " [-0.27718295  0.69184632  1.41256522 -0.92992509 -0.33175192]\n",
      " [-1.12490873  0.81877697 -1.64605674  0.07150608 -1.7122869 ]\n",
      " [ 0.07975725 -0.66640042 -0.03815047 -0.41708099 -1.47660526]\n",
      " [-1.63661272  0.80843467 -0.83001601  0.85114314 -0.59648605]\n",
      " [ 0.76034679 -0.36358512 -1.73287446 -0.58278367 -0.30182337]\n",
      " [-1.2863477  -0.45607201 -0.59105084 -0.15063118  1.87224124]\n",
      " [ 0.13899556 -0.77297926 -0.36633314 -1.3192902  -2.07055309]\n",
      " [ 1.49504343 -0.0532928   0.10838806  0.87148928 -0.43108975]\n",
      " [ 1.15923789  1.81666972 -0.74014828  1.56106679 -0.99594718]\n",
      " [-0.11502549 -0.35079373  0.07325027  0.21939142 -0.91951358]\n",
      " [ 0.57288065  1.0464463   0.12376041 -1.69156995  0.63983133]\n",
      " [ 0.23048235 -0.13781658 -1.04887919  1.11946474  0.63223717]\n",
      " [-0.76390733 -1.40855146 -0.56026777  1.28265924  0.76755034]\n",
      " [-0.54022186  0.51327851 -0.26259679 -0.58054404  1.01087872]\n",
      " [-1.74154534 -0.13624602  0.16059374  0.67384526  0.44155737]\n",
      " [ 0.33126197 -0.26792302 -1.69695922 -1.6630509  -0.54608995]\n",
      " [ 0.32789984  0.79239252 -0.35576294 -2.331994    0.0469796 ]\n",
      " [ 1.47034336  0.22302484 -0.38036285  0.60448672 -0.94543764]]\n"
     ]
    }
   ],
   "source": [
    "x_rand = np.array(np.random.randn(20,5))\n",
    "print(x_rand)"
   ]
  },
  {
   "cell_type": "markdown",
   "metadata": {},
   "source": [
    "### 14) x에서 값이 0.2 보다 큰 원소들을 골라내시오"
   ]
  },
  {
   "cell_type": "code",
   "execution_count": 15,
   "metadata": {
    "collapsed": false
   },
   "outputs": [
    {
     "name": "stdout",
     "output_type": "stream",
     "text": [
      "[ 0.71326504  0.55817042  1.5350557   0.96018057  1.36010807  0.69184632\n",
      "  1.41256522  0.81877697  0.80843467  0.85114314  0.76034679  1.87224124\n",
      "  1.49504343  0.87148928  1.15923789  1.81666972  1.56106679  0.21939142\n",
      "  0.57288065  1.0464463   0.63983133  0.23048235  1.11946474  0.63223717\n",
      "  1.28265924  0.76755034  0.51327851  1.01087872  0.67384526  0.44155737\n",
      "  0.33126197  0.32789984  0.79239252  1.47034336  0.22302484  0.60448672]\n"
     ]
    }
   ],
   "source": [
    "x_over = x_rand[x_rand > 0.2]\n",
    "print(x_over)"
   ]
  },
  {
   "cell_type": "markdown",
   "metadata": {},
   "source": [
    "<br><br><br>\n",
    "\n",
    "# 선형방정식 풀기(해 구하기)\n",
    "-----------------------"
   ]
  },
  {
   "cell_type": "markdown",
   "metadata": {},
   "source": [
    "# 다음과 같은 방정식이 있다\n",
    "```python\n",
    "3x + 6y - 5z = 12\n",
    "x - 3y + 2z = -2\n",
    "5x - y + 4z = 10\n",
    "```"
   ]
  },
  {
   "cell_type": "markdown",
   "metadata": {},
   "source": [
    "### 1) 위 식을 numpy를 이용해서 Ax=B 형태로 나타내시오 (A와 B만 생성)"
   ]
  },
  {
   "cell_type": "code",
   "execution_count": 16,
   "metadata": {
    "collapsed": false
   },
   "outputs": [
    {
     "name": "stdout",
     "output_type": "stream",
     "text": [
      "(3, 3) (3, 1)\n"
     ]
    }
   ],
   "source": [
    "A = np.array([[3,6,-5],\n",
    "              [1,-3,2],\n",
    "              [5,-1,4]])\n",
    "\n",
    "b = np.array([[12],\n",
    "              [-2],\n",
    "              [10]])\n",
    "\n",
    "print(A.shape, b.shape)"
   ]
  },
  {
   "cell_type": "markdown",
   "metadata": {},
   "source": [
    "### 2) A의 역행렬을 구하시오"
   ]
  },
  {
   "cell_type": "code",
   "execution_count": 17,
   "metadata": {
    "collapsed": false
   },
   "outputs": [
    {
     "name": "stdout",
     "output_type": "stream",
     "text": [
      "[[ 0.15625   0.296875  0.046875]\n",
      " [-0.09375  -0.578125  0.171875]\n",
      " [-0.21875  -0.515625  0.234375]]\n"
     ]
    }
   ],
   "source": [
    "A_inv = np.linalg.inv(A)\n",
    "print(A_inv)"
   ]
  },
  {
   "cell_type": "markdown",
   "metadata": {},
   "source": [
    "### 3) 방정식의 해 벡터 x를 구하시오"
   ]
  },
  {
   "cell_type": "code",
   "execution_count": 18,
   "metadata": {
    "collapsed": false
   },
   "outputs": [
    {
     "name": "stdout",
     "output_type": "stream",
     "text": [
      "[[ 1.75]\n",
      " [ 1.75]\n",
      " [ 0.75]]\n"
     ]
    }
   ],
   "source": [
    "x = np.dot(A_inv, b)\n",
    "print(x)"
   ]
  }
 ],
 "metadata": {
  "anaconda-cloud": {},
  "kernelspec": {
   "display_name": "Python 3",
   "language": "python",
   "name": "python3"
  },
  "language_info": {
   "codemirror_mode": {
    "name": "ipython",
    "version": 3
   },
   "file_extension": ".py",
   "mimetype": "text/x-python",
   "name": "python",
   "nbconvert_exporter": "python",
   "pygments_lexer": "ipython3",
   "version": "3.5.1"
  }
 },
 "nbformat": 4,
 "nbformat_minor": 1
}
