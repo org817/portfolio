{
 "cells": [
  {
   "cell_type": "markdown",
   "metadata": {},
   "source": [
    "# Week1. 연습문제 해설\n",
    "------------"
   ]
  },
  {
   "cell_type": "markdown",
   "metadata": {},
   "source": [
    "## 그전에 이걸 먼저 볼까요?\n",
    "\n",
    "\n",
    "#### 왼쪽정렬\n",
    "```python\n",
    ">>>\"{0:<10}\".format(\"hi\")\n",
    "'hi        '\n",
    "```\n",
    "`:<10` 표현식을 이용하면 치환되는 문자열을 왼쪽으로 정렬하고 문자열의 총 자릿수를 10으로 맞출 수 있다.\n",
    "\n",
    "\n",
    "#### 오른쪽정렬\n",
    "```python\n",
    ">>>\"{0:>10}\".format(\"hi\")\n",
    "'        hi'\n",
    "```\n",
    "오른쪽 정렬은 `:>`을 이용하면 된다. 화살표 방향을 생각하면 어느 쪽으로 정렬이 되는지 금방 알 수 있을 것이다.\n",
    "\n",
    "\n",
    "#### 가운데정렬\n",
    "```python\n",
    " \"{0:^10}\".format(\"hi\")\n",
    "'    hi    '\n",
    "```\n",
    "`:^` 기호를 이용하면 가운데 정렬도 가능하다.\n",
    "\n",
    "\n",
    "#### 공백 채우기\n",
    "```python\n",
    ">>> \"{0:=^10}\".format(\"hi\")\n",
    "'====hi===='\n",
    ">>> \"{0:!<10}\".format(\"hi\")\n",
    "'hi!!!!!!!!'\n",
    "```\n",
    "정렬 시 공백 문자 대신에 지정한 문자 값으로 채워 넣는 것도 가능하다. 채워 넣을 문자 값은 정렬 문자인 <, >, ^ 바로 앞에 넣어야 한다. 위 예에서 첫 번째 예제는 가운데(^)로 정렬하고 빈 공간을 =문자로 채웠고, 두번째 예제는 왼쪽(<)으로 정렬하고 빈 공간을 !문자로 채웠다."
   ]
  },
  {
   "cell_type": "markdown",
   "metadata": {},
   "source": [
    "<br><br><br>\n",
    "# 문자열 \n",
    "--------------"
   ]
  },
  {
   "cell_type": "markdown",
   "metadata": {},
   "source": [
    "1) 화면에 \"pizza\"를 10번 출력하는 프로그램을 작성하세요.(노가다 제외)"
   ]
  },
  {
   "cell_type": "code",
   "execution_count": 2,
   "metadata": {
    "collapsed": false
   },
   "outputs": [
    {
     "name": "stdout",
     "output_type": "stream",
     "text": [
      "pizzapizzapizzapizzapizzapizzapizzapizzapizzapizza\n"
     ]
    }
   ],
   "source": [
    "print('pizza'*10)"
   ]
  },
  {
   "cell_type": "markdown",
   "metadata": {},
   "source": [
    "2) 다음 형식과 같이 이름, 생년월일, 주민등록번호를 출력하는 프로그램을 작성해 보세요.\n",
    "> 이름: '학생의 이름' 생년월일: 'yyyy년 mm월 dd일' 전화번호: 010-xxxx-xxxx"
   ]
  },
  {
   "cell_type": "code",
   "execution_count": 4,
   "metadata": {
    "collapsed": false
   },
   "outputs": [
    {
     "name": "stdout",
     "output_type": "stream",
     "text": [
      "이름:홍길동 생년월일: 2017년 05월 10일 전화번호:010-3471-3511\n",
      "a b\n"
     ]
    }
   ],
   "source": [
    "name = '홍길동'\n",
    "birth = '2017/05/10'\n",
    "phone = '010-3471-3511'\n",
    "\n",
    "string = '이름:%s 생년월일: %s년 %s월 %s일 전화번호:%s'%(name, birth.split('/')[0],\n",
    "                                            birth.split('/')[1],\n",
    "                                            birth.split('/')[2],\n",
    "                                            phone)\n",
    "print(string)\n",
    "\n"
   ]
  },
  {
   "cell_type": "markdown",
   "metadata": {},
   "source": [
    "3) company라는 변수에 'Daum KaKao'라는 문자열이 들어 있다고 했을 때, 우리가 배웠던 기능(인덱싱, 슬라이싱, 연결하기 등등) 을 이용하여 s의 값을 'KaKao Daum'으로 변경해 보세요."
   ]
  },
  {
   "cell_type": "code",
   "execution_count": 9,
   "metadata": {
    "collapsed": false
   },
   "outputs": [
    {
     "name": "stdout",
     "output_type": "stream",
     "text": [
      "KaKao Daum\n",
      "4\n",
      "KaKao Daum\n",
      "KaKao Daum\n"
     ]
    }
   ],
   "source": [
    "company = 'Daum KaKao'\n",
    "\n",
    "# 풀이 1번\n",
    "sliced_string = company.split()\n",
    "s = sliced_string[1] + ' ' + sliced_string[0]\n",
    "print(s)\n",
    "\n",
    "# 풀이 2번\n",
    "space_ind = company.index(' ') # company.find(' ')\n",
    "print(space_ind)\n",
    "s = company[space_ind+1:] + ' ' + company[:space_ind]\n",
    "print(s)\n",
    "\n",
    "# 풀이 3번\n",
    "a,b = company.split()\n",
    "s = ' '.join([b, a])\n",
    "print(s) # 또는 그냥 print(b,a)"
   ]
  },
  {
   "cell_type": "markdown",
   "metadata": {},
   "source": [
    "4) a라는 변수에 'hello world'라는 문자열이 들어 있다고 했을 때, a의 값을 'hi world'로 변경해 보세요."
   ]
  },
  {
   "cell_type": "code",
   "execution_count": 43,
   "metadata": {
    "collapsed": false
   },
   "outputs": [
    {
     "name": "stdout",
     "output_type": "stream",
     "text": [
      "hi world\n"
     ]
    }
   ],
   "source": [
    "a = 'hello world'\n",
    "\n",
    "a = a.replace('hello', 'hi')\n",
    "print(a)"
   ]
  },
  {
   "cell_type": "markdown",
   "metadata": {},
   "source": [
    "5) x라는 변수에 'abcdef'라는 문자열이 바인딩돼 있다고 했을 때 x의 값을 'bcdefa'로 변경해 보세요."
   ]
  },
  {
   "cell_type": "code",
   "execution_count": 54,
   "metadata": {
    "collapsed": false
   },
   "outputs": [
    {
     "name": "stdout",
     "output_type": "stream",
     "text": [
      "bcdefa\n"
     ]
    }
   ],
   "source": [
    "x = 'abcdef'\n",
    "shifted_x = x[1:] + x[0]\n",
    "print (shifted_x)"
   ]
  },
  {
   "cell_type": "markdown",
   "metadata": {},
   "source": [
    "<br><br><br>\n",
    "# 연산 \n",
    "--------------\n",
    "\n",
    "1) 다음(Daum)의 주가가 89,000원이고 네이버(Naver)의 주가가 751,000이라고 가정하고, 어떤 사람이 다음 주식 100주와 네이버 주식 20주를 가지고 있을 때 그 사람이 가지고 있는 주식의 총액을 계산해 보세요."
   ]
  },
  {
   "cell_type": "code",
   "execution_count": 11,
   "metadata": {
    "collapsed": false
   },
   "outputs": [
    {
     "name": "stdout",
     "output_type": "stream",
     "text": [
      "23920000\n"
     ]
    }
   ],
   "source": [
    "daum = 89000\n",
    "naver = 751000\n",
    "\n",
    "total = daum * 100 + naver * 20\n",
    "print(total)"
   ]
  },
  {
   "cell_type": "markdown",
   "metadata": {},
   "source": [
    "2) 문제1) 에서 구한 주식 총액에서 다음과 네이버의 주가가 각각 5%, 10% 하락한 경우에 손실액을 구하세요."
   ]
  },
  {
   "cell_type": "code",
   "execution_count": 12,
   "metadata": {
    "collapsed": false
   },
   "outputs": [
    {
     "name": "stdout",
     "output_type": "stream",
     "text": [
      "1947000.0\n"
     ]
    }
   ],
   "source": [
    "loss = (daum * 100 * 0.05) + (naver * 20 * 0.10)\n",
    "print(loss)"
   ]
  },
  {
   "cell_type": "markdown",
   "metadata": {},
   "source": [
    "3) 월요일에 네이버의 주가가 100만 원으로 시작해 3일 연속으로 하한가(-30%)를 기록했을 때 수요일의 종가를 계산해 보세요."
   ]
  },
  {
   "cell_type": "code",
   "execution_count": 31,
   "metadata": {
    "collapsed": false
   },
   "outputs": [
    {
     "name": "stdout",
     "output_type": "stream",
     "text": [
      "343000.0\n"
     ]
    }
   ],
   "source": [
    "monday_open = 1000000\n",
    "\n",
    "wednesday_close = monday_open * (0.7)**3\n",
    "print(round(wednesday_close,3))"
   ]
  },
  {
   "cell_type": "markdown",
   "metadata": {},
   "source": [
    "4) 화씨 온도(F)를 섭씨 온도(C)로 변환할 때는 다음과 같은 공식을 사용합니다. 이 공식을 사용해 화씨 온도가 50일 때의 섭씨 온도를 계산해 보세요.\n",
    "$$ C = (F-32)/1.8$$"
   ]
  },
  {
   "cell_type": "code",
   "execution_count": 9,
   "metadata": {
    "collapsed": true
   },
   "outputs": [],
   "source": [
    ">>> f = 50\n",
    ">>> c = (f-32) / 1.8\n",
    ">>> print(c)\n",
    "10.0"
   ]
  },
  {
   "cell_type": "markdown",
   "metadata": {},
   "source": [
    "<br><br><br>\n",
    "# 아주 어려운 문제 2개\n",
    "-------------------"
   ]
  },
  {
   "cell_type": "markdown",
   "metadata": {},
   "source": [
    "1) 다음에 주어진 문자열에서 모든 대문자를 소문자로 변환하고, 문자 ','와 '.'를 없앤 후에 각 단어를 순서대로 출력 해 보세요\n",
    "\n",
    "```python\n",
    "s = 'We propose to start by making it possible to teach programming in Python, an existing scripting language, and to focus on creating a new development environment and teaching materials for it.'\n",
    "```"
   ]
  },
  {
   "cell_type": "code",
   "execution_count": 18,
   "metadata": {
    "collapsed": false
   },
   "outputs": [
    {
     "name": "stdout",
     "output_type": "stream",
     "text": [
      "we propose to start by making it possible to teach programming in python an existing scripting language and to focus on creating a new development environment and teaching materials for it\n"
     ]
    }
   ],
   "source": [
    "s = 'We propose to start by making it possible to teach programming in Python, an existing scripting language, and to focus on creating a new development environment and teaching materials for it'\n",
    "\n",
    "s_deleted = s.lower().replace(',','').replace('.','')\n",
    "\n",
    "print(s_deleted)"
   ]
  },
  {
   "cell_type": "markdown",
   "metadata": {},
   "source": [
    "2) 위 문제에서 각 단어가 몇 번씩 나왔는지 확인 체크 하는 코드를 짜 보세요"
   ]
  },
  {
   "cell_type": "code",
   "execution_count": 19,
   "metadata": {
    "collapsed": false
   },
   "outputs": [
    {
     "name": "stdout",
     "output_type": "stream",
     "text": [
      "{'programming': 1, 'focus': 1, 'it': 2, 'teach': 1, 'new': 1, 'on': 1, 'possible': 1, 'scripting': 1, 'start': 1, 'propose': 1, 'for': 1, 'environment': 1, 'making': 1, 'in': 1, 'teaching': 1, 'a': 1, 'an': 1, 'materials': 1, 'to': 3, 'and': 2, 'language': 1, 'development': 1, 'by': 1, 'existing': 1, 'we': 1, 'python': 1, 'creating': 1}\n"
     ]
    }
   ],
   "source": [
    "word_counter ={}\n",
    "for word in s_deleted.split():\n",
    "    if word in word_counter:\n",
    "        word_counter[word] += 1\n",
    "    else:\n",
    "        word_counter[word] = 1\n",
    "\n",
    "print(word_counter)"
   ]
  },
  {
   "cell_type": "code",
   "execution_count": 76,
   "metadata": {
    "collapsed": false
   },
   "outputs": [
    {
     "name": "stdout",
     "output_type": "stream",
     "text": [
      "Counter({'to': 3, 'it': 2, 'and': 2, 'materials': 1, 'environment': 1, 'possible': 1, 'language,': 1, 'an': 1, 'on': 1, 'programming': 1, 'We': 1, 'making': 1, 'for': 1, 'start': 1, 'development': 1, 'propose': 1, 'new': 1, 'teach': 1, 'existing': 1, 'Python,': 1, 'creating': 1, 'teaching': 1, 'focus': 1, 'in': 1, 'a': 1, 'by': 1, 'scripting': 1})\n"
     ]
    }
   ],
   "source": [
    "import collections\n",
    "\n",
    "a = collections.Counter(s.split())\n",
    "print(a)"
   ]
  }
 ],
 "metadata": {
  "kernelspec": {
   "display_name": "Python 3",
   "language": "python",
   "name": "python3"
  },
  "language_info": {
   "codemirror_mode": {
    "name": "ipython",
    "version": 3
   },
   "file_extension": ".py",
   "mimetype": "text/x-python",
   "name": "python",
   "nbconvert_exporter": "python",
   "pygments_lexer": "ipython3",
   "version": "3.4.4"
  }
 },
 "nbformat": 4,
 "nbformat_minor": 0
}
