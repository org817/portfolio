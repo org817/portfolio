{
 "cells": [
  {
   "cell_type": "markdown",
   "metadata": {},
   "source": [
    "# Week 6. 쉽고 강력한 데이터프레임 라이브러리 - Pandas (3)\n",
    "\n",
    "\n",
    "<br><br><br>\n",
    "# 시계열 자료 다루기\n",
    "----------------------------------\n",
    "\n",
    "pandas에서 일반적인 테이블 형태의 자료와 시계열 자료의 차이점은 인덱스(Index)에 있다.\n",
    "\n",
    "일반적인 테이블 형태의 자료는 임의의 값을 인덱스로 가질 수 있지만 시계열 자료는`DatetimeIndex`: 타임스탬프 클래스를 인덱스로 가진다.\n",
    "\n",
    "<br><br><br>\n",
    "\n",
    "\n",
    "# DatetimeIndex\n",
    "----------------------------------\n",
    "`DatetimeIndex`는 특정한 순간에 기록된 타임스탬프(timestamp) 형식의 시계열 자료를 다루기 위한 인덱스이다. 타임스탬프 인덱스는 반드시 일정한 간격으로 자료가 있어야 한다는 조건은 없다.\n",
    "\n",
    "DatetimeIndex 타입의 인덱스는 보통 다음 방법으로 생성한다.\n",
    "- `pd.to_datetime` 함수\n",
    "- `pd.date_range` 함수\n",
    "\n",
    "\n",
    "## to_datetime"
   ]
  },
  {
   "cell_type": "code",
   "execution_count": 1,
   "metadata": {
    "collapsed": true
   },
   "outputs": [],
   "source": [
    "import pandas as pd\n",
    "import numpy as np"
   ]
  },
  {
   "cell_type": "code",
   "execution_count": 12,
   "metadata": {
    "collapsed": false,
    "scrolled": false
   },
   "outputs": [
    {
     "data": {
      "text/plain": [
       "DatetimeIndex(['2016-01-01', '2016-01-04', '2016-01-05', '2016-01-06'], dtype='datetime64[ns]', freq=None)"
      ]
     },
     "execution_count": 12,
     "metadata": {},
     "output_type": "execute_result"
    }
   ],
   "source": [
    "date_str = [\"2016, 1, 1\", \"2016, 1, 4\", \"2016, 1, 5\", \"2016, 1, 6\"]\n",
    "idx = pd.to_datetime(date_str)\n",
    "idx"
   ]
  },
  {
   "cell_type": "code",
   "execution_count": 13,
   "metadata": {
    "collapsed": false,
    "scrolled": true
   },
   "outputs": [
    {
     "data": {
      "text/plain": [
       "2016-01-01    1.764052\n",
       "2016-01-04    0.400157\n",
       "2016-01-05    0.978738\n",
       "2016-01-06    2.240893\n",
       "dtype: float64"
      ]
     },
     "execution_count": 13,
     "metadata": {},
     "output_type": "execute_result"
    }
   ],
   "source": [
    "np.random.seed(0)\n",
    "s = pd.Series(np.random.randn(4), index=idx)\n",
    "s"
   ]
  },
  {
   "cell_type": "markdown",
   "metadata": {
    "collapsed": true
   },
   "source": [
    "## date_range\n",
    "\n",
    "시작일과 종료일 또는 시작일과 기간을 입력하면 범위 내의 날짜 및 시간 인덱스 생성\n",
    "`period` 인수 : 시작일로부터 몇일 동안\n",
    "`freq` 인수\n",
    "   - `T`: 시간별\n",
    "   - `D`: 일별\n",
    "   - `B`: Business day\n",
    "   - `BMS`: 매월 근무 날짜로 초일\n",
    "   - `MS`: 매월 초일\n",
    "   - `M`: 매월 말일\n",
    "   - `W-MON`: 매주 월요일\n",
    "   - http://pandas.pydata.org/pandas-docs/stable/timeseries.html#dateoffset-objects\n"
   ]
  },
  {
   "cell_type": "code",
   "execution_count": 2,
   "metadata": {
    "collapsed": false
   },
   "outputs": [
    {
     "data": {
      "text/plain": [
       "DatetimeIndex(['2016-04-01', '2016-04-04', '2016-04-05', '2016-04-06',\n",
       "               '2016-04-07', '2016-04-08', '2016-04-11', '2016-04-12',\n",
       "               '2016-04-13', '2016-04-14', '2016-04-15', '2016-04-18',\n",
       "               '2016-04-19', '2016-04-20', '2016-04-21', '2016-04-22',\n",
       "               '2016-04-25', '2016-04-26', '2016-04-27', '2016-04-28',\n",
       "               '2016-04-29'],\n",
       "              dtype='datetime64[ns]', freq='B')"
      ]
     },
     "execution_count": 2,
     "metadata": {},
     "output_type": "execute_result"
    }
   ],
   "source": [
    "pd.date_range(\"2016-4-1\", \"2016-4-30\", freq='B')"
   ]
  },
  {
   "cell_type": "markdown",
   "metadata": {},
   "source": [
    "## shift 연산 - 날짜 이동"
   ]
  },
  {
   "cell_type": "code",
   "execution_count": 19,
   "metadata": {
    "collapsed": false,
    "scrolled": true
   },
   "outputs": [
    {
     "data": {
      "text/plain": [
       "2000-01-31   -0.103219\n",
       "2000-02-29    0.410599\n",
       "2000-03-31    0.144044\n",
       "2000-04-30    1.454274\n",
       "Freq: M, dtype: float64"
      ]
     },
     "execution_count": 19,
     "metadata": {},
     "output_type": "execute_result"
    }
   ],
   "source": [
    "ts = pd.Series(np.random.randn(4), index=pd.date_range(\"2000-1-1\", periods=4, freq=\"M\"))\n",
    "ts"
   ]
  },
  {
   "cell_type": "code",
   "execution_count": 20,
   "metadata": {
    "collapsed": false
   },
   "outputs": [
    {
     "data": {
      "text/plain": [
       "2000-01-31         NaN\n",
       "2000-02-29   -0.103219\n",
       "2000-03-31    0.410599\n",
       "2000-04-30    0.144044\n",
       "Freq: M, dtype: float64"
      ]
     },
     "execution_count": 20,
     "metadata": {},
     "output_type": "execute_result"
    }
   ],
   "source": [
    "ts.shift(1)"
   ]
  },
  {
   "cell_type": "code",
   "execution_count": 21,
   "metadata": {
    "collapsed": false
   },
   "outputs": [
    {
     "data": {
      "text/plain": [
       "2000-01-31    0.410599\n",
       "2000-02-29    0.144044\n",
       "2000-03-31    1.454274\n",
       "2000-04-30         NaN\n",
       "Freq: M, dtype: float64"
      ]
     },
     "execution_count": 21,
     "metadata": {},
     "output_type": "execute_result"
    }
   ],
   "source": [
    "ts.shift(-1)"
   ]
  },
  {
   "cell_type": "code",
   "execution_count": 22,
   "metadata": {
    "collapsed": false
   },
   "outputs": [
    {
     "data": {
      "text/plain": [
       "2000-02-29   -0.103219\n",
       "2000-03-31    0.410599\n",
       "2000-04-30    0.144044\n",
       "2000-05-31    1.454274\n",
       "Freq: M, dtype: float64"
      ]
     },
     "execution_count": 22,
     "metadata": {},
     "output_type": "execute_result"
    }
   ],
   "source": [
    "ts.shift(1, freq=\"M\")"
   ]
  },
  {
   "cell_type": "markdown",
   "metadata": {},
   "source": [
    "## 리샘플링 (Resampling)\n",
    "- `up-sampling` : 구간이 작아지는 경우\n",
    "- `down-sampling` : 구간이 커지는 경우"
   ]
  },
  {
   "cell_type": "code",
   "execution_count": 31,
   "metadata": {
    "collapsed": false,
    "scrolled": true
   },
   "outputs": [
    {
     "data": {
      "text/plain": [
       "2000-01-01    0.605120\n",
       "2000-01-02    0.895556\n",
       "2000-01-03   -0.131909\n",
       "2000-01-04    0.404762\n",
       "2000-01-05    0.223844\n",
       "2000-01-06    0.329623\n",
       "2000-01-07    1.285984\n",
       "2000-01-08   -1.506998\n",
       "2000-01-09    0.676461\n",
       "2000-01-10   -0.382009\n",
       "2000-01-11   -0.224259\n",
       "2000-01-12   -0.302250\n",
       "2000-01-13   -0.375147\n",
       "2000-01-14   -1.226196\n",
       "2000-01-15    0.183339\n",
       "2000-01-16    1.670943\n",
       "2000-01-17   -0.056133\n",
       "2000-01-18   -0.001385\n",
       "2000-01-19   -0.687299\n",
       "2000-01-20   -0.117475\n",
       "Freq: D, dtype: float64"
      ]
     },
     "execution_count": 31,
     "metadata": {},
     "output_type": "execute_result"
    }
   ],
   "source": [
    "ts = pd.Series(np.random.randn(100), index=pd.date_range(\"2000-1-1\", periods=100, freq=\"D\"))\n",
    "ts.head(20)"
   ]
  },
  {
   "cell_type": "code",
   "execution_count": 24,
   "metadata": {
    "collapsed": false
   },
   "outputs": [
    {
     "data": {
      "text/plain": [
       "2000-01-02    0.441356\n",
       "2000-01-09   -0.146794\n",
       "2000-01-16    0.207122\n",
       "2000-01-23    0.045536\n",
       "2000-01-30   -0.081312\n",
       "2000-02-06   -0.398918\n",
       "2000-02-13   -0.287513\n",
       "2000-02-20   -0.353319\n",
       "2000-02-27   -0.567629\n",
       "2000-03-05   -0.055802\n",
       "2000-03-12   -0.309877\n",
       "2000-03-19    0.566217\n",
       "2000-03-26    0.752381\n",
       "2000-04-02   -0.058560\n",
       "2000-04-09    0.994230\n",
       "Freq: W-SUN, dtype: float64"
      ]
     },
     "execution_count": 24,
     "metadata": {},
     "output_type": "execute_result"
    }
   ],
   "source": [
    "ts.resample('W').mean()"
   ]
  },
  {
   "cell_type": "code",
   "execution_count": 32,
   "metadata": {
    "collapsed": false,
    "scrolled": true
   },
   "outputs": [
    {
     "data": {
      "text/plain": [
       "2000-01-01    0.605120\n",
       "2000-02-01   -0.996213\n",
       "2000-03-01   -1.945703\n",
       "2000-04-01    1.094638\n",
       "Freq: MS, dtype: float64"
      ]
     },
     "execution_count": 32,
     "metadata": {},
     "output_type": "execute_result"
    }
   ],
   "source": [
    "# Down sampling\n",
    "ts.resample('MS').first()"
   ]
  },
  {
   "cell_type": "code",
   "execution_count": 33,
   "metadata": {
    "collapsed": false
   },
   "outputs": [
    {
     "data": {
      "text/plain": [
       "2000-01-01 00:00:00   -0.696327\n",
       "2000-01-01 00:01:00   -0.290397\n",
       "2000-01-01 00:02:00    1.327783\n",
       "2000-01-01 00:03:00   -0.101281\n",
       "2000-01-01 00:04:00   -0.803141\n",
       "2000-01-01 00:05:00   -0.464338\n",
       "2000-01-01 00:06:00    1.021791\n",
       "2000-01-01 00:07:00   -0.552541\n",
       "2000-01-01 00:08:00   -0.386871\n",
       "2000-01-01 00:09:00   -0.510293\n",
       "2000-01-01 00:10:00    0.183925\n",
       "2000-01-01 00:11:00   -0.385490\n",
       "2000-01-01 00:12:00   -1.601836\n",
       "2000-01-01 00:13:00   -0.887181\n",
       "2000-01-01 00:14:00   -0.932789\n",
       "2000-01-01 00:15:00    1.243319\n",
       "2000-01-01 00:16:00    0.812674\n",
       "2000-01-01 00:17:00    0.587259\n",
       "2000-01-01 00:18:00   -0.505358\n",
       "2000-01-01 00:19:00   -0.815792\n",
       "Freq: T, dtype: float64"
      ]
     },
     "execution_count": 33,
     "metadata": {},
     "output_type": "execute_result"
    }
   ],
   "source": [
    "ts = pd.Series(np.random.randn(60), index=pd.date_range(\"2000-1-1\", periods=60, freq=\"T\"))\n",
    "ts.head(20)"
   ]
  },
  {
   "cell_type": "code",
   "execution_count": 34,
   "metadata": {
    "collapsed": false
   },
   "outputs": [
    {
     "data": {
      "text/plain": [
       "2000-01-01 00:00:00   -1.455615\n",
       "2000-01-01 00:10:00   -2.301267\n",
       "2000-01-01 00:20:00   -5.438233\n",
       "2000-01-01 00:30:00   -0.267091\n",
       "2000-01-01 00:40:00    1.201147\n",
       "2000-01-01 00:50:00    1.440131\n",
       "Freq: 10T, dtype: float64"
      ]
     },
     "execution_count": 34,
     "metadata": {},
     "output_type": "execute_result"
    }
   ],
   "source": [
    "ts.resample('10min').sum()"
   ]
  },
  {
   "cell_type": "code",
   "execution_count": 37,
   "metadata": {
    "collapsed": false
   },
   "outputs": [
    {
     "data": {
      "text/plain": [
       "1999-12-31 23:50:00   -0.696327\n",
       "2000-01-01 00:00:00   -0.575363\n",
       "2000-01-01 00:10:00   -2.992710\n",
       "2000-01-01 00:20:00   -3.175730\n",
       "2000-01-01 00:30:00   -1.573881\n",
       "2000-01-01 00:40:00    1.476052\n",
       "2000-01-01 00:50:00    0.717031\n",
       "Freq: 10T, dtype: float64"
      ]
     },
     "execution_count": 37,
     "metadata": {},
     "output_type": "execute_result"
    }
   ],
   "source": [
    "ts.resample('10min', closed=\"right\").sum()"
   ]
  },
  {
   "cell_type": "code",
   "execution_count": 38,
   "metadata": {
    "collapsed": false,
    "scrolled": true
   },
   "outputs": [
    {
     "data": {
      "text/html": [
       "<div>\n",
       "<table border=\"1\" class=\"dataframe\">\n",
       "  <thead>\n",
       "    <tr style=\"text-align: right;\">\n",
       "      <th></th>\n",
       "      <th>open</th>\n",
       "      <th>high</th>\n",
       "      <th>low</th>\n",
       "      <th>close</th>\n",
       "    </tr>\n",
       "  </thead>\n",
       "  <tbody>\n",
       "    <tr>\n",
       "      <th>2000-01-01 00:00:00</th>\n",
       "      <td>-0.696327</td>\n",
       "      <td>1.327783</td>\n",
       "      <td>-0.803141</td>\n",
       "      <td>-0.803141</td>\n",
       "    </tr>\n",
       "    <tr>\n",
       "      <th>2000-01-01 00:05:00</th>\n",
       "      <td>-0.464338</td>\n",
       "      <td>1.021791</td>\n",
       "      <td>-0.552541</td>\n",
       "      <td>-0.510293</td>\n",
       "    </tr>\n",
       "    <tr>\n",
       "      <th>2000-01-01 00:10:00</th>\n",
       "      <td>0.183925</td>\n",
       "      <td>0.183925</td>\n",
       "      <td>-1.601836</td>\n",
       "      <td>-0.932789</td>\n",
       "    </tr>\n",
       "    <tr>\n",
       "      <th>2000-01-01 00:15:00</th>\n",
       "      <td>1.243319</td>\n",
       "      <td>1.243319</td>\n",
       "      <td>-0.815792</td>\n",
       "      <td>-0.815792</td>\n",
       "    </tr>\n",
       "    <tr>\n",
       "      <th>2000-01-01 00:20:00</th>\n",
       "      <td>-0.507518</td>\n",
       "      <td>2.497200</td>\n",
       "      <td>-2.245322</td>\n",
       "      <td>0.564009</td>\n",
       "    </tr>\n",
       "    <tr>\n",
       "      <th>2000-01-01 00:25:00</th>\n",
       "      <td>-1.284552</td>\n",
       "      <td>-0.104343</td>\n",
       "      <td>-1.284552</td>\n",
       "      <td>-1.140196</td>\n",
       "    </tr>\n",
       "    <tr>\n",
       "      <th>2000-01-01 00:30:00</th>\n",
       "      <td>1.754986</td>\n",
       "      <td>1.754986</td>\n",
       "      <td>-0.765702</td>\n",
       "      <td>0.010349</td>\n",
       "    </tr>\n",
       "    <tr>\n",
       "      <th>2000-01-01 00:35:00</th>\n",
       "      <td>0.720034</td>\n",
       "      <td>0.772695</td>\n",
       "      <td>-1.824257</td>\n",
       "      <td>-1.661598</td>\n",
       "    </tr>\n",
       "    <tr>\n",
       "      <th>2000-01-01 00:40:00</th>\n",
       "      <td>0.448195</td>\n",
       "      <td>1.696182</td>\n",
       "      <td>-0.014858</td>\n",
       "      <td>0.670570</td>\n",
       "    </tr>\n",
       "    <tr>\n",
       "      <th>2000-01-01 00:45:00</th>\n",
       "      <td>-0.707506</td>\n",
       "      <td>0.265688</td>\n",
       "      <td>-1.566995</td>\n",
       "      <td>0.265688</td>\n",
       "    </tr>\n",
       "    <tr>\n",
       "      <th>2000-01-01 00:50:00</th>\n",
       "      <td>0.723100</td>\n",
       "      <td>0.723100</td>\n",
       "      <td>-1.102906</td>\n",
       "      <td>-0.101697</td>\n",
       "    </tr>\n",
       "    <tr>\n",
       "      <th>2000-01-01 00:55:00</th>\n",
       "      <td>0.019279</td>\n",
       "      <td>1.849591</td>\n",
       "      <td>-0.499017</td>\n",
       "      <td>0.021351</td>\n",
       "    </tr>\n",
       "  </tbody>\n",
       "</table>\n",
       "</div>"
      ],
      "text/plain": [
       "                         open      high       low     close\n",
       "2000-01-01 00:00:00 -0.696327  1.327783 -0.803141 -0.803141\n",
       "2000-01-01 00:05:00 -0.464338  1.021791 -0.552541 -0.510293\n",
       "2000-01-01 00:10:00  0.183925  0.183925 -1.601836 -0.932789\n",
       "2000-01-01 00:15:00  1.243319  1.243319 -0.815792 -0.815792\n",
       "2000-01-01 00:20:00 -0.507518  2.497200 -2.245322  0.564009\n",
       "2000-01-01 00:25:00 -1.284552 -0.104343 -1.284552 -1.140196\n",
       "2000-01-01 00:30:00  1.754986  1.754986 -0.765702  0.010349\n",
       "2000-01-01 00:35:00  0.720034  0.772695 -1.824257 -1.661598\n",
       "2000-01-01 00:40:00  0.448195  1.696182 -0.014858  0.670570\n",
       "2000-01-01 00:45:00 -0.707506  0.265688 -1.566995  0.265688\n",
       "2000-01-01 00:50:00  0.723100  0.723100 -1.102906 -0.101697\n",
       "2000-01-01 00:55:00  0.019279  1.849591 -0.499017  0.021351"
      ]
     },
     "execution_count": 38,
     "metadata": {},
     "output_type": "execute_result"
    }
   ],
   "source": [
    "ts.resample('5min').ohlc()"
   ]
  },
  {
   "cell_type": "code",
   "execution_count": null,
   "metadata": {
    "collapsed": true
   },
   "outputs": [],
   "source": []
  }
 ],
 "metadata": {
  "anaconda-cloud": {},
  "kernelspec": {
   "display_name": "Python [default]",
   "language": "python",
   "name": "python3"
  },
  "language_info": {
   "codemirror_mode": {
    "name": "ipython",
    "version": 3
   },
   "file_extension": ".py",
   "mimetype": "text/x-python",
   "name": "python",
   "nbconvert_exporter": "python",
   "pygments_lexer": "ipython3",
   "version": "3.5.2"
  }
 },
 "nbformat": 4,
 "nbformat_minor": 0
}
