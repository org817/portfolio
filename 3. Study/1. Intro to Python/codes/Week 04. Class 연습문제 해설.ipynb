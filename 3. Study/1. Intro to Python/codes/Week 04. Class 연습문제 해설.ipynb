{
 "cells": [
  {
   "cell_type": "markdown",
   "metadata": {},
   "source": [
    "# Week 4. 연습문제이자 숙제이자 괴롭힘\n",
    "-----------------------------------"
   ]
  },
  {
   "cell_type": "markdown",
   "metadata": {},
   "source": [
    "#### 1) 다음의 조건을 만족하는 Point라는 클래스를 작성하세요.\n",
    "\n",
    "- Point 클래스는 생성자`__init__`를 통해 (x, y) 좌표를 입력받는다.\n",
    "- setx(x), sety(y) 메서드를 통해 x 좌표와 y 좌표를 따로 입력받아 수정 할 수도 있다.\n",
    "- get() 메서드를 호출하면 튜플로 구성된 (x, y) 좌표를 반환한다.\n",
    "- move(dx, dy) 메서드는 현재 좌표를 dx, dy만큼 이동시킨다.\n",
    "\n",
    "모든 메서드는 인스턴스 메서드(클래스 내부에서 만드는 `def`)다."
   ]
  },
  {
   "cell_type": "code",
   "execution_count": 19,
   "metadata": {
    "collapsed": true
   },
   "outputs": [],
   "source": [
    "class Point:\n",
    "    def __init__(self, x=0, y=0):\n",
    "        self.x = x\n",
    "        self.y = y\n",
    "        print(\"좌표가 ({x_value},{y_value})로 초기 설정되었습니다\"\n",
    "              .format(x_value=self.x, y_value=self.y))\n",
    "            \n",
    "    def setx(self, new_x):\n",
    "        self.x = new_x\n",
    "            \n",
    "    def sety(self, new_y):\n",
    "        self.y = new_y\n",
    "    \n",
    "    def get(self):\n",
    "        return (self.x, self.y)\n",
    "    \n",
    "    def move(self, dx, dy):\n",
    "        self.x += dx\n",
    "        self.y += dy\n",
    "        print(\"좌표가 ({x},{y})로 변경되었습니다\".format(x=self.x, y=self.y))"
   ]
  },
  {
   "cell_type": "markdown",
   "metadata": {},
   "source": [
    "####  2) 문제 1) 에서 생성한 Point 클래스에 대한 객체(인스턴스)를 생성한 후 위의 4개의 메서드를 테스트 해 보세요~"
   ]
  },
  {
   "cell_type": "code",
   "execution_count": 26,
   "metadata": {
    "collapsed": false
   },
   "outputs": [
    {
     "name": "stdout",
     "output_type": "stream",
     "text": [
      "좌표가 (1,1)로 초기 설정되었습니다\n",
      "좌표가 (0,0)로 초기 설정되었습니다\n",
      "좌표가 (0,3)로 초기 설정되었습니다\n",
      "(2, 2)\n",
      "좌표가 (4,5)로 변경되었습니다\n"
     ]
    }
   ],
   "source": [
    "a = Point(1,1)\n",
    "b = Point()\n",
    "c = Point(y=3)\n",
    "\n",
    "a.setx(2)\n",
    "a.sety(2)\n",
    "\n",
    "print(a.get())\n",
    "\n",
    "a.move(dx=2, dy=3)"
   ]
  },
  {
   "cell_type": "markdown",
   "metadata": {},
   "source": [
    "a_list = [1,3,2,4]\n",
    "\n",
    "a_list.sort(reverse=True)\n",
    "a_list\n",
    "\n",
    "def sort(key=len,reverse=False):\n",
    "    aslkdfjal;sdfj\n",
    "    laskd;kdfj\n",
    "    a;lsdkfjasd;"
   ]
  },
  {
   "cell_type": "markdown",
   "metadata": {},
   "source": [
    "<br><br><br>\n",
    "## 수업시간에 만들었던 Character 클래스 를 업그레이드 해 봅시다! Improvement!!\n",
    "\n",
    "수업시간에 설계하고 만들어 보았던 Character 클래스에 기능과 클래스변수, 객체(인스턴스)변수, 메서드들을 추가하여 여러가지 기능을 작동 시켜봅시다.\n",
    "\n",
    "#### 3) 캐릭터를 삭제하는 기능을 추가해 보세요."
   ]
  },
  {
   "cell_type": "code",
   "execution_count": 45,
   "metadata": {
    "collapsed": false
   },
   "outputs": [],
   "source": [
    "class Character:\n",
    "    num_characters = 0 # 모든 캐릭터의 개체 수\n",
    "\n",
    "    def __init__(self, name, input_life=100): # __init__의 input 인자는 name\n",
    "        self.name = name #본 객체의 변수인 name에 input으로 받았던 이름을 넣어줌\n",
    "        self.life = input_life # 모든 Character 객체는 life 가 1000 을 가짐\n",
    "        self.exp = 0 # 경험치는 0부터 시작\n",
    "        self.__hidden_dps = 0.5 # 히든 dps\n",
    "        print('이 캐릭터의 이름이 %s 로 정해졌습니다.' %(self.name))\n",
    "        Character.num_characters += 1\n",
    "        \n",
    "    def attacked(self):\n",
    "        self.life -= 10 # 공격을 받으면 life에서 10씩 감소함\n",
    "        print('%s 이 공격을 받아 생명력이 %d 로 줄었습니다.' %(self.name, self.life))\n",
    "    \n",
    "    def attack(self, other):\n",
    "        self.exp += 50 # 경험치 50 증가\n",
    "        print('%s 가 %s 를 공격해서 경험치가 50 올랐습니다.' %(self.name, other.name))\n",
    "    \n",
    "    def __add__(self, other):\n",
    "        print(\"%s 와 %s 가 파티를 맺었습니다.\" % (self.name, other.name))\n",
    "    \n",
    "    @classmethod    \n",
    "    def how_many_character(cls):        \n",
    "        print (\"생성된 총 캐릭터 수:\", cls.num_characters)\n",
    "        \n",
    "    def delete_character(self):\n",
    "        print(\"{} 를 삭제합니다.\".format(self.name))\n",
    "        del self\n",
    "        Character.num_characters -= 1"
   ]
  },
  {
   "cell_type": "code",
   "execution_count": 46,
   "metadata": {
    "collapsed": false
   },
   "outputs": [
    {
     "name": "stdout",
     "output_type": "stream",
     "text": [
      "이 캐릭터의 이름이 한조 로 정해졌습니다.\n",
      "1000\n",
      "이 캐릭터의 이름이 메르시 로 정해졌습니다.\n",
      "100\n",
      "생성된 총 캐릭터 수: 2\n",
      "메르시 를 삭제합니다.\n",
      "생성된 총 캐릭터 수: 1\n"
     ]
    }
   ],
   "source": [
    "user1 = Character(\"한조\", 1000)\n",
    "print(user1.life)\n",
    "user2 = Character(\"메르시\")\n",
    "print(user2.life)\n",
    "\n",
    "Character.how_many_character()\n",
    "\n",
    "user2.delete_character()\n",
    "Character.how_many_character()"
   ]
  },
  {
   "cell_type": "markdown",
   "metadata": {},
   "source": [
    "#### 4) \"공격하는 메서드(`attack`)를 수정하여 내가 공격을 했을 때, 생대방은 공격을 받는 기능이 (동시에 또는 한번에) 구현되도록 코드를 수정해 보세요."
   ]
  },
  {
   "cell_type": "code",
   "execution_count": 47,
   "metadata": {
    "collapsed": true
   },
   "outputs": [],
   "source": [
    "class Character:\n",
    "    num_characters = 0 # 모든 캐릭터의 개체 수\n",
    "    \n",
    "    def __init__(self, name): # __init__의 input 인자는 name\n",
    "        self.name = name #본 객체의 변수인 name에 input으로 받았던 이름을 넣어줌\n",
    "        self.life = 100 # 모든 Character 객체는 life 가 100 을 가짐\n",
    "        self.exp = 0 # 경험치는 0부터 시작\n",
    "        self.__hidden_dps = 0.5 # 히든 dps\n",
    "        print('이 캐릭터의 이름이 %s 로 정해졌습니다.' %(self.name))\n",
    "        Character.num_characters += 1\n",
    "        \n",
    "    def attacked(self):\n",
    "        self.life -= 10 # 공격을 받으면 life에서 10씩 감소함\n",
    "        print('%s 이 공격을 받아 생명력이 %d 로 줄었습니다.' %(self.name, self.life))\n",
    "    \n",
    "    def attack(self, other):\n",
    "        self.exp += 50 # 경험치 50 증가\n",
    "        print('%s 가 %s 를 공격해서 경험치가 50 올랐습니다.' %(self.name, other.name))\n",
    "        other.attacked()\n",
    "\n",
    "    def __add__(self, other):\n",
    "        print(\"%s 와 %s 가 파티를 맺었습니다.\" % (self.name, other.name))\n",
    "    \n",
    "    @classmethod    \n",
    "    def how_many_character(cls):        \n",
    "        print (\"생성된 총 캐릭터 수:\", cls.num_characters)\n",
    "        \n",
    "    def delete_character(self):\n",
    "        print(\"{} 를 삭제합니다.\".format(self.name))\n",
    "        del self\n",
    "        Character.num_characters -= 1"
   ]
  },
  {
   "cell_type": "code",
   "execution_count": 49,
   "metadata": {
    "collapsed": false,
    "scrolled": true
   },
   "outputs": [
    {
     "name": "stdout",
     "output_type": "stream",
     "text": [
      "이 캐릭터의 이름이 한조 로 정해졌습니다.\n",
      "이 캐릭터의 이름이 메르시 로 정해졌습니다.\n",
      "한조 가 메르시 를 공격해서 경험치가 50 올랐습니다.\n",
      "메르시 이 공격을 받아 생명력이 90 로 줄었습니다.\n"
     ]
    }
   ],
   "source": [
    "user1 = Character(\"한조\")\n",
    "user2 = Character(\"메르시\")\n",
    "\n",
    "user1.attack(user2)"
   ]
  },
  {
   "cell_type": "markdown",
   "metadata": {},
   "source": [
    "#### 5)  Character 객체가 각각의 공격력을 가지도록 객체변수를 추가해 보세요. 또한 attack와 attacked 기능에 상대방의 공격력이 반영되서 체력이 깎이는 기능으로 코드를 수정 해 보세요"
   ]
  },
  {
   "cell_type": "code",
   "execution_count": 56,
   "metadata": {
    "collapsed": false
   },
   "outputs": [],
   "source": [
    "class Character:\n",
    "    num_characters = 0 # 모든 캐릭터의 개체 수\n",
    "    \n",
    "    def __init__(self, name): # __init__의 input 인자는 name\n",
    "        self.name = name #본 객체의 변수인 name에 input으로 받았던 이름을 넣어줌\n",
    "        self.life = 100 # 모든 Character 객체는 life 가 100 을 가짐\n",
    "        self.exp = 0 # 경험치는 0부터 시작\n",
    "        self.power = 15\n",
    "        self.__hidden_dps = 0.5 # 히든 dps\n",
    "        print('이 캐릭터의 이름이 %s 로 정해졌습니다.' %(self.name))\n",
    "        Character.num_characters += 1\n",
    "        \n",
    "    def attacked(self, other):\n",
    "        self.life -= other.power # 공격을 받으면 life에서 10씩 감소함\n",
    "        print('%s 이 공격을 받아 생명력이 %d 로 줄었습니다.' %(self.name, self.life))\n",
    "\n",
    "    def attack(self, other):\n",
    "        self.exp += 50 # 경험치 50 증가\n",
    "        print('%s 가 %s 를 공격해서 경험치가 50 올랐습니다.' %(self.name, other.name))\n",
    "        other.attacked(self)\n",
    "\n",
    "    def __add__(self, other):\n",
    "        print(\"%s 와 %s 가 파티를 맺었습니다.\" % (self.name, other.name))\n",
    "    \n",
    "    @classmethod    \n",
    "    def how_many_character(cls):        \n",
    "        print (\"생성된 총 캐릭터 수:\", cls.num_characters)\n",
    "        \n",
    "    def delete_character(self):\n",
    "        print(\"{} 를 삭제합니다.\".format(self.name))\n",
    "        del self\n",
    "        Character.num_characters -= 1"
   ]
  },
  {
   "cell_type": "code",
   "execution_count": 57,
   "metadata": {
    "collapsed": false
   },
   "outputs": [
    {
     "name": "stdout",
     "output_type": "stream",
     "text": [
      "이 캐릭터의 이름이 한조 로 정해졌습니다.\n",
      "이 캐릭터의 이름이 메르시 로 정해졌습니다.\n",
      "한조 가 메르시 를 공격해서 경험치가 50 올랐습니다.\n",
      "메르시 이 공격을 받아 생명력이 70 로 줄었습니다.\n",
      "메르시 가 한조 를 공격해서 경험치가 50 올랐습니다.\n",
      "한조 이 공격을 받아 생명력이 85 로 줄었습니다.\n",
      "메르시 가 한조 를 공격해서 경험치가 50 올랐습니다.\n",
      "한조 이 공격을 받아 생명력이 70 로 줄었습니다.\n"
     ]
    }
   ],
   "source": [
    "user1 = Character(\"한조\")\n",
    "user2 = Character(\"메르시\")\n",
    "user1.power = 30\n",
    "user2.power = 15\n",
    "\n",
    "user1.attack(user2)\n",
    "user2.attack(user1)\n",
    "user2.attack(user1)"
   ]
  },
  {
   "cell_type": "markdown",
   "metadata": {},
   "source": [
    "#### 6) 경험치가 100이되면 레벨이 올라가는 기능을 구현해 보세요"
   ]
  },
  {
   "cell_type": "code",
   "execution_count": 25,
   "metadata": {
    "collapsed": false
   },
   "outputs": [],
   "source": [
    "class Character:\n",
    "    num_characters = 0 # 모든 캐릭터의 개체 수\n",
    "\n",
    "    def __init__(self, name): # __init__의 input 인자는 name\n",
    "        self.name = name #본 객체의 변수인 name에 input으로 받았던 이름을 넣어줌\n",
    "        self.life = 100 # 모든 Character 객체는 life 가 100 을 가짐\n",
    "        self.exp = 0 # 경험치는 0부터 시작\n",
    "        self.power = 15\n",
    "        self.level = 1\n",
    "        self.__hidden_dps = 0.5 # 히든 dps\n",
    "        print('이 캐릭터의 이름이 %s 로 정해졌습니다.' %(self.name))\n",
    "        Character.num_characters += 1\n",
    "        \n",
    "        \n",
    "    def attacked(self, other):\n",
    "        self.life -= other.power # 공격을 받으면 life에서 10씩 감소함\n",
    "        print('%s 이 공격을 받아 생명력이 %d 로 줄었습니다.' %(self.name, self.life))\n",
    "    \n",
    "    \n",
    "    def attack(self, other):\n",
    "        other.attacked(self)\n",
    "        print('%s 가 %s 를 공격해서 경험치가 50 올랐습니다.' %(self.name, other.name))\n",
    "        self.exp += 50 # 경험치 50 증가\n",
    "        \n",
    "        if (self.exp >= 100):\n",
    "            self.level += 1\n",
    "            self.exp -= 100 # self.exp = 0\n",
    "            print('%s 가 레벨이 %s로 올랐습니다.' %(self.name, self.level))\n",
    "        \n",
    "\n",
    "    def __add__(self, other):\n",
    "        print(\"%s 와 %s 가 파티를 맺었습니다.\" % (self.name, other.name))\n",
    "    \n",
    "    \n",
    "    @classmethod    \n",
    "    def how_many_character(cls):        \n",
    "        print (\"생성된 총 캐릭터 수:\", cls.num_characters)\n",
    "        \n",
    "        \n",
    "    def delete_character(self):\n",
    "        print(\"{} 를 삭제합니다.\".format(self.name))\n",
    "        del self\n",
    "        Character.num_characters -= 1"
   ]
  },
  {
   "cell_type": "code",
   "execution_count": 26,
   "metadata": {
    "collapsed": false
   },
   "outputs": [
    {
     "name": "stdout",
     "output_type": "stream",
     "text": [
      "이 캐릭터의 이름이 한조 로 정해졌습니다.\n",
      "이 캐릭터의 이름이 메르시 로 정해졌습니다.\n",
      "한조 이 공격을 받아 생명력이 85 로 줄었습니다.\n",
      "메르시 가 한조 를 공격해서 경험치가 50 올랐습니다.\n",
      "한조 이 공격을 받아 생명력이 70 로 줄었습니다.\n",
      "메르시 가 한조 를 공격해서 경험치가 50 올랐습니다.\n",
      "메르시 가 레벨이 2로 올랐습니다.\n"
     ]
    }
   ],
   "source": [
    "user1 = Character(\"한조\")\n",
    "user2 = Character(\"메르시\")\n",
    "\n",
    "user2.attack(user1)\n",
    "user2.attack(user1)"
   ]
  },
  {
   "cell_type": "markdown",
   "metadata": {},
   "source": [
    "#### 7) `__add__()` 함수를 오버라이딩 하여, 유저간의 파티를 맺는 기능을 추가 해 보세요. 또한 유저의 정보에서 현재의 파티원을 볼 수 있도록 해 보세요."
   ]
  },
  {
   "cell_type": "code",
   "execution_count": 38,
   "metadata": {
    "collapsed": true
   },
   "outputs": [],
   "source": [
    "class Character:\n",
    "    num_characters = 0 # 모든 캐릭터의 개체 수\n",
    "    \n",
    "    def __init__(self, name): # __init__의 input 인자는 name\n",
    "        self.name = name #본 객체의 변수인 name에 input으로 받았던 이름을 넣어줌\n",
    "        self.life = 100 # 모든 Character 객체는 life 가 100 을 가짐\n",
    "        self.exp = 0 # 경험치는 0부터 시작\n",
    "        self.power = 15\n",
    "        self.level = 1\n",
    "        self.party = []\n",
    "        self.__hidden_dps = 0.5 # 히든 dps\n",
    "        print('이 캐릭터의 이름이 %s 로 정해졌습니다.' %(self.name))\n",
    "        Character.num_characters += 1\n",
    "        \n",
    "        \n",
    "    def attacked(self, other):\n",
    "        self.life -= other.power # 공격을 받으면 life에서 10씩 감소함\n",
    "        print('%s 이 공격을 받아 생명력이 %d 로 줄었습니다.' %(self.name, self.life))\n",
    "    \n",
    "    \n",
    "    def attack(self, other):\n",
    "        other.attacked(self)\n",
    "        print('%s 가 %s 를 공격해서 경험치가 50 올랐습니다.' %(self.name, other.name))\n",
    "\n",
    "        self.exp += 50 # 경험치 50 증가\n",
    "        if (self.exp >= 100):\n",
    "            self.level += 1\n",
    "            self.exp -= 100 # self.exp = 0\n",
    "            print('%s 가 레벨이 %s로 올랐습니다.' %(self.name, self.level))\n",
    "        \n",
    "        \n",
    "    def __add__(self, other):\n",
    "        self.party.append(other)\n",
    "        other.party.append(self)\n",
    "        print(\"%s 와 %s 가 파티를 맺었습니다.\" % (self.name, other.name))\n",
    "    \n",
    "    \n",
    "    @classmethod    \n",
    "    def how_many_character(cls):        \n",
    "        print (\"생성된 총 캐릭터 수:\", cls.num_characters)\n",
    "        \n",
    "        \n",
    "    def delete_character(self):\n",
    "        print(\"{} 를 삭제합니다.\".format(self.name))\n",
    "        del self\n",
    "        Character.num_characters -= 1\n",
    "        \n",
    "    \n",
    "    def __repr__(self):\n",
    "        return self.name"
   ]
  },
  {
   "cell_type": "code",
   "execution_count": 40,
   "metadata": {
    "collapsed": false
   },
   "outputs": [
    {
     "name": "stdout",
     "output_type": "stream",
     "text": [
      "이 캐릭터의 이름이 한조 로 정해졌습니다.\n",
      "이 캐릭터의 이름이 메르시 로 정해졌습니다.\n",
      "한조 와 메르시 가 파티를 맺었습니다.\n",
      "[메르시] [한조]\n"
     ]
    }
   ],
   "source": [
    "user1 = Character(\"한조\")\n",
    "user2 = Character(\"메르시\")\n",
    "\n",
    "user1 + user2\n",
    "\n",
    "# user1\n",
    "print(user1.party, user2.party)"
   ]
  }
 ],
 "metadata": {
  "kernelspec": {
   "display_name": "Python 3",
   "language": "python",
   "name": "python3"
  },
  "language_info": {
   "codemirror_mode": {
    "name": "ipython",
    "version": 3
   },
   "file_extension": ".py",
   "mimetype": "text/x-python",
   "name": "python",
   "nbconvert_exporter": "python",
   "pygments_lexer": "ipython3",
   "version": "3.5.1"
  }
 },
 "nbformat": 4,
 "nbformat_minor": 1
}
