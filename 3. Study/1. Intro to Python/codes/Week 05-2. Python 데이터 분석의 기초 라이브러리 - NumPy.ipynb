{
 "cells": [
  {
   "cell_type": "markdown",
   "metadata": {},
   "source": [
    "# Week 5. Python 데이터 분석의 기초 라이브러리 - NumPy\n",
    "----------------\n",
    "\n",
    "데이터는 수많은 숫자들로 이루어져 있다. 하나의 변수에 여러 개의 데이터를 넣는 방법으로 리스트를 사용할 수도 있지만 `리스트는 속도가 느리고 메모리를 많이 차지하는 단점`이 있다. \n",
    "\n",
    "더 적은 메모리를 사용해서 빠르게 데이터를 처리하려면 `배열(array)`을 사용해야 한다.\n",
    "\n",
    "배열은 같은 자료형의 데이터를 정해진 갯수만큼 모아놓은 것이다. 배열은 다음과 같은 점에서 리스트와 다르다.\n",
    "\n",
    "- 모든 원소가 같은 자료형이어야 한다.\n",
    "- 원소의 갯수를 바꿀 수 없다.\n",
    "\n",
    "파이썬은 자체적으로 배열 자료형을 제공하지 않는다. 따라서 배열을 구현한 다른 패키지를 임포트해야 한다. 파이썬에서 배열을 사용하기 위한 표준 패키지는 `NumPy` 이다.\n",
    "\n",
    "\n",
    "<br><br><br>\n",
    "\n",
    "# NumPy 기초\n",
    "--------------------------------\n",
    "\n",
    "`NumPy`는 `np`라는 이름으로 임포트하는 것이 관례이다. - 네임스페이스라고 함\n",
    "\n",
    "배열 객체 객체는 C언어의 배열처럼 연속적인 메모리 배치를 가지기 때문에 모든 원소가 같은 자료형이어야 한다.\n",
    "\n",
    "- Numpy(Numerical Python의 줄임말)\n",
    "- 빠르고 효율적인 다차원 배열 객체 `ndarray`\n",
    "- 배열 원소를 다루거나 배열 간의 수학 계산을 수행하는 함수\n",
    "    - 데이터 개조, 정제, 부분 집합, 필터링, 변형\n",
    "    - 정렬, 유일 원소 찾기, 집합연산 같은 일반적인 배열 처리 알고리즘\n",
    "- 통계의 효과적인 표현과 데이터의 수집/요약\n",
    "- 데이터분석에서는 알고리즘에 사용할 데이터 컨테이너의 역할\n",
    "- NumPy 배열은 파이썬 기본 자료 구조보다 훨씬 효율적인 방법으로 데이터를 저장하고 다룬다.\n"
   ]
  },
  {
   "cell_type": "code",
   "execution_count": 2,
   "metadata": {
    "collapsed": false
   },
   "outputs": [],
   "source": [
    "import numpy as np"
   ]
  },
  {
   "cell_type": "code",
   "execution_count": 5,
   "metadata": {
    "collapsed": false,
    "scrolled": true
   },
   "outputs": [
    {
     "name": "stdout",
     "output_type": "stream",
     "text": [
      "<class 'numpy.ndarray'> [0 1 2 3]\n",
      "(4,)\n",
      "-------------\n",
      "[[0]\n",
      " [1]\n",
      " [2]\n",
      " [3]] (4, 1)\n"
     ]
    }
   ],
   "source": [
    "result = [1,5,2,6,1,2,5]\n",
    "result_array = np.array(result)\n",
    "\n",
    "a = np.array([0, 1, 2, 3])\n",
    "print(type(a), a)\n",
    "print(a.shape)\n",
    "\n",
    "print('-------------')\n",
    "a = a[:,np.newaxis]\n",
    "print(a, a.shape)"
   ]
  },
  {
   "cell_type": "markdown",
   "metadata": {},
   "source": [
    "## 2차원 배열 - 행렬(matrix)\n",
    "`ndarray` 는 N-dimensional Array의 약자이다. 이름 그대로 배열 객체는 단순 리스트와 유사한 1차원 배열 이외에도 2차원 배열, 3차원 배열 등의 다차원 배열 자료 구조를 지원\n",
    "\n",
    "안쪽 리스트의 길이는 행렬의 열의 수 즉, 가로 크기가 되고 바깥쪽 리스트의 길이는 행렬의 행의 수, 즉 세로 크기가 된다. 예를 들어 2 x 3 배열은 다음과 같이 만든다."
   ]
  },
  {
   "cell_type": "code",
   "execution_count": 6,
   "metadata": {
    "collapsed": false,
    "scrolled": true
   },
   "outputs": [
    {
     "name": "stdout",
     "output_type": "stream",
     "text": [
      " 행: 2 \n",
      " 열: 3 \n",
      " [[0 1 2]\n",
      " [3 4 5]]\n",
      "---------------------------\n",
      "차원: 2\n",
      "구조: (2, 3)\n"
     ]
    }
   ],
   "source": [
    "b = np.array([[0, 1, 2],\n",
    "              [3, 4, 5]])  # 2 x 3 array\n",
    "\n",
    "\n",
    "print(' 행:',len(b), '\\n', '열:',len(b[0]),'\\n', b)\n",
    "print('---------------------------')\n",
    "\n",
    "#배열의 차원 및 크기는 `ndim` 속성과 `shape` 속성으로 알 수 있음\n",
    "print('차원:', b.ndim)\n",
    "print('구조:', b.shape)"
   ]
  },
  {
   "cell_type": "markdown",
   "metadata": {},
   "source": [
    "## 기본 인덱싱\n",
    "배열 객체로 구현한 다차원 배열의 원소 하나 하나는 다음과 같이 `콤마(comma ,)`를 사용하여 접근할 수 있다. 콤마로 구분된 차원을 `축(axis)`이라고도 한다."
   ]
  },
  {
   "cell_type": "code",
   "execution_count": 11,
   "metadata": {
    "collapsed": false,
    "scrolled": false
   },
   "outputs": [
    {
     "name": "stdout",
     "output_type": "stream",
     "text": [
      "[[0 1 2]\n",
      " [3 4 5]] (2, 3)\n",
      "--------------\n",
      "0\n",
      "1\n",
      "5\n"
     ]
    }
   ],
   "source": [
    "a = np.array([[0, 1, 2], \n",
    "              [3, 4, 5]])\n",
    "\n",
    "print(a, a.shape)\n",
    "print('--------------')\n",
    "print(a[0,0]) # 첫번째 행의 첫번째 열\n",
    "print(a[0,1]) # 첫번째 행의 두번째 열\n",
    "print(a[-1, -1]) # 마지막 행의 마지막 열"
   ]
  },
  {
   "cell_type": "markdown",
   "metadata": {},
   "source": [
    "## 슬라이싱\n",
    "배열 객체로 구현한 다차원 배열의 원소 중 복수 개를 접근하려면 일반적인 파이썬 슬라이싱(slicing)과 `comma(,)`를 함께 사용하면 된다.\n",
    "\n",
    "> 배열 슬라이스는 값을 복사하는게 아니다. 그러므로 배열 슬라이스의 값을 바꿔도 원본에 반영된다.\n",
    "\n",
    "뷰 대신에 슬라이스의 복사본을 얻고 싶다면`copy` 메서드를 이용"
   ]
  },
  {
   "cell_type": "code",
   "execution_count": 32,
   "metadata": {
    "collapsed": false,
    "scrolled": false
   },
   "outputs": [
    {
     "name": "stdout",
     "output_type": "stream",
     "text": [
      "[[6 1 2]\n",
      " [3 4 5]] (2, 3)\n",
      "-----------------------\n",
      "[6 1 2]\n",
      "[1 4]\n",
      "[4 5]\n"
     ]
    }
   ],
   "source": [
    "a = np.array([[6, 1, 2], \n",
    "              [3, 4, 5]])\n",
    "\n",
    "print(a, a.shape)\n",
    "\n",
    "print('-----------------------')\n",
    "print(a[0, :])  # 첫번째 행 전체\n",
    "print(a[:, 1])  # 두번째 열 전체\n",
    "print(a[1, 1:])  # 두번째 행의 두번째 열부터 끝열까지"
   ]
  },
  {
   "cell_type": "code",
   "execution_count": 33,
   "metadata": {
    "collapsed": false
   },
   "outputs": [
    {
     "name": "stdout",
     "output_type": "stream",
     "text": [
      "[1 4]\n",
      "[0 0]\n",
      "[[6 0 2]\n",
      " [3 0 5]]\n"
     ]
    }
   ],
   "source": [
    "b = a[:,1] # 복사를 원할 때에는 .copy()\n",
    "print(b)\n",
    "\n",
    "b[:] = 0\n",
    "print(b)\n",
    "\n",
    "print(a)"
   ]
  },
  {
   "cell_type": "code",
   "execution_count": 34,
   "metadata": {
    "collapsed": false,
    "scrolled": false
   },
   "outputs": [
    {
     "name": "stdout",
     "output_type": "stream",
     "text": [
      "[[3 0 5]]\n"
     ]
    }
   ],
   "source": [
    "arr_slice_copy = a[1:3].copy() # 무조건 copy() 함수를 써야 복사가 됨\n",
    "print(arr_slice_copy)"
   ]
  },
  {
   "cell_type": "markdown",
   "metadata": {},
   "source": [
    "## 벡터 연산\n",
    "`ndarray` 배열 객체는 배열의 각 원소에 대한 연산을 한 번에 처리하는 벡터화 연산(vectorized operation)을 지원"
   ]
  },
  {
   "cell_type": "code",
   "execution_count": 11,
   "metadata": {
    "collapsed": false
   },
   "outputs": [
    {
     "name": "stdout",
     "output_type": "stream",
     "text": [
      "리스트에 2를 곱하면? [0, 1, 2, 3, 4, 5, 0, 1, 2, 3, 4, 5]\n",
      "실제 리스트를 이용한 a * 2: [0, 2, 4, 6, 8, 10]\n"
     ]
    }
   ],
   "source": [
    "# 리스트를 사용하는 경우\n",
    "a = [0, 1, 2, 3, 4, 5]\n",
    "print('리스트에 2를 곱하면?', a * 2)\n",
    "\n",
    "b = []\n",
    "for ai in a:\n",
    "    b.append(ai * 2)\n",
    "print('실제 리스트를 이용한 a * 2:',b)"
   ]
  },
  {
   "cell_type": "code",
   "execution_count": 12,
   "metadata": {
    "collapsed": false
   },
   "outputs": [
    {
     "name": "stdout",
     "output_type": "stream",
     "text": [
      "[ 0  2  4  6  8 10]\n"
     ]
    }
   ],
   "source": [
    "# numpy array 를 사용하는 경우\n",
    "x = np.array(a)\n",
    "b = x * 2\n",
    "print(b)"
   ]
  },
  {
   "cell_type": "code",
   "execution_count": 13,
   "metadata": {
    "collapsed": false,
    "scrolled": false
   },
   "outputs": [
    {
     "name": "stdout",
     "output_type": "stream",
     "text": [
      "[ 0  1  4  9 16 25]\n"
     ]
    }
   ],
   "source": [
    "# 곱하기는 ? 기본 곱하기는 component-wise 연산\n",
    "print(x*x)"
   ]
  },
  {
   "cell_type": "code",
   "execution_count": 14,
   "metadata": {
    "collapsed": false,
    "scrolled": true
   },
   "outputs": [
    {
     "name": "stdout",
     "output_type": "stream",
     "text": [
      "[12 24 36]\n",
      "----------------\n",
      "[  2.71828183   7.3890561   20.08553692]\n",
      "------ --------\n",
      "[ 0.          0.69314718  1.09861229]\n",
      "--------------\n",
      "[ 0.84147098  0.90929743  0.14112001]\n"
     ]
    }
   ],
   "source": [
    "a = np.array([1, 2, 3])\n",
    "b = np.array([10, 20, 30])\n",
    "print(2 * a + b)\n",
    "\n",
    "#exponential\n",
    "print('----------------')\n",
    "print(np.exp(a))\n",
    "\n",
    "#log\n",
    "print('------ --------')\n",
    "print(np.log(a))\n",
    "\n",
    "#sin, cos\n",
    "print('--------------')\n",
    "print(np.sin(a))"
   ]
  },
  {
   "cell_type": "markdown",
   "metadata": {},
   "source": [
    "#### 팬시 인덱싱(fancy indexing)이라고도 부르는 배열 인덱싱(array indexing)\n",
    "\n",
    "사실은 데이터베이스의 **질의(Query) 기능**을 수행한다.\n",
    "\n",
    "불리언(Boolean) 방식 배열 인덱싱\n",
    "- `True`인 원소만 선택\n",
    "- 인덱스의 크기가 배열의 크기와 같아야 한다.\n",
    "\n",
    "위치 지정 방식 배열 인덱싱\n",
    "- 지정된 위치의 원소만 선택\n",
    "- 인덱스의 크기가 배열의 크기와 달라도 된다.\n"
   ]
  },
  {
   "cell_type": "code",
   "execution_count": 143,
   "metadata": {
    "collapsed": false,
    "scrolled": false
   },
   "outputs": [
    {
     "name": "stdout",
     "output_type": "stream",
     "text": [
      "짝수를 가져와!: [0 2 4 6 8]\n",
      "짝수를 가져와!: [0 2 4 6 8] [ True False  True False  True False  True False  True False]\n",
      "짝수 - 더 간단하게: [0 2 4 6 8]\n",
      "홀수번째 component!: [0 2 4 6 8]\n"
     ]
    }
   ],
   "source": [
    "a = np.array([0, 1, 2, 3, 4, 5, 6, 7, 8, 9])\n",
    "idx = np.array([True, False, True, False, True, False, True, False, True, False])\n",
    "print('짝수를 가져와!:',a[idx])\n",
    "\n",
    "bool_idx = (a % 2 == 0)\n",
    "print('짝수를 가져와!:',a[bool_idx], bool_idx)\n",
    "\n",
    "print('짝수 - 더 간단하게:',a[a % 2 == 0])\n",
    "\n",
    "idx = np.array([0, 2, 4, 6, 8])\n",
    "print('홀수번째 component!:',a[idx])"
   ]
  },
  {
   "cell_type": "markdown",
   "metadata": {},
   "source": [
    "## 배열연산 표현하기 (+조건절)"
   ]
  },
  {
   "cell_type": "code",
   "execution_count": 78,
   "metadata": {
    "collapsed": false
   },
   "outputs": [
    {
     "name": "stdout",
     "output_type": "stream",
     "text": [
      "[[0 1 2]\n",
      " [3 4 5]\n",
      " [6 7 8]]\n",
      "------------------\n",
      "[[ 1 -1  1]\n",
      " [-1  1 -1]\n",
      " [ 1 -1  1]]\n"
     ]
    }
   ],
   "source": [
    "arr = np.array([[0, 1, 2],\n",
    "                [3, 4, 5],\n",
    "                [6, 7, 8]])\n",
    "\n",
    "print(arr)\n",
    "print('------------------')\n",
    "\n",
    "#조건절\n",
    "print(np.where( arr % 2 == 0, 1, -1)) \n",
    "# 양수는 모두 2로, 음수는 모두 -1로 변경"
   ]
  },
  {
   "cell_type": "code",
   "execution_count": 19,
   "metadata": {
    "collapsed": false
   },
   "outputs": [
    {
     "name": "stdout",
     "output_type": "stream",
     "text": [
      "[ 0  1  3  6 10 15 21 28 36]\n",
      "[[ 0  1  2]\n",
      " [ 3  5  7]\n",
      " [ 9 12 15]]\n",
      "[[ 0  1  3]\n",
      " [ 3  7 12]\n",
      " [ 6 13 21]]\n"
     ]
    }
   ],
   "source": [
    "# Cumulative sum\n",
    "print(arr.cumsum())\n",
    "\n",
    "# column cumulative\n",
    "print(arr.cumsum(0))\n",
    "\n",
    "# row cumulative\n",
    "print(arr.cumsum(1))"
   ]
  },
  {
   "cell_type": "code",
   "execution_count": 20,
   "metadata": {
    "collapsed": false,
    "scrolled": true
   },
   "outputs": [
    {
     "name": "stdout",
     "output_type": "stream",
     "text": [
      "[[  0   0   0]\n",
      " [  3  12  60]\n",
      " [  6  42 336]]\n"
     ]
    }
   ],
   "source": [
    "# Cumulative product\n",
    "print(arr.cumprod(1))"
   ]
  },
  {
   "cell_type": "markdown",
   "metadata": {},
   "source": [
    "<br><br><br>\n",
    "\n",
    "\n",
    "# NumPy 배열 초기화\n",
    "--------------------------\n",
    "\n",
    "## 배열 생성\n",
    "앞에서 파이썬 리스트를 NumPy의 `ndarray` 객체로 변환하여 생성하려면 array 명령을 사용하였다. 그러나 보통은 이러한 기본 객체없이 다음과 같은 명령을 사용하여 바로 `ndarray` 객체를 생성한다.\n",
    "\n",
    "- `zeros, ones` : 크기가 정해져 있고 모든 값이 0 (ones 인 경우 1) 인 배열\n",
    "- `zeros_like, ones_like` : 특정한 배열 혹은 리스트와 같은 크기의 배열을 생성\n",
    "- `empty` : 생성만 하고 초기화를 하지 않는 empty 명령\n",
    "- `arange` : NumPy 버전의 range 명령. 특정한 규칙에 따라 증가하는 수열\n",
    "- `linspace, logspace` : 선형 구간 혹은 로그 구간을 지정한 구간의 수만큼 분할\n",
    "- `rand(uniform dist.), randn(gaussian dist.)` : 임의의 난수를 생성.시드(seed)값을 지정하려면 `seed`\n"
   ]
  },
  {
   "cell_type": "code",
   "execution_count": 39,
   "metadata": {
    "collapsed": false
   },
   "outputs": [
    {
     "name": "stdout",
     "output_type": "stream",
     "text": [
      "[[ 0.  0.  0.]\n",
      " [ 0.  0.  0.]\n",
      " [ 0.  0.  0.]]\n",
      "----------------------\n",
      "[[ 1.  1.  1.]\n",
      " [ 1.  1.  1.]\n",
      " [ 1.  1.  1.]]\n",
      "----------------------\n",
      "[[ 0.  0.]\n",
      " [ 0.  0.]\n",
      " [ 0.  0.]]\n"
     ]
    }
   ],
   "source": [
    "# zeros, ones\n",
    "print(np.zeros([3,3]))\n",
    "print('----------------------')\n",
    "print(np.ones([3,3])) \n",
    "print('----------------------')\n",
    "print(np.zeros((3, 2), dtype=\"float32\"))"
   ]
  },
  {
   "cell_type": "code",
   "execution_count": 23,
   "metadata": {
    "collapsed": false
   },
   "outputs": [
    {
     "name": "stdout",
     "output_type": "stream",
     "text": [
      "[0, 1, 2, 3, 4, 5, 6, 7, 8, 9]\n",
      "----------------------\n",
      "[1 1 1 1 1 1 1 1 1 1]\n"
     ]
    }
   ],
   "source": [
    "# zeros_like, ones_like\n",
    "e = range(10)\n",
    "print(list(e))\n",
    "print('----------------------')\n",
    "print(np.ones_like(e, dtype=\"int\"))"
   ]
  },
  {
   "cell_type": "code",
   "execution_count": 24,
   "metadata": {
    "collapsed": false,
    "scrolled": true
   },
   "outputs": [
    {
     "name": "stdout",
     "output_type": "stream",
     "text": [
      "[[ 0.  0.  0.]\n",
      " [ 0.  0.  0.]\n",
      " [ 0.  0.  0.]\n",
      " [ 0.  0.  0.]]\n"
     ]
    }
   ],
   "source": [
    "# empty\n",
    "print(np.empty((4,3)))"
   ]
  },
  {
   "cell_type": "code",
   "execution_count": 40,
   "metadata": {
    "collapsed": false
   },
   "outputs": [
    {
     "name": "stdout",
     "output_type": "stream",
     "text": [
      "[0 1 2 3 4 5 6 7 8 9]\n",
      "[0 1 2 3 4 5 6 7 8 9]\n",
      "[ 3  5  7  9 11]\n"
     ]
    }
   ],
   "source": [
    "# arange\n",
    "print(np.array(range(10)))\n",
    "print(np.arange(10))   # 0 .. n-1 \n",
    "print(np.arange(3, 12, 2))  # 시작, 끝(포함하지 않음), 단계"
   ]
  },
  {
   "cell_type": "code",
   "execution_count": 26,
   "metadata": {
    "collapsed": false
   },
   "outputs": [
    {
     "name": "stdout",
     "output_type": "stream",
     "text": [
      "[   0.   25.   50.   75.  100.]\n",
      "[   0.   10.   20.   30.   40.   50.   60.   70.   80.   90.  100.]\n"
     ]
    }
   ],
   "source": [
    "# linspace\n",
    "print(np.linspace(0, 100, 5))  # 시작, 끝(포함), 갯수\n",
    "print(np.linspace(0, 100, 11))  # 시작, 끝(포함), 갯수"
   ]
  },
  {
   "cell_type": "code",
   "execution_count": 73,
   "metadata": {
    "collapsed": false,
    "scrolled": true
   },
   "outputs": [
    {
     "name": "stdout",
     "output_type": "stream",
     "text": [
      "[ 0.5488135   0.71518937  0.60276338  0.54488318]\n",
      "[ 2.118274    3.22947057  2.18793606  4.458865    4.8183138 ]\n",
      "[ 0.38344152  0.79172504  0.52889492  0.56804456]\n",
      "[ 0.48431215  0.57914048 -0.18158257  1.41020463]\n",
      "8\n"
     ]
    }
   ],
   "source": [
    "# rand, randn\n",
    "np.random.seed(0)\n",
    "\n",
    "print(np.random.rand(4))\n",
    "print(np.random.uniform(0,5,5))\n",
    "print(np.random.random(4))\n",
    "print(np.random.randn(4))\n",
    "\n",
    "print(np.random.randint(5,10))"
   ]
  },
  {
   "cell_type": "markdown",
   "metadata": {},
   "source": [
    "<br><br><br>\n",
    "# 선형대수 연산\n",
    "-------------"
   ]
  },
  {
   "cell_type": "markdown",
   "metadata": {},
   "source": [
    "## dot product"
   ]
  },
  {
   "cell_type": "code",
   "execution_count": 83,
   "metadata": {
    "collapsed": false,
    "scrolled": true
   },
   "outputs": [
    {
     "name": "stdout",
     "output_type": "stream",
     "text": [
      "[ 4 10 18]\n",
      "32\n"
     ]
    }
   ],
   "source": [
    "a = np.array([1,2,3])\n",
    "b = np.array([4,5,6])\n",
    "print(a*b)\n",
    "print(np.dot(a,b.T))"
   ]
  },
  {
   "cell_type": "code",
   "execution_count": 29,
   "metadata": {
    "collapsed": false,
    "scrolled": false
   },
   "outputs": [
    {
     "name": "stdout",
     "output_type": "stream",
     "text": [
      "[-3  6 -3]\n"
     ]
    }
   ],
   "source": [
    "print(np.cross(a,b.T))"
   ]
  },
  {
   "cell_type": "markdown",
   "metadata": {},
   "source": [
    "## 대각합 (trace)\n",
    "- tr(kA) = k * tr(A)\n",
    "- tr(A + B) = tr(A) + tr(B)\n",
    "- tr(A') = tr(A)\n",
    "- tr(AB) = tr(BA)"
   ]
  },
  {
   "cell_type": "code",
   "execution_count": 89,
   "metadata": {
    "collapsed": false
   },
   "outputs": [
    {
     "name": "stdout",
     "output_type": "stream",
     "text": [
      "15\n"
     ]
    }
   ],
   "source": [
    "A = np.array([[1,2,3],\n",
    "              [4,5,6],\n",
    "              [7,8,9]])\n",
    "\n",
    "print(np.trace(A))"
   ]
  },
  {
   "cell_type": "markdown",
   "metadata": {},
   "source": [
    "## 행렬식 (deteminant)\n",
    "- |A'| = |A|\n",
    "- |AB| = |A||B|\n",
    "- 대각행렬 A 이면, |A| = a11a22 ... amm 이다. (대각의 곱)\n",
    "- 한 행이라도 모두 0 이면 |A| = 0\n",
    "- 두 행 또는 두 열이 동등하면 |A| = 0"
   ]
  },
  {
   "cell_type": "code",
   "execution_count": 90,
   "metadata": {
    "collapsed": false
   },
   "outputs": [
    {
     "name": "stdout",
     "output_type": "stream",
     "text": [
      "0.0\n"
     ]
    }
   ],
   "source": [
    "print(round(np.linalg.det(A),3))"
   ]
  },
  {
   "cell_type": "markdown",
   "metadata": {},
   "source": [
    "## 선형종속 (linear dependence)\n",
    "- n 개의 벡터{x1, x2, .. xn} 과 n 개의 스칼라 {k1, k2, .. kn}에서 k1x1 + k2x2 + ... + knxn = 0 을 충족하는 0이 아닌 스칼라 집합이 있다면 선형종속이다. \n",
    "- 쉽게 말해, 어떤 벡터 xi 는 다른 벡터의 조합으로 나타낼 수 있을 경우. 그렇지 않은 경우를 선형독립 (linear independence) 라고 한다."
   ]
  },
  {
   "cell_type": "code",
   "execution_count": 91,
   "metadata": {
    "collapsed": false,
    "scrolled": true
   },
   "outputs": [
    {
     "name": "stdout",
     "output_type": "stream",
     "text": [
      "0.0\n"
     ]
    }
   ],
   "source": [
    "# determinant로 검증\n",
    "# 선형종속 => det(X) = 0 => 특이행렬 singular matrix\n",
    "S = np.array([[1,2],[2,4]])\n",
    "print(np.linalg.det(S))"
   ]
  },
  {
   "cell_type": "markdown",
   "metadata": {},
   "source": [
    "## 계수 (rank) 와 비특이행렬 (nonsingular matrix)\n",
    "- 만약 |S| = 0 이면,\n",
    "- S 는 특이행렬(singular matrix) 이고,\n",
    "- |S| != 0 이면 비특이행렬 (nonsingular matrix) 이라고 한다."
   ]
  },
  {
   "cell_type": "code",
   "execution_count": 38,
   "metadata": {
    "collapsed": false
   },
   "outputs": [
    {
     "name": "stdout",
     "output_type": "stream",
     "text": [
      "1\n",
      "0.0\n"
     ]
    }
   ],
   "source": [
    "S = np.array([[1,2],[2,4]])\n",
    "\n",
    "print (np.linalg.matrix_rank(S)) # rank 계수가 1 != 2\n",
    "print(np.linalg.det(S)) # 행렬식 = 0 => 특이행렬이다."
   ]
  },
  {
   "cell_type": "code",
   "execution_count": 93,
   "metadata": {
    "collapsed": false,
    "scrolled": true
   },
   "outputs": [
    {
     "name": "stdout",
     "output_type": "stream",
     "text": [
      "[[1 2]\n",
      " [3 4]]\n",
      "[[-2.   1. ]\n",
      " [ 1.5 -0.5]]\n",
      "-------------------------\n",
      "-14.0\n",
      "[[-0.14285714  0.35714286]\n",
      " [ 0.28571429 -0.21428571]]\n",
      "[[ 1.]\n",
      " [ 2.]]\n"
     ]
    }
   ],
   "source": [
    "#### 역행렬 (inverse matrix)\n",
    "A = np.array([[1,2],[3,4]])\n",
    "print(A)\n",
    "\n",
    "inv_A = np.linalg.inv(A)\n",
    "print (inv_A)\n",
    "print('-------------------------')\n",
    "\n",
    "##선형등식체계 해\n",
    "A = np.array([[3,5],\n",
    "              [4,2]])\n",
    "h = np.array([[13],[8]])\n",
    "\n",
    "print(np.linalg.det(A))                # 역행렬 존재여부 확인\n",
    "inv_A = np.linalg.inv(A)\n",
    "print(inv_A)# 역행렬\n",
    "print(np.dot(inv_A, h))         # x = inv(A) * h"
   ]
  },
  {
   "cell_type": "markdown",
   "metadata": {},
   "source": [
    "## 고유값과 고유행렬"
   ]
  },
  {
   "cell_type": "markdown",
   "metadata": {},
   "source": [
    "A 라는 행렬을 일종의 변환행렬이라고 생각할때, 그 변환에 대해서 (크기만 변화) 방향이 변하지 않는 벡터이기 때문에 고유벡터라고 한다.\n",
    "\n",
    "Ax = Lx\n",
    "\n",
    "Ax - Lx = 0\n",
    "\n",
    "(A - LI)x = 0 # 스칼라값 L 에 항등행렬 I 를 곱해 행렬뺄셈을 한다.\n",
    "\n",
    "여기서 (A - LI) 행렬이 비특이행렬(역행렬 존재)하면, x = 0 이라는 자명해(trivial solution) 만 존재하고, 고유벡터는 없다.\n",
    "\n",
    "(A - LI) 가 특이행렬(역행렬X) 이면, x = 0 이외의 비자명해(nontrivial solution) 을 가지게 된다.\n",
    "\n",
    "(A - LI) 의 행렬식 deteminant 값이 0 이 되도록 하는 L 값을 계산해서 나오는 값이 고유값이다."
   ]
  },
  {
   "cell_type": "code",
   "execution_count": 40,
   "metadata": {
    "collapsed": false
   },
   "outputs": [
    {
     "name": "stdout",
     "output_type": "stream",
     "text": [
      "[-0.37228132  5.37228132]\n",
      "[[-0.82456484 -0.41597356]\n",
      " [ 0.56576746 -0.90937671]]\n"
     ]
    }
   ],
   "source": [
    "A = np.array([[1,2],\n",
    "              [3,4]])\n",
    "\n",
    "v, m = np.linalg.eig(A)\n",
    "print(v)\n",
    "print(m)"
   ]
  },
  {
   "cell_type": "markdown",
   "metadata": {},
   "source": [
    "## 벡터 및 행렬 norm"
   ]
  },
  {
   "cell_type": "code",
   "execution_count": 142,
   "metadata": {
    "collapsed": false,
    "scrolled": true
   },
   "outputs": [
    {
     "name": "stdout",
     "output_type": "stream",
     "text": [
      "[0 1 2 3]\n",
      "3.74165738677\n"
     ]
    }
   ],
   "source": [
    "x = np.array([0, 1, 2, 3])\n",
    "print(x)\n",
    "print(np.linalg.norm(x))"
   ]
  },
  {
   "cell_type": "markdown",
   "metadata": {},
   "source": [
    "<br><br><br>\n",
    "# 통계연산 \n",
    "----------------------------"
   ]
  },
  {
   "cell_type": "markdown",
   "metadata": {},
   "source": [
    "## 통계 -  최대최소평균\n",
    "\n",
    "- 최대/최소: `min`, `max`, `argmin`, `argmax`\n",
    "- 통계: `sum`, `mean`, `median`, `std`, `var`\n",
    "- 불리언: `all`, `any`"
   ]
  },
  {
   "cell_type": "code",
   "execution_count": 141,
   "metadata": {
    "collapsed": false,
    "scrolled": true
   },
   "outputs": [
    {
     "name": "stdout",
     "output_type": "stream",
     "text": [
      "10 10\n",
      "y 열합계: [3 7]\n",
      "y 행합계: [6 4]\n",
      "-----------------------\n",
      "1 4\n",
      "-----------------------\n",
      "0 2\n",
      "-----------------------\n",
      "2.5 2.5\n",
      "-----------------------\n",
      "1.25 1.11803398875\n"
     ]
    }
   ],
   "source": [
    "x = np.array([1, 2, 4, 3])\n",
    "y = np.array([[1, 5], \n",
    "              [2, 2]])\n",
    "\n",
    "# sum\n",
    "print(np.sum(x), x.sum())\n",
    "print('y 열합계:', y.sum(axis=0))  # 열 합계\n",
    "print('y 행합계:', y.sum(axis=1))  # 행 합계\n",
    "print('-----------------------')\n",
    "      \n",
    "#min, max\n",
    "print(x.min(), x.max())\n",
    "print('-----------------------')\n",
    "\n",
    "# argmin\n",
    "print(x.argmin(), x.argmax())\n",
    "print('-----------------------')\n",
    "\n",
    "# mean, median\n",
    "print(x.mean(), np.median(x))\n",
    "print('-----------------------')\n",
    "\n",
    "# variance, std\n",
    "print(x.var(), x.std())"
   ]
  },
  {
   "cell_type": "markdown",
   "metadata": {},
   "source": [
    "## 확률변수(random variables) 집합의 공분산행렬 (covariance matrix)"
   ]
  },
  {
   "cell_type": "code",
   "execution_count": 43,
   "metadata": {
    "collapsed": false
   },
   "outputs": [
    {
     "name": "stdout",
     "output_type": "stream",
     "text": [
      "[[0 1 2]\n",
      " [2 1 0]]\n",
      "[[ 1. -1.]\n",
      " [-1.  1.]]\n",
      "[[ 1. -1.]\n",
      " [-1.  1.]]\n"
     ]
    }
   ],
   "source": [
    "import numpy as np\n",
    "# 두 개의 변수 , x_0 과 x_1이 완전히 상관관계가 있고, 방향은 반대라고 하자(부적상관)\n",
    "x_0 = np.array([0, 1, 2])\n",
    "x_1 = np.array([2, 1, 0])\n",
    "X = np.vstack((x_0, x_1))\n",
    "\n",
    "print(X)\n",
    "print(np.cov(X))\n",
    "print(np.cov(x_0, x_1))"
   ]
  },
  {
   "cell_type": "markdown",
   "metadata": {},
   "source": [
    "## 집합"
   ]
  },
  {
   "cell_type": "code",
   "execution_count": 44,
   "metadata": {
    "collapsed": false
   },
   "outputs": [
    {
     "name": "stdout",
     "output_type": "stream",
     "text": [
      "['Bob' 'Joe' 'Will' 'Bob' 'Will' 'Joe' 'Joe']\n",
      "['Bob' 'Joe' 'Will']\n"
     ]
    }
   ],
   "source": [
    "# 중복 제거 \n",
    "names = np.array(['Bob', 'Joe', 'Will', 'Bob', 'Will', 'Joe', 'Joe'])\n",
    "print(names)\n",
    "\n",
    "print(np.unique(names))"
   ]
  },
  {
   "cell_type": "code",
   "execution_count": 45,
   "metadata": {
    "collapsed": false,
    "scrolled": true
   },
   "outputs": [
    {
     "name": "stdout",
     "output_type": "stream",
     "text": [
      "[6 0 0 3 2 5 6]\n",
      "[ True False False  True  True False  True]\n"
     ]
    }
   ],
   "source": [
    "# 2개의 배열을 인자로 받아 첫 번째 배열의 각 원소가 두 번째 배열의 \n",
    "# 원소를 포함하는지를 나타내는 불리언 배열을 반환\n",
    "values = np.array([6, 0, 0, 3, 2, 5, 6])\n",
    "print(values)\n",
    "\n",
    "print(np.in1d(values, [2, 3, 6]))"
   ]
  },
  {
   "cell_type": "markdown",
   "metadata": {},
   "source": [
    "<br><br><br>\n",
    "# 배열 수정\n",
    "-------------------------\n",
    "\n",
    "\n",
    "## 배열 변형\n",
    "- `reshape` : 형태만 바꾸기\n",
    "- `transpose` : 전치\n",
    "- `flatten` : 무조건 1차원 배열로 펼침\n",
    "- `newaxis` : 차원 늘리기(1차원 증가)"
   ]
  },
  {
   "cell_type": "code",
   "execution_count": 96,
   "metadata": {
    "collapsed": false,
    "scrolled": true
   },
   "outputs": [
    {
     "name": "stdout",
     "output_type": "stream",
     "text": [
      "a: [ 0  1  2  3  4  5  6  7  8  9 10 11]\n",
      "--------------------\n",
      "[[ 0  1  2  3]\n",
      " [ 4  5  6  7]\n",
      " [ 8  9 10 11]]\n",
      "--------------------\n",
      "[[ 0  4  8]\n",
      " [ 1  5  9]\n",
      " [ 2  6 10]\n",
      " [ 3  7 11]]\n"
     ]
    }
   ],
   "source": [
    "# reshape\n",
    "a = np.arange(12)\n",
    "print('a:',a)\n",
    "print('--------------------')\n",
    "\n",
    "b = a.reshape(3, 4)\n",
    "print(b)\n",
    "print('--------------------')\n",
    "\n",
    "# transpose\n",
    "print(b.transpose())\n",
    "# print(b.T)"
   ]
  },
  {
   "cell_type": "markdown",
   "metadata": {},
   "source": [
    "사용하는 원소의 갯수가 정해저 있기 때문에 reshape 명령의 형태 튜플의 원소 중 하나는 -1이라는 숫자로 대체할 수 있다. -1을 넣으면 해당 숫자는 자동으로 계산되어 사용된다."
   ]
  },
  {
   "cell_type": "code",
   "execution_count": 97,
   "metadata": {
    "collapsed": false,
    "scrolled": false
   },
   "outputs": [
    {
     "name": "stdout",
     "output_type": "stream",
     "text": [
      "[[ 0  1  2  3  4  5]\n",
      " [ 6  7  8  9 10 11]]\n",
      "--------------------\n",
      "[[ 0  1]\n",
      " [ 2  3]\n",
      " [ 4  5]\n",
      " [ 6  7]\n",
      " [ 8  9]\n",
      " [10 11]]\n"
     ]
    }
   ],
   "source": [
    "print(a.reshape(2,-1)) # 2 * -1(6) 행렬\n",
    "\n",
    "print('--------------------') # -1(6) * 2 행렬\n",
    "print(a.reshape(-1,2))"
   ]
  },
  {
   "cell_type": "code",
   "execution_count": 119,
   "metadata": {
    "collapsed": false,
    "scrolled": true
   },
   "outputs": [
    {
     "name": "stdout",
     "output_type": "stream",
     "text": [
      "[ 0  1  2  3  4  5  6  7  8  9 10 11]\n",
      "--------------------\n",
      "[0 1 2 3 4] (5,)\n",
      "[[0]\n",
      " [1]\n",
      " [2]\n",
      " [3]\n",
      " [4]] (5, 1)\n"
     ]
    }
   ],
   "source": [
    "# flatten\n",
    "c = b.flatten()\n",
    "print(c)\n",
    "print('--------------------')\n",
    "\n",
    "# newaxis\n",
    "x = np.arange(5)\n",
    "print(x, x.shape)\n",
    "x = x[:, np.newaxis]\n",
    "print(x, x.shape)"
   ]
  },
  {
   "cell_type": "markdown",
   "metadata": {},
   "source": [
    "## 배열 연결/분리\n",
    "\n",
    "행의 수나 열의 수가 같은 두 개 이상의 배열을 연결(`concatenate`)하여 더 큰 배열을 만들 때는 다음과 같은 명령을 사용한다.\n",
    "\n",
    "- `hstack` : 행의 수가 같은 두 개 이상의 배열을 옆으로 연결하여 열의 수가 더 많은 배열합친다.\n",
    "- `vstack` : 열의 수가 같은 두 개 이상의 배열을 위아래로 연결하여 행의 수가 더 많은 배열을 만든다. \n",
    "- `dstack` : 제3의 축 즉, 행이나 열이 아닌 깊이(depth) 방향으로 배열을 합친다.\n",
    "- `stack` : 새로운 차원(축으로) 배열을 연결. axis 인수(디폴트 0)를 사용하여 연결후의 회전 방향을 정한다. 연결하고자 하는 배열들의 크기가 모두 같아야 한다.\n",
    "- `r_`\n",
    "- `c_`\n",
    "- `tile` : 동일한 배열을 반복하여 연결\n",
    "- `split`: 배열을 분리"
   ]
  },
  {
   "cell_type": "code",
   "execution_count": 120,
   "metadata": {
    "collapsed": false
   },
   "outputs": [
    {
     "name": "stdout",
     "output_type": "stream",
     "text": [
      "[[ 1.  1.  1.]\n",
      " [ 1.  1.  1.]]\n",
      "[[ 0.  0.  0.]\n",
      " [ 0.  0.  0.]]\n",
      "[[ 1.  1.  1.  0.  0.  0.]\n",
      " [ 1.  1.  1.  0.  0.  0.]]\n",
      "----------------\n",
      "[[ 1.  1.  1.]\n",
      " [ 1.  1.  1.]\n",
      " [ 0.  0.  0.]\n",
      " [ 0.  0.  0.]]\n",
      "----------------\n"
     ]
    }
   ],
   "source": [
    "a1 = np.ones([2, 3])\n",
    "print(a1)\n",
    "a2 = np.zeros([2, 3])\n",
    "print(a2)\n",
    "\n",
    "# hstack\n",
    "print(np.hstack([a1, a2]))\n",
    "print('----------------')\n",
    "\n",
    "# vstack\n",
    "print(np.vstack([a1, a2]))\n",
    "print('----------------')"
   ]
  },
  {
   "cell_type": "code",
   "execution_count": 131,
   "metadata": {
    "collapsed": false
   },
   "outputs": [
    {
     "name": "stdout",
     "output_type": "stream",
     "text": [
      "[[[ 1.  0.]\n",
      "  [ 1.  0.]\n",
      "  [ 1.  0.]]\n",
      "\n",
      " [[ 1.  0.]\n",
      "  [ 1.  0.]\n",
      "  [ 1.  0.]]] (2, 3, 2)\n",
      "----------------\n",
      "[[ 1.  1.  1.]\n",
      " [ 1.  1.  1.]]\n",
      "----------------\n",
      "[[[ 1.  1.  1.]\n",
      "  [ 0.  0.  0.]]\n",
      "\n",
      " [[ 1.  1.  1.]\n",
      "  [ 0.  0.  0.]]]\n",
      "----------------\n",
      "[[[ 1.  0.]\n",
      "  [ 1.  0.]\n",
      "  [ 1.  0.]]\n",
      "\n",
      " [[ 1.  0.]\n",
      "  [ 1.  0.]\n",
      "  [ 1.  0.]]]\n"
     ]
    }
   ],
   "source": [
    "# dstack\n",
    "d_stacked = np.dstack([a1, a2])\n",
    "print(d_stacked, d_stacked.shape)\n",
    "print('----------------')\n",
    "\n",
    "print(d_stacked[:,:,0])\n",
    "print('----------------')\n",
    "\n",
    "# stack\n",
    "\n",
    "print(np.stack([a1, a2], axis=1))\n",
    "print('----------------')\n",
    "print(np.stack([a1, a2], axis=2))"
   ]
  },
  {
   "cell_type": "code",
   "execution_count": 30,
   "metadata": {
    "collapsed": false,
    "scrolled": true
   },
   "outputs": [
    {
     "name": "stdout",
     "output_type": "stream",
     "text": [
      "[1 2 3 1 2 3 1 2 3]\n",
      "[[1 2 3 1 2 3 1 2 3]\n",
      " [1 2 3 1 2 3 1 2 3]]\n",
      "----------------\n",
      "[[-0.10918332]\n",
      " [-0.50905825]\n",
      " [ 1.00784626]\n",
      " [-0.80136354]\n",
      " [ 0.4635968 ]]\n",
      "----------------\n",
      "[[-0.22175308 -0.89428507]\n",
      " [-0.23438419 -0.94504494]\n",
      " [ 0.18738276 -2.419676  ]\n",
      " [ 0.32257712  0.96920888]\n",
      " [ 1.08673396 -1.25202401]]\n",
      "----------------\n",
      "[[ 0.54786699 -0.63807219]\n",
      " [ 1.11802295 -1.75098872]\n",
      " [ 0.54806347 -0.99270735]\n",
      " [ 0.90770393 -1.36270556]\n",
      " [-0.64605922  1.19860042]]\n"
     ]
    }
   ],
   "source": [
    "# tile\n",
    "b1 = np.array([1,2,3])\n",
    "print(np.tile(b1, 3))\n",
    "print(np.tile(b1, [2,3]))\n",
    "\n",
    "print('----------------')\n",
    "\n",
    "#split\n",
    "arr = np.random.randn(5, 5)\n",
    "\n",
    "first, second, third = np.split(arr, [1, 3], axis=1)\n",
    "np.split?\n",
    "print(first)\n",
    "print('----------------')\n",
    "print(second)\n",
    "print('----------------')\n",
    "print(third)"
   ]
  },
  {
   "cell_type": "markdown",
   "metadata": {},
   "source": [
    "## 정렬\n",
    "\n",
    "`sort` 명령이나 메서드를 사용하여 배열 안의 원소를 크기에 따라 정렬하여 새로운 배열을 만들 수도 있다. \n",
    "\n",
    "2차원 이상인 경우에는 마찬가지로 `axis` 인수를 사용하여 방향을 결정한다."
   ]
  },
  {
   "cell_type": "code",
   "execution_count": 136,
   "metadata": {
    "collapsed": false
   },
   "outputs": [
    {
     "name": "stdout",
     "output_type": "stream",
     "text": [
      "[[6 2 5]\n",
      " [1 3 4]\n",
      " [1 5 6]]\n",
      "[[1 2 4]\n",
      " [1 3 5]\n",
      " [6 5 6]]\n",
      "[[2 5 6]\n",
      " [1 3 4]\n",
      " [1 5 6]]\n"
     ]
    }
   ],
   "source": [
    "a = np.array([[6, 2, 5],\n",
    "              [1, 3, 4],\n",
    "              [1, 5, 6]])\n",
    "print(a)\n",
    "\n",
    "b = np.sort(a, axis=0)\n",
    "print(b)\n",
    "\n",
    "b = np.sort(a, axis=1)\n",
    "np.sort?\n",
    "print(b)"
   ]
  },
  {
   "cell_type": "markdown",
   "metadata": {},
   "source": [
    "## 그리드 생성\n",
    "함수의 그래프를 그리거나 표를 작성하려면 많은 좌표를 한꺼번에 생성하여 각 좌표에 대한 함수 값을 계산\n",
    "\n",
    "x, y 라는 두 변수를 가진 함수에서 x가 0부터 2까지, y가 0부터 4까지의 사각형 영역에서 변화하는 과정을 보고 싶다면 이 사각형 영역 안의 다음과 같은 (x,y) 쌍 값들에 대해 함수를 계산해야 한다.\n",
    "\n",
    "```python\n",
    "(x,y)=(0,0),(0,1),(0,2),(0,3),(0,4),(1,0),⋯,(2,4)\n",
    "```\n",
    "\n",
    "이러한 과정을 자동으로 해주는 것이 NumPy의 `meshgrid`명령이다. `meshgrid` 명령은 사각형 영역을 구성하는 가로축의 점들과 세로축의 점을 나타내는 두 벡터를 인수로 받아서 이 사각형 영역을 이루는 조합을 출력한다. 단 조합이 된 (x,y)쌍을 x값만을 표시하는 행렬과 y값만을 표시하는 행렬 두 개로 분리하여 출력한다."
   ]
  },
  {
   "cell_type": "code",
   "execution_count": 52,
   "metadata": {
    "collapsed": false,
    "scrolled": true
   },
   "outputs": [
    {
     "data": {
      "image/png": "[encoded data removed]",
      "text/plain": [
       "<matplotlib.figure.Figure at 0x1cec9cbd320>"
      ]
     },
     "metadata": {},
     "output_type": "display_data"
    }
   ],
   "source": [
    "x = np.arange(3)\n",
    "y = np.arange(5)\n",
    "\n",
    "X, Y = np.meshgrid(x, y)\n",
    "[zip(x, y) for x, y in zip(X, Y)]\n",
    "\n",
    "import matplotlib.pylab as plt\n",
    "plt.scatter(X,Y, linewidth= 10);\n",
    "plt.show()"
   ]
  },
  {
   "cell_type": "markdown",
   "metadata": {},
   "source": [
    "<br><br><br>\n",
    "\n",
    "\n",
    "# 계산!\n",
    "-------------------\n",
    "NumPy는 코드를 간단하게 만들고 계산 속도를 빠르게 하기 위한 벡터화 연산(vectorized operation)을 지원한다. 벡터화 연산이란 반복문(`loop`)을 사용하지 않고 선형 대수의 벡터 혹은 행렬 연산과 유사한 코드를 사용하는 것을 말한다."
   ]
  },
  {
   "cell_type": "code",
   "execution_count": 137,
   "metadata": {
    "collapsed": false
   },
   "outputs": [],
   "source": [
    "# 리스트로 연산\n",
    "import numpy as np\n",
    "x = np.arange(1, 100001)\n",
    "y = np.arange(100001, 200001)"
   ]
  },
  {
   "cell_type": "code",
   "execution_count": 138,
   "metadata": {
    "collapsed": false
   },
   "outputs": [
    {
     "name": "stdout",
     "output_type": "stream",
     "text": [
      "1000 loops, best of 3: 421 µs per loop\n"
     ]
    }
   ],
   "source": [
    "%%timeit\n",
    "# timeit 의 경우 본 블록의 연산 속도를 측정 할 수 있음\n",
    "a = np.zeros_like(x)\n",
    "for i in range(1000):\n",
    "    a[i] = x[i] + y[i]\n"
   ]
  },
  {
   "cell_type": "code",
   "execution_count": 139,
   "metadata": {
    "collapsed": false,
    "scrolled": true
   },
   "outputs": [
    {
     "name": "stdout",
     "output_type": "stream",
     "text": [
      "The slowest run took 19.19 times longer than the fastest. This could mean that an intermediate result is being cached.\n",
      "10000 loops, best of 3: 60.5 µs per loop\n"
     ]
    }
   ],
   "source": [
    "%%timeit\n",
    "a = x + y"
   ]
  },
  {
   "cell_type": "markdown",
   "metadata": {},
   "source": [
    "## 브로드캐스팅\n",
    "\n",
    "![브로드캐스팅](https://datascienceschool.net/upfiles/dbd3775c3b914d4e8c6bbbb342246b6a.png)"
   ]
  },
  {
   "cell_type": "code",
   "execution_count": 62,
   "metadata": {
    "collapsed": false,
    "scrolled": true
   },
   "outputs": [
    {
     "name": "stdout",
     "output_type": "stream",
     "text": [
      "[[ 0  0  0]\n",
      " [10 10 10]\n",
      " [20 20 20]\n",
      " [30 30 30]]\n",
      "---------------------\n",
      "[0 1 2]\n",
      "---------------------\n",
      "a+b: [[ 0  1  2]\n",
      " [10 11 12]\n",
      " [20 21 22]\n",
      " [30 31 32]]\n",
      "---------------------\n",
      "a+b: [[ 0  1  2]\n",
      " [10 11 12]\n",
      " [20 21 22]\n",
      " [30 31 32]]\n"
     ]
    }
   ],
   "source": [
    "a = np.tile(np.arange(0, 40, 10), (3, 1)).transpose()\n",
    "print(a)\n",
    "print('---------------------')\n",
    "\n",
    "b = np.array([0, 1, 2])\n",
    "print(b)\n",
    "print('---------------------')\n",
    "\n",
    "# 방법 1 \n",
    "print('a+b:', a + b)\n",
    "print('---------------------')\n",
    "\n",
    "# 방법 2 \n",
    "a = np.arange(0, 40, 10)[:, np.newaxis]\n",
    "print('a+b:', a + b)"
   ]
  },
  {
   "cell_type": "markdown",
   "metadata": {},
   "source": [
    "<br><br><br>\n",
    "# nparray 읽기/쓰기\n",
    "---------------------"
   ]
  },
  {
   "cell_type": "code",
   "execution_count": 140,
   "metadata": {
    "collapsed": false,
    "scrolled": true
   },
   "outputs": [
    {
     "name": "stdout",
     "output_type": "stream",
     "text": [
      "[[ 0.580052  0.18673   1.04717   1.13441 ]\n",
      " [ 0.194163 -0.636917 -0.938659  0.124094]\n",
      " [-0.12641   0.268607 -0.695724  0.047428]]\n"
     ]
    }
   ],
   "source": [
    "array = ([[ 0.580052,  0.18673 ,  1.04717 ,  1.13441 ],\n",
    "       [ 0.194163, -0.636917, -0.938659,  0.124094],\n",
    "       [-0.12641 ,  0.268607, -0.695724,  0.047428]])\n",
    "\n",
    "# 쓰기\n",
    "np.savetxt('data/array_save_ex.txt', array)\n",
    "\n",
    "# 읽기\n",
    "arr = np.loadtxt('data/array_save_ex.txt', delimiter=' ')\n",
    "print(arr)"
   ]
  }
 ],
 "metadata": {
  "anaconda-cloud": {},
  "kernelspec": {
   "display_name": "Python 3",
   "language": "python",
   "name": "python3"
  },
  "language_info": {
   "codemirror_mode": {
    "name": "ipython",
    "version": 3
   },
   "file_extension": ".py",
   "mimetype": "text/x-python",
   "name": "python",
   "nbconvert_exporter": "python",
   "pygments_lexer": "ipython3",
   "version": "3.5.1"
  }
 },
 "nbformat": 4,
 "nbformat_minor": 1
}
