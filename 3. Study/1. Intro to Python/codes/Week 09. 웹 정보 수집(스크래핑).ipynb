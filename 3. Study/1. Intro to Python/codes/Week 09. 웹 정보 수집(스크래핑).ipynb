{
 "cells": [
  {
   "cell_type": "markdown",
   "metadata": {},
   "source": [
    "# Week 9. 웹 정보 수집(스크래핑, 크롤링) "
   ]
  },
  {
   "cell_type": "markdown",
   "metadata": {},
   "source": [
    "## 웹 스크래핑(scraping)\n",
    "비 정형화 되어있는 웹페이지의 데이터들을 긁어모아 정형화된 정보 형식으로 바꾸는 작업\n",
    "\n",
    "(ex. 쇼핑몰 가격비교 - 각 쇼핑몰 상품 페이지에서 상품 이름 가격 등을 추출)\n",
    "\n",
    "## 웹 크롤링(crawling)\n",
    "웹의 링크 형태를 이해하고 웹 페이지를 수집하는 작업\n",
    "\n",
    "(ex. google bot이 전 세계 웹사이트를 수집하여 검색 서비스를 제공)\n",
    "\n",
    "## HTML \n",
    "웹 페이지를 표현하는 `마크업 언어`\n",
    "\n",
    "태그, 요소, 속성 등의 구성요소를 이용해 문서 구성을 구조적으로 표현한다.\n",
    "\n",
    "\n",
    "이렇게 구조화된 문서는 효율적으로 parsing(탐색)하고 원하는 정보를 mining(찾아)낼 수 있고 심지어는 스택이나 큐 등의 자료구조를 이용해서 문서를 이루는 내용들을 일일이 파싱할 것도 없이 파이썬 기본 모듈로 제공되는 `HTMLParser`를 이용하거나 `BeautifulSoup` 등의 파이썬 라이브러리를 통해서 더욱 손쉽게 파싱할 수도 있다.\n"
   ]
  },
  {
   "cell_type": "markdown",
   "metadata": {},
   "source": [
    "<br><br><br>\n",
    "\n",
    "# urllib(python 기본) 패키지 사용해보기\n",
    "-----------------------------\n",
    "\n",
    "- urlencode : URL 인수 문자열 생성\n",
    "- urlopen : 웹서버 연결\n",
    "- urlretrieve : 웹서버 연결 및 HTML 문서 저장"
   ]
  },
  {
   "cell_type": "markdown",
   "metadata": {},
   "source": [
    "### Import"
   ]
  },
  {
   "cell_type": "code",
   "execution_count": 1,
   "metadata": {
    "collapsed": false
   },
   "outputs": [],
   "source": [
    "import urllib.request"
   ]
  },
  {
   "cell_type": "markdown",
   "metadata": {},
   "source": [
    "### url에서 데이터를 받아오기\n",
    "일반적으로 `type()`함수를 찍어보고 `str` 이 아닌 경우 (한글 페이지 인 경우) 뒤에 `decode(\"utf-8\")` 함수를 이용하여 위 형식으로 디코딩 해야 함"
   ]
  },
  {
   "cell_type": "code",
   "execution_count": 2,
   "metadata": {
    "collapsed": false,
    "scrolled": true
   },
   "outputs": [
    {
     "name": "stdout",
     "output_type": "stream",
     "text": [
      "<!doctype html>\n",
      "<html>\n",
      "<head>\n",
      "    <meta charset=\"utf-8\">\n",
      "    <meta http-equiv=\"X-UA-Compatible\" content=\"chrome=1\">\n",
      "\n",
      "    <meta property=\"og:title\" content=\"코난아카데미\" />\n",
      "    <meta property=\"og:description\" content=\"코난아카데미 데이터분석 기초\" />\n",
      "    <meta property=\"og:type\" content=\"website\" />\n",
      "    <meta property\n"
     ]
    }
   ],
   "source": [
    "url = 'http://konanacademy.github.io/da/'\n",
    "# 핸들 객체 얻기\n",
    "data = urllib.request.urlopen(url)\n",
    "text = data.read().decode(\"utf-8\") # \"euc-kr\"\n",
    "print(text[:300])"
   ]
  },
  {
   "cell_type": "markdown",
   "metadata": {},
   "source": [
    "또한 보안이 철저한 웹사이트의 경우, 접속자의 header, 즉 접속자의 정보를 확인하는 것이 보통이므로 아래 코드를 추가할 필요가 있음.\n",
    "\n",
    "```python\n",
    "import urllib.request as rq\n",
    "url = 'http://konanacademy.github.io/da/'\n",
    "\n",
    "req = rq.Request(url)\n",
    "req.add_header('User-agent', 'Mozila/5.0 (compatible; MSIE 5.5; Windows NT)')\n",
    "response = rq.urlopen(req)\n",
    "text = response.read().decode(\"utf-8\")\n",
    "print(text[:100])\n",
    "```"
   ]
  },
  {
   "cell_type": "code",
   "execution_count": 5,
   "metadata": {
    "collapsed": true
   },
   "outputs": [],
   "source": [
    "import urllib.request as rq\n",
    "url = 'http://konanacademy.github.io/da/'"
   ]
  },
  {
   "cell_type": "code",
   "execution_count": 8,
   "metadata": {
    "collapsed": false
   },
   "outputs": [
    {
     "name": "stdout",
     "output_type": "stream",
     "text": [
      "<!doctype html>\n",
      "<html>\n",
      "<head>\n",
      "    <meta charset=\"utf-8\">\n",
      "    <meta http-equiv=\"X-UA-Compatible\" content=\"chrome=1\">\n",
      "\n",
      "    <meta property=\"og:title\" content=\"코난아카데미\" />\n",
      "    <meta property=\"og:description\" content=\"코난아카데미 데이터분석 기초\" />\n",
      "    <meta property=\"og:type\" content=\"website\" />\n",
      "    <meta property\n"
     ]
    }
   ],
   "source": [
    "req = rq.Request(url)\n",
    "req.add_header('User-agent', 'Mozila/5.0 (compatible; MSIE 5.5; Windows NT)')\n",
    "\n",
    "data= rq.urlopen(req)\n",
    "text = data.read().decode(\"utf-8\")\n",
    "print(text[:300])"
   ]
  },
  {
   "cell_type": "markdown",
   "metadata": {},
   "source": [
    "### (노가다)파싱"
   ]
  },
  {
   "cell_type": "code",
   "execution_count": 3,
   "metadata": {
    "collapsed": false,
    "scrolled": false
   },
   "outputs": [
    {
     "data": {
      "text/plain": [
       "'github.com/KonanAcademy/da\"> GitHub </a></p>\\n    </header>\\n    <section>\\n        <h3>\\n            <a name=\"welcome-to-github-pages\" class=\"anchor\" href=\"#welcome-to-github-pages\"><span\\n                    class=\"octicon octicon-link\"></span></a>Welcome to KonanAcademy\\'s Data Analysis Baisc Pages.</h3>\\n\\n        <p>코난아카데미 데이터분석 기초</p>\\n        <pre><code>\\n            데이터 분석 기초 (2015.2~2015.3)\\n            2015년 2월 24일 - 2015년 3월\\n            매주 화, 목 저녁. 7시~9시\\n            장소: 코난테크놀로지 \\n        </code></pre>\\n        <table>\\n          <thead>\\n            <tr>\\n              <th align=\"left\"></th>\\n              <th align=\"left\">날짜</th>\\n              <th align=\"left\">제목</th>\\n              <th align=\"left\">세부사항</th>\\n            </tr>\\n          </thead>\\n          <tbody>\\n            <tr>\\n              <td align=\"left\">0</td>\\n              <td align=\"left\">2/24</td>\\n              <td align=\"left\"><ui><li><a href=\"http://nbviewer.ipython.org/github/KonanAcademy/da/blob/master/part1/00_what_is_da.ipynb\">데이터분석이란?</a></li><li><a href=\"http://nbviewer.ipython.org/github/KonanAcademy/da/blob/master/part1/00_1_python_example.ipynb\">데이터 분석 예제1(Python)</a></li><li><a href=\"'"
      ]
     },
     "execution_count": 3,
     "metadata": {},
     "output_type": "execute_result"
    }
   ],
   "source": [
    "# 특정 기준으로 잘라내서 리스트로 만든 후 https 링크만 추출해보자.\n",
    "words = text.split('https://')\n",
    "words[1]"
   ]
  },
  {
   "cell_type": "code",
   "execution_count": 4,
   "metadata": {
    "collapsed": false,
    "scrolled": true
   },
   "outputs": [
    {
     "data": {
      "text/plain": [
       "'github.com/KonanAcademy/da'"
      ]
     },
     "execution_count": 4,
     "metadata": {},
     "output_type": "execute_result"
    }
   ],
   "source": [
    "words[1].split('\">')[0]"
   ]
  },
  {
   "cell_type": "markdown",
   "metadata": {},
   "source": [
    "### a little bit of 자동화"
   ]
  },
  {
   "cell_type": "code",
   "execution_count": 5,
   "metadata": {
    "collapsed": false,
    "scrolled": false
   },
   "outputs": [
    {
     "name": "stdout",
     "output_type": "stream",
     "text": [
      "['https://github.com/KonanAcademy/da', 'https://github.com/KonanAcademy/da/blob/master/part1/00_2_R_example.md', 'https://github.com/KonanAcademy/da/blob/master/part1/00_4_R_example.md', 'https://view.officeapps.live.com/op/view.aspx?src=http%3A%2F%2Fwww.fil.ion.ucl.ac.uk%2Fspm%2Fdoc%2Fmfd%2F2010%2Fpage1%2FLinearAlgebra.ppt']\n"
     ]
    }
   ],
   "source": [
    "links = []\n",
    "\n",
    "for word in words[1:5] :\n",
    "    dummy_link = \"https://\" + word.split('\">')[0]\n",
    "    links.append(dummy_link)\n",
    "    \n",
    "print(links)"
   ]
  },
  {
   "cell_type": "markdown",
   "metadata": {},
   "source": [
    "<br><br><br>\n",
    "\n",
    "# 그럼 주가 데이터는?\n",
    "-------------------------"
   ]
  },
  {
   "cell_type": "code",
   "execution_count": 6,
   "metadata": {
    "collapsed": false
   },
   "outputs": [
    {
     "name": "stdout",
     "output_type": "stream",
     "text": [
      "f=2016&s=%5EKS11&b=20&a=4&e=30&c=2016&d=6\n"
     ]
    }
   ],
   "source": [
    "import urllib\n",
    "\n",
    "params = urllib.parse.urlencode({\"a\": 4, \"b\": 20, \"c\": 2016, \"d\": 6, \"e\": 30, \"f\": 2016, \"s\": \"^KS11\"})\n",
    "print (params)"
   ]
  },
  {
   "cell_type": "code",
   "execution_count": 7,
   "metadata": {
    "collapsed": false
   },
   "outputs": [
    {
     "name": "stdout",
     "output_type": "stream",
     "text": [
      "Date,Open,High,Low,Close,Volume,Adj Close\n",
      "2016-07-29,2023.23999,2028.98999,2016.189941,2016.189941,366400,2016.189941\n",
      "2016-07-28,2029.069946,2029.380005,2014.359985,2021.099976,350900,2021.099976\n",
      "2016\n"
     ]
    }
   ],
   "source": [
    "url = 'http://ichart.finance.yahoo.com/table.csv?g=d&ignore=.csv&%s' % params\n",
    "data = urllib.request.urlopen(url).read().decode('utf-8')\n",
    "print(data[:200])"
   ]
  },
  {
   "cell_type": "markdown",
   "metadata": {
    "collapsed": true
   },
   "source": [
    "<br><br><br>\n",
    "\n",
    "# requests 패키지 사용해보기\n",
    "-----------------------------\n",
    "\n",
    "- HTTP protocols (`get`, `post`, `put`, `delete`, `head`, `options`) 을 더욱 쉽게 사용할 수 있도록 한 third-party 패키지\n",
    "- anaconda를 설치하면 기본적으로 설치되어 있음"
   ]
  },
  {
   "cell_type": "markdown",
   "metadata": {},
   "source": [
    "### Import"
   ]
  },
  {
   "cell_type": "code",
   "execution_count": 9,
   "metadata": {
    "collapsed": true
   },
   "outputs": [],
   "source": [
    "import requests"
   ]
  },
  {
   "cell_type": "markdown",
   "metadata": {},
   "source": [
    "### url에서 데이터를 받아오기"
   ]
  },
  {
   "cell_type": "code",
   "execution_count": 29,
   "metadata": {
    "collapsed": false,
    "scrolled": true
   },
   "outputs": [
    {
     "name": "stdout",
     "output_type": "stream",
     "text": [
      "<!doctype html>\n",
      "<html>\n",
      "<head>\n",
      "    <meta charset=\"utf-8\">\n",
      "    <meta http-equiv=\"X-UA-Compatible\" content=\"chrome=1\">\n",
      "\n",
      "    <meta property=\"og:title\" content=\"코난아카데미\" />\n",
      "    <meta property=\"og:description\" content=\"코난아카데미 데이터분석 기초\" />\n",
      "    <meta property=\"og:type\" content=\"website\" />\n",
      "    <meta property=\"og:url\" content=\"http://konanacademy.github.io/da\" />\n",
      "    <title>데이터분석 기초</title>\n",
      "\n",
      "    <link rel=\"stylesheet\" href=\"stylesheets/styles.css\">\n",
      "    <link rel=\"stylesheet\" href=\"stylesheets/pygment_trac\n"
     ]
    }
   ],
   "source": [
    "url = 'http://konanacademy.github.io/da/'\n",
    "\n",
    "# `get`을 이용하여 url 요청\n",
    "req = requests.get(url)\n",
    "print(req.content.decode('utf-8')[:500])"
   ]
  },
  {
   "cell_type": "markdown",
   "metadata": {},
   "source": [
    "### html 소스 가져오기"
   ]
  },
  {
   "cell_type": "code",
   "execution_count": 3,
   "metadata": {
    "collapsed": false,
    "scrolled": true
   },
   "outputs": [
    {
     "name": "stdout",
     "output_type": "stream",
     "text": [
      "<!doctype html>\n",
      "<html>\n",
      "<head>\n",
      "    <meta charset=\"utf-8\">\n",
      "    <meta http-equiv=\"X-UA-Compatible\" content=\"chrome=1\">\n",
      "\n",
      "    <meta property=\"og:title\" content=\"코난아카데미\" />\n",
      "    <meta property=\"og:description\" content=\"코난아카데미 데이터분석 기초\" />\n",
      "    <meta property=\"og:type\" content=\"website\" />\n",
      "    <meta property\n"
     ]
    }
   ],
   "source": [
    "# HTML 소스 가져오기\n",
    "html = req.content.decode('utf-8')\n",
    "print(html[:300])\n",
    "\n",
    "# HTTP Header 가져오기\n",
    "header = req.headers\n",
    "\n",
    "# HTTP Status 가져오기 (200: 정상)\n",
    "status = req.status_code\n",
    "\n",
    "# HTTP가 정상적으로 되었는지 (True/False)\n",
    "is_ok = req.ok"
   ]
  },
  {
   "cell_type": "markdown",
   "metadata": {},
   "source": [
    "이제 위에서 가져온 html text에서 좋은 정보를 뽑아내려면 어떻게 해야할까?\n",
    "> 각각 정보의 단위로 잘라내는 것을 parsing 이라 하고 이를 엄청나게 도와주는 또다른 third-party library가 있다"
   ]
  },
  {
   "cell_type": "markdown",
   "metadata": {},
   "source": [
    "<br><br><br>\n",
    "\n",
    "# beautifulSoup 패키지 사용해보기\n",
    "-----------------------------\n",
    "\n",
    "- HTML 문서 파싱 및 태그 검색\n",
    "- https://www.crummy.com/software/BeautifulSoup/bs4/doc/\n",
    "\n",
    "BeautifulSoup 은 html 태그를 `Tag object`로 저장한다"
   ]
  },
  {
   "cell_type": "markdown",
   "metadata": {},
   "source": [
    "### Import"
   ]
  },
  {
   "cell_type": "code",
   "execution_count": 7,
   "metadata": {
    "collapsed": false
   },
   "outputs": [],
   "source": [
    "from bs4 import BeautifulSoup as bs"
   ]
  },
  {
   "cell_type": "markdown",
   "metadata": {},
   "source": [
    "### HTML 데이터 parsing\n",
    "- `html.parser` : html 데이터\n",
    "- `lxml-xml` : xml 데이터\n",
    "\n",
    "위의 에제에서 `https` 링크 자료들을 가져오고 싶었으니, html 에서 하이퍼링크를 담당하는 `<a>` 태그를 가져오려고 한다\n",
    "\n",
    "- `find_all()` : 대상 태그를 가지는 html 데이터를 list객체로 반환한다\n",
    "- `parent`: 계층구조상 한칸 위에 있는 태그를 지칭한다\n",
    "- `content` : 계층구조상 한칸 아래에 있는 태그 목록을 반환한다\n",
    "\n",
    "- `nextSibling`, `previousSibling`: 계층구조상 같은 위치에 있는 바로 앞뒤 태그를 지칭한다."
   ]
  },
  {
   "cell_type": "code",
   "execution_count": 8,
   "metadata": {
    "collapsed": false
   },
   "outputs": [],
   "source": [
    "navigator = bs(html, 'html.parser')"
   ]
  },
  {
   "cell_type": "code",
   "execution_count": 10,
   "metadata": {
    "collapsed": false,
    "scrolled": true
   },
   "outputs": [
    {
     "name": "stdout",
     "output_type": "stream",
     "text": [
      "[<a href=\"http://www.konantech.com/\">코난테크놀로지</a>, <a href=\"http://KonanAcademy.github.io\"> 코난아카데미 메인</a>, <a href=\"https://github.com/KonanAcademy/da\"> GitHub </a>, <a class=\"anchor\" href=\"#welcome-to-github-pages\" name=\"welcome-to-github-pages\"><span class=\"octicon octicon-link\"></span></a>, <a href=\"http://nbviewer.ipython.org/github/KonanAcademy/da/blob/master/part1/00_what_is_da.ipynb\">데이터분석이란?</a>]\n"
     ]
    }
   ],
   "source": [
    "a_tag_list = navigator.find_all('a')\n",
    "\n",
    "print(a_tag_list[:5])"
   ]
  },
  {
   "cell_type": "markdown",
   "metadata": {},
   "source": [
    "> 아직 부족함. 정확하게는 `a` 태그 안의 `href` 컴포넌트의 값을 받아오고 싶으니까"
   ]
  },
  {
   "cell_type": "code",
   "execution_count": 23,
   "metadata": {
    "collapsed": false
   },
   "outputs": [
    {
     "name": "stdout",
     "output_type": "stream",
     "text": [
      "['http://www.konantech.com/', 'http://KonanAcademy.github.io', 'https://github.com/KonanAcademy/da', '#welcome-to-github-pages', 'http://nbviewer.ipython.org/github/KonanAcademy/da/blob/master/part1/00_what_is_da.ipynb']\n"
     ]
    }
   ],
   "source": [
    "real_a_tag_lists = []\n",
    "\n",
    "for link in a_tag_list:\n",
    "    real_a_tag_lists.append(link.get('href')) # 실제 value는 link.string\n",
    "    \n",
    "print(real_a_tag_lists[:5])"
   ]
  },
  {
   "cell_type": "markdown",
   "metadata": {},
   "source": [
    "> 다 한건가? .. 여기 보니까 `#welcome-to-github-pages` 라는 게 있네요.. 이건 실제로 `http` 웹 릴크가 아니니까... 조금 더 수정을 해 보면"
   ]
  },
  {
   "cell_type": "code",
   "execution_count": 61,
   "metadata": {
    "collapsed": false,
    "scrolled": true
   },
   "outputs": [
    {
     "name": "stdout",
     "output_type": "stream",
     "text": [
      "http 가 아닌것들: #welcome-to-github-pages\n",
      "['http://www.konantech.com/', 'http://KonanAcademy.github.io', 'https://github.com/KonanAcademy/da', 'http://nbviewer.ipython.org/github/KonanAcademy/da/blob/master/part1/00_what_is_da.ipynb', 'http://nbviewer.ipython.org/github/KonanAcademy/da/blob/master/part1/00_1_python_example.ipynb']\n"
     ]
    }
   ],
   "source": [
    "real_a_tag_lists = []\n",
    "\n",
    "# startswith : `http`라는 단어로 시작하면 True를 반환하여 if문을 실행함\n",
    "for link in a_tag_list:\n",
    "    if link.get('href').startswith(\"http\"):\n",
    "        real_a_tag_lists.append(link.get('href'))\n",
    "    else:\n",
    "        print('http 가 아닌것들:', link.get('href'))\n",
    "\n",
    "print(real_a_tag_lists[:5])\n",
    "\n",
    "# with open('data/links.txt', 'w') as f:\n",
    "#     for i in real_a_tag_lists:\n",
    "#         f.write(i+'\\n')\n",
    "\n",
    "import pandas as pd\n",
    "\n",
    "df = pd.DataFrame(real_a_tag_lists)\n",
    "\n",
    "df.to_csv('data/lists.csv', header=False)"
   ]
  },
  {
   "cell_type": "markdown",
   "metadata": {},
   "source": [
    "> `#welcome-to-github-pages`가 빠졌다. 끝!"
   ]
  },
  {
   "cell_type": "markdown",
   "metadata": {},
   "source": [
    "### 다른 방법 (정규화 포맷 re 라이브러리)"
   ]
  },
  {
   "cell_type": "code",
   "execution_count": 15,
   "metadata": {
    "collapsed": false,
    "scrolled": true
   },
   "outputs": [
    {
     "name": "stdout",
     "output_type": "stream",
     "text": [
      "['http://www.konantech.com/', 'http://KonanAcademy.github.io', 'https://github.com/KonanAcademy/da', 'http://nbviewer.ipython.org/github/KonanAcademy/da/blob/master/part1/00_what_is_da.ipynb', 'http://nbviewer.ipython.org/github/KonanAcademy/da/blob/master/part1/00_1_python_example.ipynb']\n"
     ]
    }
   ],
   "source": [
    "import re\n",
    "\n",
    "links = []\n",
    "\n",
    "for link in navigator.find_all(href=re.compile(\"http\")):\n",
    "    links.append(link.get('href'))\n",
    "\n",
    "print(links[:5])"
   ]
  },
  {
   "cell_type": "markdown",
   "metadata": {},
   "source": [
    "<br><br><br>\n",
    "\n",
    "# 다시 주가 데이터\n",
    "-----------------------------"
   ]
  },
  {
   "cell_type": "markdown",
   "metadata": {},
   "source": [
    "### url 데이터 받기"
   ]
  },
  {
   "cell_type": "code",
   "execution_count": 64,
   "metadata": {
    "collapsed": false,
    "scrolled": true
   },
   "outputs": [
    {
     "name": "stdout",
     "output_type": "stream",
     "text": [
      "<!DOCTYPE html><html><head><script>(function(){(function(){function e(a){this.t={};this.tick=function(a,c,b){var d=void 0!=b?b:(new Date).getTime();this.t[a]=[d,c];if(void 0==b)try{window.console.timeStamp(\"CSI/\"+a)}catch(h){}};this.tick(\"start\",null,a)}var a;if(window.performance)var d=(a=window.performance.timing)&&a.responseStart;var f=0<d?new e(d):new e;window.jstiming={Timer:e,load:f};if(a){var c=a.navigationStart;0<c&&d>=c&&(window.jstiming.srt=d-c)}if(a){var b=window.jstiming.load;0<c&&d>=c&&(b.tick(\"_wtsrt\",void 0,c),b.tick(\"wtsrt_\",\"_wtsrt\",\n",
      "d),b.tick(\"tbsd_\",\"wtsrt_\"))}try{a=null,window.chrome&&window.chrome.csi&&(a=Math.floor(window.chrome.csi().pageT),b&&0<c&&(b.tick(\"_tbnd\",void 0,window.chrome.csi().startE),b.tick(\"tbnd_\",\"_tbnd\",c))),null==a&&window.gtbExternal&&(a=window.gtbExternal.pageT()),null==a&&window.external&&(a=window.external.pageT,b&&0<c&&(b.tick(\"_tbnd\",void 0,window.external.startE),b.tick(\"tbnd_\",\"_tbnd\",c))),a&&(window.jstiming.pt=a)}catch(g){}})();}).cal\n"
     ]
    }
   ],
   "source": [
    "import requests\n",
    "from bs4 import BeautifulSoup\n",
    "\n",
    "url = \"https://www.google.com/finance/historical?q=KRX%3AKOSPI200\"\n",
    "req = requests.get(url)\n",
    "print(req.text[:1000])"
   ]
  },
  {
   "cell_type": "markdown",
   "metadata": {},
   "source": [
    "### BeautifulSoup 로 text 데이터를 xml 형식으로 구조화"
   ]
  },
  {
   "cell_type": "code",
   "execution_count": 72,
   "metadata": {
    "collapsed": false
   },
   "outputs": [],
   "source": [
    "navigator = BeautifulSoup(req.text, 'lxml')\n",
    "import pandas as pd"
   ]
  },
  {
   "cell_type": "code",
   "execution_count": 73,
   "metadata": {
    "collapsed": false,
    "scrolled": true
   },
   "outputs": [
    {
     "data": {
      "text/plain": [
       "[{'close': 301.71,\n",
       "  'date': datetime.datetime(2017, 5, 24, 0, 0),\n",
       "  'high': 302.79,\n",
       "  'low': 301.23,\n",
       "  'open': 302.32,\n",
       "  'volume': 111991000},\n",
       " {'close': 311.77,\n",
       "  'date': datetime.datetime(2017, 7, 5, 0, 0),\n",
       "  'high': 312.1,\n",
       "  'low': 309.64,\n",
       "  'open': 309.87,\n",
       "  'volume': 68312000},\n",
       " {'close': 310.46,\n",
       "  'date': datetime.datetime(2017, 7, 4, 0, 0),\n",
       "  'high': 312.82,\n",
       "  'low': 309.78,\n",
       "  'open': 312.42,\n",
       "  'volume': 89184000}]"
      ]
     },
     "execution_count": 73,
     "metadata": {},
     "output_type": "execute_result"
    }
   ],
   "source": [
    "import dateutil\n",
    "\n",
    "list_records = []\n",
    "\n",
    "table = navigator.find(\"table\", class_=\"historical_price\")\n",
    "    \n",
    "for i, r in enumerate(table.find_all('tr')):\n",
    "    for j, c in enumerate(r.find_all('td')):\n",
    "        if j == 0:\n",
    "            record = {\"date\": dateutil.parser.parse(c.text.strip())}\n",
    "        elif j == 1:\n",
    "            record[\"open\"] = float(c.text.strip())\n",
    "        elif j == 2:\n",
    "            record.update({\"high\": float(c.text.strip())})\n",
    "        elif j == 3:\n",
    "            record.update({\"low\": float(c.text.strip())})\n",
    "        elif j == 4:\n",
    "            record.update({\"close\": float(c.text.strip())})\n",
    "        elif j == 5:\n",
    "            record.update({\"volume\": int(c.text.strip().replace(',',''))})\n",
    "    try:        \n",
    "        list_records.append(record)\n",
    "    except:\n",
    "        pass\n",
    "    \n",
    "list_records[:3]"
   ]
  },
  {
   "cell_type": "markdown",
   "metadata": {},
   "source": [
    "### 구조화 된 데이터를 pandas dataframe으로 "
   ]
  },
  {
   "cell_type": "code",
   "execution_count": 19,
   "metadata": {
    "collapsed": false,
    "scrolled": false
   },
   "outputs": [
    {
     "data": {
      "text/html": [
       "<div>\n",
       "<table border=\"1\" class=\"dataframe\">\n",
       "  <thead>\n",
       "    <tr style=\"text-align: right;\">\n",
       "      <th></th>\n",
       "      <th>date</th>\n",
       "      <th>open</th>\n",
       "      <th>high</th>\n",
       "      <th>low</th>\n",
       "      <th>close</th>\n",
       "      <th>volume</th>\n",
       "    </tr>\n",
       "  </thead>\n",
       "  <tbody>\n",
       "    <tr>\n",
       "      <th>25</th>\n",
       "      <td>2017-03-02</td>\n",
       "      <td>272.14</td>\n",
       "      <td>273.34</td>\n",
       "      <td>271.35</td>\n",
       "      <td>272.65</td>\n",
       "      <td>105762000</td>\n",
       "    </tr>\n",
       "    <tr>\n",
       "      <th>26</th>\n",
       "      <td>2017-02-28</td>\n",
       "      <td>269.27</td>\n",
       "      <td>270.62</td>\n",
       "      <td>269.10</td>\n",
       "      <td>270.06</td>\n",
       "      <td>88888000</td>\n",
       "    </tr>\n",
       "    <tr>\n",
       "      <th>27</th>\n",
       "      <td>2017-02-27</td>\n",
       "      <td>270.35</td>\n",
       "      <td>270.62</td>\n",
       "      <td>268.72</td>\n",
       "      <td>268.97</td>\n",
       "      <td>81075000</td>\n",
       "    </tr>\n",
       "    <tr>\n",
       "      <th>28</th>\n",
       "      <td>2017-02-24</td>\n",
       "      <td>272.61</td>\n",
       "      <td>272.84</td>\n",
       "      <td>269.76</td>\n",
       "      <td>270.38</td>\n",
       "      <td>116666000</td>\n",
       "    </tr>\n",
       "    <tr>\n",
       "      <th>29</th>\n",
       "      <td>2017-02-23</td>\n",
       "      <td>272.61</td>\n",
       "      <td>273.18</td>\n",
       "      <td>272.18</td>\n",
       "      <td>272.89</td>\n",
       "      <td>64488000</td>\n",
       "    </tr>\n",
       "  </tbody>\n",
       "</table>\n",
       "</div>"
      ],
      "text/plain": [
       "         date    open    high     low   close     volume\n",
       "25 2017-03-02  272.14  273.34  271.35  272.65  105762000\n",
       "26 2017-02-28  269.27  270.62  269.10  270.06   88888000\n",
       "27 2017-02-27  270.35  270.62  268.72  268.97   81075000\n",
       "28 2017-02-24  272.61  272.84  269.76  270.38  116666000\n",
       "29 2017-02-23  272.61  273.18  272.18  272.89   64488000"
      ]
     },
     "execution_count": 19,
     "metadata": {},
     "output_type": "execute_result"
    }
   ],
   "source": [
    "df = pd.DataFrame(list_records, \n",
    "                  columns=[\"date\", \"open\", \"high\", \"low\", \"close\", \"volume\"])\n",
    "df.tail()"
   ]
  },
  {
   "cell_type": "markdown",
   "metadata": {},
   "source": [
    "### read_html 을 이용하여 dataframe 바로 생성"
   ]
  },
  {
   "cell_type": "code",
   "execution_count": 10,
   "metadata": {
    "collapsed": false,
    "scrolled": false
   },
   "outputs": [
    {
     "data": {
      "text/html": [
       "<div>\n",
       "<table border=\"1\" class=\"dataframe\">\n",
       "  <thead>\n",
       "    <tr style=\"text-align: right;\">\n",
       "      <th></th>\n",
       "      <th>Date</th>\n",
       "      <th>Open</th>\n",
       "      <th>High</th>\n",
       "      <th>Low</th>\n",
       "      <th>Close</th>\n",
       "      <th>Volume</th>\n",
       "    </tr>\n",
       "  </thead>\n",
       "  <tbody>\n",
       "    <tr>\n",
       "      <th>0</th>\n",
       "      <td>Jul 5, 2017</td>\n",
       "      <td>309.87</td>\n",
       "      <td>312.10</td>\n",
       "      <td>309.64</td>\n",
       "      <td>311.77</td>\n",
       "      <td>68312000</td>\n",
       "    </tr>\n",
       "    <tr>\n",
       "      <th>1</th>\n",
       "      <td>Jul 4, 2017</td>\n",
       "      <td>312.42</td>\n",
       "      <td>312.82</td>\n",
       "      <td>309.78</td>\n",
       "      <td>310.46</td>\n",
       "      <td>89184000</td>\n",
       "    </tr>\n",
       "    <tr>\n",
       "      <th>2</th>\n",
       "      <td>Jul 3, 2017</td>\n",
       "      <td>312.50</td>\n",
       "      <td>312.93</td>\n",
       "      <td>310.85</td>\n",
       "      <td>312.39</td>\n",
       "      <td>71751000</td>\n",
       "    </tr>\n",
       "    <tr>\n",
       "      <th>3</th>\n",
       "      <td>Jun 30, 2017</td>\n",
       "      <td>310.61</td>\n",
       "      <td>311.76</td>\n",
       "      <td>310.17</td>\n",
       "      <td>311.76</td>\n",
       "      <td>73223000</td>\n",
       "    </tr>\n",
       "    <tr>\n",
       "      <th>4</th>\n",
       "      <td>Jun 29, 2017</td>\n",
       "      <td>312.86</td>\n",
       "      <td>313.79</td>\n",
       "      <td>312.26</td>\n",
       "      <td>312.56</td>\n",
       "      <td>103106000</td>\n",
       "    </tr>\n",
       "    <tr>\n",
       "      <th>5</th>\n",
       "      <td>Jun 28, 2017</td>\n",
       "      <td>310.71</td>\n",
       "      <td>312.03</td>\n",
       "      <td>310.47</td>\n",
       "      <td>310.84</td>\n",
       "      <td>94923000</td>\n",
       "    </tr>\n",
       "    <tr>\n",
       "      <th>6</th>\n",
       "      <td>Jun 27, 2017</td>\n",
       "      <td>311.72</td>\n",
       "      <td>312.95</td>\n",
       "      <td>311.05</td>\n",
       "      <td>312.12</td>\n",
       "      <td>131745000</td>\n",
       "    </tr>\n",
       "    <tr>\n",
       "      <th>7</th>\n",
       "      <td>Jun 26, 2017</td>\n",
       "      <td>310.53</td>\n",
       "      <td>312.22</td>\n",
       "      <td>310.13</td>\n",
       "      <td>311.89</td>\n",
       "      <td>71899000</td>\n",
       "    </tr>\n",
       "    <tr>\n",
       "      <th>8</th>\n",
       "      <td>Jun 23, 2017</td>\n",
       "      <td>309.36</td>\n",
       "      <td>310.58</td>\n",
       "      <td>308.96</td>\n",
       "      <td>310.26</td>\n",
       "      <td>81460000</td>\n",
       "    </tr>\n",
       "    <tr>\n",
       "      <th>9</th>\n",
       "      <td>Jun 22, 2017</td>\n",
       "      <td>308.60</td>\n",
       "      <td>309.47</td>\n",
       "      <td>307.28</td>\n",
       "      <td>309.47</td>\n",
       "      <td>88484000</td>\n",
       "    </tr>\n",
       "    <tr>\n",
       "      <th>10</th>\n",
       "      <td>Jun 21, 2017</td>\n",
       "      <td>307.61</td>\n",
       "      <td>308.00</td>\n",
       "      <td>306.13</td>\n",
       "      <td>307.52</td>\n",
       "      <td>100934000</td>\n",
       "    </tr>\n",
       "    <tr>\n",
       "      <th>11</th>\n",
       "      <td>Jun 20, 2017</td>\n",
       "      <td>310.55</td>\n",
       "      <td>310.63</td>\n",
       "      <td>308.72</td>\n",
       "      <td>309.31</td>\n",
       "      <td>122387000</td>\n",
       "    </tr>\n",
       "    <tr>\n",
       "      <th>12</th>\n",
       "      <td>Jun 19, 2017</td>\n",
       "      <td>307.14</td>\n",
       "      <td>309.29</td>\n",
       "      <td>306.19</td>\n",
       "      <td>308.61</td>\n",
       "      <td>87803000</td>\n",
       "    </tr>\n",
       "    <tr>\n",
       "      <th>13</th>\n",
       "      <td>Jun 16, 2017</td>\n",
       "      <td>306.97</td>\n",
       "      <td>307.40</td>\n",
       "      <td>305.82</td>\n",
       "      <td>306.79</td>\n",
       "      <td>87835000</td>\n",
       "    </tr>\n",
       "    <tr>\n",
       "      <th>14</th>\n",
       "      <td>Jun 15, 2017</td>\n",
       "      <td>308.02</td>\n",
       "      <td>308.83</td>\n",
       "      <td>305.04</td>\n",
       "      <td>306.69</td>\n",
       "      <td>95414000</td>\n",
       "    </tr>\n",
       "    <tr>\n",
       "      <th>15</th>\n",
       "      <td>Jun 14, 2017</td>\n",
       "      <td>309.53</td>\n",
       "      <td>310.05</td>\n",
       "      <td>307.03</td>\n",
       "      <td>307.95</td>\n",
       "      <td>113446000</td>\n",
       "    </tr>\n",
       "    <tr>\n",
       "      <th>16</th>\n",
       "      <td>Jun 13, 2017</td>\n",
       "      <td>306.25</td>\n",
       "      <td>308.29</td>\n",
       "      <td>306.25</td>\n",
       "      <td>308.02</td>\n",
       "      <td>94388000</td>\n",
       "    </tr>\n",
       "    <tr>\n",
       "      <th>17</th>\n",
       "      <td>Jun 12, 2017</td>\n",
       "      <td>307.74</td>\n",
       "      <td>308.31</td>\n",
       "      <td>305.59</td>\n",
       "      <td>306.24</td>\n",
       "      <td>95851000</td>\n",
       "    </tr>\n",
       "    <tr>\n",
       "      <th>18</th>\n",
       "      <td>Jun 9, 2017</td>\n",
       "      <td>307.51</td>\n",
       "      <td>310.02</td>\n",
       "      <td>307.17</td>\n",
       "      <td>309.38</td>\n",
       "      <td>118710000</td>\n",
       "    </tr>\n",
       "    <tr>\n",
       "      <th>19</th>\n",
       "      <td>Jun 8, 2017</td>\n",
       "      <td>305.70</td>\n",
       "      <td>306.87</td>\n",
       "      <td>304.17</td>\n",
       "      <td>306.25</td>\n",
       "      <td>126075000</td>\n",
       "    </tr>\n",
       "    <tr>\n",
       "      <th>20</th>\n",
       "      <td>Jun 7, 2017</td>\n",
       "      <td>306.94</td>\n",
       "      <td>307.59</td>\n",
       "      <td>305.42</td>\n",
       "      <td>305.68</td>\n",
       "      <td>87994000</td>\n",
       "    </tr>\n",
       "    <tr>\n",
       "      <th>21</th>\n",
       "      <td>Jun 5, 2017</td>\n",
       "      <td>308.52</td>\n",
       "      <td>308.59</td>\n",
       "      <td>306.79</td>\n",
       "      <td>307.33</td>\n",
       "      <td>76116000</td>\n",
       "    </tr>\n",
       "    <tr>\n",
       "      <th>22</th>\n",
       "      <td>Jun 2, 2017</td>\n",
       "      <td>305.34</td>\n",
       "      <td>308.01</td>\n",
       "      <td>305.27</td>\n",
       "      <td>307.83</td>\n",
       "      <td>94028000</td>\n",
       "    </tr>\n",
       "    <tr>\n",
       "      <th>23</th>\n",
       "      <td>Jun 1, 2017</td>\n",
       "      <td>304.74</td>\n",
       "      <td>305.30</td>\n",
       "      <td>302.99</td>\n",
       "      <td>304.03</td>\n",
       "      <td>77246000</td>\n",
       "    </tr>\n",
       "    <tr>\n",
       "      <th>24</th>\n",
       "      <td>May 31, 2017</td>\n",
       "      <td>303.79</td>\n",
       "      <td>306.18</td>\n",
       "      <td>303.64</td>\n",
       "      <td>304.67</td>\n",
       "      <td>114684000</td>\n",
       "    </tr>\n",
       "    <tr>\n",
       "      <th>25</th>\n",
       "      <td>May 30, 2017</td>\n",
       "      <td>306.89</td>\n",
       "      <td>306.99</td>\n",
       "      <td>303.11</td>\n",
       "      <td>304.59</td>\n",
       "      <td>94122000</td>\n",
       "    </tr>\n",
       "    <tr>\n",
       "      <th>26</th>\n",
       "      <td>May 29, 2017</td>\n",
       "      <td>307.98</td>\n",
       "      <td>309.32</td>\n",
       "      <td>305.13</td>\n",
       "      <td>306.52</td>\n",
       "      <td>105979000</td>\n",
       "    </tr>\n",
       "    <tr>\n",
       "      <th>27</th>\n",
       "      <td>May 26, 2017</td>\n",
       "      <td>305.41</td>\n",
       "      <td>308.51</td>\n",
       "      <td>305.07</td>\n",
       "      <td>306.96</td>\n",
       "      <td>98095000</td>\n",
       "    </tr>\n",
       "    <tr>\n",
       "      <th>28</th>\n",
       "      <td>May 25, 2017</td>\n",
       "      <td>302.83</td>\n",
       "      <td>305.34</td>\n",
       "      <td>302.18</td>\n",
       "      <td>305.22</td>\n",
       "      <td>100091000</td>\n",
       "    </tr>\n",
       "    <tr>\n",
       "      <th>29</th>\n",
       "      <td>May 24, 2017</td>\n",
       "      <td>302.32</td>\n",
       "      <td>302.79</td>\n",
       "      <td>301.23</td>\n",
       "      <td>301.71</td>\n",
       "      <td>111991000</td>\n",
       "    </tr>\n",
       "  </tbody>\n",
       "</table>\n",
       "</div>"
      ],
      "text/plain": [
       "            Date    Open    High     Low   Close     Volume\n",
       "0    Jul 5, 2017  309.87  312.10  309.64  311.77   68312000\n",
       "1    Jul 4, 2017  312.42  312.82  309.78  310.46   89184000\n",
       "2    Jul 3, 2017  312.50  312.93  310.85  312.39   71751000\n",
       "3   Jun 30, 2017  310.61  311.76  310.17  311.76   73223000\n",
       "4   Jun 29, 2017  312.86  313.79  312.26  312.56  103106000\n",
       "5   Jun 28, 2017  310.71  312.03  310.47  310.84   94923000\n",
       "6   Jun 27, 2017  311.72  312.95  311.05  312.12  131745000\n",
       "7   Jun 26, 2017  310.53  312.22  310.13  311.89   71899000\n",
       "8   Jun 23, 2017  309.36  310.58  308.96  310.26   81460000\n",
       "9   Jun 22, 2017  308.60  309.47  307.28  309.47   88484000\n",
       "10  Jun 21, 2017  307.61  308.00  306.13  307.52  100934000\n",
       "11  Jun 20, 2017  310.55  310.63  308.72  309.31  122387000\n",
       "12  Jun 19, 2017  307.14  309.29  306.19  308.61   87803000\n",
       "13  Jun 16, 2017  306.97  307.40  305.82  306.79   87835000\n",
       "14  Jun 15, 2017  308.02  308.83  305.04  306.69   95414000\n",
       "15  Jun 14, 2017  309.53  310.05  307.03  307.95  113446000\n",
       "16  Jun 13, 2017  306.25  308.29  306.25  308.02   94388000\n",
       "17  Jun 12, 2017  307.74  308.31  305.59  306.24   95851000\n",
       "18   Jun 9, 2017  307.51  310.02  307.17  309.38  118710000\n",
       "19   Jun 8, 2017  305.70  306.87  304.17  306.25  126075000\n",
       "20   Jun 7, 2017  306.94  307.59  305.42  305.68   87994000\n",
       "21   Jun 5, 2017  308.52  308.59  306.79  307.33   76116000\n",
       "22   Jun 2, 2017  305.34  308.01  305.27  307.83   94028000\n",
       "23   Jun 1, 2017  304.74  305.30  302.99  304.03   77246000\n",
       "24  May 31, 2017  303.79  306.18  303.64  304.67  114684000\n",
       "25  May 30, 2017  306.89  306.99  303.11  304.59   94122000\n",
       "26  May 29, 2017  307.98  309.32  305.13  306.52  105979000\n",
       "27  May 26, 2017  305.41  308.51  305.07  306.96   98095000\n",
       "28  May 25, 2017  302.83  305.34  302.18  305.22  100091000\n",
       "29  May 24, 2017  302.32  302.79  301.23  301.71  111991000"
      ]
     },
     "execution_count": 10,
     "metadata": {},
     "output_type": "execute_result"
    }
   ],
   "source": [
    "import requests as rs\n",
    "from bs4 import BeautifulSoup \n",
    "import html5lib\n",
    "import pandas as pd\n",
    "\n",
    "url = \"https://www.google.com/finance/historical?q=KRX%3AKOSPI200\"\n",
    "req = rs.get(url)\n",
    "\n",
    "soup = BeautifulSoup(req.text, 'html.parser')\n",
    "table = soup.find(\"table\", class_=\"historical_price\")\n",
    "\n",
    "df_table = pd.read_html(str(table), header=0)\n",
    "\n",
    "df_table[0]"
   ]
  }
 ],
 "metadata": {
  "anaconda-cloud": {},
  "kernelspec": {
   "display_name": "Python 3",
   "language": "python",
   "name": "python3"
  },
  "language_info": {
   "codemirror_mode": {
    "name": "ipython",
    "version": 3
   },
   "file_extension": ".py",
   "mimetype": "text/x-python",
   "name": "python",
   "nbconvert_exporter": "python",
   "pygments_lexer": "ipython3",
   "version": "3.5.1"
  }
 },
 "nbformat": 4,
 "nbformat_minor": 1
}
