{
 "cells": [
  {
   "cell_type": "markdown",
   "metadata": {
    "slideshow": {
     "slide_type": "-"
    }
   },
   "source": [
    "# Week 1. Introduction"
   ]
  },
  {
   "cell_type": "markdown",
   "metadata": {
    "slideshow": {
     "slide_type": "-"
    }
   },
   "source": [
    "<br><br><br>\n",
    "\n",
    "# 왜 우리는 Pythonian 이 되어야 하는갸\n",
    "-----------------------------\n",
    "\n",
    "## 유명한 언어\n",
    "\n",
    "많은 기업들(구글, 나사, 아마존, 시스코, 드랍박스, 월트디즈니 등)도 Python을 사용\n",
    "\n",
    "<img src ='https://static1.squarespace.com/static/51361f2fe4b0f24e710af7ae/t/56b1187d4c2f85efc5598bb1/1454446752995/?format=1000w' width = 450 />\n",
    "\n",
    "\n",
    "## 첫 프로그래밍 언어\n",
    "공학을 전공하는 거의 모든 학생들은 자의적이든 타이적이든 대학교과목으로서 1학년 혹은 2학년에 프로그래밍 수업 듣게 된다. 아마도 대부분의 선택되었던 프로그래밍언어는 ‘C’, ‘C++’, ‘Java’ 였을 것이다. \n",
    "\n",
    "첫 언어로 언어자체를 배우는 것이 목적이 아닌 `프로그래밍을 통해 해결해야 할 과제를 접근하는 방법에 대해서 배우는 입장`이라면 위의 언어들은 적합하지 않다.\n",
    "\n",
    "\n",
    " >언어적 문제 보다는 문제해결에 집중하기 위해서는 우선 접하기 쉬운 언어야 함\n",
    "\n",
    "\n",
    "\n",
    "## 쉬운 언어"
   ]
  },
  {
   "cell_type": "markdown",
   "metadata": {},
   "source": [
    "복잡한 문법을 필요로 하는 C, C++, JAVA 에 비해 문법이 간단하다. \n",
    "\n",
    "따라서 배우기 쉽다."
   ]
  },
  {
   "cell_type": "code",
   "execution_count": 1,
   "metadata": {
    "collapsed": false,
    "scrolled": true
   },
   "outputs": [
    {
     "name": "stdout",
     "output_type": "stream",
     "text": [
      "4가 있습니다\n"
     ]
    }
   ],
   "source": [
    "if 4 in [1,2,3,4]: \n",
    "    print (\"4가 있습니다\")"
   ]
  },
  {
   "cell_type": "markdown",
   "metadata": {},
   "source": [
    "> 만약 4라는 숫자가 1,2,3,4 라는 값들 중에 있으면  `'4가 있습니다'` 를 출력해줘\n"
   ]
  },
  {
   "cell_type": "markdown",
   "metadata": {},
   "source": [
    "### 동적 타이핑"
   ]
  },
  {
   "cell_type": "markdown",
   "metadata": {},
   "source": [
    "자바는 `정적 타이핑(static typing)`언어라 변수의 데이터 타입(type), 즉 String인지 int인지 등을 미리 지정해줘야함\n",
    "- 한 번 지정하고 나면 변수의 타입은 바뀔 수 없다.\n",
    "\n",
    "반면 파이썬은 `동적 타이핑(dynamic typing)` 언어라 변수의 데이터 타입(type) 선언할 필요도 없음 \n",
    "- 처음 선언이 된 이후에도 다른 타입으로 바뀔 수 있다."
   ]
  },
  {
   "cell_type": "markdown",
   "metadata": {},
   "source": [
    "### 이것저것 따지지 않고 코드를 보면 알 수 있음\n",
    "\n",
    "<img src ='pic/intro-1.png' width = 300 />"
   ]
  },
  {
   "cell_type": "markdown",
   "metadata": {},
   "source": [
    "<br><br><br>\n",
    "\n",
    "# 개발환경이 반이다\n",
    "-------------------\n",
    "\n",
    "### 아나콘다 설치\n",
    "\n",
    "아나콘다는 Continuum Analytics라는 곳에서 만든 파이썬 배포판으로, 445개 정도의 파이썬 패키지를 포함.\n",
    "\n",
    "_https://www.continuum.io/downloads_\n",
    "\n",
    "\n",
    "### Pycharm 설치\n",
    "Professional Edition 설치. 유료버젼이지만 학생을 대상으로는 Education 의 목적으로 무료로 배포함.\n",
    "\n",
    "_https://www.jetbrains.com/pycharm/_\n",
    "\n",
    "키보드 단축키와 IDE 테마 -> Darcula 테마는 약간 어두운 색상\n",
    "\n",
    "\n",
    "### 프로젝트 생성\n",
    "프로젝트 단위로 소스 파일을 관리\n",
    "\n",
    "1. _Create Project_ 클릭하여 프로젝트 만들기\n",
    "> - 프로젝트명에 마우스 오른쪽 버튼을 클릭한 후 New 와 Python 순서대로 클릭 \n",
    "> - 소스코드에 마우스 오른쪽 버튼을 눌러 Run 메뉴를 클릭하거나 단축키인 `Ctrl+F9`\n",
    "\n",
    "### Virtualenv 사용하기\n",
    "`virtualenv`는 각각의 독립적인 python 환경을 제공함\n",
    "가상환경을 사용함으로써 다른 python 인터프리터 및 패키지로 사용 할 수 있음 \n",
    "\n",
    "1. pycharm 에서 conda env 생성\n",
    " - `conda create -n 가상환경이름 --clone root`\n",
    "2. 가상환경으로 접속\n",
    " - `activate 가상환경이름`\n",
    " - `pip install 패키지이름` 으로 가상환경 내에서 필요한 패키지 모듈 설치 가능\n",
    "3. `deactivate` 로 가상환경 나가기\n",
    "\n",
    "\n",
    "### 패키지 관리\n",
    "`pip`는 파이썬에서 기본으로 제공하는 패키지 관리자이다. list 커맨드로 설치된 패키지 목록을 볼 수 있음.\n",
    " > `pip install (패키지 이름)`  \n",
    " \n",
    "`conda`는 Anaconda 배포판에서 파이썬 패키지(라이브러리)를 설치하고 관리하는 역할을 하는 프로그램이다\n",
    " > `conda install (패키지 이름)` \n",
    "\n",
    "\n",
    "### 수업은 Jupyter Notebook으로!\n",
    "알고리즘이나 프로그래밍을 하는 환경은 `pycharm`에서 진행을 하는것이 일반적임.\n",
    "하지만 데이터분석과 강의를 위해서는 `코드블록` 단위로 실행하고 결과를 확인 할 필요가 있음.\n",
    "\n",
    "그래서 우리는 `Jupyter Notebook` 을 사용함\n",
    "\n",
    "`주피터 노트북(Jupyter Notebook)`은 웹 브라우저를 사용하여 문서와 코드를 동시에 지원하는 개발 도구이다. 웹서버의 형태로 구현되어 있다."
   ]
  },
  {
   "cell_type": "markdown",
   "metadata": {},
   "source": [
    "<br><br><br>\n",
    "\n",
    "# Python 쌩기초\n",
    "------------------\n",
    "\n",
    "## 변수(variables)\n",
    "- 프로그래밍 언어의 가장 강력한 기능 중 하나는 변수를 다루는 능력\n",
    "- 대입문은 새 변수를 만들고 값을 부여함\n",
    "\n",
    "\n",
    "## 변수의 선언\n",
    "\n",
    "`identity = '지구인'`  변수이름 = 값\n",
    "\n",
    ">즉, `identity`라는 변수에 `'지구인'`이라는 값을 저장하라는 명령\n",
    "\n",
    "파이썬에서는 변수 이름의 대문자와 소문자를 구분하기 때문에 주의하여야 한다. 즉, `apple` 과 `Apple` 과 `APPLE` 은 모두 서로 다른 변수"
   ]
  },
  {
   "cell_type": "code",
   "execution_count": 2,
   "metadata": {
    "collapsed": false,
    "scrolled": true
   },
   "outputs": [
    {
     "name": "stdout",
     "output_type": "stream",
     "text": [
      "2\n",
      "너는 누구니?\n"
     ]
    }
   ],
   "source": [
    "#정체와 다리의 수를 출력하는 코드입니다.\n",
    "    \n",
    "\"\"\"\n",
    "여러줄을\n",
    "한 번에\n",
    "주석처리할때는 이렇게 따옴표 3개로 \n",
    "내용을 감싸주세요.\n",
    "\"\"\"\n",
    "\n",
    "identity = '지구인'\n",
    "number_of_legs = 2 #다리의 수\n",
    "print(number_of_legs)\n",
    "\n",
    "# dfasdfasdfasdfasdfasdfsadf\n",
    "# 이 아래 줄은 주석처리 되었기 때문에 실행되지 않습니다.\n",
    "print('너는 누구니?')"
   ]
  },
  {
   "cell_type": "markdown",
   "metadata": {},
   "source": [
    "## 사칙연산(연산자)"
   ]
  },
  {
   "cell_type": "code",
   "execution_count": 3,
   "metadata": {
    "collapsed": false,
    "scrolled": false
   },
   "outputs": [
    {
     "name": "stdout",
     "output_type": "stream",
     "text": [
      "<class 'int'>\n",
      "a + b = 7\n",
      "a * b = 10\n",
      "a / b = 2.5\n",
      "a ** b = 25\n",
      "a // b =  2\n",
      "a % b = 1\n"
     ]
    }
   ],
   "source": [
    "a = 5\n",
    "b = 2\n",
    "\n",
    "# 더하기 +\n",
    "adding = a + b\n",
    "\n",
    "# 곱하기 *\n",
    "multiply = a * b\n",
    "\n",
    "# 나누기 /\n",
    "divide = a / b\n",
    "\n",
    "# 거듭제곱 **\n",
    "power = a ** b\n",
    "\n",
    "# 몫\n",
    "mock = a // b\n",
    "\n",
    "#나머지 %\n",
    "remainder = a % b\n",
    "\n",
    "print(type(a))\n",
    "print('a + b =', adding)\n",
    "print('a * b =', multiply)\n",
    "print('a / b =', divide)\n",
    "print('a ** b =', power)\n",
    "print('a // b = ', mock)\n",
    "print('a % b =', remainder)"
   ]
  },
  {
   "cell_type": "markdown",
   "metadata": {},
   "source": [
    "> ### 간단한 문제!\n",
    "\n",
    "> $$ 48320−{(365−5×9)÷16}×987 = ? $$\n",
    "\n",
    "> $$ ((34−3×7)\\%5+4)^2 = ? $$\n",
    " "
   ]
  },
  {
   "cell_type": "code",
   "execution_count": 4,
   "metadata": {
    "collapsed": false
   },
   "outputs": [
    {
     "name": "stdout",
     "output_type": "stream",
     "text": [
      "28580.0\n",
      "49\n"
     ]
    }
   ],
   "source": [
    "print(48320 - (365 - 5 * 9)/16*987)\n",
    "print(((34-3*7)%5 + 4)**2)"
   ]
  },
  {
   "cell_type": "markdown",
   "metadata": {},
   "source": [
    "## 불리언(bool) - 참 거짓\n",
    "파이썬은 참과 거짓을 계산하는 부등식 연산도 가능하다. 파이썬에서는 참과 거짓을 `True` 또는 `False` 라는 값으로 나타낸다."
   ]
  },
  {
   "cell_type": "code",
   "execution_count": 5,
   "metadata": {
    "collapsed": false,
    "scrolled": false
   },
   "outputs": [
    {
     "name": "stdout",
     "output_type": "stream",
     "text": [
      "<class 'bool'>\n",
      "--------------------\n",
      "True and True: True\n",
      "True or False: True\n",
      "a and !a: False\n",
      "bool(0) bool(1): False True\n"
     ]
    }
   ],
   "source": [
    "a = True\n",
    "print(type(a))\n",
    "print('--------------------')\n",
    "\n",
    "print('True and True:', True and True)\n",
    "print('True or False:', True or False)\n",
    "print('a and !a:', a and not a)\n",
    "print('bool(0) bool(1):', bool(0), bool(1))"
   ]
  },
  {
   "cell_type": "markdown",
   "metadata": {},
   "source": [
    "## 비교\n"
   ]
  },
  {
   "cell_type": "code",
   "execution_count": 6,
   "metadata": {
    "collapsed": false,
    "scrolled": true
   },
   "outputs": [
    {
     "name": "stdout",
     "output_type": "stream",
     "text": [
      "2 == 2 True\n",
      "5 != 2 True\n",
      "5 <= 2 False\n"
     ]
    }
   ],
   "source": [
    "print('2 == 2', 2 == 2)\n",
    "print('5 != 2', 5 != 2)\n",
    "print('5 <= 2', 5 <= 2)"
   ]
  },
  {
   "cell_type": "markdown",
   "metadata": {},
   "source": [
    "## None\n",
    "- None은 파이썬에서 사용하는 널(null)값이다. 만약 어떤 함수에서 명시적으로 값을 반환하지 않으면 묵시적으로 None을 반환한다.\n",
    "- None은 예약어가 아니라 NoneType의 유일한 인스턴스이다."
   ]
  },
  {
   "cell_type": "code",
   "execution_count": 7,
   "metadata": {
    "collapsed": false
   },
   "outputs": [
    {
     "name": "stdout",
     "output_type": "stream",
     "text": [
      "a is None: True\n",
      "b is None: False\n"
     ]
    }
   ],
   "source": [
    "a = None\n",
    "b = 5\n",
    "\n",
    "print('a is None:', a is None)\n",
    "print('b is None:', b is None)"
   ]
  },
  {
   "cell_type": "markdown",
   "metadata": {},
   "source": [
    "## 문자열(string)"
   ]
  },
  {
   "cell_type": "code",
   "execution_count": 8,
   "metadata": {
    "collapsed": false,
    "scrolled": true
   },
   "outputs": [
    {
     "name": "stdout",
     "output_type": "stream",
     "text": [
      "<class 'str'>\n",
      "string: python programming is awesome\n",
      "python programming is awesomepython programming is awesomepython programming is awesomepython programming is awesomepython programming is awesome\n",
      "number 변수 타입:  <class 'int'>\n",
      "string으로 변환한 number 변수 타입:  <class 'str'>\n",
      "www.python.org\n"
     ]
    }
   ],
   "source": [
    "string = \"python programming is awesome\"\n",
    "\n",
    "print(type(string))\n",
    "print('string:', string)\n",
    "\n",
    "# 문자열 반복\n",
    "print(string * 5)\n",
    "\n",
    "# 숫자를 문자열로\n",
    "number = 7\n",
    "print('number 변수 타입: ', type(number))\n",
    "print('string으로 변환한 number 변수 타입: ', type(str(number)))\n",
    "\n",
    "# strip()함수로 문자열 버리기\n",
    "print('http://www.python.org'.strip('http://'))"
   ]
  },
  {
   "cell_type": "markdown",
   "metadata": {},
   "source": [
    "> ### 간단한 문제!\n",
    "n을 변수로 하여, n개의 \"@\"문자를 출력 해 보세요!"
   ]
  },
  {
   "cell_type": "code",
   "execution_count": 9,
   "metadata": {
    "collapsed": false
   },
   "outputs": [
    {
     "name": "stdout",
     "output_type": "stream",
     "text": [
      "@@@@@@@@@@@@@@@@@@@@@@@@@@@@@@@@@@@@@@@@@@@@@@@@@@@@@@@@@@@@@@@@@@@@@@@@@@@@@@@@@@@@@@@@@@@@@@@@@@@@\n"
     ]
    }
   ],
   "source": [
    "n = 100\n",
    "print(\"@\"*n)"
   ]
  },
  {
   "cell_type": "markdown",
   "metadata": {},
   "source": [
    "#### 자르기(인덱싱)"
   ]
  },
  {
   "cell_type": "code",
   "execution_count": 10,
   "metadata": {
    "collapsed": false,
    "scrolled": false
   },
   "outputs": [
    {
     "name": "stdout",
     "output_type": "stream",
     "text": [
      "p\n",
      "g\n",
      "e\n",
      "------------------\n",
      "ytho\n",
      "pyt\n",
      "ing is awesome\n",
      "python programming is awesome\n",
      "pto rgamn saeoe\n",
      "emosewa si gnimmargorp nohtyp\n"
     ]
    }
   ],
   "source": [
    "print(string[0])\n",
    "print(string[10])\n",
    "print(string[-1])\n",
    "\n",
    "print('------------------')\n",
    "print(string[1:5])\n",
    "print(string[:3])\n",
    "print(string[15:])\n",
    "print(string[:])\n",
    "print(string[::2])\n",
    "print(string[::-1])"
   ]
  },
  {
   "cell_type": "markdown",
   "metadata": {},
   "source": [
    "#### 쪼개기"
   ]
  },
  {
   "cell_type": "code",
   "execution_count": 11,
   "metadata": {
    "collapsed": false
   },
   "outputs": [
    {
     "name": "stdout",
     "output_type": "stream",
     "text": [
      "['python', 'programming', 'is', 'awesome']\n",
      "-------------\n",
      "['pyth', 'n pr', 'gramming is awes', 'me']\n"
     ]
    }
   ],
   "source": [
    "print(string.split())\n",
    "print('-------------')\n",
    "print(string.split('o'))"
   ]
  },
  {
   "cell_type": "markdown",
   "metadata": {},
   "source": [
    "#### 붙이기"
   ]
  },
  {
   "cell_type": "code",
   "execution_count": 12,
   "metadata": {
    "collapsed": false,
    "scrolled": true
   },
   "outputs": [
    {
     "name": "stdout",
     "output_type": "stream",
     "text": [
      "We know that python programming is awesome\n",
      "We know that python programming is awesome\n",
      "We know that python programming is awesome\n"
     ]
    }
   ],
   "source": [
    "print('We know that', string)\n",
    "\n",
    "prefix = 'We know that '\n",
    "new_string = prefix + string\n",
    "print(new_string)\n",
    "print('We', 'know','that', string)"
   ]
  },
  {
   "cell_type": "markdown",
   "metadata": {},
   "source": [
    "#### .join 붙히기"
   ]
  },
  {
   "cell_type": "code",
   "execution_count": 13,
   "metadata": {
    "collapsed": false
   },
   "outputs": [
    {
     "name": "stdout",
     "output_type": "stream",
     "text": [
      "['python', 'programming', 'is', 'awesome']\n",
      "python programming is awesome\n",
      "python/programming/is/awesome\n"
     ]
    }
   ],
   "source": [
    "splitted_string = string.split()\n",
    "print(splitted_string)\n",
    "\n",
    "connected_string  = \" \".join(splitted_string)\n",
    "print(connected_string)\n",
    "\n",
    "connected_string  = \"/\".join(splitted_string)\n",
    "print(connected_string)"
   ]
  },
  {
   "cell_type": "markdown",
   "metadata": {},
   "source": [
    "#### 치환"
   ]
  },
  {
   "cell_type": "code",
   "execution_count": 14,
   "metadata": {
    "collapsed": false,
    "scrolled": true
   },
   "outputs": [
    {
     "name": "stdout",
     "output_type": "stream",
     "text": [
      "python programming is awesome\n",
      "marathon programming is awesome\n"
     ]
    }
   ],
   "source": [
    "######## replace ###########\n",
    "print(string)\n",
    "\n",
    "replace_string = string.replace('py', 'mara')\n",
    "print(replace_string)"
   ]
  },
  {
   "cell_type": "markdown",
   "metadata": {},
   "source": [
    "#### 긴 문자열"
   ]
  },
  {
   "cell_type": "code",
   "execution_count": 15,
   "metadata": {
    "collapsed": false,
    "scrolled": false
   },
   "outputs": [
    {
     "name": "stdout",
     "output_type": "stream",
     "text": [
      "long_string: \n",
      "This is long string\n",
      "Very .\n",
      "Long .\n",
      "Wow . \n",
      "\n"
     ]
    }
   ],
   "source": [
    "######### long string ###############\n",
    "long_string = '''\n",
    "This is long string\n",
    "Very .\n",
    "Long .\n",
    "Wow . \n",
    "'''\n",
    "print('long_string:', long_string)"
   ]
  },
  {
   "cell_type": "markdown",
   "metadata": {},
   "source": [
    "#### % 포맷 사용하기"
   ]
  },
  {
   "cell_type": "code",
   "execution_count": 16,
   "metadata": {
    "collapsed": false,
    "scrolled": true
   },
   "outputs": [
    {
     "name": "stdout",
     "output_type": "stream",
     "text": [
      "I have %d apples and 3 %s\n",
      "I have 5 apples and 3 bananas\n",
      "I have 2 apples and 3 oranges\n"
     ]
    }
   ],
   "source": [
    "######## formatting ###########\n",
    "format_string = 'I have %d apples and 3 %s'\n",
    "print(format_string)\n",
    "\n",
    "print(format_string %(5, 'bananas'))\n",
    "print(format_string %(2, 'oranges'))"
   ]
  },
  {
   "cell_type": "markdown",
   "metadata": {},
   "source": [
    "#### .format 포맷 사용하기\n",
    "- 문자열을 형식화하는 새로운 방법은 .format 메서드를 이용하는 것입니다."
   ]
  },
  {
   "cell_type": "code",
   "execution_count": 17,
   "metadata": {
    "collapsed": false
   },
   "outputs": [
    {
     "name": "stdout",
     "output_type": "stream",
     "text": [
      "strings can be formatted\n",
      "bob wants to eat pizza\n"
     ]
    }
   ],
   "source": [
    "# 이 메서드를 이용하는 방법을 더 선호함\n",
    "format_string1 = \"{0} can be {1}\".format(\"strings\", \"formatted\")\n",
    "print(format_string1)\n",
    "\n",
    "name = 'bob'\n",
    "food = 'pizza'\n",
    "\n",
    "# 자릿수를 세기 싫다면 키워드를 이용\n",
    "format_string2 =\"{name} wants to eat {food}\".format(food=food, name=name)\n",
    "print(format_string2)"
   ]
  },
  {
   "cell_type": "markdown",
   "metadata": {},
   "source": [
    "# Python의 변수.... 주의\n",
    "\n",
    "아래 예제를 보면"
   ]
  },
  {
   "cell_type": "code",
   "execution_count": 18,
   "metadata": {
    "collapsed": false,
    "scrolled": true
   },
   "outputs": [
    {
     "name": "stdout",
     "output_type": "stream",
     "text": [
      "<class 'str'> python life\n",
      "life python\n",
      "---------------\n",
      "a,b : [1, 4, 3] [1, 4, 3]\n"
     ]
    }
   ],
   "source": [
    "a, b = ('python', 'life')\n",
    "print(type(a), a, b)\n",
    "\n",
    "a, b = b, a\n",
    "print(a, b)\n",
    "\n",
    "print('---------------')\n",
    "### 변수 복사 ###\n",
    "a = [1,2,3]\n",
    "b = a\n",
    "a[1] = 4\n",
    "print('a,b :', a, b)"
   ]
  },
  {
   "cell_type": "markdown",
   "metadata": {},
   "source": [
    "> - b라는 변수에 a라는 변수를 대입하였다. \n",
    "\n",
    "> - 그런 다음 a 리스트의 a[1] (a의 값 뭉텅이 중 두번째) 을 4라는 값으로 바꾸면 a 리스트만 바뀌는 것이 아니라 b 리스트도 똑같이 바뀐다. \n",
    "\n",
    "> - 그 이유는 b안에는 값 [1, 2, 3]이 아니라, a라는 변수를 가지고 있기 때문이다.\n",
    "\n",
    "> - a, b는 이름만 다를 뿐이지 완전히 동일한 것을 가리키고 있는 변수이다.\n",
    "\n",
    "\n",
    "> 일종의 pointer의 개념이며, 객체지향 인스턴스의 특징임."
   ]
  },
  {
   "cell_type": "markdown",
   "metadata": {},
   "source": [
    "<img src = 'pic/week1-1.png' width = 300 />"
   ]
  },
  {
   "cell_type": "markdown",
   "metadata": {},
   "source": [
    "그럼 어떻게 해야할까?\n",
    "- `a[:]`\n",
    "- `a.copy()`"
   ]
  },
  {
   "cell_type": "code",
   "execution_count": 19,
   "metadata": {
    "collapsed": false,
    "scrolled": false
   },
   "outputs": [
    {
     "name": "stdout",
     "output_type": "stream",
     "text": [
      "a,b : [1, 4, 3] [1, 2, 3]\n"
     ]
    }
   ],
   "source": [
    "a = [1, 2, 3]\n",
    "b = a[:] # b = a.copy()\n",
    "a[1] = 4\n",
    "print('a,b :',a, b)"
   ]
  },
  {
   "cell_type": "markdown",
   "metadata": {},
   "source": [
    "<img src = 'pic/week1-2.png' width = 300 />"
   ]
  }
 ],
 "metadata": {
  "anaconda-cloud": {},
  "kernelspec": {
   "display_name": "Python 3",
   "language": "python",
   "name": "python3"
  },
  "language_info": {
   "codemirror_mode": {
    "name": "ipython",
    "version": 3
   },
   "file_extension": ".py",
   "mimetype": "text/x-python",
   "name": "python",
   "nbconvert_exporter": "python",
   "pygments_lexer": "ipython3",
   "version": "3.5.1"
  }
 },
 "nbformat": 4,
 "nbformat_minor": 0
}
