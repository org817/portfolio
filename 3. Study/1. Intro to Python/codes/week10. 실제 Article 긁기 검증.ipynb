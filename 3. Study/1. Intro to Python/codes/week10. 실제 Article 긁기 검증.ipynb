{
 "cells": [
  {
   "cell_type": "code",
   "execution_count": 1,
   "metadata": {
    "collapsed": false
   },
   "outputs": [],
   "source": [
    "from bs4 import BeautifulSoup\n",
    "import requests\n",
    "import random\n",
    "import pandas as pd\n",
    "import xlsxwriter\n",
    "import sys\n",
    "import glob"
   ]
  },
  {
   "cell_type": "code",
   "execution_count": 2,
   "metadata": {
    "collapsed": false,
    "scrolled": true
   },
   "outputs": [
    {
     "name": "stdout",
     "output_type": "stream",
     "text": [
      "총 url 갯수: 132610\n",
      "크롤링 한 url: 80000\n"
     ]
    }
   ],
   "source": [
    "url_data = pd.read_table('D:/Crawl/data/call_urls.txt', sep='\\t', header=-1)\n",
    "url_lists = list(url_data[0])\n",
    "url_lists = list(set(url_lists))\n",
    "print('총 url 갯수:', len(url_lists))\n",
    "\n",
    "my_urls = url_lists[0:80000]\n",
    "print('크롤링 한 url:', len(my_urls))"
   ]
  },
  {
   "cell_type": "code",
   "execution_count": 3,
   "metadata": {
    "collapsed": false,
    "scrolled": true
   },
   "outputs": [
    {
     "name": "stdout",
     "output_type": "stream",
     "text": [
      "총 error_url 갯수: 11273\n",
      "[4065169, 4051028, 4049656, 4072991, 3407876]\n"
     ]
    }
   ],
   "source": [
    "error_url_data = []\n",
    "\n",
    "with open('D:/Crawl/0-79999/error_logs.txt', 'r') as f:\n",
    "    missing = f.readlines()\n",
    "    for lines in missing:\n",
    "        if lines.startswith(',,'):\n",
    "            error_url_data.append(int(lines.replace('\\n','').split(',,')[-1]))\n",
    "        else:\n",
    "            error_url_data.append(int(lines.replace('\\n','').split(',')[-1]))    \n",
    "        \n",
    "print('총 error_url 갯수:',len(error_url_data))\n",
    "print(error_url_data[:5])"
   ]
  },
  {
   "cell_type": "code",
   "execution_count": 4,
   "metadata": {
    "collapsed": false,
    "scrolled": true
   },
   "outputs": [
    {
     "name": "stdout",
     "output_type": "stream",
     "text": [
      "68727\n"
     ]
    }
   ],
   "source": [
    "gathered = glob.glob('D:/Crawl/0-79999/*.xlsx')\n",
    "print(len(gathered))"
   ]
  },
  {
   "cell_type": "code",
   "execution_count": 5,
   "metadata": {
    "collapsed": true
   },
   "outputs": [],
   "source": [
    "gathred_only_number = []\n",
    "\n",
    "for gathered_url in gathered:\n",
    "    if gathered_url not in gathred_only_number:\n",
    "        gathred_only_number.append(gathered_url.split('_')[-1].split('.')[0])"
   ]
  },
  {
   "cell_type": "code",
   "execution_count": 6,
   "metadata": {
    "collapsed": false,
    "scrolled": false
   },
   "outputs": [
    {
     "name": "stdout",
     "output_type": "stream",
     "text": [
      "총 data 갯수: 80000\n"
     ]
    }
   ],
   "source": [
    "print('총 data 갯수:', len(gathred_only_number) + len(error_url_data))"
   ]
  },
  {
   "cell_type": "code",
   "execution_count": 9,
   "metadata": {
    "collapsed": false
   },
   "outputs": [
    {
     "name": "stdout",
     "output_type": "stream",
     "text": [
      "0 50 100 150 200 250 300 350 400 450 500 550 600 650 700 750 800 850 900 950 1000 1050 1100 1150 1200 1250 1300 1350 1400 1450 1500 1550 1600 1650 1700 1750 1800 1850 1900 1950 2000 2050 2100 2150 2200 2250 2300 2350 2400 2450 2500 2550 2600 2650 2700 2750 2800 2850 2900 2950 3000 3050 3100 3150 3200 3250 3300 3350 3400 3450 3500 3550 3600 3650 3700 3750 3800 3850 3900 3950 4000 4050 4100 4150 4200 4250 4300 4350 4400 4450 4500 4550 4600 4650 4700 4750 4800 4850 4900 4950 5000 5050 5100 5150 5200 5250 5300 5350 5400 5450 5500 5550 5600 5650 5700 5750 5800 5850 5900 5950 6000 6050 6100 6150 6200 6250 6300 6350 6400 6450 6500 6550 6600 6650 6700 6750 6800 6850 6900 6950 7000 7050 7100 7150 7200 7250 7300 7350 7400 7450 7500 7550 7600 7650 7700 7750 7800 7850 7900 7950 8000 8050 8100 8150 8200 8250 8300 8350 8400 8450 8500 8550 8600 8650 8700 8750 8800 8850 8900 8950 9000 9050 9100 9150 9200 9250 9300 9350 9400 9450 9500 9550 9600 9650 9700 9750 9800 9850 9900 9950 10000 10050 10100 10150 10200 10250 10300 10350 10400 10450 10500 10550 10600 10650 10700 10750 10800 10850 10900 10950 11000 11050 11100 11150 11200 11250 "
     ]
    }
   ],
   "source": [
    "error_in_gathered = []\n",
    "error_but_not_gathered = []\n",
    "\n",
    "for i, url in enumerate(error_url_data):\n",
    "    if (i%50 == 0):\n",
    "        print(i, end=' ')\n",
    "    \n",
    "    if url in gathred_only_number:\n",
    "        error_in_gathered.append(url)\n",
    "    else:\n",
    "        error_but_not_gathered.append(url)"
   ]
  },
  {
   "cell_type": "code",
   "execution_count": 10,
   "metadata": {
    "collapsed": false,
    "scrolled": true
   },
   "outputs": [
    {
     "name": "stdout",
     "output_type": "stream",
     "text": [
      "error에서 이미 gathering 된 중복 데이터: 0\n",
      "error에서 gathering 안된 데이터: 11273\n"
     ]
    }
   ],
   "source": [
    "print('error에서 이미 gathering 된 중복 데이터:', len(error_in_gathered))\n",
    "print('error에서 gathering 안된 데이터:', len(error_but_not_gathered))\n"
   ]
  },
  {
   "cell_type": "code",
   "execution_count": null,
   "metadata": {
    "collapsed": true
   },
   "outputs": [],
   "source": [
    "def save_logs(url_digits):\n",
    "    log_path = 'D:/Crawl/save_logs.txt'\n",
    "    \n",
    "    with open(log_path, 'a') as f:\n",
    "        f.write(str(url_digits) + ' : done ' + '\\n')"
   ]
  },
  {
   "cell_type": "code",
   "execution_count": null,
   "metadata": {
    "collapsed": false
   },
   "outputs": [],
   "source": [
    "def save_error_urls(h, p, url):\n",
    "    path = 'D:/Crawl/error_logs.txt'\n",
    "        \n",
    "    with open(path, 'a') as f:\n",
    "        f.write(h + ',' + p + ',' + url + '\\n')"
   ]
  },
  {
   "cell_type": "code",
   "execution_count": null,
   "metadata": {
    "collapsed": true
   },
   "outputs": [],
   "source": [
    "print('----------start-------------')\n",
    "\n",
    "for i, url_digit in enumerate(url_lists[60000:80000]):\n",
    "    \n",
    "    if (i%50 == 0):\n",
    "        print(i, end=' ')\n",
    "    \n",
    "    url = base_url + str(url_digit)\n",
    "\n",
    "    try:\n",
    "        data_dict = get_earnings(url)\n",
    "        if (data_dict is not None):\n",
    "            format_xls(url_digit, data_dict)\n",
    "            save_logs(url_digit)\n",
    "    except:\n",
    "        try:\n",
    "            data_dict = get_earnings(url)\n",
    "            if (data_dict is not None):\n",
    "                format_xls(url_digit, data_dict)\n",
    "                save_logs(url_digit)\n",
    "        except:\n",
    "            e = sys.exc_info()[1]\n",
    "            save_error_urls(str(e), '::', url.split('/')[-1])\n",
    "            \n",
    "    randtime = 0.5 + round(random.random(),2)\n",
    "    time.sleep(randtime)\n",
    "\n",
    "print('\\n----------end-------------')"
   ]
  }
 ],
 "metadata": {
  "anaconda-cloud": {},
  "kernelspec": {
   "display_name": "Python [default]",
   "language": "python",
   "name": "python3"
  },
  "language_info": {
   "codemirror_mode": {
    "name": "ipython",
    "version": 3
   },
   "file_extension": ".py",
   "mimetype": "text/x-python",
   "name": "python",
   "nbconvert_exporter": "python",
   "pygments_lexer": "ipython3",
   "version": "3.5.2"
  }
 },
 "nbformat": 4,
 "nbformat_minor": 1
}
