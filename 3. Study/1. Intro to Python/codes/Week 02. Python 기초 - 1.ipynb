{
 "cells": [
  {
   "cell_type": "markdown",
   "metadata": {
    "nbpresent": {
     "id": "b72862f0-06bf-41f0-89df-53f1e5160b81"
    }
   },
   "source": [
    "# Week 2. Python 기초\n",
    "\n",
    "<br><br><br>\n",
    "\n",
    "# 들여쓰기 (Identation)\n",
    "---------------------------\n",
    "- 코딩블럭(기능을 가지는 코드 다발)을 표시하기 위해 들여쓰기(Identation)를 사용\n",
    "- python의 특징으로 가독성이 높음, 하지만 세심한 주의를 요함\n",
    "- 콜론`:`을 사용하고 내부의 코딩블럭은 동일한 들여쓰기(4개의 공백)를 함\n",
    "\n",
    "<br><br><br>\n",
    "# (흐름)제어문\n",
    "----------------------------\n",
    "\n",
    "# 조건문 if\n",
    "`if ~ else` 명령을 사용하면 조건에 따라 다른 명령을 수행할 수 있다.\n",
    "\n",
    "- 조건문을 테스트해서 참이면 if문 바로 다음의 문장(if 블록)들을 수행하고\n",
    "- 조건문이 거짓이면 else문 다음의 문장(else 블록)들을 수행함 \n",
    "- 그러므로 else문은 if문 없이 독립적으로 사용할 수 없음.\n",
    "\n",
    "\n",
    "```python\n",
    "if condition:\n",
    "    condition이 참일 때 실행되는 명령\n",
    "else:\n",
    "    condition이 거짓일 때 실행되는 명령\n",
    "```\n",
    "\n",
    "이 때 주의할 점은 참 또는 거짓일 때 실행되는 명령들은 빈칸 4칸  띄우고(또는 `tab` 한 번) 써야함.\n",
    "\n",
    "\n",
    "#### if 조건문에서 \"조건문(condition)\"이란?\n",
    "참과 거짓을 판단하는 문장.자료형의 참과 거짓에 대해서 몇 가지만 다시 살펴보면 다음과 같은 것들이 있음\n",
    "<img src='pic/week2-1.png' width = 250 />"
   ]
  },
  {
   "cell_type": "code",
   "execution_count": 1,
   "metadata": {
    "collapsed": false,
    "nbpresent": {
     "id": "47a50ce7-bc0f-4c7d-b06a-85b37f56de9e"
    }
   },
   "outputs": [
    {
     "name": "stdout",
     "output_type": "stream",
     "text": [
      "5 는(은) 1 보다 크닷!\n",
      "--------------------\n",
      "둘중에 적어도 하나는 짝수\n",
      "end\n"
     ]
    }
   ],
   "source": [
    "a = 5\n",
    "\n",
    "if a > 1:\n",
    "    print(a, \"는(은) 1 보다 크닷!\")\n",
    "else:\n",
    "    pass\n",
    "    \n",
    "print('--------------------')\n",
    "\n",
    "######## if - else ###########\n",
    "a = 7\n",
    "b = 10\n",
    "if (a % 2 == 0) or (b % 2 == 0):\n",
    "    print(\"둘중에 적어도 하나는 짝수\")\n",
    "else:\n",
    "    print(\"하나는 홀수\")\n",
    "    \n",
    "print('end')"
   ]
  },
  {
   "cell_type": "markdown",
   "metadata": {
    "nbpresent": {
     "id": "156ce66e-7d37-4391-8d2d-6255cfdc32f0"
    }
   },
   "source": [
    "`if a > 1:` 다음 문장은 Tap 키 또는 Spacebar키 4개를 이용해 반드시 들여쓰기 한 후에  `print(\"a 는 1 보다 크닷!\")` 이라고 작성해야 한다.\n",
    "\n",
    "#### and, or, not\n",
    "한번에 여러 조건을 동시에 판단하기 위해 사용하는 연산자로는 `and`, `or`, `not`이 있음\n",
    "\n",
    "<img src='pic/week2-2.png' width = 300 />\n",
    "\n",
    "#### x in s, x not in s\n",
    "더 나아가 파이썬은 다른 프로그래밍 언어에서 쉽게 볼 수 없는 재미있는 조건문들을 제공함\n",
    "<img src ='pic/week2-3.png' width = 230/>"
   ]
  },
  {
   "cell_type": "code",
   "execution_count": 2,
   "metadata": {
    "collapsed": false
   },
   "outputs": [
    {
     "name": "stdout",
     "output_type": "stream",
     "text": [
      "명단에 있습니다.\n"
     ]
    }
   ],
   "source": [
    "my_univ = 'unist'\n",
    "univ_list = ['unist','kaist','postec','snu']\n",
    "\n",
    "if my_univ in univ_list:\n",
    "    print('명단에 있습니다.')\n",
    "else:\n",
    "    print('명단에 없습니다.')"
   ]
  },
  {
   "cell_type": "code",
   "execution_count": 3,
   "metadata": {
    "collapsed": false,
    "nbpresent": {
     "id": "2cdfaee3-abc2-4ee8-8ca4-cbec87703bbc"
    },
    "scrolled": true
   },
   "outputs": [
    {
     "name": "stdout",
     "output_type": "stream",
     "text": [
      "True\n",
      "False\n"
     ]
    }
   ],
   "source": [
    "# 위 구조로도 if문의 `조건문`으로 사용할 수 있음\n",
    "print(1 in [1, 2, 3])\n",
    "print('j' in 'python')"
   ]
  },
  {
   "cell_type": "markdown",
   "metadata": {
    "nbpresent": {
     "id": "d1dcffdf-f733-4851-9028-1c5429857fb4"
    }
   },
   "source": [
    "## 조건이 여러 개일 때에는 elif\n",
    "\n",
    "> ## 문제 \n",
    ">만약 10문제를 보는 시험에서 8개 이상을 맞으면 성적이 \"A\", 8개 미만이고 5개 이상을 맞으면 \"B\", \" 5개 미만을 맞으면 \"C\"가 된다면 점수는 다음과 같이 계산할 수 있다."
   ]
  },
  {
   "cell_type": "code",
   "execution_count": 4,
   "metadata": {
    "collapsed": false,
    "nbpresent": {
     "id": "38e49abc-29bd-40d6-a4a8-64beebc23f77"
    },
    "scrolled": true
   },
   "outputs": [
    {
     "name": "stdout",
     "output_type": "stream",
     "text": [
      "A\n"
     ]
    }
   ],
   "source": [
    "student = 10\n",
    "\n",
    "if student >= 8:\n",
    "    print(\"A\")\n",
    "elif (5 <= student < 8) :   \n",
    "    print(\"B\")\n",
    "else:\n",
    "    print(\"C\")"
   ]
  },
  {
   "cell_type": "markdown",
   "metadata": {
    "nbpresent": {
     "id": "129d33d1-42d2-4d97-b76a-50c9aaf3c10c"
    }
   },
   "source": [
    "#### pass 할 때도 있어야지"
   ]
  },
  {
   "cell_type": "code",
   "execution_count": 5,
   "metadata": {
    "collapsed": true,
    "nbpresent": {
     "id": "789bde34-c2d2-4818-8689-1d3b64382e19"
    }
   },
   "outputs": [],
   "source": [
    "x = 0\n",
    "\n",
    "if x < 0 :\n",
    "    print('negative!')\n",
    "elif x == 0 :\n",
    "    # TODO : 나중에 뭔가 추가 할 수 있다\n",
    "    pass         # pass는 파이썬의 아무것도 하지 않음을 나타냄\n",
    "else :\n",
    "    print('positive!')"
   ]
  },
  {
   "cell_type": "markdown",
   "metadata": {
    "nbpresent": {
     "id": "4852d9d9-dbb2-49f5-8919-a355bd4bba29"
    }
   },
   "source": [
    "## if 조건문의 간단한 표현(삼단표현)\n",
    "if-else 블록을 한 줄로 표현 가능\n",
    "\n",
    "```python\n",
    "varable = \"true-expr\" if \"condition\" else \"false-expr\"\n",
    "```"
   ]
  },
  {
   "cell_type": "code",
   "execution_count": 6,
   "metadata": {
    "collapsed": false,
    "nbpresent": {
     "id": "f87d4f2e-cf06-430c-ac34-b9e80ec23cc8"
    },
    "scrolled": true
   },
   "outputs": [
    {
     "name": "stdout",
     "output_type": "stream",
     "text": [
      "Non-negative\n"
     ]
    }
   ],
   "source": [
    "x = 5\n",
    "\n",
    "a = 'Non-negative' if x >= 0 else 'Negative'\n",
    "print(a)"
   ]
  },
  {
   "cell_type": "markdown",
   "metadata": {
    "nbpresent": {
     "id": "4481587c-8bc2-438e-bfc8-7b58a76fc473"
    }
   },
   "source": [
    "# 범위! range\n",
    "`range(x)` 는 0부터 x-1 숫자만큼 1씩 증가하는 `리스트`(값 뭉텅이)를 만드는 함수"
   ]
  },
  {
   "cell_type": "code",
   "execution_count": 22,
   "metadata": {
    "collapsed": false,
    "nbpresent": {
     "id": "b48d7662-cbbb-4df7-b2ad-ca072be03e4a"
    },
    "scrolled": false
   },
   "outputs": [
    {
     "name": "stdout",
     "output_type": "stream",
     "text": [
      "range(10): range(0, 10)\n",
      "<class 'range'>\n",
      "[0, 1, 2, 3, 4, 5, 6, 7, 8, 9]\n",
      "--------------------\n",
      "range(0,10,2): range(0, 10, 2)\n",
      "[0, 2, 4, 6, 8]\n",
      "[10, 8, 6, 4, 2]\n",
      "--------------------\n",
      "0\n",
      "2\n",
      "4\n",
      "6\n",
      "8\n",
      "--------------------------------\n",
      "0\n",
      "2\n",
      "4\n",
      "6\n",
      "8\n"
     ]
    }
   ],
   "source": [
    "print('range(10):', range(10))\n",
    "print(type(range(10)))\n",
    "print(list(range(10)))\n",
    "print('--------------------')\n",
    "\n",
    "print('range(0,10,2):', range(0,10,2))\n",
    "print(list(range(0,10,2)))\n",
    "print(list(range(10,0,-2)))\n",
    "print('--------------------')\n",
    "\n",
    "######################\n",
    "for i in range(0,10,2):\n",
    "    print(i)\n",
    "    \n",
    "print('--------------------------------')\n",
    "\n",
    "#############################\n",
    "seq = [0, 2, 4, 6, 8]\n",
    "for i in range(len(seq)) :\n",
    "    val = seq[i]\n",
    "    print(val)"
   ]
  },
  {
   "cell_type": "markdown",
   "metadata": {
    "nbpresent": {
     "id": "8ed3e4d0-3d23-44df-9116-71959d8481ec"
    }
   },
   "source": [
    "<br><br><br>\n",
    "# 반복문 for\n",
    "--------------------\n",
    "파이썬에서는 명령이 반복될 수 있게 하는 `for` 반복문을 사용할 수 있다. 반복문은 영어로 loop라고 한다.\n",
    "\n",
    "```python\n",
    "for '카운터변수' in 'collection' : \n",
    "    '반복해서 실행할 명령'\n",
    "```"
   ]
  },
  {
   "cell_type": "code",
   "execution_count": 8,
   "metadata": {
    "collapsed": false,
    "nbpresent": {
     "id": "aaad3787-626c-4922-a641-4cc424eec04a"
    },
    "scrolled": true
   },
   "outputs": [
    {
     "name": "stdout",
     "output_type": "stream",
     "text": [
      "1\n",
      "2\n",
      "3\n",
      "4\n"
     ]
    }
   ],
   "source": [
    "for a in [1,2,3,4]:\n",
    "    print(a)"
   ]
  },
  {
   "cell_type": "markdown",
   "metadata": {
    "nbpresent": {
     "id": "4a057571-72b0-4f30-a92f-1e34011539f4"
    }
   },
   "source": [
    "아래 코드의 의미는 \n",
    "\n",
    "- `[1, 2, 3]`이라는 리스트의 앞에서부터 하나씩 꺼내어 `a`라는 변수에 대입한 후 `print(a)`를 수행하라\"이다. \n",
    "\n",
    "- 당연히 `a`에 차례로 `1, 2, 3`이라는 값이 대입되며 `print(a)`에 의해서 그 값이 차례대로 출력된다."
   ]
  },
  {
   "cell_type": "code",
   "execution_count": 9,
   "metadata": {
    "collapsed": false,
    "nbpresent": {
     "id": "bc98534f-51f0-444f-8ab8-f968efa62450"
    }
   },
   "outputs": [
    {
     "name": "stdout",
     "output_type": "stream",
     "text": [
      "=1=\n",
      "=2=\n",
      "=3=\n",
      "=4=\n",
      "=5=\n",
      "=6=\n",
      "=7=\n",
      "=8=\n",
      "=9=\n",
      "=10=\n",
      "end\n"
     ]
    }
   ],
   "source": [
    "for i in range(10):\n",
    "    print(\"=\" + str(i+1) + \"=\")\n",
    "print('end')"
   ]
  },
  {
   "cell_type": "markdown",
   "metadata": {
    "nbpresent": {
     "id": "e6db2455-c559-491b-b7c8-a981694839ac"
    }
   },
   "source": [
    "> ## 문제\n",
    "> for 반복문과 문자열 연산을 사용하여 다음과 같이 인쇄해보렴.\n",
    "\n",
    "```\n",
    "*\n",
    "**\n",
    "***\n",
    "****\n",
    "*****\n",
    "******\n",
    "*******\n",
    "********\n",
    "*********\n",
    "**********\n",
    "```"
   ]
  },
  {
   "cell_type": "code",
   "execution_count": 10,
   "metadata": {
    "collapsed": false
   },
   "outputs": [
    {
     "name": "stdout",
     "output_type": "stream",
     "text": [
      "*\n",
      "**\n",
      "***\n",
      "****\n",
      "*****\n",
      "******\n",
      "*******\n",
      "********\n",
      "*********\n",
      "**********\n"
     ]
    }
   ],
   "source": [
    "for i in range(10):\n",
    "    print(\"*\"*(i+1))"
   ]
  },
  {
   "cell_type": "markdown",
   "metadata": {
    "nbpresent": {
     "id": "dc2755bf-f0a9-425a-9af3-ba8d375d816e"
    }
   },
   "source": [
    "## 중첩 for 반복문\n",
    "\n",
    "- 반복문 안에서 다시 반복문을 실행해야 하는 경우\n",
    "- for 반복문 안에 다시 for 반복문을 사용하는 중첩 반복문(nested loop)\n",
    "\n",
    "\n",
    "> ## 문제 \n",
    "> 1부터 6까지의 눈금이 있는 주사위를 두 번 던져서 나온 모든 경우의 수를 표시해보자"
   ]
  },
  {
   "cell_type": "code",
   "execution_count": 11,
   "metadata": {
    "collapsed": false,
    "nbpresent": {
     "id": "aeac0238-1f9d-4464-9a4d-797f1220654c"
    },
    "scrolled": false
   },
   "outputs": [
    {
     "name": "stdout",
     "output_type": "stream",
     "text": [
      "1 1\n",
      "1 2\n",
      "1 3\n",
      "1 4\n",
      "1 5\n",
      "1 6\n",
      "2 1\n",
      "2 2\n",
      "2 3\n",
      "2 4\n",
      "2 5\n",
      "2 6\n",
      "3 1\n",
      "3 2\n",
      "3 3\n",
      "3 4\n",
      "3 5\n",
      "3 6\n",
      "4 1\n",
      "4 2\n",
      "4 3\n",
      "4 4\n",
      "4 5\n",
      "4 6\n",
      "5 1\n",
      "5 2\n",
      "5 3\n",
      "5 4\n",
      "5 5\n",
      "5 6\n",
      "6 1\n",
      "6 2\n",
      "6 3\n",
      "6 4\n",
      "6 5\n",
      "6 6\n"
     ]
    }
   ],
   "source": [
    "for i in range(6):\n",
    "    for j in range(6):\n",
    "        print(i+1,j+1)"
   ]
  },
  {
   "cell_type": "markdown",
   "metadata": {
    "nbpresent": {
     "id": "2c863759-12a4-42ee-a944-d10dbed10eb8"
    }
   },
   "source": [
    "> ## 문제 - 좀 더 어렵게 \n",
    "> 만약 주사위를 두 번 던져서 나온 숫자들의 합이 4의 배수가 되는 경우만 구해야 한다면"
   ]
  },
  {
   "cell_type": "code",
   "execution_count": 12,
   "metadata": {
    "collapsed": false,
    "nbpresent": {
     "id": "3bb5e465-d774-46d5-a8cf-3199cc917d4b"
    }
   },
   "outputs": [
    {
     "name": "stdout",
     "output_type": "stream",
     "text": [
      "1 3\n",
      "2 2\n",
      "2 6\n",
      "3 1\n",
      "3 5\n",
      "4 4\n",
      "5 3\n",
      "6 2\n",
      "6 6\n"
     ]
    }
   ],
   "source": [
    "for i in range(6):\n",
    "    n1 = i+1\n",
    "    for j in range(6):\n",
    "        n2 = j+1\n",
    "        n_sum = n1 + n2\n",
    "        if n_sum % 4 == 0:\n",
    "            print(n1, n2)\n",
    "        else:\n",
    "            pass"
   ]
  },
  {
   "cell_type": "markdown",
   "metadata": {
    "nbpresent": {
     "id": "cd86d6ed-ef2e-4819-9a7b-07453337ee9d"
    }
   },
   "source": [
    "<br><br><br>\n",
    "# 반복문 while\n",
    "--------------------\n",
    "\n",
    "for문과 마찬가지로 반복해서 문장을 수행할 수 있도록 해준다.\n",
    "\n",
    "```python\n",
    "while (조건문):\n",
    "    (실행문)\n",
    "```"
   ]
  },
  {
   "cell_type": "code",
   "execution_count": 13,
   "metadata": {
    "collapsed": false,
    "nbpresent": {
     "id": "642fdb70-985b-465f-84d9-e66510576010"
    },
    "scrolled": false
   },
   "outputs": [
    {
     "name": "stdout",
     "output_type": "stream",
     "text": [
      "1\n",
      "2\n",
      "3\n"
     ]
    }
   ],
   "source": [
    "i = 0\n",
    "\n",
    "while i < 3:\n",
    "    i += 1\n",
    "    print(i)"
   ]
  },
  {
   "cell_type": "markdown",
   "metadata": {
    "nbpresent": {
     "id": "7b6afe67-1d71-4030-a51d-3118c4a1025b"
    }
   },
   "source": [
    "> - 위의 예제는 i 값이 3보다 작은 동안 i=i+1과 print(i)를 수행하라는 말이다.\n",
    "\n",
    "> - i=i+1이라는 문장은 i의 값을 1씩 더하게 한다. i 값이 3보다 커지게 되면 while문을 빠져나가게 된다\n",
    "\n",
    "#### print(i, end=\" \")와 같이 입력 인수 `end`를 넣어 준 이유\n",
    "해당 결과값을 출력할 때 다음줄로 넘기지 않고 그 줄에 계속해서 출력 할 수 있음."
   ]
  },
  {
   "cell_type": "markdown",
   "metadata": {
    "nbpresent": {
     "id": "abe63a62-4b62-4d16-836c-7e252771c0a2"
    }
   },
   "source": [
    "## 조건에 맞지 않는 경우 맨 처음으로\n",
    "while문을 빠져나가지 않고 while문의 맨 처음(조건문)으로 다시 돌아가게 만들고 싶은 경우가 생김.\n",
    "\n",
    "이때 사용하는 것이 바로 `continue` 임"
   ]
  },
  {
   "cell_type": "code",
   "execution_count": 14,
   "metadata": {
    "collapsed": false,
    "nbpresent": {
     "id": "6b0b7307-228a-40a3-8544-44d2672428bf"
    }
   },
   "outputs": [
    {
     "name": "stdout",
     "output_type": "stream",
     "text": [
      "1\n",
      "3\n",
      "5\n",
      "7\n",
      "9\n"
     ]
    }
   ],
   "source": [
    "a = 0\n",
    "\n",
    "while a < 10:\n",
    "    a = a+1\n",
    "    if a % 2 == 0: \n",
    "        continue\n",
    "    print(a, end='\\n')"
   ]
  },
  {
   "cell_type": "markdown",
   "metadata": {
    "nbpresent": {
     "id": "e785cba5-9a32-4494-aa96-3892ba24b8e6"
    }
   },
   "source": [
    "> - 1부터 10까지의 숫자 중 홀수만을 출력하는 예이다. a가 10보다 작은 동안 a는 1만큼씩 계속 증가한다.\n",
    "> - `if a % 2 == 0`(a를 2로 나누었을 때 나머지가 0인 경우)이 참이 되는 경우는 a가 짝수일 때이다. 즉, a가 짝수이면 continue 문장을 수행"
   ]
  },
  {
   "cell_type": "markdown",
   "metadata": {
    "nbpresent": {
     "id": "26d72852-8a8a-473e-828b-55652a82f43b"
    }
   },
   "source": [
    "## while문 강제로 빠져나가기\n",
    "while문은 조건문이 참인 동안 계속해서 while문 안의 내용을 반복적으로 수행함.\n",
    "\n",
    "하지만 강제로 while문을 빠져나가고 싶을 때가 있는데 이 때 특정조건이 만족될 때 `break`문을 쓰면 됨."
   ]
  },
  {
   "cell_type": "code",
   "execution_count": 15,
   "metadata": {
    "collapsed": false,
    "nbpresent": {
     "id": "095e1b2f-b353-4884-a0cd-462e0190ab0f"
    },
    "scrolled": true
   },
   "outputs": [
    {
     "name": "stdout",
     "output_type": "stream",
     "text": [
      "돈을 받았으니 커피를 줍니다.\n",
      "남은 커피의 양은 2개입니다.\n",
      "돈을 받았으니 커피를 줍니다.\n",
      "남은 커피의 양은 1개입니다.\n",
      "돈을 받았으니 커피를 줍니다.\n",
      "남은 커피의 양은 0개입니다.\n",
      "커피가 다 떨어졌습니다. 판매를 중지합니다.\n"
     ]
    }
   ],
   "source": [
    "coffee = 3\n",
    "money = 300\n",
    "\n",
    "while money > 0:\n",
    "    print(\"돈을 받았으니 커피를 줍니다.\")\n",
    "    coffee = coffee -1\n",
    "    print(\"남은 커피의 양은 %d개입니다.\" %coffee)\n",
    "    if coffee == 0:\n",
    "        print(\"커피가 다 떨어졌습니다. 판매를 중지합니다.\")\n",
    "        break"
   ]
  },
  {
   "cell_type": "markdown",
   "metadata": {
    "nbpresent": {
     "id": "4a352130-fe9c-4e13-96a3-997e9fa1d4f5"
    }
   },
   "source": [
    "> - `money`가 `false`가 아니니까 무한 루프를 돌게 된다.\n",
    "> - 그리고 while문의 내용을 한 번 수행할 때마다 `coffee = coffee - 1`에 의해서 coffee의 개수가 1개씩 줄어든다. \n",
    "> - 만약 `coffee`가 0이 되면 `if not coffee:`라는 문장에서 `not coffee`가 `True`이 되므로 if문 다음의 문장인 \"커피가 다 떨어졌습니다. 판매를 중지합니다.\"가 수행되고 `break`문이 호출되어 `while`문을 빠져나가게 된다.\n",
    "\n",
    "<br><br><br>"
   ]
  },
  {
   "cell_type": "markdown",
   "metadata": {},
   "source": [
    "<br><br><br>\n",
    "\n",
    "# 함수(Function)\n",
    "-----------------------\n",
    "함수(function)는 입력(input)을 받으면 그 입력에 해당하는 출력(output)을 내놓는 바로 그 무엇임\n",
    "<img src= \"https://upload.wikimedia.org/wikipedia/commons/thumb/3/3b/Function_machine2.svg/220px-Function_machine2.svg.png\" width =200/>\n",
    "\n",
    "```python\n",
    "def 함수이름(입력변수):\n",
    "   출력변수를 만드는 명령\n",
    "   return 출력변수이름\n",
    "```\n",
    "> - `def` (define)는 함수를 만들 때 사용하는 예약어이다.\n",
    "> - `return`은 정해진 함수의 역할을 다 하고 호출 한 곳으로 값을 돌려주는 역할을 한다."
   ]
  },
  {
   "cell_type": "code",
   "execution_count": 16,
   "metadata": {
    "collapsed": true
   },
   "outputs": [],
   "source": [
    "def sum(a, b, c):\n",
    "    d = a + b + c\n",
    "    return d"
   ]
  },
  {
   "cell_type": "code",
   "execution_count": 17,
   "metadata": {
    "collapsed": false,
    "nbpresent": {
     "id": "ca65cb93-99eb-419c-9a48-b958a9102531"
    },
    "scrolled": true
   },
   "outputs": [
    {
     "name": "stdout",
     "output_type": "stream",
     "text": [
      "12\n"
     ]
    }
   ],
   "source": [
    "first = 3\n",
    "second = 4\n",
    "third = 5\n",
    "\n",
    "outcome = sum(first, second, third)\n",
    "print(outcome)"
   ]
  },
  {
   "cell_type": "markdown",
   "metadata": {
    "nbpresent": {
     "id": "2b5c81ea-6432-4004-960f-dec43b631eb1"
    }
   },
   "source": [
    "> - 위의 예제는 `sum`이라는 함수를 만들고 그 함수를 어떻게 사용하는지를 보여준다. `sum(a, b)`에서 a, b는 입력값이고, c (a+b)는 결과값이다. \n",
    "> - 즉 3, 4가 입력으로 들어오면 3+4를 수행하고 그 결과값인 7을 돌려(return) 준다."
   ]
  },
  {
   "cell_type": "markdown",
   "metadata": {},
   "source": [
    "> ## 문제 \n",
    "> 만약 10문제를 보는 시험에서 8개 이상을 맞으면 성적이 \"A\", 8개 미만이고 5개 이상을 맞으면 \"B\", \" 5개 미만을 맞으면 \"C\"를 출력하는 함수 `grade`를 만들어보세요.\n",
    "\n",
    "\n",
    "> 짝수가 입력되면 \"짝수\"라는 문자열을, 홀수가 입력되면 \"홀수\"라는 문자열을 반환하는 함수 `evenOrOdd` 함수를 만들어보세요.\n"
   ]
  },
  {
   "cell_type": "code",
   "execution_count": 18,
   "metadata": {
    "collapsed": false
   },
   "outputs": [],
   "source": [
    "def grade(student_score):\n",
    "    if student_score >= 8:\n",
    "        dummy =  \"A\"\n",
    "    elif (5 <= student_score < 8) :   \n",
    "        dummy = \"B\"\n",
    "    else:\n",
    "        dummy = \"C\"\n",
    "    \n",
    "    return dummy\n",
    "\n",
    "\n",
    "final = grade(9)"
   ]
  },
  {
   "cell_type": "markdown",
   "metadata": {
    "nbpresent": {
     "id": "072b5982-745e-416b-ab6b-d7a8bfeca842"
    }
   },
   "source": [
    "## 지역(local variable)과 전국(global variable)\n",
    "\n",
    "- **지역변수**: 함수 안에서 만들어지고 사용되는 함수를 지역 변수, 영어로 local variable\n",
    "> - 함수에 넣은 입력 변수나 함수 안에서 만들어진 변수는 함수 바깥에서는 사용할 수 없다. \n",
    "> - 혹시 이름이 같은 변수가 있다고 하더라도 별개의 변수가 된다."
   ]
  },
  {
   "cell_type": "markdown",
   "metadata": {
    "nbpresent": {
     "id": "addbc472-8bde-4c88-95df-e0c07cad7521"
    }
   },
   "source": [
    "- **전역변수** : 지역 변수와 반대로 함수 바깥에서 만들어진 변수는 함수 안에서도 사용 가능, 영어로 global variable\n",
    "> - 함수에 넣은 입력 변수나 함수 안에서 만들어진 변수는 함수 바깥에서는 사용할 수 없다. \n",
    "> - 혹시 이름이 같은 변수가 있다고 하더라도 별개의 변수가 된다. 만약 바깥의 변수와 같은 이름의 변수를 함수 안에 다시 만들면 함수 안에서는 그 지역 변수를 사용하다가 함수 바깥으로 나오면 지역 변수는 사라지고 원래의 변수값으로 되돌아 온다.\n",
    "> - 따라서, 함수 안에서는 함수 바깥에 있는 전역 변수의 값을 바꿀 수 없다."
   ]
  },
  {
   "cell_type": "code",
   "execution_count": 23,
   "metadata": {
    "collapsed": false,
    "nbpresent": {
     "id": "7a594866-5ace-42f5-9d73-b993738e823f"
    },
    "scrolled": false
   },
   "outputs": [
    {
     "name": "stdout",
     "output_type": "stream",
     "text": [
      "함수 안의 변수 y = 990\n",
      "함수 안의 변수 z = 99\n",
      "함수 밖의 변수 z = 3\n"
     ]
    }
   ],
   "source": [
    "z = 3\n",
    "\n",
    "def globalization(x):\n",
    "#     global z\n",
    "    z = 99\n",
    "    y = z * x\n",
    "    print(\"함수 안의 변수 y =\", y)\n",
    "    print(\"함수 안의 변수 z =\", z)\n",
    "    return y\n",
    "\n",
    "c = globalization(10)\n",
    "\n",
    "# 함수 바깥에서는 여전히 z = 3\n",
    "print('함수 밖의 변수 z =',z)"
   ]
  },
  {
   "cell_type": "markdown",
   "metadata": {
    "nbpresent": {
     "id": "31fd1b0a-396a-43f0-9d44-3cf6d9099127"
    }
   },
   "source": [
    "만약 함수안에서 함수 바깥에 있는 변수의 값을 꼭 바꿔야만 한다면 다음과 같이 변수이름 앞에 `global` 키워드를 선언해 주면 된다."
   ]
  },
  {
   "cell_type": "markdown",
   "metadata": {},
   "source": [
    "## 예외처리"
   ]
  },
  {
   "cell_type": "code",
   "execution_count": 20,
   "metadata": {
    "collapsed": false,
    "scrolled": true
   },
   "outputs": [
    {
     "name": "stdout",
     "output_type": "stream",
     "text": [
      "1.2\n",
      "something\n"
     ]
    }
   ],
   "source": [
    "def attempt_float(x) :\n",
    "    try:\n",
    "        return float(x)\n",
    "    except:\n",
    "        return x\n",
    "    \n",
    "print(attempt_float('1.2'))          #float 로 변환 가능한 string \n",
    "print(attempt_float('something'))    # float 로 변환 불가능한 string"
   ]
  },
  {
   "cell_type": "markdown",
   "metadata": {
    "nbpresent": {
     "id": "8d5c4726-86f5-487f-b227-d95309711a2f"
    }
   },
   "source": [
    "<br><br><br>\n",
    "# 나만의 함수 - 모듈\n",
    "-----------------\n",
    "\n",
    "만약 내가 손수 만든 함수들이 있고, 그 것들이 다른 파일에 있다면 그 함수더미(`module`)을 불러와서 사용해아할텐데..\n",
    "\n",
    "위의 외장함수를 사용하는 것 과 같이 `import`를 이용하여 불러서 사용함"
   ]
  },
  {
   "cell_type": "markdown",
   "metadata": {
    "nbpresent": {
     "id": "8bd63f6b-0c91-479b-8cce-09b511277b51"
    }
   },
   "source": [
    "```python\n",
    "# mod1.py 라는 파일에 sum이라는 함수를 만들었다\n",
    "def sum(a, b):\n",
    "    c = a + b\n",
    "    return c\n",
    "```"
   ]
  },
  {
   "cell_type": "markdown",
   "metadata": {
    "nbpresent": {
     "id": "0a586388-9e13-4665-a158-361d504e14d4"
    }
   },
   "source": [
    "위의 sum이라는 함수를 다른 파일들에서는 아래와 같이 사용함\n",
    "```python\n",
    "import mod1\n",
    "print(mod1.sum(3,4))\n",
    "\n",
    ">>> 7\n",
    "```"
   ]
  },
  {
   "cell_type": "markdown",
   "metadata": {
    "nbpresent": {
     "id": "2f8b90dd-1a2f-4a4d-ab3a-5180bb0624c0"
    }
   },
   "source": [
    "때로는 mod1. 조차 귀찮거나 저 파일을 다 부를 필요가 없을 때도 있음. 이때는 \n",
    "\n",
    "```python\n",
    "from mod1 import sum\n",
    "sum(3, 4)\n",
    "\n",
    ">>> 7\n",
    "```"
   ]
  },
  {
   "cell_type": "code",
   "execution_count": 21,
   "metadata": {
    "collapsed": false
   },
   "outputs": [
    {
     "name": "stdout",
     "output_type": "stream",
     "text": [
      "1.414\n",
      "3.14\n"
     ]
    }
   ],
   "source": [
    "import math\n",
    "\n",
    "a = math.sqrt(2)\n",
    "print(round(a,3))\n",
    "print(round(math.pi,2))"
   ]
  }
 ],
 "metadata": {
  "anaconda-cloud": {},
  "kernelspec": {
   "display_name": "Python 3",
   "language": "python",
   "name": "python3"
  },
  "language_info": {
   "codemirror_mode": {
    "name": "ipython",
    "version": 3
   },
   "file_extension": ".py",
   "mimetype": "text/x-python",
   "name": "python",
   "nbconvert_exporter": "python",
   "pygments_lexer": "ipython3",
   "version": "3.5.1"
  },
  "nbpresent": {
   "slides": {
    "31ad53e6-ba4c-472b-96ec-2f25cb2e5752": {
     "id": "31ad53e6-ba4c-472b-96ec-2f25cb2e5752",
     "prev": "777830bc-856d-4b77-90ec-4f354bd74ec0",
     "regions": {}
    },
    "777830bc-856d-4b77-90ec-4f354bd74ec0": {
     "id": "777830bc-856d-4b77-90ec-4f354bd74ec0",
     "layout": "treemap",
     "prev": null,
     "regions": {}
    }
   },
   "themes": {}
  }
 },
 "nbformat": 4,
 "nbformat_minor": 1
}
