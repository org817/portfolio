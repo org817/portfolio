{
 "cells": [
  {
   "cell_type": "markdown",
   "metadata": {},
   "source": [
    "# Week 03. Python 기초 - 3 \n",
    "\n",
    "<br><br><br>\n",
    "\n",
    "# Python 내장 함수\n",
    "--------------------------"
   ]
  },
  {
   "cell_type": "markdown",
   "metadata": {},
   "source": [
    "## Type\n",
    "`type(object)`은 입력값의 자료형이 무엇인지 알려주는 함수이다."
   ]
  },
  {
   "cell_type": "code",
   "execution_count": 1,
   "metadata": {
    "collapsed": false
   },
   "outputs": [
    {
     "name": "stdout",
     "output_type": "stream",
     "text": [
      "<class 'str'>\n",
      "<class 'list'>\n",
      "<class '_io.TextIOWrapper'>\n"
     ]
    }
   ],
   "source": [
    "print(type(\"abc\"))\n",
    "print(type([ ]))\n",
    "print(type(open(\"test\", 'w')))"
   ]
  },
  {
   "cell_type": "markdown",
   "metadata": {},
   "source": [
    "## abs(절대값)\n",
    "`abs(x)`는 어떤 숫자를 입력으로 받았을 때, 그 숫자의 절대값을 돌려주는 함수이다."
   ]
  },
  {
   "cell_type": "code",
   "execution_count": 2,
   "metadata": {
    "collapsed": false,
    "scrolled": true
   },
   "outputs": [
    {
     "name": "stdout",
     "output_type": "stream",
     "text": [
      "3\n",
      "3\n",
      "1.2\n"
     ]
    }
   ],
   "source": [
    "print(abs(3))\n",
    "print(abs(-3))\n",
    "print(abs(-1.2))"
   ]
  },
  {
   "cell_type": "markdown",
   "metadata": {},
   "source": [
    "## dir (객체의 변수와 함수)\n",
    "`dir`은 객체가 자체적으로 가지고 있는 변수나 함수를 보여 준다. "
   ]
  },
  {
   "cell_type": "code",
   "execution_count": 3,
   "metadata": {
    "collapsed": false,
    "scrolled": true
   },
   "outputs": [
    {
     "data": {
      "text/plain": [
       "['__add__',\n",
       " '__class__',\n",
       " '__contains__',\n",
       " '__delattr__',\n",
       " '__delitem__',\n",
       " '__dir__',\n",
       " '__doc__',\n",
       " '__eq__',\n",
       " '__format__',\n",
       " '__ge__',\n",
       " '__getattribute__',\n",
       " '__getitem__',\n",
       " '__gt__',\n",
       " '__hash__',\n",
       " '__iadd__',\n",
       " '__imul__',\n",
       " '__init__',\n",
       " '__iter__',\n",
       " '__le__',\n",
       " '__len__',\n",
       " '__lt__',\n",
       " '__mul__',\n",
       " '__ne__',\n",
       " '__new__',\n",
       " '__reduce__',\n",
       " '__reduce_ex__',\n",
       " '__repr__',\n",
       " '__reversed__',\n",
       " '__rmul__',\n",
       " '__setattr__',\n",
       " '__setitem__',\n",
       " '__sizeof__',\n",
       " '__str__',\n",
       " '__subclasshook__',\n",
       " 'append',\n",
       " 'clear',\n",
       " 'copy',\n",
       " 'count',\n",
       " 'extend',\n",
       " 'index',\n",
       " 'insert',\n",
       " 'pop',\n",
       " 'remove',\n",
       " 'reverse',\n",
       " 'sort']"
      ]
     },
     "execution_count": 3,
     "metadata": {},
     "output_type": "execute_result"
    }
   ],
   "source": [
    "dir([1, 2, 3])"
   ]
  },
  {
   "cell_type": "markdown",
   "metadata": {},
   "source": [
    "## isinstance\n",
    "`isinstance(object, class)`는 첫 번째 인수로 인스턴스, 두 번째 인수로 클래스 이름을 받는다.\n",
    "\n",
    "입력으로 받은 인스턴스가 그 클래스의 인스턴스인지를 판단하여 참이면 `True`, 거짓이면 `False`를 리턴한다."
   ]
  },
  {
   "cell_type": "code",
   "execution_count": 2,
   "metadata": {
    "collapsed": false
   },
   "outputs": [
    {
     "data": {
      "text/plain": [
       "True"
      ]
     },
     "execution_count": 2,
     "metadata": {},
     "output_type": "execute_result"
    }
   ],
   "source": [
    "class Person:\n",
    "    pass\n",
    "\n",
    "a = Person()\n",
    "\n",
    "isinstance(a, Person)"
   ]
  },
  {
   "cell_type": "markdown",
   "metadata": {},
   "source": [
    "## input\n",
    "`input([prompt])`은 사용자 입력을 받는 함수이다.\n",
    "\n",
    "> ※ [ ] 기호는 괄호 안의 내용을 생략할 수 있다는 관례적인 표기법임을 기억하자."
   ]
  },
  {
   "cell_type": "code",
   "execution_count": 1,
   "metadata": {
    "collapsed": false,
    "scrolled": false
   },
   "outputs": [
    {
     "name": "stdout",
     "output_type": "stream",
     "text": [
      "이름을 입력 해 보세요: hgjhgfhg\n",
      "b: hgjhgfhg\n"
     ]
    }
   ],
   "source": [
    "b = input(\"이름을 입력 해 보세요: \")\n",
    "print('b:',b)"
   ]
  },
  {
   "cell_type": "markdown",
   "metadata": {},
   "source": [
    "## len\n",
    "`len(s)`은 입력값 s의 길이(요소의 전체 개수)를 리턴하는 함수이다."
   ]
  },
  {
   "cell_type": "code",
   "execution_count": 6,
   "metadata": {
    "collapsed": false
   },
   "outputs": [
    {
     "name": "stdout",
     "output_type": "stream",
     "text": [
      "6\n",
      "3\n",
      "-----------------\n",
      "10\n",
      "20\n",
      "30\n"
     ]
    }
   ],
   "source": [
    "print(len(\"python\"))\n",
    "print(len([1,2,3]))\n",
    "print('-----------------')\n",
    "\n",
    "a = [10,20,30]\n",
    "\n",
    "for i in range(len(a)):\n",
    "    print(a[i])"
   ]
  },
  {
   "cell_type": "markdown",
   "metadata": {},
   "source": [
    "## list\n",
    "`list(s)`는 반복 가능한 자료형을 입력받아 리스트로 만들어 리턴하는 함수이다."
   ]
  },
  {
   "cell_type": "code",
   "execution_count": 7,
   "metadata": {
    "collapsed": false
   },
   "outputs": [
    {
     "name": "stdout",
     "output_type": "stream",
     "text": [
      "['p', 'y', 't', 'h', 'o', 'n']\n",
      "[1, 2, 3]\n"
     ]
    }
   ],
   "source": [
    "print(list(\"python\"))\n",
    "print(list((1,2,3)))"
   ]
  },
  {
   "cell_type": "markdown",
   "metadata": {},
   "source": [
    "## enumerate\n",
    "`enumerate`는 \"열거하다\"라는 뜻이다. 이 함수는 순서가 있는 자료형(리스트, 튜플, 문자열)을 입력으로 받아 인덱스 값을 포함하는 `enumerate` 객체를 리턴한다.\n",
    "\n",
    "> ※ 보통 enumerate 함수는 아래 예제처럼 for문과 함께 자주 사용된다."
   ]
  },
  {
   "cell_type": "code",
   "execution_count": 14,
   "metadata": {
    "collapsed": false
   },
   "outputs": [
    {
     "name": "stdout",
     "output_type": "stream",
     "text": [
      "0 body\n",
      "1 foo\n",
      "2 bar\n"
     ]
    }
   ],
   "source": [
    "for i, name in enumerate(['body', 'foo', 'bar']):\n",
    "    print(i, name)"
   ]
  },
  {
   "cell_type": "markdown",
   "metadata": {},
   "source": [
    "## sorted\n",
    "`sorted` 함수는 정렬된 새로운 순차 자료형을 반환한다.\n",
    "\n",
    "리스트 자료형에도 `sort`라는 함수가 있다. 하지만 리스트 자료형의 `sort` 함수는 리스트 객체 그 자체를 정렬만 할 뿐 정렬된 결과를 리턴하지는 않는다."
   ]
  },
  {
   "cell_type": "code",
   "execution_count": 9,
   "metadata": {
    "collapsed": false,
    "scrolled": true
   },
   "outputs": [
    {
     "name": "stdout",
     "output_type": "stream",
     "text": [
      "[1, 2, 3]\n",
      "['a', 'b', 'c']\n",
      "['e', 'o', 'r', 'z']\n",
      "[1, 2, 3]\n"
     ]
    }
   ],
   "source": [
    "print(sorted([3, 1, 2]))\n",
    "print(sorted(['a', 'c', 'b']))\n",
    "print(sorted(\"zero\"))\n",
    "print(sorted((3, 2, 1)))"
   ]
  },
  {
   "cell_type": "markdown",
   "metadata": {},
   "source": [
    "## zip\n",
    "`zip()`은 동일한 개수로 이루어진 자료형을 묶어 주는 역할을 하는 함수이다."
   ]
  },
  {
   "cell_type": "code",
   "execution_count": 7,
   "metadata": {
    "collapsed": false,
    "scrolled": false
   },
   "outputs": [
    {
     "name": "stdout",
     "output_type": "stream",
     "text": [
      "[(1, 4), (2, 5), (3, 6)]\n",
      "[(1, 2, 3), (4, 5, 6)]\n",
      "{1: 4, 2: 5, 3: 6}\n",
      "------------------------------\n",
      "[(1, 4, 7), (2, 5, 8), (3, 6, 9)]\n",
      "[('a', 'd'), ('b', 'e'), ('c', 'f')]\n"
     ]
    }
   ],
   "source": [
    "# zip\n",
    "print(list(zip([1, 2, 3], [4, 5, 6])))\n",
    "\n",
    "#unzip\n",
    "print(list(zip((1, 4), (2, 5), (3, 6))))\n",
    "\n",
    "# zip to dict\n",
    "print(dict(zip([1, 2, 3], [4, 5, 6])))\n",
    "\n",
    "print('-'*30)\n",
    "print(list(zip([1, 2, 3], [4, 5, 6], [7, 8, 9])))\n",
    "print(list(zip(\"abc\", \"def\")))"
   ]
  },
  {
   "cell_type": "markdown",
   "metadata": {},
   "source": [
    "<br><br><br>\n",
    "# 어렵지만, 중요한 함수들 (자주 사용하진 않습니다)\n",
    "------------------------"
   ]
  },
  {
   "cell_type": "markdown",
   "metadata": {},
   "source": [
    "## lambda\n",
    "`lambda`는 함수를 생성할 때 사용하는 예약어로, `def`와 동일한 역할을 한다. 보통 함수를 한줄로 간결하게 만들 때 사용한다. \n",
    "\n",
    "`def`를 사용해야 할 정도로 복잡하지 않거나 단 한번만 함수로서 사용을 해야 할 경우 주로 쓰인다. "
   ]
  },
  {
   "cell_type": "code",
   "execution_count": 8,
   "metadata": {
    "collapsed": false
   },
   "outputs": [
    {
     "name": "stdout",
     "output_type": "stream",
     "text": [
      "12\n"
     ]
    }
   ],
   "source": [
    "prod = lambda a, b: a*b\n",
    "\n",
    "# def sum(a,b):\n",
    "#     return a+b\n",
    "\n",
    "print(prod(3,4))"
   ]
  },
  {
   "cell_type": "code",
   "execution_count": 13,
   "metadata": {
    "collapsed": false,
    "scrolled": true
   },
   "outputs": [
    {
     "name": "stdout",
     "output_type": "stream",
     "text": [
      "[{'y': 1, 'x': 4}, {'y': 3, 'x': 2}]\n"
     ]
    }
   ],
   "source": [
    "points = [{ 'x' : 2, 'y' : 3 },{ 'x' : 4, 'y' : 1 } ] \n",
    "\n",
    "points.sort(key=lambda i : i['y']) \n",
    "\n",
    "print(points)"
   ]
  },
  {
   "cell_type": "code",
   "execution_count": 14,
   "metadata": {
    "collapsed": false
   },
   "outputs": [
    {
     "name": "stdout",
     "output_type": "stream",
     "text": [
      "['aaaa', 'foo', 'abab', 'bar', 'card']\n"
     ]
    }
   ],
   "source": [
    "# 다양한 문자열이 포함되어 있는 순서를 기준으로 sort\n",
    "\n",
    "strings = ['foo', 'card', 'bar', 'aaaa', 'abab']\n",
    "strings.sort(key=lambda x: len(set(list(x))))\n",
    "\n",
    "print(strings)"
   ]
  },
  {
   "cell_type": "code",
   "execution_count": 15,
   "metadata": {
    "collapsed": false,
    "scrolled": true
   },
   "outputs": [
    {
     "name": "stdout",
     "output_type": "stream",
     "text": [
      "7\n",
      "12\n"
     ]
    }
   ],
   "source": [
    "myList = [lambda a,b:a+b, lambda a,b:a*b]\n",
    "print(myList[0](3,4)) # 앞의 함수 - 두 수의 합\n",
    "print(myList[1](3,4)) # 뒤의 함수 - 두 수의 곱"
   ]
  },
  {
   "cell_type": "markdown",
   "metadata": {},
   "source": [
    "## filter\n",
    "`filter` 함수는 첫 번째 인수로 함수 이름을, 두 번째 인수로 그 함수에 차례로 들어갈 반복 가능한 자료형을 받는다. \n",
    "\n",
    "그리고 두 번째 인수인 반복 가능한 자료형 요소들이 첫 번째 인수인 함수에 입력되었을 때 리턴값이 참인 것만 묶어서(걸러내서) 돌려준다."
   ]
  },
  {
   "cell_type": "code",
   "execution_count": 16,
   "metadata": {
    "collapsed": false
   },
   "outputs": [
    {
     "name": "stdout",
     "output_type": "stream",
     "text": [
      "[1, 2, 6]\n"
     ]
    }
   ],
   "source": [
    "def positive(x):\n",
    "    return x > 0\n",
    "\n",
    "print(list(filter(positive, [1, -3, 2, 0, -5, 6])))"
   ]
  },
  {
   "cell_type": "markdown",
   "metadata": {},
   "source": [
    "두 번째 인수인 리스트의 요소들이 첫 번째 인수인 positive 함수에 입력되었을 때 리턴값이 참인 것만 묶어서 돌려준다. 앞의 예에서는 1, 2, 6만 양수여서 x > 0 이라는 문장이 참이 되므로 [1, 2, 6]이라는 결과값을 리턴하게 된 것이다.\n",
    "\n",
    "<img src = 'pic/week3-2.png' width = 150 />\n",
    "\n",
    "\n",
    "위 예제를 더 간단히 하면"
   ]
  },
  {
   "cell_type": "code",
   "execution_count": 17,
   "metadata": {
    "collapsed": false,
    "scrolled": false
   },
   "outputs": [
    {
     "name": "stdout",
     "output_type": "stream",
     "text": [
      "[1, 2, 6]\n"
     ]
    }
   ],
   "source": [
    "print(list(filter(lambda x: x > 0, [1,-3,2,0,-5,6])))"
   ]
  },
  {
   "cell_type": "code",
   "execution_count": 7,
   "metadata": {
    "collapsed": false
   },
   "outputs": [
    {
     "name": "stdout",
     "output_type": "stream",
     "text": [
      "[0, 3, 6, 9, 12, 15]\n",
      "['Python']\n",
      "[36, 49, 64]\n"
     ]
    }
   ],
   "source": [
    "my_list = range(16)\n",
    "print(list(filter(lambda x: x % 3 == 0, my_list)))\n",
    "\n",
    "\n",
    "languages = [\"HTML\", \"JavaScript\", \"Python\", \"Ruby\"]\n",
    "print(list(filter(lambda x: x == \"Python\", languages)))\n",
    "\n",
    "\n",
    "squares = [x ** 2 for x in range(1, 11)]\n",
    "print(list(filter(lambda x: x >= 30 and x <= 70, squares)))"
   ]
  },
  {
   "cell_type": "markdown",
   "metadata": {},
   "source": [
    "## map\n",
    "`map(f, iterable)`은 함수(`f`)와 반복 가능한(iterable) 자료형을 입력으로 받는다. `map`은 입력받은 자료형의 각 요소가 함수 `f`에 의해 수행된 결과를 묶어서 리턴하는 함수이다."
   ]
  },
  {
   "cell_type": "code",
   "execution_count": 20,
   "metadata": {
    "collapsed": false
   },
   "outputs": [
    {
     "name": "stdout",
     "output_type": "stream",
     "text": [
      "[1, 2, 3, 4, 5] [2, 4, 6, 8, 10]\n"
     ]
    }
   ],
   "source": [
    "def f(x) :\n",
    "    return x*2\n",
    "\n",
    "x = [1, 2, 3, 4, 5]\n",
    "y = map(f, x)\n",
    "\n",
    "print (x, list(y))"
   ]
  },
  {
   "cell_type": "code",
   "execution_count": 23,
   "metadata": {
    "collapsed": false
   },
   "outputs": [
    {
     "data": {
      "text/plain": [
       "[2, 4, 6, 8, 10]"
      ]
     },
     "execution_count": 23,
     "metadata": {},
     "output_type": "execute_result"
    }
   ],
   "source": [
    "def two_times(x):\n",
    "    return x*2\n",
    "\n",
    "list(map(two_times, [1, 2, 3, 4, 5]))"
   ]
  },
  {
   "cell_type": "code",
   "execution_count": 27,
   "metadata": {
    "collapsed": false
   },
   "outputs": [
    {
     "name": "stdout",
     "output_type": "stream",
     "text": [
      "[2, 4, 6, 8, 10]\n"
     ]
    }
   ],
   "source": [
    "y = map(lambda a:a*2, x)\n",
    "print(list(y))"
   ]
  },
  {
   "cell_type": "markdown",
   "metadata": {},
   "source": [
    "> - 먼저 리스트의 첫 번째 요소인 1이 two_times 함수의 입력값으로 들어가고, 1 * 2의 과정을 거쳐서 2가 된다.\n",
    "> - 다음으로 리스트의 두 번째 요소인 2가 2 * 2의 과정을 거쳐 4가 된다. 따라서 결과값 리스트는 이제 [2, 4]가 된다. \n",
    "> - 총 4개의 요소값이 모두 수행되면 최종적으로 [2, 4, 6, 8]이 리턴된다. 이것이 map 함수가 하는 일이다.\n",
    "\n",
    "<img src = 'pic/week3-3.png' width = 130 />\n",
    "\n",
    "앞의 예는 lambda를 사용하면 다음처럼 간략하게 만들 수 있다."
   ]
  },
  {
   "cell_type": "code",
   "execution_count": 19,
   "metadata": {
    "collapsed": false
   },
   "outputs": [
    {
     "data": {
      "text/plain": [
       "[2, 4, 6, 8]"
      ]
     },
     "execution_count": 19,
     "metadata": {},
     "output_type": "execute_result"
    }
   ],
   "source": [
    "list(map(lambda a: a*2, [1, 2, 3, 4]))"
   ]
  },
  {
   "cell_type": "markdown",
   "metadata": {},
   "source": [
    "<br><br><br>\n",
    "# Python 표준 라이브러리 - 외장함수\n",
    "--------------------------\n",
    "\n",
    "- 상당히 많은 표준 라이브러리들을 제공\n",
    "- 표준 라이브러리를 불러다 쓰기 위해서는 `import`문을 사용\n",
    "\n",
    "파이썬에서 모듈은 다른 .py 파일에서 추가해서 사용할 수 있는 함수와 변수 선언을 담고 있는 .py 파일이다."
   ]
  },
  {
   "cell_type": "markdown",
   "metadata": {},
   "source": [
    "## math\n",
    "\n",
    "`math`에 있는 `sqrt()`라는 함수를 불러다 쓰기 위해서는, 아래 예제와 같이 `import math` 를 실행하고, `math.sqrt()` 함수를 호출하면 된다."
   ]
  },
  {
   "cell_type": "code",
   "execution_count": 33,
   "metadata": {
    "collapsed": false
   },
   "outputs": [
    {
     "name": "stdout",
     "output_type": "stream",
     "text": [
      "3.0\n"
     ]
    }
   ],
   "source": [
    "import math\n",
    " \n",
    "n = math.sqrt(9.0)\n",
    "print(n)   # 3.0 출력"
   ]
  },
  {
   "cell_type": "markdown",
   "metadata": {},
   "source": [
    "## Reduce\n",
    "`reduce(f(x,y), iterable)`의 첫 인수는 함수(`f`), 두번째 인수는 시퀀스(순서가 있는)자료형(`iterable`) 이다.\n",
    "\n",
    "두번째 인수인 시퀀스의 자료들은 순차적으로 reduce가 받은 함수의 첫 번째 인자(`x`), 두 번째 인자(`y`)로 전달된다. 첫 인수`x`는 함수의 계산 결과가 누적적으로 적용됨.  일반적으로 `lambda` 함수와 같이 사용됨\n",
    "\n",
    "단, 처음 계산에서는 시퀀스의 두 개의 요소가 함수에 전달된다.\n",
    "\n",
    "<img src = 'pic/week3-4.png' width=150/>"
   ]
  },
  {
   "cell_type": "code",
   "execution_count": 34,
   "metadata": {
    "collapsed": false
   },
   "outputs": [
    {
     "data": {
      "text/plain": [
       "10"
      ]
     },
     "execution_count": 34,
     "metadata": {},
     "output_type": "execute_result"
    }
   ],
   "source": [
    "from functools import reduce\n",
    "\n",
    "# 1부터 5까지 더하기\n",
    "# 다음 코드는 이 수식과 동일하다. ((1+2)+3)+4\n",
    "\n",
    "reduce(lambda x, y: x + y, [1, 2, 3, 4])"
   ]
  },
  {
   "cell_type": "markdown",
   "metadata": {},
   "source": [
    "## random\n",
    "`random`은 난수(규칙이 없는 임의의 수)를 발생시키는 모듈임"
   ]
  },
  {
   "cell_type": "code",
   "execution_count": 32,
   "metadata": {
    "collapsed": false
   },
   "outputs": [
    {
     "name": "stdout",
     "output_type": "stream",
     "text": [
      "0.7755713233058449\n",
      "2\n"
     ]
    }
   ],
   "source": [
    "import random\n",
    "\n",
    "# 0.0 ~ 1.0 사이의 실수 중 난수값을 리턴함\n",
    "print(random.random())\n",
    "\n",
    "# 1 ~ 10 사이의 정수 중 난수값을 리턴함\n",
    "print(random.randint(1, 6))"
   ]
  },
  {
   "cell_type": "code",
   "execution_count": 33,
   "metadata": {
    "collapsed": false
   },
   "outputs": [
    {
     "name": "stdout",
     "output_type": "stream",
     "text": [
      "Counter({1: 181, 5: 171, 6: 166, 3: 165, 2: 159, 4: 158})\n"
     ]
    }
   ],
   "source": [
    "a = []\n",
    "for _ in range(1000):\n",
    "    a.append(random.randint(1,6))\n",
    "\n",
    "    \n",
    "import collections\n",
    "\n",
    "b = collections.Counter(a)\n",
    "print(b)"
   ]
  },
  {
   "cell_type": "markdown",
   "metadata": {},
   "source": [
    "#### shuffle 섞기"
   ]
  },
  {
   "cell_type": "code",
   "execution_count": 34,
   "metadata": {
    "collapsed": false
   },
   "outputs": [
    {
     "name": "stdout",
     "output_type": "stream",
     "text": [
      "[2, 5, 1, 4, 3]\n"
     ]
    }
   ],
   "source": [
    "a = [1, 2, 3, 4, 5]\n",
    "random.shuffle(a)\n",
    "print(a)"
   ]
  },
  {
   "cell_type": "markdown",
   "metadata": {},
   "source": [
    "#### choice 뽑기"
   ]
  },
  {
   "cell_type": "code",
   "execution_count": 39,
   "metadata": {
    "collapsed": false
   },
   "outputs": [
    {
     "name": "stdout",
     "output_type": "stream",
     "text": [
      "3\n"
     ]
    }
   ],
   "source": [
    "# 무작위로 뽑기\n",
    "choose = random.choice(a)\n",
    "print(choose)"
   ]
  },
  {
   "cell_type": "markdown",
   "metadata": {},
   "source": [
    "## 날짜와 시간(datetime)\n",
    "데이터분석 및 시간에 대한 내용을 다룰 때 꼭 필요한 외부 함수\n",
    "\n",
    "\n",
    "### datetime 클래스\n",
    "날짜와 시간 정보를 가지는 객체\n",
    "- `now([tz])`: 현재 시각\n",
    "- `strptime(date_string, format)`: 문자열 -> datetime\n",
    "- `fromtimestamp()`: timestamp -> datetime\n",
    "- `fromordinal(ordinal)`: proleptic Gregorian ordinal (엑셀 날짜) -> datetime\n",
    "- `combine(date, time)`: date + time -> datetime"
   ]
  },
  {
   "cell_type": "code",
   "execution_count": 9,
   "metadata": {
    "collapsed": false,
    "scrolled": true
   },
   "outputs": [
    {
     "name": "stdout",
     "output_type": "stream",
     "text": [
      "2017-05-31 20:28:49.728056\n",
      "2\n",
      "--------------------\n",
      "2017-05-31 08:20:30\n",
      "year: 2017\n",
      "month: 5\n",
      "day: 31\n",
      "date: 2017-05-31 08:20:30\n"
     ]
    }
   ],
   "source": [
    "from datetime import datetime, date, time\n",
    "\n",
    "now = datetime.now()\n",
    "\n",
    "print(now)\n",
    "print(now.weekday())   # 0:월, 1:화, 2:수, 3:목, 4:금, 5:토, 6:일\n",
    "print('--------------------')\n",
    "\n",
    "dt = datetime(2017, 5, 31, 8, 20, 30)\n",
    "print(dt)\n",
    "print ('year:', dt.year)\n",
    "print ('month:', dt.month)\n",
    "print ('day:', dt.day)\n",
    "print('date:', dt.date(), dt.time())"
   ]
  },
  {
   "cell_type": "markdown",
   "metadata": {},
   "source": [
    "#### replace"
   ]
  },
  {
   "cell_type": "code",
   "execution_count": 11,
   "metadata": {
    "collapsed": false,
    "scrolled": true
   },
   "outputs": [
    {
     "name": "stdout",
     "output_type": "stream",
     "text": [
      "replaced_date: 2017-05-01 08:20:02\n",
      "--------------------\n"
     ]
    }
   ],
   "source": [
    "print('replaced_date:',dt.replace(day=1, second=2))\n",
    "print('--------------------')"
   ]
  },
  {
   "cell_type": "markdown",
   "metadata": {},
   "source": [
    "#### strptime\n",
    "- `%Y`: 년, zero-padded decimal\n",
    "- `%m`: 월, zero-padded decimal (`%B` : 월을 문자로)\n",
    "- `%d`: 일, zero-padded decimal \n",
    "- `%A`: 요일\n",
    "- `%H`: 시, zero-padded decimal\n",
    "- `%M`: 분, zero-padded decimal\n",
    "- `%S`: 초, zero-padded decimal"
   ]
  },
  {
   "cell_type": "code",
   "execution_count": 17,
   "metadata": {
    "collapsed": false,
    "scrolled": true
   },
   "outputs": [
    {
     "name": "stdout",
     "output_type": "stream",
     "text": [
      "2017-03-11 11:32:00\n",
      "Saturday 11. March 2017\n"
     ]
    }
   ],
   "source": [
    "# 문자열을 datetime 객체로 바꿔준다.\n",
    "dt_st = datetime.strptime(\"2017-03-11 11:32\", \"%Y-%m-%d %H:%M\")\n",
    "print(dt_st)\n",
    "\n",
    "print(dt_st.strftime(\"%A %d. %B %Y\"))"
   ]
  },
  {
   "cell_type": "markdown",
   "metadata": {},
   "source": [
    "#### timedelta"
   ]
  },
  {
   "cell_type": "code",
   "execution_count": 19,
   "metadata": {
    "collapsed": false
   },
   "outputs": [
    {
     "name": "stdout",
     "output_type": "stream",
     "text": [
      "<class 'datetime.timedelta'> 2 days, 2:30:00\n",
      "dt1 + delta: 2017-03-22 22:30:00\n"
     ]
    }
   ],
   "source": [
    "dt1 = datetime(2017, 3, 20, 20, 0)\n",
    "dt2 = datetime(2017, 3, 22, 22, 30)\n",
    "delta = dt2 - dt1\n",
    "\n",
    "print(type(delta),delta)\n",
    "print('dt1 + delta:', dt1 + delta)"
   ]
  },
  {
   "cell_type": "markdown",
   "metadata": {},
   "source": [
    "#### sleep"
   ]
  },
  {
   "cell_type": "code",
   "execution_count": 22,
   "metadata": {
    "collapsed": false
   },
   "outputs": [
    {
     "name": "stdout",
     "output_type": "stream",
     "text": [
      "0\n",
      "1\n",
      "2\n",
      "3\n",
      "4\n"
     ]
    }
   ],
   "source": [
    "import time\n",
    "\n",
    "for i in range(5):\n",
    "    print(i)\n",
    "    time.sleep(0.5)"
   ]
  },
  {
   "cell_type": "markdown",
   "metadata": {},
   "source": [
    "<br><br><br>\n",
    "# 함수 고도화\n",
    "---------------"
   ]
  },
  {
   "cell_type": "markdown",
   "metadata": {},
   "source": [
    "## 키워드 인수\n",
    "여러 개의 매개변수를 가지고 있는 함수를 호출할 때, 그 중 몇 개만 인수를 넘겨주고 싶을 때\n",
    "\n",
    "이때 매개변수의 이름을 지정하여 직접 값을 넘겨줄 수 있는데 이것을 `키워드인수` 라 부릅니다. \n",
    "\n",
    "매개 변수이름(키워드)를 사용하여 각각의 매개 변수에 인수를 넘겨 주도록 지정해 줍니다."
   ]
  },
  {
   "cell_type": "code",
   "execution_count": 13,
   "metadata": {
    "collapsed": false
   },
   "outputs": [
    {
     "name": "stdout",
     "output_type": "stream",
     "text": [
      "73 3 7 10\n",
      "145 25 5 24\n",
      "350 100 5 50\n"
     ]
    }
   ],
   "source": [
    "def keyword_func(a, b=5, c=10):\n",
    "    result = a + b * c\n",
    "    print(result, a, b, c)\n",
    "\n",
    "keyword_func(3, 7) # a = 3, b = 7, c = 10\n",
    "keyword_func(25, c=24) # a = 25, b = 5, c = 24\n",
    "keyword_func(c=50, a=100) # a = 100, b = 5, c = 50"
   ]
  },
  {
   "cell_type": "markdown",
   "metadata": {},
   "source": [
    "## VarArgs 매개변수\n",
    "함수에 임의의 개수의 매개 변수를 지정해주고 싶을 때 `*`, `**` 로 구분함"
   ]
  },
  {
   "cell_type": "code",
   "execution_count": 17,
   "metadata": {
    "collapsed": false
   },
   "outputs": [
    {
     "name": "stdout",
     "output_type": "stream",
     "text": [
      "(1, 2, 3) {'vegetables': 50, 'fruits': 100, 'stri': 'string'}\n",
      "1\n",
      "2\n",
      "3\n"
     ]
    },
    {
     "ename": "TypeError",
     "evalue": "unsupported operand type(s) for +=: 'int' and 'str'",
     "output_type": "error",
     "traceback": [
      "\u001b[1;31m---------------------------------------------------------------------------\u001b[0m",
      "\u001b[1;31mTypeError\u001b[0m                                 Traceback (most recent call last)",
      "\u001b[1;32m<ipython-input-17-71de4bf41c07>\u001b[0m in \u001b[0;36m<module>\u001b[1;34m()\u001b[0m\n\u001b[0;32m     13\u001b[0m \u001b[1;33m\u001b[0m\u001b[0m\n\u001b[0;32m     14\u001b[0m \u001b[1;33m\u001b[0m\u001b[0m\n\u001b[1;32m---> 15\u001b[1;33m \u001b[0mprint\u001b[0m\u001b[1;33m(\u001b[0m\u001b[0mtotal\u001b[0m\u001b[1;33m(\u001b[0m\u001b[1;36m10\u001b[0m\u001b[1;33m,\u001b[0m \u001b[1;36m1\u001b[0m\u001b[1;33m,\u001b[0m \u001b[1;36m2\u001b[0m\u001b[1;33m,\u001b[0m \u001b[1;36m3\u001b[0m\u001b[1;33m,\u001b[0m \u001b[0mstri\u001b[0m\u001b[1;33m=\u001b[0m\u001b[1;34m'string'\u001b[0m\u001b[1;33m,\u001b[0m \u001b[0mvegetables\u001b[0m\u001b[1;33m=\u001b[0m\u001b[1;36m50\u001b[0m\u001b[1;33m,\u001b[0m \u001b[0mfruits\u001b[0m\u001b[1;33m=\u001b[0m\u001b[1;36m100\u001b[0m\u001b[1;33m)\u001b[0m\u001b[1;33m)\u001b[0m\u001b[1;33m\u001b[0m\u001b[0m\n\u001b[0m\u001b[0;32m     16\u001b[0m \u001b[1;33m\u001b[0m\u001b[0m\n\u001b[0;32m     17\u001b[0m \u001b[1;31m# initial = 10\u001b[0m\u001b[1;33m\u001b[0m\u001b[1;33m\u001b[0m\u001b[0m\n",
      "\u001b[1;32m<ipython-input-17-71de4bf41c07>\u001b[0m in \u001b[0;36mtotal\u001b[1;34m(initial, *args, **kwargs)\u001b[0m\n\u001b[0;32m      8\u001b[0m \u001b[1;33m\u001b[0m\u001b[0m\n\u001b[0;32m      9\u001b[0m     \u001b[1;32mfor\u001b[0m \u001b[0mkey\u001b[0m \u001b[1;32min\u001b[0m \u001b[0mkwargs\u001b[0m\u001b[1;33m:\u001b[0m \u001b[1;31m# keywords = {'vegetables': 50, 'fruits': 100}\u001b[0m\u001b[1;33m\u001b[0m\u001b[0m\n\u001b[1;32m---> 10\u001b[1;33m         \u001b[0mcount\u001b[0m \u001b[1;33m+=\u001b[0m \u001b[0mkwargs\u001b[0m\u001b[1;33m[\u001b[0m\u001b[0mkey\u001b[0m\u001b[1;33m]\u001b[0m\u001b[1;33m\u001b[0m\u001b[0m\n\u001b[0m\u001b[0;32m     11\u001b[0m \u001b[1;33m\u001b[0m\u001b[0m\n\u001b[0;32m     12\u001b[0m     \u001b[1;32mreturn\u001b[0m \u001b[0mcount\u001b[0m\u001b[1;33m\u001b[0m\u001b[0m\n",
      "\u001b[1;31mTypeError\u001b[0m: unsupported operand type(s) for +=: 'int' and 'str'"
     ]
    }
   ],
   "source": [
    "def total(initial=5, *args, **kwargs):\n",
    "    count = initial\n",
    "    print(args, kwargs)\n",
    "    \n",
    "    for number in args: # number = (1,2,3)\n",
    "#         count += number\n",
    "        print(number)\n",
    "        \n",
    "    for key in kwargs: # keywords = {'vegetables': 50, 'fruits': 100}\n",
    "#         count += kwargs[key]  \n",
    "        \n",
    "    return count\n",
    "\n",
    "\n",
    "print(total(10, 1, 2, 3, stri='string', vegetables=50, fruits=100))\n",
    "\n",
    "# initial = 10\n",
    "# *args = (1,2,3)\n",
    "# **kwagrs = {'vegetables': 50, 'fruits': 100}"
   ]
  },
  {
   "cell_type": "markdown",
   "metadata": {},
   "source": [
    "- `*args` 과 같이 매개 변수를 지정해 주면 함 수에 넘겨진 모든 위치 기반 인수들이 'args' 이라는 이름의 튜플로 묶여서 넘어옵니다.\n",
    "\n",
    "- `**kwargs` 와 같이 앞에 별 두 개가 달린 매개 변수를 지정 해 주면 함수에 넘겨진 모든 키워드 인수들이 `**kwargs` 이라는 이름의 딕셔너리로 묶여서 넘어옵니다.\n"
   ]
  }
 ],
 "metadata": {
  "anaconda-cloud": {},
  "kernelspec": {
   "display_name": "Python 3",
   "language": "python",
   "name": "python3"
  },
  "language_info": {
   "codemirror_mode": {
    "name": "ipython",
    "version": 3
   },
   "file_extension": ".py",
   "mimetype": "text/x-python",
   "name": "python",
   "nbconvert_exporter": "python",
   "pygments_lexer": "ipython3",
   "version": "3.5.1"
  }
 },
 "nbformat": 4,
 "nbformat_minor": 0
}
