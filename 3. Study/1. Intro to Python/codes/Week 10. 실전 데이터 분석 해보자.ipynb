{
 "cells": [
  {
   "cell_type": "markdown",
   "metadata": {},
   "source": [
    "# Week 10. 실전 데이터 분석 해보자\n",
    "----------------------------------------------------\n"
   ]
  },
  {
   "cell_type": "markdown",
   "metadata": {},
   "source": [
    "# 데이터 사이언스란 \n",
    "----------------\n",
    "데이터를 수집하고 분석하여 활용하기 위한 모든 기술의 집합.\n",
    "\n",
    "> 컴퓨터 사이언스, 수학, 통계학, 머신 러닝(machine learning), 영상 및 신호 처리 등 다양한 학문 분야가 필요한 영역임.\n",
    "\n",
    "> 수학과 통계학은 데이터 분석 모형의 기반에 깔려있는 핵심적인 개념을 구체화하는 작업\n",
    "\n",
    "프로그래밍을 포함하는 컴퓨터 사이언스는 실제로 데이터를 다루기 위한 필수 기술임.\n",
    "\n",
    "\n",
    "\n",
    "<br><br><br>\n",
    "# 데이터 분석이란\n",
    "---------------------\n",
    "데이터 분석이란 어떤 입력 데이터가 주어졌을 때\n",
    "\n",
    "- 입력 데이터 간의 관계를 파악하거나\n",
    "- 파악된 관계를 사용하여 원하는 출력 데이터를 만들어 내는 과정으로 볼 수 있다.\n",
    "\n",
    "데이터 분석도 분석 목적에 따라 \n",
    "- \"예측(prediction)\" - 지도학습\n",
    "- \"클러스터링(clustering)\" - 비지도학습\n",
    "\n",
    "\n",
    "\n",
    "<br><br><br>\n",
    "# 입력 데이터와 출력 데이터\n",
    "--------------------\n",
    "데이터사이언스에서는 데이터의 유형을 잘 파악해야함.\n",
    "\n",
    "- `입력데이터(input data)` : 분석의 기반이 되는 데이터으로 보통 알파벳  $X$ 로 표기함. 다른 말로 독립변수(independent variable), 특징(feature) 등의 용어를 쓰기도 함.\n",
    "- `출력데이터(output data)` : 추정하거나 예측하고자 하는 목적데이터로 보통 $Y$로 표기함. 다른 말로 종속변수(dependent variable)라고 부름. 종속변수가 카테고리값이면 라벨(label) 또는 클래스(class)라고 하기도 한다.\n",
    "\n",
    "\n",
    "\n",
    "<br><br><br>\n",
    "# Prediction(예측)\n",
    "---------------\n",
    "예측(prediction)은 데이터 분석 작업 중 가장 많이 사용되는 유형 \n",
    "> 숫자, 문서, 이미지, 음성, 영상 등의 여러가지 입력 데이터가 주어지면 데이터 분석의 결과로 다른 데이터를 예측하는 분석 방법\n",
    "\n",
    "- 부동산의 위치, 주거환경, 건축연도 등이 주어지면 해당 부동산의 가치를 추정한다(Regression -> prediction).\n",
    "- 꽃잎의 길이와 너비 등 식물의 외형적 특징이 주어지면 해당하는 식물의 종을 알아낸다(Classification -> prediction).\n",
    "- 얼굴 사진이 주어지면 해당하는 사람의 이름을 출력한다\n",
    "- 현재 바둑돌의 위치들이 주어지면 다음 바둑돌의 위치를 지정한다.\n",
    "\n",
    "예측 성능은 어떠한 입출력 데이터의 숫자와 종류 크게 영향을 받음. 때문에 어떠한 값을 가지는 입력을 몇 개 사용하겠다는 문제 정의가 예측 문제를 해결하는데 가장 중요한 부분임(parameter selection 또는 feature selection)\n",
    "\n",
    "데이터 분석에서 말하는 예측이라는 용어는 시간상으로 미래의 의미는 포함하지 않는다.\n",
    "\n",
    "즉, 각 입력데이터는 순서에 상관이 없는 `random variable`\n",
    "> 시계열 분석에서는 시간상으로 미래의 데이터를 예측하는 경우가 있는데 이 경우에는 미래예측(forecasting) 이라는 용어를 사용한다.\n",
    "\n",
    "예측 성능은 이러한 입출력 데이터의 숫자와 종류에 크게 의존하기 때문에 정확히 어떠한 값을 가지는 입력을 몇 개 사용하겠다는 문제 정의가 예측 문제를 해결하는데 가장 중요한 부분이 될 수도 있다.\n",
    "\n",
    "\n",
    "\n",
    "<br><br><br>\n",
    "# Clustering(클러스터링)\n",
    "---------------\n",
    "데이터의 종속 변수 값을 예측하는 것이 아니라 독립 변수의 특성만으로 데이터의 그룹 즉, 클러스터(cluster)를 형성하는 작업을 클러스터링(clustering)이라고 함.\n",
    "\n",
    "즉, 입력데이터가 존재하며 미리 label 된 $Y$값이 없는 경우임.\n",
    "\n",
    "\n",
    "\n",
    "<br><br><br>\n",
    "# statsmodels - 통계분석은 그냥 이걸로 다\n",
    "--------------------------\n",
    "\n",
    "statsmodels 는 통계 분석을 위한 Python 패키지임.\n",
    " \n",
    "`통계 (Statistics)`\n",
    "- 각종 검정(test) 기능\n",
    "- 커널 밀도 추정\n",
    "- Generalized Method of Moments\n",
    "\n",
    "`회귀 분석 (Linear Regression)`\n",
    "- 선형 모형 (Linear Model)\n",
    "- 일반화 선형 모형 (Generalized Linear Model)\n",
    "- 강인 선형 모형 (Robust Linear Model)\n",
    "- 선형 혼합 효과 모형 (Linear Mixed Effects Model)\n",
    "- ANOVA (Analysis of Variance)\n",
    "- Discrete Dependent Variable (Logistic Regression 포함)\n",
    "\n",
    "`시계열 분석 (Time Series Analysis)`\n",
    "- ARMA/ARIMA Process\n",
    "- Vector ARMA Process\n",
    "\n",
    "특히 선형 회귀분석의 경우 R-style 모형 기술을 가능하게 하는 patsy 패키지를 포함하고 있어 기존에 R을 사용하던 사람들도 쉽게 statsmodels를 쓸 수 있게 되었다.\n",
    "\n",
    "\n",
    "<br><br><br>\n",
    "# SciPy - scikit learn\n",
    "--------------------------\n",
    "\n",
    "- Scipy는 과학계산 컴퓨팅 영역의 여러 기본 문제를 다루는 패키지 모음\n",
    "- `scipy.integrate`: 수치적분 루틴과 미분방정식 해법기\n",
    "- `scipy.linalg`: numpy.linalg에서 제공하는 것보다 더 확장된 선형대수 루틴과 매트릭스 분해\n",
    "- `scipy.optimize`: 함수 최적화기와 방정식의 근을 구하는 알고리즘\n",
    "- `scipy.signal`: 시그널 프로세싱 도구\n",
    "- `scipy.sparse`: 희소 행렬과 희소 선형 시스템 풀이법\n",
    "- `scipy.special`: 감마 함수처럼 흔히 사용되는 수학 함수를 구현한 포트란 라이브러리인 SPECFUN 확장\n",
    "- `scipy.stats`: 표준 연속/이산 확률 분포(집적도 함수, 샘플러, 연속 분포 함수)와 다양한 통계 테스트, 그리고 좀 더 기술적인 통계 도구\n",
    "- `scipy.weave`: 배열 계산을 빠르게 하기 위해 인라인 C++ 코드를 사용하는 도구"
   ]
  },
  {
   "cell_type": "markdown",
   "metadata": {
    "collapsed": true
   },
   "source": [
    "# skLearn"
   ]
  },
  {
   "cell_type": "code",
   "execution_count": 34,
   "metadata": {
    "collapsed": true
   },
   "outputs": [],
   "source": [
    "%matplotlib inline\n",
    "\n",
    "import matplotlib.pyplot as plt\n",
    "import numpy as np\n",
    "from sklearn import datasets, linear_model"
   ]
  },
  {
   "cell_type": "code",
   "execution_count": 35,
   "metadata": {
    "collapsed": true
   },
   "outputs": [],
   "source": [
    "diabetes = datasets.load_diabetes()\n",
    "\n",
    "diabetes_X = diabetes.data"
   ]
  },
  {
   "cell_type": "code",
   "execution_count": 36,
   "metadata": {
    "collapsed": false
   },
   "outputs": [],
   "source": [
    "diabetes_X = diabetes.data[:,np.newaxis,2]"
   ]
  },
  {
   "cell_type": "code",
   "execution_count": 37,
   "metadata": {
    "collapsed": true
   },
   "outputs": [],
   "source": [
    "diabetes_X_train = diabetes_X[:-20]\n",
    "diabetes_X_test = diabetes_X[-20:]"
   ]
  },
  {
   "cell_type": "code",
   "execution_count": 38,
   "metadata": {
    "collapsed": true
   },
   "outputs": [],
   "source": [
    "diabetes_y_train = diabetes.target[:-20]\n",
    "diabetes_y_test = diabetes.target[-20:]"
   ]
  },
  {
   "cell_type": "code",
   "execution_count": 39,
   "metadata": {
    "collapsed": false
   },
   "outputs": [
    {
     "name": "stdout",
     "output_type": "stream",
     "text": [
      "MSE: 2548.07239873\n",
      "score: 0.472575447982\n"
     ]
    }
   ],
   "source": [
    "regression = linear_model.LinearRegression()\n",
    "regression.fit(diabetes_X_train, diabetes_y_train)\n",
    "\n",
    "MSE = np.mean((regression.predict(diabetes_X_test) - diabetes_y_test) ** 2)\n",
    "print('MSE:', MSE)\n",
    "score = regression.score(diabetes_X_test, diabetes_y_test)\n",
    "print('score:', score)"
   ]
  },
  {
   "cell_type": "code",
   "execution_count": 42,
   "metadata": {
    "collapsed": false,
    "scrolled": false
   },
   "outputs": [
    {
     "data": {
      "text/plain": [
       "([], <a list of 0 Text yticklabel objects>)"
      ]
     },
     "execution_count": 42,
     "metadata": {},
     "output_type": "execute_result"
    },
    {
     "data": {
      "image/png": "[encoded data removed]",
      "text/plain": [
       "<matplotlib.figure.Figure at 0x1e3c38019b0>"
      ]
     },
     "metadata": {},
     "output_type": "display_data"
    }
   ],
   "source": [
    "plt.scatter(diabetes_X_test, diabetes_y_test,  color='black')\n",
    "plt.plot(diabetes_X_test, regression.predict(diabetes_X_test), color='blue',\n",
    "         linewidth=2)\n",
    "\n",
    "plt.xticks(())\n",
    "plt.yticks(())"
   ]
  }
 ],
 "metadata": {
  "anaconda-cloud": {},
  "kernelspec": {
   "display_name": "Python 3",
   "language": "python",
   "name": "python3"
  },
  "language_info": {
   "codemirror_mode": {
    "name": "ipython",
    "version": 3
   },
   "file_extension": ".py",
   "mimetype": "text/x-python",
   "name": "python",
   "nbconvert_exporter": "python",
   "pygments_lexer": "ipython3",
   "version": "3.5.1"
  }
 },
 "nbformat": 4,
 "nbformat_minor": 0
}
