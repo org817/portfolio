{
 "cells": [
  {
   "cell_type": "markdown",
   "metadata": {},
   "source": [
    "# Week 3. 연습문제 이자 숙제 이자 괴롭힘\n",
    "\n",
    "<br><br><br>"
   ]
  },
  {
   "cell_type": "markdown",
   "metadata": {},
   "source": [
    "1) 9월 초의 네이버 종가는 아래 표와 같습니다. 09/07의 종가를 리스트의 첫 번째 항목으로 입력해서 naver_end_price라는 이름의 리스트를 만들어보세요.\n",
    "\n",
    "<img src='pic/week3-1p.png' width=200/>"
   ]
  },
  {
   "cell_type": "code",
   "execution_count": 2,
   "metadata": {
    "collapsed": true
   },
   "outputs": [],
   "source": [
    "naver_end_price = [474500, 461500, 501000, 500500, 488500]"
   ]
  },
  {
   "cell_type": "markdown",
   "metadata": {},
   "source": [
    "2) 문제 1) 에서 만든 naver_end_price를 이용해 해당 주에 종가를 기준으로 가장 높았던 가격을 출력하세요. \n",
    "\n",
    "(힌트: 리스트에서 최댓값을 찾는 함수는 `max()`입니다."
   ]
  },
  {
   "cell_type": "code",
   "execution_count": 3,
   "metadata": {
    "collapsed": false
   },
   "outputs": [
    {
     "name": "stdout",
     "output_type": "stream",
     "text": [
      "501000\n"
     ]
    }
   ],
   "source": [
    "max_price = max(naver_end_price)\n",
    "print(max_price)"
   ]
  },
  {
   "cell_type": "markdown",
   "metadata": {},
   "source": [
    "3) 문제 1) 에서 만든 naver_end_price를 이용해 해당 주에 종가를 기준으로 가장 낮았던 가격을 출력하세요. \n",
    "\n",
    "(힌트: 리스트에서 최솟값을 찾는 함수는 `min()` 입니다.)"
   ]
  },
  {
   "cell_type": "code",
   "execution_count": 4,
   "metadata": {
    "collapsed": false
   },
   "outputs": [
    {
     "name": "stdout",
     "output_type": "stream",
     "text": [
      "461500\n"
     ]
    }
   ],
   "source": [
    "min_price = min(naver_end_price)\n",
    "print(min_price)"
   ]
  },
  {
   "cell_type": "markdown",
   "metadata": {},
   "source": [
    "4) 문제 1) 에서 만든 naver_end_price를 이용해 해당 주에서 가장 종가가 높았던 요일과 가장 종가가 낮았던 요일의 가격 차를 화면에 출력하세요."
   ]
  },
  {
   "cell_type": "code",
   "execution_count": 5,
   "metadata": {
    "collapsed": false
   },
   "outputs": [
    {
     "name": "stdout",
     "output_type": "stream",
     "text": [
      "39500\n"
     ]
    }
   ],
   "source": [
    "diff_price = max_price - min_price\n",
    "print(diff_price)"
   ]
  },
  {
   "cell_type": "markdown",
   "metadata": {},
   "source": [
    "5) 문제 1) 에서 만든 naver_end_price를 이용해 수요일의 종가를 화면에 출력하세요."
   ]
  },
  {
   "cell_type": "code",
   "execution_count": 6,
   "metadata": {
    "collapsed": false
   },
   "outputs": [
    {
     "name": "stdout",
     "output_type": "stream",
     "text": [
      "수요일 종가:  501000\n"
     ]
    }
   ],
   "source": [
    "print(\"수요일 종가: \", naver_end_price[2])"
   ]
  },
  {
   "cell_type": "markdown",
   "metadata": {},
   "source": [
    "6) 문제 1) 의 표를 이용해 날짜를 딕셔너리의 키 값으로, 종가를 딕셔너리의 값으로 사용해 naver_end_price2라는 딕셔너리를 만드세요."
   ]
  },
  {
   "cell_type": "code",
   "execution_count": 7,
   "metadata": {
    "collapsed": true
   },
   "outputs": [],
   "source": [
    "naver_end_price2 = {'09/07':474500, \n",
    "                    '09/08':461500, \n",
    "                    '09/09':501000,\n",
    "                    '09/10':500500, \n",
    "                    '09/11':488500}"
   ]
  },
  {
   "cell_type": "markdown",
   "metadata": {},
   "source": [
    "7) 문제 6) 에서 만든 naver_end_price2 딕셔너리를 이용해 09/09일의 종가를 출력하세요."
   ]
  },
  {
   "cell_type": "code",
   "execution_count": 8,
   "metadata": {
    "collapsed": false
   },
   "outputs": [
    {
     "name": "stdout",
     "output_type": "stream",
     "text": [
      "501000\n"
     ]
    }
   ],
   "source": [
    "print(naver_end_price2['09/09'])"
   ]
  },
  {
   "cell_type": "markdown",
   "metadata": {},
   "source": [
    "<br><br><br>\n",
    "# 조금 어려운 문제들\n",
    "-------------"
   ]
  },
  {
   "cell_type": "markdown",
   "metadata": {},
   "source": [
    "1) 다음 리스트 a_list를 5로 나눈 나머지를 기준으로 오름차순으로 정렬 해 보세요.\n",
    "```python\n",
    "a_list = range(10)\n",
    "[0, 1, 2, 3, 4, 5, 6, 7, 8, 9]\n",
    "```"
   ]
  },
  {
   "cell_type": "code",
   "execution_count": 15,
   "metadata": {
    "collapsed": false
   },
   "outputs": [
    {
     "name": "stdout",
     "output_type": "stream",
     "text": [
      "[0, 5, 1, 6, 2, 7, 3, 8, 4, 9]\n"
     ]
    }
   ],
   "source": [
    "a_list = list(range(10))\n",
    "\n",
    "def mod_5(data):\n",
    "    remainder = data % 5\n",
    "    return remainder\n",
    "    \n",
    "a_list.sort(key=mod_5)\n",
    "print(a_list)"
   ]
  },
  {
   "cell_type": "markdown",
   "metadata": {},
   "source": [
    "### TA 가 되어 봅시다.\n",
    "\n",
    "학생들의 정보가 다음과 같다고 생각해봅시다.\n",
    "```python\n",
    "kevin = {\n",
    "    \"name\": \"Kevin Kim\",\n",
    "    \"homework\": [90.0, 97.0, 75.0, 92.0],\n",
    "    \"tests\": [75.0, 90.0]\n",
    "}\n",
    "alice = {\n",
    "    \"name\": \"Alice Woo\",\n",
    "    \"homework\": [100.0, 92.0, 98.0, 100.0],\n",
    "    \"tests\": [89.0, 97.0]\n",
    "}\n",
    "tyler = {\n",
    "    \"name\": \"Tyler Swift\",\n",
    "    \"homework\": [0.0, 87.0, 75.0, 22.0],\n",
    "    \"tests\": [100.0, 100.0]\n",
    "}\n",
    "```"
   ]
  },
  {
   "cell_type": "markdown",
   "metadata": {},
   "source": [
    "2) 개개인 학생을 stduent라는 리스트에 모아보세요"
   ]
  },
  {
   "cell_type": "code",
   "execution_count": 2,
   "metadata": {
    "collapsed": true
   },
   "outputs": [],
   "source": [
    "kevin = {\n",
    "    \"name\": \"Kevin Kim\",\n",
    "    \"homework\": [90.0, 97.0, 75.0, 92.0],\n",
    "    \"tests\": [75.0, 90.0]\n",
    "}\n",
    "alice = {\n",
    "    \"name\": \"Alice Woo\",\n",
    "    \"homework\": [100.0, 92.0, 98.0, 100.0],\n",
    "    \"tests\": [89.0, 97.0]\n",
    "}\n",
    "tyler = {\n",
    "    \"name\": \"Tyler Swift\",\n",
    "    \"homework\": [0.0, 87.0, 75.0, 22.0],\n",
    "    \"tests\": [100.0, 100.0]\n",
    "}\n",
    "\n",
    "students = [kevin, alice, tyler]"
   ]
  },
  {
   "cell_type": "markdown",
   "metadata": {},
   "source": [
    "3) stduent 리스트를 이용하여 모든 학생의 정보를 출력하는 함수 `print_students_info`를 만들어보세요. (이 함수는 input인자로 아무것도 받지 않아도 됩니다.)"
   ]
  },
  {
   "cell_type": "code",
   "execution_count": 3,
   "metadata": {
    "collapsed": false
   },
   "outputs": [
    {
     "name": "stdout",
     "output_type": "stream",
     "text": [
      "-------student-------\n",
      "name : Kevin Kim\n",
      "tests : [75.0, 90.0]\n",
      "homework : [90.0, 97.0, 75.0, 92.0]\n",
      "-------student-------\n",
      "name : Alice Woo\n",
      "tests : [89.0, 97.0]\n",
      "homework : [100.0, 92.0, 98.0, 100.0]\n",
      "-------student-------\n",
      "name : Tyler Swift\n",
      "tests : [100.0, 100.0]\n",
      "homework : [0.0, 87.0, 75.0, 22.0]\n"
     ]
    }
   ],
   "source": [
    "for student in students:\n",
    "    print('-------student-------')\n",
    "    for key in student:\n",
    "        print(key,':',student[key])"
   ]
  },
  {
   "cell_type": "markdown",
   "metadata": {},
   "source": [
    "4) 각 학생을 input 인자로 받아서 `homework`와 `tests`의 평균을 return 인자로 돌려주는 함수 `get_average`를 만들어보세요.\n",
    "\n",
    "예) `get_average(alice)`"
   ]
  },
  {
   "cell_type": "code",
   "execution_count": 7,
   "metadata": {
    "collapsed": false
   },
   "outputs": [
    {
     "data": {
      "text/plain": [
       "(88.5, 82.5)"
      ]
     },
     "execution_count": 7,
     "metadata": {},
     "output_type": "execute_result"
    }
   ],
   "source": [
    "def get_average(student):\n",
    "    homework_avg = sum(student[\"homework\"])/len(student[\"homework\"])\n",
    "    test_avg = sum(student[\"tests\"])/len(student[\"tests\"])\n",
    "    return homework_avg, test_avg\n",
    "\n",
    "get_average(kevin)"
   ]
  },
  {
   "cell_type": "markdown",
   "metadata": {},
   "source": [
    "5) 4)에서 만든 함수에서 가중 평균하여 최종 score를 return 하도록 변경 해 보세요.\n",
    "- homework = 0.3\n",
    "- test = 0.7\n"
   ]
  },
  {
   "cell_type": "code",
   "execution_count": 9,
   "metadata": {
    "collapsed": false
   },
   "outputs": [
    {
     "name": "stdout",
     "output_type": "stream",
     "text": [
      "84.3\n"
     ]
    }
   ],
   "source": [
    "def get_average(student):\n",
    "    weight = {\"homework\":0.3, \"tests\":0.7}\n",
    "    \n",
    "    homework_avg = sum(student[\"homework\"])/len(student[\"homework\"])\n",
    "    test_avg = sum(student[\"tests\"])/len(student[\"tests\"])\n",
    "    score = homework_avg*weight[\"homework\"] + test_avg*weight[\"tests\"]\n",
    "    return score\n",
    "\n",
    "kevin_score = get_average(kevin)\n",
    "print(kevin_score)"
   ]
  },
  {
   "cell_type": "markdown",
   "metadata": {},
   "source": [
    "6) 최종 score를 이용하여 최종 grade를 return 해 주는 `get_letter_grade` 함수를 만들어보세요.\n",
    "- 90점 이상: A\n",
    "- 80점 이상: B\n",
    "- 70점 이상: C\n",
    "- 70점 미만: F"
   ]
  },
  {
   "cell_type": "code",
   "execution_count": 12,
   "metadata": {
    "collapsed": false
   },
   "outputs": [
    {
     "name": "stdout",
     "output_type": "stream",
     "text": [
      "Kevin의 최종 grade:  B\n"
     ]
    }
   ],
   "source": [
    "def get_letter_grade(score):\n",
    "    if score >= 90:\n",
    "        return \"A\"\n",
    "    elif score >= 80:\n",
    "        return \"B\"\n",
    "    elif score >= 70:\n",
    "        return \"C\"\n",
    "    else:\n",
    "        return \"F\"\n",
    "\n",
    "kevin_score = get_average(kevin) \n",
    "final_grade_kevin = get_letter_grade(kevin_score)\n",
    "\n",
    "print('Kevin의 최종 grade: ', final_grade_kevin)"
   ]
  },
  {
   "cell_type": "markdown",
   "metadata": {},
   "source": [
    "7) 전체 분반의 `homework`와 `test` 점수의 평균을 print하는 함수 `get_class_avg`를 만들어보세요."
   ]
  },
  {
   "cell_type": "code",
   "execution_count": 54,
   "metadata": {
    "collapsed": false
   },
   "outputs": [
    {
     "name": "stdout",
     "output_type": "stream",
     "text": [
      "87.48333333333333\n",
      "B\n"
     ]
    }
   ],
   "source": [
    "def get_class_avg(students):\n",
    "    scores = 0\n",
    "    for student in students:\n",
    "        scores += get_average(student)\n",
    "        \n",
    "    class_average = scores / len(students)\n",
    "    return class_average\n",
    "\n",
    "students = [kevin, alice, tyler]\n",
    "\n",
    "class_avg = get_class_avg(students)\n",
    "final_class_grade = get_letter_grade(class_avg)\n",
    "\n",
    "print(class_avg)\n",
    "print(final_class_grade)"
   ]
  }
 ],
 "metadata": {
  "anaconda-cloud": {},
  "kernelspec": {
   "display_name": "Python 3",
   "language": "python",
   "name": "python3"
  },
  "language_info": {
   "codemirror_mode": {
    "name": "ipython",
    "version": 3
   },
   "file_extension": ".py",
   "mimetype": "text/x-python",
   "name": "python",
   "nbconvert_exporter": "python",
   "pygments_lexer": "ipython3",
   "version": "3.5.1"
  }
 },
 "nbformat": 4,
 "nbformat_minor": 1
}
