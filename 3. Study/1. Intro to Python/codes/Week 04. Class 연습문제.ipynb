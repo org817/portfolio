{
 "cells": [
  {
   "cell_type": "markdown",
   "metadata": {},
   "source": [
    "# Week 4. 연습문제이자 숙제이자 괴롭힘\n",
    "-----------------------------------"
   ]
  },
  {
   "cell_type": "markdown",
   "metadata": {},
   "source": [
    "#### 1) 다음의 조건을 만족하는 Point라는 클래스를 작성하세요.\n",
    "\n",
    "- Point 클래스는 생성자를 통해 (x, y) 좌표를 입력받는다.\n",
    "- setx(x), sety(y) 메서드를 통해 x 좌표와 y 좌표를 따로 입력받을 수도 있다.\n",
    "- get() 메서드를 호출하면 튜플로 구성된 (x, y) 좌표를 반환한다.\n",
    "- move(dx, dy) 메서드는 현재 좌표를 dx, dy만큼 이동시킨다.\n",
    "\n",
    "모든 메서드는 인스턴스 메서드(클래스 내부에서 만드는 `def`)다."
   ]
  },
  {
   "cell_type": "code",
   "execution_count": null,
   "metadata": {
    "collapsed": true
   },
   "outputs": [],
   "source": [
    "# Input Your Code"
   ]
  },
  {
   "cell_type": "markdown",
   "metadata": {},
   "source": [
    "####  2) 문제 1) 에서 생성한 Point 클래스에 대한 객체(인스턴스)를 생성한 후 위의 4개의 메서드를 테스트 해 보세요~"
   ]
  },
  {
   "cell_type": "code",
   "execution_count": null,
   "metadata": {
    "collapsed": true
   },
   "outputs": [],
   "source": [
    "# Input Your Code"
   ]
  },
  {
   "cell_type": "markdown",
   "metadata": {},
   "source": [
    "<br><br><br>\n",
    "## 수업시간에 만들었던 Character 클래스 를 업그레이드 해 봅시다! Improvement!!\n",
    "\n",
    "수업시간에 설계하고 만들어 보았던 Character 클래스에 기능과 클래스변수, 객체(인스턴스)변수, 메서드들을 추가하여 여러가지 기능을 작동 시켜봅시다.\n",
    "\n",
    "#### 3) 캐릭터를 삭제하는 기능을 추가해 보세요."
   ]
  },
  {
   "cell_type": "code",
   "execution_count": null,
   "metadata": {
    "collapsed": true
   },
   "outputs": [],
   "source": [
    "# Input Your Code"
   ]
  },
  {
   "cell_type": "markdown",
   "metadata": {},
   "source": [
    "#### 4) \"공격하는 메서드(`attack`)를 수정하여 내가 공격을 했을 때, 생대방은 공격을 받는 기능이 (동시에 또는 한번에) 구현되도록 코드를 수정해 보세요."
   ]
  },
  {
   "cell_type": "code",
   "execution_count": null,
   "metadata": {
    "collapsed": true
   },
   "outputs": [],
   "source": [
    "# Input Your Code"
   ]
  },
  {
   "cell_type": "markdown",
   "metadata": {},
   "source": [
    "#### 5)  Character 객체가 각각의 공격력을 가지도록 객체변수를 추가해 보세요. 또한 attack와 attacked 기능에 상대방의 공격력이 반영되서 체력이 깎이는 기능으로 코드를 수정 해 보세요"
   ]
  },
  {
   "cell_type": "code",
   "execution_count": null,
   "metadata": {
    "collapsed": true
   },
   "outputs": [],
   "source": [
    "#Input Your Code"
   ]
  },
  {
   "cell_type": "markdown",
   "metadata": {},
   "source": [
    "#### 6) 경험치가 100이되면 레벨이 올라가는 기능을 구현해 보세요"
   ]
  },
  {
   "cell_type": "code",
   "execution_count": null,
   "metadata": {
    "collapsed": true
   },
   "outputs": [],
   "source": [
    "#Input Your Code"
   ]
  },
  {
   "cell_type": "markdown",
   "metadata": {},
   "source": [
    "#### 7) `__add__()` 함수를 오버라이딩 하여, 유저간의 파티를 맺는 기능을 추가 해 보세요. 또한 유저의 정보에서 현재의 파티원을 볼 수 있도록 해 보세요."
   ]
  },
  {
   "cell_type": "code",
   "execution_count": null,
   "metadata": {
    "collapsed": true
   },
   "outputs": [],
   "source": [
    "#Input Your Code"
   ]
  }
 ],
 "metadata": {
  "kernelspec": {
   "display_name": "Python 3",
   "language": "python",
   "name": "python3"
  },
  "language_info": {
   "codemirror_mode": {
    "name": "ipython",
    "version": 3
   },
   "file_extension": ".py",
   "mimetype": "text/x-python",
   "name": "python",
   "nbconvert_exporter": "python",
   "pygments_lexer": "ipython3",
   "version": "3.5.3"
  }
 },
 "nbformat": 4,
 "nbformat_minor": 1
}
