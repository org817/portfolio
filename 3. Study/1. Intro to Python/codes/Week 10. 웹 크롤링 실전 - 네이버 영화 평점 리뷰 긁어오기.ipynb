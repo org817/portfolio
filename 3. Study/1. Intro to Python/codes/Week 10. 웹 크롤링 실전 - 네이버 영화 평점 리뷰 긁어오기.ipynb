{
 "cells": [
  {
   "cell_type": "markdown",
   "metadata": {},
   "source": [
    "# Week 10. 웹 크롤링 실전\n",
    "-------------------\n",
    "\n",
    "영화에 대한 트윗을 보고 이게 긍정적인 평가인지 부정적인 평가인지 판단해보자\n",
    "\n",
    "- 크롤링 대상 : 네이버 영화 네테즌 평점, 네티즌 리뷰"
   ]
  },
  {
   "cell_type": "markdown",
   "metadata": {
    "collapsed": true
   },
   "source": [
    "# Import"
   ]
  },
  {
   "cell_type": "code",
   "execution_count": 1,
   "metadata": {
    "collapsed": false,
    "scrolled": true
   },
   "outputs": [],
   "source": [
    "import numpy as np\n",
    "import pandas as pd\n",
    "import requests\n",
    "import urllib\n",
    "from bs4 import BeautifulSoup"
   ]
  },
  {
   "cell_type": "markdown",
   "metadata": {},
   "source": [
    "# 시작은 미약하게\n",
    "나중에는 `scrapy` 나 `seleneum` 을 이용해서 `page` 인자를 바꿔가면서 계속 크롤링을 해야 함."
   ]
  },
  {
   "cell_type": "code",
   "execution_count": 3,
   "metadata": {
    "collapsed": false
   },
   "outputs": [
    {
     "name": "stdout",
     "output_type": "stream",
     "text": [
      "page=1\n",
      "http://movie.naver.com/movie/point/af/list.nhn?&page=1\n"
     ]
    }
   ],
   "source": [
    "params = urllib.parse.urlencode({\"page\": 1})\n",
    "print(params)\n",
    "url = 'http://movie.naver.com/movie/point/af/list.nhn?&%s' % params\n",
    "print(url)"
   ]
  },
  {
   "cell_type": "code",
   "execution_count": 4,
   "metadata": {
    "collapsed": true
   },
   "outputs": [],
   "source": [
    "params = {'page': 1}\n",
    "url = 'http://movie.naver.com/movie/point/af/list.nhn'\n",
    "res = requests.get(url, params=params)"
   ]
  },
  {
   "cell_type": "code",
   "execution_count": 15,
   "metadata": {
    "collapsed": false,
    "scrolled": true
   },
   "outputs": [
    {
     "name": "stdout",
     "output_type": "stream",
     "text": [
      "an></a>\r\n",
      "            <a href=\"#content\" id=\"gnb_goContent\" onclick=\"document.getElementById('content').tabIndex=-1;document.getElementById('content').focus();return false;\"><span>본문으로 바로가기</span></a>\r\n",
      "    </div>\r\n",
      "    <!-- //skip navigation -->\r\n",
      "\t<!-- GNB -->\r\n",
      "\t<div class=\"gnb_container\">\r\n",
      "\t\t<div class=\"gnb_content\">\r\n",
      "\t\t\t<div class=\"gnb_box\">\r\n",
      "\t\t\t \t<div class=\"gnb_wrap\">\r\n",
      "\t\t\t\t\t<div id=\"gnb\" onload=\"javascript:getGNB();\">\r\n",
      "\t\t\t\t   \t \t<script type=\"text/javascript\" charset=\"euc-kr\" src=\"http://stati\n"
     ]
    }
   ],
   "source": [
    "print(res.content.decode('euc-kr')[5000:5500])"
   ]
  },
  {
   "cell_type": "markdown",
   "metadata": {},
   "source": [
    "## BeautifulSoup으로 평점 테이블을 파싱"
   ]
  },
  {
   "cell_type": "code",
   "execution_count": 16,
   "metadata": {
    "collapsed": false
   },
   "outputs": [],
   "source": [
    "navigator = BeautifulSoup(res.text, 'html.parser')"
   ]
  },
  {
   "cell_type": "code",
   "execution_count": 23,
   "metadata": {
    "collapsed": false,
    "scrolled": true
   },
   "outputs": [
    {
     "data": {
      "text/html": [
       "<div>\n",
       "<table border=\"1\" class=\"dataframe\">\n",
       "  <thead>\n",
       "    <tr style=\"text-align: right;\">\n",
       "      <th></th>\n",
       "      <th>번호</th>\n",
       "      <th>평점</th>\n",
       "      <th>140자평</th>\n",
       "      <th>글쓴이·날짜</th>\n",
       "      <th>Unnamed: 4</th>\n",
       "    </tr>\n",
       "  </thead>\n",
       "  <tbody>\n",
       "    <tr>\n",
       "      <th>0</th>\n",
       "      <td>12841535</td>\n",
       "      <td>NaN</td>\n",
       "      <td>8</td>\n",
       "      <td>인보카머스 밋밋한 마무리가 아쉽다.. 신고</td>\n",
       "      <td>ykju****17.07.16</td>\n",
       "    </tr>\n",
       "    <tr>\n",
       "      <th>1</th>\n",
       "      <td>12841534</td>\n",
       "      <td>NaN</td>\n",
       "      <td>5</td>\n",
       "      <td>하루 오버스러운연출. 영화인걸 감안해도 진정 답답한스토리. 보면서 속으로 욕했다. 신고</td>\n",
       "      <td>jung****17.07.16</td>\n",
       "    </tr>\n",
       "    <tr>\n",
       "      <th>2</th>\n",
       "      <td>12841533</td>\n",
       "      <td>NaN</td>\n",
       "      <td>9</td>\n",
       "      <td>옥자 많은 걸 생각하게 함 재밌음 신고</td>\n",
       "      <td>yumm****17.07.16</td>\n",
       "    </tr>\n",
       "    <tr>\n",
       "      <th>3</th>\n",
       "      <td>12841532</td>\n",
       "      <td>NaN</td>\n",
       "      <td>10</td>\n",
       "      <td>스파이더맨: 홈커밍 꿀잼이에요 시간가는줄모른듯 신고</td>\n",
       "      <td>love****17.07.16</td>\n",
       "    </tr>\n",
       "    <tr>\n",
       "      <th>4</th>\n",
       "      <td>12841531</td>\n",
       "      <td>NaN</td>\n",
       "      <td>1</td>\n",
       "      <td>분노의 질주: 더 익스트림 정말 다 좋은데. 엘레나 너무 불쌍하다!!! 보고나서 찝...</td>\n",
       "      <td>1106****17.07.16</td>\n",
       "    </tr>\n",
       "    <tr>\n",
       "      <th>5</th>\n",
       "      <td>12841530</td>\n",
       "      <td>NaN</td>\n",
       "      <td>7</td>\n",
       "      <td>설계 오인혜는 몸뚱이 없었으면 어쩔뻔했누..쓸데없는 배드신마저 연기 드럽게 못하네....</td>\n",
       "      <td>nari****17.07.16</td>\n",
       "    </tr>\n",
       "    <tr>\n",
       "      <th>6</th>\n",
       "      <td>12841529</td>\n",
       "      <td>NaN</td>\n",
       "      <td>9</td>\n",
       "      <td>혹성탈출 마지막 진짜 반전이였다 . 신고</td>\n",
       "      <td>rlag****17.07.16</td>\n",
       "    </tr>\n",
       "    <tr>\n",
       "      <th>7</th>\n",
       "      <td>12841528</td>\n",
       "      <td>NaN</td>\n",
       "      <td>10</td>\n",
       "      <td>내 친구의 집은 어디인가 마음을 순수하게 해주는 영화라서 별 10개 준다. 이 영화...</td>\n",
       "      <td>whit****17.07.16</td>\n",
       "    </tr>\n",
       "    <tr>\n",
       "      <th>8</th>\n",
       "      <td>12841527</td>\n",
       "      <td>NaN</td>\n",
       "      <td>8</td>\n",
       "      <td>러브, 로지 둘이 너무 잘어울린다 ㅜㅜ 근데 왜 계속 방해하는거야 스토리는 보금 아...</td>\n",
       "      <td>rlag****17.07.16</td>\n",
       "    </tr>\n",
       "    <tr>\n",
       "      <th>9</th>\n",
       "      <td>12841526</td>\n",
       "      <td>NaN</td>\n",
       "      <td>7</td>\n",
       "      <td>옥자 중간에 약간 지루한 타임이 있지만, 볼만 합니다. 신고</td>\n",
       "      <td>mari****17.07.16</td>\n",
       "    </tr>\n",
       "  </tbody>\n",
       "</table>\n",
       "</div>"
      ],
      "text/plain": [
       "         번호  평점  140자평                                             글쓴이·날짜  \\\n",
       "0  12841535 NaN      8                            인보카머스 밋밋한 마무리가 아쉽다.. 신고   \n",
       "1  12841534 NaN      5   하루 오버스러운연출. 영화인걸 감안해도 진정 답답한스토리. 보면서 속으로 욕했다. 신고   \n",
       "2  12841533 NaN      9                              옥자 많은 걸 생각하게 함 재밌음 신고   \n",
       "3  12841532 NaN     10                       스파이더맨: 홈커밍 꿀잼이에요 시간가는줄모른듯 신고   \n",
       "4  12841531 NaN      1  분노의 질주: 더 익스트림 정말 다 좋은데. 엘레나 너무 불쌍하다!!! 보고나서 찝...   \n",
       "5  12841530 NaN      7  설계 오인혜는 몸뚱이 없었으면 어쩔뻔했누..쓸데없는 배드신마저 연기 드럽게 못하네....   \n",
       "6  12841529 NaN      9                             혹성탈출 마지막 진짜 반전이였다 . 신고   \n",
       "7  12841528 NaN     10  내 친구의 집은 어디인가 마음을 순수하게 해주는 영화라서 별 10개 준다. 이 영화...   \n",
       "8  12841527 NaN      8  러브, 로지 둘이 너무 잘어울린다 ㅜㅜ 근데 왜 계속 방해하는거야 스토리는 보금 아...   \n",
       "9  12841526 NaN      7                  옥자 중간에 약간 지루한 타임이 있지만, 볼만 합니다. 신고   \n",
       "\n",
       "         Unnamed: 4  \n",
       "0  ykju****17.07.16  \n",
       "1  jung****17.07.16  \n",
       "2  yumm****17.07.16  \n",
       "3  love****17.07.16  \n",
       "4  1106****17.07.16  \n",
       "5  nari****17.07.16  \n",
       "6  rlag****17.07.16  \n",
       "7  whit****17.07.16  \n",
       "8  rlag****17.07.16  \n",
       "9  mari****17.07.16  "
      ]
     },
     "execution_count": 23,
     "metadata": {},
     "output_type": "execute_result"
    }
   ],
   "source": [
    "table = navigator.find('table', class_='list_netizen')\n",
    "\n",
    "# print(table)\n",
    "df_table = pd.read_html(str(table), header=0)\n",
    "df_table[0]"
   ]
  },
  {
   "cell_type": "markdown",
   "metadata": {},
   "source": [
    "> 평점에서 하나씩 밀리네...  조금더 정형화 되어 있는 데이터로 만들려면 customization 이 필요"
   ]
  },
  {
   "cell_type": "code",
   "execution_count": 24,
   "metadata": {
    "collapsed": false,
    "scrolled": false
   },
   "outputs": [
    {
     "data": {
      "text/plain": [
       "[{'140자평': '밋밋한 마무리가 아쉽다.. ',\n",
       "  '글쓴이': 'ykju****',\n",
       "  '날짜': datetime.datetime(2017, 7, 16, 0, 0),\n",
       "  '번호': 12841535,\n",
       "  '영화': '인보카머스',\n",
       "  '평점': 8},\n",
       " {'140자평': '오버스러운연출. 영화인걸 감안해도 진정 답답한스토리.  보면서 속으로 욕했다. ',\n",
       "  '글쓴이': 'jung****',\n",
       "  '날짜': datetime.datetime(2017, 7, 16, 0, 0),\n",
       "  '번호': 12841534,\n",
       "  '영화': '하루',\n",
       "  '평점': 5}]"
      ]
     },
     "execution_count": 24,
     "metadata": {},
     "output_type": "execute_result"
    }
   ],
   "source": [
    "import dateutil\n",
    "\n",
    "list_records = []\n",
    "\n",
    "for i, r in enumerate(table.find_all('tr')):\n",
    "    for j, c in enumerate(r.find_all('td')):\n",
    "        if j == 0:\n",
    "            record = {\"번호\": int(c.text.strip())}\n",
    "        elif j == 2:\n",
    "            record.update({\"평점\": int(c.text.strip())})\n",
    "        elif j == 3:\n",
    "            record.update({\"영화\": str(c.find('a', class_='movie').text.strip())})\n",
    "            record.update({\"140자평\": str(c.find('br').text.strip()).split('\\r')[0]})\n",
    "        elif j == 4:\n",
    "            record.update({\"글쓴이\": c.find('a', class_='author').text.strip()})\n",
    "            record.update({\"날짜\": dateutil.parser.parse(c.find('br').text.strip(), yearfirst=True)})\n",
    "    try:        \n",
    "        list_records.append(record)\n",
    "    except:\n",
    "        pass\n",
    "    \n",
    "list_records[:2]"
   ]
  },
  {
   "cell_type": "markdown",
   "metadata": {},
   "source": [
    "## Dataframe으로 "
   ]
  },
  {
   "cell_type": "code",
   "execution_count": 6,
   "metadata": {
    "collapsed": false,
    "scrolled": false
   },
   "outputs": [
    {
     "data": {
      "text/html": [
       "<div>\n",
       "<table border=\"1\" class=\"dataframe\">\n",
       "  <thead>\n",
       "    <tr style=\"text-align: right;\">\n",
       "      <th></th>\n",
       "      <th>번호</th>\n",
       "      <th>평점</th>\n",
       "      <th>영화</th>\n",
       "      <th>140자평</th>\n",
       "      <th>글쓴이</th>\n",
       "      <th>날짜</th>\n",
       "    </tr>\n",
       "  </thead>\n",
       "  <tbody>\n",
       "    <tr>\n",
       "      <th>0</th>\n",
       "      <td>12817499</td>\n",
       "      <td>9</td>\n",
       "      <td>스파이더맨: 홈커밍</td>\n",
       "      <td>너무너무 재미있어요 오랜만에 제대로된 영화 본거같아요</td>\n",
       "      <td>horr****</td>\n",
       "      <td>2017-07-08</td>\n",
       "    </tr>\n",
       "    <tr>\n",
       "      <th>1</th>\n",
       "      <td>12817498</td>\n",
       "      <td>1</td>\n",
       "      <td>스파이더맨: 홈커밍</td>\n",
       "      <td>초반에 휴대폰 이리저리 바꿔가면서 영상촬영하는 장면에서 어지러워서 나왔어요 영화가 ...</td>\n",
       "      <td>zldn****</td>\n",
       "      <td>2017-07-08</td>\n",
       "    </tr>\n",
       "    <tr>\n",
       "      <th>2</th>\n",
       "      <td>12817497</td>\n",
       "      <td>7</td>\n",
       "      <td>스파이더맨: 홈커밍</td>\n",
       "      <td>평점 왜케높지..어린이영화보고온듯</td>\n",
       "      <td>fari****</td>\n",
       "      <td>2017-07-08</td>\n",
       "    </tr>\n",
       "    <tr>\n",
       "      <th>3</th>\n",
       "      <td>12817496</td>\n",
       "      <td>5</td>\n",
       "      <td>악녀</td>\n",
       "      <td>기대했지만 역시나 기대만..여배우  고생 한것 같고..</td>\n",
       "      <td>wcwn****</td>\n",
       "      <td>2017-07-08</td>\n",
       "    </tr>\n",
       "    <tr>\n",
       "      <th>4</th>\n",
       "      <td>12817495</td>\n",
       "      <td>10</td>\n",
       "      <td>스파이더맨: 홈커밍</td>\n",
       "      <td>단순한 액션물을 보러 오신거라면 그대로 다시 집으로돌아가세요</td>\n",
       "      <td>chee****</td>\n",
       "      <td>2017-07-08</td>\n",
       "    </tr>\n",
       "    <tr>\n",
       "      <th>5</th>\n",
       "      <td>12817494</td>\n",
       "      <td>1</td>\n",
       "      <td>여교수의 은밀한 매력</td>\n",
       "      <td>짱구야...너 그런 애였니?</td>\n",
       "      <td>wow1****</td>\n",
       "      <td>2017-07-08</td>\n",
       "    </tr>\n",
       "    <tr>\n",
       "      <th>6</th>\n",
       "      <td>12817493</td>\n",
       "      <td>3</td>\n",
       "      <td>아티스트 봉만대</td>\n",
       "      <td>멜로 영화인데, 왜 다큐로 느꺼지지.</td>\n",
       "      <td>mahu****</td>\n",
       "      <td>2017-07-08</td>\n",
       "    </tr>\n",
       "    <tr>\n",
       "      <th>7</th>\n",
       "      <td>12817492</td>\n",
       "      <td>10</td>\n",
       "      <td>헤드윅</td>\n",
       "      <td>슬픈영환데, 왜 이렇게 기분 좋죠....특이하네</td>\n",
       "      <td>vivi****</td>\n",
       "      <td>2017-07-08</td>\n",
       "    </tr>\n",
       "    <tr>\n",
       "      <th>8</th>\n",
       "      <td>12817491</td>\n",
       "      <td>9</td>\n",
       "      <td>원더 우먼</td>\n",
       "      <td>원더우먼에 대해 새로운 느낌...</td>\n",
       "      <td>whit****</td>\n",
       "      <td>2017-07-08</td>\n",
       "    </tr>\n",
       "    <tr>\n",
       "      <th>9</th>\n",
       "      <td>12817490</td>\n",
       "      <td>10</td>\n",
       "      <td>겟 아웃</td>\n",
       "      <td>대박 영화 ㅠㅠ 재밋었습니다</td>\n",
       "      <td>mytn****</td>\n",
       "      <td>2017-07-08</td>\n",
       "    </tr>\n",
       "  </tbody>\n",
       "</table>\n",
       "</div>"
      ],
      "text/plain": [
       "         번호  평점           영화  \\\n",
       "0  12817499   9   스파이더맨: 홈커밍   \n",
       "1  12817498   1   스파이더맨: 홈커밍   \n",
       "2  12817497   7   스파이더맨: 홈커밍   \n",
       "3  12817496   5           악녀   \n",
       "4  12817495  10   스파이더맨: 홈커밍   \n",
       "5  12817494   1  여교수의 은밀한 매력   \n",
       "6  12817493   3     아티스트 봉만대   \n",
       "7  12817492  10          헤드윅   \n",
       "8  12817491   9        원더 우먼   \n",
       "9  12817490  10         겟 아웃   \n",
       "\n",
       "                                               140자평       글쓴이         날짜  \n",
       "0                     너무너무 재미있어요 오랜만에 제대로된 영화 본거같아요   horr**** 2017-07-08  \n",
       "1  초반에 휴대폰 이리저리 바꿔가면서 영상촬영하는 장면에서 어지러워서 나왔어요 영화가 ...  zldn**** 2017-07-08  \n",
       "2                                평점 왜케높지..어린이영화보고온듯   fari**** 2017-07-08  \n",
       "3                    기대했지만 역시나 기대만..여배우  고생 한것 같고..   wcwn**** 2017-07-08  \n",
       "4                 단순한 액션물을 보러 오신거라면 그대로 다시 집으로돌아가세요   chee**** 2017-07-08  \n",
       "5                                   짱구야...너 그런 애였니?   wow1**** 2017-07-08  \n",
       "6                              멜로 영화인데, 왜 다큐로 느꺼지지.   mahu**** 2017-07-08  \n",
       "7                        슬픈영환데, 왜 이렇게 기분 좋죠....특이하네   vivi**** 2017-07-08  \n",
       "8                                원더우먼에 대해 새로운 느낌...   whit**** 2017-07-08  \n",
       "9                                   대박 영화 ㅠㅠ 재밋었습니다   mytn**** 2017-07-08  "
      ]
     },
     "execution_count": 6,
     "metadata": {},
     "output_type": "execute_result"
    }
   ],
   "source": [
    "df = pd.DataFrame(list_records, \n",
    "                  columns=[\"번호\", \"평점\", \"영화\", \"140자평\", \"글쓴이\", \"날짜\"])\n",
    "df.head(30)"
   ]
  },
  {
   "cell_type": "code",
   "execution_count": null,
   "metadata": {
    "collapsed": true
   },
   "outputs": [],
   "source": []
  }
 ],
 "metadata": {
  "anaconda-cloud": {},
  "kernelspec": {
   "display_name": "Python 3",
   "language": "python",
   "name": "python3"
  },
  "language_info": {
   "codemirror_mode": {
    "name": "ipython",
    "version": 3
   },
   "file_extension": ".py",
   "mimetype": "text/x-python",
   "name": "python",
   "nbconvert_exporter": "python",
   "pygments_lexer": "ipython3",
   "version": "3.5.1"
  }
 },
 "nbformat": 4,
 "nbformat_minor": 0
}
