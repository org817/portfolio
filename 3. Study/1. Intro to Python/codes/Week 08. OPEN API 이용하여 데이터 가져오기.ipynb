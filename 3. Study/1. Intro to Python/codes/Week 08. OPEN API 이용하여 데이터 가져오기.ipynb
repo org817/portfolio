{
 "cells": [
  {
   "cell_type": "markdown",
   "metadata": {},
   "source": [
    "# OPEN API\n",
    "----------------------\n",
    "\n",
    "누구나 사용할 수 있도록 공개된 API\n",
    "- www.data.go.kr\n",
    "- https://developers.naver.com/docs/map/overview/\n",
    "\n",
    "\n",
    "<br><br><br>\n",
    "# HTTP\n",
    "-----------------------------\n",
    "Hyper Text Transfer Protocol\n",
    ">웹상에서 정보를 주고 받기 위한 상호 규약(프로토콜)\n",
    "\n",
    "클라이언트와 서버 사이의 `request`와 `response`를 기초로 함\n",
    "<img src='pic/week8-1.png' width=400>\n",
    "<img src='pic/week8-2.png' width=600>\n",
    "\n",
    "\n",
    "- method : `get`,`post`\n",
    "- 메세지 구조 : `HEADER`, `BODY`\n",
    "- 응답코드 : 200 ok, 404 not found, 302 redirect\n",
    "\n",
    "<br><br><br>\n",
    "# Restful API\n",
    "-----------------------\n",
    "Represenstational state transfer\n",
    "\n",
    ">웹 상의 자료를 HTTP위에서 별도의 전송계층 없이 사용하기 위한 인터페이스\n",
    "\n",
    "- HTTP 프로토콜을 그대로 이용하되, 리소스를 URL에 담에서 전달하는 방식임\n",
    "\n",
    "\n",
    "### HTTP-based RESTful API\n",
    "\n",
    "- `URL` : https://blockchain.info/ko/ticker\n",
    "- `Internet Media Type` : JSON, XML, Text 등등\n",
    "- `Standard HTTP method` : POST, GET, DELETE, UPDATE\n",
    "\n",
    "\n",
    "\n",
    "### JSON 형식\n",
    "\n",
    "```JSON\n",
    "{\n",
    "    \"name\" : \"오록규\",\n",
    "    \"phone\" : {\n",
    "        \"type\" : \"LTE\",\n",
    "        \"number\" : \"+81 10 3471 3511\"\n",
    "   },\n",
    "   \"email\" : {\n",
    "       \"address\" : \"org817@unist.ac.kr\"\n",
    "       \"hide\" : \"yes\"\n",
    "   }\n",
    "}\n",
    "```\n",
    "\n",
    "> 요즘 대부분의 데이터 형식은 json으로 통일됨"
   ]
  },
  {
   "cell_type": "code",
   "execution_count": 10,
   "metadata": {
    "collapsed": false,
    "scrolled": false
   },
   "outputs": [
    {
     "name": "stdout",
     "output_type": "stream",
     "text": [
      "%EB%AA%A8%EB%91%90%EB%B0%951%EA%B8%B8%208-9\n",
      "https://openapi.naver.com/v1/map/geocode?query=%EB%AA%A8%EB%91%90%EB%B0%951%EA%B8%B8%208-9\n",
      "{\n",
      "    \"result\": {\n",
      "        \"total\": 1,\n",
      "        \"userquery\": \"모두박1길 8-9\",\n",
      "        \"items\": [\n",
      "            {\n",
      "                \"address\": \"울산광역시 울주군 범서읍 모두박1길  8-9\",\n",
      "                \"addrdetail\": {\n",
      "                    \"country\": \"대한민국\",\n",
      "                    \"sido\": \"울산광역시\",\n",
      "                    \"sigugun\": \"울주군 범서읍\",\n",
      "                    \"dongmyun\": \"모두박1길\",\n",
      "                    \"rest\": \" 8-9\"\n",
      "                },\n",
      "                \"isRoadAddress\": true,\n",
      "                \"point\": {\n",
      "                    \"x\": 129.2519631,\n",
      "                    \"y\": 35.5642676\n",
      "                }\n",
      "            }\n",
      "        ]\n",
      "    }\n",
      "}\n"
     ]
    }
   ],
   "source": [
    "from urllib import parse, request, response\n",
    "\n",
    "client_id = \"*****\" #'Naver Developement 센터에서 발급 후 사용\n",
    "client_secret = \"******\" #'Naver Developement 센터에서 발급 후 사용\n",
    "\n",
    "encText = parse.quote(\"모두박1길 8-9\")\n",
    "print(encText)\n",
    "url = \"https://openapi.naver.com/v1/map/geocode?query=\" + encText # json 결과\n",
    "# url = \"https://openapi.naver.com/v1/map/geocode.xml?query=\" + encText # xml 결과\n",
    "print(url)\n",
    "req = request.Request(url)\n",
    "\n",
    "# 헤더를 추가하는 부분\n",
    "req.add_header(\"X-Naver-Client-Id\",client_id)\n",
    "req.add_header(\"X-Naver-Client-Secret\",client_secret)\n",
    "\n",
    "res = request.urlopen(req)\n",
    "rescode = res.getcode()\n",
    "\n",
    "if(rescode==200):\n",
    "    response_body = res.read()\n",
    "    print(response_body.decode('utf-8'))\n",
    "    cookie = res.headers.get('Set-Cookie')\n",
    "else:\n",
    "    print(\"Error Code:\" + rescode)"
   ]
  },
  {
   "cell_type": "code",
   "execution_count": 2,
   "metadata": {
    "collapsed": true
   },
   "outputs": [],
   "source": [
    "import requests"
   ]
  },
  {
   "cell_type": "code",
   "execution_count": 56,
   "metadata": {
    "collapsed": false
   },
   "outputs": [
    {
     "name": "stdout",
     "output_type": "stream",
     "text": [
      "{\n",
      "    \"result\": {\n",
      "        \"total\": 1,\n",
      "        \"userquery\": \"모두박 1길 8-9\",\n",
      "        \"items\": [\n",
      "            {\n",
      "                \"address\": \"울산광역시 울주군 범서읍 모두박1길  8-9\",\n",
      "                \"addrdetail\": {\n",
      "                    \"country\": \"대한민국\",\n",
      "                    \"sido\": \"울산광역시\",\n",
      "                    \"sigugun\": \"울주군 범서읍\",\n",
      "                    \"dongmyun\": \"모두박1길\",\n",
      "                    \"rest\": \" 8-9\"\n",
      "                },\n",
      "                \"isRoadAddress\": true,\n",
      "                \"point\": {\n",
      "                    \"x\": 129.2519631,\n",
      "                    \"y\": 35.5642676\n",
      "                }\n",
      "            }\n",
      "        ]\n",
      "    }\n",
      "}\n",
      "{\n",
      "    \"result\": {\n",
      "        \"total\": 1,\n",
      "        \"userquery\": \"모두박 1길 8-9\",\n",
      "        \"items\": [\n",
      "            {\n",
      "                \"address\": \"울산광역시 울주군 범서읍 모두박1길  8-9\",\n",
      "                \"addrdetail\": {\n",
      "                    \"country\": \"대한민국\",\n",
      "                    \"sido\": \"울산광역시\",\n",
      "                    \"sigugun\": \"울주군 범서읍\",\n",
      "                    \"dongmyun\": \"모두박1길\",\n",
      "                    \"rest\": \" 8-9\"\n",
      "                },\n",
      "                \"isRoadAddress\": true,\n",
      "                \"point\": {\n",
      "                    \"x\": 129.2519631,\n",
      "                    \"y\": 35.5642676\n",
      "                }\n",
      "            }\n",
      "        ]\n",
      "    }\n",
      "}\n"
     ]
    }
   ],
   "source": [
    "URL = 'https://openapi.naver.com/v1/map/geocode'\n",
    "\n",
    "client_id = \"TTUlIcGl8Yz10w3FYcwv\"\n",
    "client_secret = \"P0ULuFSCTg\"\n",
    "\n",
    "headers = {'X-Naver-Client-Id': client_id,\n",
    "           \"X-Naver-Client-Secret\": client_secret}\n",
    "\n",
    "location = \"모두박 1길 8-9\"\n",
    "\n",
    "params = {'query': location}\n",
    "\n",
    "res = requests.get(URL, params=params, headers=headers)\n",
    "\n",
    "if (res.status_code == 200):\n",
    "    print(res.content.decode('utf-8'))\n",
    "else:\n",
    "    print(\"request error\")"
   ]
  },
  {
   "cell_type": "code",
   "execution_count": 48,
   "metadata": {
    "collapsed": false
   },
   "outputs": [
    {
     "name": "stdout",
     "output_type": "stream",
     "text": [
      "<class 'str'>\n",
      "<class 'dict'>\n",
      "True\n"
     ]
    },
    {
     "data": {
      "text/plain": [
       "{'country': '대한민국',\n",
       " 'dongmyun': '모두박1길',\n",
       " 'rest': ' 8-9',\n",
       " 'sido': '울산광역시',\n",
       " 'sigugun': '울주군 범서읍'}"
      ]
     },
     "execution_count": 48,
     "metadata": {},
     "output_type": "execute_result"
    }
   ],
   "source": [
    "data = res.content.decode('utf-8')\n",
    "print(type(data))\n",
    "\n",
    "import json\n",
    "\n",
    "parsed_data = json.loads(data)\n",
    "print(type(parsed_data))\n",
    "\n",
    "items = parsed_data['result']['items']\n",
    "\n",
    "print(items[0]['isRoadAddress'])\n",
    "\n",
    "print(items[0]['addrdetail'])"
   ]
  }
 ],
 "metadata": {
  "anaconda-cloud": {},
  "kernelspec": {
   "display_name": "Python 3",
   "language": "python",
   "name": "python3"
  },
  "language_info": {
   "codemirror_mode": {
    "name": "ipython",
    "version": 3
   },
   "file_extension": ".py",
   "mimetype": "text/x-python",
   "name": "python",
   "nbconvert_exporter": "python",
   "pygments_lexer": "ipython3",
   "version": "3.5.1"
  }
 },
 "nbformat": 4,
 "nbformat_minor": 0
}
