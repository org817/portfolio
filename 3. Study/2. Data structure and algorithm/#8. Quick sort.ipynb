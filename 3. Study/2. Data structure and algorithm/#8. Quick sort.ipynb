{
 "cells": [
  {
   "cell_type": "markdown",
   "metadata": {},
   "source": [
    "# Quick sort\n",
    "------------------------"
   ]
  },
  {
   "cell_type": "code",
   "execution_count": 3,
   "metadata": {
    "collapsed": false
   },
   "outputs": [],
   "source": [
    "def quick_sort(alist):\n",
    "    if len(alist) > 1:\n",
    "        print(\"input\", alist)\n",
    "        pivot = alist[0]\n",
    "#         print(\"pivot\", pivot)\n",
    "        \n",
    "        left_mark = 0\n",
    "        right_mark = len(alist)-1\n",
    "        \n",
    "        while left_mark <= right_mark:  # left mark 와 right mark 가 교차하면 \n",
    "            \n",
    "            # list[left_mark]가 pivot보다 작으면 leftmark를 오른쪽으로 옮김  \n",
    "            if alist[left_mark] <= pivot: \n",
    "#                 print('left:',left_mark)\n",
    "                left_mark += 1\n",
    "                continue\n",
    "        \n",
    "            # list[right_mark]가 pivot보다 크면 right_mark를 왼쪽으로 옮김 \n",
    "            if alist[right_mark] >= pivot: \n",
    "#                 print('right:',right_mark)\n",
    "                right_mark -= 1\n",
    "                continue\n",
    "            \n",
    "            temp = alist[right_mark]\n",
    "            alist[right_mark] = alist[left_mark]\n",
    "            alist[left_mark] = temp\n",
    "            print(\"changing\", alist)\n",
    "            \n",
    "        print(\"left:{}  right:{}\".format(left_mark, right_mark))\n",
    "        alist[0] = alist[left_mark-1]\n",
    "        alist[left_mark-1] = pivot\n",
    "\n",
    "        print(alist)\n",
    "        print('----------------------')\n",
    "        \n",
    "        left = alist[:left_mark-1]\n",
    "        right = alist[left_mark:]\n",
    "        \n",
    "        quick_sort(left)\n",
    "        print(left)\n",
    "        quick_sort(right)\n",
    "        print(right)\n",
    "        \n",
    "        i = 0 # left list\n",
    "        j = 0 # right list\n",
    "        k = 0 # total list\n",
    "        \n",
    "        while i < len(left):\n",
    "            alist[k] = left[i]\n",
    "            i += 1\n",
    "            k += 1\n",
    "        \n",
    "        alist[k] = pivot\n",
    "        k += 1\n",
    "\n",
    "        while j < len(right):\n",
    "            alist[k] = right[j]\n",
    "            j += 1\n",
    "            k += 1\n",
    "            \n",
    "        print(\"Final:\", alist)"
   ]
  },
  {
   "cell_type": "code",
   "execution_count": 4,
   "metadata": {
    "collapsed": false,
    "scrolled": false
   },
   "outputs": [
    {
     "name": "stdout",
     "output_type": "stream",
     "text": [
      "input [54, 26, 93, 44, 11, 22, 56, 55, 20]\n",
      "changing [54, 26, 20, 44, 11, 22, 56, 55, 93]\n",
      "left:6  right:5\n",
      "[22, 26, 20, 44, 11, 54, 56, 55, 93]\n",
      "----------------------\n",
      "input [22, 26, 20, 44, 11]\n",
      "changing [22, 11, 20, 44, 26]\n",
      "left:3  right:2\n",
      "[20, 11, 22, 44, 26]\n",
      "----------------------\n",
      "input [20, 11]\n",
      "left:2  right:1\n",
      "[11, 20]\n",
      "----------------------\n",
      "[11]\n",
      "[]\n",
      "Final: [11, 20]\n",
      "[11, 20]\n",
      "input [44, 26]\n",
      "left:2  right:1\n",
      "[26, 44]\n",
      "----------------------\n",
      "[26]\n",
      "[]\n",
      "Final: [26, 44]\n",
      "[26, 44]\n",
      "Final: [11, 20, 22, 26, 44]\n",
      "[11, 20, 22, 26, 44]\n",
      "input [56, 55, 93]\n",
      "left:2  right:1\n",
      "[55, 56, 93]\n",
      "----------------------\n",
      "[55]\n",
      "[93]\n",
      "Final: [55, 56, 93]\n",
      "[55, 56, 93]\n",
      "Final: [11, 20, 22, 26, 44, 54, 55, 56, 93]\n"
     ]
    }
   ],
   "source": [
    "alist = [54,26,93,44,11,22,56,55,20]\n",
    "\n",
    "quick_sort(alist)"
   ]
  },
  {
   "cell_type": "code",
   "execution_count": null,
   "metadata": {
    "collapsed": true
   },
   "outputs": [],
   "source": []
  }
 ],
 "metadata": {
  "anaconda-cloud": {},
  "kernelspec": {
   "display_name": "Python [default]",
   "language": "python",
   "name": "python3"
  },
  "language_info": {
   "codemirror_mode": {
    "name": "ipython",
    "version": 3
   },
   "file_extension": ".py",
   "mimetype": "text/x-python",
   "name": "python",
   "nbconvert_exporter": "python",
   "pygments_lexer": "ipython3",
   "version": "3.5.2"
  }
 },
 "nbformat": 4,
 "nbformat_minor": 1
}
