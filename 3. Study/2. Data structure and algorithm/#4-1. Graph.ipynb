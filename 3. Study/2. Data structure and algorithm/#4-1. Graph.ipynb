{
 "cells": [
  {
   "cell_type": "markdown",
   "metadata": {},
   "source": [
    "# Graph\n",
    "\n",
    "## 1. Representation \n",
    "$ G = (V,E) $\n",
    "- V = Node\n",
    "- E = Edge : a set of connection\n",
    "\n",
    "## 2. Adjacency matrix\n",
    " - $ n*n $ matrix\n",
    " - A = $ (a_{ij}) $ , a = 가중치\n",
    " - $ n^2 $ memory\n",
    " \n",
    "### 3. Adjacency list\n",
    " - 각 list 에 인접한 node list를 저장"
   ]
  },
  {
   "cell_type": "markdown",
   "metadata": {},
   "source": [
    "---------------------------"
   ]
  },
  {
   "cell_type": "markdown",
   "metadata": {},
   "source": [
    "# Graph traversal (순회)\n",
    "\n",
    "그래프의 모든 노드를 방문하는 일\n",
    "\n",
    "## 1. BFS (Breadth-First Search, 너비우선)\n",
    " - 동심원 형태로 탐색하는 것\n",
    " - 이웃들 중 이전 인접 노드에 속하지 않는 노드\n",
    " - $ L_i = L_{i-1} $ 의 이웃들 중 $L_{i-2}$에 속하지 않는 노드\n",
    "\n",
    "\n",
    " - 큐를 이용한 너비우선순회\n",
    "     * `check` the start node\n",
    "     * insert the start node into the queue\n",
    "\n",
    "```python\n",
    "while queue.isempty():\n",
    "    remove node v from queue\n",
    "    for unchecked neighbor w of v:\n",
    "        check and insert w into queue\n",
    "```\n",
    "\n",
    " - 최단경로\n",
    "     * s에서 $L_i$ 에 속한 노드까지의 최단 경로는 i 이다\n",
    "     * $d[v]$ = s로부터 v로까지 가는 최단 경로의 길이\n",
    "     * $\\pi[v]$ = s로부터 v까지의 최단경로상에서 V의 직전 노드(predecessor)\n",
    "     \n",
    "## 2. DFS (Depth-First Search, 깊이우선)"
   ]
  },
  {
   "cell_type": "code",
   "execution_count": null,
   "metadata": {
    "collapsed": true
   },
   "outputs": [],
   "source": []
  }
 ],
 "metadata": {
  "anaconda-cloud": {},
  "kernelspec": {
   "display_name": "Python [conda root]",
   "language": "python",
   "name": "conda-root-py"
  },
  "language_info": {
   "codemirror_mode": {
    "name": "ipython",
    "version": 3
   },
   "file_extension": ".py",
   "mimetype": "text/x-python",
   "name": "python",
   "nbconvert_exporter": "python",
   "pygments_lexer": "ipython3",
   "version": "3.5.2"
  }
 },
 "nbformat": 4,
 "nbformat_minor": 1
}
