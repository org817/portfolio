{
 "cells": [
  {
   "cell_type": "markdown",
   "metadata": {},
   "source": [
    "# Stack 구현\n",
    "------------------------\n",
    "\n",
    "개발 순서\n",
    "1. Stack class 구현\n",
    "2. push, pop 구현\n",
    "3. overflow, underflow 구현\n",
    "\n",
    "\n",
    "## 설명\n",
    "`stack`은 데이타 입/출력이 한쪽으로만 접근 할 수 있는 자료 구조\n",
    "\n",
    "스택에서 가장 나중에 들어간 데이타가 제일 먼저 나옴 - LIFO(Last In First Out)"
   ]
  },
  {
   "cell_type": "code",
   "execution_count": 1,
   "metadata": {
    "collapsed": false
   },
   "outputs": [],
   "source": [
    "class Stack_python():\n",
    "    \n",
    "    def __init__(self, num_mem):\n",
    "        self.check_flow = 0;\n",
    "        self.max_stack = num_mem\n",
    "        self.stack = []\n",
    "        \n",
    "    def push(self, data):\n",
    "        if (self.check_flow < self.max_stack):\n",
    "            self.check_flow += 1;\n",
    "            self.stack.append(data)\n",
    "            return self.stack\n",
    "        else:\n",
    "            print('Stack Overflow : Full stacked')\n",
    "\n",
    "    def pop(self):\n",
    "        if (self.check_flow > 0):\n",
    "            self.check_flow -= 1;\n",
    "            return self.stack.pop()\n",
    "        else:\n",
    "            print('Stack Underflow : No more data in the stack')\n",
    "    "
   ]
  },
  {
   "cell_type": "markdown",
   "metadata": {},
   "source": [
    "### Create stack named 'a' with stack size of 3"
   ]
  },
  {
   "cell_type": "code",
   "execution_count": 2,
   "metadata": {
    "collapsed": false,
    "scrolled": true
   },
   "outputs": [
    {
     "name": "stdout",
     "output_type": "stream",
     "text": [
      "0 3 []\n"
     ]
    }
   ],
   "source": [
    "a = Stack_python(3)\n",
    "print(a.check_flow, a.max_stack, a.stack)"
   ]
  },
  {
   "cell_type": "markdown",
   "metadata": {},
   "source": [
    "### Push data 1,2,3 succesively"
   ]
  },
  {
   "cell_type": "code",
   "execution_count": 3,
   "metadata": {
    "collapsed": false,
    "scrolled": true
   },
   "outputs": [
    {
     "name": "stdout",
     "output_type": "stream",
     "text": [
      "[1]\n",
      "[1, 2]\n",
      "[1, 2, 3]\n",
      "3 3 [1, 2, 3]\n"
     ]
    }
   ],
   "source": [
    "print(a.push(1))\n",
    "print(a.push(2))\n",
    "print(a.push(3))\n",
    "print(a.check_flow, a.max_stack, a.stack)"
   ]
  },
  {
   "cell_type": "markdown",
   "metadata": {},
   "source": [
    "### push data 4 (overflow)"
   ]
  },
  {
   "cell_type": "code",
   "execution_count": 4,
   "metadata": {
    "collapsed": false,
    "scrolled": true
   },
   "outputs": [
    {
     "name": "stdout",
     "output_type": "stream",
     "text": [
      "Stack Overflow : Full stacked\n",
      "None\n",
      "3 3 [1, 2, 3]\n"
     ]
    }
   ],
   "source": [
    "print(a.push(4))\n",
    "print(a.check_flow, a.max_stack, a.stack)"
   ]
  },
  {
   "cell_type": "markdown",
   "metadata": {},
   "source": [
    "### Pop data 3,2,1 succesively"
   ]
  },
  {
   "cell_type": "code",
   "execution_count": 5,
   "metadata": {
    "collapsed": false
   },
   "outputs": [
    {
     "name": "stdout",
     "output_type": "stream",
     "text": [
      "3\n",
      "2\n",
      "1\n",
      "0 3 []\n"
     ]
    }
   ],
   "source": [
    "print(a.pop())\n",
    "print(a.pop())\n",
    "print(a.pop())\n",
    "print(a.check_flow, a.max_stack, a.stack)"
   ]
  },
  {
   "cell_type": "code",
   "execution_count": 6,
   "metadata": {
    "collapsed": false,
    "scrolled": true
   },
   "outputs": [
    {
     "name": "stdout",
     "output_type": "stream",
     "text": [
      "Stack Underflow : No more data in the stack\n",
      "0 3 []\n"
     ]
    }
   ],
   "source": [
    "a.pop()\n",
    "print(a.check_flow, a.max_stack, a.stack)"
   ]
  },
  {
   "cell_type": "markdown",
   "metadata": {},
   "source": [
    "# ndarray 를 이용한 stack 구현"
   ]
  },
  {
   "cell_type": "code",
   "execution_count": 7,
   "metadata": {
    "collapsed": false
   },
   "outputs": [],
   "source": [
    "import numpy as np\n",
    "\n",
    "class Stack_array():\n",
    "    \n",
    "    def __init__(self, num_mem):\n",
    "        self.check_flow = 0;\n",
    "        self.max_stack = num_mem\n",
    "        self.stack = np.empty(num_mem)\n",
    "        self.stack[:] = np.nan\n",
    "        \n",
    "    def push(self, data):\n",
    "        if (self.check_flow < self.max_stack):\n",
    "            self.stack[self.check_flow] = data\n",
    "            self.check_flow += 1;\n",
    "            return self.stack\n",
    "        else:\n",
    "            print('Stack Overflow : Full stacked')\n",
    "\n",
    "    def pop(self):\n",
    "        if (self.check_flow > 0):\n",
    "            self.check_flow -= 1\n",
    "            current = self.stack[self.check_flow]\n",
    "            self.stack[self.check_flow] = None\n",
    "            return current \n",
    "        else:\n",
    "            print('Stack Underflow : No more data in the stack')    "
   ]
  },
  {
   "cell_type": "code",
   "execution_count": 8,
   "metadata": {
    "collapsed": false
   },
   "outputs": [
    {
     "name": "stdout",
     "output_type": "stream",
     "text": [
      "0 3 [ nan  nan  nan]\n"
     ]
    }
   ],
   "source": [
    "a = Stack_array(3)\n",
    "print(a.check_flow, a.max_stack, a.stack)"
   ]
  },
  {
   "cell_type": "code",
   "execution_count": 9,
   "metadata": {
    "collapsed": false,
    "scrolled": true
   },
   "outputs": [
    {
     "name": "stdout",
     "output_type": "stream",
     "text": [
      "[  1.  nan  nan]\n",
      "1 3 [  1.  nan  nan]\n",
      "[  1.   2.  nan]\n",
      "2 3 [  1.   2.  nan]\n",
      "[ 1.  2.  3.]\n",
      "3 3 [ 1.  2.  3.]\n",
      "Stack Overflow : Full stacked\n",
      "None\n",
      "3 3 [ 1.  2.  3.]\n"
     ]
    }
   ],
   "source": [
    "print(a.push(1))\n",
    "print(a.check_flow, a.max_stack, a.stack)\n",
    "\n",
    "print(a.push(2))\n",
    "print(a.check_flow, a.max_stack, a.stack)\n",
    "\n",
    "print(a.push(3))\n",
    "print(a.check_flow, a.max_stack, a.stack)\n",
    "\n",
    "print(a.push(4))\n",
    "print(a.check_flow, a.max_stack, a.stack)"
   ]
  },
  {
   "cell_type": "code",
   "execution_count": 10,
   "metadata": {
    "collapsed": false,
    "scrolled": false
   },
   "outputs": [
    {
     "name": "stdout",
     "output_type": "stream",
     "text": [
      "3.0\n",
      "2 3 [  1.   2.  nan]\n",
      "2.0\n",
      "1 3 [  1.  nan  nan]\n",
      "1.0\n",
      "0 3 [ nan  nan  nan]\n"
     ]
    }
   ],
   "source": [
    "print(a.pop())\n",
    "print(a.check_flow, a.max_stack, a.stack)\n",
    "\n",
    "print(a.pop())\n",
    "print(a.check_flow, a.max_stack, a.stack)\n",
    "\n",
    "print(a.pop())\n",
    "print(a.check_flow, a.max_stack, a.stack)"
   ]
  },
  {
   "cell_type": "code",
   "execution_count": 11,
   "metadata": {
    "collapsed": false
   },
   "outputs": [
    {
     "name": "stdout",
     "output_type": "stream",
     "text": [
      "Stack Underflow : No more data in the stack\n",
      "0 3 [ nan  nan  nan]\n"
     ]
    }
   ],
   "source": [
    "a.pop()\n",
    "print(a.check_flow, a.max_stack, a.stack)"
   ]
  },
  {
   "cell_type": "code",
   "execution_count": 12,
   "metadata": {
    "collapsed": false,
    "scrolled": true
   },
   "outputs": [
    {
     "name": "stdout",
     "output_type": "stream",
     "text": [
      "3 3 [ 4.  5.  6.]\n"
     ]
    }
   ],
   "source": [
    "a.push(4)\n",
    "a.push(5)\n",
    "a.push(6)\n",
    "print(a.check_flow, a.max_stack, a.stack)"
   ]
  },
  {
   "cell_type": "code",
   "execution_count": 13,
   "metadata": {
    "collapsed": false,
    "scrolled": true
   },
   "outputs": [
    {
     "name": "stdout",
     "output_type": "stream",
     "text": [
      "Stack Overflow : Full stacked\n"
     ]
    }
   ],
   "source": [
    "a.push(7)"
   ]
  },
  {
   "cell_type": "code",
   "execution_count": null,
   "metadata": {
    "collapsed": true
   },
   "outputs": [],
   "source": []
  }
 ],
 "metadata": {
  "anaconda-cloud": {},
  "kernelspec": {
   "display_name": "Python 3",
   "language": "python",
   "name": "python3"
  },
  "language_info": {
   "codemirror_mode": {
    "name": "ipython",
    "version": 3
   },
   "file_extension": ".py",
   "mimetype": "text/x-python",
   "name": "python",
   "nbconvert_exporter": "python",
   "pygments_lexer": "ipython3",
   "version": "3.5.1"
  }
 },
 "nbformat": 4,
 "nbformat_minor": 1
}
