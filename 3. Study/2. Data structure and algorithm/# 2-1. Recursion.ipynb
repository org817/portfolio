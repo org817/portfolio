{
 "cells": [
  {
   "cell_type": "markdown",
   "metadata": {},
   "source": [
    "# Recursion\n",
    "\n",
    "- 자기자신을 호출하는 함수\n",
    "- Recursive --> To base Case 로"
   ]
  },
  {
   "cell_type": "code",
   "execution_count": 30,
   "metadata": {
    "collapsed": false
   },
   "outputs": [
    {
     "data": {
      "text/plain": [
       "55"
      ]
     },
     "execution_count": 30,
     "metadata": {},
     "output_type": "execute_result"
    }
   ],
   "source": [
    "def sum_accumlator(n):\n",
    "    if n == 0:\n",
    "        return 0\n",
    "    else:\n",
    "        return n + sum_accumlator(n-1)\n",
    "\n",
    "sum_accumlator(10)"
   ]
  },
  {
   "cell_type": "code",
   "execution_count": 31,
   "metadata": {
    "collapsed": false
   },
   "outputs": [
    {
     "data": {
      "text/plain": [
       "24"
      ]
     },
     "execution_count": 31,
     "metadata": {},
     "output_type": "execute_result"
    }
   ],
   "source": [
    "def factorial(n):\n",
    "    if n == 1:\n",
    "        return 1\n",
    "    else:\n",
    "        return factorial(n-1)*n\n",
    "\n",
    "factorial(4)"
   ]
  },
  {
   "cell_type": "code",
   "execution_count": 49,
   "metadata": {
    "collapsed": false
   },
   "outputs": [
    {
     "data": {
      "text/plain": [
       "55"
      ]
     },
     "execution_count": 49,
     "metadata": {},
     "output_type": "execute_result"
    }
   ],
   "source": [
    "def fibonacci(n):\n",
    "    if n < 2:\n",
    "        return n\n",
    "    else:\n",
    "        return fibonacci(n-1) + fibonacci(n-2)\n",
    "    \n",
    "fibonacci(10)"
   ]
  },
  {
   "cell_type": "code",
   "execution_count": 33,
   "metadata": {
    "collapsed": false
   },
   "outputs": [
    {
     "data": {
      "text/plain": [
       "8"
      ]
     },
     "execution_count": 33,
     "metadata": {},
     "output_type": "execute_result"
    }
   ],
   "source": [
    "def gcd(m,n):\n",
    "    # m should be larger than n\n",
    "    if m < n:\n",
    "        m, n = n,m\n",
    "    \n",
    "    if (m%n == 0):\n",
    "        return n\n",
    "    else:\n",
    "        return gcd(n, m%n)\n",
    "    \n",
    "gcd(24,16)"
   ]
  },
  {
   "cell_type": "code",
   "execution_count": 27,
   "metadata": {
    "collapsed": false
   },
   "outputs": [
    {
     "data": {
      "text/plain": [
       "8"
      ]
     },
     "execution_count": 27,
     "metadata": {},
     "output_type": "execute_result"
    }
   ],
   "source": [
    "def gcd2(m,n):\n",
    "    if n == 0:\n",
    "        return m\n",
    "    else:\n",
    "        return gcd(n, m%n)\n",
    "\n",
    "gcd2(16,24)"
   ]
  },
  {
   "cell_type": "markdown",
   "metadata": {},
   "source": [
    "---------------------"
   ]
  },
  {
   "cell_type": "markdown",
   "metadata": {},
   "source": [
    "## for, while -> Recursion\n",
    "- 모든 recursion 은 for, while로 가능, 그 역도 가능\n",
    "- 함수 호출에 따른 오버헤드 문제가 생성"
   ]
  },
  {
   "cell_type": "code",
   "execution_count": 53,
   "metadata": {
    "collapsed": false
   },
   "outputs": [
    {
     "data": {
      "text/plain": [
       "5"
      ]
     },
     "execution_count": 53,
     "metadata": {},
     "output_type": "execute_result"
    }
   ],
   "source": [
    "def length_of_str(string):\n",
    "    if string == '':\n",
    "        return 0;\n",
    "    else:\n",
    "        return 1+length_of_str(string[1:])\n",
    "    \n",
    "length_of_str('hello')"
   ]
  },
  {
   "cell_type": "code",
   "execution_count": 66,
   "metadata": {
    "collapsed": false
   },
   "outputs": [
    {
     "name": "stdout",
     "output_type": "stream",
     "text": [
      "h e l l o \n",
      "------------\n",
      "o l l e h "
     ]
    }
   ],
   "source": [
    "def print_char(string):\n",
    "    if len(string) == 0:\n",
    "        return\n",
    "    else:\n",
    "        print(string[0], end=' ')\n",
    "        print_char(string[1:])\n",
    "        \n",
    "print_char('hello')\n",
    "\n",
    "print('\\n------------')\n",
    "\n",
    "def print_inv_char(string):\n",
    "    if len(string) == 0:\n",
    "        return\n",
    "    else:\n",
    "        print_inv_char(string[1:])\n",
    "        print(string[0], end=' ')\n",
    "\n",
    "print_inv_char('hello')"
   ]
  },
  {
   "cell_type": "code",
   "execution_count": 74,
   "metadata": {
    "collapsed": false
   },
   "outputs": [
    {
     "name": "stdout",
     "output_type": "stream",
     "text": [
      "1 0 1 0 "
     ]
    }
   ],
   "source": [
    "def print_binary(n):\n",
    "    if n < 2:\n",
    "        print(n, end=' ')\n",
    "    else:\n",
    "        print_binary(n//2)\n",
    "        print(n%2, end=' ')\n",
    "\n",
    "print_binary(10)"
   ]
  },
  {
   "cell_type": "code",
   "execution_count": 85,
   "metadata": {
    "collapsed": false
   },
   "outputs": [
    {
     "name": "stdout",
     "output_type": "stream",
     "text": [
      "10\n",
      "10\n"
     ]
    }
   ],
   "source": [
    "def sum_list(n, array):\n",
    "    if n == 0:\n",
    "        return 0\n",
    "    else:\n",
    "        return array[n-1] + sum_list(n-1, array)\n",
    "\n",
    "def sum_list2(array):\n",
    "    if len(array) == 0:\n",
    "        return 0\n",
    "    else:\n",
    "        return array.pop() + sum_list2(array)\n",
    "\n",
    "\n",
    "print(sum_list(4, [1,2,3,4]))\n",
    "print(sum_list2([1,2,3,4]))"
   ]
  },
  {
   "cell_type": "markdown",
   "metadata": {},
   "source": [
    "----------------"
   ]
  },
  {
   "cell_type": "markdown",
   "metadata": {},
   "source": [
    "## Designing Recursion\n",
    "\n",
    "- 적어도 하나의 base case가 존재해야 함\n",
    "- 모든 case는 base case로 수렴해야 함\n",
    "\n",
    "암시적(implicit) 매개변수를 **명시적(explicit)** 로 바꿔야 함"
   ]
  },
  {
   "cell_type": "markdown",
   "metadata": {},
   "source": [
    "## - Sequencial search"
   ]
  },
  {
   "cell_type": "code",
   "execution_count": 100,
   "metadata": {
    "collapsed": false
   },
   "outputs": [
    {
     "data": {
      "text/plain": [
       "4"
      ]
     },
     "execution_count": 100,
     "metadata": {},
     "output_type": "execute_result"
    }
   ],
   "source": [
    "# 검색 할 구간의 시작과 끝을 모두 명시함 \n",
    "# why --> recursion에서 재귀호출 할 때 iteration을 더욱 확실히 명시 할 수 있음\n",
    "\n",
    "# 선행 탐색\n",
    "def search(data, start, end, target):\n",
    "    if start > end:\n",
    "        return -1\n",
    "    elif target == data[start]:\n",
    "        return start\n",
    "    else:\n",
    "        return search(data, start+1, end, target)\n",
    "\n",
    "    \n",
    "search([1,5,3,2,6,4], 0, 5, 6)"
   ]
  },
  {
   "cell_type": "code",
   "execution_count": 104,
   "metadata": {
    "collapsed": false
   },
   "outputs": [
    {
     "data": {
      "text/plain": [
       "10"
      ]
     },
     "execution_count": 104,
     "metadata": {},
     "output_type": "execute_result"
    }
   ],
   "source": [
    "def max_search(data, start, end):\n",
    "    if start == end:\n",
    "        return data[start]\n",
    "    else:\n",
    "        return max(data[start], max_search(data, start+1, end))\n",
    "\n",
    "max_search([6,2,2,6,10,7,3,1,1,4,8], 0, 9)"
   ]
  },
  {
   "cell_type": "code",
   "execution_count": 106,
   "metadata": {
    "collapsed": false,
    "scrolled": true
   },
   "outputs": [
    {
     "data": {
      "text/plain": [
       "True"
      ]
     },
     "execution_count": 106,
     "metadata": {},
     "output_type": "execute_result"
    }
   ],
   "source": [
    "'C' > 'B'"
   ]
  },
  {
   "cell_type": "markdown",
   "metadata": {},
   "source": [
    "---------------------------"
   ]
  },
  {
   "cell_type": "markdown",
   "metadata": {},
   "source": [
    "## Application\n",
    "\n",
    "### - Maze"
   ]
  },
  {
   "cell_type": "code",
   "execution_count": 120,
   "metadata": {
    "collapsed": false
   },
   "outputs": [
    {
     "name": "stdout",
     "output_type": "stream",
     "text": [
      "1\n",
      "2\n",
      "3\n",
      "4\n"
     ]
    }
   ],
   "source": [
    "from itertools import chain\n",
    "li = chain([1,2,3,4])\n",
    "\n",
    "for i in range(5):\n",
    "    try:\n",
    "        print(next(li))\n",
    "    except StopIteration:\n",
    "        break"
   ]
  },
  {
   "cell_type": "code",
   "execution_count": 122,
   "metadata": {
    "collapsed": false
   },
   "outputs": [
    {
     "name": "stdout",
     "output_type": "stream",
     "text": [
      "Object `except` not found.\n"
     ]
    }
   ],
   "source": []
  },
  {
   "cell_type": "code",
   "execution_count": null,
   "metadata": {
    "collapsed": true
   },
   "outputs": [],
   "source": []
  }
 ],
 "metadata": {
  "anaconda-cloud": {},
  "kernelspec": {
   "display_name": "Python [default]",
   "language": "python",
   "name": "python3"
  },
  "language_info": {
   "codemirror_mode": {
    "name": "ipython",
    "version": 3
   },
   "file_extension": ".py",
   "mimetype": "text/x-python",
   "name": "python",
   "nbconvert_exporter": "python",
   "pygments_lexer": "ipython3",
   "version": "3.5.2"
  }
 },
 "nbformat": 4,
 "nbformat_minor": 1
}
