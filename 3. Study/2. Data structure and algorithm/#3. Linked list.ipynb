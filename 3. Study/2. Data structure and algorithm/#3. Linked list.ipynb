{
 "cells": [
  {
   "cell_type": "markdown",
   "metadata": {},
   "source": [
    "# Linked list 구현\n",
    "------------------------\n",
    "\n",
    "개발 순서\n",
    "1. node class 구현\n",
    "2. linked list class 구현\n",
    "3. add node function\n",
    "4. get size function = 그냥 class에 변수 하나 넣으면 됨\n",
    "5. search function\n",
    "6. delete function\n",
    "\n",
    "\n",
    "append, insert, index, and pop\n",
    "\n",
    "\n",
    "## 설명\n",
    "`linked list`은 데이타 입/출력이 한쪽으로만 접근 할 수 있는 자료 구조"
   ]
  },
  {
   "cell_type": "code",
   "execution_count": 176,
   "metadata": {
    "collapsed": false
   },
   "outputs": [],
   "source": [
    "class Linked_list:\n",
    "    num_lists = 0;\n",
    "    \n",
    "    def __init__(self):\n",
    "        self.first = None\n",
    "        self.num_nodes = 0\n",
    "        Linked_list.num_lists += 1\n",
    "    \n",
    "    def view_nodes(self):\n",
    "        node = self.first\n",
    "        dummy = []\n",
    "        while node:\n",
    "            dummy.append(node.data)\n",
    "            node = node.next_node\n",
    "        print(dummy)\n",
    "                    \n",
    "    def add_node(self, data):\n",
    "        temp = Node(data)\n",
    "        temp.next_node = self.first\n",
    "        self.first = temp\n",
    "        self.num_nodes += 1\n",
    "    \n",
    "    def delete_node(self, data):\n",
    "        current = self.first\n",
    "        previous = None\n",
    "        exist = False\n",
    "        \n",
    "        while not exist:\n",
    "            if current.data == data:\n",
    "                exist = True\n",
    "            else:\n",
    "                previous = current\n",
    "                current = current.next_node\n",
    "\n",
    "        if previous == None:\n",
    "            self.first = current.next_node\n",
    "        else:\n",
    "            previous.next_node = current.next_node\n",
    "            \n",
    "        self.num_nodes -= 1\n",
    "        del current\n",
    "        \n",
    "#     def get_size(self):\n",
    "#         current = self.first\n",
    "#         count = 0\n",
    "#         while current:\n",
    "#             count += 1\n",
    "#             current = current.next_node\n",
    "#         return count\n",
    "    \n",
    "    def search(self, data):\n",
    "        current = self.first\n",
    "        found = False\n",
    "        \n",
    "        while current and not found:\n",
    "            if current.data == data:\n",
    "                found = True\n",
    "            else:\n",
    "                current = current.next_node\n",
    "        \n",
    "        return found\n",
    "\n",
    "        \n",
    "class Node:\n",
    "    \n",
    "    def __init__(self, data, next_node=None):\n",
    "        self.data = data\n",
    "        self.next_node = next_node"
   ]
  },
  {
   "cell_type": "code",
   "execution_count": 177,
   "metadata": {
    "collapsed": false
   },
   "outputs": [],
   "source": [
    "list_1 = Linked_list()\n",
    "\n",
    "list_1.add_node(1)\n",
    "list_1.add_node(2)\n",
    "list_1.add_node(3)\n",
    "list_1.add_node(4)\n",
    "list_1.add_node(5)"
   ]
  },
  {
   "cell_type": "code",
   "execution_count": 178,
   "metadata": {
    "collapsed": false
   },
   "outputs": [
    {
     "name": "stdout",
     "output_type": "stream",
     "text": [
      "[5, 4, 3, 2, 1]\n",
      "5\n"
     ]
    }
   ],
   "source": [
    "list_1.view_nodes()\n",
    "print(list_1.num_nodes)"
   ]
  },
  {
   "cell_type": "code",
   "execution_count": 181,
   "metadata": {
    "collapsed": false
   },
   "outputs": [
    {
     "data": {
      "text/plain": [
       "True"
      ]
     },
     "execution_count": 181,
     "metadata": {},
     "output_type": "execute_result"
    }
   ],
   "source": [
    "list_1.search(2)"
   ]
  },
  {
   "cell_type": "code",
   "execution_count": 182,
   "metadata": {
    "collapsed": true
   },
   "outputs": [],
   "source": [
    "list_1.delete_node(2)\n",
    "list_1.delete_node(4)"
   ]
  },
  {
   "cell_type": "code",
   "execution_count": 183,
   "metadata": {
    "collapsed": false,
    "scrolled": true
   },
   "outputs": [
    {
     "name": "stdout",
     "output_type": "stream",
     "text": [
      "[5, 3, 1]\n",
      "3\n"
     ]
    }
   ],
   "source": [
    "list_1.view_nodes()\n",
    "print(list_1.num_nodes)"
   ]
  }
 ],
 "metadata": {
  "kernelspec": {
   "display_name": "Python 3",
   "language": "python",
   "name": "python3"
  },
  "language_info": {
   "codemirror_mode": {
    "name": "ipython",
    "version": 3
   },
   "file_extension": ".py",
   "mimetype": "text/x-python",
   "name": "python",
   "nbconvert_exporter": "python",
   "pygments_lexer": "ipython3",
   "version": "3.5.1"
  }
 },
 "nbformat": 4,
 "nbformat_minor": 0
}
