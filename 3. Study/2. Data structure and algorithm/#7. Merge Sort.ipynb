{
 "cells": [
  {
   "cell_type": "markdown",
   "metadata": {},
   "source": [
    "# Merge Sort\n",
    "-------------------\n",
    "\n",
    "- `performance`: O(nlogn)\n",
    "- `spacecomplexity`:O(n)"
   ]
  },
  {
   "cell_type": "code",
   "execution_count": 8,
   "metadata": {
    "collapsed": false
   },
   "outputs": [],
   "source": [
    "def merge_sort(list):\n",
    "    if len(list) > 1:\n",
    "        mid = len(list)//2\n",
    "        \n",
    "        left = list[:mid]\n",
    "        right = list[mid:]\n",
    "        \n",
    "        print(left, right)\n",
    "        \n",
    "        merge_sort(left)\n",
    "        merge_sort(right)\n",
    "        \n",
    "        i = 0\n",
    "        j = 0\n",
    "        k = 0\n",
    "        \n",
    "        while i < len(left) and j < len(right):\n",
    "            if left[i] > right[j]:\n",
    "                list[k] = right[j]\n",
    "                j += 1\n",
    "            else:\n",
    "                list[k] = left[i]\n",
    "                i += 1\n",
    "            k += 1\n",
    "\n",
    "        while i < len(left):\n",
    "            list[k] = left[i]\n",
    "            i += 1\n",
    "            k += 1\n",
    "\n",
    "        \n",
    "        while j< len(right):\n",
    "            list[k] = right[j]\n",
    "            j += 1\n",
    "            k += 1\n",
    "        \n",
    "        print(list)"
   ]
  },
  {
   "cell_type": "code",
   "execution_count": 9,
   "metadata": {
    "collapsed": false
   },
   "outputs": [
    {
     "name": "stdout",
     "output_type": "stream",
     "text": [
      "[4, 1, 5, 6] [2, 8, 9, 7, 3]\n",
      "[4, 1] [5, 6]\n",
      "[4] [1]\n",
      "[1, 4]\n",
      "[5] [6]\n",
      "[5, 6]\n",
      "[1, 4, 5, 6]\n",
      "[2, 8] [9, 7, 3]\n",
      "[2] [8]\n",
      "[2, 8]\n",
      "[9] [7, 3]\n",
      "[7] [3]\n",
      "[3, 7]\n",
      "[3, 7, 9]\n",
      "[2, 3, 7, 8, 9]\n",
      "[1, 2, 3, 4, 5, 6, 7, 8, 9]\n"
     ]
    }
   ],
   "source": [
    "list = [4,1,5,6,2,8,9,7,3]\n",
    "\n",
    "merge_sort(list)"
   ]
  },
  {
   "cell_type": "code",
   "execution_count": null,
   "metadata": {
    "collapsed": true
   },
   "outputs": [],
   "source": []
  }
 ],
 "metadata": {
  "kernelspec": {
   "display_name": "Python 3",
   "language": "python",
   "name": "python3"
  },
  "language_info": {
   "codemirror_mode": {
    "name": "ipython",
    "version": 3
   },
   "file_extension": ".py",
   "mimetype": "text/x-python",
   "name": "python",
   "nbconvert_exporter": "python",
   "pygments_lexer": "ipython3",
   "version": "3.5.1"
  }
 },
 "nbformat": 4,
 "nbformat_minor": 0
}
