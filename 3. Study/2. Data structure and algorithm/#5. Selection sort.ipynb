{
 "cells": [
  {
   "cell_type": "markdown",
   "metadata": {},
   "source": [
    "# Selection sort\n",
    "---------------------------"
   ]
  },
  {
   "cell_type": "code",
   "execution_count": 35,
   "metadata": {
    "collapsed": false
   },
   "outputs": [],
   "source": [
    "def sel_sort(lists):\n",
    "   \n",
    "    for i in range(len(lists)-1):\n",
    "        min_num = lists[i]\n",
    "        minind = i\n",
    "        \n",
    "        for step in range(i+1, len(lists)):\n",
    "            if min_num > lists[step]:\n",
    "                min_num = lists[step]\n",
    "                minind = step\n",
    "        \n",
    "        lists[minind] = lists[i]\n",
    "        lists[i] = min_num\n",
    "        \n",
    "            \n",
    "    print(lists)\n",
    "    \n",
    "lists = [4,3,5,6,9,8,1,2,7]"
   ]
  },
  {
   "cell_type": "code",
   "execution_count": 36,
   "metadata": {
    "collapsed": false
   },
   "outputs": [
    {
     "name": "stdout",
     "output_type": "stream",
     "text": [
      "[1, 2, 3, 4, 5, 6, 7, 8, 9]\n"
     ]
    }
   ],
   "source": [
    "sel_sort(lists)"
   ]
  },
  {
   "cell_type": "code",
   "execution_count": null,
   "metadata": {
    "collapsed": true
   },
   "outputs": [],
   "source": []
  }
 ],
 "metadata": {
  "kernelspec": {
   "display_name": "Python 3",
   "language": "python",
   "name": "python3"
  },
  "language_info": {
   "codemirror_mode": {
    "name": "ipython",
    "version": 3
   },
   "file_extension": ".py",
   "mimetype": "text/x-python",
   "name": "python",
   "nbconvert_exporter": "python",
   "pygments_lexer": "ipython3",
   "version": "3.5.1"
  }
 },
 "nbformat": 4,
 "nbformat_minor": 0
}
