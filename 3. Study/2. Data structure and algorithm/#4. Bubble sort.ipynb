{
 "cells": [
  {
   "cell_type": "markdown",
   "metadata": {},
   "source": [
    "# Bubble sort\n",
    "-----------------------\n",
    "\n",
    "### 인접한 두개의 비교, 하여 swapping하는 것\n",
    "\n",
    "inner loop : n-1번 비교 (인접한 두개를 비교하므로)\n",
    "\n",
    "outer loop : n-1번 looping이 됨.\n",
    "\n",
    "\n",
    "- `performance` : O(n^2) - 기본 for 문 2개\n",
    "- `Space complexity` : O(1) for swapping - 여기서는 temp 변수\n"
   ]
  },
  {
   "cell_type": "code",
   "execution_count": 2,
   "metadata": {
    "collapsed": false
   },
   "outputs": [],
   "source": [
    "def bubble_sort(list):\n",
    "    for i in range(len(list)-1):\n",
    "        for j in range(len(list)-1):\n",
    "            if list[j] > list[j+1]:\n",
    "                temp = list[j+1]\n",
    "                list[j+1] = list[j]\n",
    "                list[j] = temp\n",
    "            else:\n",
    "                pass\n",
    "            \n",
    "        \n",
    "    print(list)\n",
    "    \n",
    "list = [9,6,2,5,7,8,4]"
   ]
  },
  {
   "cell_type": "code",
   "execution_count": 3,
   "metadata": {
    "collapsed": false
   },
   "outputs": [
    {
     "name": "stdout",
     "output_type": "stream",
     "text": [
      "[2, 4, 5, 6, 7, 8, 9]\n"
     ]
    }
   ],
   "source": [
    "bubble_sort(list)"
   ]
  },
  {
   "cell_type": "markdown",
   "metadata": {},
   "source": [
    "## Recursion 으로!!"
   ]
  },
  {
   "cell_type": "code",
   "execution_count": 68,
   "metadata": {
    "collapsed": true
   },
   "outputs": [],
   "source": [
    "def recur_bubble(n, lists):\n",
    "    if (n == 0):\n",
    "        pass\n",
    "    else:\n",
    "        for j in range(n):\n",
    "            if lists[j] > lists[j+1]:\n",
    "                temp = lists[j+1]\n",
    "                lists[j+1] = lists[j]\n",
    "                lists[j] = temp\n",
    "                \n",
    "        recur_bubble(n-1, lists)\n",
    "        \n",
    "    return lists"
   ]
  },
  {
   "cell_type": "code",
   "execution_count": 69,
   "metadata": {
    "collapsed": false
   },
   "outputs": [
    {
     "name": "stdout",
     "output_type": "stream",
     "text": [
      "[2, 4, 5, 6, 7, 8, 9]\n"
     ]
    }
   ],
   "source": [
    "lists = [9,6,2,5,7,8,4]\n",
    "\n",
    "print(recur_bubble(len(lists)-1,lists)\n",
    "                   \n"
   ]
  },
  {
   "cell_type": "code",
   "execution_count": 74,
   "metadata": {
    "collapsed": false
   },
   "outputs": [
    {
     "data": {
      "text/plain": [
       "[8, 5, 9, 10, 3, 8, 2, 9, 7, 5]"
      ]
     },
     "execution_count": 74,
     "metadata": {},
     "output_type": "execute_result"
    }
   ],
   "source": [
    "import random\n",
    "dummy = []\n",
    "for i in range(10):\n",
    "    dummy.append(random.randint(1,10))\n",
    "\n",
    "dummy"
   ]
  },
  {
   "cell_type": "code",
   "execution_count": 75,
   "metadata": {
    "collapsed": false,
    "scrolled": true
   },
   "outputs": [
    {
     "name": "stdout",
     "output_type": "stream",
     "text": [
      "[2, 3, 5, 5, 7, 8, 8, 9, 9, 10]\n"
     ]
    }
   ],
   "source": [
    "print(recur_bubble(len(dummy)-1,dummy))"
   ]
  },
  {
   "cell_type": "markdown",
   "metadata": {},
   "source": [
    "## Bubble sort 의 장점\n",
    "\n",
    "if during a pass there are no exchanges, then we know that the list must be sorted. A bubble sort can be modified to stop early if it finds that the list has become sorted. "
   ]
  },
  {
   "cell_type": "code",
   "execution_count": null,
   "metadata": {
    "collapsed": true
   },
   "outputs": [],
   "source": []
  }
 ],
 "metadata": {
  "kernelspec": {
   "display_name": "Python 3",
   "language": "python",
   "name": "python3"
  },
  "language_info": {
   "codemirror_mode": {
    "name": "ipython",
    "version": 3
   },
   "file_extension": ".py",
   "mimetype": "text/x-python",
   "name": "python",
   "nbconvert_exporter": "python",
   "pygments_lexer": "ipython3",
   "version": "3.5.1"
  }
 },
 "nbformat": 4,
 "nbformat_minor": 0
}
