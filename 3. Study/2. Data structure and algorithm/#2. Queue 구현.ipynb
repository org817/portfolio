{
 "cells": [
  {
   "cell_type": "markdown",
   "metadata": {
    "collapsed": true
   },
   "source": [
    "# Queue 구현\n",
    "------------------------\n",
    "\n",
    "개발 순서\n",
    "1. Queue class 구현\n",
    "2. put, get 구현\n",
    "3. overflow, underflow 구현\n",
    "\n",
    "\n",
    "## 설명\n",
    "`queue`은 데이타 입/출력이 한쪽으로만 접근 할 수 있는 자료 구조\n",
    "\n",
    "큐에서는 가장 처음 들어간 데이타가 제일 처음 나옴 - FIFO(First In First Out)"
   ]
  },
  {
   "cell_type": "code",
   "execution_count": 42,
   "metadata": {
    "collapsed": true
   },
   "outputs": [],
   "source": [
    "class Queue_python():\n",
    "    \n",
    "    def __init__(self, num_mem):\n",
    "        self.check_flow = 0;\n",
    "        self.max_queue = num_mem\n",
    "        self.queue = []\n",
    "        \n",
    "    def put(self, data):\n",
    "        if (self.check_flow < self.max_queue):\n",
    "            self.check_flow += 1;\n",
    "            self.queue.append(data)\n",
    "            return self.queue\n",
    "        else:\n",
    "            print('Queue Overflow : Full Queued')\n",
    "            return self.queue\n",
    "\n",
    "    def get(self):\n",
    "        if (self.check_flow > 0):\n",
    "            self.check_flow -= 1;\n",
    "            return self.queue.pop(0)\n",
    "        else:\n",
    "            print('Queue Underflow : No more data in the queue')\n",
    "    "
   ]
  },
  {
   "cell_type": "code",
   "execution_count": 43,
   "metadata": {
    "collapsed": false
   },
   "outputs": [
    {
     "name": "stdout",
     "output_type": "stream",
     "text": [
      "0 3 []\n"
     ]
    }
   ],
   "source": [
    "a = Queue_python(3)\n",
    "print(a.check_flow, a.max_queue, a.queue)"
   ]
  },
  {
   "cell_type": "code",
   "execution_count": 44,
   "metadata": {
    "collapsed": false
   },
   "outputs": [
    {
     "name": "stdout",
     "output_type": "stream",
     "text": [
      "[1]\n",
      "[1, 2]\n",
      "[1, 2, 3]\n",
      "3 3 [1, 2, 3]\n"
     ]
    }
   ],
   "source": [
    "print(a.put(1))\n",
    "print(a.put(2))\n",
    "print(a.put(3))\n",
    "print(a.check_flow, a.max_queue, a.queue)"
   ]
  },
  {
   "cell_type": "code",
   "execution_count": 45,
   "metadata": {
    "collapsed": false
   },
   "outputs": [
    {
     "name": "stdout",
     "output_type": "stream",
     "text": [
      "Queue Overflow : Full Queued\n",
      "[1, 2, 3]\n",
      "3 3 [1, 2, 3]\n"
     ]
    }
   ],
   "source": [
    "print(a.put(4))\n",
    "print(a.check_flow, a.max_queue, a.queue)"
   ]
  },
  {
   "cell_type": "code",
   "execution_count": 46,
   "metadata": {
    "collapsed": false
   },
   "outputs": [
    {
     "name": "stdout",
     "output_type": "stream",
     "text": [
      "1\n",
      "2\n",
      "3\n",
      "0 3 []\n"
     ]
    }
   ],
   "source": [
    "print(a.get())\n",
    "print(a.get())\n",
    "print(a.get())\n",
    "print(a.check_flow, a.max_queue, a.queue)"
   ]
  },
  {
   "cell_type": "code",
   "execution_count": 47,
   "metadata": {
    "collapsed": false
   },
   "outputs": [
    {
     "name": "stdout",
     "output_type": "stream",
     "text": [
      "Queue Underflow : No more data in the queue\n",
      "0 3 []\n"
     ]
    }
   ],
   "source": [
    "a.get()\n",
    "print(a.check_flow, a.max_queue, a.queue)"
   ]
  },
  {
   "cell_type": "markdown",
   "metadata": {
    "collapsed": true
   },
   "source": [
    "# ndarray 를 이용한 Queue 구현"
   ]
  },
  {
   "cell_type": "code",
   "execution_count": 21,
   "metadata": {
    "collapsed": false
   },
   "outputs": [],
   "source": [
    "import numpy as np\n",
    "\n",
    "class Queue_array():\n",
    "    def __init__(self, num_mem):\n",
    "        self.check_flow = 0;\n",
    "        self.max_queue = num_mem;\n",
    "        self.queue = np.empty(num_mem)\n",
    "        self.queue[:] = np.nan\n",
    "        \n",
    "    def put(self,data):\n",
    "        if (self.check_flow < self.max_queue):\n",
    "            self.queue[self.check_flow] = data\n",
    "            self.check_flow += 1;\n",
    "            return self.queue\n",
    "        else:\n",
    "            print('Queue Overflow : Full queued')\n",
    "            return False # 사실 무쓸모\n",
    "    \n",
    "    def get(self):\n",
    "        if (self.check_flow > 0):\n",
    "            self.check_flow -= 1\n",
    "            current = self.queue[self.check_flow]\n",
    "            self.queue[self.check_flow] = None\n",
    "            return current\n",
    "        else:\n",
    "            print('Queue Underflow : No more data in the queue')    \n",
    "            return False # 사실 무쓸모\n"
   ]
  },
  {
   "cell_type": "code",
   "execution_count": 22,
   "metadata": {
    "collapsed": false
   },
   "outputs": [
    {
     "name": "stdout",
     "output_type": "stream",
     "text": [
      "0 3 [ nan  nan  nan]\n"
     ]
    }
   ],
   "source": [
    "a = Queue_array(3)\n",
    "print(a.check_flow, a.max_queue, a.queue)"
   ]
  },
  {
   "cell_type": "code",
   "execution_count": 23,
   "metadata": {
    "collapsed": false
   },
   "outputs": [
    {
     "name": "stdout",
     "output_type": "stream",
     "text": [
      "[  1.  nan  nan]\n",
      "[  1.   2.  nan]\n",
      "[ 1.  2.  3.]\n",
      "3 3 [ 1.  2.  3.]\n"
     ]
    }
   ],
   "source": [
    "print(a.put(1))\n",
    "print(a.put(2))\n",
    "print(a.put(3))\n",
    "print(a.check_flow, a.max_queue, a.queue)"
   ]
  },
  {
   "cell_type": "code",
   "execution_count": 24,
   "metadata": {
    "collapsed": false
   },
   "outputs": [
    {
     "name": "stdout",
     "output_type": "stream",
     "text": [
      "Queue Overflow : Full queued\n",
      "False\n",
      "3 3 [ 1.  2.  3.]\n"
     ]
    }
   ],
   "source": [
    "print(a.put(4))\n",
    "print(a.check_flow, a.max_queue, a.queue)"
   ]
  },
  {
   "cell_type": "code",
   "execution_count": 25,
   "metadata": {
    "collapsed": false
   },
   "outputs": [
    {
     "name": "stdout",
     "output_type": "stream",
     "text": [
      "3.0\n",
      "2.0\n",
      "1.0\n",
      "0 3 [ nan  nan  nan]\n"
     ]
    }
   ],
   "source": [
    "print(a.get())\n",
    "print(a.get())\n",
    "print(a.get())\n",
    "print(a.check_flow, a.max_queue, a.queue)"
   ]
  },
  {
   "cell_type": "code",
   "execution_count": 27,
   "metadata": {
    "collapsed": false
   },
   "outputs": [
    {
     "name": "stdout",
     "output_type": "stream",
     "text": [
      "Queue Underflow : No more data in the queue\n",
      "False\n",
      "0 3 [ nan  nan  nan]\n"
     ]
    }
   ],
   "source": [
    "print(a.get())\n",
    "print(a.check_flow, a.max_queue, a.queue)"
   ]
  }
 ],
 "metadata": {
  "anaconda-cloud": {},
  "kernelspec": {
   "display_name": "Python 3",
   "language": "python",
   "name": "python3"
  },
  "language_info": {
   "codemirror_mode": {
    "name": "ipython",
    "version": 3
   },
   "file_extension": ".py",
   "mimetype": "text/x-python",
   "name": "python",
   "nbconvert_exporter": "python",
   "pygments_lexer": "ipython3",
   "version": "3.5.1"
  }
 },
 "nbformat": 4,
 "nbformat_minor": 1
}
