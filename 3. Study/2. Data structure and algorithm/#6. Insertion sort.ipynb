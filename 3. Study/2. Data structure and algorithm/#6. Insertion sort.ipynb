{
 "cells": [
  {
   "cell_type": "markdown",
   "metadata": {},
   "source": [
    "# Insertion sort\n",
    "------------------\n",
    "\n",
    "효율성이 떨어짐\n",
    "\n",
    "처음 아이템을 정렬된 리스트에 넣고, 두번째 아이템이 정렬된 아이템보다 크면 뒤에 넣고, 다음아이템이 계속 비교해서 앞쪽으로 계속\n",
    "\n",
    "- `performance` : O(n^2)\n",
    "- `Space complexity` : O(n) total, O(1) auxilary\n"
   ]
  },
  {
   "cell_type": "code",
   "execution_count": 20,
   "metadata": {
    "collapsed": false
   },
   "outputs": [],
   "source": [
    "def insertion_sort(list):  \n",
    "    for i in range(1,len(list)):\n",
    "        for j in range(i,0,-1):\n",
    "            if list[j-1] > list[j]:\n",
    "                temp = list[j-1]\n",
    "                list[j-1] = list[j]\n",
    "                list[j] = temp\n",
    "                print(list)\n",
    "            else:\n",
    "                break\n",
    "                \n",
    "        print('--------')\n",
    "\n",
    "    return list\n"
   ]
  },
  {
   "cell_type": "code",
   "execution_count": 21,
   "metadata": {
    "collapsed": false,
    "scrolled": true
   },
   "outputs": [
    {
     "name": "stdout",
     "output_type": "stream",
     "text": [
      "[26, 54, 93, 17, 77, 31, 44, 55, 20]\n",
      "--------\n",
      "--------\n",
      "[26, 54, 17, 93, 77, 31, 44, 55, 20]\n",
      "[26, 17, 54, 93, 77, 31, 44, 55, 20]\n",
      "[17, 26, 54, 93, 77, 31, 44, 55, 20]\n",
      "--------\n",
      "[17, 26, 54, 77, 93, 31, 44, 55, 20]\n",
      "--------\n",
      "[17, 26, 54, 77, 31, 93, 44, 55, 20]\n",
      "[17, 26, 54, 31, 77, 93, 44, 55, 20]\n",
      "[17, 26, 31, 54, 77, 93, 44, 55, 20]\n",
      "--------\n",
      "[17, 26, 31, 54, 77, 44, 93, 55, 20]\n",
      "[17, 26, 31, 54, 44, 77, 93, 55, 20]\n",
      "[17, 26, 31, 44, 54, 77, 93, 55, 20]\n",
      "--------\n",
      "[17, 26, 31, 44, 54, 77, 55, 93, 20]\n",
      "[17, 26, 31, 44, 54, 55, 77, 93, 20]\n",
      "--------\n",
      "[17, 26, 31, 44, 54, 55, 77, 20, 93]\n",
      "[17, 26, 31, 44, 54, 55, 20, 77, 93]\n",
      "[17, 26, 31, 44, 54, 20, 55, 77, 93]\n",
      "[17, 26, 31, 44, 20, 54, 55, 77, 93]\n",
      "[17, 26, 31, 20, 44, 54, 55, 77, 93]\n",
      "[17, 26, 20, 31, 44, 54, 55, 77, 93]\n",
      "[17, 20, 26, 31, 44, 54, 55, 77, 93]\n",
      "--------\n"
     ]
    },
    {
     "data": {
      "text/plain": [
       "[17, 20, 26, 31, 44, 54, 55, 77, 93]"
      ]
     },
     "execution_count": 21,
     "metadata": {},
     "output_type": "execute_result"
    }
   ],
   "source": [
    "alist = [54,26,93,17,77,31,44,55,20]\n",
    "\n",
    "insertion_sort(alist)"
   ]
  },
  {
   "cell_type": "markdown",
   "metadata": {},
   "source": [
    "## 교과서에서는..."
   ]
  },
  {
   "cell_type": "code",
   "execution_count": 22,
   "metadata": {
    "collapsed": false,
    "scrolled": true
   },
   "outputs": [
    {
     "name": "stdout",
     "output_type": "stream",
     "text": [
      "[54, 26, 93, 17, 77, 31, 44, 55, 20]\n",
      "[54, 54, 93, 17, 77, 31, 44, 55, 20]\n",
      "[26, 54, 93, 17, 77, 31, 44, 55, 20]\n",
      "---------------\n",
      "[26, 54, 93, 17, 77, 31, 44, 55, 20]\n",
      "---------------\n",
      "[26, 54, 93, 93, 77, 31, 44, 55, 20]\n",
      "[26, 54, 54, 93, 77, 31, 44, 55, 20]\n",
      "[26, 26, 54, 93, 77, 31, 44, 55, 20]\n",
      "[17, 26, 54, 93, 77, 31, 44, 55, 20]\n",
      "---------------\n",
      "[17, 26, 54, 93, 93, 31, 44, 55, 20]\n",
      "[17, 26, 54, 77, 93, 31, 44, 55, 20]\n",
      "---------------\n",
      "[17, 26, 54, 77, 93, 93, 44, 55, 20]\n",
      "[17, 26, 54, 77, 77, 93, 44, 55, 20]\n",
      "[17, 26, 54, 54, 77, 93, 44, 55, 20]\n",
      "[17, 26, 31, 54, 77, 93, 44, 55, 20]\n",
      "---------------\n",
      "[17, 26, 31, 54, 77, 93, 93, 55, 20]\n",
      "[17, 26, 31, 54, 77, 77, 93, 55, 20]\n",
      "[17, 26, 31, 54, 54, 77, 93, 55, 20]\n",
      "[17, 26, 31, 44, 54, 77, 93, 55, 20]\n",
      "---------------\n",
      "[17, 26, 31, 44, 54, 77, 93, 93, 20]\n",
      "[17, 26, 31, 44, 54, 77, 77, 93, 20]\n",
      "[17, 26, 31, 44, 54, 55, 77, 93, 20]\n",
      "---------------\n",
      "[17, 26, 31, 44, 54, 55, 77, 93, 93]\n",
      "[17, 26, 31, 44, 54, 55, 77, 77, 93]\n",
      "[17, 26, 31, 44, 54, 55, 55, 77, 93]\n",
      "[17, 26, 31, 44, 54, 54, 55, 77, 93]\n",
      "[17, 26, 31, 44, 44, 54, 55, 77, 93]\n",
      "[17, 26, 31, 31, 44, 54, 55, 77, 93]\n",
      "[17, 26, 26, 31, 44, 54, 55, 77, 93]\n",
      "[17, 20, 26, 31, 44, 54, 55, 77, 93]\n",
      "---------------\n",
      "[17, 20, 26, 31, 44, 54, 55, 77, 93]\n"
     ]
    }
   ],
   "source": [
    "def insertionSort(alist):\n",
    "    for index in range(1,len(alist)):\n",
    "        currentvalue = alist[index]\n",
    "        position = index\n",
    "    \n",
    "        while position>0 and alist[position-1]>currentvalue:\n",
    "            alist[position]=alist[position-1]\n",
    "            position = position-1\n",
    "            print(alist)\n",
    "\n",
    "        alist[position]=currentvalue\n",
    "        print(alist)\n",
    "        print('---------------')\n",
    "    \n",
    "\n",
    "alist = [54,26,93,17,77,31,44,55,20]\n",
    "print(alist)\n",
    "insertionSort(alist)\n",
    "\n",
    "print(alist)"
   ]
  }
 ],
 "metadata": {
  "kernelspec": {
   "display_name": "Python 3",
   "language": "python",
   "name": "python3"
  },
  "language_info": {
   "codemirror_mode": {
    "name": "ipython",
    "version": 3
   },
   "file_extension": ".py",
   "mimetype": "text/x-python",
   "name": "python",
   "nbconvert_exporter": "python",
   "pygments_lexer": "ipython3",
   "version": "3.5.1"
  }
 },
 "nbformat": 4,
 "nbformat_minor": 0
}
