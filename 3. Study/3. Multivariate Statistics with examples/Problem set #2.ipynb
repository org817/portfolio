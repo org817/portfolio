{
 "cells": [
  {
   "cell_type": "code",
   "execution_count": 1,
   "metadata": {
    "collapsed": false
   },
   "outputs": [],
   "source": [
    "%matplotlib inline\n",
    "import pandas as pd\n",
    "import numpy as np\n",
    "import matplotlib.pyplot as plt\n",
    "import matplotlib.pylab as pylab\n",
    "import statsmodels.api as sm\n",
    "import statsmodels.stats.contingency_tables as tables\n",
    "import statsmodels.stats.api as sms\n",
    "import statsmodels.stats as stats"
   ]
  },
  {
   "cell_type": "code",
   "execution_count": 2,
   "metadata": {
    "collapsed": false
   },
   "outputs": [
    {
     "data": {
      "text/plain": [
       "Age              32561\n",
       "WorkClass        32561\n",
       "Fnlwgt           32561\n",
       "Education        32561\n",
       "EducationYr      32561\n",
       "Marital          32561\n",
       "Occupation       32561\n",
       "Relationship     32561\n",
       "Race             32561\n",
       "Sex              32561\n",
       "CapGain          32561\n",
       "CapLoss          32561\n",
       "HoursPWeek       32561\n",
       "NativeCountry    32561\n",
       "Salary           32561\n",
       "dtype: int64"
      ]
     },
     "execution_count": 2,
     "metadata": {},
     "output_type": "execute_result"
    }
   ],
   "source": [
    "wage_data = pd.read_excel('wage.xlsx', encoding='utf-8')\n",
    "wage_data.count()"
   ]
  },
  {
   "cell_type": "code",
   "execution_count": 3,
   "metadata": {
    "collapsed": false,
    "scrolled": true
   },
   "outputs": [],
   "source": [
    "# cleaned_data = wage_data[(wage_data['NativeCountry'].str.strip() != '?') \n",
    "#                          & (wage_data['Occupation'].str.strip() != '?')\n",
    "#                          & (wage_data['WorkClass'].str.strip() != '?')\n",
    "#                          & (wage_data['Age'] <= 80)]\n",
    "\n",
    "\n",
    "cleaned_data = wage_data[(wage_data['NativeCountry'].str.strip() != '?') \n",
    "                         & (wage_data['Occupation'].str.strip() != '?')\n",
    "                         & (wage_data['WorkClass'].str.strip() != '?')]\n"
   ]
  },
  {
   "cell_type": "code",
   "execution_count": null,
   "metadata": {
    "collapsed": false,
    "scrolled": false
   },
   "outputs": [],
   "source": [
    "cleaned_data.EducationYr.dtype"
   ]
  },
  {
   "cell_type": "code",
   "execution_count": null,
   "metadata": {
    "collapsed": true
   },
   "outputs": [],
   "source": [
    "pd.unique(cleaned_data['CapGain'].sort_values())"
   ]
  },
  {
   "cell_type": "code",
   "execution_count": null,
   "metadata": {
    "collapsed": false,
    "scrolled": true
   },
   "outputs": [],
   "source": [
    "pd.unique(cleaned_data['NativeCountry'].sort_values())"
   ]
  },
  {
   "cell_type": "code",
   "execution_count": null,
   "metadata": {
    "collapsed": false,
    "scrolled": true
   },
   "outputs": [],
   "source": [
    "pd.unique(cleaned_data['Marital'].sort_values())"
   ]
  },
  {
   "cell_type": "code",
   "execution_count": 4,
   "metadata": {
    "collapsed": false,
    "scrolled": false
   },
   "outputs": [
    {
     "name": "stderr",
     "output_type": "stream",
     "text": [
      "C:\\Users\\Rocku\\Anaconda64\\lib\\site-packages\\ipykernel\\__main__.py:4: SettingWithCopyWarning: \n",
      "A value is trying to be set on a copy of a slice from a DataFrame.\n",
      "Try using .loc[row_indexer,col_indexer] = value instead\n",
      "\n",
      "See the caveats in the documentation: http://pandas.pydata.org/pandas-docs/stable/indexing.html#indexing-view-versus-copy\n"
     ]
    }
   ],
   "source": [
    "# Variable: Sex_dummy\n",
    "# 1: Male\n",
    "# 0: Female\n",
    "cleaned_data['Sex_dummy'] = np.where(cleaned_data['Sex'].str.strip() == 'Male', 1, 0)\n",
    "\n",
    "female_data = cleaned_data[cleaned_data['Sex_dummy'] == 0]\n",
    "# female_data.count()"
   ]
  },
  {
   "cell_type": "code",
   "execution_count": null,
   "metadata": {
    "collapsed": false
   },
   "outputs": [],
   "source": [
    "marital = pd.crosstab(index=female_data[\"Marital\"], columns='count', margins=True)\n",
    "# marital"
   ]
  },
  {
   "cell_type": "code",
   "execution_count": null,
   "metadata": {
    "collapsed": false,
    "scrolled": false
   },
   "outputs": [],
   "source": [
    "race = pd.crosstab(index=female_data[\"Race\"], columns='count')\n",
    "# race"
   ]
  },
  {
   "cell_type": "code",
   "execution_count": null,
   "metadata": {
    "collapsed": true
   },
   "outputs": [],
   "source": [
    "contingency = pd.crosstab(female_data['Marital'], female_data['Race'],margins=True)\n",
    "# contingency\n",
    "table = tables.Table(contingency)\n",
    "table.table_orig"
   ]
  },
  {
   "cell_type": "code",
   "execution_count": null,
   "metadata": {
    "collapsed": false,
    "scrolled": false
   },
   "outputs": [],
   "source": [
    "# Never-married = 0\n",
    "# Have-married = 1\n",
    "female_data['Marital_dummy'] = np.where(female_data['Marital'].str.strip() == 'Never-married', 0, 1)\n",
    "\n",
    "# Married = 1\n",
    "# Un-married = 0\n",
    "# female_data['Marital_dummy'] = np.where(female_data['Marital'].str.strip().str.startswith('Married') == True, 1, 0)"
   ]
  },
  {
   "cell_type": "code",
   "execution_count": null,
   "metadata": {
    "collapsed": true
   },
   "outputs": [],
   "source": [
    "female_data.boxplot(column='Age',by='Marital', fontsize=4.7)"
   ]
  },
  {
   "cell_type": "code",
   "execution_count": null,
   "metadata": {
    "collapsed": false,
    "scrolled": true
   },
   "outputs": [],
   "source": [
    "# White = 1\n",
    "# Others = 0\n",
    "\n",
    "female_data['Race_dummy'] = np.where(female_data['Race'].str.strip() == 'White', 1, 0)\n",
    "# female_data.boxplot(column='Age',by='Race_dummy', fontsize=10)"
   ]
  },
  {
   "cell_type": "code",
   "execution_count": null,
   "metadata": {
    "collapsed": false,
    "scrolled": false
   },
   "outputs": [],
   "source": [
    "# Salary > 50K = 1\n",
    "# Salary <=50K = 0\n",
    "\n",
    "female_data['Salary_dummy'] = np.where(female_data['Salary'].str.strip() == '<=50K', 0, 1)\n",
    "# female_data.boxplot(column='Age',by='Salary', fontsize=10)"
   ]
  },
  {
   "cell_type": "code",
   "execution_count": null,
   "metadata": {
    "collapsed": false,
    "scrolled": false
   },
   "outputs": [],
   "source": [
    "X = female_data[['HoursPWeek','Marital_dummy','Race_dummy','EducationYr','Salary_dummy']]\n",
    "y = female_data['Age']\n",
    "X = X.astype(float)\n",
    "X = sm.add_constant(X)\n",
    "model = sm.OLS(y, X).fit()\n",
    "predictions = model.predict(X) # make the predictions by the model\n",
    "\n",
    "# Print out the statistics\n",
    "model.summary()"
   ]
  },
  {
   "cell_type": "code",
   "execution_count": null,
   "metadata": {
    "collapsed": false,
    "scrolled": true
   },
   "outputs": [],
   "source": [
    "model.predict(np.array([1,168,0,0,19,0]))\n",
    "# model.predict(np.array([30,0,1,13,0]))"
   ]
  },
  {
   "cell_type": "code",
   "execution_count": null,
   "metadata": {
    "collapsed": false
   },
   "outputs": [],
   "source": [
    "from statsmodels.formula.api import ols\n",
    "\n",
    "female_data['HoursPWeek'] = female_data['HoursPWeek'].astype(int)"
   ]
  },
  {
   "cell_type": "code",
   "execution_count": null,
   "metadata": {
    "collapsed": false,
    "scrolled": false
   },
   "outputs": [],
   "source": [
    "formula = 'Age ~ HoursPWeek + C(Marital) + C(Race) + EducationYr + C(Salary_dummy)'\n",
    "model = ols(formula, female_data).fit()\n",
    "# stats.anova.anova_single(model, typ=2)\n",
    "model.summary()\n"
   ]
  },
  {
   "cell_type": "code",
   "execution_count": null,
   "metadata": {
    "collapsed": false,
    "scrolled": true
   },
   "outputs": [],
   "source": [
    "cleaned_data['HoursPWeek'].hist(bins=20)"
   ]
  },
  {
   "cell_type": "code",
   "execution_count": null,
   "metadata": {
    "collapsed": false
   },
   "outputs": [],
   "source": [
    "grouped = cleaned_data.groupby(by='Age').mean()\n",
    "grouped['HoursPWeek'].plot(kind='line', legend='True')"
   ]
  },
  {
   "cell_type": "code",
   "execution_count": null,
   "metadata": {
    "collapsed": false
   },
   "outputs": [],
   "source": [
    "grouped = cleaned_data.groupby(by='Age').mean()\n",
    "grouped['CapGain'].plot(kind='line')"
   ]
  },
  {
   "cell_type": "code",
   "execution_count": null,
   "metadata": {
    "collapsed": false
   },
   "outputs": [],
   "source": [
    "plt.scatter(cleaned_data['Age'],cleaned_data['HoursPWeek'], marker='.', color='blue')\n",
    "plt.hold\n",
    "plt.plot(grouped['HoursPWeek'], linewidth=3, color='red',label='line1')\n",
    "plt.legend(['Mean of HoursPWeek'])\n",
    "plt.xlim((15,95))\n",
    "plt.ylim((0,105))\n",
    "plt.xlabel('Age', fontsize=15)\n",
    "plt.ylabel('Hours per week(h)', fontsize=15)"
   ]
  },
  {
   "cell_type": "code",
   "execution_count": null,
   "metadata": {
    "collapsed": false,
    "scrolled": true
   },
   "outputs": [],
   "source": [
    "plt.scatter(y, predictions)"
   ]
  },
  {
   "cell_type": "code",
   "execution_count": null,
   "metadata": {
    "collapsed": false
   },
   "outputs": [],
   "source": [
    "print(X.head())\n",
    "print(y.head())"
   ]
  },
  {
   "cell_type": "markdown",
   "metadata": {},
   "source": [
    "### (b)\tInterpret the coefficients.\n",
    "\n",
    "\n",
    "### (c)\tWhat is the predicted age of your instructor? He works 168 hours every week, is not married, has been educated for 19 years, is Asian, and gets paid less than 50K."
   ]
  },
  {
   "cell_type": "markdown",
   "metadata": {},
   "source": [
    "### (d)\tWhat is the difference between adding the “sex” variable in (a) as another predictor compared to only looking at a subset of the data (e.g., females in the data set)?"
   ]
  },
  {
   "cell_type": "code",
   "execution_count": 4,
   "metadata": {
    "collapsed": false
   },
   "outputs": [
    {
     "name": "stderr",
     "output_type": "stream",
     "text": [
      "C:\\Users\\Rocku\\Anaconda64\\lib\\site-packages\\ipykernel\\__main__.py:1: SettingWithCopyWarning: \n",
      "A value is trying to be set on a copy of a slice from a DataFrame.\n",
      "Try using .loc[row_indexer,col_indexer] = value instead\n",
      "\n",
      "See the caveats in the documentation: http://pandas.pydata.org/pandas-docs/stable/indexing.html#indexing-view-versus-copy\n",
      "  if __name__ == '__main__':\n",
      "C:\\Users\\Rocku\\Anaconda64\\lib\\site-packages\\ipykernel\\__main__.py:2: SettingWithCopyWarning: \n",
      "A value is trying to be set on a copy of a slice from a DataFrame.\n",
      "Try using .loc[row_indexer,col_indexer] = value instead\n",
      "\n",
      "See the caveats in the documentation: http://pandas.pydata.org/pandas-docs/stable/indexing.html#indexing-view-versus-copy\n",
      "  from ipykernel import kernelapp as app\n",
      "C:\\Users\\Rocku\\Anaconda64\\lib\\site-packages\\ipykernel\\__main__.py:3: SettingWithCopyWarning: \n",
      "A value is trying to be set on a copy of a slice from a DataFrame.\n",
      "Try using .loc[row_indexer,col_indexer] = value instead\n",
      "\n",
      "See the caveats in the documentation: http://pandas.pydata.org/pandas-docs/stable/indexing.html#indexing-view-versus-copy\n",
      "  app.launch_new_instance()\n",
      "C:\\Users\\Rocku\\Anaconda64\\lib\\site-packages\\ipykernel\\__main__.py:5: SettingWithCopyWarning: \n",
      "A value is trying to be set on a copy of a slice from a DataFrame.\n",
      "Try using .loc[row_indexer,col_indexer] = value instead\n",
      "\n",
      "See the caveats in the documentation: http://pandas.pydata.org/pandas-docs/stable/indexing.html#indexing-view-versus-copy\n"
     ]
    },
    {
     "data": {
      "text/html": [
       "<table class=\"simpletable\">\n",
       "<caption>OLS Regression Results</caption>\n",
       "<tr>\n",
       "  <th>Dep. Variable:</th>           <td>Age</td>       <th>  R-squared:         </th>  <td>   0.282</td>  \n",
       "</tr>\n",
       "<tr>\n",
       "  <th>Model:</th>                   <td>OLS</td>       <th>  Adj. R-squared:    </th>  <td>   0.282</td>  \n",
       "</tr>\n",
       "<tr>\n",
       "  <th>Method:</th>             <td>Least Squares</td>  <th>  F-statistic:       </th>  <td>   1972.</td>  \n",
       "</tr>\n",
       "<tr>\n",
       "  <th>Date:</th>             <td>Thu, 12 Oct 2017</td> <th>  Prob (F-statistic):</th>   <td>  0.00</td>   \n",
       "</tr>\n",
       "<tr>\n",
       "  <th>Time:</th>                 <td>02:02:00</td>     <th>  Log-Likelihood:    </th> <td>-1.1548e+05</td>\n",
       "</tr>\n",
       "<tr>\n",
       "  <th>No. Observations:</th>      <td> 30162</td>      <th>  AIC:               </th>  <td>2.310e+05</td> \n",
       "</tr>\n",
       "<tr>\n",
       "  <th>Df Residuals:</th>          <td> 30155</td>      <th>  BIC:               </th>  <td>2.310e+05</td> \n",
       "</tr>\n",
       "<tr>\n",
       "  <th>Df Model:</th>              <td>     6</td>      <th>                     </th>      <td> </td>     \n",
       "</tr>\n",
       "<tr>\n",
       "  <th>Covariance Type:</th>      <td>nonrobust</td>    <th>                     </th>      <td> </td>     \n",
       "</tr>\n",
       "</table>\n",
       "<table class=\"simpletable\">\n",
       "<tr>\n",
       "        <td></td>           <th>coef</th>     <th>std err</th>      <th>t</th>      <th>P>|t|</th>  <th>[0.025</th>    <th>0.975]</th>  \n",
       "</tr>\n",
       "<tr>\n",
       "  <th>const</th>         <td>   29.7550</td> <td>    0.371</td> <td>   80.111</td> <td> 0.000</td> <td>   29.027</td> <td>   30.483</td>\n",
       "</tr>\n",
       "<tr>\n",
       "  <th>HoursPWeek</th>    <td>   -0.0235</td> <td>    0.006</td> <td>   -4.132</td> <td> 0.000</td> <td>   -0.035</td> <td>   -0.012</td>\n",
       "</tr>\n",
       "<tr>\n",
       "  <th>Marital_dummy</th> <td>   14.1582</td> <td>    0.148</td> <td>   95.843</td> <td> 0.000</td> <td>   13.869</td> <td>   14.448</td>\n",
       "</tr>\n",
       "<tr>\n",
       "  <th>Sex_dummy</th>     <td>   -0.5563</td> <td>    0.144</td> <td>   -3.851</td> <td> 0.000</td> <td>   -0.839</td> <td>   -0.273</td>\n",
       "</tr>\n",
       "<tr>\n",
       "  <th>Race_dummy</th>    <td>   -0.4215</td> <td>    0.186</td> <td>   -2.263</td> <td> 0.024</td> <td>   -0.787</td> <td>   -0.056</td>\n",
       "</tr>\n",
       "<tr>\n",
       "  <th>EducationYr</th>   <td>    0.0106</td> <td>    0.027</td> <td>    0.394</td> <td> 0.693</td> <td>   -0.042</td> <td>    0.064</td>\n",
       "</tr>\n",
       "<tr>\n",
       "  <th>Salary_dummy</th>  <td>    2.7400</td> <td>    0.170</td> <td>   16.077</td> <td> 0.000</td> <td>    2.406</td> <td>    3.074</td>\n",
       "</tr>\n",
       "</table>\n",
       "<table class=\"simpletable\">\n",
       "<tr>\n",
       "  <th>Omnibus:</th>       <td>3083.496</td> <th>  Durbin-Watson:     </th> <td>   1.991</td>\n",
       "</tr>\n",
       "<tr>\n",
       "  <th>Prob(Omnibus):</th>  <td> 0.000</td>  <th>  Jarque-Bera (JB):  </th> <td>4397.680</td>\n",
       "</tr>\n",
       "<tr>\n",
       "  <th>Skew:</th>           <td> 0.802</td>  <th>  Prob(JB):          </th> <td>    0.00</td>\n",
       "</tr>\n",
       "<tr>\n",
       "  <th>Kurtosis:</th>       <td> 3.964</td>  <th>  Cond. No.          </th> <td>    264.</td>\n",
       "</tr>\n",
       "</table>"
      ],
      "text/plain": [
       "<class 'statsmodels.iolib.summary.Summary'>\n",
       "\"\"\"\n",
       "                            OLS Regression Results                            \n",
       "==============================================================================\n",
       "Dep. Variable:                    Age   R-squared:                       0.282\n",
       "Model:                            OLS   Adj. R-squared:                  0.282\n",
       "Method:                 Least Squares   F-statistic:                     1972.\n",
       "Date:                Thu, 12 Oct 2017   Prob (F-statistic):               0.00\n",
       "Time:                        02:02:00   Log-Likelihood:            -1.1548e+05\n",
       "No. Observations:               30162   AIC:                         2.310e+05\n",
       "Df Residuals:                   30155   BIC:                         2.310e+05\n",
       "Df Model:                           6                                         \n",
       "Covariance Type:            nonrobust                                         \n",
       "=================================================================================\n",
       "                    coef    std err          t      P>|t|      [0.025      0.975]\n",
       "---------------------------------------------------------------------------------\n",
       "const            29.7550      0.371     80.111      0.000      29.027      30.483\n",
       "HoursPWeek       -0.0235      0.006     -4.132      0.000      -0.035      -0.012\n",
       "Marital_dummy    14.1582      0.148     95.843      0.000      13.869      14.448\n",
       "Sex_dummy        -0.5563      0.144     -3.851      0.000      -0.839      -0.273\n",
       "Race_dummy       -0.4215      0.186     -2.263      0.024      -0.787      -0.056\n",
       "EducationYr       0.0106      0.027      0.394      0.693      -0.042       0.064\n",
       "Salary_dummy      2.7400      0.170     16.077      0.000       2.406       3.074\n",
       "==============================================================================\n",
       "Omnibus:                     3083.496   Durbin-Watson:                   1.991\n",
       "Prob(Omnibus):                  0.000   Jarque-Bera (JB):             4397.680\n",
       "Skew:                           0.802   Prob(JB):                         0.00\n",
       "Kurtosis:                       3.964   Cond. No.                         264.\n",
       "==============================================================================\n",
       "\n",
       "Warnings:\n",
       "[1] Standard Errors assume that the covariance matrix of the errors is correctly specified.\n",
       "\"\"\""
      ]
     },
     "execution_count": 4,
     "metadata": {},
     "output_type": "execute_result"
    }
   ],
   "source": [
    "cleaned_data['Race_dummy'] = np.where(cleaned_data['Race'].str.strip() == 'White', 1, 0)\n",
    "cleaned_data['Salary_dummy'] = np.where(cleaned_data['Salary'].str.strip() == '<=50K', 0, 1)\n",
    "cleaned_data['Marital_dummy'] = np.where(cleaned_data['Marital'].str.strip() == 'Never-married', 0, 1)\n",
    "# cleaned_data['Marital_dummy'] = np.where(cleaned_data['Marital'].str.strip().str.startswith('Married') == True, 1, 0)\n",
    "cleaned_data['Sex_dummy'] = np.where(cleaned_data['Sex'].str.strip() == 'Male', 1, 0)\n",
    "\n",
    "X = cleaned_data[['HoursPWeek','Marital_dummy','Sex_dummy','Race_dummy','EducationYr','Salary_dummy']]\n",
    "y = cleaned_data[('Age')]\n",
    "X = X.astype(float)\n",
    "X = sm.add_constant(X)\n",
    "model = sm.OLS(y, X).fit()\n",
    "predictions = model.predict(X) # make the predictions by the model\n",
    "\n",
    "# Print out the statistics\n",
    "model.summary()"
   ]
  },
  {
   "cell_type": "markdown",
   "metadata": {},
   "source": [
    "### (e)\tAre there any outliers in data? Use residual plot and tests to identify regression outliers and influential points."
   ]
  },
  {
   "cell_type": "code",
   "execution_count": 6,
   "metadata": {
    "collapsed": false,
    "scrolled": true
   },
   "outputs": [
    {
     "data": {
      "image/png": "[encoded data removed]",
      "text/plain": [
       "<matplotlib.figure.Figure at 0xf2ea1233c8>"
      ]
     },
     "metadata": {},
     "output_type": "display_data"
    }
   ],
   "source": [
    "res = model.resid # residuals\n",
    "fig = sm.qqplot(res,line='s')"
   ]
  },
  {
   "cell_type": "code",
   "execution_count": 5,
   "metadata": {
    "collapsed": false
   },
   "outputs": [
    {
     "name": "stderr",
     "output_type": "stream",
     "text": [
      "C:\\Users\\Rocku\\Anaconda64\\lib\\site-packages\\ipykernel\\__main__.py:5: SettingWithCopyWarning: \n",
      "A value is trying to be set on a copy of a slice from a DataFrame.\n",
      "Try using .loc[row_indexer,col_indexer] = value instead\n",
      "\n",
      "See the caveats in the documentation: http://pandas.pydata.org/pandas-docs/stable/indexing.html#indexing-view-versus-copy\n",
      "C:\\Users\\Rocku\\Anaconda64\\lib\\site-packages\\ipykernel\\__main__.py:6: SettingWithCopyWarning: \n",
      "A value is trying to be set on a copy of a slice from a DataFrame.\n",
      "Try using .loc[row_indexer,col_indexer] = value instead\n",
      "\n",
      "See the caveats in the documentation: http://pandas.pydata.org/pandas-docs/stable/indexing.html#indexing-view-versus-copy\n"
     ]
    }
   ],
   "source": [
    "influence = model.get_influence()\n",
    "#c is the distance and p is p-value\n",
    "(c, p) = influence.cooks_distance\n",
    "\n",
    "cleaned_data['Cook_D'] = c\n",
    "cleaned_data['Cook_D_Pval'] = p"
   ]
  },
  {
   "cell_type": "code",
   "execution_count": 6,
   "metadata": {
    "collapsed": false,
    "scrolled": true
   },
   "outputs": [
    {
     "name": "stderr",
     "output_type": "stream",
     "text": [
      "C:\\Users\\Rocku\\Anaconda64\\lib\\site-packages\\ipykernel\\__main__.py:1: SettingWithCopyWarning: \n",
      "A value is trying to be set on a copy of a slice from a DataFrame.\n",
      "Try using .loc[row_indexer,col_indexer] = value instead\n",
      "\n",
      "See the caveats in the documentation: http://pandas.pydata.org/pandas-docs/stable/indexing.html#indexing-view-versus-copy\n",
      "  if __name__ == '__main__':\n"
     ]
    }
   ],
   "source": [
    "cleaned_data['Cook_D_over'] = np.where(cleaned_data['Cook_D'] > 4/len(c), 1, 0)"
   ]
  },
  {
   "cell_type": "code",
   "execution_count": 7,
   "metadata": {
    "collapsed": false
   },
   "outputs": [
    {
     "data": {
      "text/plain": [
       "1540"
      ]
     },
     "execution_count": 7,
     "metadata": {},
     "output_type": "execute_result"
    }
   ],
   "source": [
    "cleaned_data['Cook_D_over'].sum()"
   ]
  },
  {
   "cell_type": "code",
   "execution_count": 13,
   "metadata": {
    "collapsed": false
   },
   "outputs": [
    {
     "data": {
      "text/plain": [
       "(0, 30162)"
      ]
     },
     "execution_count": 13,
     "metadata": {},
     "output_type": "execute_result"
    },
    {
     "data": {
      "image/png": "[encoded data removed]",
      "text/plain": [
       "<matplotlib.figure.Figure at 0xf2ee37a6a0>"
      ]
     },
     "metadata": {},
     "output_type": "display_data"
    }
   ],
   "source": [
    "plt.stem(np.arange(len(c)), c, markerfmt=\".\")\n",
    "plt.xlim(0,30162)"
   ]
  },
  {
   "cell_type": "markdown",
   "metadata": {},
   "source": [
    "### (f)\tDoes the model satisfy the assumptions of regression? Check homoscedasticity, linearity, and normality using plots or tests. Transform the data, as needed, and refit the regression with the necessary modifications. "
   ]
  },
  {
   "cell_type": "code",
   "execution_count": 8,
   "metadata": {
    "collapsed": false,
    "scrolled": true
   },
   "outputs": [],
   "source": [
    "trans_data = cleaned_data[cleaned_data['Cook_D_over'] == 0]\n",
    "trans_data = trans_data[trans_data['Age'] <= 80]"
   ]
  },
  {
   "cell_type": "code",
   "execution_count": 9,
   "metadata": {
    "collapsed": false,
    "scrolled": false
   },
   "outputs": [
    {
     "data": {
      "text/html": [
       "<table class=\"simpletable\">\n",
       "<caption>OLS Regression Results</caption>\n",
       "<tr>\n",
       "  <th>Dep. Variable:</th>          <td>LAge</td>       <th>  R-squared:         </th> <td>   0.423</td>\n",
       "</tr>\n",
       "<tr>\n",
       "  <th>Model:</th>                   <td>OLS</td>       <th>  Adj. R-squared:    </th> <td>   0.423</td>\n",
       "</tr>\n",
       "<tr>\n",
       "  <th>Method:</th>             <td>Least Squares</td>  <th>  F-statistic:       </th> <td>   3499.</td>\n",
       "</tr>\n",
       "<tr>\n",
       "  <th>Date:</th>             <td>Thu, 12 Oct 2017</td> <th>  Prob (F-statistic):</th>  <td>  0.00</td> \n",
       "</tr>\n",
       "<tr>\n",
       "  <th>Time:</th>                 <td>02:02:12</td>     <th>  Log-Likelihood:    </th> <td> -1159.9</td>\n",
       "</tr>\n",
       "<tr>\n",
       "  <th>No. Observations:</th>      <td> 28622</td>      <th>  AIC:               </th> <td>   2334.</td>\n",
       "</tr>\n",
       "<tr>\n",
       "  <th>Df Residuals:</th>          <td> 28615</td>      <th>  BIC:               </th> <td>   2392.</td>\n",
       "</tr>\n",
       "<tr>\n",
       "  <th>Df Model:</th>              <td>     6</td>      <th>                     </th>     <td> </td>   \n",
       "</tr>\n",
       "<tr>\n",
       "  <th>Covariance Type:</th>      <td>nonrobust</td>    <th>                     </th>     <td> </td>   \n",
       "</tr>\n",
       "</table>\n",
       "<table class=\"simpletable\">\n",
       "<tr>\n",
       "        <td></td>           <th>coef</th>     <th>std err</th>      <th>t</th>      <th>P>|t|</th>  <th>[0.025</th>    <th>0.975]</th>  \n",
       "</tr>\n",
       "<tr>\n",
       "  <th>const</th>         <td>    3.1371</td> <td>    0.009</td> <td>  349.285</td> <td> 0.000</td> <td>    3.120</td> <td>    3.155</td>\n",
       "</tr>\n",
       "<tr>\n",
       "  <th>HoursPWeek</th>    <td>    0.0027</td> <td>    0.000</td> <td>   18.803</td> <td> 0.000</td> <td>    0.002</td> <td>    0.003</td>\n",
       "</tr>\n",
       "<tr>\n",
       "  <th>Marital_dummy</th> <td>    0.4139</td> <td>    0.003</td> <td>  119.523</td> <td> 0.000</td> <td>    0.407</td> <td>    0.421</td>\n",
       "</tr>\n",
       "<tr>\n",
       "  <th>Sex_dummy</th>     <td>   -0.0214</td> <td>    0.003</td> <td>   -6.319</td> <td> 0.000</td> <td>   -0.028</td> <td>   -0.015</td>\n",
       "</tr>\n",
       "<tr>\n",
       "  <th>Race_dummy</th>    <td>   -0.0299</td> <td>    0.004</td> <td>   -6.775</td> <td> 0.000</td> <td>   -0.039</td> <td>   -0.021</td>\n",
       "</tr>\n",
       "<tr>\n",
       "  <th>EducationYr</th>   <td>    0.0061</td> <td>    0.001</td> <td>    9.430</td> <td> 0.000</td> <td>    0.005</td> <td>    0.007</td>\n",
       "</tr>\n",
       "<tr>\n",
       "  <th>Salary_dummy</th>  <td>    0.0710</td> <td>    0.004</td> <td>   17.876</td> <td> 0.000</td> <td>    0.063</td> <td>    0.079</td>\n",
       "</tr>\n",
       "</table>\n",
       "<table class=\"simpletable\">\n",
       "<tr>\n",
       "  <th>Omnibus:</th>       <td>591.681</td> <th>  Durbin-Watson:     </th> <td>   1.992</td>\n",
       "</tr>\n",
       "<tr>\n",
       "  <th>Prob(Omnibus):</th> <td> 0.000</td>  <th>  Jarque-Bera (JB):  </th> <td> 334.571</td>\n",
       "</tr>\n",
       "<tr>\n",
       "  <th>Skew:</th>          <td> 0.081</td>  <th>  Prob(JB):          </th> <td>2.23e-73</td>\n",
       "</tr>\n",
       "<tr>\n",
       "  <th>Kurtosis:</th>      <td> 2.496</td>  <th>  Cond. No.          </th> <td>    274.</td>\n",
       "</tr>\n",
       "</table>"
      ],
      "text/plain": [
       "<class 'statsmodels.iolib.summary.Summary'>\n",
       "\"\"\"\n",
       "                            OLS Regression Results                            \n",
       "==============================================================================\n",
       "Dep. Variable:                   LAge   R-squared:                       0.423\n",
       "Model:                            OLS   Adj. R-squared:                  0.423\n",
       "Method:                 Least Squares   F-statistic:                     3499.\n",
       "Date:                Thu, 12 Oct 2017   Prob (F-statistic):               0.00\n",
       "Time:                        02:02:12   Log-Likelihood:                -1159.9\n",
       "No. Observations:               28622   AIC:                             2334.\n",
       "Df Residuals:                   28615   BIC:                             2392.\n",
       "Df Model:                           6                                         \n",
       "Covariance Type:            nonrobust                                         \n",
       "=================================================================================\n",
       "                    coef    std err          t      P>|t|      [0.025      0.975]\n",
       "---------------------------------------------------------------------------------\n",
       "const             3.1371      0.009    349.285      0.000       3.120       3.155\n",
       "HoursPWeek        0.0027      0.000     18.803      0.000       0.002       0.003\n",
       "Marital_dummy     0.4139      0.003    119.523      0.000       0.407       0.421\n",
       "Sex_dummy        -0.0214      0.003     -6.319      0.000      -0.028      -0.015\n",
       "Race_dummy       -0.0299      0.004     -6.775      0.000      -0.039      -0.021\n",
       "EducationYr       0.0061      0.001      9.430      0.000       0.005       0.007\n",
       "Salary_dummy      0.0710      0.004     17.876      0.000       0.063       0.079\n",
       "==============================================================================\n",
       "Omnibus:                      591.681   Durbin-Watson:                   1.992\n",
       "Prob(Omnibus):                  0.000   Jarque-Bera (JB):              334.571\n",
       "Skew:                           0.081   Prob(JB):                     2.23e-73\n",
       "Kurtosis:                       2.496   Cond. No.                         274.\n",
       "==============================================================================\n",
       "\n",
       "Warnings:\n",
       "[1] Standard Errors assume that the covariance matrix of the errors is correctly specified.\n",
       "\"\"\""
      ]
     },
     "execution_count": 9,
     "metadata": {},
     "output_type": "execute_result"
    }
   ],
   "source": [
    "trans_data['Race_dummy'] = np.where(trans_data['Race'].str.strip() == 'White', 1, 0)\n",
    "trans_data['Salary_dummy'] = np.where(trans_data['Salary'].str.strip() == '<=50K', 0, 1)\n",
    "trans_data['Marital_dummy'] = np.where(trans_data['Marital'].str.strip() == 'Never-married', 0, 1)\n",
    "# cleaned_data['Marital_dummy'] = np.where(cleaned_data['Marital'].str.strip().str.startswith('Married') == True, 1, 0)\n",
    "\n",
    "trans_data['LHoursPWeek'] = np.log(trans_data['HoursPWeek'])\n",
    "trans_data['LEducationYr'] = np.log(trans_data['EducationYr'])\n",
    "trans_data['LAge'] = np.log(trans_data['Age'])\n",
    "X = trans_data[['HoursPWeek','Marital_dummy','Sex_dummy','Race_dummy','EducationYr','Salary_dummy']]\n",
    "y = trans_data[['LAge']]\n",
    "X = X.astype(float)\n",
    "X = sm.add_constant(X)\n",
    "model = sm.OLS(y, X).fit()\n",
    "predictions = model.predict(X) # make the predictions by the model\n",
    "model.summary()"
   ]
  },
  {
   "cell_type": "markdown",
   "metadata": {},
   "source": [
    "#### normality using plots or tests"
   ]
  },
  {
   "cell_type": "code",
   "execution_count": 104,
   "metadata": {
    "collapsed": false,
    "scrolled": false
   },
   "outputs": [
    {
     "data": {
      "image/png": "[encoded data removed]",
      "text/plain": [
       "<matplotlib.figure.Figure at 0xf282559ac8>"
      ]
     },
     "metadata": {},
     "output_type": "display_data"
    }
   ],
   "source": [
    "res = model.resid # residuals\n",
    "fig = sm.qqplot(res, line='s')"
   ]
  },
  {
   "cell_type": "markdown",
   "metadata": {},
   "source": [
    "#### homoscedasticity"
   ]
  },
  {
   "cell_type": "code",
   "execution_count": 92,
   "metadata": {
    "collapsed": false,
    "scrolled": false
   },
   "outputs": [
    {
     "data": {
      "text/plain": [
       "(18849.843055709047, 0.0)"
      ]
     },
     "execution_count": 92,
     "metadata": {},
     "output_type": "execute_result"
    }
   ],
   "source": [
    "import statsmodels.stats.diagnostic as diagno\n",
    "im, im_p, f, f_p = diagno.het_breuschpagan(model.resid, y)\n",
    "f, f_p"
   ]
  },
  {
   "cell_type": "code",
   "execution_count": 93,
   "metadata": {
    "collapsed": false,
    "scrolled": true
   },
   "outputs": [
    {
     "data": {
      "text/plain": [
       "<matplotlib.collections.PathCollection at 0xf281e823c8>"
      ]
     },
     "execution_count": 93,
     "metadata": {},
     "output_type": "execute_result"
    },
    {
     "data": {
      "image/png": "[encoded data removed]",
      "text/plain": [
       "<matplotlib.figure.Figure at 0xf281e357b8>"
      ]
     },
     "metadata": {},
     "output_type": "display_data"
    }
   ],
   "source": [
    "plt.scatter(np.exp(predictions), model.resid)"
   ]
  },
  {
   "cell_type": "markdown",
   "metadata": {},
   "source": [
    "### (g)\tYour instructor is considering whether to add capital gains and losses into the regression model in (e). He believes these two variables will significantly help with all the current variables. Should he or should he not? Assume that the significance level is .05. "
   ]
  },
  {
   "cell_type": "code",
   "execution_count": 100,
   "metadata": {
    "collapsed": false
   },
   "outputs": [
    {
     "data": {
      "text/plain": [
       "array([[<matplotlib.axes._subplots.AxesSubplot object at 0x000000F282385438>]], dtype=object)"
      ]
     },
     "execution_count": 100,
     "metadata": {},
     "output_type": "execute_result"
    },
    {
     "data": {
      "image/png": "[encoded data removed]",
      "text/plain": [
       "<matplotlib.figure.Figure at 0xf2822ea940>"
      ]
     },
     "metadata": {},
     "output_type": "display_data"
    }
   ],
   "source": [
    "cleaned_data.hist(column='Age', bins=20)"
   ]
  },
  {
   "cell_type": "code",
   "execution_count": 102,
   "metadata": {
    "collapsed": false
   },
   "outputs": [
    {
     "name": "stderr",
     "output_type": "stream",
     "text": [
      "C:\\Users\\Rocku\\Anaconda64\\lib\\site-packages\\ipykernel\\__main__.py:1: SettingWithCopyWarning: \n",
      "A value is trying to be set on a copy of a slice from a DataFrame.\n",
      "Try using .loc[row_indexer,col_indexer] = value instead\n",
      "\n",
      "See the caveats in the documentation: http://pandas.pydata.org/pandas-docs/stable/indexing.html#indexing-view-versus-copy\n",
      "  if __name__ == '__main__':\n"
     ]
    },
    {
     "data": {
      "text/plain": [
       "array([[<matplotlib.axes._subplots.AxesSubplot object at 0x000000F2824AEA20>]], dtype=object)"
      ]
     },
     "execution_count": 102,
     "metadata": {},
     "output_type": "execute_result"
    },
    {
     "data": {
      "image/png": "[encoded data removed]",
      "text/plain": [
       "<matplotlib.figure.Figure at 0xf282431518>"
      ]
     },
     "metadata": {},
     "output_type": "display_data"
    }
   ],
   "source": [
    "cleaned_data['LAge'] = np.log(cleaned_data['Age'])\n",
    "cleaned_data.hist(column='LAge', bins=20)"
   ]
  },
  {
   "cell_type": "code",
   "execution_count": 105,
   "metadata": {
    "collapsed": false
   },
   "outputs": [
    {
     "data": {
      "text/plain": [
       "<matplotlib.axes._subplots.AxesSubplot at 0xf283605438>"
      ]
     },
     "execution_count": 105,
     "metadata": {},
     "output_type": "execute_result"
    },
    {
     "data": {
      "image/png": "[encoded data removed]",
      "text/plain": [
       "<matplotlib.figure.Figure at 0xf283618a20>"
      ]
     },
     "metadata": {},
     "output_type": "display_data"
    }
   ],
   "source": [
    "grouped = trans_data.groupby(by='Age').mean()\n",
    "grouped['CapGain'].plot(kind='line', legend='True')"
   ]
  },
  {
   "cell_type": "code",
   "execution_count": 106,
   "metadata": {
    "collapsed": false
   },
   "outputs": [
    {
     "data": {
      "text/plain": [
       "<matplotlib.axes._subplots.AxesSubplot at 0xf2836795c0>"
      ]
     },
     "execution_count": 106,
     "metadata": {},
     "output_type": "execute_result"
    },
    {
     "data": {
      "image/png": "[encoded data removed]",
      "text/plain": [
       "<matplotlib.figure.Figure at 0xf28240ebe0>"
      ]
     },
     "metadata": {},
     "output_type": "display_data"
    }
   ],
   "source": [
    "grouped['CapLoss'].plot(kind='line', legend='True')"
   ]
  },
  {
   "cell_type": "code",
   "execution_count": 107,
   "metadata": {
    "collapsed": false
   },
   "outputs": [
    {
     "data": {
      "text/html": [
       "<table class=\"simpletable\">\n",
       "<caption>OLS Regression Results</caption>\n",
       "<tr>\n",
       "  <th>Dep. Variable:</th>          <td>LAge</td>       <th>  R-squared:         </th> <td>   0.424</td>\n",
       "</tr>\n",
       "<tr>\n",
       "  <th>Model:</th>                   <td>OLS</td>       <th>  Adj. R-squared:    </th> <td>   0.423</td>\n",
       "</tr>\n",
       "<tr>\n",
       "  <th>Method:</th>             <td>Least Squares</td>  <th>  F-statistic:       </th> <td>   2628.</td>\n",
       "</tr>\n",
       "<tr>\n",
       "  <th>Date:</th>             <td>Thu, 12 Oct 2017</td> <th>  Prob (F-statistic):</th>  <td>  0.00</td> \n",
       "</tr>\n",
       "<tr>\n",
       "  <th>Time:</th>                 <td>01:07:43</td>     <th>  Log-Likelihood:    </th> <td> -1151.5</td>\n",
       "</tr>\n",
       "<tr>\n",
       "  <th>No. Observations:</th>      <td> 28622</td>      <th>  AIC:               </th> <td>   2321.</td>\n",
       "</tr>\n",
       "<tr>\n",
       "  <th>Df Residuals:</th>          <td> 28613</td>      <th>  BIC:               </th> <td>   2395.</td>\n",
       "</tr>\n",
       "<tr>\n",
       "  <th>Df Model:</th>              <td>     8</td>      <th>                     </th>     <td> </td>   \n",
       "</tr>\n",
       "<tr>\n",
       "  <th>Covariance Type:</th>      <td>nonrobust</td>    <th>                     </th>     <td> </td>   \n",
       "</tr>\n",
       "</table>\n",
       "<table class=\"simpletable\">\n",
       "<tr>\n",
       "        <td></td>           <th>coef</th>     <th>std err</th>      <th>t</th>      <th>P>|t|</th>  <th>[0.025</th>    <th>0.975]</th>  \n",
       "</tr>\n",
       "<tr>\n",
       "  <th>const</th>         <td>    3.1391</td> <td>    0.009</td> <td>  349.085</td> <td> 0.000</td> <td>    3.121</td> <td>    3.157</td>\n",
       "</tr>\n",
       "<tr>\n",
       "  <th>HoursPWeek</th>    <td>    0.0026</td> <td>    0.000</td> <td>   18.655</td> <td> 0.000</td> <td>    0.002</td> <td>    0.003</td>\n",
       "</tr>\n",
       "<tr>\n",
       "  <th>Marital_dummy</th> <td>    0.4139</td> <td>    0.003</td> <td>  119.531</td> <td> 0.000</td> <td>    0.407</td> <td>    0.421</td>\n",
       "</tr>\n",
       "<tr>\n",
       "  <th>Sex_dummy</th>     <td>   -0.0214</td> <td>    0.003</td> <td>   -6.336</td> <td> 0.000</td> <td>   -0.028</td> <td>   -0.015</td>\n",
       "</tr>\n",
       "<tr>\n",
       "  <th>Race_dummy</th>    <td>   -0.0300</td> <td>    0.004</td> <td>   -6.790</td> <td> 0.000</td> <td>   -0.039</td> <td>   -0.021</td>\n",
       "</tr>\n",
       "<tr>\n",
       "  <th>EducationYr</th>   <td>    0.0060</td> <td>    0.001</td> <td>    9.159</td> <td> 0.000</td> <td>    0.005</td> <td>    0.007</td>\n",
       "</tr>\n",
       "<tr>\n",
       "  <th>Salary_dummy</th>  <td>    0.0675</td> <td>    0.004</td> <td>   16.641</td> <td> 0.000</td> <td>    0.060</td> <td>    0.075</td>\n",
       "</tr>\n",
       "<tr>\n",
       "  <th>CapGain</th>       <td> 7.295e-07</td> <td> 2.07e-07</td> <td>    3.520</td> <td> 0.000</td> <td> 3.23e-07</td> <td> 1.14e-06</td>\n",
       "</tr>\n",
       "<tr>\n",
       "  <th>CapLoss</th>       <td> 8.838e-06</td> <td> 3.77e-06</td> <td>    2.345</td> <td> 0.019</td> <td> 1.45e-06</td> <td> 1.62e-05</td>\n",
       "</tr>\n",
       "</table>\n",
       "<table class=\"simpletable\">\n",
       "<tr>\n",
       "  <th>Omnibus:</th>       <td>589.527</td> <th>  Durbin-Watson:     </th> <td>   1.992</td>\n",
       "</tr>\n",
       "<tr>\n",
       "  <th>Prob(Omnibus):</th> <td> 0.000</td>  <th>  Jarque-Bera (JB):  </th> <td> 333.542</td>\n",
       "</tr>\n",
       "<tr>\n",
       "  <th>Skew:</th>          <td> 0.081</td>  <th>  Prob(JB):          </th> <td>3.73e-73</td>\n",
       "</tr>\n",
       "<tr>\n",
       "  <th>Kurtosis:</th>      <td> 2.497</td>  <th>  Cond. No.          </th> <td>4.67e+04</td>\n",
       "</tr>\n",
       "</table>"
      ],
      "text/plain": [
       "<class 'statsmodels.iolib.summary.Summary'>\n",
       "\"\"\"\n",
       "                            OLS Regression Results                            \n",
       "==============================================================================\n",
       "Dep. Variable:                   LAge   R-squared:                       0.424\n",
       "Model:                            OLS   Adj. R-squared:                  0.423\n",
       "Method:                 Least Squares   F-statistic:                     2628.\n",
       "Date:                Thu, 12 Oct 2017   Prob (F-statistic):               0.00\n",
       "Time:                        01:07:43   Log-Likelihood:                -1151.5\n",
       "No. Observations:               28622   AIC:                             2321.\n",
       "Df Residuals:                   28613   BIC:                             2395.\n",
       "Df Model:                           8                                         \n",
       "Covariance Type:            nonrobust                                         \n",
       "=================================================================================\n",
       "                    coef    std err          t      P>|t|      [0.025      0.975]\n",
       "---------------------------------------------------------------------------------\n",
       "const             3.1391      0.009    349.085      0.000       3.121       3.157\n",
       "HoursPWeek        0.0026      0.000     18.655      0.000       0.002       0.003\n",
       "Marital_dummy     0.4139      0.003    119.531      0.000       0.407       0.421\n",
       "Sex_dummy        -0.0214      0.003     -6.336      0.000      -0.028      -0.015\n",
       "Race_dummy       -0.0300      0.004     -6.790      0.000      -0.039      -0.021\n",
       "EducationYr       0.0060      0.001      9.159      0.000       0.005       0.007\n",
       "Salary_dummy      0.0675      0.004     16.641      0.000       0.060       0.075\n",
       "CapGain        7.295e-07   2.07e-07      3.520      0.000    3.23e-07    1.14e-06\n",
       "CapLoss        8.838e-06   3.77e-06      2.345      0.019    1.45e-06    1.62e-05\n",
       "==============================================================================\n",
       "Omnibus:                      589.527   Durbin-Watson:                   1.992\n",
       "Prob(Omnibus):                  0.000   Jarque-Bera (JB):              333.542\n",
       "Skew:                           0.081   Prob(JB):                     3.73e-73\n",
       "Kurtosis:                       2.497   Cond. No.                     4.67e+04\n",
       "==============================================================================\n",
       "\n",
       "Warnings:\n",
       "[1] Standard Errors assume that the covariance matrix of the errors is correctly specified.\n",
       "[2] The condition number is large, 4.67e+04. This might indicate that there are\n",
       "strong multicollinearity or other numerical problems.\n",
       "\"\"\""
      ]
     },
     "execution_count": 107,
     "metadata": {},
     "output_type": "execute_result"
    }
   ],
   "source": [
    "\n",
    "\n",
    "# X = cleaned_data[['HoursPWeek','Marital_dummy','Sex_dummy','Race_dummy','EducationYr','Salary_dummy','CapGain_dummy','CapLoss_dummy']]\n",
    "X = trans_data[['HoursPWeek','Marital_dummy','Sex_dummy','Race_dummy','EducationYr','Salary_dummy','CapGain','CapLoss']]\n",
    "\n",
    "y = trans_data[('LAge')]\n",
    "X = X.astype(float)\n",
    "X = sm.add_constant(X)\n",
    "model = sm.OLS(y, X).fit()\n",
    "predictions = model.predict(X) # make the predictions by the model\n",
    "\n",
    "# Print out the statistics\n",
    "model.summary()"
   ]
  },
  {
   "cell_type": "markdown",
   "metadata": {},
   "source": [
    "### (h)\tYour instructor believes that the interaction between race and salary may play a crucial role in explaining the variation in age specified by the model in (e). Test if the interaction term is necessary. Assume that the significance level is .01. "
   ]
  },
  {
   "cell_type": "code",
   "execution_count": 148,
   "metadata": {
    "collapsed": false,
    "scrolled": false
   },
   "outputs": [
    {
     "data": {
      "text/html": [
       "<table class=\"simpletable\">\n",
       "<caption>OLS Regression Results</caption>\n",
       "<tr>\n",
       "  <th>Dep. Variable:</th>          <td>LAge</td>       <th>  R-squared:         </th> <td>   0.424</td>\n",
       "</tr>\n",
       "<tr>\n",
       "  <th>Model:</th>                   <td>OLS</td>       <th>  Adj. R-squared:    </th> <td>   0.423</td>\n",
       "</tr>\n",
       "<tr>\n",
       "  <th>Method:</th>             <td>Least Squares</td>  <th>  F-statistic:       </th> <td>   2337.</td>\n",
       "</tr>\n",
       "<tr>\n",
       "  <th>Date:</th>             <td>Thu, 12 Oct 2017</td> <th>  Prob (F-statistic):</th>  <td>  0.00</td> \n",
       "</tr>\n",
       "<tr>\n",
       "  <th>Time:</th>                 <td>01:20:20</td>     <th>  Log-Likelihood:    </th> <td> -1149.2</td>\n",
       "</tr>\n",
       "<tr>\n",
       "  <th>No. Observations:</th>      <td> 28622</td>      <th>  AIC:               </th> <td>   2318.</td>\n",
       "</tr>\n",
       "<tr>\n",
       "  <th>Df Residuals:</th>          <td> 28612</td>      <th>  BIC:               </th> <td>   2401.</td>\n",
       "</tr>\n",
       "<tr>\n",
       "  <th>Df Model:</th>              <td>     9</td>      <th>                     </th>     <td> </td>   \n",
       "</tr>\n",
       "<tr>\n",
       "  <th>Covariance Type:</th>      <td>nonrobust</td>    <th>                     </th>     <td> </td>   \n",
       "</tr>\n",
       "</table>\n",
       "<table class=\"simpletable\">\n",
       "<tr>\n",
       "             <td></td>                <th>coef</th>     <th>std err</th>      <th>t</th>      <th>P>|t|</th>  <th>[0.025</th>    <th>0.975]</th>  \n",
       "</tr>\n",
       "<tr>\n",
       "  <th>Intercept</th>               <td>    3.1425</td> <td>    0.009</td> <td>  344.122</td> <td> 0.000</td> <td>    3.125</td> <td>    3.160</td>\n",
       "</tr>\n",
       "<tr>\n",
       "  <th>HoursPWeek</th>              <td>    0.0026</td> <td>    0.000</td> <td>   18.650</td> <td> 0.000</td> <td>    0.002</td> <td>    0.003</td>\n",
       "</tr>\n",
       "<tr>\n",
       "  <th>Marital_dummy</th>           <td>    0.4140</td> <td>    0.003</td> <td>  119.555</td> <td> 0.000</td> <td>    0.407</td> <td>    0.421</td>\n",
       "</tr>\n",
       "<tr>\n",
       "  <th>Race_dummy</th>              <td>   -0.0342</td> <td>    0.005</td> <td>   -7.075</td> <td> 0.000</td> <td>   -0.044</td> <td>   -0.025</td>\n",
       "</tr>\n",
       "<tr>\n",
       "  <th>EducationYr</th>             <td>    0.0060</td> <td>    0.001</td> <td>    9.173</td> <td> 0.000</td> <td>    0.005</td> <td>    0.007</td>\n",
       "</tr>\n",
       "<tr>\n",
       "  <th>Salary_dummy</th>            <td>    0.0445</td> <td>    0.011</td> <td>    3.876</td> <td> 0.000</td> <td>    0.022</td> <td>    0.067</td>\n",
       "</tr>\n",
       "<tr>\n",
       "  <th>Race_dummy:Salary_dummy</th> <td>    0.0253</td> <td>    0.012</td> <td>    2.146</td> <td> 0.032</td> <td>    0.002</td> <td>    0.048</td>\n",
       "</tr>\n",
       "<tr>\n",
       "  <th>Sex_dummy</th>               <td>   -0.0213</td> <td>    0.003</td> <td>   -6.300</td> <td> 0.000</td> <td>   -0.028</td> <td>   -0.015</td>\n",
       "</tr>\n",
       "<tr>\n",
       "  <th>CapGain</th>                 <td>  7.34e-07</td> <td> 2.07e-07</td> <td>    3.542</td> <td> 0.000</td> <td> 3.28e-07</td> <td> 1.14e-06</td>\n",
       "</tr>\n",
       "<tr>\n",
       "  <th>CapLoss</th>                 <td> 8.816e-06</td> <td> 3.77e-06</td> <td>    2.339</td> <td> 0.019</td> <td> 1.43e-06</td> <td> 1.62e-05</td>\n",
       "</tr>\n",
       "</table>\n",
       "<table class=\"simpletable\">\n",
       "<tr>\n",
       "  <th>Omnibus:</th>       <td>584.759</td> <th>  Durbin-Watson:     </th> <td>   1.992</td>\n",
       "</tr>\n",
       "<tr>\n",
       "  <th>Prob(Omnibus):</th> <td> 0.000</td>  <th>  Jarque-Bera (JB):  </th> <td> 331.837</td>\n",
       "</tr>\n",
       "<tr>\n",
       "  <th>Skew:</th>          <td> 0.081</td>  <th>  Prob(JB):          </th> <td>8.76e-73</td>\n",
       "</tr>\n",
       "<tr>\n",
       "  <th>Kurtosis:</th>      <td> 2.498</td>  <th>  Cond. No.          </th> <td>8.22e+04</td>\n",
       "</tr>\n",
       "</table>"
      ],
      "text/plain": [
       "<class 'statsmodels.iolib.summary.Summary'>\n",
       "\"\"\"\n",
       "                            OLS Regression Results                            \n",
       "==============================================================================\n",
       "Dep. Variable:                   LAge   R-squared:                       0.424\n",
       "Model:                            OLS   Adj. R-squared:                  0.423\n",
       "Method:                 Least Squares   F-statistic:                     2337.\n",
       "Date:                Thu, 12 Oct 2017   Prob (F-statistic):               0.00\n",
       "Time:                        01:20:20   Log-Likelihood:                -1149.2\n",
       "No. Observations:               28622   AIC:                             2318.\n",
       "Df Residuals:                   28612   BIC:                             2401.\n",
       "Df Model:                           9                                         \n",
       "Covariance Type:            nonrobust                                         \n",
       "===========================================================================================\n",
       "                              coef    std err          t      P>|t|      [0.025      0.975]\n",
       "-------------------------------------------------------------------------------------------\n",
       "Intercept                   3.1425      0.009    344.122      0.000       3.125       3.160\n",
       "HoursPWeek                  0.0026      0.000     18.650      0.000       0.002       0.003\n",
       "Marital_dummy               0.4140      0.003    119.555      0.000       0.407       0.421\n",
       "Race_dummy                 -0.0342      0.005     -7.075      0.000      -0.044      -0.025\n",
       "EducationYr                 0.0060      0.001      9.173      0.000       0.005       0.007\n",
       "Salary_dummy                0.0445      0.011      3.876      0.000       0.022       0.067\n",
       "Race_dummy:Salary_dummy     0.0253      0.012      2.146      0.032       0.002       0.048\n",
       "Sex_dummy                  -0.0213      0.003     -6.300      0.000      -0.028      -0.015\n",
       "CapGain                   7.34e-07   2.07e-07      3.542      0.000    3.28e-07    1.14e-06\n",
       "CapLoss                  8.816e-06   3.77e-06      2.339      0.019    1.43e-06    1.62e-05\n",
       "==============================================================================\n",
       "Omnibus:                      584.759   Durbin-Watson:                   1.992\n",
       "Prob(Omnibus):                  0.000   Jarque-Bera (JB):              331.837\n",
       "Skew:                           0.081   Prob(JB):                     8.76e-73\n",
       "Kurtosis:                       2.498   Cond. No.                     8.22e+04\n",
       "==============================================================================\n",
       "\n",
       "Warnings:\n",
       "[1] Standard Errors assume that the covariance matrix of the errors is correctly specified.\n",
       "[2] The condition number is large, 8.22e+04. This might indicate that there are\n",
       "strong multicollinearity or other numerical problems.\n",
       "\"\"\""
      ]
     },
     "execution_count": 148,
     "metadata": {},
     "output_type": "execute_result"
    }
   ],
   "source": [
    "import statsmodels\n",
    "import statsmodels.api as sm\n",
    "from statsmodels.formula.api import ols\n",
    "\n",
    "formula = 'LAge ~ HoursPWeek + Marital_dummy +Race_dummy + EducationYr + Salary_dummy + Race_dummy*Salary_dummy + Sex_dummy + CapGain + CapLoss'\n",
    "model = ols(formula, trans_data).fit()\n",
    "# statsmodels.stats.anova.anova_lm(model)\n",
    "model.summary()"
   ]
  },
  {
   "cell_type": "code",
   "execution_count": 17,
   "metadata": {
    "collapsed": false,
    "scrolled": false
   },
   "outputs": [
    {
     "ename": "TypeError",
     "evalue": "'Figure' object is not callable",
     "output_type": "error",
     "traceback": [
      "\u001b[0;31m---------------------------------------------------------------------------\u001b[0m",
      "\u001b[0;31mTypeError\u001b[0m                                 Traceback (most recent call last)",
      "\u001b[0;32m<ipython-input-17-d643a71eace2>\u001b[0m in \u001b[0;36m<module>\u001b[0;34m()\u001b[0m\n\u001b[1;32m      1\u001b[0m \u001b[1;32mimport\u001b[0m \u001b[0mstatsmodels\u001b[0m\u001b[1;33m.\u001b[0m\u001b[0mgraphics\u001b[0m\u001b[1;33m.\u001b[0m\u001b[0mfactorplots\u001b[0m \u001b[1;32mas\u001b[0m \u001b[0mgraphs\u001b[0m\u001b[1;33m\u001b[0m\u001b[0m\n\u001b[0;32m----> 2\u001b[0;31m \u001b[0mplt\u001b[0m\u001b[1;33m.\u001b[0m\u001b[0mfigure\u001b[0m \u001b[1;33m=\u001b[0m \u001b[0mgraphs\u001b[0m\u001b[1;33m.\u001b[0m\u001b[0minteraction_plot\u001b[0m\u001b[1;33m(\u001b[0m\u001b[0mcleaned_data\u001b[0m\u001b[1;33m[\u001b[0m\u001b[1;34m'Race_dummy'\u001b[0m\u001b[1;33m]\u001b[0m\u001b[1;33m,\u001b[0m \u001b[0mcleaned_data\u001b[0m\u001b[1;33m[\u001b[0m\u001b[1;34m'Salary'\u001b[0m\u001b[1;33m]\u001b[0m\u001b[1;33m,\u001b[0m \u001b[0mcleaned_data\u001b[0m\u001b[1;33m[\u001b[0m\u001b[1;34m'Age'\u001b[0m\u001b[1;33m]\u001b[0m\u001b[1;33m)\u001b[0m\u001b[1;33m\u001b[0m\u001b[0m\n\u001b[0m\u001b[1;32m      3\u001b[0m \u001b[0mplt\u001b[0m\u001b[1;33m.\u001b[0m\u001b[0mhold\u001b[0m\u001b[1;33m\u001b[0m\u001b[0m\n\u001b[1;32m      4\u001b[0m \u001b[0mplt\u001b[0m\u001b[1;33m.\u001b[0m\u001b[0mylim\u001b[0m\u001b[1;33m(\u001b[0m\u001b[1;36m15\u001b[0m\u001b[1;33m,\u001b[0m\u001b[1;36m80\u001b[0m\u001b[1;33m)\u001b[0m\u001b[1;33m\u001b[0m\u001b[0m\n\u001b[1;32m      5\u001b[0m \u001b[0mplt\u001b[0m\u001b[1;33m.\u001b[0m\u001b[0mcl\u001b[0m\u001b[1;33m\u001b[0m\u001b[0m\n",
      "\u001b[0;32mC:\\Users\\Rocku\\Anaconda64\\lib\\site-packages\\statsmodels\\graphics\\factorplots.py\u001b[0m in \u001b[0;36minteraction_plot\u001b[0;34m(x, trace, response, func, ax, plottype, xlabel, ylabel, colors, markers, linestyles, legendloc, legendtitle, **kwargs)\u001b[0m\n\u001b[1;32m     90\u001b[0m \u001b[1;33m\u001b[0m\u001b[0m\n\u001b[1;32m     91\u001b[0m     \u001b[1;32mfrom\u001b[0m \u001b[0mpandas\u001b[0m \u001b[1;32mimport\u001b[0m \u001b[0mDataFrame\u001b[0m\u001b[1;33m\u001b[0m\u001b[0m\n\u001b[0;32m---> 92\u001b[0;31m     \u001b[0mfig\u001b[0m\u001b[1;33m,\u001b[0m \u001b[0max\u001b[0m \u001b[1;33m=\u001b[0m \u001b[0mutils\u001b[0m\u001b[1;33m.\u001b[0m\u001b[0mcreate_mpl_ax\u001b[0m\u001b[1;33m(\u001b[0m\u001b[0max\u001b[0m\u001b[1;33m)\u001b[0m\u001b[1;33m\u001b[0m\u001b[0m\n\u001b[0m\u001b[1;32m     93\u001b[0m \u001b[1;33m\u001b[0m\u001b[0m\n\u001b[1;32m     94\u001b[0m     \u001b[0mresponse_name\u001b[0m \u001b[1;33m=\u001b[0m \u001b[0mylabel\u001b[0m \u001b[1;32mor\u001b[0m \u001b[0mgetattr\u001b[0m\u001b[1;33m(\u001b[0m\u001b[0mresponse\u001b[0m\u001b[1;33m,\u001b[0m \u001b[1;34m'name'\u001b[0m\u001b[1;33m,\u001b[0m \u001b[1;34m'response'\u001b[0m\u001b[1;33m)\u001b[0m\u001b[1;33m\u001b[0m\u001b[0m\n",
      "\u001b[0;32mC:\\Users\\Rocku\\Anaconda64\\lib\\site-packages\\statsmodels\\graphics\\utils.py\u001b[0m in \u001b[0;36mcreate_mpl_ax\u001b[0;34m(ax)\u001b[0m\n\u001b[1;32m     54\u001b[0m     \u001b[1;32mif\u001b[0m \u001b[0max\u001b[0m \u001b[1;32mis\u001b[0m \u001b[1;32mNone\u001b[0m\u001b[1;33m:\u001b[0m\u001b[1;33m\u001b[0m\u001b[0m\n\u001b[1;32m     55\u001b[0m         \u001b[0mplt\u001b[0m \u001b[1;33m=\u001b[0m \u001b[0m_import_mpl\u001b[0m\u001b[1;33m(\u001b[0m\u001b[1;33m)\u001b[0m\u001b[1;33m\u001b[0m\u001b[0m\n\u001b[0;32m---> 56\u001b[0;31m         \u001b[0mfig\u001b[0m \u001b[1;33m=\u001b[0m \u001b[0mplt\u001b[0m\u001b[1;33m.\u001b[0m\u001b[0mfigure\u001b[0m\u001b[1;33m(\u001b[0m\u001b[1;33m)\u001b[0m\u001b[1;33m\u001b[0m\u001b[0m\n\u001b[0m\u001b[1;32m     57\u001b[0m         \u001b[0max\u001b[0m \u001b[1;33m=\u001b[0m \u001b[0mfig\u001b[0m\u001b[1;33m.\u001b[0m\u001b[0madd_subplot\u001b[0m\u001b[1;33m(\u001b[0m\u001b[1;36m111\u001b[0m\u001b[1;33m)\u001b[0m\u001b[1;33m\u001b[0m\u001b[0m\n\u001b[1;32m     58\u001b[0m     \u001b[1;32melse\u001b[0m\u001b[1;33m:\u001b[0m\u001b[1;33m\u001b[0m\u001b[0m\n",
      "\u001b[0;31mTypeError\u001b[0m: 'Figure' object is not callable"
     ]
    }
   ],
   "source": [
    "import statsmodels.graphics.factorplots as graphs\n",
    "plt.figure = graphs.interaction_plot(cleaned_data['Race_dummy'], cleaned_data['Salary'], cleaned_data['Age'])\n",
    "plt.hold\n",
    "plt.ylim(15,80)\n",
    "plt.cl"
   ]
  },
  {
   "cell_type": "markdown",
   "metadata": {},
   "source": [
    "### (i)\tCheck for multicollinearity among the investigated variables.\n",
    "\n",
    "### (j)\tPrint the correlation table involving age, education, sex (set the reference), HoursPWeek, and salary. Indicate if the correlation is significant. \n",
    "\n",
    "Investigate variance inflation factor. A rule of thumb is that if VIF>10 then multicollinearity is high."
   ]
  },
  {
   "cell_type": "code",
   "execution_count": 29,
   "metadata": {
    "collapsed": false
   },
   "outputs": [
    {
     "data": {
      "text/html": [
       "<div>\n",
       "<table border=\"1\" class=\"dataframe\">\n",
       "  <thead>\n",
       "    <tr style=\"text-align: right;\">\n",
       "      <th></th>\n",
       "      <th>LAge</th>\n",
       "      <th>HoursPWeek</th>\n",
       "      <th>Marital_dummy</th>\n",
       "      <th>Sex_dummy</th>\n",
       "      <th>Race_dummy</th>\n",
       "      <th>EducationYr</th>\n",
       "      <th>Salary_dummy</th>\n",
       "    </tr>\n",
       "  </thead>\n",
       "  <tbody>\n",
       "    <tr>\n",
       "      <th>LAge</th>\n",
       "      <td>1.000000</td>\n",
       "      <td>0.258557</td>\n",
       "      <td>0.632407</td>\n",
       "      <td>0.115333</td>\n",
       "      <td>0.024829</td>\n",
       "      <td>0.116567</td>\n",
       "      <td>0.315273</td>\n",
       "    </tr>\n",
       "    <tr>\n",
       "      <th>HoursPWeek</th>\n",
       "      <td>0.258557</td>\n",
       "      <td>1.000000</td>\n",
       "      <td>0.252845</td>\n",
       "      <td>0.243228</td>\n",
       "      <td>0.061538</td>\n",
       "      <td>0.158561</td>\n",
       "      <td>0.238577</td>\n",
       "    </tr>\n",
       "    <tr>\n",
       "      <th>Marital_dummy</th>\n",
       "      <td>0.632407</td>\n",
       "      <td>0.252845</td>\n",
       "      <td>1.000000</td>\n",
       "      <td>0.180980</td>\n",
       "      <td>0.073878</td>\n",
       "      <td>0.045479</td>\n",
       "      <td>0.333374</td>\n",
       "    </tr>\n",
       "    <tr>\n",
       "      <th>Sex_dummy</th>\n",
       "      <td>0.115333</td>\n",
       "      <td>0.243228</td>\n",
       "      <td>0.180980</td>\n",
       "      <td>1.000000</td>\n",
       "      <td>0.102836</td>\n",
       "      <td>0.003705</td>\n",
       "      <td>0.221572</td>\n",
       "    </tr>\n",
       "    <tr>\n",
       "      <th>Race_dummy</th>\n",
       "      <td>0.024829</td>\n",
       "      <td>0.061538</td>\n",
       "      <td>0.073878</td>\n",
       "      <td>0.102836</td>\n",
       "      <td>1.000000</td>\n",
       "      <td>0.041382</td>\n",
       "      <td>0.085937</td>\n",
       "    </tr>\n",
       "    <tr>\n",
       "      <th>EducationYr</th>\n",
       "      <td>0.116567</td>\n",
       "      <td>0.158561</td>\n",
       "      <td>0.045479</td>\n",
       "      <td>0.003705</td>\n",
       "      <td>0.041382</td>\n",
       "      <td>1.000000</td>\n",
       "      <td>0.339021</td>\n",
       "    </tr>\n",
       "    <tr>\n",
       "      <th>Salary_dummy</th>\n",
       "      <td>0.315273</td>\n",
       "      <td>0.238577</td>\n",
       "      <td>0.333374</td>\n",
       "      <td>0.221572</td>\n",
       "      <td>0.085937</td>\n",
       "      <td>0.339021</td>\n",
       "      <td>1.000000</td>\n",
       "    </tr>\n",
       "  </tbody>\n",
       "</table>\n",
       "</div>"
      ],
      "text/plain": [
       "                   LAge  HoursPWeek  Marital_dummy  Sex_dummy  Race_dummy  \\\n",
       "LAge           1.000000    0.258557       0.632407   0.115333    0.024829   \n",
       "HoursPWeek     0.258557    1.000000       0.252845   0.243228    0.061538   \n",
       "Marital_dummy  0.632407    0.252845       1.000000   0.180980    0.073878   \n",
       "Sex_dummy      0.115333    0.243228       0.180980   1.000000    0.102836   \n",
       "Race_dummy     0.024829    0.061538       0.073878   0.102836    1.000000   \n",
       "EducationYr    0.116567    0.158561       0.045479   0.003705    0.041382   \n",
       "Salary_dummy   0.315273    0.238577       0.333374   0.221572    0.085937   \n",
       "\n",
       "               EducationYr  Salary_dummy  \n",
       "LAge              0.116567      0.315273  \n",
       "HoursPWeek        0.158561      0.238577  \n",
       "Marital_dummy     0.045479      0.333374  \n",
       "Sex_dummy         0.003705      0.221572  \n",
       "Race_dummy        0.041382      0.085937  \n",
       "EducationYr       1.000000      0.339021  \n",
       "Salary_dummy      0.339021      1.000000  "
      ]
     },
     "execution_count": 29,
     "metadata": {},
     "output_type": "execute_result"
    }
   ],
   "source": [
    "import statsmodels.graphics.api as smg\n",
    "from statsmodels.stats.outliers_influence import variance_inflation_factor\n",
    "\n",
    "\n",
    "data2 = trans_data[['LAge','HoursPWeek','Marital_dummy','Sex_dummy','Race_dummy','EducationYr','Salary_dummy']]\n",
    "data2 = data2.astype(float)\n",
    "corr_table = data2.corr('pearson')\n",
    "corr_table"
   ]
  },
  {
   "cell_type": "code",
   "execution_count": 31,
   "metadata": {
    "collapsed": false,
    "scrolled": true
   },
   "outputs": [
    {
     "data": {
      "text/html": [
       "<div>\n",
       "<table border=\"1\" class=\"dataframe\">\n",
       "  <thead>\n",
       "    <tr style=\"text-align: right;\">\n",
       "      <th></th>\n",
       "      <th>Column</th>\n",
       "      <th>VIF Factor</th>\n",
       "    </tr>\n",
       "  </thead>\n",
       "  <tbody>\n",
       "    <tr>\n",
       "      <th>0</th>\n",
       "      <td>HoursPWeek</td>\n",
       "      <td>13.1</td>\n",
       "    </tr>\n",
       "    <tr>\n",
       "      <th>1</th>\n",
       "      <td>Marital_dummy</td>\n",
       "      <td>3.6</td>\n",
       "    </tr>\n",
       "    <tr>\n",
       "      <th>2</th>\n",
       "      <td>Sex_dummy</td>\n",
       "      <td>3.4</td>\n",
       "    </tr>\n",
       "    <tr>\n",
       "      <th>3</th>\n",
       "      <td>Race_dummy</td>\n",
       "      <td>6.6</td>\n",
       "    </tr>\n",
       "    <tr>\n",
       "      <th>4</th>\n",
       "      <td>EducationYr</td>\n",
       "      <td>11.7</td>\n",
       "    </tr>\n",
       "    <tr>\n",
       "      <th>5</th>\n",
       "      <td>Salary_dummy</td>\n",
       "      <td>1.6</td>\n",
       "    </tr>\n",
       "  </tbody>\n",
       "</table>\n",
       "</div>"
      ],
      "text/plain": [
       "          Column  VIF Factor\n",
       "0     HoursPWeek        13.1\n",
       "1  Marital_dummy         3.6\n",
       "2      Sex_dummy         3.4\n",
       "3     Race_dummy         6.6\n",
       "4    EducationYr        11.7\n",
       "5   Salary_dummy         1.6"
      ]
     },
     "execution_count": 31,
     "metadata": {},
     "output_type": "execute_result"
    }
   ],
   "source": [
    "vif = pd.DataFrame()\n",
    "data2 = trans_data[['HoursPWeek','Marital_dummy','Sex_dummy','Race_dummy','EducationYr','Salary_dummy']]\n",
    "\n",
    "vif[\"Column\"] = data2.columns\n",
    "vif[\"VIF Factor\"] = [variance_inflation_factor(data2.values, i) for i in range(data2.shape[1])]\n",
    "vif.round(1)"
   ]
  },
  {
   "cell_type": "code",
   "execution_count": null,
   "metadata": {
    "collapsed": true
   },
   "outputs": [],
   "source": []
  }
 ],
 "metadata": {
  "anaconda-cloud": {},
  "kernelspec": {
   "display_name": "Python [default]",
   "language": "python",
   "name": "python3"
  },
  "language_info": {
   "codemirror_mode": {
    "name": "ipython",
    "version": 3
   },
   "file_extension": ".py",
   "mimetype": "text/x-python",
   "name": "python",
   "nbconvert_exporter": "python",
   "pygments_lexer": "ipython3",
   "version": "3.5.2"
  }
 },
 "nbformat": 4,
 "nbformat_minor": 1
}
