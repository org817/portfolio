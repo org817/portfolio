{
 "cells": [
  {
   "cell_type": "code",
   "execution_count": 12,
   "metadata": {
    "collapsed": true
   },
   "outputs": [],
   "source": [
    "%matplotlib inline\n",
    "import pandas as pd\n",
    "import numpy as np\n",
    "import matplotlib.pyplot as plt\n",
    "import matplotlib.pylab as pylab\n",
    "import statsmodels.api as sm\n",
    "import statsmodels.stats.contingency_tables as tables\n",
    "import statsmodels.stats.api as sms\n",
    "import statsmodels.stats as stats"
   ]
  },
  {
   "cell_type": "code",
   "execution_count": 13,
   "metadata": {
    "collapsed": false,
    "scrolled": false
   },
   "outputs": [
    {
     "data": {
      "text/html": [
       "<div>\n",
       "<table border=\"1\" class=\"dataframe\">\n",
       "  <thead>\n",
       "    <tr style=\"text-align: right;\">\n",
       "      <th></th>\n",
       "      <th>ID</th>\n",
       "      <th>X1</th>\n",
       "      <th>X2</th>\n",
       "      <th>X3</th>\n",
       "      <th>X4</th>\n",
       "      <th>X5</th>\n",
       "      <th>X6</th>\n",
       "      <th>X7</th>\n",
       "      <th>X8</th>\n",
       "      <th>X9</th>\n",
       "      <th>...</th>\n",
       "      <th>X14</th>\n",
       "      <th>X15</th>\n",
       "      <th>X16</th>\n",
       "      <th>X17</th>\n",
       "      <th>X18</th>\n",
       "      <th>X19</th>\n",
       "      <th>X20</th>\n",
       "      <th>X21</th>\n",
       "      <th>X22</th>\n",
       "      <th>X23</th>\n",
       "    </tr>\n",
       "  </thead>\n",
       "  <tbody>\n",
       "    <tr>\n",
       "      <th>0</th>\n",
       "      <td>1</td>\n",
       "      <td>2</td>\n",
       "      <td>0</td>\n",
       "      <td>1</td>\n",
       "      <td>1</td>\n",
       "      <td>1</td>\n",
       "      <td>8.5</td>\n",
       "      <td>3.9</td>\n",
       "      <td>2.5</td>\n",
       "      <td>5.9</td>\n",
       "      <td>...</td>\n",
       "      <td>4.7</td>\n",
       "      <td>4.3</td>\n",
       "      <td>5.0</td>\n",
       "      <td>5.1</td>\n",
       "      <td>3.7</td>\n",
       "      <td>8.2</td>\n",
       "      <td>8.0</td>\n",
       "      <td>8.4</td>\n",
       "      <td>65.1</td>\n",
       "      <td>1</td>\n",
       "    </tr>\n",
       "    <tr>\n",
       "      <th>1</th>\n",
       "      <td>2</td>\n",
       "      <td>3</td>\n",
       "      <td>1</td>\n",
       "      <td>0</td>\n",
       "      <td>0</td>\n",
       "      <td>0</td>\n",
       "      <td>8.2</td>\n",
       "      <td>2.7</td>\n",
       "      <td>5.1</td>\n",
       "      <td>7.2</td>\n",
       "      <td>...</td>\n",
       "      <td>5.5</td>\n",
       "      <td>4.0</td>\n",
       "      <td>3.9</td>\n",
       "      <td>4.3</td>\n",
       "      <td>4.9</td>\n",
       "      <td>5.7</td>\n",
       "      <td>6.5</td>\n",
       "      <td>7.5</td>\n",
       "      <td>67.1</td>\n",
       "      <td>0</td>\n",
       "    </tr>\n",
       "    <tr>\n",
       "      <th>2</th>\n",
       "      <td>3</td>\n",
       "      <td>3</td>\n",
       "      <td>0</td>\n",
       "      <td>1</td>\n",
       "      <td>1</td>\n",
       "      <td>1</td>\n",
       "      <td>9.2</td>\n",
       "      <td>3.4</td>\n",
       "      <td>5.6</td>\n",
       "      <td>5.6</td>\n",
       "      <td>...</td>\n",
       "      <td>6.2</td>\n",
       "      <td>4.6</td>\n",
       "      <td>5.4</td>\n",
       "      <td>4.0</td>\n",
       "      <td>4.5</td>\n",
       "      <td>8.9</td>\n",
       "      <td>8.4</td>\n",
       "      <td>9.0</td>\n",
       "      <td>72.1</td>\n",
       "      <td>1</td>\n",
       "    </tr>\n",
       "    <tr>\n",
       "      <th>3</th>\n",
       "      <td>4</td>\n",
       "      <td>1</td>\n",
       "      <td>1</td>\n",
       "      <td>1</td>\n",
       "      <td>1</td>\n",
       "      <td>0</td>\n",
       "      <td>6.4</td>\n",
       "      <td>3.3</td>\n",
       "      <td>7.0</td>\n",
       "      <td>3.7</td>\n",
       "      <td>...</td>\n",
       "      <td>7.0</td>\n",
       "      <td>3.6</td>\n",
       "      <td>4.3</td>\n",
       "      <td>4.1</td>\n",
       "      <td>3.0</td>\n",
       "      <td>4.8</td>\n",
       "      <td>6.0</td>\n",
       "      <td>7.2</td>\n",
       "      <td>40.1</td>\n",
       "      <td>0</td>\n",
       "    </tr>\n",
       "    <tr>\n",
       "      <th>4</th>\n",
       "      <td>5</td>\n",
       "      <td>2</td>\n",
       "      <td>0</td>\n",
       "      <td>1</td>\n",
       "      <td>0</td>\n",
       "      <td>1</td>\n",
       "      <td>9.0</td>\n",
       "      <td>3.4</td>\n",
       "      <td>5.2</td>\n",
       "      <td>4.6</td>\n",
       "      <td>...</td>\n",
       "      <td>6.1</td>\n",
       "      <td>4.5</td>\n",
       "      <td>4.5</td>\n",
       "      <td>3.5</td>\n",
       "      <td>3.5</td>\n",
       "      <td>7.1</td>\n",
       "      <td>6.6</td>\n",
       "      <td>9.0</td>\n",
       "      <td>57.1</td>\n",
       "      <td>0</td>\n",
       "    </tr>\n",
       "  </tbody>\n",
       "</table>\n",
       "<p>5 rows × 24 columns</p>\n",
       "</div>"
      ],
      "text/plain": [
       "   ID  X1  X2  X3  X4  X5   X6   X7   X8   X9 ...   X14  X15  X16  X17  X18  \\\n",
       "0   1   2   0   1   1   1  8.5  3.9  2.5  5.9 ...   4.7  4.3  5.0  5.1  3.7   \n",
       "1   2   3   1   0   0   0  8.2  2.7  5.1  7.2 ...   5.5  4.0  3.9  4.3  4.9   \n",
       "2   3   3   0   1   1   1  9.2  3.4  5.6  5.6 ...   6.2  4.6  5.4  4.0  4.5   \n",
       "3   4   1   1   1   1   0  6.4  3.3  7.0  3.7 ...   7.0  3.6  4.3  4.1  3.0   \n",
       "4   5   2   0   1   0   1  9.0  3.4  5.2  4.6 ...   6.1  4.5  4.5  3.5  3.5   \n",
       "\n",
       "   X19  X20  X21   X22  X23  \n",
       "0  8.2  8.0  8.4  65.1    1  \n",
       "1  5.7  6.5  7.5  67.1    0  \n",
       "2  8.9  8.4  9.0  72.1    1  \n",
       "3  4.8  6.0  7.2  40.1    0  \n",
       "4  7.1  6.6  9.0  57.1    0  \n",
       "\n",
       "[5 rows x 24 columns]"
      ]
     },
     "execution_count": 13,
     "metadata": {},
     "output_type": "execute_result"
    }
   ],
   "source": [
    "hbat = pd.read_excel('dataset/hbat_200.xlsx', encoding='utf-8')\n",
    "hbat.head()"
   ]
  },
  {
   "cell_type": "code",
   "execution_count": 14,
   "metadata": {
    "collapsed": true
   },
   "outputs": [],
   "source": [
    "hbat['X1'] = hbat['X1'] - 1"
   ]
  },
  {
   "cell_type": "code",
   "execution_count": 31,
   "metadata": {
    "collapsed": false,
    "scrolled": false
   },
   "outputs": [
    {
     "name": "stdout",
     "output_type": "stream",
     "text": [
      "Optimization terminated successfully.\n",
      "         Current function value: 0.460802\n",
      "         Iterations 6\n"
     ]
    },
    {
     "name": "stderr",
     "output_type": "stream",
     "text": [
      "C:\\Users\\Rocku\\Anaconda64\\lib\\site-packages\\pandas\\core\\frame.py:2754: SettingWithCopyWarning: \n",
      "A value is trying to be set on a copy of a slice from a DataFrame\n",
      "\n",
      "See the caveats in the documentation: http://pandas.pydata.org/pandas-docs/stable/indexing.html#indexing-view-versus-copy\n",
      "  **kwargs)\n"
     ]
    },
    {
     "data": {
      "text/html": [
       "<table class=\"simpletable\">\n",
       "<caption>Logit Regression Results</caption>\n",
       "<tr>\n",
       "  <th>Dep. Variable:</th>        <td>X23</td>       <th>  No. Observations:  </th>  <td>   200</td>  \n",
       "</tr>\n",
       "<tr>\n",
       "  <th>Model:</th>               <td>Logit</td>      <th>  Df Residuals:      </th>  <td>   194</td>  \n",
       "</tr>\n",
       "<tr>\n",
       "  <th>Method:</th>               <td>MLE</td>       <th>  Df Model:          </th>  <td>     5</td>  \n",
       "</tr>\n",
       "<tr>\n",
       "  <th>Date:</th>          <td>Wed, 25 Oct 2017</td> <th>  Pseudo R-squ.:     </th>  <td>0.3256</td>  \n",
       "</tr>\n",
       "<tr>\n",
       "  <th>Time:</th>              <td>16:51:07</td>     <th>  Log-Likelihood:    </th> <td> -92.160</td> \n",
       "</tr>\n",
       "<tr>\n",
       "  <th>converged:</th>           <td>True</td>       <th>  LL-Null:           </th> <td> -136.66</td> \n",
       "</tr>\n",
       "<tr>\n",
       "  <th> </th>                      <td> </td>        <th>  LLR p-value:       </th> <td>1.087e-17</td>\n",
       "</tr>\n",
       "</table>\n",
       "<table class=\"simpletable\">\n",
       "<tr>\n",
       "           <td></td>              <th>coef</th>     <th>std err</th>      <th>z</th>      <th>P>|z|</th>  <th>[0.025</th>    <th>0.975]</th>  \n",
       "</tr>\n",
       "<tr>\n",
       "  <th>const</th>               <td>   -6.7013</td> <td>    1.352</td> <td>   -4.956</td> <td> 0.000</td> <td>   -9.351</td> <td>   -4.051</td>\n",
       "</tr>\n",
       "<tr>\n",
       "  <th>Customer_Type</th>       <td>    1.6538</td> <td>    0.276</td> <td>    6.001</td> <td> 0.000</td> <td>    1.114</td> <td>    2.194</td>\n",
       "</tr>\n",
       "<tr>\n",
       "  <th>Distribution_System</th> <td>    0.9396</td> <td>    0.371</td> <td>    2.530</td> <td> 0.011</td> <td>    0.212</td> <td>    1.667</td>\n",
       "</tr>\n",
       "<tr>\n",
       "  <th>E-Commerce</th>          <td>    1.1089</td> <td>    0.316</td> <td>    3.507</td> <td> 0.000</td> <td>    0.489</td> <td>    1.729</td>\n",
       "</tr>\n",
       "<tr>\n",
       "  <th>Advertising</th>         <td>   -0.0601</td> <td>    0.186</td> <td>   -0.324</td> <td> 0.746</td> <td>   -0.424</td> <td>    0.304</td>\n",
       "</tr>\n",
       "<tr>\n",
       "  <th>New_Products</th>        <td>    0.0493</td> <td>    0.130</td> <td>    0.378</td> <td> 0.705</td> <td>   -0.206</td> <td>    0.305</td>\n",
       "</tr>\n",
       "</table>"
      ],
      "text/plain": [
       "<class 'statsmodels.iolib.summary.Summary'>\n",
       "\"\"\"\n",
       "                           Logit Regression Results                           \n",
       "==============================================================================\n",
       "Dep. Variable:                    X23   No. Observations:                  200\n",
       "Model:                          Logit   Df Residuals:                      194\n",
       "Method:                           MLE   Df Model:                            5\n",
       "Date:                Wed, 25 Oct 2017   Pseudo R-squ.:                  0.3256\n",
       "Time:                        16:51:07   Log-Likelihood:                -92.160\n",
       "converged:                       True   LL-Null:                       -136.66\n",
       "                                        LLR p-value:                 1.087e-17\n",
       "=======================================================================================\n",
       "                          coef    std err          z      P>|z|      [0.025      0.975]\n",
       "---------------------------------------------------------------------------------------\n",
       "const                  -6.7013      1.352     -4.956      0.000      -9.351      -4.051\n",
       "Customer_Type           1.6538      0.276      6.001      0.000       1.114       2.194\n",
       "Distribution_System     0.9396      0.371      2.530      0.011       0.212       1.667\n",
       "E-Commerce              1.1089      0.316      3.507      0.000       0.489       1.729\n",
       "Advertising            -0.0601      0.186     -0.324      0.746      -0.424       0.304\n",
       "New_Products            0.0493      0.130      0.378      0.705      -0.206       0.305\n",
       "=======================================================================================\n",
       "\"\"\""
      ]
     },
     "execution_count": 31,
     "metadata": {},
     "output_type": "execute_result"
    }
   ],
   "source": [
    "X = hbat[['X1','X5','X7','X10','X15']]\n",
    "X.rename(columns={'X1':'Customer_Type',\n",
    "                  'X5':'Distribution_System',\n",
    "                  'X7':'E-Commerce',\n",
    "                  'X10':'Advertising',\n",
    "                  'X15':'New_Products' }, inplace=True)\n",
    "\n",
    "X = sm.add_constant(X)\n",
    "y = hbat[['X23']]\n",
    "\n",
    "# Data Warehouse Classification Variables\n",
    "# X1 : Customer Type Non-metric\n",
    "# X5 : Distribution System Non-metric\n",
    "\n",
    "# Performance Perceptions Variables\n",
    "# X7 E-Commerce Activities/Website metric\n",
    "# X10 Advertising metric\n",
    "# X15 New Products metric\n",
    "\n",
    "model = sm.Logit(y, X).fit()\n",
    "# model = sm.GLM(y, X, family=sm.families.Binomial()).fit()\n",
    "\n",
    "# predictions = model.predict(X) # make the predictions by the model\n",
    "model.summary()"
   ]
  },
  {
   "cell_type": "code",
   "execution_count": 16,
   "metadata": {
    "collapsed": false
   },
   "outputs": [
    {
     "data": {
      "text/plain": [
       "0.92623505459343236"
      ]
     },
     "execution_count": 16,
     "metadata": {},
     "output_type": "execute_result"
    }
   ],
   "source": [
    "model.deviance/1model."
   ]
  },
  {
   "cell_type": "code",
   "execution_count": 32,
   "metadata": {
    "collapsed": false,
    "scrolled": true
   },
   "outputs": [
    {
     "data": {
      "text/plain": [
       "196.32077586409301"
      ]
     },
     "execution_count": 32,
     "metadata": {},
     "output_type": "execute_result"
    }
   ],
   "source": [
    "model.aic"
   ]
  },
  {
   "cell_type": "code",
   "execution_count": 18,
   "metadata": {
    "collapsed": false
   },
   "outputs": [
    {
     "data": {
      "text/plain": [
       "0.3256256402751354"
      ]
     },
     "execution_count": 18,
     "metadata": {},
     "output_type": "execute_result"
    }
   ],
   "source": [
    "1-(92.160/136.66)"
   ]
  },
  {
   "cell_type": "code",
   "execution_count": 19,
   "metadata": {
    "collapsed": false
   },
   "outputs": [],
   "source": [
    "parameter = np.exp(model.params)\n",
    "ci = np.exp(model.conf_int())"
   ]
  },
  {
   "cell_type": "code",
   "execution_count": 20,
   "metadata": {
    "collapsed": false
   },
   "outputs": [
    {
     "data": {
      "text/html": [
       "<div>\n",
       "<table border=\"1\" class=\"dataframe\">\n",
       "  <thead>\n",
       "    <tr style=\"text-align: right;\">\n",
       "      <th></th>\n",
       "      <th>0</th>\n",
       "      <th>1</th>\n",
       "      <th>coef</th>\n",
       "    </tr>\n",
       "  </thead>\n",
       "  <tbody>\n",
       "    <tr>\n",
       "      <th>const</th>\n",
       "      <td>0.000087</td>\n",
       "      <td>0.017401</td>\n",
       "      <td>0.001229</td>\n",
       "    </tr>\n",
       "    <tr>\n",
       "      <th>Customer_Type</th>\n",
       "      <td>3.045628</td>\n",
       "      <td>8.970346</td>\n",
       "      <td>5.226886</td>\n",
       "    </tr>\n",
       "    <tr>\n",
       "      <th>Distribution_System</th>\n",
       "      <td>1.235790</td>\n",
       "      <td>5.298648</td>\n",
       "      <td>2.558909</td>\n",
       "    </tr>\n",
       "    <tr>\n",
       "      <th>E-Commerce</th>\n",
       "      <td>1.630846</td>\n",
       "      <td>5.633508</td>\n",
       "      <td>3.031070</td>\n",
       "    </tr>\n",
       "    <tr>\n",
       "      <th>Advertising</th>\n",
       "      <td>0.654441</td>\n",
       "      <td>1.355036</td>\n",
       "      <td>0.941696</td>\n",
       "    </tr>\n",
       "    <tr>\n",
       "      <th>New_Products</th>\n",
       "      <td>0.813732</td>\n",
       "      <td>1.356330</td>\n",
       "      <td>1.050566</td>\n",
       "    </tr>\n",
       "  </tbody>\n",
       "</table>\n",
       "</div>"
      ],
      "text/plain": [
       "                            0         1      coef\n",
       "const                0.000087  0.017401  0.001229\n",
       "Customer_Type        3.045628  8.970346  5.226886\n",
       "Distribution_System  1.235790  5.298648  2.558909\n",
       "E-Commerce           1.630846  5.633508  3.031070\n",
       "Advertising          0.654441  1.355036  0.941696\n",
       "New_Products         0.813732  1.356330  1.050566"
      ]
     },
     "execution_count": 20,
     "metadata": {},
     "output_type": "execute_result"
    }
   ],
   "source": [
    "ci['coef'] = parameter\n",
    "ci"
   ]
  },
  {
   "cell_type": "code",
   "execution_count": 21,
   "metadata": {
    "collapsed": false
   },
   "outputs": [
    {
     "data": {
      "text/plain": [
       "184.32077586409298"
      ]
     },
     "execution_count": 21,
     "metadata": {},
     "output_type": "execute_result"
    }
   ],
   "source": [
    "model.llf * -2"
   ]
  },
  {
   "cell_type": "code",
   "execution_count": 22,
   "metadata": {
    "collapsed": true
   },
   "outputs": [],
   "source": [
    "pred = model.predict(X)"
   ]
  },
  {
   "cell_type": "code",
   "execution_count": 23,
   "metadata": {
    "collapsed": false
   },
   "outputs": [
    {
     "data": {
      "text/plain": [
       "<matplotlib.collections.PathCollection at 0xb2a7ed4cf8>"
      ]
     },
     "execution_count": 23,
     "metadata": {},
     "output_type": "execute_result"
    },
    {
     "data": {
      "image/png": "[encoded data removed]",
      "text/plain": [
       "<matplotlib.figure.Figure at 0xb2a6ea6f98>"
      ]
     },
     "metadata": {},
     "output_type": "display_data"
    }
   ],
   "source": [
    "plt.hold()\n",
    "plt.scatter(pred, y)"
   ]
  },
  {
   "cell_type": "code",
   "execution_count": 33,
   "metadata": {
    "collapsed": false
   },
   "outputs": [
    {
     "name": "stderr",
     "output_type": "stream",
     "text": [
      "C:\\Users\\Rocku\\Anaconda64\\lib\\site-packages\\pandas\\core\\frame.py:2754: SettingWithCopyWarning: \n",
      "A value is trying to be set on a copy of a slice from a DataFrame\n",
      "\n",
      "See the caveats in the documentation: http://pandas.pydata.org/pandas-docs/stable/indexing.html#indexing-view-versus-copy\n",
      "  **kwargs)\n"
     ]
    },
    {
     "data": {
      "text/html": [
       "<table class=\"simpletable\">\n",
       "<caption>Generalized Linear Model Regression Results</caption>\n",
       "<tr>\n",
       "  <th>Dep. Variable:</th>         <td>X23</td>       <th>  No. Observations:  </th>  <td>   200</td> \n",
       "</tr>\n",
       "<tr>\n",
       "  <th>Model:</th>                 <td>GLM</td>       <th>  Df Residuals:      </th>  <td>   193</td> \n",
       "</tr>\n",
       "<tr>\n",
       "  <th>Model Family:</th>       <td>Binomial</td>     <th>  Df Model:          </th>  <td>     6</td> \n",
       "</tr>\n",
       "<tr>\n",
       "  <th>Link Function:</th>        <td>logit</td>      <th>  Scale:             </th>    <td>1.0</td>  \n",
       "</tr>\n",
       "<tr>\n",
       "  <th>Method:</th>               <td>IRLS</td>       <th>  Log-Likelihood:    </th> <td> -86.789</td>\n",
       "</tr>\n",
       "<tr>\n",
       "  <th>Date:</th>           <td>Wed, 25 Oct 2017</td> <th>  Deviance:          </th> <td>  173.58</td>\n",
       "</tr>\n",
       "<tr>\n",
       "  <th>Time:</th>               <td>16:51:19</td>     <th>  Pearson chi2:      </th>  <td>  182.</td> \n",
       "</tr>\n",
       "<tr>\n",
       "  <th>No. Iterations:</th>         <td>6</td>        <th>                     </th>     <td> </td>   \n",
       "</tr>\n",
       "</table>\n",
       "<table class=\"simpletable\">\n",
       "<tr>\n",
       "           <td></td>              <th>coef</th>     <th>std err</th>      <th>z</th>      <th>P>|z|</th>  <th>[0.025</th>    <th>0.975]</th>  \n",
       "</tr>\n",
       "<tr>\n",
       "  <th>const</th>               <td>   -9.1187</td> <td>    1.715</td> <td>   -5.318</td> <td> 0.000</td> <td>  -12.480</td> <td>   -5.758</td>\n",
       "</tr>\n",
       "<tr>\n",
       "  <th>Customer_Type</th>       <td>    1.8995</td> <td>    0.313</td> <td>    6.067</td> <td> 0.000</td> <td>    1.286</td> <td>    2.513</td>\n",
       "</tr>\n",
       "<tr>\n",
       "  <th>Distribution_System</th> <td>    1.4603</td> <td>    0.426</td> <td>    3.426</td> <td> 0.001</td> <td>    0.625</td> <td>    2.296</td>\n",
       "</tr>\n",
       "<tr>\n",
       "  <th>E-Commerce</th>          <td>    1.0579</td> <td>    0.333</td> <td>    3.175</td> <td> 0.001</td> <td>    0.405</td> <td>    1.711</td>\n",
       "</tr>\n",
       "<tr>\n",
       "  <th>Advertising</th>         <td>   -0.1970</td> <td>    0.195</td> <td>   -1.008</td> <td> 0.314</td> <td>   -0.580</td> <td>    0.186</td>\n",
       "</tr>\n",
       "<tr>\n",
       "  <th>New_Products</th>        <td>    0.0384</td> <td>    0.135</td> <td>    0.285</td> <td> 0.776</td> <td>   -0.226</td> <td>    0.303</td>\n",
       "</tr>\n",
       "<tr>\n",
       "  <th>Price_Flexibility</th>   <td>    0.5804</td> <td>    0.185</td> <td>    3.136</td> <td> 0.002</td> <td>    0.218</td> <td>    0.943</td>\n",
       "</tr>\n",
       "</table>"
      ],
      "text/plain": [
       "<class 'statsmodels.iolib.summary.Summary'>\n",
       "\"\"\"\n",
       "                 Generalized Linear Model Regression Results                  \n",
       "==============================================================================\n",
       "Dep. Variable:                    X23   No. Observations:                  200\n",
       "Model:                            GLM   Df Residuals:                      193\n",
       "Model Family:                Binomial   Df Model:                            6\n",
       "Link Function:                  logit   Scale:                             1.0\n",
       "Method:                          IRLS   Log-Likelihood:                -86.789\n",
       "Date:                Wed, 25 Oct 2017   Deviance:                       173.58\n",
       "Time:                        16:51:19   Pearson chi2:                     182.\n",
       "No. Iterations:                     6                                         \n",
       "=======================================================================================\n",
       "                          coef    std err          z      P>|z|      [0.025      0.975]\n",
       "---------------------------------------------------------------------------------------\n",
       "const                  -9.1187      1.715     -5.318      0.000     -12.480      -5.758\n",
       "Customer_Type           1.8995      0.313      6.067      0.000       1.286       2.513\n",
       "Distribution_System     1.4603      0.426      3.426      0.001       0.625       2.296\n",
       "E-Commerce              1.0579      0.333      3.175      0.001       0.405       1.711\n",
       "Advertising            -0.1970      0.195     -1.008      0.314      -0.580       0.186\n",
       "New_Products            0.0384      0.135      0.285      0.776      -0.226       0.303\n",
       "Price_Flexibility       0.5804      0.185      3.136      0.002       0.218       0.943\n",
       "=======================================================================================\n",
       "\"\"\""
      ]
     },
     "execution_count": 33,
     "metadata": {},
     "output_type": "execute_result"
    }
   ],
   "source": [
    "X = hbat[['X1','X5','X7','X10','X15','X17']]\n",
    "X.rename(columns={'X1':'Customer_Type',\n",
    "                  'X5':'Distribution_System',\n",
    "                  'X7':'E-Commerce',\n",
    "                  'X10':'Advertising',\n",
    "                  'X15':'New_Products',\n",
    "                  'X17': 'Price_Flexibility'}, inplace=True)\n",
    "\n",
    "X = sm.add_constant(X)\n",
    "y = hbat[['X23']]\n",
    "# Data Warehouse Classification Variables\n",
    "# X1 : Customer Type Non-metric\n",
    "# X5 : Distribution System Non-metric\n",
    "\n",
    "# Performance Perceptions Variables\n",
    "# X7 E-Commerce Activities/Website metric\n",
    "# X10 Advertising metric\n",
    "# X15 New Products metric\n",
    "\n",
    "# model = sm.Logit(y, X).fit()\n",
    "model = sm.GLM(y, X, family=sm.families.Binomial()).fit()\n",
    "\n",
    "# predictions = model.predict(X) # make the predictions by the model\n",
    "model.summary()"
   ]
  },
  {
   "cell_type": "code",
   "execution_count": 34,
   "metadata": {
    "collapsed": false
   },
   "outputs": [
    {
     "data": {
      "text/plain": [
       "187.57815420694999"
      ]
     },
     "execution_count": 34,
     "metadata": {},
     "output_type": "execute_result"
    }
   ],
   "source": [
    "model.aic"
   ]
  },
  {
   "cell_type": "code",
   "execution_count": 26,
   "metadata": {
    "collapsed": false
   },
   "outputs": [],
   "source": [
    "parameter = np.exp(model.params)\n",
    "ci = np.exp(model.conf_int())"
   ]
  },
  {
   "cell_type": "code",
   "execution_count": 27,
   "metadata": {
    "collapsed": false
   },
   "outputs": [
    {
     "data": {
      "text/html": [
       "<div>\n",
       "<table border=\"1\" class=\"dataframe\">\n",
       "  <thead>\n",
       "    <tr style=\"text-align: right;\">\n",
       "      <th></th>\n",
       "      <th>0</th>\n",
       "      <th>1</th>\n",
       "      <th>coef</th>\n",
       "    </tr>\n",
       "  </thead>\n",
       "  <tbody>\n",
       "    <tr>\n",
       "      <th>const</th>\n",
       "      <td>0.000004</td>\n",
       "      <td>0.003158</td>\n",
       "      <td>0.000110</td>\n",
       "    </tr>\n",
       "    <tr>\n",
       "      <th>Customer_Type</th>\n",
       "      <td>3.617699</td>\n",
       "      <td>12.344453</td>\n",
       "      <td>6.682703</td>\n",
       "    </tr>\n",
       "    <tr>\n",
       "      <th>Distribution_System</th>\n",
       "      <td>1.867938</td>\n",
       "      <td>9.931613</td>\n",
       "      <td>4.307161</td>\n",
       "    </tr>\n",
       "    <tr>\n",
       "      <th>E-Commerce</th>\n",
       "      <td>1.498975</td>\n",
       "      <td>5.534338</td>\n",
       "      <td>2.880249</td>\n",
       "    </tr>\n",
       "    <tr>\n",
       "      <th>Advertising</th>\n",
       "      <td>0.559812</td>\n",
       "      <td>1.204646</td>\n",
       "      <td>0.821203</td>\n",
       "    </tr>\n",
       "    <tr>\n",
       "      <th>New_Products</th>\n",
       "      <td>0.797750</td>\n",
       "      <td>1.353678</td>\n",
       "      <td>1.039181</td>\n",
       "    </tr>\n",
       "    <tr>\n",
       "      <th>Price_Flexibility</th>\n",
       "      <td>1.243151</td>\n",
       "      <td>2.568075</td>\n",
       "      <td>1.786758</td>\n",
       "    </tr>\n",
       "  </tbody>\n",
       "</table>\n",
       "</div>"
      ],
      "text/plain": [
       "                            0          1      coef\n",
       "const                0.000004   0.003158  0.000110\n",
       "Customer_Type        3.617699  12.344453  6.682703\n",
       "Distribution_System  1.867938   9.931613  4.307161\n",
       "E-Commerce           1.498975   5.534338  2.880249\n",
       "Advertising          0.559812   1.204646  0.821203\n",
       "New_Products         0.797750   1.353678  1.039181\n",
       "Price_Flexibility    1.243151   2.568075  1.786758"
      ]
     },
     "execution_count": 27,
     "metadata": {},
     "output_type": "execute_result"
    }
   ],
   "source": [
    "ci['coef'] = parameter\n",
    "ci"
   ]
  },
  {
   "cell_type": "code",
   "execution_count": 28,
   "metadata": {
    "collapsed": false
   },
   "outputs": [
    {
     "data": {
      "text/plain": [
       "173.57815420694999"
      ]
     },
     "execution_count": 28,
     "metadata": {},
     "output_type": "execute_result"
    }
   ],
   "source": [
    "model.llf * -2"
   ]
  },
  {
   "cell_type": "code",
   "execution_count": 35,
   "metadata": {
    "collapsed": false
   },
   "outputs": [
    {
     "data": {
      "text/plain": [
       "0.89936867464740922"
      ]
     },
     "execution_count": 35,
     "metadata": {},
     "output_type": "execute_result"
    }
   ],
   "source": [
    "model.deviance/model.df_resid"
   ]
  },
  {
   "cell_type": "code",
   "execution_count": 30,
   "metadata": {
    "collapsed": false
   },
   "outputs": [
    {
     "data": {
      "text/plain": [
       "193"
      ]
     },
     "execution_count": 30,
     "metadata": {},
     "output_type": "execute_result"
    }
   ],
   "source": [
    "model.df_resid"
   ]
  }
 ],
 "metadata": {
  "anaconda-cloud": {},
  "kernelspec": {
   "display_name": "Python [conda root]",
   "language": "python",
   "name": "conda-root-py"
  },
  "language_info": {
   "codemirror_mode": {
    "name": "ipython",
    "version": 3
   },
   "file_extension": ".py",
   "mimetype": "text/x-python",
   "name": "python",
   "nbconvert_exporter": "python",
   "pygments_lexer": "ipython3",
   "version": "3.5.2"
  }
 },
 "nbformat": 4,
 "nbformat_minor": 1
}
