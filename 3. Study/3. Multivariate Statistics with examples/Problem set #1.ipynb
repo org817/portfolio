{
 "cells": [
  {
   "cell_type": "markdown",
   "metadata": {},
   "source": [
    "# Assignment #1\n",
    "\n",
    "Run a two-way ANOVA with the advertising dataset. Factor 1 is day of week (Monday through Friday). Factor 2 is section of newspaper (news, business, sports).\n",
    "1.\tWhat are the hypotheses?\n",
    "2.\tInterpret the main effects and interaction effect.\n",
    "3.\tDraw a plot of the interaction effect.\n",
    "\n",
    "Run a simple linear regression with the demand dataset. X is price difference and Y is demand. \n",
    "1.\tWhat is the R2? Interpret R2.\n",
    "2.\tInterpret the F-statistics.\n",
    "3.\tInterpret the parameter estimates (constant and slope).\n",
    "4.\tWhat is the regression equation?\n",
    "5.\tWhat is the predicted value for x=0?\n",
    "\n"
   ]
  },
  {
   "cell_type": "code",
   "execution_count": 2,
   "metadata": {
    "collapsed": true
   },
   "outputs": [],
   "source": [
    "%matplotlib inline\n",
    "import pandas as pd\n",
    "import numpy as np\n",
    "import matplotlib.pyplot as plt\n",
    "import matplotlib.pylab as pylab\n",
    "import statsmodels.api as sm\n",
    "import statsmodels.graphics.factorplots as graphs"
   ]
  },
  {
   "cell_type": "markdown",
   "metadata": {},
   "source": [
    "# Problem #1"
   ]
  },
  {
   "cell_type": "code",
   "execution_count": 3,
   "metadata": {
    "collapsed": true
   },
   "outputs": [],
   "source": [
    "advertising = pd.read_excel('assignment1/advertising.xls', columns=0)"
   ]
  },
  {
   "cell_type": "code",
   "execution_count": 4,
   "metadata": {
    "collapsed": false
   },
   "outputs": [],
   "source": [
    "advertising['Day'] = advertising['Day'].ffill()"
   ]
  },
  {
   "cell_type": "code",
   "execution_count": 5,
   "metadata": {
    "collapsed": false
   },
   "outputs": [],
   "source": [
    "news = advertising.loc[:,['Day','News']]\n",
    "news['Section'] = 'News'\n",
    "news['Amount'] = news['News']\n",
    "news = news.drop('News', axis=1)"
   ]
  },
  {
   "cell_type": "code",
   "execution_count": 6,
   "metadata": {
    "collapsed": false
   },
   "outputs": [],
   "source": [
    "business = advertising.loc[:,['Day','Business']]\n",
    "business['Section'] = 'Business'\n",
    "business['Amount'] = business['Business']\n",
    "business = business.drop('Business', axis=1)\n",
    "\n",
    "sports = advertising.loc[:,['Day','Sports']]\n",
    "sports['Section'] = 'Sports'\n",
    "sports['Amount'] = sports['Sports']\n",
    "sports = sports.drop('Sports', axis=1)"
   ]
  },
  {
   "cell_type": "code",
   "execution_count": 7,
   "metadata": {
    "collapsed": false,
    "scrolled": true
   },
   "outputs": [],
   "source": [
    "data = pd.concat([news, business, sports])\n",
    "data.reset_index(inplace=True, drop=True)\n",
    "\n",
    "data.loc[data['Day'] == 'Monday', 'Day'] = 1\n",
    "data.loc[data['Day'] == 'Tuesday', 'Day'] = 2\n",
    "data.loc[data['Day'] == 'Wednesday', 'Day'] = 3\n",
    "data.loc[data['Day'] == 'Thrusday', 'Day'] = 4\n",
    "data.loc[data['Day'] == 'Friday', 'Day'] = 5\n",
    "\n",
    "# data.sort_values('Day', ascending=True)"
   ]
  },
  {
   "cell_type": "code",
   "execution_count": 8,
   "metadata": {
    "collapsed": true
   },
   "outputs": [],
   "source": [
    "data.loc[data['Section'] == 'News', 'Section'] = 1\n",
    "data.loc[data['Section'] == 'Sports', 'Section'] = 2\n",
    "data.loc[data['Section'] == 'Business', 'Section'] = 3"
   ]
  },
  {
   "cell_type": "code",
   "execution_count": 9,
   "metadata": {
    "collapsed": false
   },
   "outputs": [
    {
     "data": {
      "text/plain": [
       "<matplotlib.text.Text at 0x95407b0>"
      ]
     },
     "execution_count": 9,
     "metadata": {},
     "output_type": "execute_result"
    },
    {
     "data": {
      "image/png": "[encoded data removed]",
      "text/plain": [
       "<matplotlib.figure.Figure at 0x95103f0>"
      ]
     },
     "metadata": {},
     "output_type": "display_data"
    }
   ],
   "source": [
    "plt.scatter(data['Day'], data['Amount'])\n",
    "pylab.xlabel('Day')\n",
    "pylab.ylabel('Amount of advertisement')"
   ]
  },
  {
   "cell_type": "code",
   "execution_count": 10,
   "metadata": {
    "collapsed": false
   },
   "outputs": [
    {
     "data": {
      "text/plain": [
       "<matplotlib.text.Text at 0x96662d0>"
      ]
     },
     "execution_count": 10,
     "metadata": {},
     "output_type": "execute_result"
    },
    {
     "data": {
      "image/png": "[encoded data removed]",
      "text/plain": [
       "<matplotlib.figure.Figure at 0x9560dd0>"
      ]
     },
     "metadata": {},
     "output_type": "display_data"
    }
   ],
   "source": [
    "plt.scatter(data['Section'], data['Amount'])\n",
    "pylab.xlabel('Section')\n",
    "pylab.ylabel('Amount of advertisement')"
   ]
  },
  {
   "cell_type": "markdown",
   "metadata": {},
   "source": [
    "- 1: Monday\n",
    "- 2: Tuesday\n",
    "- 3: Wednesday\n",
    "- 4: Thrusday\n",
    "- 5: Friday"
   ]
  },
  {
   "cell_type": "markdown",
   "metadata": {},
   "source": [
    "```python\n",
    "data.loc[data['Section'] == 'News', 'Section'] = 0\n",
    "data.loc[data['Section'] == 'Sports', 'Section'] = 1\n",
    "data.loc[data['Section'] == 'Business', 'Section'] = 2\n",
    "```"
   ]
  },
  {
   "cell_type": "code",
   "execution_count": 11,
   "metadata": {
    "collapsed": false
   },
   "outputs": [
    {
     "data": {
      "text/html": [
       "<div>\n",
       "<table border=\"1\" class=\"dataframe\">\n",
       "  <thead>\n",
       "    <tr style=\"text-align: right;\">\n",
       "      <th></th>\n",
       "      <th>mean</th>\n",
       "      <th>std</th>\n",
       "    </tr>\n",
       "    <tr>\n",
       "      <th>Section</th>\n",
       "      <th></th>\n",
       "      <th></th>\n",
       "    </tr>\n",
       "  </thead>\n",
       "  <tbody>\n",
       "    <tr>\n",
       "      <th>1</th>\n",
       "      <td>8.9</td>\n",
       "      <td>3.059068</td>\n",
       "    </tr>\n",
       "    <tr>\n",
       "      <th>2</th>\n",
       "      <td>7.0</td>\n",
       "      <td>2.575185</td>\n",
       "    </tr>\n",
       "    <tr>\n",
       "      <th>3</th>\n",
       "      <td>9.1</td>\n",
       "      <td>1.744163</td>\n",
       "    </tr>\n",
       "  </tbody>\n",
       "</table>\n",
       "</div>"
      ],
      "text/plain": [
       "         mean       std\n",
       "Section                \n",
       "1         8.9  3.059068\n",
       "2         7.0  2.575185\n",
       "3         9.1  1.744163"
      ]
     },
     "execution_count": 11,
     "metadata": {},
     "output_type": "execute_result"
    }
   ],
   "source": [
    "data.groupby(by='Section')['Amount'].aggregate(['mean','std'])"
   ]
  },
  {
   "cell_type": "code",
   "execution_count": 12,
   "metadata": {
    "collapsed": false
   },
   "outputs": [],
   "source": [
    "mean_amount_by_day = data.groupby(by='Day')['Amount'].aggregate(['mean','std'])"
   ]
  },
  {
   "cell_type": "code",
   "execution_count": 13,
   "metadata": {
    "collapsed": false
   },
   "outputs": [],
   "source": [
    "import statsmodels\n",
    "import statsmodels.api as sm\n",
    "from statsmodels.formula.api import ols\n",
    "\n",
    "formula = 'Amount ~ C(Day) + C(Section) + C(Day)*C(Section)'\n",
    "model = ols(formula, data).fit()"
   ]
  },
  {
   "cell_type": "code",
   "execution_count": 14,
   "metadata": {
    "collapsed": false,
    "scrolled": false
   },
   "outputs": [],
   "source": [
    "aov_table = statsmodels.stats.anova.anova_lm(model)\n",
    "aov_table.to_csv('p1_result.csv')"
   ]
  },
  {
   "cell_type": "code",
   "execution_count": 34,
   "metadata": {
    "collapsed": false,
    "scrolled": false
   },
   "outputs": [
    {
     "data": {
      "text/plain": [
       "[<matplotlib.lines.Line2D at 0x96c5ff0>]"
      ]
     },
     "execution_count": 34,
     "metadata": {},
     "output_type": "execute_result"
    },
    {
     "data": {
      "image/png": "[encoded data removed]",
      "text/plain": [
       "<matplotlib.figure.Figure at 0xa882210>"
      ]
     },
     "metadata": {},
     "output_type": "display_data"
    }
   ],
   "source": [
    "figure = graphs.interaction_plot(data['Day'], data['Section'], data['Amount'], ms=15)\n",
    "pylab.ylabel('The mean amount of advertisement')\n",
    "plt.hold()\n",
    "pylab.plot(mean_amount_by_day['mean'], 'c-')"
   ]
  },
  {
   "cell_type": "markdown",
   "metadata": {},
   "source": [
    "# Problem #2"
   ]
  },
  {
   "cell_type": "code",
   "execution_count": 47,
   "metadata": {
    "collapsed": true
   },
   "outputs": [],
   "source": [
    "demand = pd.read_excel('assignment1/demand.xlsx', columns=0)"
   ]
  },
  {
   "cell_type": "code",
   "execution_count": 51,
   "metadata": {
    "collapsed": false
   },
   "outputs": [],
   "source": [
    "X = demand['price difference']\n",
    "y = demand['demand']"
   ]
  },
  {
   "cell_type": "code",
   "execution_count": 62,
   "metadata": {
    "collapsed": false
   },
   "outputs": [
    {
     "data": {
      "text/html": [
       "<table class=\"simpletable\">\n",
       "<caption>OLS Regression Results</caption>\n",
       "<tr>\n",
       "  <th>Dep. Variable:</th>         <td>demand</td>      <th>  R-squared:         </th> <td>   0.792</td>\n",
       "</tr>\n",
       "<tr>\n",
       "  <th>Model:</th>                   <td>OLS</td>       <th>  Adj. R-squared:    </th> <td>   0.784</td>\n",
       "</tr>\n",
       "<tr>\n",
       "  <th>Method:</th>             <td>Least Squares</td>  <th>  F-statistic:       </th> <td>   106.3</td>\n",
       "</tr>\n",
       "<tr>\n",
       "  <th>Date:</th>             <td>Wed, 13 Sep 2017</td> <th>  Prob (F-statistic):</th> <td>4.88e-11</td>\n",
       "</tr>\n",
       "<tr>\n",
       "  <th>Time:</th>                 <td>21:33:12</td>     <th>  Log-Likelihood:    </th> <td> -7.0261</td>\n",
       "</tr>\n",
       "<tr>\n",
       "  <th>No. Observations:</th>      <td>    30</td>      <th>  AIC:               </th> <td>   18.05</td>\n",
       "</tr>\n",
       "<tr>\n",
       "  <th>Df Residuals:</th>          <td>    28</td>      <th>  BIC:               </th> <td>   20.85</td>\n",
       "</tr>\n",
       "<tr>\n",
       "  <th>Df Model:</th>              <td>     1</td>      <th>                     </th>     <td> </td>   \n",
       "</tr>\n",
       "<tr>\n",
       "  <th>Covariance Type:</th>      <td>nonrobust</td>    <th>                     </th>     <td> </td>   \n",
       "</tr>\n",
       "</table>\n",
       "<table class=\"simpletable\">\n",
       "<tr>\n",
       "          <td></td>            <th>coef</th>     <th>std err</th>      <th>t</th>      <th>P>|t|</th> <th>[95.0% Conf. Int.]</th> \n",
       "</tr>\n",
       "<tr>\n",
       "  <th>const</th>            <td>    7.8141</td> <td>    0.080</td> <td>   97.818</td> <td> 0.000</td> <td>    7.650     7.978</td>\n",
       "</tr>\n",
       "<tr>\n",
       "  <th>price difference</th> <td>    2.6652</td> <td>    0.258</td> <td>   10.310</td> <td> 0.000</td> <td>    2.136     3.195</td>\n",
       "</tr>\n",
       "</table>\n",
       "<table class=\"simpletable\">\n",
       "<tr>\n",
       "  <th>Omnibus:</th>       <td> 5.481</td> <th>  Durbin-Watson:     </th> <td>   2.414</td>\n",
       "</tr>\n",
       "<tr>\n",
       "  <th>Prob(Omnibus):</th> <td> 0.065</td> <th>  Jarque-Bera (JB):  </th> <td>   4.092</td>\n",
       "</tr>\n",
       "<tr>\n",
       "  <th>Skew:</th>          <td> 0.883</td> <th>  Prob(JB):          </th> <td>   0.129</td>\n",
       "</tr>\n",
       "<tr>\n",
       "  <th>Kurtosis:</th>      <td> 3.391</td> <th>  Cond. No.          </th> <td>    4.69</td>\n",
       "</tr>\n",
       "</table>"
      ],
      "text/plain": [
       "<class 'statsmodels.iolib.summary.Summary'>\n",
       "\"\"\"\n",
       "                            OLS Regression Results                            \n",
       "==============================================================================\n",
       "Dep. Variable:                 demand   R-squared:                       0.792\n",
       "Model:                            OLS   Adj. R-squared:                  0.784\n",
       "Method:                 Least Squares   F-statistic:                     106.3\n",
       "Date:                Wed, 13 Sep 2017   Prob (F-statistic):           4.88e-11\n",
       "Time:                        21:33:12   Log-Likelihood:                -7.0261\n",
       "No. Observations:                  30   AIC:                             18.05\n",
       "Df Residuals:                      28   BIC:                             20.85\n",
       "Df Model:                           1                                         \n",
       "Covariance Type:            nonrobust                                         \n",
       "====================================================================================\n",
       "                       coef    std err          t      P>|t|      [95.0% Conf. Int.]\n",
       "------------------------------------------------------------------------------------\n",
       "const                7.8141      0.080     97.818      0.000         7.650     7.978\n",
       "price difference     2.6652      0.258     10.310      0.000         2.136     3.195\n",
       "==============================================================================\n",
       "Omnibus:                        5.481   Durbin-Watson:                   2.414\n",
       "Prob(Omnibus):                  0.065   Jarque-Bera (JB):                4.092\n",
       "Skew:                           0.883   Prob(JB):                        0.129\n",
       "Kurtosis:                       3.391   Cond. No.                         4.69\n",
       "==============================================================================\n",
       "\n",
       "Warnings:\n",
       "[1] Standard Errors assume that the covariance matrix of the errors is correctly specified.\n",
       "\"\"\""
      ]
     },
     "execution_count": 62,
     "metadata": {},
     "output_type": "execute_result"
    }
   ],
   "source": [
    "X = sm.add_constant(X)\n",
    "model = sm.OLS(y, X).fit()\n",
    "predictions = model.predict(X) # make the predictions by the model\n",
    "\n",
    "# Print out the statistics\n",
    "model.summary()"
   ]
  },
  {
   "cell_type": "code",
   "execution_count": 108,
   "metadata": {
    "collapsed": false
   },
   "outputs": [
    {
     "data": {
      "text/plain": [
       "<matplotlib.legend.Legend at 0xb81bfd0>"
      ]
     },
     "execution_count": 108,
     "metadata": {},
     "output_type": "execute_result"
    },
    {
     "data": {
      "image/png": "[encoded data removed]",
      "text/plain": [
       "<matplotlib.figure.Figure at 0xa72bcd0>"
      ]
     },
     "metadata": {},
     "output_type": "display_data"
    }
   ],
   "source": [
    "plt.hold = True\n",
    "pylab.xlabel('price difference')\n",
    "pylab.ylabel('demand')\n",
    "\n",
    "plt.plot(x,predictions)\n",
    "plt.scatter(x, y)\n",
    "plt.title(\"price differences vs demand\")\n",
    "plt.legend(['predicted','observed demand'], loc=0)\n",
    "# plt.show()"
   ]
  },
  {
   "cell_type": "code",
   "execution_count": null,
   "metadata": {
    "collapsed": true
   },
   "outputs": [],
   "source": []
  }
 ],
 "metadata": {
  "anaconda-cloud": {},
  "kernelspec": {
   "display_name": "Python [default]",
   "language": "python",
   "name": "python3"
  },
  "language_info": {
   "codemirror_mode": {
    "name": "ipython",
    "version": 3
   },
   "file_extension": ".py",
   "mimetype": "text/x-python",
   "name": "python",
   "nbconvert_exporter": "python",
   "pygments_lexer": "ipython3",
   "version": "3.5.2"
  }
 },
 "nbformat": 4,
 "nbformat_minor": 0
}
