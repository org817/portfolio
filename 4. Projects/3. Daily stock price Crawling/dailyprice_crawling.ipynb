{
 "cells": [
  {
   "cell_type": "code",
   "execution_count": 5,
   "metadata": {
    "collapsed": true
   },
   "outputs": [],
   "source": [
    "import pandas as pd\n",
    "import numpy as np\n",
    "import re\n",
    "import requests"
   ]
  },
  {
   "cell_type": "code",
   "execution_count": 6,
   "metadata": {
    "collapsed": true
   },
   "outputs": [],
   "source": [
    "def get_current_prices():\n",
    "    urls = ['http://finance.daum.net/xml/xmlallpanel.daum?stype=P&type=L',\n",
    "            'http://finance.daum.net/xml/xmlallpanel.daum?stype=Q&type=L']\n",
    "\n",
    "    stocks = {}\n",
    "    for url in urls:\n",
    "        text = requests.get(url).text\n",
    "        rep_code = re.compile(\n",
    "            \"code.*:\\\"(.+)\\\",.*name.*:\\\"(.+)\\\",.*cost.*:\\\"(.+)\\\",.*updn.*:\\\"(.+)\\\",.*rate.*:\\\"(.+)\\\"\")\n",
    "\n",
    "        for line in text.splitlines():\n",
    "            try:\n",
    "                match = rep_code.search(line)\n",
    "                code = match.group(1)\n",
    "                name = match.group(2)\n",
    "                price = int(match.group(3).replace(',', ''))\n",
    "                updn = int(match.group(4).replace('▼', '-').replace('▲', '').replace(',', '').replace('&nbsp;', '').replace('↓',''))\n",
    "                rate = float(match.group(5).replace('%', '').replace('+', ''))\n",
    "            except AttributeError:  # No match\n",
    "                continue\n",
    "            stocks[code] = (code, name, price, updn, rate)\n",
    "\n",
    "    stocks = pd.DataFrame(stocks).T\n",
    "    stocks.columns = ['code','name', 'price', 'updn', 'rate']\n",
    "    # stocks.index.names = ['code']\n",
    "    # stocks.to_sql('stock_min', conn, if_exists='replace')\n",
    "    return stocks"
   ]
  },
  {
   "cell_type": "code",
   "execution_count": 9,
   "metadata": {},
   "outputs": [
    {
     "data": {
      "text/html": [
       "<div>\n",
       "<table border=\"1\" class=\"dataframe\">\n",
       "  <thead>\n",
       "    <tr style=\"text-align: right;\">\n",
       "      <th></th>\n",
       "      <th>code</th>\n",
       "      <th>name</th>\n",
       "      <th>price</th>\n",
       "      <th>updn</th>\n",
       "      <th>rate</th>\n",
       "    </tr>\n",
       "  </thead>\n",
       "  <tbody>\n",
       "    <tr>\n",
       "      <th>000020</th>\n",
       "      <td>000020</td>\n",
       "      <td>동화약품</td>\n",
       "      <td>10650</td>\n",
       "      <td>0</td>\n",
       "      <td>0</td>\n",
       "    </tr>\n",
       "    <tr>\n",
       "      <th>000030</th>\n",
       "      <td>000030</td>\n",
       "      <td>우리은행</td>\n",
       "      <td>16900</td>\n",
       "      <td>50</td>\n",
       "      <td>0.3</td>\n",
       "    </tr>\n",
       "    <tr>\n",
       "      <th>000040</th>\n",
       "      <td>000040</td>\n",
       "      <td>KR모터스</td>\n",
       "      <td>581</td>\n",
       "      <td>-9</td>\n",
       "      <td>-1.53</td>\n",
       "    </tr>\n",
       "    <tr>\n",
       "      <th>000050</th>\n",
       "      <td>000050</td>\n",
       "      <td>경방</td>\n",
       "      <td>12950</td>\n",
       "      <td>50</td>\n",
       "      <td>0.39</td>\n",
       "    </tr>\n",
       "    <tr>\n",
       "      <th>000060</th>\n",
       "      <td>000060</td>\n",
       "      <td>메리츠화재</td>\n",
       "      <td>18550</td>\n",
       "      <td>-100</td>\n",
       "      <td>-0.54</td>\n",
       "    </tr>\n",
       "  </tbody>\n",
       "</table>\n",
       "</div>"
      ],
      "text/plain": [
       "          code   name  price  updn  rate\n",
       "000020  000020   동화약품  10650     0     0\n",
       "000030  000030   우리은행  16900    50   0.3\n",
       "000040  000040  KR모터스    581    -9 -1.53\n",
       "000050  000050     경방  12950    50  0.39\n",
       "000060  000060  메리츠화재  18550  -100 -0.54"
      ]
     },
     "execution_count": 9,
     "metadata": {},
     "output_type": "execute_result"
    }
   ],
   "source": [
    "df = get_current_prices()\n",
    "df.head()"
   ]
  },
  {
   "cell_type": "code",
   "execution_count": 8,
   "metadata": {},
   "outputs": [
    {
     "data": {
      "text/html": [
       "<div>\n",
       "<table border=\"1\" class=\"dataframe\">\n",
       "  <thead>\n",
       "    <tr style=\"text-align: right;\">\n",
       "      <th></th>\n",
       "      <th>code</th>\n",
       "      <th>name</th>\n",
       "      <th>price</th>\n",
       "      <th>updn</th>\n",
       "      <th>rate</th>\n",
       "    </tr>\n",
       "  </thead>\n",
       "  <tbody>\n",
       "    <tr>\n",
       "      <th>000020</th>\n",
       "      <td>000020</td>\n",
       "      <td>동화약품</td>\n",
       "      <td>10600</td>\n",
       "      <td>-50</td>\n",
       "      <td>-0.47</td>\n",
       "    </tr>\n",
       "    <tr>\n",
       "      <th>000030</th>\n",
       "      <td>000030</td>\n",
       "      <td>우리은행</td>\n",
       "      <td>16850</td>\n",
       "      <td>0</td>\n",
       "      <td>0</td>\n",
       "    </tr>\n",
       "    <tr>\n",
       "      <th>000040</th>\n",
       "      <td>000040</td>\n",
       "      <td>KR모터스</td>\n",
       "      <td>582</td>\n",
       "      <td>-8</td>\n",
       "      <td>-1.36</td>\n",
       "    </tr>\n",
       "    <tr>\n",
       "      <th>000050</th>\n",
       "      <td>000050</td>\n",
       "      <td>경방</td>\n",
       "      <td>12950</td>\n",
       "      <td>50</td>\n",
       "      <td>0.39</td>\n",
       "    </tr>\n",
       "    <tr>\n",
       "      <th>000060</th>\n",
       "      <td>000060</td>\n",
       "      <td>메리츠화재</td>\n",
       "      <td>18550</td>\n",
       "      <td>-100</td>\n",
       "      <td>-0.54</td>\n",
       "    </tr>\n",
       "  </tbody>\n",
       "</table>\n",
       "</div>"
      ],
      "text/plain": [
       "          code   name  price  updn  rate\n",
       "000020  000020   동화약품  10600   -50 -0.47\n",
       "000030  000030   우리은행  16850     0     0\n",
       "000040  000040  KR모터스    582    -8 -1.36\n",
       "000050  000050     경방  12950    50  0.39\n",
       "000060  000060  메리츠화재  18550  -100 -0.54"
      ]
     },
     "execution_count": 8,
     "metadata": {},
     "output_type": "execute_result"
    }
   ],
   "source": []
  },
  {
   "cell_type": "code",
   "execution_count": null,
   "metadata": {
    "collapsed": true
   },
   "outputs": [],
   "source": []
  }
 ],
 "metadata": {
  "anaconda-cloud": {},
  "kernelspec": {
   "display_name": "Python [default]",
   "language": "python",
   "name": "python3"
  },
  "language_info": {
   "codemirror_mode": {
    "name": "ipython",
    "version": 3
   },
   "file_extension": ".py",
   "mimetype": "text/x-python",
   "name": "python",
   "nbconvert_exporter": "python",
   "pygments_lexer": "ipython3",
   "version": "3.5.2"
  }
 },
 "nbformat": 4,
 "nbformat_minor": 1
}
