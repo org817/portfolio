{
 "cells": [
  {
   "cell_type": "code",
   "execution_count": 1,
   "metadata": {
    "collapsed": true
   },
   "outputs": [],
   "source": [
    "import xlrd\n",
    "import pandas as pd\n",
    "import xlsxwriter\n",
    "import glob\n",
    "import os\n",
    "import re\n",
    "import numpy as np\n",
    "import sys\n",
    "import datetime"
   ]
  },
  {
   "cell_type": "code",
   "execution_count": 2,
   "metadata": {
    "collapsed": false,
    "scrolled": true
   },
   "outputs": [
    {
     "name": "stdout",
     "output_type": "stream",
     "text": [
      "FileName            684640\n",
      "CompanyName         684640\n",
      "Exchange            630955\n",
      "Ticker              684605\n",
      "CallDate            684631\n",
      "UploadDate          684640\n",
      "Role                684640\n",
      "OriginalPosition    675347\n",
      "PositionDetail      675308\n",
      "Name                684640\n",
      "FileIndex           684640\n",
      "NameIndex           684640\n",
      "PositionIndex1      684640\n",
      "PositionIndex2      684640\n",
      "dtype: int64\n",
      "FileIndex    18180\n",
      "NotInList    18180\n",
      "NameIndex    18180\n",
      "dtype: int64\n"
     ]
    }
   ],
   "source": [
    "path_executive = 'C:/Users/org81/SeekingAlpha_EarningCalls/Index_Executives.csv'\n",
    "df_executive = pd.read_csv(path_executive, encoding='utf-8')\n",
    "print(df_executive.count())\n",
    "\n",
    "path_notinlist = 'C:/Users/org81/SeekingAlpha_EarningCalls/NotInListCorrection.xlsx'\n",
    "df_notinlist = pd.read_excel(path_notinlist, encoding='utf-8')\n",
    "print(df_notinlist.count())"
   ]
  },
  {
   "cell_type": "code",
   "execution_count": 3,
   "metadata": {
    "collapsed": true
   },
   "outputs": [],
   "source": [
    "merged = pd.merge(df_executive, df_notinlist, on=['FileIndex','NameIndex'], how='left')"
   ]
  },
  {
   "cell_type": "code",
   "execution_count": null,
   "metadata": {
    "collapsed": false
   },
   "outputs": [],
   "source": [
    "merged[~pd.isnull(merged['NotInList'])]"
   ]
  },
  {
   "cell_type": "code",
   "execution_count": 5,
   "metadata": {
    "collapsed": false
   },
   "outputs": [],
   "source": [
    "merged.to_csv('Included_Index_Executives.csv', index=False, encoding='utf-8')"
   ]
  },
  {
   "cell_type": "markdown",
   "metadata": {},
   "source": [
    "# Start"
   ]
  },
  {
   "cell_type": "code",
   "execution_count": 6,
   "metadata": {
    "collapsed": false,
    "scrolled": true
   },
   "outputs": [
    {
     "name": "stdout",
     "output_type": "stream",
     "text": [
      "FileName            686164\n",
      "CompanyName         686164\n",
      "Exchange            632245\n",
      "Ticker              686129\n",
      "CallDate            686155\n",
      "UploadDate          686164\n",
      "Role                686164\n",
      "OriginalPosition    676728\n",
      "PositionDetail      676689\n",
      "Name                686164\n",
      "FileIndex           686164\n",
      "NameIndex           686164\n",
      "PositionIndex1      686164\n",
      "PositionIndex2      686164\n",
      "NotInList            30240\n",
      "dtype: int64\n"
     ]
    }
   ],
   "source": [
    "path_executive = 'C:/Users/org81/SeekingAlpha_EarningCalls/Included_Index_Executives.csv'\n",
    "df_executive = pd.read_csv(path_executive, encoding='utf-8')\n",
    "print(df_executive.count())"
   ]
  },
  {
   "cell_type": "code",
   "execution_count": null,
   "metadata": {
    "collapsed": true
   },
   "outputs": [],
   "source": []
  }
 ],
 "metadata": {
  "anaconda-cloud": {},
  "kernelspec": {
   "display_name": "Python [default]",
   "language": "python",
   "name": "python3"
  },
  "language_info": {
   "codemirror_mode": {
    "name": "ipython",
    "version": 3
   },
   "file_extension": ".py",
   "mimetype": "text/x-python",
   "name": "python",
   "nbconvert_exporter": "python",
   "pygments_lexer": "ipython3",
   "version": "3.5.2"
  }
 },
 "nbformat": 4,
 "nbformat_minor": 1
}
