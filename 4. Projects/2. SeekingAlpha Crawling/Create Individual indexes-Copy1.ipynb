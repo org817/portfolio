{
 "cells": [
  {
   "cell_type": "code",
   "execution_count": null,
   "metadata": {
    "collapsed": true
   },
   "outputs": [],
   "source": [
    "import xlrd\n",
    "import pandas as pd\n",
    "import xlsxwriter\n",
    "import glob\n",
    "import os\n",
    "import re\n",
    "import numpy as np\n",
    "import sys\n",
    "import datetime"
   ]
  },
  {
   "cell_type": "code",
   "execution_count": null,
   "metadata": {
    "collapsed": false
   },
   "outputs": [],
   "source": [
    "path1 = 'C:/Users/org81/Dropbox/Data_analysis/seekingalpha/full_indexed_revised.csv'\n",
    "df1 = pd.read_csv(path1, encoding='utf-8')\n",
    "df1.count()"
   ]
  },
  {
   "cell_type": "code",
   "execution_count": null,
   "metadata": {
    "collapsed": false
   },
   "outputs": [],
   "source": [
    "path1 = 'C:/Users/Rocku/Dropbox/Data_analysis/seekingalpha/index_file.csv'\n",
    "df1 = pd.read_csv(path1)\n",
    "df1.count()"
   ]
  },
  {
   "cell_type": "code",
   "execution_count": null,
   "metadata": {
    "collapsed": false
   },
   "outputs": [],
   "source": [
    "df_ex = df1.loc[df1['Role'] == 'Executives']\n",
    "df_ex[:100]"
   ]
  },
  {
   "cell_type": "code",
   "execution_count": null,
   "metadata": {
    "collapsed": true
   },
   "outputs": [],
   "source": [
    "file_names = list(set(df_ex['FileName'].tolist()))"
   ]
  },
  {
   "cell_type": "code",
   "execution_count": null,
   "metadata": {
    "collapsed": false,
    "scrolled": false
   },
   "outputs": [],
   "source": [
    "len(file_names)"
   ]
  },
  {
   "cell_type": "code",
   "execution_count": null,
   "metadata": {
    "collapsed": false
   },
   "outputs": [],
   "source": [
    "columns = ['FileName', 'CompanyName', 'Exchange', 'Ticker', \n",
    "           'CallDate', 'UploadDate', 'Role', 'OriginalPosition', 'PositionDetail', 'Name', \n",
    "           'FileIndex','NameIndex', 'PositionIndex1', 'PositionIndex2']\n",
    "\n",
    "df = pd.DataFrame(columns=columns)\n",
    "\n",
    "print('--------------start indexing--------------')\n",
    "\n",
    "file_index = 90000\n",
    "\n",
    "for f_index, file_name in enumerate(file_names[90000:]):\n",
    "    file_index += 1\n",
    "    \n",
    "    if (file_index % 1000 == 1):\n",
    "        print(file_index, ': Proceeding', datetime.datetime.now())\n",
    "        \n",
    "    df_indi = df_ex[df_ex['FileName'] == file_name]\n",
    "    \n",
    "    name_index = 0\n",
    "    for person_index, person_row in df_indi.iterrows():\n",
    "        positions = str(person_row['Position'])\n",
    "        positions = positions.replace(' and ', ', ')\n",
    "        positions_lists = re.split(r', ', positions)\n",
    "        name_index += 1\n",
    "        \n",
    "        for position_index, position_row in enumerate(positions_lists):\n",
    "            data_dict = {}\n",
    "            data_dict['FileName'] = person_row['FileName']\n",
    "            data_dict['UploadDate'] = person_row['UploadDate']\n",
    "            data_dict['CompanyName'] = person_row['CompanyName']\n",
    "            data_dict['Exchange'] = person_row['Exchange']\n",
    "            data_dict['Ticker'] =person_row['Ticker']\n",
    "            data_dict['CallDate'] = person_row['CallDate']\n",
    "            data_dict['Role'] = person_row['Role']\n",
    "            data_dict['Name'] = person_row['Name']\n",
    "            data_dict['PositionDetail'] = position_row\n",
    "            data_dict['OriginalPosition'] = positions\n",
    "            data_dict['FileIndex'] = file_index + 1\n",
    "            data_dict['NameIndex'] = name_index\n",
    "            data_dict['PositionIndex1'] = name_index\n",
    "            data_dict['PositionIndex2'] = position_index + 1\n",
    "\n",
    "\n",
    "            df_new = pd.DataFrame([data_dict], columns=columns)\n",
    "            df = df.append(df_new)\n",
    "\n",
    "print('--------------end indexing--------------')"
   ]
  },
  {
   "cell_type": "code",
   "execution_count": null,
   "metadata": {
    "collapsed": true
   },
   "outputs": [],
   "source": [
    "df.to_csv('full_indexed.csv', header='column_names', index=False, encoding='utf-8')"
   ]
  }
 ],
 "metadata": {
  "anaconda-cloud": {},
  "kernelspec": {
   "display_name": "Python 3",
   "language": "python",
   "name": "python3"
  },
  "language_info": {
   "codemirror_mode": {
    "name": "ipython",
    "version": 3
   },
   "file_extension": ".py",
   "mimetype": "text/x-python",
   "name": "python",
   "nbconvert_exporter": "python",
   "pygments_lexer": "ipython3",
   "version": "3.5.1"
  }
 },
 "nbformat": 4,
 "nbformat_minor": 0
}
