{
 "cells": [
  {
   "cell_type": "code",
   "execution_count": 2,
   "metadata": {},
   "outputs": [],
   "source": [
    "import requests\n",
    "import pandas as pd\n",
    "import time\n",
    "import random\n",
    "from bs4 import BeautifulSoup as soup\n",
    "import lxml\n",
    "import re\n",
    "import os\n",
    "from fake_useragent import UserAgent\n",
    "import urllib\n",
    "from multiprocessing import Process\n"
   ]
  },
  {
   "cell_type": "code",
   "execution_count": 3,
   "metadata": {},
   "outputs": [
    {
     "name": "stdout",
     "output_type": "stream",
     "text": [
      "total number of files : 5293\n"
     ]
    }
   ],
   "source": [
    "base_url = \"https://www.sec.gov/files/EDGAR_LogFileData_thru_Jun2017.html\"\n",
    "data_files = requests.get(base_url).text\n",
    "soup_obj = soup(data_files, 'lxml')\n",
    "data_list = soup_obj.find('body').get_text().splitlines()\n",
    "data_list = data_list[2:]\n",
    "\n",
    "print('total number of files :', len(data_list))\n",
    "# data_list = data_list[4612:]"
   ]
  },
  {
   "cell_type": "code",
   "execution_count": 5,
   "metadata": {
    "scrolled": true
   },
   "outputs": [],
   "source": [
    "par_data = []\n",
    "\n",
    "partition = 4\n",
    "total_len =len(data_list)\n",
    "part = round(total_len/partition)\n",
    "\n",
    "for i in range(partition):\n",
    "    da = []\n",
    "    try:\n",
    "        da = data_list[i*part:(i+1)*part]\n",
    "    except IndexError:\n",
    "        da = data_list[i*part:]\n",
    "    par_data.append(da)\n",
    "    \n",
    "def download_log(data_list):\n",
    "    print(data_list)\n",
    "#     for i, down_indi in enumerate(data_list):\n",
    "#         filename = down_indi.split('/')[-1]\n",
    "#         urllib.request.urlretrieve('http://'+down_indi, \"D:/seclogdown/\" + filename)\n",
    "#         print('download :', down_indi)\n",
    "\n",
    "procs = []\n",
    "for i in range(partition):\n",
    "    proc = Process(target=download_log, args=(i,))\n",
    "    procs.append(proc)\n",
    "    proc.start()\n",
    "\n",
    "for proc in procs:\n",
    "    proc.join()"
   ]
  }
 ],
 "metadata": {
  "anaconda-cloud": {},
  "kernelspec": {
   "display_name": "Python [default]",
   "language": "python",
   "name": "python3"
  },
  "language_info": {
   "codemirror_mode": {
    "name": "ipython",
    "version": 3
   },
   "file_extension": ".py",
   "mimetype": "text/x-python",
   "name": "python",
   "nbconvert_exporter": "python",
   "pygments_lexer": "ipython3",
   "version": "3.5.2"
  }
 },
 "nbformat": 4,
 "nbformat_minor": 2
}
