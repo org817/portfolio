{
 "cells": [
  {
   "cell_type": "code",
   "execution_count": 107,
   "metadata": {},
   "outputs": [],
   "source": [
    "import os\n",
    "import pandas as pd\n",
    "import numpy as np\n",
    "import time\n",
    "import random\n",
    "import urllib\n",
    "import re\n",
    "\n",
    "from selenium import webdriver\n",
    "from selenium.webdriver.common.by import By\n",
    "from selenium.webdriver.support.ui import WebDriverWait\n",
    "import selenium.webdriver.support.expected_conditions as EC\n",
    "from selenium.common.exceptions import TimeoutException"
   ]
  },
  {
   "cell_type": "code",
   "execution_count": 109,
   "metadata": {
    "scrolled": true
   },
   "outputs": [
    {
     "name": "stdout",
     "output_type": "stream",
     "text": [
      "Total number of Companies : 6788\n"
     ]
    },
    {
     "name": "stderr",
     "output_type": "stream",
     "text": [
      "C:\\Users\\Rocku\\Anaconda64\\lib\\site-packages\\ipykernel\\__main__.py:3: SettingWithCopyWarning: \n",
      "A value is trying to be set on a copy of a slice from a DataFrame.\n",
      "Try using .loc[row_indexer,col_indexer] = value instead\n",
      "\n",
      "See the caveats in the documentation: http://pandas.pydata.org/pandas-docs/stable/indexing.html#indexing-view-versus-copy\n",
      "  app.launch_new_instance()\n",
      "C:\\Users\\Rocku\\Anaconda64\\lib\\site-packages\\ipykernel\\__main__.py:5: SettingWithCopyWarning: \n",
      "A value is trying to be set on a copy of a slice from a DataFrame.\n",
      "Try using .loc[row_indexer,col_indexer] = value instead\n",
      "\n",
      "See the caveats in the documentation: http://pandas.pydata.org/pandas-docs/stable/indexing.html#indexing-view-versus-copy\n"
     ]
    }
   ],
   "source": [
    "tass = pd.read_excel('tass_excel.xlsx')\n",
    "comp = tass[pd.notnull(tass.loc[:,'CompanyName'])]\n",
    "comp['CompName'] = comp['CompanyName'].str.replace('.','').replace(regex=True,to_replace=r'\\(.*\\)',value=r'').str.strip()\n",
    "comp_abbr = ['llc','inc','lp','ltd','sa','llp','lc','co','corp','ldc','limited','corperation']\n",
    "comp['CompNameRep'] = np.where(comp['CompName'].str.rsplit(' ',1).str[1].str.lower().isin(comp_abbr), comp['CompName'].str.rsplit(' ',1).str[0], comp['CompName'])\n",
    "print('Total number of Companies :',len(comp))"
   ]
  },
  {
   "cell_type": "code",
   "execution_count": 105,
   "metadata": {
    "collapsed": true
   },
   "outputs": [],
   "source": [
    "driver = webdriver.Chrome('chromedriver.exe')"
   ]
  },
  {
   "cell_type": "code",
   "execution_count": 106,
   "metadata": {},
   "outputs": [],
   "source": [
    "for ind, company in comp.iterrows():\n",
    "    ex_comp_id = company['CompanyID']\n",
    "    ex_comp_name = company['CompNameRep']\n",
    "    driver.switch_to_window(driver.window_handles[0])\n",
    "\n",
    "    driver.get(\"http://www.lexisnexis.com/hottopics/lnacademic\")\n",
    "\n",
    "    #Search keyword (submit)\n",
    "    time.sleep(3)\n",
    "    driver.switch_to.frame(\"mainFrame\")\n",
    "    elem = driver.find_element_by_id('terms')\n",
    "    elem.clear()\n",
    "    elem.send_keys(ex_comp_name)\n",
    "    elem.submit()\n",
    "\n",
    "    time.sleep(3 + (random.random() * 3))\n",
    "    driver.switch_to_window(driver.window_handles[0])\n",
    "    driver.switch_to_default_content()\n",
    "    driver.switch_to_frame('mainFrame')\n",
    "    dyn_frame = driver.find_element_by_xpath('//frame[contains(@name, \"fr_resultsNav\")]')\n",
    "    framename = dyn_frame.get_attribute('name')\n",
    "    driver.switch_to_frame(framename)\n",
    "    # Get total number of news\n",
    "    total_news = int(driver.find_element_by_name('totalDocsInResult').get_attribute('value'))\n",
    "\n",
    "    if total_news > 500 & total_news <= 3000:\n",
    "        initial = 1\n",
    "        final = 500\n",
    "        batch = 0\n",
    "        while final <= total_news and final >= initial:\n",
    "            batch += 1\n",
    "            time.sleep(3 + (random.random() * 3))\n",
    "            driver.find_element_by_css_selector('img[alt=\\\"Download Documents\\\"]').click()\n",
    "            driver.switch_to_window(driver.window_handles[1])\n",
    "            driver.find_element_by_xpath('//select[@id=\"delFmt\"]/option[text()=\"Text\"]').click()\n",
    "            driver.find_element_by_id('rangetextbox').clear()\n",
    "            driver.find_element_by_id('rangetextbox').send_keys('{}-{}'.format(initial, final))\n",
    "            time.sleep(1)\n",
    "            driver.find_element_by_css_selector('img[alt=\\\"Download\\\"]').click()\n",
    "\n",
    "            try:\n",
    "                element = WebDriverWait(driver, 120).until(EC.element_to_be_clickable((By.PARTIAL_LINK_TEXT, '.TXT')))\n",
    "                results_url = driver.find_element_by_partial_link_text('.TXT')\n",
    "                url_href = results_url.get_attribute('href')\n",
    "                filename = 'dnldFileName=' + '--'.join([str(ex_comp_id),str(ex_comp_name),str(batch)]) + '.txt'\n",
    "                replaced_href=re.sub(r'dnldFileName.*TXT',filename, url_href, flags=re.DOTALL)\n",
    "                driver.execute_script(\"arguments[0].href ='%s';\" %replaced_href, results_url)\n",
    "                results_url.click()\n",
    "                time.sleep(5)\n",
    "                driver.close()\n",
    "            except TimeoutException:\n",
    "                pass\n",
    "\n",
    "            initial += 500\n",
    "            if final + 500 > total_news:\n",
    "                final = total_news\n",
    "            else:\n",
    "                final += 500\n",
    "            driver.switch_to_window(driver.window_handles[0])\n",
    "            driver.switch_to_default_content()\n",
    "            driver.switch_to_frame('mainFrame')\n",
    "            framelist = driver.find_elements_by_xpath('//frame[contains(@name, \"fr_resultsNav\")]')\n",
    "            framename = framelist[0].get_attribute('name')\n",
    "            driver.switch_to_frame(framename)\n",
    "    \n",
    "    elif total_news <= 500:\n",
    "        time.sleep(3 + (random.random() * 3))\n",
    "        driver.find_element_by_css_selector('img[alt=\\\"Download Documents\\\"]').click()\n",
    "        driver.switch_to_window(driver.window_handles[1])\n",
    "        driver.find_element_by_xpath('//select[@id=\"delFmt\"]/option[text()=\"Text\"]').click()\n",
    "        driver.find_element_by_id('rangetextbox').clear()\n",
    "        driver.find_element_by_id('rangetextbox').send_keys('{}-{}'.format(initial, final))\n",
    "        time.sleep(1)\n",
    "        driver.find_element_by_css_selector('img[alt=\\\"Download\\\"]').click()\n",
    "        \n",
    "        try:\n",
    "            element = WebDriverWait(driver, 120).until(EC.element_to_be_clickable((By.PARTIAL_LINK_TEXT, '.TXT')))\n",
    "            results_url = driver.find_element_by_partial_link_text('.TXT')\n",
    "            url_href = results_url.get_attribute('href')\n",
    "            filename = 'dnldFileName=' + '--'.join([str(ex_comp_id),str(ex_comp_name)]) + '.txt'\n",
    "            replaced_href=re.sub(r'dnldFileName.*TXT',filename, url_href, flags=re.DOTALL)\n",
    "            driver.execute_script(\"arguments[0].href ='%s';\" %replaced_href, results_url)\n",
    "            results_url.click()\n",
    "            time.sleep(5)\n",
    "            driver.close()\n",
    "        except TimeoutException:\n",
    "            pass\n",
    "    \n",
    "    else:\n",
    "        pass\n",
    "        "
   ]
  }
 ],
 "metadata": {
  "anaconda-cloud": {},
  "kernelspec": {
   "display_name": "Python [default]",
   "language": "python",
   "name": "python3"
  },
  "language_info": {
   "codemirror_mode": {
    "name": "ipython",
    "version": 3
   },
   "file_extension": ".py",
   "mimetype": "text/x-python",
   "name": "python",
   "nbconvert_exporter": "python",
   "pygments_lexer": "ipython3",
   "version": "3.5.2"
  }
 },
 "nbformat": 4,
 "nbformat_minor": 1
}
